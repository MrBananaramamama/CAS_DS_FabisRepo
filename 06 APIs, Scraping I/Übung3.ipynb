{
 "cells": [
  {
   "cell_type": "markdown",
   "metadata": {},
   "source": [
    "# Übung 3"
   ]
  },
  {
   "cell_type": "markdown",
   "metadata": {},
   "source": [
    "#### 1. Importiere requests, BeautifulSoup und Pandas"
   ]
  },
  {
   "cell_type": "code",
   "execution_count": 9,
   "metadata": {},
   "outputs": [],
   "source": [
    "import requests\n",
    "from bs4 import BeautifulSoup\n",
    "import pandas as pd"
   ]
  },
  {
   "cell_type": "markdown",
   "metadata": {},
   "source": [
    "#### 2. Lade den Inhalt des Parkhaus-RSS-Feeds in eine Variabel"
   ]
  },
  {
   "cell_type": "code",
   "execution_count": 12,
   "metadata": {},
   "outputs": [
    {
     "data": {
      "text/plain": [
       "<Response [200]>"
      ]
     },
     "execution_count": 12,
     "metadata": {},
     "output_type": "execute_result"
    }
   ],
   "source": [
    "requests.get('http://www.plszh.ch/plsFeed/rss')"
   ]
  },
  {
   "cell_type": "markdown",
   "metadata": {},
   "source": [
    "#### 3. Ziehen wir alle Daten heraus und machen daraus eine Liste"
   ]
  },
  {
   "cell_type": "code",
   "execution_count": 70,
   "metadata": {},
   "outputs": [
    {
     "data": {
      "text/plain": [
       "'<?xml version=\"1.0\" encoding=\"UTF-8\"?>\\r\\n<rss xmlns:dc=\"http://purl.org/dc/elements/1.1/\" version=\"2.0\">\\r\\n  <channel>\\r\\n    <title>FEED Parkleitsystem Stadt Zürich</title>\\r\\n    <link>http://www.plszh.ch/plsFeed/rss</link>\\r\\n    <description>http://www.plszh.ch/plsFeed/rss?type=rss_0.92 | rss_0.93 | rss_0.94 | rss_1.0 | rss_2.0 (=default) | atom_0.3 | atom_1.0</description>\\r\\n    <copyright>Nutzungsbedingungen entsprechen der Creative-Commons-Null-Lizenz (CC-0)</copyright>\\r\\n    <dc:rights>Nutzungsbedingungen entsprechen der Creative-Commons-Null-Lizenz (CC-0)</dc:rights>\\r\\n    <item>\\r\\n      <title>Parkgarage am Central / Seilergraben</title>\\r\\n      <link>http://www.plszh.ch/plsNeu/parkhaus/central.jsp?pid=central</link>\\r\\n      <description>open /    1</description>\\r\\n      <guid>http://www.plszh.ch/plsNeu/parkhaus/central.jsp?pid=central</guid>\\r\\n    </item>\\r\\n    <item>\\r\\n      <title>Parkhaus Accu / Otto-Schütz-Weg</title>\\r\\n      <link>http://www.plszh.ch/plsNeu/parkhaus/accu.jsp?pid=accu</link>\\r\\n      <description>open /  130</description>\\r\\n      <guid>http://www.plszh.ch/plsNeu/parkhaus/accu.jsp?pid=accu</guid>\\r\\n    </item>\\r\\n    <item>\\r\\n      <title>Parkhaus Albisriederplatz / Badenerstrasse 380</title>\\r\\n      <link>http://www.plszh.ch/plsNeu/parkhaus/albisriederplatz.jsp?pid=albisriederplatz</link>\\r\\n      <description>open /   56</description>\\r\\n      <guid>http://www.plszh.ch/plsNeu/parkhaus/albisriederplatz.jsp?pid=albisriederplatz</guid>\\r\\n    </item>\\r\\n    <item>\\r\\n      <title>Parkhaus Bleicherweg / Beethovenstrasse 35</title>\\r\\n      <link>http://www.plszh.ch/plsNeu/parkhaus/bleicherweg.jsp?pid=bleicherweg</link>\\r\\n      <description>open /    4</description>\\r\\n      <guid>http://www.plszh.ch/plsNeu/parkhaus/bleicherweg.jsp?pid=bleicherweg</guid>\\r\\n    </item>\\r\\n    <item>\\r\\n      <title>Parkhaus Center Eleven / Sophie-Täuber-Strasse 4</title>\\r\\n      <link>http://www.plszh.ch/plsNeu/parkhaus/center_11.jsp?pid=center_11</link>\\r\\n      <description>open /  146</description>\\r\\n      <guid>http://www.plszh.ch/plsNeu/parkhaus/center_11.jsp?pid=center_11</guid>\\r\\n    </item>\\r\\n    <item>\\r\\n      <title>Parkhaus City Parking / Gessnerallee 14</title>\\r\\n      <link>http://www.plszh.ch/plsNeu/parkhaus/cp.jsp?pid=cp</link>\\r\\n      <description>open /  111</description>\\r\\n      <guid>http://www.plszh.ch/plsNeu/parkhaus/cp.jsp?pid=cp</guid>\\r\\n    </item>\\r\\n    <item>\\r\\n      <title>Parkhaus Cityport / Affolternstrasse 56</title>\\r\\n      <link>http://www.plszh.ch/plsNeu/parkhaus/cityport.jsp?pid=cityport</link>\\r\\n      <description>open /   19</description>\\r\\n      <guid>http://www.plszh.ch/plsNeu/parkhaus/cityport.jsp?pid=cityport</guid>\\r\\n    </item>\\r\\n    <item>\\r\\n      <title>Parkhaus Crowne Plaza / Badenerstrasse 420</title>\\r\\n      <link>http://www.plszh.ch/plsNeu/parkhaus/crowne_plaza.jsp?pid=crowne_plaza</link>\\r\\n      <description>open /  168</description>\\r\\n      <guid>http://www.plszh.ch/plsNeu/parkhaus/crowne_plaza.jsp?pid=crowne_plaza</guid>\\r\\n    </item>\\r\\n    <item>\\r\\n      <title>Parkhaus Dorflinde / Schwamendingenstrasse 31</title>\\r\\n      <link>http://www.plszh.ch/plsNeu/parkhaus/dorflinde.jsp?pid=dorflinde</link>\\r\\n      <description>open /   32</description>\\r\\n      <guid>http://www.plszh.ch/plsNeu/parkhaus/dorflinde.jsp?pid=dorflinde</guid>\\r\\n    </item>\\r\\n    <item>\\r\\n      <title>Parkhaus Feldegg / Riesbachstrasse 7</title>\\r\\n      <link>http://www.plszh.ch/plsNeu/parkhaus/feldegg.jsp?pid=feldegg</link>\\r\\n      <description>open /   31</description>\\r\\n      <guid>http://www.plszh.ch/plsNeu/parkhaus/feldegg.jsp?pid=feldegg</guid>\\r\\n    </item>\\r\\n    <item>\\r\\n      <title>Parkhaus Globus / Löwenstrasse 50</title>\\r\\n      <link>http://www.plszh.ch/plsNeu/parkhaus/globus.jsp?pid=globus</link>\\r\\n      <description>open /   29</description>\\r\\n      <guid>http://www.plszh.ch/plsNeu/parkhaus/globus.jsp?pid=globus</guid>\\r\\n    </item>\\r\\n    <item>\\r\\n      <title>Parkhaus Hardau II / Bullingerstrasse 73</title>\\r\\n      <link>http://www.plszh.ch/plsNeu/parkhaus/hardau.jsp?pid=hardau</link>\\r\\n      <description>open /   98</description>\\r\\n      <guid>http://www.plszh.ch/plsNeu/parkhaus/hardau.jsp?pid=hardau</guid>\\r\\n    </item>\\r\\n    <item>\\r\\n      <title>Parkhaus Hauptbahnhof / Sihlquai 41</title>\\r\\n      <link>http://www.plszh.ch/plsNeu/parkhaus/hb.jsp?pid=hb</link>\\r\\n      <description>open /   63</description>\\r\\n      <guid>http://www.plszh.ch/plsNeu/parkhaus/hb.jsp?pid=hb</guid>\\r\\n    </item>\\r\\n    <item>\\r\\n      <title>Parkhaus Hohe Promenade / Rämistrasse 22a</title>\\r\\n      <link>http://www.plszh.ch/plsNeu/parkhaus/promenade.jsp?pid=promenade</link>\\r\\n      <description>open /  291</description>\\r\\n      <guid>http://www.plszh.ch/plsNeu/parkhaus/promenade.jsp?pid=promenade</guid>\\r\\n    </item>\\r\\n    <item>\\r\\n      <title>Parkhaus Jelmoli / Steinmühleplatz 1</title>\\r\\n      <link>http://www.plszh.ch/plsNeu/parkhaus/jelmoli.jsp?pid=jelmoli</link>\\r\\n      <description>open /   29</description>\\r\\n      <guid>http://www.plszh.ch/plsNeu/parkhaus/jelmoli.jsp?pid=jelmoli</guid>\\r\\n    </item>\\r\\n    <item>\\r\\n      <title>Parkhaus Jungholz / Jungholzstrasse 19</title>\\r\\n      <link>http://www.plszh.ch/plsNeu/parkhaus/jungholz.jsp?pid=jungholz</link>\\r\\n      <description>open /   86</description>\\r\\n      <guid>http://www.plszh.ch/plsNeu/parkhaus/jungholz.jsp?pid=jungholz</guid>\\r\\n    </item>\\r\\n    <item>\\r\\n      <title>Parkhaus Max-Bill-Platz / Armin-Bollinger-Weg</title>\\r\\n      <link>http://www.plszh.ch/plsNeu/parkhaus/max_bill_platz.jsp?pid=max_bill_platz</link>\\r\\n      <description>open /   77</description>\\r\\n      <guid>http://www.plszh.ch/plsNeu/parkhaus/max_bill_platz.jsp?pid=max_bill_platz</guid>\\r\\n    </item>\\r\\n    <item>\\r\\n      <title>Parkhaus Messe Zürich AG / Andreasstrasse 65</title>\\r\\n      <link>http://www.plszh.ch/plsNeu/parkhaus/messe.jsp?pid=messe</link>\\r\\n      <description>open /  999</description>\\r\\n      <guid>http://www.plszh.ch/plsNeu/parkhaus/messe.jsp?pid=messe</guid>\\r\\n    </item>\\r\\n    <item>\\r\\n      <title>Parkhaus Nordhaus / Siewerdtstrasse 8</title>\\r\\n      <link>http://www.plszh.ch/plsNeu/parkhaus/nordhaus.jsp?pid=nordhaus</link>\\r\\n      <description>open /   40</description>\\r\\n      <guid>http://www.plszh.ch/plsNeu/parkhaus/nordhaus.jsp?pid=nordhaus</guid>\\r\\n    </item>\\r\\n    <item>\\r\\n      <title>Parkhaus Octavo / Brown-Boveri-Strasse 2</title>\\r\\n      <link>http://www.plszh.ch/plsNeu/parkhaus/octavo.jsp?pid=octavo</link>\\r\\n      <description>open /  106</description>\\r\\n      <guid>http://www.plszh.ch/plsNeu/parkhaus/octavo.jsp?pid=octavo</guid>\\r\\n    </item>\\r\\n    <item>\\r\\n      <title>Parkhaus Opéra / Schillerstrasse 5</title>\\r\\n      <link>http://www.plszh.ch/plsNeu/parkhaus/opera.jsp?pid=opera</link>\\r\\n      <description>open /   73</description>\\r\\n      <guid>http://www.plszh.ch/plsNeu/parkhaus/opera.jsp?pid=opera</guid>\\r\\n    </item>\\r\\n    <item>\\r\\n      <title>Parkhaus P West / Förrlibuckstrasse 151</title>\\r\\n      <link>http://www.plszh.ch/plsNeu/parkhaus/p_west.jsp?pid=p_west</link>\\r\\n      <description>open /  258</description>\\r\\n      <guid>http://www.plszh.ch/plsNeu/parkhaus/p_west.jsp?pid=p_west</guid>\\r\\n    </item>\\r\\n    <item>\\r\\n      <title>Parkhaus Park Hyatt / Beethovenstrasse 21</title>\\r\\n      <link>http://www.plszh.ch/plsNeu/parkhaus/park_hyatt.jsp?pid=park_hyatt</link>\\r\\n      <description>open /  107</description>\\r\\n      <guid>http://www.plszh.ch/plsNeu/parkhaus/park_hyatt.jsp?pid=park_hyatt</guid>\\r\\n    </item>\\r\\n    <item>\\r\\n      <title>Parkhaus Parkside / Sophie-Täuber-Strasse 10</title>\\r\\n      <link>http://www.plszh.ch/plsNeu/parkhaus/parkside.jsp?pid=parkside</link>\\r\\n      <description>open /    0</description>\\r\\n      <guid>http://www.plszh.ch/plsNeu/parkhaus/parkside.jsp?pid=parkside</guid>\\r\\n    </item>\\r\\n    <item>\\r\\n      <title>Parkhaus Pfingstweid / Pfingstweidstrasse 1</title>\\r\\n      <link>http://www.plszh.ch/plsNeu/parkhaus/pfingstweid.jsp?pid=pfingstweid</link>\\r\\n      <description>open /   64</description>\\r\\n      <guid>http://www.plszh.ch/plsNeu/parkhaus/pfingstweid.jsp?pid=pfingstweid</guid>\\r\\n    </item>\\r\\n    <item>\\r\\n      <title>Parkhaus Stampfenbach / Niklausstrasse 1</title>\\r\\n      <link>http://www.plszh.ch/plsNeu/parkhaus/stampfenbach.jsp?pid=stampfenbach</link>\\r\\n      <description>open /   83</description>\\r\\n      <guid>http://www.plszh.ch/plsNeu/parkhaus/stampfenbach.jsp?pid=stampfenbach</guid>\\r\\n    </item>\\r\\n    <item>\\r\\n      <title>Parkhaus Talgarten / Nüschelerstrasse 31</title>\\r\\n      <link>http://www.plszh.ch/plsNeu/parkhaus/talgarten.jsp?pid=talgarten</link>\\r\\n      <description>open /    5</description>\\r\\n      <guid>http://www.plszh.ch/plsNeu/parkhaus/talgarten.jsp?pid=talgarten</guid>\\r\\n    </item>\\r\\n    <item>\\r\\n      <title>Parkhaus USZ Nord / Frauenklinikstrasse</title>\\r\\n      <link>http://www.plszh.ch/plsNeu/parkhaus/unispital_nord.jsp?pid=unispital_nord</link>\\r\\n      <description>open /   16</description>\\r\\n      <guid>http://www.plszh.ch/plsNeu/parkhaus/unispital_nord.jsp?pid=unispital_nord</guid>\\r\\n    </item>\\r\\n    <item>\\r\\n      <title>Parkhaus Uni Irchel / Winterthurerstrasse 181</title>\\r\\n      <link>http://www.plszh.ch/plsNeu/parkhaus/uni_irchel.jsp?pid=uni_irchel</link>\\r\\n      <description>open /  431</description>\\r\\n      <guid>http://www.plszh.ch/plsNeu/parkhaus/uni_irchel.jsp?pid=uni_irchel</guid>\\r\\n    </item>\\r\\n    <item>\\r\\n      <title>Parkhaus Urania / Uraniastrasse 3</title>\\r\\n      <link>http://www.plszh.ch/plsNeu/parkhaus/urania.jsp?pid=urania</link>\\r\\n      <description>open /  129</description>\\r\\n      <guid>http://www.plszh.ch/plsNeu/parkhaus/urania.jsp?pid=urania</guid>\\r\\n    </item>\\r\\n    <item>\\r\\n      <title>Parkhaus Utoquai / Färberstrasse 6</title>\\r\\n      <link>http://www.plszh.ch/plsNeu/parkhaus/utoquai.jsp?pid=utoquai</link>\\r\\n      <description>open /   22</description>\\r\\n      <guid>http://www.plszh.ch/plsNeu/parkhaus/utoquai.jsp?pid=utoquai</guid>\\r\\n    </item>\\r\\n    <item>\\r\\n      <title>Parkhaus Züri 11 Shopping / Nansenstrasse 5/7</title>\\r\\n      <link>http://www.plszh.ch/plsNeu/parkhaus/zueri11.jsp?pid=zueri11</link>\\r\\n      <description>open /   11</description>\\r\\n      <guid>http://www.plszh.ch/plsNeu/parkhaus/zueri11.jsp?pid=zueri11</guid>\\r\\n    </item>\\r\\n    <item>\\r\\n      <title>Parkhaus Zürichhorn / Dufourstrasse 142</title>\\r\\n      <link>http://www.plszh.ch/plsNeu/parkhaus/zuerichhorn.jsp?pid=zuerichhorn</link>\\r\\n      <description>open /   37</description>\\r\\n      <guid>http://www.plszh.ch/plsNeu/parkhaus/zuerichhorn.jsp?pid=zuerichhorn</guid>\\r\\n    </item>\\r\\n    <item>\\r\\n      <title>Parkplatz Eisfeld / Thurgauerstrasse 54</title>\\r\\n      <link>http://www.plszh.ch/plsNeu/parkhaus/eisfeld.jsp?pid=eisfeld</link>\\r\\n      <description>open /   42</description>\\r\\n      <guid>http://www.plszh.ch/plsNeu/parkhaus/eisfeld.jsp?pid=eisfeld</guid>\\r\\n    </item>\\r\\n    <item>\\r\\n      <title>Parkplatz Theater 11 / Dörfli-/Thurgauerstrasse</title>\\r\\n      <link>http://www.plszh.ch/plsNeu/parkhaus/theater_11.jsp?pid=theater_11</link>\\r\\n      <description>open /  133</description>\\r\\n      <guid>http://www.plszh.ch/plsNeu/parkhaus/theater_11.jsp?pid=theater_11</guid>\\r\\n    </item>\\r\\n    <item>\\r\\n      <title>Parkplatz USZ Süd / Gloriastrasse</title>\\r\\n      <link>http://www.plszh.ch/plsNeu/parkhaus/unispital_sued.jsp?pid=unispital_sued</link>\\r\\n      <description>open /    1</description>\\r\\n      <guid>http://www.plszh.ch/plsNeu/parkhaus/unispital_sued.jsp?pid=unispital_sued</guid>\\r\\n    </item>\\r\\n    <item>\\r\\n      <title>Puls 5 Parkgarage / Giessereistrasse 18</title>\\r\\n      <link>http://www.plszh.ch/plsNeu/parkhaus/puls5.jsp?pid=puls5</link>\\r\\n      <description>open /   16</description>\\r\\n      <guid>http://www.plszh.ch/plsNeu/parkhaus/puls5.jsp?pid=puls5</guid>\\r\\n    </item>\\r\\n  </channel>\\r\\n</rss>\\r\\n\\r\\n'"
      ]
     },
     "execution_count": 70,
     "metadata": {},
     "output_type": "execute_result"
    }
   ],
   "source": [
    "neue_liste = requests.get('http://www.plszh.ch/plsFeed/rss')\n",
    "neuer_text = neue_liste.text\n",
    "neuer_text"
   ]
  },
  {
   "cell_type": "markdown",
   "metadata": {},
   "source": [
    "#### 4. Ziehen wir alle Links heraus und machen daraus eine Liste"
   ]
  },
  {
   "cell_type": "code",
   "execution_count": 212,
   "metadata": {},
   "outputs": [
    {
     "name": "stdout",
     "output_type": "stream",
     "text": [
      "['0', '92', '0', '93', '0', '94', '1', '0', '2', '0', '0', '3', '1', '0']\n",
      "['1']\n",
      "['130']\n",
      "['56']\n",
      "['4']\n",
      "['146']\n",
      "['111']\n",
      "['19']\n",
      "['168']\n",
      "['32']\n",
      "['31']\n",
      "['29']\n",
      "['98']\n",
      "['63']\n",
      "['291']\n",
      "['29']\n",
      "['86']\n",
      "['77']\n",
      "['999']\n",
      "['40']\n",
      "['106']\n",
      "['73']\n",
      "['258']\n",
      "['107']\n",
      "['0']\n",
      "['64']\n",
      "['83']\n",
      "['5']\n",
      "['16']\n",
      "['431']\n",
      "['129']\n",
      "['22']\n",
      "['11']\n",
      "['37']\n",
      "['42']\n",
      "['133']\n",
      "['1']\n",
      "['16']\n"
     ]
    }
   ],
   "source": [
    "import re\n",
    "soup = BeautifulSoup(neuer_text,'xml')\n",
    "parkplätze_neu = soup.find_all('description')\n",
    "\n",
    "\n",
    "for pp_count in parkplätze_neu:\n",
    "    parkplätze_bl = re.findall('[0-9]+', pp_count.text)\n",
    "    print(parkplätze_bl)"
   ]
  },
  {
   "cell_type": "code",
   "execution_count": 197,
   "metadata": {},
   "outputs": [
    {
     "data": {
      "text/plain": [
       "[<description>http://www.plszh.ch/plsFeed/rss?type=rss_0.92 | rss_0.93 | rss_0.94 | rss_1.0 | rss_2.0 (=default) | atom_0.3 | atom_1.0</description>,\n",
       " <description>open /    1</description>,\n",
       " <description>open /  130</description>,\n",
       " <description>open /   56</description>,\n",
       " <description>open /    4</description>,\n",
       " <description>open /  146</description>,\n",
       " <description>open /  111</description>,\n",
       " <description>open /   19</description>,\n",
       " <description>open /  168</description>,\n",
       " <description>open /   32</description>,\n",
       " <description>open /   31</description>,\n",
       " <description>open /   29</description>,\n",
       " <description>open /   98</description>,\n",
       " <description>open /   63</description>,\n",
       " <description>open /  291</description>,\n",
       " <description>open /   29</description>,\n",
       " <description>open /   86</description>,\n",
       " <description>open /   77</description>,\n",
       " <description>open /  999</description>,\n",
       " <description>open /   40</description>,\n",
       " <description>open /  106</description>,\n",
       " <description>open /   73</description>,\n",
       " <description>open /  258</description>,\n",
       " <description>open /  107</description>,\n",
       " <description>open /    0</description>,\n",
       " <description>open /   64</description>,\n",
       " <description>open /   83</description>,\n",
       " <description>open /    5</description>,\n",
       " <description>open /   16</description>,\n",
       " <description>open /  431</description>,\n",
       " <description>open /  129</description>,\n",
       " <description>open /   22</description>,\n",
       " <description>open /   11</description>,\n",
       " <description>open /   37</description>,\n",
       " <description>open /   42</description>,\n",
       " <description>open /  133</description>,\n",
       " <description>open /    1</description>,\n",
       " <description>open /   16</description>]"
      ]
     },
     "execution_count": 197,
     "metadata": {},
     "output_type": "execute_result"
    }
   ],
   "source": [
    "parkplätze_neu"
   ]
  },
  {
   "cell_type": "code",
   "execution_count": null,
   "metadata": {},
   "outputs": [],
   "source": []
  },
  {
   "cell_type": "markdown",
   "metadata": {},
   "source": [
    "#### 5. Nun bauen wir eine Dictionary aus den beiden Listen mit dem ersten Key \"Datum\" und zweiten Key \"URL\"."
   ]
  },
  {
   "cell_type": "code",
   "execution_count": 76,
   "metadata": {},
   "outputs": [
    {
     "data": {
      "text/plain": [
       "[{'Garagen': 'FEED Parkleitsystem Stadt Zürich',\n",
       "  'Parkplätze': 'http://www.plszh.ch/plsFeed/rss?type=rss_0.92 | rss_0.93 | rss_0.94 | rss_1.0 | rss_2.0 (=default) | atom_0.3 | atom_1.0'},\n",
       " {'Garagen': 'Parkgarage am Central / Seilergraben',\n",
       "  'Parkplätze': 'open /    1'},\n",
       " {'Garagen': 'Parkhaus Accu / Otto-Schütz-Weg', 'Parkplätze': 'open /  130'},\n",
       " {'Garagen': 'Parkhaus Albisriederplatz / Badenerstrasse 380',\n",
       "  'Parkplätze': 'open /   56'},\n",
       " {'Garagen': 'Parkhaus Bleicherweg / Beethovenstrasse 35',\n",
       "  'Parkplätze': 'open /    4'},\n",
       " {'Garagen': 'Parkhaus Center Eleven / Sophie-Täuber-Strasse 4',\n",
       "  'Parkplätze': 'open /  146'},\n",
       " {'Garagen': 'Parkhaus City Parking / Gessnerallee 14',\n",
       "  'Parkplätze': 'open /  111'},\n",
       " {'Garagen': 'Parkhaus Cityport / Affolternstrasse 56',\n",
       "  'Parkplätze': 'open /   19'},\n",
       " {'Garagen': 'Parkhaus Crowne Plaza / Badenerstrasse 420',\n",
       "  'Parkplätze': 'open /  168'},\n",
       " {'Garagen': 'Parkhaus Dorflinde / Schwamendingenstrasse 31',\n",
       "  'Parkplätze': 'open /   32'},\n",
       " {'Garagen': 'Parkhaus Feldegg / Riesbachstrasse 7',\n",
       "  'Parkplätze': 'open /   31'},\n",
       " {'Garagen': 'Parkhaus Globus / Löwenstrasse 50', 'Parkplätze': 'open /   29'},\n",
       " {'Garagen': 'Parkhaus Hardau II / Bullingerstrasse 73',\n",
       "  'Parkplätze': 'open /   98'},\n",
       " {'Garagen': 'Parkhaus Hauptbahnhof / Sihlquai 41',\n",
       "  'Parkplätze': 'open /   63'},\n",
       " {'Garagen': 'Parkhaus Hohe Promenade / Rämistrasse 22a',\n",
       "  'Parkplätze': 'open /  291'},\n",
       " {'Garagen': 'Parkhaus Jelmoli / Steinmühleplatz 1',\n",
       "  'Parkplätze': 'open /   29'},\n",
       " {'Garagen': 'Parkhaus Jungholz / Jungholzstrasse 19',\n",
       "  'Parkplätze': 'open /   86'},\n",
       " {'Garagen': 'Parkhaus Max-Bill-Platz / Armin-Bollinger-Weg',\n",
       "  'Parkplätze': 'open /   77'},\n",
       " {'Garagen': 'Parkhaus Messe Zürich AG / Andreasstrasse 65',\n",
       "  'Parkplätze': 'open /  999'},\n",
       " {'Garagen': 'Parkhaus Nordhaus / Siewerdtstrasse 8',\n",
       "  'Parkplätze': 'open /   40'},\n",
       " {'Garagen': 'Parkhaus Octavo / Brown-Boveri-Strasse 2',\n",
       "  'Parkplätze': 'open /  106'},\n",
       " {'Garagen': 'Parkhaus Opéra / Schillerstrasse 5',\n",
       "  'Parkplätze': 'open /   73'},\n",
       " {'Garagen': 'Parkhaus P West / Förrlibuckstrasse 151',\n",
       "  'Parkplätze': 'open /  258'},\n",
       " {'Garagen': 'Parkhaus Park Hyatt / Beethovenstrasse 21',\n",
       "  'Parkplätze': 'open /  107'},\n",
       " {'Garagen': 'Parkhaus Parkside / Sophie-Täuber-Strasse 10',\n",
       "  'Parkplätze': 'open /    0'},\n",
       " {'Garagen': 'Parkhaus Pfingstweid / Pfingstweidstrasse 1',\n",
       "  'Parkplätze': 'open /   64'},\n",
       " {'Garagen': 'Parkhaus Stampfenbach / Niklausstrasse 1',\n",
       "  'Parkplätze': 'open /   83'},\n",
       " {'Garagen': 'Parkhaus Talgarten / Nüschelerstrasse 31',\n",
       "  'Parkplätze': 'open /    5'},\n",
       " {'Garagen': 'Parkhaus USZ Nord / Frauenklinikstrasse',\n",
       "  'Parkplätze': 'open /   16'},\n",
       " {'Garagen': 'Parkhaus Uni Irchel / Winterthurerstrasse 181',\n",
       "  'Parkplätze': 'open /  431'},\n",
       " {'Garagen': 'Parkhaus Urania / Uraniastrasse 3', 'Parkplätze': 'open /  129'},\n",
       " {'Garagen': 'Parkhaus Utoquai / Färberstrasse 6',\n",
       "  'Parkplätze': 'open /   22'},\n",
       " {'Garagen': 'Parkhaus Züri 11 Shopping / Nansenstrasse 5/7',\n",
       "  'Parkplätze': 'open /   11'},\n",
       " {'Garagen': 'Parkhaus Zürichhorn / Dufourstrasse 142',\n",
       "  'Parkplätze': 'open /   37'},\n",
       " {'Garagen': 'Parkplatz Eisfeld / Thurgauerstrasse 54',\n",
       "  'Parkplätze': 'open /   42'},\n",
       " {'Garagen': 'Parkplatz Theater 11 / Dörfli-/Thurgauerstrasse',\n",
       "  'Parkplätze': 'open /  133'},\n",
       " {'Garagen': 'Parkplatz USZ Süd / Gloriastrasse', 'Parkplätze': 'open /    1'},\n",
       " {'Garagen': 'Puls 5 Parkgarage / Giessereistrasse 18',\n",
       "  'Parkplätze': 'open /   16'}]"
      ]
     },
     "execution_count": 76,
     "metadata": {},
     "output_type": "execute_result"
    }
   ],
   "source": [
    "lst = []\n",
    "for title,description in zip(titles,descriptions):\n",
    "    super_dict = {'Garagen': title.text,\n",
    "                 'Parkplätze': description.text}    \n",
    "    lst.append(super_dict)\n",
    "lst"
   ]
  },
  {
   "cell_type": "markdown",
   "metadata": {},
   "source": [
    "#### 6. Schliesslich machen wir daraus einen DataFrame (eine für uns Menschen lesbare Tabelle) und speichern das Ergebnis ab."
   ]
  },
  {
   "cell_type": "code",
   "execution_count": 91,
   "metadata": {},
   "outputs": [
    {
     "data": {
      "text/html": [
       "<div>\n",
       "<style scoped>\n",
       "    .dataframe tbody tr th:only-of-type {\n",
       "        vertical-align: middle;\n",
       "    }\n",
       "\n",
       "    .dataframe tbody tr th {\n",
       "        vertical-align: top;\n",
       "    }\n",
       "\n",
       "    .dataframe thead th {\n",
       "        text-align: right;\n",
       "    }\n",
       "</style>\n",
       "<table border=\"1\" class=\"dataframe\">\n",
       "  <thead>\n",
       "    <tr style=\"text-align: right;\">\n",
       "      <th></th>\n",
       "      <th>Garagen</th>\n",
       "      <th>Parkplätze</th>\n",
       "    </tr>\n",
       "  </thead>\n",
       "  <tbody>\n",
       "    <tr>\n",
       "      <td>1</td>\n",
       "      <td>Parkgarage am Central / Seilergraben</td>\n",
       "      <td>open /    1</td>\n",
       "    </tr>\n",
       "    <tr>\n",
       "      <td>2</td>\n",
       "      <td>Parkhaus Accu / Otto-Schütz-Weg</td>\n",
       "      <td>open /  130</td>\n",
       "    </tr>\n",
       "    <tr>\n",
       "      <td>3</td>\n",
       "      <td>Parkhaus Albisriederplatz / Badenerstrasse 380</td>\n",
       "      <td>open /   56</td>\n",
       "    </tr>\n",
       "    <tr>\n",
       "      <td>4</td>\n",
       "      <td>Parkhaus Bleicherweg / Beethovenstrasse 35</td>\n",
       "      <td>open /    4</td>\n",
       "    </tr>\n",
       "    <tr>\n",
       "      <td>5</td>\n",
       "      <td>Parkhaus Center Eleven / Sophie-Täuber-Strasse 4</td>\n",
       "      <td>open /  146</td>\n",
       "    </tr>\n",
       "    <tr>\n",
       "      <td>6</td>\n",
       "      <td>Parkhaus City Parking / Gessnerallee 14</td>\n",
       "      <td>open /  111</td>\n",
       "    </tr>\n",
       "    <tr>\n",
       "      <td>7</td>\n",
       "      <td>Parkhaus Cityport / Affolternstrasse 56</td>\n",
       "      <td>open /   19</td>\n",
       "    </tr>\n",
       "    <tr>\n",
       "      <td>8</td>\n",
       "      <td>Parkhaus Crowne Plaza / Badenerstrasse 420</td>\n",
       "      <td>open /  168</td>\n",
       "    </tr>\n",
       "    <tr>\n",
       "      <td>9</td>\n",
       "      <td>Parkhaus Dorflinde / Schwamendingenstrasse 31</td>\n",
       "      <td>open /   32</td>\n",
       "    </tr>\n",
       "    <tr>\n",
       "      <td>10</td>\n",
       "      <td>Parkhaus Feldegg / Riesbachstrasse 7</td>\n",
       "      <td>open /   31</td>\n",
       "    </tr>\n",
       "    <tr>\n",
       "      <td>11</td>\n",
       "      <td>Parkhaus Globus / Löwenstrasse 50</td>\n",
       "      <td>open /   29</td>\n",
       "    </tr>\n",
       "    <tr>\n",
       "      <td>12</td>\n",
       "      <td>Parkhaus Hardau II / Bullingerstrasse 73</td>\n",
       "      <td>open /   98</td>\n",
       "    </tr>\n",
       "    <tr>\n",
       "      <td>13</td>\n",
       "      <td>Parkhaus Hauptbahnhof / Sihlquai 41</td>\n",
       "      <td>open /   63</td>\n",
       "    </tr>\n",
       "    <tr>\n",
       "      <td>14</td>\n",
       "      <td>Parkhaus Hohe Promenade / Rämistrasse 22a</td>\n",
       "      <td>open /  291</td>\n",
       "    </tr>\n",
       "    <tr>\n",
       "      <td>15</td>\n",
       "      <td>Parkhaus Jelmoli / Steinmühleplatz 1</td>\n",
       "      <td>open /   29</td>\n",
       "    </tr>\n",
       "    <tr>\n",
       "      <td>16</td>\n",
       "      <td>Parkhaus Jungholz / Jungholzstrasse 19</td>\n",
       "      <td>open /   86</td>\n",
       "    </tr>\n",
       "    <tr>\n",
       "      <td>17</td>\n",
       "      <td>Parkhaus Max-Bill-Platz / Armin-Bollinger-Weg</td>\n",
       "      <td>open /   77</td>\n",
       "    </tr>\n",
       "    <tr>\n",
       "      <td>18</td>\n",
       "      <td>Parkhaus Messe Zürich AG / Andreasstrasse 65</td>\n",
       "      <td>open /  999</td>\n",
       "    </tr>\n",
       "    <tr>\n",
       "      <td>19</td>\n",
       "      <td>Parkhaus Nordhaus / Siewerdtstrasse 8</td>\n",
       "      <td>open /   40</td>\n",
       "    </tr>\n",
       "    <tr>\n",
       "      <td>20</td>\n",
       "      <td>Parkhaus Octavo / Brown-Boveri-Strasse 2</td>\n",
       "      <td>open /  106</td>\n",
       "    </tr>\n",
       "    <tr>\n",
       "      <td>21</td>\n",
       "      <td>Parkhaus Opéra / Schillerstrasse 5</td>\n",
       "      <td>open /   73</td>\n",
       "    </tr>\n",
       "    <tr>\n",
       "      <td>22</td>\n",
       "      <td>Parkhaus P West / Förrlibuckstrasse 151</td>\n",
       "      <td>open /  258</td>\n",
       "    </tr>\n",
       "    <tr>\n",
       "      <td>23</td>\n",
       "      <td>Parkhaus Park Hyatt / Beethovenstrasse 21</td>\n",
       "      <td>open /  107</td>\n",
       "    </tr>\n",
       "    <tr>\n",
       "      <td>24</td>\n",
       "      <td>Parkhaus Parkside / Sophie-Täuber-Strasse 10</td>\n",
       "      <td>open /    0</td>\n",
       "    </tr>\n",
       "    <tr>\n",
       "      <td>25</td>\n",
       "      <td>Parkhaus Pfingstweid / Pfingstweidstrasse 1</td>\n",
       "      <td>open /   64</td>\n",
       "    </tr>\n",
       "    <tr>\n",
       "      <td>26</td>\n",
       "      <td>Parkhaus Stampfenbach / Niklausstrasse 1</td>\n",
       "      <td>open /   83</td>\n",
       "    </tr>\n",
       "    <tr>\n",
       "      <td>27</td>\n",
       "      <td>Parkhaus Talgarten / Nüschelerstrasse 31</td>\n",
       "      <td>open /    5</td>\n",
       "    </tr>\n",
       "    <tr>\n",
       "      <td>28</td>\n",
       "      <td>Parkhaus USZ Nord / Frauenklinikstrasse</td>\n",
       "      <td>open /   16</td>\n",
       "    </tr>\n",
       "    <tr>\n",
       "      <td>29</td>\n",
       "      <td>Parkhaus Uni Irchel / Winterthurerstrasse 181</td>\n",
       "      <td>open /  431</td>\n",
       "    </tr>\n",
       "    <tr>\n",
       "      <td>30</td>\n",
       "      <td>Parkhaus Urania / Uraniastrasse 3</td>\n",
       "      <td>open /  129</td>\n",
       "    </tr>\n",
       "    <tr>\n",
       "      <td>31</td>\n",
       "      <td>Parkhaus Utoquai / Färberstrasse 6</td>\n",
       "      <td>open /   22</td>\n",
       "    </tr>\n",
       "    <tr>\n",
       "      <td>32</td>\n",
       "      <td>Parkhaus Züri 11 Shopping / Nansenstrasse 5/7</td>\n",
       "      <td>open /   11</td>\n",
       "    </tr>\n",
       "    <tr>\n",
       "      <td>33</td>\n",
       "      <td>Parkhaus Zürichhorn / Dufourstrasse 142</td>\n",
       "      <td>open /   37</td>\n",
       "    </tr>\n",
       "    <tr>\n",
       "      <td>34</td>\n",
       "      <td>Parkplatz Eisfeld / Thurgauerstrasse 54</td>\n",
       "      <td>open /   42</td>\n",
       "    </tr>\n",
       "    <tr>\n",
       "      <td>35</td>\n",
       "      <td>Parkplatz Theater 11 / Dörfli-/Thurgauerstrasse</td>\n",
       "      <td>open /  133</td>\n",
       "    </tr>\n",
       "    <tr>\n",
       "      <td>36</td>\n",
       "      <td>Parkplatz USZ Süd / Gloriastrasse</td>\n",
       "      <td>open /    1</td>\n",
       "    </tr>\n",
       "    <tr>\n",
       "      <td>37</td>\n",
       "      <td>Puls 5 Parkgarage / Giessereistrasse 18</td>\n",
       "      <td>open /   16</td>\n",
       "    </tr>\n",
       "  </tbody>\n",
       "</table>\n",
       "</div>"
      ],
      "text/plain": [
       "                                             Garagen   Parkplätze\n",
       "1               Parkgarage am Central / Seilergraben  open /    1\n",
       "2                    Parkhaus Accu / Otto-Schütz-Weg  open /  130\n",
       "3     Parkhaus Albisriederplatz / Badenerstrasse 380  open /   56\n",
       "4         Parkhaus Bleicherweg / Beethovenstrasse 35  open /    4\n",
       "5   Parkhaus Center Eleven / Sophie-Täuber-Strasse 4  open /  146\n",
       "6            Parkhaus City Parking / Gessnerallee 14  open /  111\n",
       "7            Parkhaus Cityport / Affolternstrasse 56  open /   19\n",
       "8         Parkhaus Crowne Plaza / Badenerstrasse 420  open /  168\n",
       "9      Parkhaus Dorflinde / Schwamendingenstrasse 31  open /   32\n",
       "10              Parkhaus Feldegg / Riesbachstrasse 7  open /   31\n",
       "11                 Parkhaus Globus / Löwenstrasse 50  open /   29\n",
       "12          Parkhaus Hardau II / Bullingerstrasse 73  open /   98\n",
       "13               Parkhaus Hauptbahnhof / Sihlquai 41  open /   63\n",
       "14         Parkhaus Hohe Promenade / Rämistrasse 22a  open /  291\n",
       "15              Parkhaus Jelmoli / Steinmühleplatz 1  open /   29\n",
       "16            Parkhaus Jungholz / Jungholzstrasse 19  open /   86\n",
       "17     Parkhaus Max-Bill-Platz / Armin-Bollinger-Weg  open /   77\n",
       "18      Parkhaus Messe Zürich AG / Andreasstrasse 65  open /  999\n",
       "19             Parkhaus Nordhaus / Siewerdtstrasse 8  open /   40\n",
       "20          Parkhaus Octavo / Brown-Boveri-Strasse 2  open /  106\n",
       "21                Parkhaus Opéra / Schillerstrasse 5  open /   73\n",
       "22           Parkhaus P West / Förrlibuckstrasse 151  open /  258\n",
       "23         Parkhaus Park Hyatt / Beethovenstrasse 21  open /  107\n",
       "24      Parkhaus Parkside / Sophie-Täuber-Strasse 10  open /    0\n",
       "25       Parkhaus Pfingstweid / Pfingstweidstrasse 1  open /   64\n",
       "26          Parkhaus Stampfenbach / Niklausstrasse 1  open /   83\n",
       "27          Parkhaus Talgarten / Nüschelerstrasse 31  open /    5\n",
       "28           Parkhaus USZ Nord / Frauenklinikstrasse  open /   16\n",
       "29     Parkhaus Uni Irchel / Winterthurerstrasse 181  open /  431\n",
       "30                 Parkhaus Urania / Uraniastrasse 3  open /  129\n",
       "31                Parkhaus Utoquai / Färberstrasse 6  open /   22\n",
       "32     Parkhaus Züri 11 Shopping / Nansenstrasse 5/7  open /   11\n",
       "33           Parkhaus Zürichhorn / Dufourstrasse 142  open /   37\n",
       "34           Parkplatz Eisfeld / Thurgauerstrasse 54  open /   42\n",
       "35   Parkplatz Theater 11 / Dörfli-/Thurgauerstrasse  open /  133\n",
       "36                 Parkplatz USZ Süd / Gloriastrasse  open /    1\n",
       "37           Puls 5 Parkgarage / Giessereistrasse 18  open /   16"
      ]
     },
     "execution_count": 91,
     "metadata": {},
     "output_type": "execute_result"
    }
   ],
   "source": [
    "pd.DataFrame(lst)[1:]"
   ]
  },
  {
   "cell_type": "code",
   "execution_count": 161,
   "metadata": {},
   "outputs": [
    {
     "ename": "TypeError",
     "evalue": "expected string or bytes-like object",
     "output_type": "error",
     "traceback": [
      "\u001b[0;31m---------------------------------------------------------------------------\u001b[0m",
      "\u001b[0;31mTypeError\u001b[0m                                 Traceback (most recent call last)",
      "\u001b[0;32m<ipython-input-161-abbb5b205390>\u001b[0m in \u001b[0;36m<module>\u001b[0;34m\u001b[0m\n\u001b[1;32m      3\u001b[0m \u001b[0mparkplätze_frei\u001b[0m \u001b[0;34m=\u001b[0m \u001b[0;34m[\u001b[0m\u001b[0;34m]\u001b[0m\u001b[0;34m\u001b[0m\u001b[0;34m\u001b[0m\u001b[0m\n\u001b[1;32m      4\u001b[0m \u001b[0mfrei\u001b[0m \u001b[0;34m=\u001b[0m \u001b[0;36m0\u001b[0m\u001b[0;34m\u001b[0m\u001b[0;34m\u001b[0m\u001b[0m\n\u001b[0;32m----> 5\u001b[0;31m \u001b[0;32mfor\u001b[0m \u001b[0mparkplätze_frei\u001b[0m \u001b[0;32min\u001b[0m \u001b[0mre\u001b[0m\u001b[0;34m.\u001b[0m\u001b[0msearch\u001b[0m\u001b[0;34m(\u001b[0m\u001b[0;34m\"[0-9]+\"\u001b[0m\u001b[0;34m,\u001b[0m \u001b[0mdescriptions\u001b[0m\u001b[0;34m)\u001b[0m\u001b[0;34m:\u001b[0m\u001b[0;34m\u001b[0m\u001b[0;34m\u001b[0m\u001b[0m\n\u001b[0m\u001b[1;32m      6\u001b[0m     \u001b[0mprint\u001b[0m\u001b[0;34m(\u001b[0m\u001b[0mparkplätze_frei\u001b[0m\u001b[0;34m)\u001b[0m\u001b[0;34m\u001b[0m\u001b[0;34m\u001b[0m\u001b[0m\n",
      "\u001b[0;32m~/.virtualenvs/erstesVE/lib/python3.7/re.py\u001b[0m in \u001b[0;36msearch\u001b[0;34m(pattern, string, flags)\u001b[0m\n\u001b[1;32m    181\u001b[0m     \"\"\"Scan through string looking for a match to the pattern, returning\n\u001b[1;32m    182\u001b[0m     a Match object, or None if no match was found.\"\"\"\n\u001b[0;32m--> 183\u001b[0;31m     \u001b[0;32mreturn\u001b[0m \u001b[0m_compile\u001b[0m\u001b[0;34m(\u001b[0m\u001b[0mpattern\u001b[0m\u001b[0;34m,\u001b[0m \u001b[0mflags\u001b[0m\u001b[0;34m)\u001b[0m\u001b[0;34m.\u001b[0m\u001b[0msearch\u001b[0m\u001b[0;34m(\u001b[0m\u001b[0mstring\u001b[0m\u001b[0;34m)\u001b[0m\u001b[0;34m\u001b[0m\u001b[0;34m\u001b[0m\u001b[0m\n\u001b[0m\u001b[1;32m    184\u001b[0m \u001b[0;34m\u001b[0m\u001b[0m\n\u001b[1;32m    185\u001b[0m \u001b[0;32mdef\u001b[0m \u001b[0msub\u001b[0m\u001b[0;34m(\u001b[0m\u001b[0mpattern\u001b[0m\u001b[0;34m,\u001b[0m \u001b[0mrepl\u001b[0m\u001b[0;34m,\u001b[0m \u001b[0mstring\u001b[0m\u001b[0;34m,\u001b[0m \u001b[0mcount\u001b[0m\u001b[0;34m=\u001b[0m\u001b[0;36m0\u001b[0m\u001b[0;34m,\u001b[0m \u001b[0mflags\u001b[0m\u001b[0;34m=\u001b[0m\u001b[0;36m0\u001b[0m\u001b[0;34m)\u001b[0m\u001b[0;34m:\u001b[0m\u001b[0;34m\u001b[0m\u001b[0;34m\u001b[0m\u001b[0m\n",
      "\u001b[0;31mTypeError\u001b[0m: expected string or bytes-like object"
     ]
    }
   ],
   "source": [
    "#wie viele parkplätze sind gerade frei (meine version)\n",
    "import re\n",
    "parkplätze_frei = []\n",
    "frei = 0\n",
    "for parkplätze_frei in re.findall(\"[0-9]+\", descriptions):\n",
    "    print(parkplätze_frei)"
   ]
  },
  {
   "cell_type": "code",
   "execution_count": 150,
   "metadata": {},
   "outputs": [],
   "source": [
    "import re"
   ]
  },
  {
   "cell_type": "code",
   "execution_count": 162,
   "metadata": {},
   "outputs": [
    {
     "ename": "TypeError",
     "evalue": "expected string or bytes-like object",
     "output_type": "error",
     "traceback": [
      "\u001b[0;31m---------------------------------------------------------------------------\u001b[0m",
      "\u001b[0;31mTypeError\u001b[0m                                 Traceback (most recent call last)",
      "\u001b[0;32m<ipython-input-162-70a2d3f08524>\u001b[0m in \u001b[0;36m<module>\u001b[0;34m\u001b[0m\n\u001b[0;32m----> 1\u001b[0;31m \u001b[0mneue_liste\u001b[0m \u001b[0;34m=\u001b[0m \u001b[0mre\u001b[0m\u001b[0;34m.\u001b[0m\u001b[0mfindall\u001b[0m\u001b[0;34m(\u001b[0m\u001b[0;34m\"[0-9]+\"\u001b[0m\u001b[0;34m,\u001b[0m \u001b[0mdescriptions\u001b[0m\u001b[0;34m)\u001b[0m\u001b[0;34m\u001b[0m\u001b[0;34m\u001b[0m\u001b[0m\n\u001b[0m\u001b[1;32m      2\u001b[0m \u001b[0mneue_liste\u001b[0m\u001b[0;34m\u001b[0m\u001b[0;34m\u001b[0m\u001b[0m\n",
      "\u001b[0;32m~/.virtualenvs/erstesVE/lib/python3.7/re.py\u001b[0m in \u001b[0;36mfindall\u001b[0;34m(pattern, string, flags)\u001b[0m\n\u001b[1;32m    221\u001b[0m \u001b[0;34m\u001b[0m\u001b[0m\n\u001b[1;32m    222\u001b[0m     Empty matches are included in the result.\"\"\"\n\u001b[0;32m--> 223\u001b[0;31m     \u001b[0;32mreturn\u001b[0m \u001b[0m_compile\u001b[0m\u001b[0;34m(\u001b[0m\u001b[0mpattern\u001b[0m\u001b[0;34m,\u001b[0m \u001b[0mflags\u001b[0m\u001b[0;34m)\u001b[0m\u001b[0;34m.\u001b[0m\u001b[0mfindall\u001b[0m\u001b[0;34m(\u001b[0m\u001b[0mstring\u001b[0m\u001b[0;34m)\u001b[0m\u001b[0;34m\u001b[0m\u001b[0;34m\u001b[0m\u001b[0m\n\u001b[0m\u001b[1;32m    224\u001b[0m \u001b[0;34m\u001b[0m\u001b[0m\n\u001b[1;32m    225\u001b[0m \u001b[0;32mdef\u001b[0m \u001b[0mfinditer\u001b[0m\u001b[0;34m(\u001b[0m\u001b[0mpattern\u001b[0m\u001b[0;34m,\u001b[0m \u001b[0mstring\u001b[0m\u001b[0;34m,\u001b[0m \u001b[0mflags\u001b[0m\u001b[0;34m=\u001b[0m\u001b[0;36m0\u001b[0m\u001b[0;34m)\u001b[0m\u001b[0;34m:\u001b[0m\u001b[0;34m\u001b[0m\u001b[0;34m\u001b[0m\u001b[0m\n",
      "\u001b[0;31mTypeError\u001b[0m: expected string or bytes-like object"
     ]
    }
   ],
   "source": [
    "neue_liste = re.findall(\"[0-9]+\", descriptions)\n",
    "neue_liste"
   ]
  },
  {
   "cell_type": "code",
   "execution_count": 207,
   "metadata": {},
   "outputs": [
    {
     "ename": "TypeError",
     "evalue": "unsupported operand type(s) for +: 'int' and 'dict'",
     "output_type": "error",
     "traceback": [
      "\u001b[0;31m---------------------------------------------------------------------------\u001b[0m",
      "\u001b[0;31mTypeError\u001b[0m                                 Traceback (most recent call last)",
      "\u001b[0;32m<ipython-input-207-859af50556db>\u001b[0m in \u001b[0;36m<module>\u001b[0;34m\u001b[0m\n\u001b[1;32m      2\u001b[0m \u001b[0msumme\u001b[0m \u001b[0;34m=\u001b[0m \u001b[0;36m0\u001b[0m\u001b[0;34m\u001b[0m\u001b[0;34m\u001b[0m\u001b[0m\n\u001b[1;32m      3\u001b[0m \u001b[0;32mfor\u001b[0m \u001b[0mtitle\u001b[0m\u001b[0;34m,\u001b[0m\u001b[0mdescription\u001b[0m \u001b[0;32min\u001b[0m \u001b[0mzip\u001b[0m\u001b[0;34m(\u001b[0m\u001b[0mtitles\u001b[0m\u001b[0;34m,\u001b[0m\u001b[0mdescriptions\u001b[0m\u001b[0;34m)\u001b[0m\u001b[0;34m:\u001b[0m\u001b[0;34m\u001b[0m\u001b[0;34m\u001b[0m\u001b[0m\n\u001b[0;32m----> 4\u001b[0;31m     \u001b[0msumme\u001b[0m \u001b[0;34m=\u001b[0m \u001b[0msumme\u001b[0m \u001b[0;34m+\u001b[0m \u001b[0msuper_dict\u001b[0m\u001b[0;34m\u001b[0m\u001b[0;34m\u001b[0m\u001b[0m\n\u001b[0m\u001b[1;32m      5\u001b[0m     super_dict = {'Garagen': title.text,\n\u001b[1;32m      6\u001b[0m                  'Parkplätze': description.text}    \n",
      "\u001b[0;31mTypeError\u001b[0m: unsupported operand type(s) for +: 'int' and 'dict'"
     ]
    }
   ],
   "source": [
    "lst = []\n",
    "summe = 0 \n",
    "for title,description in zip(titles,descriptions):\n",
    "    \n",
    "    super_dict = {'Garagen': title.text,\n",
    "                 'Parkplätze': description.text}    \n",
    "    lst.append(super_dict)\n",
    "lst"
   ]
  },
  {
   "cell_type": "code",
   "execution_count": null,
   "metadata": {},
   "outputs": [],
   "source": []
  }
 ],
 "metadata": {
  "kernelspec": {
   "display_name": "Python 3",
   "language": "python",
   "name": "python3"
  },
  "language_info": {
   "codemirror_mode": {
    "name": "ipython",
    "version": 3
   },
   "file_extension": ".py",
   "mimetype": "text/x-python",
   "name": "python",
   "nbconvert_exporter": "python",
   "pygments_lexer": "ipython3",
   "version": "3.7.4"
  }
 },
 "nbformat": 4,
 "nbformat_minor": 2
}
