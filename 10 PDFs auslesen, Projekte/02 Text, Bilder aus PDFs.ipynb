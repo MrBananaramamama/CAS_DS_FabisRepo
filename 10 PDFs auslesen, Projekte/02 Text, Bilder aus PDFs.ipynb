{
 "cells": [
  {
   "cell_type": "markdown",
   "metadata": {},
   "source": [
    "# Bereiten wir das Script vor"
   ]
  },
  {
   "cell_type": "code",
   "execution_count": 1,
   "metadata": {},
   "outputs": [],
   "source": [
    "#Imports\n",
    "import os #Files in listen abgreifen\n",
    "import tqdm #anzeigen, wo wir stehen als hilfestellung\n",
    "import textract\n",
    "import pandas as pd\n"
   ]
  },
  {
   "cell_type": "markdown",
   "metadata": {},
   "source": [
    "## Vorbereitung"
   ]
  },
  {
   "cell_type": "code",
   "execution_count": 2,
   "metadata": {},
   "outputs": [],
   "source": [
    "#Als Vorbereitung, machen aus dem Inhalt des Folders eine Liste. Es handelt sich hierbei\n",
    "#um eine Liste aller pdfs im Ordner pdfs. Es sind die Swissmedic Recalls (#ImplantFiles)\n",
    "pdfs = os.listdir('pdfs')"
   ]
  },
  {
   "cell_type": "markdown",
   "metadata": {},
   "source": [
    "## Fortschritt anzeigen"
   ]
  },
  {
   "cell_type": "code",
   "execution_count": 3,
   "metadata": {
    "scrolled": true
   },
   "outputs": [
    {
     "name": "stderr",
     "output_type": "stream",
     "text": [
      "100%|██████████| 10000/10000 [00:00<00:00, 873977.20it/s]\n"
     ]
    }
   ],
   "source": [
    "from tqdm import tqdm\n",
    "for i in tqdm(range(10000)): #100000000000\n",
    "    elem = i"
   ]
  },
  {
   "cell_type": "markdown",
   "metadata": {},
   "source": [
    "## Ein File auslesen"
   ]
  },
  {
   "cell_type": "code",
   "execution_count": null,
   "metadata": {
    "scrolled": true
   },
   "outputs": [],
   "source": [
    "text = textract.process(\"pdfs/\"+pdfs[1]) #method='pdfminer', encoding='ISO-8859-1' #greift auf alle pdfs im ordner zu\n",
    "text\n"
   ]
  },
  {
   "cell_type": "code",
   "execution_count": null,
   "metadata": {},
   "outputs": [],
   "source": [
    "print('pdfs/'+pdfs[0])"
   ]
  },
  {
   "cell_type": "code",
   "execution_count": null,
   "metadata": {},
   "outputs": [],
   "source": [
    "type(text) #ist als bytes gespeichert, muss aber string sein, ganz simpel, siehe unten"
   ]
  },
  {
   "cell_type": "code",
   "execution_count": null,
   "metadata": {},
   "outputs": [],
   "source": [
    "str(text)"
   ]
  },
  {
   "cell_type": "markdown",
   "metadata": {},
   "source": [
    "## Alle Files auslesen"
   ]
  },
  {
   "cell_type": "code",
   "execution_count": null,
   "metadata": {},
   "outputs": [],
   "source": [
    "len(pdfs)"
   ]
  },
  {
   "cell_type": "code",
   "execution_count": 12,
   "metadata": {
    "scrolled": true
   },
   "outputs": [
    {
     "name": "stderr",
     "output_type": "stream",
     "text": [
      "\n",
      "  0%|          | 0/82 [00:00<?, ?it/s]\u001b[A\n",
      "  1%|          | 1/82 [00:00<00:26,  3.02it/s]\u001b[A\n",
      "  2%|▏         | 2/82 [00:01<00:41,  1.93it/s]\u001b[A\n",
      "  4%|▎         | 3/82 [00:05<01:57,  1.49s/it]\u001b[A\n",
      "  5%|▍         | 4/82 [00:05<01:33,  1.20s/it]\u001b[A\n",
      "  6%|▌         | 5/82 [00:06<01:19,  1.04s/it]\u001b[A\n",
      "  7%|▋         | 6/82 [00:07<01:13,  1.03it/s]\u001b[A\n",
      "  9%|▊         | 7/82 [00:07<01:00,  1.25it/s]\u001b[A\n",
      " 10%|▉         | 8/82 [00:07<00:52,  1.42it/s]\u001b[A\n",
      " 11%|█         | 9/82 [00:09<01:05,  1.11it/s]\u001b[A\n",
      " 12%|█▏        | 10/82 [00:09<00:52,  1.38it/s]\u001b[A\n",
      " 13%|█▎        | 11/82 [00:09<00:41,  1.72it/s]\u001b[A\n",
      " 15%|█▍        | 12/82 [00:11<01:10,  1.00s/it]\u001b[A\n",
      " 16%|█▌        | 13/82 [00:12<01:06,  1.03it/s]\u001b[A\n",
      " 17%|█▋        | 14/82 [00:13<01:12,  1.06s/it]\u001b[A\n",
      " 18%|█▊        | 15/82 [00:14<00:59,  1.12it/s]\u001b[A\n",
      " 20%|█▉        | 16/82 [00:15<00:57,  1.16it/s]\u001b[A\n",
      " 21%|██        | 17/82 [00:15<00:52,  1.24it/s]\u001b[A\n",
      " 22%|██▏       | 18/82 [00:16<00:55,  1.15it/s]\u001b[A\n",
      " 23%|██▎       | 19/82 [00:17<00:49,  1.27it/s]\u001b[A\n",
      " 24%|██▍       | 20/82 [00:18<00:48,  1.28it/s]\u001b[A\n",
      " 26%|██▌       | 21/82 [00:18<00:44,  1.37it/s]\u001b[A\n",
      " 27%|██▋       | 22/82 [00:20<00:55,  1.09it/s]\u001b[A\n",
      " 28%|██▊       | 23/82 [00:20<00:42,  1.39it/s]\u001b[A\n",
      " 29%|██▉       | 24/82 [00:21<00:52,  1.10it/s]\u001b[A\n",
      " 30%|███       | 25/82 [00:22<00:47,  1.19it/s]\u001b[A\n",
      " 32%|███▏      | 26/82 [00:22<00:37,  1.51it/s]\u001b[A\n",
      " 33%|███▎      | 27/82 [00:23<00:31,  1.75it/s]\u001b[A\n",
      " 34%|███▍      | 28/82 [00:24<00:38,  1.39it/s]\u001b[A\n",
      " 35%|███▌      | 29/82 [00:25<00:45,  1.17it/s]\u001b[A\n",
      " 37%|███▋      | 30/82 [00:25<00:38,  1.34it/s]\u001b[A\n",
      " 38%|███▊      | 31/82 [00:26<00:37,  1.37it/s]\u001b[A\n",
      " 39%|███▉      | 32/82 [00:28<00:48,  1.04it/s]\u001b[A\n",
      " 40%|████      | 33/82 [00:28<00:41,  1.17it/s]\u001b[A\n",
      " 41%|████▏     | 34/82 [00:29<00:36,  1.32it/s]\u001b[A\n",
      " 43%|████▎     | 35/82 [00:29<00:34,  1.38it/s]\u001b[A\n",
      " 44%|████▍     | 36/82 [00:31<00:47,  1.03s/it]\u001b[A\n",
      " 45%|████▌     | 37/82 [00:33<00:55,  1.23s/it]\u001b[A\n",
      " 46%|████▋     | 38/82 [00:35<01:01,  1.41s/it]\u001b[A\n",
      " 48%|████▊     | 39/82 [00:38<01:31,  2.13s/it]\u001b[A\n",
      " 49%|████▉     | 40/82 [00:39<01:09,  1.65s/it]\u001b[A\n",
      " 50%|█████     | 41/82 [00:40<00:57,  1.40s/it]\u001b[A\n",
      " 51%|█████     | 42/82 [00:41<00:51,  1.28s/it]\u001b[A\n",
      " 52%|█████▏    | 43/82 [00:41<00:40,  1.05s/it]\u001b[A\n",
      " 54%|█████▎    | 44/82 [00:42<00:33,  1.12it/s]\u001b[A\n",
      " 55%|█████▍    | 45/82 [00:46<01:08,  1.86s/it]\u001b[A\n",
      " 56%|█████▌    | 46/82 [00:47<00:57,  1.60s/it]\u001b[A\n",
      " 57%|█████▋    | 47/82 [00:48<00:50,  1.44s/it]\u001b[A\n",
      " 59%|█████▊    | 48/82 [00:52<01:13,  2.17s/it]\u001b[A\n",
      " 60%|█████▉    | 49/82 [00:52<00:52,  1.60s/it]\u001b[A\n",
      " 61%|██████    | 50/82 [00:53<00:42,  1.32s/it]\u001b[A\n",
      " 62%|██████▏   | 51/82 [00:53<00:31,  1.01s/it]\u001b[A\n",
      " 63%|██████▎   | 52/82 [00:53<00:23,  1.25it/s]\u001b[A\n",
      " 65%|██████▍   | 53/82 [00:54<00:22,  1.29it/s]\u001b[A\n",
      " 66%|██████▌   | 54/82 [00:55<00:21,  1.32it/s]\u001b[A\n",
      " 67%|██████▋   | 55/82 [00:55<00:16,  1.60it/s]\u001b[A\n",
      " 68%|██████▊   | 56/82 [01:01<00:58,  2.25s/it]\u001b[A\n",
      " 70%|██████▉   | 57/82 [01:02<00:44,  1.79s/it]\u001b[A\n",
      " 71%|███████   | 58/82 [01:03<00:35,  1.50s/it]\u001b[A\n",
      " 72%|███████▏  | 59/82 [01:10<01:12,  3.15s/it]\u001b[A\n",
      " 73%|███████▎  | 60/82 [01:11<00:54,  2.49s/it]\u001b[A\n",
      " 74%|███████▍  | 61/82 [01:11<00:40,  1.91s/it]\u001b[A\n",
      " 76%|███████▌  | 62/82 [01:12<00:30,  1.50s/it]\u001b[A\n",
      " 77%|███████▋  | 63/82 [01:12<00:22,  1.17s/it]\u001b[A\n",
      " 78%|███████▊  | 64/82 [01:18<00:47,  2.62s/it]\u001b[A\n",
      " 79%|███████▉  | 65/82 [01:19<00:34,  2.04s/it]\u001b[A\n",
      " 80%|████████  | 66/82 [01:20<00:26,  1.66s/it]\u001b[A\n",
      " 82%|████████▏ | 67/82 [01:21<00:21,  1.46s/it]\u001b[A\n",
      " 83%|████████▎ | 68/82 [01:21<00:16,  1.16s/it]\u001b[A\n",
      " 84%|████████▍ | 69/82 [01:23<00:17,  1.37s/it]\u001b[A\n",
      " 85%|████████▌ | 70/82 [01:24<00:14,  1.21s/it]\u001b[A\n",
      " 87%|████████▋ | 71/82 [01:24<00:11,  1.02s/it]\u001b[A\n",
      " 88%|████████▊ | 72/82 [01:25<00:08,  1.12it/s]\u001b[A\n",
      " 89%|████████▉ | 73/82 [01:25<00:06,  1.33it/s]\u001b[A\n",
      " 90%|█████████ | 74/82 [01:27<00:08,  1.06s/it]\u001b[A\n",
      " 91%|█████████▏| 75/82 [01:27<00:05,  1.22it/s]\u001b[A\n",
      " 93%|█████████▎| 76/82 [01:31<00:09,  1.58s/it]\u001b[A\n",
      " 94%|█████████▍| 77/82 [01:34<00:10,  2.05s/it]\u001b[A\n",
      " 95%|█████████▌| 78/82 [01:35<00:06,  1.64s/it]\u001b[A\n",
      " 96%|█████████▋| 79/82 [01:35<00:03,  1.32s/it]\u001b[A\n",
      " 98%|█████████▊| 80/82 [01:36<00:02,  1.03s/it]\u001b[A\n",
      " 99%|█████████▉| 81/82 [01:36<00:00,  1.19it/s]\u001b[A\n",
      "100%|██████████| 82/82 [01:36<00:00,  1.18s/it]\u001b[A\n"
     ]
    }
   ],
   "source": [
    "lst = []\n",
    "mistakes = []\n",
    "for pdf in tqdm(pdfs):\n",
    "    try:\n",
    "        text = textract.process(\"pdfs/\"+pdf, method='pdfminer', encoding='ISO-8859-1')\n",
    "        lst.append(text)\n",
    "    except:\n",
    "        mistakes.append(pdf)"
   ]
  },
  {
   "cell_type": "code",
   "execution_count": null,
   "metadata": {},
   "outputs": [],
   "source": [
    "lst"
   ]
  },
  {
   "cell_type": "code",
   "execution_count": null,
   "metadata": {},
   "outputs": [],
   "source": [
    "mistakes"
   ]
  },
  {
   "cell_type": "code",
   "execution_count": null,
   "metadata": {},
   "outputs": [],
   "source": []
  },
  {
   "cell_type": "markdown",
   "metadata": {},
   "source": [
    "## Bilder auslesen"
   ]
  },
  {
   "cell_type": "code",
   "execution_count": 5,
   "metadata": {},
   "outputs": [],
   "source": [
    "#tesseract is THE method, baby\n",
    "\n",
    "text = textract.process(\"pdfs/\"+pdfs[0], method='tesseract') #Nicht ideal, aber gut\n"
   ]
  },
  {
   "cell_type": "code",
   "execution_count": 8,
   "metadata": {},
   "outputs": [
    {
     "data": {
      "text/plain": [
       "b'dical\\n\\nWassenburg Medical B.V.\\nEdisonnng 9\\n\\n6669 NA DODEWAARD\\nTHE NETHERLANDS\\n\\nT +31 (0)488 700 500\\n\\nF +31 (0)488 453 685\\n\\n| DRINGEND: SICHERHEITSHINWE See\"\\n\\nRUCKRUF VON KANALVERBINDUNGS-\\n\\nMATERIAL\\nWASSENBURG\\xc2\\xae REINIGUNGS- UND DESINFEKTIONSGERAT\\nENDOSKOPIE\\n\\nPRODUKTNAME: WASSENBURG\\xc2\\xae WD440, WD440 PT, WD415 Reinigungs- und\\nDesinfektionsgerat Endoskopie\\n\\nDATUM: 22. Mai 2018\\n\\nHANDLUNGSTYP: _ Sicherheitsmassnahme\\n\\nZU HANDEN VON:  Abteilungsleiter fir Dekontamination / Endoskopie\\n\\nAngaben zu betroffenen Geraten:\\n\\nBei einigen Chargen der Kanalverbindungen fur die Verbindung von Endoskopen in WASSENBURG\\xc2\\xae\\nEndoskop-Reinigungs- und Desinfektionsgeraten wurde ein Defekt festgestellt, infolgedessen einige\\nVerbindungsstucke wahrend der Endoskopaufbereitung auseinanderfallen k\\xc3\\xa9nnen,\\n\\nDie betroffenen Artikel und Chargen k\\xc3\\xa9nnen der folgenden Tabelle entnommen werden,\\n\\n \\n\\n \\n\\n \\n\\n \\n\\n \\n\\n \\n\\n \\n\\n \\n\\n \\n\\n \\n\\n \\n\\n \\n\\n \\n\\n \\n\\n \\n\\n \\n\\n \\n\\n \\n\\n \\n\\n   \\n\\n \\n\\n  \\n\\n \\n\\n \\n\\n \\n\\n \\n\\n \\n\\nArtikelnummer Chargennummer Beschreibung\\n08493104 6015402 Wasserflaschenverbinder Fujinon\\n08493104 5015723 Wasserflaschenverbinder Fujinon\\n08527001 5013839 Luft-Wasserverbinder Pentax\\n08527001 5015726 Luft-Wasserverbinder Pentax\\n09005103 5015897 oder 40008444 | Kanaltrenner Olympus\\n09005103 5015953 oder 40008463 | Kanaltrenner Olympus\\n09009104 \\xc2\\xa7015537 oder 40000061 | Kanaltrenner Olympus\\n09010103 | 5015498 oder 40000031 | Kanaltrenner Olympus\\n09010103 5015499 oder 40000032 | Kanaltrenner Olympus\\n09010103 5015859 oder 40008439 | Kanaltrenner Olympus\\n09062108 5016413 oder 40008485 | Kanaltrenner Pentax\\n09068105 5015246 Kanaltrenner Fujinon\\n09135103 5010787 Kanaltrenner Pentax\\n09136103 5015620 oder 40000075 | Kanaltrenner Pentax\\n09136103 5015621 oder 40000076 | Kanaltrenner Pentax\\n09438001 5013388 Kanaltrenner Fujinon\\n951660 5015600 oder 40000068 | Kanaltrenner Fujinon\\n952507 5013797 Kanaltrenner Fujinon\\n952641 5016261 oder 40008481 | Kanaltrenner Pentax\\n\\n \\n\\n \\n\\n \\n\\nDie obengenannten Chargen werden seit dem 01. Dezember 2017 hergestellt.\\n\\nSICHERHE!TSHINWEIS | ZVE22GM01 V18006 | SEITE 1 VON 3\\n\\n \\n\\x0cWaSSCnBURG\\nETO\\n\\nical\\n\\nProblembeschreibung:\\n\\nBei allen obengenannten Verbindungsstiicken, ausgenommen Artikel 08493104 und 08527001, gibt es zwei\\nDefekte, wenn das Verbindungsstiick wahrend des Endoskop-Prozesses auseinanderfallt:\\n\\n1. Unvollstandige Teilung der Luft-Wasserkanale\\n\\n2. Ausfall der Kontrolle der Biopsie-/Ansaug-Blockierungserkennung durch Leck am Ansaugventil\\n\\nIm Falle von Artikel 08493104 kann eine Leckage am Wasserflaschenverbinder zu einem Defekt der\\nKontrolle der Blockierungserkennung im Wasserkanal fahren.\\n\\nIm Fatle von Artikel 08527001 kann eine Leckage am Luft-Wasserventil zu einem Defekt der Kontrolle der\\nBlockierungserkennung im Luftkanal fuhren.\\n\\nEine Endoskopaufbereitung mit einem defekten VerbindungsstUck kann zu einer mangeinden Aufbereitung\\nder internen Endoskopkandale filhren.\\n\\nEin Zerfall der Verbindungskanale kann wahrend der visuellen Verbindungskontrolle am Ende des\\nAufbereitungszyklus festgestellt werden; das Endoskop sollte anschliessend gem\\xc3\\xa9ss Gebrauchsanweisung\\nwiederholt gereinigt und desinfiziert werden. Ein Risiko flr die Patienten kann entstehen, wenn die\\nEndoskopaufbereitung nicht mit einem intakten Verbindungsstiick wiederholt und ein Zerfall des\\nVerbindungsstticks vom Benutzer nicht erfasst wird.\\n\\nAus diesem Grund ruft Wassenburg die obengenannten Chargen zurtick. Die betroffenen Artikel werden\\nersetzt. Aufgrund momentaner Lieferschwierigkeiten, die ausserhalb unserer Kontrolle liegen, ist eine\\nVerz\\xc3\\xa9gerung der Verbindungsstiicke zu erwarten. Wassenburg tut alles in seiner Macht Stehende, um die\\nVerz\\xc3\\xa9gerungen so kurz wie m\\xc3\\xa9glich zu halten.\\n\\nVom Benutzer zu ergreifende Massnahmen:\\n\\n1. Uberprifen Sie die Verbindungssets der vorliegenden, obengenannten Artikel. Die Verbindungsstucke\\nsind mit der Artikel- sowie der Chargennummer versehen.\\n\\n2. Setzen Sie sich mit Ihrem Wassenburg-Lieferanten zwecks eines Ersatzteils in Verbindung.\\n\\n3. Stellen Sie sofort die Benutzung der obengenannten Verbindungssticke ein.\\n\\n4, Wir empfehlen, vor und nach jedem Aufbereitungszyklus zu Uberpriifen, ob alle Teile des\\nVerbindungsstucks sicher befestigt sind, falls eine Benutzung der Verbindungsstucke vor Erhalt eines\\nErsatzteils unvermeidbar ist. Falls ein Teil des betroffenen Verbindungsstticks locker ist, darf das\\nVerbindungsstick nicht langer benutzt werden. Das Endoskop, das mit einem lockeren Verbindungsstick\\naufbereitet wurde, muss vor Benutzung an einem Patienten noch einmal aufbereitet werden. Wassenburg\\nkann garantieren, dass das Verbindungssttick weiterhin korrekt funktioniert, wenn alle Teile des\\nbetroffenen Verbindungsstticks sicher befestigt sind.\\n\\n5. Dekontaminieren Sie den/die betroffenen Artikel und senden Sie Ihn zuriick an Ihren Wassenburg-\\nLieferanten.\\n\\nWeiterleitung dieses Sicherheitshinweises:\\n\\nDieser Sicherheitshinweis muss an alle betroffenen Personen innerhalb Ihres Unternehmens oder eines\\nanderen Unternehmens, an das potenziell betroffene Gerate gesandt wurden, weitergeleitet werden.\\n\\nBitte leiten Sie diesen Hinweis an andere Unternehmen weiter, die diese Massnahme ebenfalls betrifft.\\n\\nBitte beachten Sie diesen Sicherheitshinweis und die resultierenden Massnahmen fur einen angemessenen\\nZeitraum, um einen Erfolg der Sicherheitsmassnahme zu gewahileisten.\\n\\nSICHERHEITSHINWEIS | ZVE2Z2GM01 V18006] SEITE 2 VON 3\\n\\x0cWasScCnBURG\\n\\nmedical\\n\\n \\n\\nAnsprechpartner:\\n\\nDominik Lenz\\n\\nMositech AG\\nRotzenbihistrasse 55\\n8957 Spreitenbach\\n\\n+41 (0) 58 596 51 50\\ngominik.lenz@mositech.ch\\n\\nDer Unterzeichnende bestatigt, dass diese Mitteilung der entsprechenden Aufsichtsbeh\\xc3\\xa9rde gemeldet\\nwurde.\\n\\nWassenburg Medical B.V.\\n\\n \\n\\nDr. Patrick Vronen\\nRegulatory Affairs Manager\\n\\nSICHERHEITSHINWEIS | ZVE22GMO01 V18005 | SEITE 3 VON 3\\n\\x0c'"
      ]
     },
     "execution_count": 8,
     "metadata": {},
     "output_type": "execute_result"
    }
   ],
   "source": [
    "text"
   ]
  },
  {
   "cell_type": "markdown",
   "metadata": {},
   "source": [
    "## Alles zusammen"
   ]
  },
  {
   "cell_type": "code",
   "execution_count": 10,
   "metadata": {},
   "outputs": [
    {
     "name": "stdout",
     "output_type": "stream",
     "text": [
      "Requirement already satisfied: pdf2image in /Users/fabianvonallmen/.virtualenvs/erstesVE/lib/python3.7/site-packages (1.9.0)\r\n",
      "Requirement already satisfied: pillow in /Users/fabianvonallmen/.virtualenvs/erstesVE/lib/python3.7/site-packages (from pdf2image) (6.1.0)\r\n"
     ]
    }
   ],
   "source": [
    "!pip install pdf2image"
   ]
  },
  {
   "cell_type": "code",
   "execution_count": 25,
   "metadata": {
    "scrolled": true
   },
   "outputs": [
    {
     "name": "stderr",
     "output_type": "stream",
     "text": [
      "\n",
      "  0%|          | 0/82 [00:00<?, ?it/s]\u001b[A\n",
      "  1%|          | 1/82 [00:07<09:51,  7.30s/it]\u001b[A\n",
      "  2%|▏         | 2/82 [00:08<07:11,  5.40s/it]\u001b[A\n",
      "  4%|▎         | 3/82 [00:12<06:35,  5.00s/it]\u001b[A\n",
      "  5%|▍         | 4/82 [00:12<04:46,  3.68s/it]\u001b[A\n",
      "  6%|▌         | 5/82 [00:13<03:35,  2.79s/it]\u001b[A\n",
      "  7%|▋         | 6/82 [00:14<02:50,  2.24s/it]\u001b[A\n",
      "  9%|▊         | 7/82 [00:21<04:38,  3.71s/it]\u001b[A\n",
      " 10%|▉         | 8/82 [00:22<03:23,  2.75s/it]\u001b[A\n",
      " 11%|█         | 9/82 [00:23<02:51,  2.34s/it]\u001b[A\n",
      " 12%|█▏        | 10/82 [00:23<02:05,  1.74s/it]\u001b[A\n",
      " 13%|█▎        | 11/82 [00:31<04:08,  3.51s/it]\u001b[A\n",
      " 15%|█▍        | 12/82 [00:33<03:36,  3.09s/it]\u001b[A\n",
      " 16%|█▌        | 13/82 [00:34<02:48,  2.44s/it]\u001b[A\n",
      " 17%|█▋        | 14/82 [00:36<02:23,  2.12s/it]\u001b[A\n",
      " 18%|█▊        | 15/82 [00:36<01:49,  1.64s/it]\u001b[A\n",
      " 20%|█▉        | 16/82 [00:37<01:32,  1.41s/it]\u001b[A\n",
      " 21%|██        | 17/82 [00:38<01:17,  1.19s/it]\u001b[A\n",
      " 22%|██▏       | 18/82 [00:39<01:14,  1.16s/it]\u001b[A\n",
      " 23%|██▎       | 19/82 [00:39<01:02,  1.00it/s]\u001b[A\n",
      " 24%|██▍       | 20/82 [00:40<00:58,  1.06it/s]\u001b[A\n",
      " 26%|██▌       | 21/82 [00:41<00:52,  1.17it/s]\u001b[A\n",
      " 27%|██▋       | 22/82 [00:42<01:02,  1.04s/it]\u001b[A\n",
      " 28%|██▊       | 23/82 [00:50<02:58,  3.02s/it]\u001b[A\n",
      " 29%|██▉       | 24/82 [00:51<02:27,  2.54s/it]\u001b[A\n",
      " 30%|███       | 25/82 [00:52<01:54,  2.00s/it]\u001b[A\n",
      " 32%|███▏      | 26/82 [00:52<01:23,  1.48s/it]\u001b[A\n",
      " 33%|███▎      | 27/82 [00:58<02:37,  2.86s/it]\u001b[A\n",
      " 34%|███▍      | 28/82 [00:59<02:05,  2.32s/it]\u001b[A\n",
      " 35%|███▌      | 29/82 [01:01<01:45,  1.98s/it]\u001b[A\n",
      " 37%|███▋      | 30/82 [01:01<01:20,  1.55s/it]\u001b[A\n",
      " 38%|███▊      | 31/82 [01:02<01:06,  1.30s/it]\u001b[A\n",
      " 39%|███▉      | 32/82 [01:03<01:08,  1.37s/it]\u001b[A\n",
      " 40%|████      | 33/82 [01:04<00:54,  1.11s/it]\u001b[A\n",
      " 41%|████▏     | 34/82 [01:04<00:44,  1.07it/s]\u001b[A\n",
      " 43%|████▎     | 35/82 [01:05<00:39,  1.20it/s]\u001b[A\n",
      " 44%|████▍     | 36/82 [01:07<00:50,  1.09s/it]\u001b[A\n",
      " 45%|████▌     | 37/82 [01:09<00:58,  1.29s/it]\u001b[A\n",
      " 46%|████▋     | 38/82 [01:10<01:04,  1.46s/it]\u001b[A\n",
      " 48%|████▊     | 39/82 [01:14<01:33,  2.17s/it]\u001b[A\n",
      " 49%|████▉     | 40/82 [01:15<01:10,  1.67s/it]\u001b[A\n",
      " 50%|█████     | 41/82 [01:16<00:58,  1.42s/it]\u001b[A\n",
      " 51%|█████     | 42/82 [01:17<00:51,  1.29s/it]\u001b[A\n",
      " 52%|█████▏    | 43/82 [01:17<00:41,  1.07s/it]\u001b[A\n",
      " 54%|█████▎    | 44/82 [01:18<00:34,  1.09it/s]\u001b[A\n",
      " 55%|█████▍    | 45/82 [01:22<01:08,  1.85s/it]\u001b[A\n",
      " 56%|█████▌    | 46/82 [01:23<00:57,  1.60s/it]\u001b[A\n",
      " 57%|█████▋    | 47/82 [01:24<00:50,  1.46s/it]\u001b[A\n",
      " 59%|█████▊    | 48/82 [01:28<01:18,  2.30s/it]\u001b[A\n",
      " 60%|█████▉    | 49/82 [01:33<01:46,  3.23s/it]\u001b[A\n",
      " 61%|██████    | 50/82 [01:34<01:19,  2.47s/it]\u001b[A\n",
      " 62%|██████▏   | 51/82 [01:40<01:44,  3.38s/it]\u001b[A\n",
      " 63%|██████▎   | 52/82 [01:46<02:06,  4.23s/it]\u001b[A\n",
      " 65%|██████▍   | 53/82 [01:47<01:32,  3.17s/it]\u001b[A\n",
      " 66%|██████▌   | 54/82 [01:47<01:08,  2.46s/it]\u001b[A\n",
      " 67%|██████▋   | 55/82 [01:54<01:43,  3.83s/it]\u001b[A\n",
      " 68%|██████▊   | 56/82 [02:01<01:58,  4.54s/it]\u001b[A\n",
      " 70%|██████▉   | 57/82 [02:01<01:25,  3.40s/it]\u001b[A\n",
      " 71%|███████   | 58/82 [02:02<01:02,  2.61s/it]\u001b[A\n",
      " 72%|███████▏  | 59/82 [02:08<01:24,  3.66s/it]\u001b[A\n",
      " 73%|███████▎  | 60/82 [02:09<01:02,  2.83s/it]\u001b[A\n",
      " 74%|███████▍  | 61/82 [02:10<00:44,  2.13s/it]\u001b[A\n",
      " 76%|███████▌  | 62/82 [02:10<00:32,  1.63s/it]\u001b[A\n",
      " 77%|███████▋  | 63/82 [02:17<01:02,  3.31s/it]\u001b[A\n",
      " 78%|███████▊  | 64/82 [02:23<01:14,  4.12s/it]\u001b[A\n",
      " 79%|███████▉  | 65/82 [02:24<00:52,  3.10s/it]\u001b[A\n",
      " 80%|████████  | 66/82 [02:25<00:38,  2.41s/it]\u001b[A\n",
      " 82%|████████▏ | 67/82 [02:26<00:29,  1.99s/it]\u001b[A\n",
      " 83%|████████▎ | 68/82 [02:26<00:21,  1.54s/it]\u001b[A\n",
      " 84%|████████▍ | 69/82 [02:28<00:21,  1.64s/it]\u001b[A\n",
      " 85%|████████▌ | 70/82 [02:29<00:16,  1.40s/it]\u001b[A\n",
      " 87%|████████▋ | 71/82 [02:30<00:12,  1.16s/it]\u001b[A\n",
      " 88%|████████▊ | 72/82 [02:30<00:09,  1.00it/s]\u001b[A\n",
      " 89%|████████▉ | 73/82 [02:31<00:07,  1.19it/s]\u001b[A\n",
      " 90%|█████████ | 74/82 [02:33<00:09,  1.19s/it]\u001b[A\n",
      " 91%|█████████▏| 75/82 [02:39<00:19,  2.84s/it]\u001b[A\n",
      " 93%|█████████▎| 76/82 [02:43<00:17,  2.92s/it]\u001b[A\n",
      " 94%|█████████▍| 77/82 [02:46<00:14,  3.00s/it]\u001b[A\n",
      " 95%|█████████▌| 78/82 [02:46<00:09,  2.30s/it]\u001b[A\n",
      " 96%|█████████▋| 79/82 [02:47<00:05,  1.78s/it]\u001b[A\n",
      " 98%|█████████▊| 80/82 [02:47<00:02,  1.36s/it]\u001b[A\n",
      " 99%|█████████▉| 81/82 [02:48<00:01,  1.06s/it]\u001b[A\n",
      "100%|██████████| 82/82 [02:48<00:00,  2.06s/it]\u001b[A\n"
     ]
    }
   ],
   "source": [
    "#Rohe Analyse\n",
    "\n",
    "lst = [] #hatte gruusige darstellung, da die lst schon voll war. neu eröffnen, oder ändern, so!\n",
    "for pdf in tqdm(pdfs):\n",
    "    try:\n",
    "        text = textract.process(\"pdfs/\"+pdf, method='pdfminer', encoding='ISO-8859-1')\n",
    "        text = text.decode(\"ISO-8859-1\").replace(\"\\n\", \" \") #alternativ für zeile: text = str(text).replace///etc. ich weiss ja schon, dass es text ist\n",
    "        if len(text) < 40:           #so werden bilder,jpegs aussortiert und separat behandelt!! (40 nicht fix)\n",
    "            text = textract.process(\"pdfs/\"+pdf, method='tesseract', encoding='ISO-8859-1')\n",
    "            text = text.decode(\"ISO-8859-1\").replace(\"\\n\", \" \")\n",
    "            \n",
    "        mini_dict = {'Text':text,\n",
    "                     'File':pdf}\n",
    "        lst.append(mini_dict)\n",
    "    except:                #wenn kein text, dann gibts fehlermeldung, so werden die gesammelt\n",
    "        mini_dict = {'Text':'Fehlermeldung',\n",
    "                     'File':pdf}\n",
    "        lst.append(mini_dict)"
   ]
  },
  {
   "cell_type": "code",
   "execution_count": 27,
   "metadata": {},
   "outputs": [],
   "source": [
    "df = pd.DataFrame(lst)"
   ]
  },
  {
   "cell_type": "code",
   "execution_count": 30,
   "metadata": {},
   "outputs": [],
   "source": [
    "# eine spalte mit der länge der texte ins df integrieren\n",
    "\n",
    "def length(elem):\n",
    "    elem = len(elem)\n",
    "    return elem\n",
    "df['Text Länge'] = df['Text'].apply(length)"
   ]
  },
  {
   "cell_type": "code",
   "execution_count": 31,
   "metadata": {},
   "outputs": [
    {
     "data": {
      "text/html": [
       "<div>\n",
       "<style scoped>\n",
       "    .dataframe tbody tr th:only-of-type {\n",
       "        vertical-align: middle;\n",
       "    }\n",
       "\n",
       "    .dataframe tbody tr th {\n",
       "        vertical-align: top;\n",
       "    }\n",
       "\n",
       "    .dataframe thead th {\n",
       "        text-align: right;\n",
       "    }\n",
       "</style>\n",
       "<table border=\"1\" class=\"dataframe\">\n",
       "  <thead>\n",
       "    <tr style=\"text-align: right;\">\n",
       "      <th></th>\n",
       "      <th>Text</th>\n",
       "      <th>File</th>\n",
       "      <th>Text Länge</th>\n",
       "    </tr>\n",
       "  </thead>\n",
       "  <tbody>\n",
       "    <tr>\n",
       "      <td>0</td>\n",
       "      <td>dical  Wassenburg Medical B.V. Edisonnng 9  66...</td>\n",
       "      <td>Vk_20180514_49documents0.pdf</td>\n",
       "      <td>5755</td>\n",
       "    </tr>\n",
       "    <tr>\n",
       "      <td>1</td>\n",
       "      <td>Information urgente relative à la sécurité  Re...</td>\n",
       "      <td>Vk_20180522_02documents1.pdf</td>\n",
       "      <td>4478</td>\n",
       "    </tr>\n",
       "    <tr>\n",
       "      <td>2</td>\n",
       "      <td>Dräger Schweiz AG, CH-3097 Liebefeld   À latte...</td>\n",
       "      <td>Vk_20180413_17documents3.pdf</td>\n",
       "      <td>20713</td>\n",
       "    </tr>\n",
       "    <tr>\n",
       "      <td>3</td>\n",
       "      <td>BIBRAUN   B. Braun Medical SA  Seesatz 17  CH-...</td>\n",
       "      <td>Vk_20180525_03documents1.pdf</td>\n",
       "      <td>4403</td>\n",
       "    </tr>\n",
       "    <tr>\n",
       "      <td>4</td>\n",
       "      <td>URGENT ...</td>\n",
       "      <td>Vk_20180529_02documents2.pdf</td>\n",
       "      <td>4532</td>\n",
       "    </tr>\n",
       "    <tr>\n",
       "      <td>...</td>\n",
       "      <td>...</td>\n",
       "      <td>...</td>\n",
       "      <td>...</td>\n",
       "    </tr>\n",
       "    <tr>\n",
       "      <td>77</td>\n",
       "      <td>Adresse              Reichenbach, 27. April...</td>\n",
       "      <td>Vk_20180522_13documents0.pdf</td>\n",
       "      <td>7781</td>\n",
       "    </tr>\n",
       "    <tr>\n",
       "      <td>78</td>\n",
       "      <td>COOK              ®    Avis Urgent de Sécur...</td>\n",
       "      <td>Vk_20180226_08documents1.pdf</td>\n",
       "      <td>4334</td>\n",
       "    </tr>\n",
       "    <tr>\n",
       "      <td>79</td>\n",
       "      <td>Avis de sécurité urgentFSN  Nom commercial / M...</td>\n",
       "      <td>Vk_20180521_01documents1.pdf</td>\n",
       "      <td>2783</td>\n",
       "    </tr>\n",
       "    <tr>\n",
       "      <td>80</td>\n",
       "      <td>Dringender Sicherheitshinweis (FSN) Handelsnam...</td>\n",
       "      <td>Vk_20180521_01documents0.pdf</td>\n",
       "      <td>3249</td>\n",
       "    </tr>\n",
       "    <tr>\n",
       "      <td>81</td>\n",
       "      <td>Avviso urgente di sicurezza sul campoFSN  Nome...</td>\n",
       "      <td>Vk_20180521_01documents2.pdf</td>\n",
       "      <td>2819</td>\n",
       "    </tr>\n",
       "  </tbody>\n",
       "</table>\n",
       "<p>82 rows × 3 columns</p>\n",
       "</div>"
      ],
      "text/plain": [
       "                                                 Text  \\\n",
       "0   dical  Wassenburg Medical B.V. Edisonnng 9  66...   \n",
       "1   Information urgente relative à la sécurité  Re...   \n",
       "2   Dräger Schweiz AG, CH-3097 Liebefeld   À latte...   \n",
       "3   BIBRAUN   B. Braun Medical SA  Seesatz 17  CH-...   \n",
       "4                                          URGENT ...   \n",
       "..                                                ...   \n",
       "77     Adresse              Reichenbach, 27. April...   \n",
       "78     COOK              ®    Avis Urgent de Sécur...   \n",
       "79  Avis de sécurité urgentFSN  Nom commercial / M...   \n",
       "80  Dringender Sicherheitshinweis (FSN) Handelsnam...   \n",
       "81  Avviso urgente di sicurezza sul campoFSN  Nome...   \n",
       "\n",
       "                            File  Text Länge  \n",
       "0   Vk_20180514_49documents0.pdf        5755  \n",
       "1   Vk_20180522_02documents1.pdf        4478  \n",
       "2   Vk_20180413_17documents3.pdf       20713  \n",
       "3   Vk_20180525_03documents1.pdf        4403  \n",
       "4   Vk_20180529_02documents2.pdf        4532  \n",
       "..                           ...         ...  \n",
       "77  Vk_20180522_13documents0.pdf        7781  \n",
       "78  Vk_20180226_08documents1.pdf        4334  \n",
       "79  Vk_20180521_01documents1.pdf        2783  \n",
       "80  Vk_20180521_01documents0.pdf        3249  \n",
       "81  Vk_20180521_01documents2.pdf        2819  \n",
       "\n",
       "[82 rows x 3 columns]"
      ]
     },
     "execution_count": 31,
     "metadata": {},
     "output_type": "execute_result"
    }
   ],
   "source": [
    "df"
   ]
  },
  {
   "cell_type": "code",
   "execution_count": null,
   "metadata": {},
   "outputs": [],
   "source": []
  },
  {
   "cell_type": "code",
   "execution_count": null,
   "metadata": {},
   "outputs": [],
   "source": []
  },
  {
   "cell_type": "code",
   "execution_count": null,
   "metadata": {},
   "outputs": [],
   "source": []
  },
  {
   "cell_type": "code",
   "execution_count": 23,
   "metadata": {},
   "outputs": [
    {
     "ename": "KeyError",
     "evalue": "'File'",
     "output_type": "error",
     "traceback": [
      "\u001b[0;31m---------------------------------------------------------------------------\u001b[0m",
      "\u001b[0;31mKeyError\u001b[0m                                  Traceback (most recent call last)",
      "\u001b[0;32m~/.virtualenvs/erstesVE/lib/python3.7/site-packages/pandas/core/indexes/base.py\u001b[0m in \u001b[0;36mget_loc\u001b[0;34m(self, key, method, tolerance)\u001b[0m\n\u001b[1;32m   2896\u001b[0m             \u001b[0;32mtry\u001b[0m\u001b[0;34m:\u001b[0m\u001b[0;34m\u001b[0m\u001b[0;34m\u001b[0m\u001b[0m\n\u001b[0;32m-> 2897\u001b[0;31m                 \u001b[0;32mreturn\u001b[0m \u001b[0mself\u001b[0m\u001b[0;34m.\u001b[0m\u001b[0m_engine\u001b[0m\u001b[0;34m.\u001b[0m\u001b[0mget_loc\u001b[0m\u001b[0;34m(\u001b[0m\u001b[0mkey\u001b[0m\u001b[0;34m)\u001b[0m\u001b[0;34m\u001b[0m\u001b[0;34m\u001b[0m\u001b[0m\n\u001b[0m\u001b[1;32m   2898\u001b[0m             \u001b[0;32mexcept\u001b[0m \u001b[0mKeyError\u001b[0m\u001b[0;34m:\u001b[0m\u001b[0;34m\u001b[0m\u001b[0;34m\u001b[0m\u001b[0m\n",
      "\u001b[0;32mpandas/_libs/index.pyx\u001b[0m in \u001b[0;36mpandas._libs.index.IndexEngine.get_loc\u001b[0;34m()\u001b[0m\n",
      "\u001b[0;32mpandas/_libs/index.pyx\u001b[0m in \u001b[0;36mpandas._libs.index.IndexEngine.get_loc\u001b[0;34m()\u001b[0m\n",
      "\u001b[0;32mpandas/_libs/index_class_helper.pxi\u001b[0m in \u001b[0;36mpandas._libs.index.Int64Engine._check_type\u001b[0;34m()\u001b[0m\n",
      "\u001b[0;31mKeyError\u001b[0m: 'File'",
      "\nDuring handling of the above exception, another exception occurred:\n",
      "\u001b[0;31mKeyError\u001b[0m                                  Traceback (most recent call last)",
      "\u001b[0;32m<ipython-input-23-bd0b745238ee>\u001b[0m in \u001b[0;36m<module>\u001b[0;34m\u001b[0m\n\u001b[1;32m      4\u001b[0m     \u001b[0melem\u001b[0m \u001b[0;34m=\u001b[0m \u001b[0melem\u001b[0m\u001b[0;34m[\u001b[0m\u001b[0;36m3\u001b[0m\u001b[0;34m:\u001b[0m\u001b[0;36m11\u001b[0m\u001b[0;34m]\u001b[0m\u001b[0;34m\u001b[0m\u001b[0;34m\u001b[0m\u001b[0m\n\u001b[1;32m      5\u001b[0m     \u001b[0;32mreturn\u001b[0m \u001b[0melem\u001b[0m\u001b[0;34m\u001b[0m\u001b[0;34m\u001b[0m\u001b[0m\n\u001b[0;32m----> 6\u001b[0;31m \u001b[0mdf\u001b[0m\u001b[0;34m[\u001b[0m\u001b[0;34m'date'\u001b[0m\u001b[0;34m]\u001b[0m \u001b[0;34m=\u001b[0m \u001b[0mdf\u001b[0m\u001b[0;34m[\u001b[0m\u001b[0;34m'File'\u001b[0m\u001b[0;34m]\u001b[0m\u001b[0;34m.\u001b[0m\u001b[0mapply\u001b[0m\u001b[0;34m(\u001b[0m\u001b[0mdate\u001b[0m\u001b[0;34m)\u001b[0m\u001b[0;34m\u001b[0m\u001b[0;34m\u001b[0m\u001b[0m\n\u001b[0m\u001b[1;32m      7\u001b[0m \u001b[0mdf\u001b[0m\u001b[0;34m[\u001b[0m\u001b[0;34m'date'\u001b[0m\u001b[0;34m]\u001b[0m \u001b[0;34m=\u001b[0m \u001b[0mpd\u001b[0m\u001b[0;34m.\u001b[0m\u001b[0mto_datetime\u001b[0m\u001b[0;34m(\u001b[0m\u001b[0mdf\u001b[0m\u001b[0;34m[\u001b[0m\u001b[0;34m'date'\u001b[0m\u001b[0;34m]\u001b[0m\u001b[0;34m,\u001b[0m \u001b[0mformat\u001b[0m\u001b[0;34m=\u001b[0m\u001b[0;34m'%Y%m%d'\u001b[0m\u001b[0;34m)\u001b[0m\u001b[0;34m\u001b[0m\u001b[0;34m\u001b[0m\u001b[0m\n\u001b[1;32m      8\u001b[0m \u001b[0mdf\u001b[0m\u001b[0;34m.\u001b[0m\u001b[0mindex\u001b[0m \u001b[0;34m=\u001b[0m \u001b[0mdf\u001b[0m\u001b[0;34m[\u001b[0m\u001b[0;34m'date'\u001b[0m\u001b[0;34m]\u001b[0m\u001b[0;34m\u001b[0m\u001b[0;34m\u001b[0m\u001b[0m\n",
      "\u001b[0;32m~/.virtualenvs/erstesVE/lib/python3.7/site-packages/pandas/core/frame.py\u001b[0m in \u001b[0;36m__getitem__\u001b[0;34m(self, key)\u001b[0m\n\u001b[1;32m   2978\u001b[0m             \u001b[0;32mif\u001b[0m \u001b[0mself\u001b[0m\u001b[0;34m.\u001b[0m\u001b[0mcolumns\u001b[0m\u001b[0;34m.\u001b[0m\u001b[0mnlevels\u001b[0m \u001b[0;34m>\u001b[0m \u001b[0;36m1\u001b[0m\u001b[0;34m:\u001b[0m\u001b[0;34m\u001b[0m\u001b[0;34m\u001b[0m\u001b[0m\n\u001b[1;32m   2979\u001b[0m                 \u001b[0;32mreturn\u001b[0m \u001b[0mself\u001b[0m\u001b[0;34m.\u001b[0m\u001b[0m_getitem_multilevel\u001b[0m\u001b[0;34m(\u001b[0m\u001b[0mkey\u001b[0m\u001b[0;34m)\u001b[0m\u001b[0;34m\u001b[0m\u001b[0;34m\u001b[0m\u001b[0m\n\u001b[0;32m-> 2980\u001b[0;31m             \u001b[0mindexer\u001b[0m \u001b[0;34m=\u001b[0m \u001b[0mself\u001b[0m\u001b[0;34m.\u001b[0m\u001b[0mcolumns\u001b[0m\u001b[0;34m.\u001b[0m\u001b[0mget_loc\u001b[0m\u001b[0;34m(\u001b[0m\u001b[0mkey\u001b[0m\u001b[0;34m)\u001b[0m\u001b[0;34m\u001b[0m\u001b[0;34m\u001b[0m\u001b[0m\n\u001b[0m\u001b[1;32m   2981\u001b[0m             \u001b[0;32mif\u001b[0m \u001b[0mis_integer\u001b[0m\u001b[0;34m(\u001b[0m\u001b[0mindexer\u001b[0m\u001b[0;34m)\u001b[0m\u001b[0;34m:\u001b[0m\u001b[0;34m\u001b[0m\u001b[0;34m\u001b[0m\u001b[0m\n\u001b[1;32m   2982\u001b[0m                 \u001b[0mindexer\u001b[0m \u001b[0;34m=\u001b[0m \u001b[0;34m[\u001b[0m\u001b[0mindexer\u001b[0m\u001b[0;34m]\u001b[0m\u001b[0;34m\u001b[0m\u001b[0;34m\u001b[0m\u001b[0m\n",
      "\u001b[0;32m~/.virtualenvs/erstesVE/lib/python3.7/site-packages/pandas/core/indexes/range.py\u001b[0m in \u001b[0;36mget_loc\u001b[0;34m(self, key, method, tolerance)\u001b[0m\n\u001b[1;32m    377\u001b[0m             \u001b[0;32mexcept\u001b[0m \u001b[0mValueError\u001b[0m\u001b[0;34m:\u001b[0m\u001b[0;34m\u001b[0m\u001b[0;34m\u001b[0m\u001b[0m\n\u001b[1;32m    378\u001b[0m                 \u001b[0;32mraise\u001b[0m \u001b[0mKeyError\u001b[0m\u001b[0;34m(\u001b[0m\u001b[0mkey\u001b[0m\u001b[0;34m)\u001b[0m\u001b[0;34m\u001b[0m\u001b[0;34m\u001b[0m\u001b[0m\n\u001b[0;32m--> 379\u001b[0;31m         \u001b[0;32mreturn\u001b[0m \u001b[0msuper\u001b[0m\u001b[0;34m(\u001b[0m\u001b[0;34m)\u001b[0m\u001b[0;34m.\u001b[0m\u001b[0mget_loc\u001b[0m\u001b[0;34m(\u001b[0m\u001b[0mkey\u001b[0m\u001b[0;34m,\u001b[0m \u001b[0mmethod\u001b[0m\u001b[0;34m=\u001b[0m\u001b[0mmethod\u001b[0m\u001b[0;34m,\u001b[0m \u001b[0mtolerance\u001b[0m\u001b[0;34m=\u001b[0m\u001b[0mtolerance\u001b[0m\u001b[0;34m)\u001b[0m\u001b[0;34m\u001b[0m\u001b[0;34m\u001b[0m\u001b[0m\n\u001b[0m\u001b[1;32m    380\u001b[0m \u001b[0;34m\u001b[0m\u001b[0m\n\u001b[1;32m    381\u001b[0m     \u001b[0;34m@\u001b[0m\u001b[0mAppender\u001b[0m\u001b[0;34m(\u001b[0m\u001b[0m_index_shared_docs\u001b[0m\u001b[0;34m[\u001b[0m\u001b[0;34m\"get_indexer\"\u001b[0m\u001b[0;34m]\u001b[0m\u001b[0;34m)\u001b[0m\u001b[0;34m\u001b[0m\u001b[0;34m\u001b[0m\u001b[0m\n",
      "\u001b[0;32m~/.virtualenvs/erstesVE/lib/python3.7/site-packages/pandas/core/indexes/base.py\u001b[0m in \u001b[0;36mget_loc\u001b[0;34m(self, key, method, tolerance)\u001b[0m\n\u001b[1;32m   2897\u001b[0m                 \u001b[0;32mreturn\u001b[0m \u001b[0mself\u001b[0m\u001b[0;34m.\u001b[0m\u001b[0m_engine\u001b[0m\u001b[0;34m.\u001b[0m\u001b[0mget_loc\u001b[0m\u001b[0;34m(\u001b[0m\u001b[0mkey\u001b[0m\u001b[0;34m)\u001b[0m\u001b[0;34m\u001b[0m\u001b[0;34m\u001b[0m\u001b[0m\n\u001b[1;32m   2898\u001b[0m             \u001b[0;32mexcept\u001b[0m \u001b[0mKeyError\u001b[0m\u001b[0;34m:\u001b[0m\u001b[0;34m\u001b[0m\u001b[0;34m\u001b[0m\u001b[0m\n\u001b[0;32m-> 2899\u001b[0;31m                 \u001b[0;32mreturn\u001b[0m \u001b[0mself\u001b[0m\u001b[0;34m.\u001b[0m\u001b[0m_engine\u001b[0m\u001b[0;34m.\u001b[0m\u001b[0mget_loc\u001b[0m\u001b[0;34m(\u001b[0m\u001b[0mself\u001b[0m\u001b[0;34m.\u001b[0m\u001b[0m_maybe_cast_indexer\u001b[0m\u001b[0;34m(\u001b[0m\u001b[0mkey\u001b[0m\u001b[0;34m)\u001b[0m\u001b[0;34m)\u001b[0m\u001b[0;34m\u001b[0m\u001b[0;34m\u001b[0m\u001b[0m\n\u001b[0m\u001b[1;32m   2900\u001b[0m         \u001b[0mindexer\u001b[0m \u001b[0;34m=\u001b[0m \u001b[0mself\u001b[0m\u001b[0;34m.\u001b[0m\u001b[0mget_indexer\u001b[0m\u001b[0;34m(\u001b[0m\u001b[0;34m[\u001b[0m\u001b[0mkey\u001b[0m\u001b[0;34m]\u001b[0m\u001b[0;34m,\u001b[0m \u001b[0mmethod\u001b[0m\u001b[0;34m=\u001b[0m\u001b[0mmethod\u001b[0m\u001b[0;34m,\u001b[0m \u001b[0mtolerance\u001b[0m\u001b[0;34m=\u001b[0m\u001b[0mtolerance\u001b[0m\u001b[0;34m)\u001b[0m\u001b[0;34m\u001b[0m\u001b[0;34m\u001b[0m\u001b[0m\n\u001b[1;32m   2901\u001b[0m         \u001b[0;32mif\u001b[0m \u001b[0mindexer\u001b[0m\u001b[0;34m.\u001b[0m\u001b[0mndim\u001b[0m \u001b[0;34m>\u001b[0m \u001b[0;36m1\u001b[0m \u001b[0;32mor\u001b[0m \u001b[0mindexer\u001b[0m\u001b[0;34m.\u001b[0m\u001b[0msize\u001b[0m \u001b[0;34m>\u001b[0m \u001b[0;36m1\u001b[0m\u001b[0;34m:\u001b[0m\u001b[0;34m\u001b[0m\u001b[0;34m\u001b[0m\u001b[0m\n",
      "\u001b[0;32mpandas/_libs/index.pyx\u001b[0m in \u001b[0;36mpandas._libs.index.IndexEngine.get_loc\u001b[0;34m()\u001b[0m\n",
      "\u001b[0;32mpandas/_libs/index.pyx\u001b[0m in \u001b[0;36mpandas._libs.index.IndexEngine.get_loc\u001b[0;34m()\u001b[0m\n",
      "\u001b[0;32mpandas/_libs/index_class_helper.pxi\u001b[0m in \u001b[0;36mpandas._libs.index.Int64Engine._check_type\u001b[0;34m()\u001b[0m\n",
      "\u001b[0;31mKeyError\u001b[0m: 'File'"
     ]
    }
   ],
   "source": [
    "#Erste Säuberung\n",
    "df = pd.DataFrame(lst)\n",
    "def date(elem):\n",
    "    elem = elem[3:11]\n",
    "    return elem\n",
    "df['date'] = df['File'].apply(date)\n",
    "df['date'] = pd.to_datetime(df['date'], format='%Y%m%d')\n",
    "df.index = df['date']\n",
    "#Suchen wir noch nach Implantaten\n",
    "df['implant'] = df['Text'].str.contains('implant')\n",
    "df.to_csv('datafile.csv')"
   ]
  },
  {
   "cell_type": "code",
   "execution_count": null,
   "metadata": {},
   "outputs": [],
   "source": []
  }
 ],
 "metadata": {
  "kernelspec": {
   "display_name": "Python 3",
   "language": "python",
   "name": "python3"
  },
  "language_info": {
   "codemirror_mode": {
    "name": "ipython",
    "version": 3
   },
   "file_extension": ".py",
   "mimetype": "text/x-python",
   "name": "python",
   "nbconvert_exporter": "python",
   "pygments_lexer": "ipython3",
   "version": "3.7.4"
  }
 },
 "nbformat": 4,
 "nbformat_minor": 2
}
