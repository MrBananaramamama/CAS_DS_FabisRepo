{
 "cells": [
  {
   "cell_type": "code",
   "execution_count": 5,
   "metadata": {},
   "outputs": [],
   "source": [
    "import camelot\n",
    "import tabula\n",
    "import pandas as pd"
   ]
  },
  {
   "cell_type": "code",
   "execution_count": 2,
   "metadata": {
    "scrolled": true
   },
   "outputs": [
    {
     "name": "stdout",
     "output_type": "stream",
     "text": [
      "Collecting tabula-py\n",
      "\u001b[?25l  Downloading https://files.pythonhosted.org/packages/78/e0/895cbb704f00d962a6714076b605463f3a03a42e70337f4b67be66972df6/tabula_py-1.4.1-py3-none-any.whl (10.4MB)\n",
      "\u001b[K     |████████████████████████████████| 10.4MB 6.6MB/s eta 0:00:01    |█████████████████████████████▋  | 9.6MB 6.6MB/s eta 0:00:01\n",
      "\u001b[?25hRequirement already satisfied: numpy in /Users/fabianvonallmen/.virtualenvs/erstesVE/lib/python3.7/site-packages (from tabula-py) (1.17.2)\n",
      "Collecting distro (from tabula-py)\n",
      "  Downloading https://files.pythonhosted.org/packages/ea/35/82f79b92fa4d937146c660a6482cee4f3dfa1f97ff3d2a6f3ecba33e712e/distro-1.4.0-py2.py3-none-any.whl\n",
      "Requirement already satisfied: pandas in /Users/fabianvonallmen/.virtualenvs/erstesVE/lib/python3.7/site-packages (from tabula-py) (0.25.1)\n",
      "Requirement already satisfied: python-dateutil>=2.6.1 in /Users/fabianvonallmen/.virtualenvs/erstesVE/lib/python3.7/site-packages (from pandas->tabula-py) (2.8.0)\n",
      "Requirement already satisfied: pytz>=2017.2 in /Users/fabianvonallmen/.virtualenvs/erstesVE/lib/python3.7/site-packages (from pandas->tabula-py) (2019.2)\n",
      "Requirement already satisfied: six>=1.5 in /Users/fabianvonallmen/.virtualenvs/erstesVE/lib/python3.7/site-packages (from python-dateutil>=2.6.1->pandas->tabula-py) (1.12.0)\n",
      "Installing collected packages: distro, tabula-py\n",
      "Successfully installed distro-1.4.0 tabula-py-1.4.1\n"
     ]
    }
   ],
   "source": [
    "!pip install tabula-py"
   ]
  },
  {
   "cell_type": "code",
   "execution_count": 8,
   "metadata": {},
   "outputs": [],
   "source": [
    "#camelot lokalisiert tabellen in pdfs, wenn ein grid lesbar ist. kann man in pandas dataframe verwandeln, ohne abelade!\n",
    "\n",
    "tables = camelot.read_pdf('doc.pdf')"
   ]
  },
  {
   "cell_type": "code",
   "execution_count": 9,
   "metadata": {},
   "outputs": [
    {
     "data": {
      "text/plain": [
       "<TableList n=0>"
      ]
     },
     "execution_count": 9,
     "metadata": {},
     "output_type": "execute_result"
    }
   ],
   "source": [
    "tables"
   ]
  },
  {
   "cell_type": "code",
   "execution_count": 11,
   "metadata": {},
   "outputs": [],
   "source": [
    "import textract"
   ]
  },
  {
   "cell_type": "code",
   "execution_count": null,
   "metadata": {},
   "outputs": [],
   "source": []
  }
 ],
 "metadata": {
  "kernelspec": {
   "display_name": "Python 3",
   "language": "python",
   "name": "python3"
  },
  "language_info": {
   "codemirror_mode": {
    "name": "ipython",
    "version": 3
   },
   "file_extension": ".py",
   "mimetype": "text/x-python",
   "name": "python",
   "nbconvert_exporter": "python",
   "pygments_lexer": "ipython3",
   "version": "3.7.4"
  }
 },
 "nbformat": 4,
 "nbformat_minor": 2
}
