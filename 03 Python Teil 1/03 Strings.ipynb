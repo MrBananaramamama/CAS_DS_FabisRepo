{
 "cells": [
  {
   "cell_type": "markdown",
   "metadata": {
    "collapsed": true
   },
   "source": [
    "# Strings\n",
    "\n",
    "Wir können in Python nicht nur mit Zahlen, sondern auch mit Zeichenketten, sogenannten **Strings**, arbeiten. Darunter kannst du dir jegliche Abfolgen von Zeichen vorstellen, die in Anführungszeichen stehen. Zum Beispiel ist _\"Hallo\"_ ein String und _\"Hallo Welt\"_ ebenso, aber auch _\"123.2\"_ oder _\"!Achtung!\"_"
   ]
  },
  {
   "cell_type": "markdown",
   "metadata": {},
   "source": [
    "### Allgemeines\n",
    "\n",
    "Auch Strings können wir mit dem print()-Befehl ausgeben."
   ]
  },
  {
   "cell_type": "code",
   "execution_count": null,
   "metadata": {},
   "outputs": [],
   "source": [
    "print(\"Hallo Welt\")"
   ]
  },
  {
   "cell_type": "markdown",
   "metadata": {},
   "source": [
    "Du kannst Strings wie Zahlen in Variablen speichern."
   ]
  },
  {
   "cell_type": "code",
   "execution_count": null,
   "metadata": {},
   "outputs": [],
   "source": [
    "name = \"Max\""
   ]
  },
  {
   "cell_type": "code",
   "execution_count": null,
   "metadata": {},
   "outputs": [],
   "source": [
    "print(name)"
   ]
  },
  {
   "cell_type": "markdown",
   "metadata": {},
   "source": [
    "### Strings zusammenfügen\n",
    "\n",
    "Du kannst zwei oder mehrere Zeichenketten auch mittels **+** zusammenfügen."
   ]
  },
  {
   "cell_type": "code",
   "execution_count": null,
   "metadata": {},
   "outputs": [],
   "source": [
    "print(\"Ich bin: \" + \"Max\")"
   ]
  },
  {
   "cell_type": "code",
   "execution_count": null,
   "metadata": {},
   "outputs": [],
   "source": [
    "print(\"Ich bin: \" + name + \". Und wer bist du?\")"
   ]
  },
  {
   "cell_type": "markdown",
   "metadata": {},
   "source": [
    "## Übung"
   ]
  },
  {
   "cell_type": "markdown",
   "metadata": {},
   "source": [
    "Probiert was passiert wenn ihr versucht Zahlen und Strings zu addieren:"
   ]
  },
  {
   "cell_type": "code",
   "execution_count": 1,
   "metadata": {},
   "outputs": [],
   "source": [
    "# dein code hier\n",
    "\"test\" + 3 "
   ]
  },
  {
   "cell_type": "markdown",
   "metadata": {},
   "source": [
    "### Eine Zahl in einen String umwandeln\n",
    "Du kannst diese Fehler korrigieren, indem du die Zahl in einen String umwandelst. Dazu hast du zwei Möglichkeiten:\n",
    "\n",
    "1.) Du setzt Anführungszeichen um die Zahl und machst sie so zu einem String:"
   ]
  },
  {
   "cell_type": "code",
   "execution_count": null,
   "metadata": {},
   "outputs": [],
   "source": [
    "print(\"Ich bin: \" + \"4\")"
   ]
  },
  {
   "cell_type": "markdown",
   "metadata": {},
   "source": [
    "2.) Du wandelst die Zahl mit dem **str()**-Befehl in einen String um:"
   ]
  },
  {
   "cell_type": "code",
   "execution_count": 3,
   "metadata": {},
   "outputs": [
    {
     "name": "stdout",
     "output_type": "stream",
     "text": [
      "Ich bin: 22\n"
     ]
    }
   ],
   "source": [
    "age = 22\n",
    "print(\"Ich bin: \" + str(age))"
   ]
  },
  {
   "cell_type": "markdown",
   "metadata": {},
   "source": [
    "**Beachte, dass du mit \"4\" oder str(age) nicht mehr rechnen kannst!**"
   ]
  },
  {
   "cell_type": "markdown",
   "metadata": {},
   "source": [
    "## Übung \n",
    "* Schaue wieviele einwohner Zürich hat. [hier](https://www.stadt-zuerich.ch/prd/de/index/statistik/themen/bevoelkerung.html)\n",
    "* Speichere diese Zahl in x. \n",
    "* Speichere die Einwohner vor 10 Jahren in y.\n",
    "* Berechne den Anstieg der Anwohner: z.\n",
    "* Gib folgenden Satz mit print() aus: \"In Zürich gibt es x Einwohner. Vor 10 Jahren gab es y Einwohner. Das ist ein anstieg von z Prozent.\" "
   ]
  },
  {
   "cell_type": "code",
   "execution_count": 47,
   "metadata": {},
   "outputs": [
    {
     "name": "stdout",
     "output_type": "stream",
     "text": [
      "In Zürich gibt es 431303 Einwohner. Vor 10 Jahren gab es 382906 Einwohner. Das ist ein Anstieg von 12.6 Prozent.\n"
     ]
    }
   ],
   "source": [
    "x = 431303\n",
    "y = 382906\n",
    "w = 100\n",
    "\n",
    "Anstieg = 100 / y*x -100\n",
    "\n",
    "\n",
    "print(\"In Zürich gibt es \" + str(x) + \n",
    "      \" Einwohner.\" + \" Vor 10 Jahren gab es \" + str(y) +\n",
    "      \" Einwohner. Das ist ein Anstieg von \" +str(\"{0:.1f}\".format(Anstieg)) + \" Prozent.\")"
   ]
  },
  {
   "cell_type": "code",
   "execution_count": 44,
   "metadata": {},
   "outputs": [
    {
     "data": {
      "text/plain": [
       "'12.64'"
      ]
     },
     "execution_count": 44,
     "metadata": {},
     "output_type": "execute_result"
    }
   ],
   "source": [
    "#Formatierung der Dezimalstellen von Floats\n",
    "(\"{0:.2f}\".format(Anstieg))"
   ]
  },
  {
   "cell_type": "code",
   "execution_count": 48,
   "metadata": {},
   "outputs": [
    {
     "ename": "TypeError",
     "evalue": "can only concatenate str (not \"int\") to str",
     "output_type": "error",
     "traceback": [
      "\u001b[0;31m---------------------------------------------------------------------------\u001b[0m",
      "\u001b[0;31mTypeError\u001b[0m                                 Traceback (most recent call last)",
      "\u001b[0;32m<ipython-input-48-b1a354d9bd76>\u001b[0m in \u001b[0;36m<module>\u001b[0;34m\u001b[0m\n\u001b[1;32m      3\u001b[0m print(\"In Zürich gibt es \" + str(x) + \n\u001b[1;32m      4\u001b[0m       \u001b[0;34m\" Einwohner.\"\u001b[0m \u001b[0;34m+\u001b[0m \u001b[0;34m\" Vor 10 Jahren gab es \"\u001b[0m \u001b[0;34m+\u001b[0m \u001b[0mstr\u001b[0m\u001b[0;34m(\u001b[0m\u001b[0my\u001b[0m\u001b[0;34m)\u001b[0m \u001b[0;34m+\u001b[0m\u001b[0;34m\u001b[0m\u001b[0;34m\u001b[0m\u001b[0m\n\u001b[0;32m----> 5\u001b[0;31m       \" Einwohner. Das ist ein Anstieg von \" +int(Anstieg) + \" Prozent.\")\n\u001b[0m",
      "\u001b[0;31mTypeError\u001b[0m: can only concatenate str (not \"int\") to str"
     ]
    }
   ],
   "source": [
    "#oder man kann auch integer draus machen, das wäre dann so:\n",
    "int(Anstieg)\n",
    "print(\"In Zürich gibt es \" + str(x) + \n",
    "      \" Einwohner.\" + \" Vor 10 Jahren gab es \" + str(y) + \n",
    "      \" Einwohner. Das ist ein Anstieg von \" +int(Anstieg) + \" Prozent.\")"
   ]
  },
  {
   "cell_type": "code",
   "execution_count": null,
   "metadata": {},
   "outputs": [],
   "source": []
  }
 ],
 "metadata": {
  "kernelspec": {
   "display_name": "Python 3",
   "language": "python",
   "name": "python3"
  },
  "language_info": {
   "codemirror_mode": {
    "name": "ipython",
    "version": 3
   },
   "file_extension": ".py",
   "mimetype": "text/x-python",
   "name": "python",
   "nbconvert_exporter": "python",
   "pygments_lexer": "ipython3",
   "version": "3.7.4"
  }
 },
 "nbformat": 4,
 "nbformat_minor": 2
}
