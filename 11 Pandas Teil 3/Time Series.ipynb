{
 "cells": [
  {
   "cell_type": "markdown",
   "metadata": {},
   "source": [
    "# Time Series"
   ]
  },
  {
   "cell_type": "markdown",
   "metadata": {
    "collapsed": true
   },
   "source": [
    "**Inhalt:** Zeitreihen analysieren Like a Boss\n",
    "\n",
    "**Nötige Skills:** Daten explorieren, Time+Date Basics\n",
    "\n",
    "**Lernziele:**\n",
    "- Datetime-Datentyp anwenden\n",
    "- Auswertungsmöglichkeiten für zeitbezogene Daten kennenlernen\n",
    "- Plotting Level 3"
   ]
  },
  {
   "cell_type": "markdown",
   "metadata": {
    "collapsed": true
   },
   "source": [
    "**Weitere Ressourcen:**\n",
    "- https://jakevdp.github.io/PythonDataScienceHandbook/03.11-working-with-time-series.html"
   ]
  },
  {
   "cell_type": "markdown",
   "metadata": {},
   "source": [
    "## Das Beispiel"
   ]
  },
  {
   "cell_type": "markdown",
   "metadata": {},
   "source": [
    "Die Zeit ist eine Dimension, die in vielen Datensets vorkommt.\n",
    "\n",
    "Ein typischer Anwendungsfall sind Finanzdaten. Wir analysieren in diesem Notebook eine einzige Grösse: den Schweizer Aktienindex SMI. Die Daten dazu sind auf täglicher Basis frei verfügbar, ab 1989.\n",
    "\n",
    "Quelle: https://www.six-group.com/exchanges/indices/data_centre/shares/smi_de.html\n",
    "\n",
    "Wir werden in diesem Notebook verschiedene Techniken kennenlernen:\n",
    "- Aus der Gesamtmenge die Zeitperioden auswählen, die uns interessieren\n",
    "- Daten für verschiedene Zeiträume aggregieren (zB Monate)\n",
    "- Daten für verschiedene Zeiträume gruppieren (das ist nicht dasselbe)\n",
    "- Daten-Veränderungen berechnen und darstellen\n",
    "- Trends erkennen und Daten glätten\n",
    "\n",
    "Diverse von diesen Techniken kommen üblicherweise zur Anwendungen, wenn man aus einer Zeitreihe eine Story generieren will, und wenn es darum geht, die Daten angemessen darzustellen."
   ]
  },
  {
   "cell_type": "code",
   "execution_count": null,
   "metadata": {},
   "outputs": [],
   "source": []
  },
  {
   "cell_type": "markdown",
   "metadata": {},
   "source": [
    "## Vorbereitung"
   ]
  },
  {
   "cell_type": "code",
   "execution_count": 1,
   "metadata": {},
   "outputs": [],
   "source": [
    "import pandas as pd\n",
    "import numpy as np\n",
    "%matplotlib inline"
   ]
  },
  {
   "cell_type": "code",
   "execution_count": 2,
   "metadata": {},
   "outputs": [],
   "source": [
    "import numpy as np"
   ]
  },
  {
   "cell_type": "code",
   "execution_count": 3,
   "metadata": {},
   "outputs": [],
   "source": [
    "%matplotlib inline"
   ]
  },
  {
   "cell_type": "markdown",
   "metadata": {},
   "source": [
    "## Daten einlesen"
   ]
  },
  {
   "cell_type": "markdown",
   "metadata": {},
   "source": [
    "Die Daten sind bereits gespeichert unter `dataprojects/SMI/smi_new.csv`"
   ]
  },
  {
   "cell_type": "code",
   "execution_count": 4,
   "metadata": {},
   "outputs": [],
   "source": [
    "df = pd.read_csv('dataprojects/SMI/smi_new.csv')"
   ]
  },
  {
   "cell_type": "markdown",
   "metadata": {
    "collapsed": true
   },
   "source": [
    "Wie üblich, Typen abchecken"
   ]
  },
  {
   "cell_type": "code",
   "execution_count": 5,
   "metadata": {},
   "outputs": [
    {
     "data": {
      "text/plain": [
       "Date      object\n",
       "Open     float64\n",
       "Close    float64\n",
       "High     float64\n",
       "Low      float64\n",
       "dtype: object"
      ]
     },
     "execution_count": 5,
     "metadata": {},
     "output_type": "execute_result"
    }
   ],
   "source": [
    "df.dtypes"
   ]
  },
  {
   "cell_type": "markdown",
   "metadata": {
    "collapsed": true
   },
   "source": [
    "Jetzt sind wir ready! - fast."
   ]
  },
  {
   "cell_type": "markdown",
   "metadata": {},
   "source": [
    "## Daten Arrangieren"
   ]
  },
  {
   "cell_type": "markdown",
   "metadata": {},
   "source": [
    "Bevor es losgeht mit analysieren, erstellen wir uns eine ordentliche Datums-Spalte.\n",
    "\n",
    "Und zwar eine, die den Datentyp \"Datetime\" hat!"
   ]
  },
  {
   "cell_type": "code",
   "execution_count": 6,
   "metadata": {},
   "outputs": [],
   "source": [
    "df['New Date'] = pd.to_datetime(df['Date'], format=\"%d.%m.%Y\")"
   ]
  },
  {
   "cell_type": "code",
   "execution_count": 7,
   "metadata": {},
   "outputs": [
    {
     "data": {
      "text/html": [
       "<div>\n",
       "<style scoped>\n",
       "    .dataframe tbody tr th:only-of-type {\n",
       "        vertical-align: middle;\n",
       "    }\n",
       "\n",
       "    .dataframe tbody tr th {\n",
       "        vertical-align: top;\n",
       "    }\n",
       "\n",
       "    .dataframe thead th {\n",
       "        text-align: right;\n",
       "    }\n",
       "</style>\n",
       "<table border=\"1\" class=\"dataframe\">\n",
       "  <thead>\n",
       "    <tr style=\"text-align: right;\">\n",
       "      <th></th>\n",
       "      <th>Date</th>\n",
       "      <th>Open</th>\n",
       "      <th>Close</th>\n",
       "      <th>High</th>\n",
       "      <th>Low</th>\n",
       "      <th>New Date</th>\n",
       "    </tr>\n",
       "  </thead>\n",
       "  <tbody>\n",
       "    <tr>\n",
       "      <td>0</td>\n",
       "      <td>11.10.2019</td>\n",
       "      <td>9913.37</td>\n",
       "      <td>10017.39</td>\n",
       "      <td>10027.87</td>\n",
       "      <td>9906.83</td>\n",
       "      <td>2019-10-11</td>\n",
       "    </tr>\n",
       "    <tr>\n",
       "      <td>1</td>\n",
       "      <td>10.10.2019</td>\n",
       "      <td>9832.06</td>\n",
       "      <td>9903.02</td>\n",
       "      <td>9914.56</td>\n",
       "      <td>9796.69</td>\n",
       "      <td>2019-10-10</td>\n",
       "    </tr>\n",
       "  </tbody>\n",
       "</table>\n",
       "</div>"
      ],
      "text/plain": [
       "         Date     Open     Close      High      Low   New Date\n",
       "0  11.10.2019  9913.37  10017.39  10027.87  9906.83 2019-10-11\n",
       "1  10.10.2019  9832.06   9903.02   9914.56  9796.69 2019-10-10"
      ]
     },
     "execution_count": 7,
     "metadata": {},
     "output_type": "execute_result"
    }
   ],
   "source": [
    "df.head(2)"
   ]
  },
  {
   "cell_type": "code",
   "execution_count": 8,
   "metadata": {},
   "outputs": [
    {
     "data": {
      "text/plain": [
       "Date                object\n",
       "Open               float64\n",
       "Close              float64\n",
       "High               float64\n",
       "Low                float64\n",
       "New Date    datetime64[ns]\n",
       "dtype: object"
      ]
     },
     "execution_count": 8,
     "metadata": {},
     "output_type": "execute_result"
    }
   ],
   "source": [
    "df.dtypes"
   ]
  },
  {
   "cell_type": "markdown",
   "metadata": {
    "collapsed": true
   },
   "source": [
    "Wir setzen diese Spalte nun als Index"
   ]
  },
  {
   "cell_type": "code",
   "execution_count": 9,
   "metadata": {},
   "outputs": [],
   "source": [
    "df.set_index('New Date', inplace=True)"
   ]
  },
  {
   "cell_type": "code",
   "execution_count": 10,
   "metadata": {},
   "outputs": [
    {
     "data": {
      "text/html": [
       "<div>\n",
       "<style scoped>\n",
       "    .dataframe tbody tr th:only-of-type {\n",
       "        vertical-align: middle;\n",
       "    }\n",
       "\n",
       "    .dataframe tbody tr th {\n",
       "        vertical-align: top;\n",
       "    }\n",
       "\n",
       "    .dataframe thead th {\n",
       "        text-align: right;\n",
       "    }\n",
       "</style>\n",
       "<table border=\"1\" class=\"dataframe\">\n",
       "  <thead>\n",
       "    <tr style=\"text-align: right;\">\n",
       "      <th></th>\n",
       "      <th>Date</th>\n",
       "      <th>Open</th>\n",
       "      <th>Close</th>\n",
       "      <th>High</th>\n",
       "      <th>Low</th>\n",
       "    </tr>\n",
       "    <tr>\n",
       "      <th>New Date</th>\n",
       "      <th></th>\n",
       "      <th></th>\n",
       "      <th></th>\n",
       "      <th></th>\n",
       "      <th></th>\n",
       "    </tr>\n",
       "  </thead>\n",
       "  <tbody>\n",
       "    <tr>\n",
       "      <td>2019-10-11</td>\n",
       "      <td>11.10.2019</td>\n",
       "      <td>9913.37</td>\n",
       "      <td>10017.39</td>\n",
       "      <td>10027.87</td>\n",
       "      <td>9906.83</td>\n",
       "    </tr>\n",
       "    <tr>\n",
       "      <td>2019-10-10</td>\n",
       "      <td>10.10.2019</td>\n",
       "      <td>9832.06</td>\n",
       "      <td>9903.02</td>\n",
       "      <td>9914.56</td>\n",
       "      <td>9796.69</td>\n",
       "    </tr>\n",
       "  </tbody>\n",
       "</table>\n",
       "</div>"
      ],
      "text/plain": [
       "                  Date     Open     Close      High      Low\n",
       "New Date                                                    \n",
       "2019-10-11  11.10.2019  9913.37  10017.39  10027.87  9906.83\n",
       "2019-10-10  10.10.2019  9832.06   9903.02   9914.56  9796.69"
      ]
     },
     "execution_count": 10,
     "metadata": {},
     "output_type": "execute_result"
    }
   ],
   "source": [
    "df.head(2)"
   ]
  },
  {
   "cell_type": "markdown",
   "metadata": {
    "collapsed": true
   },
   "source": [
    "Damit das noch etwas schöner aussieht..."
   ]
  },
  {
   "cell_type": "code",
   "execution_count": 11,
   "metadata": {},
   "outputs": [],
   "source": [
    "df.rename_axis(None, inplace=True)"
   ]
  },
  {
   "cell_type": "code",
   "execution_count": 12,
   "metadata": {},
   "outputs": [
    {
     "data": {
      "text/html": [
       "<div>\n",
       "<style scoped>\n",
       "    .dataframe tbody tr th:only-of-type {\n",
       "        vertical-align: middle;\n",
       "    }\n",
       "\n",
       "    .dataframe tbody tr th {\n",
       "        vertical-align: top;\n",
       "    }\n",
       "\n",
       "    .dataframe thead th {\n",
       "        text-align: right;\n",
       "    }\n",
       "</style>\n",
       "<table border=\"1\" class=\"dataframe\">\n",
       "  <thead>\n",
       "    <tr style=\"text-align: right;\">\n",
       "      <th></th>\n",
       "      <th>Date</th>\n",
       "      <th>Open</th>\n",
       "      <th>Close</th>\n",
       "      <th>High</th>\n",
       "      <th>Low</th>\n",
       "    </tr>\n",
       "  </thead>\n",
       "  <tbody>\n",
       "    <tr>\n",
       "      <td>2019-10-11</td>\n",
       "      <td>11.10.2019</td>\n",
       "      <td>9913.37</td>\n",
       "      <td>10017.39</td>\n",
       "      <td>10027.87</td>\n",
       "      <td>9906.83</td>\n",
       "    </tr>\n",
       "    <tr>\n",
       "      <td>2019-10-10</td>\n",
       "      <td>10.10.2019</td>\n",
       "      <td>9832.06</td>\n",
       "      <td>9903.02</td>\n",
       "      <td>9914.56</td>\n",
       "      <td>9796.69</td>\n",
       "    </tr>\n",
       "  </tbody>\n",
       "</table>\n",
       "</div>"
      ],
      "text/plain": [
       "                  Date     Open     Close      High      Low\n",
       "2019-10-11  11.10.2019  9913.37  10017.39  10027.87  9906.83\n",
       "2019-10-10  10.10.2019  9832.06   9903.02   9914.56  9796.69"
      ]
     },
     "execution_count": 12,
     "metadata": {},
     "output_type": "execute_result"
    }
   ],
   "source": [
    "df.head(2)"
   ]
  },
  {
   "cell_type": "code",
   "execution_count": 157,
   "metadata": {},
   "outputs": [
    {
     "ename": "KeyError",
     "evalue": "'Date'",
     "output_type": "error",
     "traceback": [
      "\u001b[0;31m---------------------------------------------------------------------------\u001b[0m",
      "\u001b[0;31mKeyError\u001b[0m                                  Traceback (most recent call last)",
      "\u001b[0;32m~/.virtualenvs/erstesVE/lib/python3.7/site-packages/pandas/core/indexes/base.py\u001b[0m in \u001b[0;36mget_loc\u001b[0;34m(self, key, method, tolerance)\u001b[0m\n\u001b[1;32m   2896\u001b[0m             \u001b[0;32mtry\u001b[0m\u001b[0;34m:\u001b[0m\u001b[0;34m\u001b[0m\u001b[0;34m\u001b[0m\u001b[0m\n\u001b[0;32m-> 2897\u001b[0;31m                 \u001b[0;32mreturn\u001b[0m \u001b[0mself\u001b[0m\u001b[0;34m.\u001b[0m\u001b[0m_engine\u001b[0m\u001b[0;34m.\u001b[0m\u001b[0mget_loc\u001b[0m\u001b[0;34m(\u001b[0m\u001b[0mkey\u001b[0m\u001b[0;34m)\u001b[0m\u001b[0;34m\u001b[0m\u001b[0;34m\u001b[0m\u001b[0m\n\u001b[0m\u001b[1;32m   2898\u001b[0m             \u001b[0;32mexcept\u001b[0m \u001b[0mKeyError\u001b[0m\u001b[0;34m:\u001b[0m\u001b[0;34m\u001b[0m\u001b[0;34m\u001b[0m\u001b[0m\n",
      "\u001b[0;32mpandas/_libs/index.pyx\u001b[0m in \u001b[0;36mpandas._libs.index.IndexEngine.get_loc\u001b[0;34m()\u001b[0m\n",
      "\u001b[0;32mpandas/_libs/index.pyx\u001b[0m in \u001b[0;36mpandas._libs.index.IndexEngine.get_loc\u001b[0;34m()\u001b[0m\n",
      "\u001b[0;32mpandas/_libs/hashtable_class_helper.pxi\u001b[0m in \u001b[0;36mpandas._libs.hashtable.PyObjectHashTable.get_item\u001b[0;34m()\u001b[0m\n",
      "\u001b[0;32mpandas/_libs/hashtable_class_helper.pxi\u001b[0m in \u001b[0;36mpandas._libs.hashtable.PyObjectHashTable.get_item\u001b[0;34m()\u001b[0m\n",
      "\u001b[0;31mKeyError\u001b[0m: 'Date'",
      "\nDuring handling of the above exception, another exception occurred:\n",
      "\u001b[0;31mKeyError\u001b[0m                                  Traceback (most recent call last)",
      "\u001b[0;32m<ipython-input-157-90fcfd1c0a00>\u001b[0m in \u001b[0;36m<module>\u001b[0;34m\u001b[0m\n\u001b[0;32m----> 1\u001b[0;31m \u001b[0mdf\u001b[0m\u001b[0;34m.\u001b[0m\u001b[0mpop\u001b[0m\u001b[0;34m(\u001b[0m\u001b[0;34m'Date'\u001b[0m\u001b[0;34m)\u001b[0m\u001b[0;34m\u001b[0m\u001b[0;34m\u001b[0m\u001b[0m\n\u001b[0m\u001b[1;32m      2\u001b[0m \u001b[0mdf\u001b[0m\u001b[0;34m.\u001b[0m\u001b[0mhead\u001b[0m\u001b[0;34m(\u001b[0m\u001b[0;36m2\u001b[0m\u001b[0;34m)\u001b[0m\u001b[0;34m\u001b[0m\u001b[0;34m\u001b[0m\u001b[0m\n",
      "\u001b[0;32m~/.virtualenvs/erstesVE/lib/python3.7/site-packages/pandas/core/generic.py\u001b[0m in \u001b[0;36mpop\u001b[0;34m(self, item)\u001b[0m\n\u001b[1;32m    860\u001b[0m         \u001b[0;36m3\u001b[0m  \u001b[0mmonkey\u001b[0m        \u001b[0mNaN\u001b[0m\u001b[0;34m\u001b[0m\u001b[0;34m\u001b[0m\u001b[0m\n\u001b[1;32m    861\u001b[0m         \"\"\"\n\u001b[0;32m--> 862\u001b[0;31m         \u001b[0mresult\u001b[0m \u001b[0;34m=\u001b[0m \u001b[0mself\u001b[0m\u001b[0;34m[\u001b[0m\u001b[0mitem\u001b[0m\u001b[0;34m]\u001b[0m\u001b[0;34m\u001b[0m\u001b[0;34m\u001b[0m\u001b[0m\n\u001b[0m\u001b[1;32m    863\u001b[0m         \u001b[0;32mdel\u001b[0m \u001b[0mself\u001b[0m\u001b[0;34m[\u001b[0m\u001b[0mitem\u001b[0m\u001b[0;34m]\u001b[0m\u001b[0;34m\u001b[0m\u001b[0;34m\u001b[0m\u001b[0m\n\u001b[1;32m    864\u001b[0m         \u001b[0;32mtry\u001b[0m\u001b[0;34m:\u001b[0m\u001b[0;34m\u001b[0m\u001b[0;34m\u001b[0m\u001b[0m\n",
      "\u001b[0;32m~/.virtualenvs/erstesVE/lib/python3.7/site-packages/pandas/core/frame.py\u001b[0m in \u001b[0;36m__getitem__\u001b[0;34m(self, key)\u001b[0m\n\u001b[1;32m   2978\u001b[0m             \u001b[0;32mif\u001b[0m \u001b[0mself\u001b[0m\u001b[0;34m.\u001b[0m\u001b[0mcolumns\u001b[0m\u001b[0;34m.\u001b[0m\u001b[0mnlevels\u001b[0m \u001b[0;34m>\u001b[0m \u001b[0;36m1\u001b[0m\u001b[0;34m:\u001b[0m\u001b[0;34m\u001b[0m\u001b[0;34m\u001b[0m\u001b[0m\n\u001b[1;32m   2979\u001b[0m                 \u001b[0;32mreturn\u001b[0m \u001b[0mself\u001b[0m\u001b[0;34m.\u001b[0m\u001b[0m_getitem_multilevel\u001b[0m\u001b[0;34m(\u001b[0m\u001b[0mkey\u001b[0m\u001b[0;34m)\u001b[0m\u001b[0;34m\u001b[0m\u001b[0;34m\u001b[0m\u001b[0m\n\u001b[0;32m-> 2980\u001b[0;31m             \u001b[0mindexer\u001b[0m \u001b[0;34m=\u001b[0m \u001b[0mself\u001b[0m\u001b[0;34m.\u001b[0m\u001b[0mcolumns\u001b[0m\u001b[0;34m.\u001b[0m\u001b[0mget_loc\u001b[0m\u001b[0;34m(\u001b[0m\u001b[0mkey\u001b[0m\u001b[0;34m)\u001b[0m\u001b[0;34m\u001b[0m\u001b[0;34m\u001b[0m\u001b[0m\n\u001b[0m\u001b[1;32m   2981\u001b[0m             \u001b[0;32mif\u001b[0m \u001b[0mis_integer\u001b[0m\u001b[0;34m(\u001b[0m\u001b[0mindexer\u001b[0m\u001b[0;34m)\u001b[0m\u001b[0;34m:\u001b[0m\u001b[0;34m\u001b[0m\u001b[0;34m\u001b[0m\u001b[0m\n\u001b[1;32m   2982\u001b[0m                 \u001b[0mindexer\u001b[0m \u001b[0;34m=\u001b[0m \u001b[0;34m[\u001b[0m\u001b[0mindexer\u001b[0m\u001b[0;34m]\u001b[0m\u001b[0;34m\u001b[0m\u001b[0;34m\u001b[0m\u001b[0m\n",
      "\u001b[0;32m~/.virtualenvs/erstesVE/lib/python3.7/site-packages/pandas/core/indexes/base.py\u001b[0m in \u001b[0;36mget_loc\u001b[0;34m(self, key, method, tolerance)\u001b[0m\n\u001b[1;32m   2897\u001b[0m                 \u001b[0;32mreturn\u001b[0m \u001b[0mself\u001b[0m\u001b[0;34m.\u001b[0m\u001b[0m_engine\u001b[0m\u001b[0;34m.\u001b[0m\u001b[0mget_loc\u001b[0m\u001b[0;34m(\u001b[0m\u001b[0mkey\u001b[0m\u001b[0;34m)\u001b[0m\u001b[0;34m\u001b[0m\u001b[0;34m\u001b[0m\u001b[0m\n\u001b[1;32m   2898\u001b[0m             \u001b[0;32mexcept\u001b[0m \u001b[0mKeyError\u001b[0m\u001b[0;34m:\u001b[0m\u001b[0;34m\u001b[0m\u001b[0;34m\u001b[0m\u001b[0m\n\u001b[0;32m-> 2899\u001b[0;31m                 \u001b[0;32mreturn\u001b[0m \u001b[0mself\u001b[0m\u001b[0;34m.\u001b[0m\u001b[0m_engine\u001b[0m\u001b[0;34m.\u001b[0m\u001b[0mget_loc\u001b[0m\u001b[0;34m(\u001b[0m\u001b[0mself\u001b[0m\u001b[0;34m.\u001b[0m\u001b[0m_maybe_cast_indexer\u001b[0m\u001b[0;34m(\u001b[0m\u001b[0mkey\u001b[0m\u001b[0;34m)\u001b[0m\u001b[0;34m)\u001b[0m\u001b[0;34m\u001b[0m\u001b[0;34m\u001b[0m\u001b[0m\n\u001b[0m\u001b[1;32m   2900\u001b[0m         \u001b[0mindexer\u001b[0m \u001b[0;34m=\u001b[0m \u001b[0mself\u001b[0m\u001b[0;34m.\u001b[0m\u001b[0mget_indexer\u001b[0m\u001b[0;34m(\u001b[0m\u001b[0;34m[\u001b[0m\u001b[0mkey\u001b[0m\u001b[0;34m]\u001b[0m\u001b[0;34m,\u001b[0m \u001b[0mmethod\u001b[0m\u001b[0;34m=\u001b[0m\u001b[0mmethod\u001b[0m\u001b[0;34m,\u001b[0m \u001b[0mtolerance\u001b[0m\u001b[0;34m=\u001b[0m\u001b[0mtolerance\u001b[0m\u001b[0;34m)\u001b[0m\u001b[0;34m\u001b[0m\u001b[0;34m\u001b[0m\u001b[0m\n\u001b[1;32m   2901\u001b[0m         \u001b[0;32mif\u001b[0m \u001b[0mindexer\u001b[0m\u001b[0;34m.\u001b[0m\u001b[0mndim\u001b[0m \u001b[0;34m>\u001b[0m \u001b[0;36m1\u001b[0m \u001b[0;32mor\u001b[0m \u001b[0mindexer\u001b[0m\u001b[0;34m.\u001b[0m\u001b[0msize\u001b[0m \u001b[0;34m>\u001b[0m \u001b[0;36m1\u001b[0m\u001b[0;34m:\u001b[0m\u001b[0;34m\u001b[0m\u001b[0;34m\u001b[0m\u001b[0m\n",
      "\u001b[0;32mpandas/_libs/index.pyx\u001b[0m in \u001b[0;36mpandas._libs.index.IndexEngine.get_loc\u001b[0;34m()\u001b[0m\n",
      "\u001b[0;32mpandas/_libs/index.pyx\u001b[0m in \u001b[0;36mpandas._libs.index.IndexEngine.get_loc\u001b[0;34m()\u001b[0m\n",
      "\u001b[0;32mpandas/_libs/hashtable_class_helper.pxi\u001b[0m in \u001b[0;36mpandas._libs.hashtable.PyObjectHashTable.get_item\u001b[0;34m()\u001b[0m\n",
      "\u001b[0;32mpandas/_libs/hashtable_class_helper.pxi\u001b[0m in \u001b[0;36mpandas._libs.hashtable.PyObjectHashTable.get_item\u001b[0;34m()\u001b[0m\n",
      "\u001b[0;31mKeyError\u001b[0m: 'Date'"
     ]
    }
   ],
   "source": [
    "df.pop('Date')\n",
    "df.head(2)"
   ]
  },
  {
   "cell_type": "markdown",
   "metadata": {
    "collapsed": true
   },
   "source": [
    "Wir haben nun ein Dataframe mit einer Zeit-formatierten Index-Spalte.\n",
    "\n",
    "Damit wir die ganze Funktionalität dieses Typus nutzen können, müssen wir die Daten noch zeitlich sortieren."
   ]
  },
  {
   "cell_type": "code",
   "execution_count": 153,
   "metadata": {},
   "outputs": [],
   "source": [
    "df.sort_index(inplace=True)"
   ]
  },
  {
   "cell_type": "code",
   "execution_count": 154,
   "metadata": {},
   "outputs": [
    {
     "data": {
      "text/html": [
       "<div>\n",
       "<style scoped>\n",
       "    .dataframe tbody tr th:only-of-type {\n",
       "        vertical-align: middle;\n",
       "    }\n",
       "\n",
       "    .dataframe tbody tr th {\n",
       "        vertical-align: top;\n",
       "    }\n",
       "\n",
       "    .dataframe thead th {\n",
       "        text-align: right;\n",
       "    }\n",
       "</style>\n",
       "<table border=\"1\" class=\"dataframe\">\n",
       "  <thead>\n",
       "    <tr style=\"text-align: right;\">\n",
       "      <th></th>\n",
       "      <th>Open</th>\n",
       "      <th>Close</th>\n",
       "      <th>High</th>\n",
       "      <th>Low</th>\n",
       "      <th>Range</th>\n",
       "    </tr>\n",
       "  </thead>\n",
       "  <tbody>\n",
       "    <tr>\n",
       "      <td>1989-01-03</td>\n",
       "      <td>1435.8</td>\n",
       "      <td>1466.2</td>\n",
       "      <td>1466.2</td>\n",
       "      <td>1435.8</td>\n",
       "      <td>2.073387</td>\n",
       "    </tr>\n",
       "    <tr>\n",
       "      <td>1989-01-04</td>\n",
       "      <td>1465.9</td>\n",
       "      <td>1471.2</td>\n",
       "      <td>1471.5</td>\n",
       "      <td>1465.7</td>\n",
       "      <td>0.394236</td>\n",
       "    </tr>\n",
       "    <tr>\n",
       "      <td>1989-01-05</td>\n",
       "      <td>1474.4</td>\n",
       "      <td>1488.1</td>\n",
       "      <td>1488.8</td>\n",
       "      <td>1473.7</td>\n",
       "      <td>1.014717</td>\n",
       "    </tr>\n",
       "    <tr>\n",
       "      <td>1989-01-06</td>\n",
       "      <td>1487.4</td>\n",
       "      <td>1487.3</td>\n",
       "      <td>1491.7</td>\n",
       "      <td>1483.4</td>\n",
       "      <td>0.558058</td>\n",
       "    </tr>\n",
       "    <tr>\n",
       "      <td>1989-01-09</td>\n",
       "      <td>1487.6</td>\n",
       "      <td>1493.5</td>\n",
       "      <td>1501.8</td>\n",
       "      <td>1487.3</td>\n",
       "      <td>0.970874</td>\n",
       "    </tr>\n",
       "  </tbody>\n",
       "</table>\n",
       "</div>"
      ],
      "text/plain": [
       "              Open   Close    High     Low     Range\n",
       "1989-01-03  1435.8  1466.2  1466.2  1435.8  2.073387\n",
       "1989-01-04  1465.9  1471.2  1471.5  1465.7  0.394236\n",
       "1989-01-05  1474.4  1488.1  1488.8  1473.7  1.014717\n",
       "1989-01-06  1487.4  1487.3  1491.7  1483.4  0.558058\n",
       "1989-01-09  1487.6  1493.5  1501.8  1487.3  0.970874"
      ]
     },
     "execution_count": 154,
     "metadata": {},
     "output_type": "execute_result"
    }
   ],
   "source": [
    "df.head()"
   ]
  },
  {
   "cell_type": "code",
   "execution_count": null,
   "metadata": {},
   "outputs": [],
   "source": []
  },
  {
   "cell_type": "markdown",
   "metadata": {},
   "source": [
    "## 1. Slicing"
   ]
  },
  {
   "cell_type": "markdown",
   "metadata": {
    "collapsed": true
   },
   "source": [
    "Die erste Technik, die wir kennenlernen, heisst Slicing. Wir schneiden uns also ein bestimmtes Stück aus den Daten heraus. Welches Stück, das geben wir mit einer Kombination aus Jahreszahlen, Monaten, Tagen, ... an."
   ]
  },
  {
   "cell_type": "markdown",
   "metadata": {},
   "source": [
    "**Beispiel:** Alle Zeilen mit einem Index-Datum im Jahr 2018"
   ]
  },
  {
   "cell_type": "code",
   "execution_count": 16,
   "metadata": {},
   "outputs": [
    {
     "data": {
      "text/html": [
       "<div>\n",
       "<style scoped>\n",
       "    .dataframe tbody tr th:only-of-type {\n",
       "        vertical-align: middle;\n",
       "    }\n",
       "\n",
       "    .dataframe tbody tr th {\n",
       "        vertical-align: top;\n",
       "    }\n",
       "\n",
       "    .dataframe thead th {\n",
       "        text-align: right;\n",
       "    }\n",
       "</style>\n",
       "<table border=\"1\" class=\"dataframe\">\n",
       "  <thead>\n",
       "    <tr style=\"text-align: right;\">\n",
       "      <th></th>\n",
       "      <th>Open</th>\n",
       "      <th>Close</th>\n",
       "      <th>High</th>\n",
       "      <th>Low</th>\n",
       "    </tr>\n",
       "  </thead>\n",
       "  <tbody>\n",
       "    <tr>\n",
       "      <td>2018-01-03</td>\n",
       "      <td>9436.96</td>\n",
       "      <td>9478.92</td>\n",
       "      <td>9487.78</td>\n",
       "      <td>9394.47</td>\n",
       "    </tr>\n",
       "    <tr>\n",
       "      <td>2018-01-04</td>\n",
       "      <td>9497.24</td>\n",
       "      <td>9509.28</td>\n",
       "      <td>9523.96</td>\n",
       "      <td>9467.86</td>\n",
       "    </tr>\n",
       "    <tr>\n",
       "      <td>2018-01-05</td>\n",
       "      <td>9543.13</td>\n",
       "      <td>9556.98</td>\n",
       "      <td>9558.40</td>\n",
       "      <td>9527.05</td>\n",
       "    </tr>\n",
       "    <tr>\n",
       "      <td>2018-01-08</td>\n",
       "      <td>9576.80</td>\n",
       "      <td>9541.73</td>\n",
       "      <td>9584.52</td>\n",
       "      <td>9538.37</td>\n",
       "    </tr>\n",
       "    <tr>\n",
       "      <td>2018-01-09</td>\n",
       "      <td>9557.37</td>\n",
       "      <td>9611.61</td>\n",
       "      <td>9611.61</td>\n",
       "      <td>9554.48</td>\n",
       "    </tr>\n",
       "  </tbody>\n",
       "</table>\n",
       "</div>"
      ],
      "text/plain": [
       "               Open    Close     High      Low\n",
       "2018-01-03  9436.96  9478.92  9487.78  9394.47\n",
       "2018-01-04  9497.24  9509.28  9523.96  9467.86\n",
       "2018-01-05  9543.13  9556.98  9558.40  9527.05\n",
       "2018-01-08  9576.80  9541.73  9584.52  9538.37\n",
       "2018-01-09  9557.37  9611.61  9611.61  9554.48"
      ]
     },
     "execution_count": 16,
     "metadata": {},
     "output_type": "execute_result"
    }
   ],
   "source": [
    "df['2018'].head() #super sache, aber funktioniert nur wenn index-Spalte Datum ist."
   ]
  },
  {
   "cell_type": "code",
   "execution_count": 17,
   "metadata": {
    "scrolled": true
   },
   "outputs": [
    {
     "data": {
      "text/html": [
       "<div>\n",
       "<style scoped>\n",
       "    .dataframe tbody tr th:only-of-type {\n",
       "        vertical-align: middle;\n",
       "    }\n",
       "\n",
       "    .dataframe tbody tr th {\n",
       "        vertical-align: top;\n",
       "    }\n",
       "\n",
       "    .dataframe thead th {\n",
       "        text-align: right;\n",
       "    }\n",
       "</style>\n",
       "<table border=\"1\" class=\"dataframe\">\n",
       "  <thead>\n",
       "    <tr style=\"text-align: right;\">\n",
       "      <th></th>\n",
       "      <th>Open</th>\n",
       "      <th>Close</th>\n",
       "      <th>High</th>\n",
       "      <th>Low</th>\n",
       "    </tr>\n",
       "  </thead>\n",
       "  <tbody>\n",
       "    <tr>\n",
       "      <td>2018-12-19</td>\n",
       "      <td>8535.80</td>\n",
       "      <td>8540.16</td>\n",
       "      <td>8568.19</td>\n",
       "      <td>8506.11</td>\n",
       "    </tr>\n",
       "    <tr>\n",
       "      <td>2018-12-20</td>\n",
       "      <td>8403.95</td>\n",
       "      <td>8414.48</td>\n",
       "      <td>8470.47</td>\n",
       "      <td>8383.26</td>\n",
       "    </tr>\n",
       "    <tr>\n",
       "      <td>2018-12-21</td>\n",
       "      <td>8406.04</td>\n",
       "      <td>8417.29</td>\n",
       "      <td>8454.10</td>\n",
       "      <td>8336.09</td>\n",
       "    </tr>\n",
       "    <tr>\n",
       "      <td>2018-12-27</td>\n",
       "      <td>8470.20</td>\n",
       "      <td>8195.64</td>\n",
       "      <td>8472.64</td>\n",
       "      <td>8138.56</td>\n",
       "    </tr>\n",
       "    <tr>\n",
       "      <td>2018-12-28</td>\n",
       "      <td>8282.01</td>\n",
       "      <td>8429.30</td>\n",
       "      <td>8448.22</td>\n",
       "      <td>8280.35</td>\n",
       "    </tr>\n",
       "  </tbody>\n",
       "</table>\n",
       "</div>"
      ],
      "text/plain": [
       "               Open    Close     High      Low\n",
       "2018-12-19  8535.80  8540.16  8568.19  8506.11\n",
       "2018-12-20  8403.95  8414.48  8470.47  8383.26\n",
       "2018-12-21  8406.04  8417.29  8454.10  8336.09\n",
       "2018-12-27  8470.20  8195.64  8472.64  8138.56\n",
       "2018-12-28  8282.01  8429.30  8448.22  8280.35"
      ]
     },
     "execution_count": 17,
     "metadata": {},
     "output_type": "execute_result"
    }
   ],
   "source": [
    "df['2018'].tail()"
   ]
  },
  {
   "cell_type": "code",
   "execution_count": 20,
   "metadata": {},
   "outputs": [
    {
     "data": {
      "text/html": [
       "<div>\n",
       "<style scoped>\n",
       "    .dataframe tbody tr th:only-of-type {\n",
       "        vertical-align: middle;\n",
       "    }\n",
       "\n",
       "    .dataframe tbody tr th {\n",
       "        vertical-align: top;\n",
       "    }\n",
       "\n",
       "    .dataframe thead th {\n",
       "        text-align: right;\n",
       "    }\n",
       "</style>\n",
       "<table border=\"1\" class=\"dataframe\">\n",
       "  <thead>\n",
       "    <tr style=\"text-align: right;\">\n",
       "      <th></th>\n",
       "      <th>Open</th>\n",
       "      <th>Close</th>\n",
       "      <th>High</th>\n",
       "      <th>Low</th>\n",
       "    </tr>\n",
       "  </thead>\n",
       "  <tbody>\n",
       "    <tr>\n",
       "      <td>1990-01-03</td>\n",
       "      <td>1780.7</td>\n",
       "      <td>1824.0</td>\n",
       "      <td>1824.1</td>\n",
       "      <td>1780.0</td>\n",
       "    </tr>\n",
       "    <tr>\n",
       "      <td>1990-01-04</td>\n",
       "      <td>1826.3</td>\n",
       "      <td>1824.5</td>\n",
       "      <td>1847.4</td>\n",
       "      <td>1822.8</td>\n",
       "    </tr>\n",
       "    <tr>\n",
       "      <td>1990-01-05</td>\n",
       "      <td>1821.9</td>\n",
       "      <td>1801.8</td>\n",
       "      <td>1824.3</td>\n",
       "      <td>1794.8</td>\n",
       "    </tr>\n",
       "    <tr>\n",
       "      <td>1990-01-08</td>\n",
       "      <td>1799.5</td>\n",
       "      <td>1800.3</td>\n",
       "      <td>1802.7</td>\n",
       "      <td>1786.9</td>\n",
       "    </tr>\n",
       "    <tr>\n",
       "      <td>1990-01-09</td>\n",
       "      <td>1801.6</td>\n",
       "      <td>1806.8</td>\n",
       "      <td>1813.3</td>\n",
       "      <td>1801.6</td>\n",
       "    </tr>\n",
       "    <tr>\n",
       "      <td>...</td>\n",
       "      <td>...</td>\n",
       "      <td>...</td>\n",
       "      <td>...</td>\n",
       "      <td>...</td>\n",
       "    </tr>\n",
       "    <tr>\n",
       "      <td>1990-12-20</td>\n",
       "      <td>1385.5</td>\n",
       "      <td>1371.2</td>\n",
       "      <td>1385.5</td>\n",
       "      <td>1364.5</td>\n",
       "    </tr>\n",
       "    <tr>\n",
       "      <td>1990-12-21</td>\n",
       "      <td>1367.4</td>\n",
       "      <td>1387.9</td>\n",
       "      <td>1389.7</td>\n",
       "      <td>NaN</td>\n",
       "    </tr>\n",
       "    <tr>\n",
       "      <td>1990-12-24</td>\n",
       "      <td>1386.3</td>\n",
       "      <td>1387.4</td>\n",
       "      <td>1388.7</td>\n",
       "      <td>1382.5</td>\n",
       "    </tr>\n",
       "    <tr>\n",
       "      <td>1990-12-27</td>\n",
       "      <td>1387.8</td>\n",
       "      <td>1384.0</td>\n",
       "      <td>1388.8</td>\n",
       "      <td>1378.5</td>\n",
       "    </tr>\n",
       "    <tr>\n",
       "      <td>1990-12-28</td>\n",
       "      <td>1384.4</td>\n",
       "      <td>1383.1</td>\n",
       "      <td>1384.8</td>\n",
       "      <td>1378.5</td>\n",
       "    </tr>\n",
       "  </tbody>\n",
       "</table>\n",
       "<p>248 rows × 4 columns</p>\n",
       "</div>"
      ],
      "text/plain": [
       "              Open   Close    High     Low\n",
       "1990-01-03  1780.7  1824.0  1824.1  1780.0\n",
       "1990-01-04  1826.3  1824.5  1847.4  1822.8\n",
       "1990-01-05  1821.9  1801.8  1824.3  1794.8\n",
       "1990-01-08  1799.5  1800.3  1802.7  1786.9\n",
       "1990-01-09  1801.6  1806.8  1813.3  1801.6\n",
       "...            ...     ...     ...     ...\n",
       "1990-12-20  1385.5  1371.2  1385.5  1364.5\n",
       "1990-12-21  1367.4  1387.9  1389.7     NaN\n",
       "1990-12-24  1386.3  1387.4  1388.7  1382.5\n",
       "1990-12-27  1387.8  1384.0  1388.8  1378.5\n",
       "1990-12-28  1384.4  1383.1  1384.8  1378.5\n",
       "\n",
       "[248 rows x 4 columns]"
      ]
     },
     "execution_count": 20,
     "metadata": {},
     "output_type": "execute_result"
    }
   ],
   "source": [
    "df['1990']"
   ]
  },
  {
   "cell_type": "markdown",
   "metadata": {
    "collapsed": true
   },
   "source": [
    "**Beispiel:** Alle Zeilen von 2010 bis 2011"
   ]
  },
  {
   "cell_type": "code",
   "execution_count": 21,
   "metadata": {},
   "outputs": [
    {
     "data": {
      "text/html": [
       "<div>\n",
       "<style scoped>\n",
       "    .dataframe tbody tr th:only-of-type {\n",
       "        vertical-align: middle;\n",
       "    }\n",
       "\n",
       "    .dataframe tbody tr th {\n",
       "        vertical-align: top;\n",
       "    }\n",
       "\n",
       "    .dataframe thead th {\n",
       "        text-align: right;\n",
       "    }\n",
       "</style>\n",
       "<table border=\"1\" class=\"dataframe\">\n",
       "  <thead>\n",
       "    <tr style=\"text-align: right;\">\n",
       "      <th></th>\n",
       "      <th>Open</th>\n",
       "      <th>Close</th>\n",
       "      <th>High</th>\n",
       "      <th>Low</th>\n",
       "    </tr>\n",
       "  </thead>\n",
       "  <tbody>\n",
       "    <tr>\n",
       "      <td>2010-01-04</td>\n",
       "      <td>6578.46</td>\n",
       "      <td>6631.44</td>\n",
       "      <td>6631.44</td>\n",
       "      <td>6575.96</td>\n",
       "    </tr>\n",
       "    <tr>\n",
       "      <td>2010-01-05</td>\n",
       "      <td>6620.66</td>\n",
       "      <td>6579.27</td>\n",
       "      <td>6622.36</td>\n",
       "      <td>6547.43</td>\n",
       "    </tr>\n",
       "    <tr>\n",
       "      <td>2010-01-06</td>\n",
       "      <td>6598.18</td>\n",
       "      <td>6559.41</td>\n",
       "      <td>6607.79</td>\n",
       "      <td>6550.10</td>\n",
       "    </tr>\n",
       "    <tr>\n",
       "      <td>2010-01-07</td>\n",
       "      <td>6536.50</td>\n",
       "      <td>6555.36</td>\n",
       "      <td>6574.16</td>\n",
       "      <td>6494.90</td>\n",
       "    </tr>\n",
       "    <tr>\n",
       "      <td>2010-01-08</td>\n",
       "      <td>6574.67</td>\n",
       "      <td>6617.88</td>\n",
       "      <td>6635.78</td>\n",
       "      <td>6573.95</td>\n",
       "    </tr>\n",
       "  </tbody>\n",
       "</table>\n",
       "</div>"
      ],
      "text/plain": [
       "               Open    Close     High      Low\n",
       "2010-01-04  6578.46  6631.44  6631.44  6575.96\n",
       "2010-01-05  6620.66  6579.27  6622.36  6547.43\n",
       "2010-01-06  6598.18  6559.41  6607.79  6550.10\n",
       "2010-01-07  6536.50  6555.36  6574.16  6494.90\n",
       "2010-01-08  6574.67  6617.88  6635.78  6573.95"
      ]
     },
     "execution_count": 21,
     "metadata": {},
     "output_type": "execute_result"
    }
   ],
   "source": [
    "df['2010':'2011'].head()"
   ]
  },
  {
   "cell_type": "code",
   "execution_count": 22,
   "metadata": {},
   "outputs": [
    {
     "data": {
      "text/html": [
       "<div>\n",
       "<style scoped>\n",
       "    .dataframe tbody tr th:only-of-type {\n",
       "        vertical-align: middle;\n",
       "    }\n",
       "\n",
       "    .dataframe tbody tr th {\n",
       "        vertical-align: top;\n",
       "    }\n",
       "\n",
       "    .dataframe thead th {\n",
       "        text-align: right;\n",
       "    }\n",
       "</style>\n",
       "<table border=\"1\" class=\"dataframe\">\n",
       "  <thead>\n",
       "    <tr style=\"text-align: right;\">\n",
       "      <th></th>\n",
       "      <th>Open</th>\n",
       "      <th>Close</th>\n",
       "      <th>High</th>\n",
       "      <th>Low</th>\n",
       "    </tr>\n",
       "  </thead>\n",
       "  <tbody>\n",
       "    <tr>\n",
       "      <td>2011-12-23</td>\n",
       "      <td>5865.33</td>\n",
       "      <td>5893.89</td>\n",
       "      <td>5894.56</td>\n",
       "      <td>5853.14</td>\n",
       "    </tr>\n",
       "    <tr>\n",
       "      <td>2011-12-27</td>\n",
       "      <td>5917.01</td>\n",
       "      <td>5886.91</td>\n",
       "      <td>5917.01</td>\n",
       "      <td>5867.67</td>\n",
       "    </tr>\n",
       "    <tr>\n",
       "      <td>2011-12-28</td>\n",
       "      <td>5900.54</td>\n",
       "      <td>5895.25</td>\n",
       "      <td>5922.65</td>\n",
       "      <td>5881.21</td>\n",
       "    </tr>\n",
       "    <tr>\n",
       "      <td>2011-12-29</td>\n",
       "      <td>5899.87</td>\n",
       "      <td>5896.60</td>\n",
       "      <td>5906.51</td>\n",
       "      <td>5875.16</td>\n",
       "    </tr>\n",
       "    <tr>\n",
       "      <td>2011-12-30</td>\n",
       "      <td>5920.89</td>\n",
       "      <td>5936.23</td>\n",
       "      <td>5938.63</td>\n",
       "      <td>5914.56</td>\n",
       "    </tr>\n",
       "  </tbody>\n",
       "</table>\n",
       "</div>"
      ],
      "text/plain": [
       "               Open    Close     High      Low\n",
       "2011-12-23  5865.33  5893.89  5894.56  5853.14\n",
       "2011-12-27  5917.01  5886.91  5917.01  5867.67\n",
       "2011-12-28  5900.54  5895.25  5922.65  5881.21\n",
       "2011-12-29  5899.87  5896.60  5906.51  5875.16\n",
       "2011-12-30  5920.89  5936.23  5938.63  5914.56"
      ]
     },
     "execution_count": 22,
     "metadata": {},
     "output_type": "execute_result"
    }
   ],
   "source": [
    "df['2010':'2011'].tail()"
   ]
  },
  {
   "cell_type": "markdown",
   "metadata": {
    "collapsed": true
   },
   "source": [
    "**Beispiel:** Alle Zeilen von Januar bis März 2018"
   ]
  },
  {
   "cell_type": "code",
   "execution_count": 23,
   "metadata": {},
   "outputs": [
    {
     "data": {
      "text/html": [
       "<div>\n",
       "<style scoped>\n",
       "    .dataframe tbody tr th:only-of-type {\n",
       "        vertical-align: middle;\n",
       "    }\n",
       "\n",
       "    .dataframe tbody tr th {\n",
       "        vertical-align: top;\n",
       "    }\n",
       "\n",
       "    .dataframe thead th {\n",
       "        text-align: right;\n",
       "    }\n",
       "</style>\n",
       "<table border=\"1\" class=\"dataframe\">\n",
       "  <thead>\n",
       "    <tr style=\"text-align: right;\">\n",
       "      <th></th>\n",
       "      <th>Open</th>\n",
       "      <th>Close</th>\n",
       "      <th>High</th>\n",
       "      <th>Low</th>\n",
       "    </tr>\n",
       "  </thead>\n",
       "  <tbody>\n",
       "    <tr>\n",
       "      <td>2018-01-03</td>\n",
       "      <td>9436.96</td>\n",
       "      <td>9478.92</td>\n",
       "      <td>9487.78</td>\n",
       "      <td>9394.47</td>\n",
       "    </tr>\n",
       "    <tr>\n",
       "      <td>2018-01-04</td>\n",
       "      <td>9497.24</td>\n",
       "      <td>9509.28</td>\n",
       "      <td>9523.96</td>\n",
       "      <td>9467.86</td>\n",
       "    </tr>\n",
       "    <tr>\n",
       "      <td>2018-01-05</td>\n",
       "      <td>9543.13</td>\n",
       "      <td>9556.98</td>\n",
       "      <td>9558.40</td>\n",
       "      <td>9527.05</td>\n",
       "    </tr>\n",
       "    <tr>\n",
       "      <td>2018-01-08</td>\n",
       "      <td>9576.80</td>\n",
       "      <td>9541.73</td>\n",
       "      <td>9584.52</td>\n",
       "      <td>9538.37</td>\n",
       "    </tr>\n",
       "    <tr>\n",
       "      <td>2018-01-09</td>\n",
       "      <td>9557.37</td>\n",
       "      <td>9611.61</td>\n",
       "      <td>9611.61</td>\n",
       "      <td>9554.48</td>\n",
       "    </tr>\n",
       "  </tbody>\n",
       "</table>\n",
       "</div>"
      ],
      "text/plain": [
       "               Open    Close     High      Low\n",
       "2018-01-03  9436.96  9478.92  9487.78  9394.47\n",
       "2018-01-04  9497.24  9509.28  9523.96  9467.86\n",
       "2018-01-05  9543.13  9556.98  9558.40  9527.05\n",
       "2018-01-08  9576.80  9541.73  9584.52  9538.37\n",
       "2018-01-09  9557.37  9611.61  9611.61  9554.48"
      ]
     },
     "execution_count": 23,
     "metadata": {},
     "output_type": "execute_result"
    }
   ],
   "source": [
    "df['2018-01':'2018-03'].head()"
   ]
  },
  {
   "cell_type": "code",
   "execution_count": 24,
   "metadata": {},
   "outputs": [
    {
     "data": {
      "text/html": [
       "<div>\n",
       "<style scoped>\n",
       "    .dataframe tbody tr th:only-of-type {\n",
       "        vertical-align: middle;\n",
       "    }\n",
       "\n",
       "    .dataframe tbody tr th {\n",
       "        vertical-align: top;\n",
       "    }\n",
       "\n",
       "    .dataframe thead th {\n",
       "        text-align: right;\n",
       "    }\n",
       "</style>\n",
       "<table border=\"1\" class=\"dataframe\">\n",
       "  <thead>\n",
       "    <tr style=\"text-align: right;\">\n",
       "      <th></th>\n",
       "      <th>Open</th>\n",
       "      <th>Close</th>\n",
       "      <th>High</th>\n",
       "      <th>Low</th>\n",
       "    </tr>\n",
       "  </thead>\n",
       "  <tbody>\n",
       "    <tr>\n",
       "      <td>2018-03-23</td>\n",
       "      <td>8597.99</td>\n",
       "      <td>8569.08</td>\n",
       "      <td>8639.34</td>\n",
       "      <td>8549.15</td>\n",
       "    </tr>\n",
       "    <tr>\n",
       "      <td>2018-03-26</td>\n",
       "      <td>8603.65</td>\n",
       "      <td>8509.29</td>\n",
       "      <td>8668.01</td>\n",
       "      <td>8501.17</td>\n",
       "    </tr>\n",
       "    <tr>\n",
       "      <td>2018-03-27</td>\n",
       "      <td>8621.22</td>\n",
       "      <td>8638.42</td>\n",
       "      <td>8660.71</td>\n",
       "      <td>8593.38</td>\n",
       "    </tr>\n",
       "    <tr>\n",
       "      <td>2018-03-28</td>\n",
       "      <td>8566.34</td>\n",
       "      <td>8756.12</td>\n",
       "      <td>8756.12</td>\n",
       "      <td>8522.33</td>\n",
       "    </tr>\n",
       "    <tr>\n",
       "      <td>2018-03-29</td>\n",
       "      <td>8766.71</td>\n",
       "      <td>8740.97</td>\n",
       "      <td>8780.02</td>\n",
       "      <td>8714.77</td>\n",
       "    </tr>\n",
       "  </tbody>\n",
       "</table>\n",
       "</div>"
      ],
      "text/plain": [
       "               Open    Close     High      Low\n",
       "2018-03-23  8597.99  8569.08  8639.34  8549.15\n",
       "2018-03-26  8603.65  8509.29  8668.01  8501.17\n",
       "2018-03-27  8621.22  8638.42  8660.71  8593.38\n",
       "2018-03-28  8566.34  8756.12  8756.12  8522.33\n",
       "2018-03-29  8766.71  8740.97  8780.02  8714.77"
      ]
     },
     "execution_count": 24,
     "metadata": {},
     "output_type": "execute_result"
    }
   ],
   "source": [
    "df['2018-01':'2018-03'].tail()"
   ]
  },
  {
   "cell_type": "markdown",
   "metadata": {
    "collapsed": true
   },
   "source": [
    "**Beispiel:** Alle Zeilen ab 2017"
   ]
  },
  {
   "cell_type": "code",
   "execution_count": 26,
   "metadata": {},
   "outputs": [
    {
     "data": {
      "text/html": [
       "<div>\n",
       "<style scoped>\n",
       "    .dataframe tbody tr th:only-of-type {\n",
       "        vertical-align: middle;\n",
       "    }\n",
       "\n",
       "    .dataframe tbody tr th {\n",
       "        vertical-align: top;\n",
       "    }\n",
       "\n",
       "    .dataframe thead th {\n",
       "        text-align: right;\n",
       "    }\n",
       "</style>\n",
       "<table border=\"1\" class=\"dataframe\">\n",
       "  <thead>\n",
       "    <tr style=\"text-align: right;\">\n",
       "      <th></th>\n",
       "      <th>Open</th>\n",
       "      <th>Close</th>\n",
       "      <th>High</th>\n",
       "      <th>Low</th>\n",
       "    </tr>\n",
       "  </thead>\n",
       "  <tbody>\n",
       "    <tr>\n",
       "      <td>2017-01-03</td>\n",
       "      <td>8302.86</td>\n",
       "      <td>8316.18</td>\n",
       "      <td>8335.86</td>\n",
       "      <td>8283.60</td>\n",
       "    </tr>\n",
       "    <tr>\n",
       "      <td>2017-01-04</td>\n",
       "      <td>8347.87</td>\n",
       "      <td>8354.81</td>\n",
       "      <td>8358.30</td>\n",
       "      <td>8309.07</td>\n",
       "    </tr>\n",
       "    <tr>\n",
       "      <td>2017-01-05</td>\n",
       "      <td>8330.97</td>\n",
       "      <td>8392.49</td>\n",
       "      <td>8392.49</td>\n",
       "      <td>8328.91</td>\n",
       "    </tr>\n",
       "    <tr>\n",
       "      <td>2017-01-06</td>\n",
       "      <td>8389.07</td>\n",
       "      <td>8417.46</td>\n",
       "      <td>8417.46</td>\n",
       "      <td>8373.00</td>\n",
       "    </tr>\n",
       "    <tr>\n",
       "      <td>2017-01-09</td>\n",
       "      <td>8430.74</td>\n",
       "      <td>8424.86</td>\n",
       "      <td>8434.63</td>\n",
       "      <td>8390.03</td>\n",
       "    </tr>\n",
       "    <tr>\n",
       "      <td>...</td>\n",
       "      <td>...</td>\n",
       "      <td>...</td>\n",
       "      <td>...</td>\n",
       "      <td>...</td>\n",
       "    </tr>\n",
       "    <tr>\n",
       "      <td>2019-10-07</td>\n",
       "      <td>9849.08</td>\n",
       "      <td>9914.06</td>\n",
       "      <td>9931.13</td>\n",
       "      <td>9829.20</td>\n",
       "    </tr>\n",
       "    <tr>\n",
       "      <td>2019-10-08</td>\n",
       "      <td>9904.13</td>\n",
       "      <td>9800.24</td>\n",
       "      <td>9922.37</td>\n",
       "      <td>9779.45</td>\n",
       "    </tr>\n",
       "    <tr>\n",
       "      <td>2019-10-09</td>\n",
       "      <td>9792.70</td>\n",
       "      <td>9830.05</td>\n",
       "      <td>9880.68</td>\n",
       "      <td>9777.92</td>\n",
       "    </tr>\n",
       "    <tr>\n",
       "      <td>2019-10-10</td>\n",
       "      <td>9832.06</td>\n",
       "      <td>9903.02</td>\n",
       "      <td>9914.56</td>\n",
       "      <td>9796.69</td>\n",
       "    </tr>\n",
       "    <tr>\n",
       "      <td>2019-10-11</td>\n",
       "      <td>9913.37</td>\n",
       "      <td>10017.39</td>\n",
       "      <td>10027.87</td>\n",
       "      <td>9906.83</td>\n",
       "    </tr>\n",
       "  </tbody>\n",
       "</table>\n",
       "<p>696 rows × 4 columns</p>\n",
       "</div>"
      ],
      "text/plain": [
       "               Open     Close      High      Low\n",
       "2017-01-03  8302.86   8316.18   8335.86  8283.60\n",
       "2017-01-04  8347.87   8354.81   8358.30  8309.07\n",
       "2017-01-05  8330.97   8392.49   8392.49  8328.91\n",
       "2017-01-06  8389.07   8417.46   8417.46  8373.00\n",
       "2017-01-09  8430.74   8424.86   8434.63  8390.03\n",
       "...             ...       ...       ...      ...\n",
       "2019-10-07  9849.08   9914.06   9931.13  9829.20\n",
       "2019-10-08  9904.13   9800.24   9922.37  9779.45\n",
       "2019-10-09  9792.70   9830.05   9880.68  9777.92\n",
       "2019-10-10  9832.06   9903.02   9914.56  9796.69\n",
       "2019-10-11  9913.37  10017.39  10027.87  9906.83\n",
       "\n",
       "[696 rows x 4 columns]"
      ]
     },
     "execution_count": 26,
     "metadata": {},
     "output_type": "execute_result"
    }
   ],
   "source": [
    "df['2017':]"
   ]
  },
  {
   "cell_type": "code",
   "execution_count": 27,
   "metadata": {},
   "outputs": [
    {
     "data": {
      "text/html": [
       "<div>\n",
       "<style scoped>\n",
       "    .dataframe tbody tr th:only-of-type {\n",
       "        vertical-align: middle;\n",
       "    }\n",
       "\n",
       "    .dataframe tbody tr th {\n",
       "        vertical-align: top;\n",
       "    }\n",
       "\n",
       "    .dataframe thead th {\n",
       "        text-align: right;\n",
       "    }\n",
       "</style>\n",
       "<table border=\"1\" class=\"dataframe\">\n",
       "  <thead>\n",
       "    <tr style=\"text-align: right;\">\n",
       "      <th></th>\n",
       "      <th>Open</th>\n",
       "      <th>Close</th>\n",
       "      <th>High</th>\n",
       "      <th>Low</th>\n",
       "    </tr>\n",
       "  </thead>\n",
       "  <tbody>\n",
       "    <tr>\n",
       "      <td>2019-10-07</td>\n",
       "      <td>9849.08</td>\n",
       "      <td>9914.06</td>\n",
       "      <td>9931.13</td>\n",
       "      <td>9829.20</td>\n",
       "    </tr>\n",
       "    <tr>\n",
       "      <td>2019-10-08</td>\n",
       "      <td>9904.13</td>\n",
       "      <td>9800.24</td>\n",
       "      <td>9922.37</td>\n",
       "      <td>9779.45</td>\n",
       "    </tr>\n",
       "    <tr>\n",
       "      <td>2019-10-09</td>\n",
       "      <td>9792.70</td>\n",
       "      <td>9830.05</td>\n",
       "      <td>9880.68</td>\n",
       "      <td>9777.92</td>\n",
       "    </tr>\n",
       "    <tr>\n",
       "      <td>2019-10-10</td>\n",
       "      <td>9832.06</td>\n",
       "      <td>9903.02</td>\n",
       "      <td>9914.56</td>\n",
       "      <td>9796.69</td>\n",
       "    </tr>\n",
       "    <tr>\n",
       "      <td>2019-10-11</td>\n",
       "      <td>9913.37</td>\n",
       "      <td>10017.39</td>\n",
       "      <td>10027.87</td>\n",
       "      <td>9906.83</td>\n",
       "    </tr>\n",
       "  </tbody>\n",
       "</table>\n",
       "</div>"
      ],
      "text/plain": [
       "               Open     Close      High      Low\n",
       "2019-10-07  9849.08   9914.06   9931.13  9829.20\n",
       "2019-10-08  9904.13   9800.24   9922.37  9779.45\n",
       "2019-10-09  9792.70   9830.05   9880.68  9777.92\n",
       "2019-10-10  9832.06   9903.02   9914.56  9796.69\n",
       "2019-10-11  9913.37  10017.39  10027.87  9906.83"
      ]
     },
     "execution_count": 27,
     "metadata": {},
     "output_type": "execute_result"
    }
   ],
   "source": [
    "df['2017':].tail()"
   ]
  },
  {
   "cell_type": "markdown",
   "metadata": {
    "collapsed": true
   },
   "source": [
    "Easy!"
   ]
  },
  {
   "cell_type": "markdown",
   "metadata": {},
   "source": [
    "**Mini-Quiz:** Zeigen Sie alle Daten zwischen dem 23. März 2009 und dem 4. April 2009 an."
   ]
  },
  {
   "cell_type": "code",
   "execution_count": 28,
   "metadata": {},
   "outputs": [
    {
     "data": {
      "text/html": [
       "<div>\n",
       "<style scoped>\n",
       "    .dataframe tbody tr th:only-of-type {\n",
       "        vertical-align: middle;\n",
       "    }\n",
       "\n",
       "    .dataframe tbody tr th {\n",
       "        vertical-align: top;\n",
       "    }\n",
       "\n",
       "    .dataframe thead th {\n",
       "        text-align: right;\n",
       "    }\n",
       "</style>\n",
       "<table border=\"1\" class=\"dataframe\">\n",
       "  <thead>\n",
       "    <tr style=\"text-align: right;\">\n",
       "      <th></th>\n",
       "      <th>Open</th>\n",
       "      <th>Close</th>\n",
       "      <th>High</th>\n",
       "      <th>Low</th>\n",
       "    </tr>\n",
       "  </thead>\n",
       "  <tbody>\n",
       "    <tr>\n",
       "      <td>2009-03-23</td>\n",
       "      <td>4863.28</td>\n",
       "      <td>4931.07</td>\n",
       "      <td>4931.07</td>\n",
       "      <td>4829.59</td>\n",
       "    </tr>\n",
       "    <tr>\n",
       "      <td>2009-03-24</td>\n",
       "      <td>4986.43</td>\n",
       "      <td>4923.66</td>\n",
       "      <td>4995.46</td>\n",
       "      <td>4886.74</td>\n",
       "    </tr>\n",
       "    <tr>\n",
       "      <td>2009-03-25</td>\n",
       "      <td>4918.56</td>\n",
       "      <td>4970.38</td>\n",
       "      <td>5006.92</td>\n",
       "      <td>4901.81</td>\n",
       "    </tr>\n",
       "    <tr>\n",
       "      <td>2009-03-26</td>\n",
       "      <td>4977.89</td>\n",
       "      <td>4966.74</td>\n",
       "      <td>5001.83</td>\n",
       "      <td>4897.65</td>\n",
       "    </tr>\n",
       "    <tr>\n",
       "      <td>2009-03-27</td>\n",
       "      <td>4965.47</td>\n",
       "      <td>4872.33</td>\n",
       "      <td>4982.07</td>\n",
       "      <td>4866.66</td>\n",
       "    </tr>\n",
       "    <tr>\n",
       "      <td>2009-03-30</td>\n",
       "      <td>4798.15</td>\n",
       "      <td>4745.76</td>\n",
       "      <td>4838.40</td>\n",
       "      <td>4713.96</td>\n",
       "    </tr>\n",
       "    <tr>\n",
       "      <td>2009-03-31</td>\n",
       "      <td>4811.79</td>\n",
       "      <td>4927.43</td>\n",
       "      <td>4928.75</td>\n",
       "      <td>4810.66</td>\n",
       "    </tr>\n",
       "    <tr>\n",
       "      <td>2009-04-01</td>\n",
       "      <td>4933.75</td>\n",
       "      <td>5014.90</td>\n",
       "      <td>5014.90</td>\n",
       "      <td>4837.02</td>\n",
       "    </tr>\n",
       "    <tr>\n",
       "      <td>2009-04-02</td>\n",
       "      <td>5107.01</td>\n",
       "      <td>5178.53</td>\n",
       "      <td>5180.53</td>\n",
       "      <td>5098.09</td>\n",
       "    </tr>\n",
       "    <tr>\n",
       "      <td>2009-04-03</td>\n",
       "      <td>5147.91</td>\n",
       "      <td>5042.99</td>\n",
       "      <td>5151.26</td>\n",
       "      <td>4996.05</td>\n",
       "    </tr>\n",
       "  </tbody>\n",
       "</table>\n",
       "</div>"
      ],
      "text/plain": [
       "               Open    Close     High      Low\n",
       "2009-03-23  4863.28  4931.07  4931.07  4829.59\n",
       "2009-03-24  4986.43  4923.66  4995.46  4886.74\n",
       "2009-03-25  4918.56  4970.38  5006.92  4901.81\n",
       "2009-03-26  4977.89  4966.74  5001.83  4897.65\n",
       "2009-03-27  4965.47  4872.33  4982.07  4866.66\n",
       "2009-03-30  4798.15  4745.76  4838.40  4713.96\n",
       "2009-03-31  4811.79  4927.43  4928.75  4810.66\n",
       "2009-04-01  4933.75  5014.90  5014.90  4837.02\n",
       "2009-04-02  5107.01  5178.53  5180.53  5098.09\n",
       "2009-04-03  5147.91  5042.99  5151.26  4996.05"
      ]
     },
     "execution_count": 28,
     "metadata": {},
     "output_type": "execute_result"
    }
   ],
   "source": [
    "#Antwort\n",
    "df['2009-03-23':'2009-04-04']"
   ]
  },
  {
   "cell_type": "markdown",
   "metadata": {},
   "source": [
    "## 2. Date-Type-Picking"
   ]
  },
  {
   "cell_type": "markdown",
   "metadata": {
    "collapsed": true
   },
   "source": [
    "Die zweite Methode ist: Wir wählen Zeilen nach einem bestimmten Zeit-Kriterium aus - die Zeilen müssen nicht alle am Stück sein, sondern nur eine bestimmte gemeinsame Eigenschaft aufweisen.\n",
    "\n",
    "Die Zeit-Properties, die wir abfragen können, kennen wir bereits: https://pandas.pydata.org/pandas-docs/stable/timeseries.html"
   ]
  },
  {
   "cell_type": "markdown",
   "metadata": {},
   "source": [
    "**Beispiel:** Alle ersten Tage des Monats"
   ]
  },
  {
   "cell_type": "code",
   "execution_count": 30,
   "metadata": {
    "scrolled": true
   },
   "outputs": [
    {
     "data": {
      "text/html": [
       "<div>\n",
       "<style scoped>\n",
       "    .dataframe tbody tr th:only-of-type {\n",
       "        vertical-align: middle;\n",
       "    }\n",
       "\n",
       "    .dataframe tbody tr th {\n",
       "        vertical-align: top;\n",
       "    }\n",
       "\n",
       "    .dataframe thead th {\n",
       "        text-align: right;\n",
       "    }\n",
       "</style>\n",
       "<table border=\"1\" class=\"dataframe\">\n",
       "  <thead>\n",
       "    <tr style=\"text-align: right;\">\n",
       "      <th></th>\n",
       "      <th>Open</th>\n",
       "      <th>Close</th>\n",
       "      <th>High</th>\n",
       "      <th>Low</th>\n",
       "    </tr>\n",
       "  </thead>\n",
       "  <tbody>\n",
       "    <tr>\n",
       "      <td>1989-02-01</td>\n",
       "      <td>1490.20</td>\n",
       "      <td>1482.30</td>\n",
       "      <td>1491.70</td>\n",
       "      <td>1479.20</td>\n",
       "    </tr>\n",
       "    <tr>\n",
       "      <td>1989-03-01</td>\n",
       "      <td>1451.40</td>\n",
       "      <td>1460.80</td>\n",
       "      <td>1469.80</td>\n",
       "      <td>NaN</td>\n",
       "    </tr>\n",
       "    <tr>\n",
       "      <td>1989-06-01</td>\n",
       "      <td>1518.90</td>\n",
       "      <td>1539.30</td>\n",
       "      <td>1539.30</td>\n",
       "      <td>1518.90</td>\n",
       "    </tr>\n",
       "    <tr>\n",
       "      <td>1989-09-01</td>\n",
       "      <td>1880.10</td>\n",
       "      <td>1876.90</td>\n",
       "      <td>1888.70</td>\n",
       "      <td>1865.60</td>\n",
       "    </tr>\n",
       "    <tr>\n",
       "      <td>1989-11-01</td>\n",
       "      <td>1697.20</td>\n",
       "      <td>1686.00</td>\n",
       "      <td>1715.50</td>\n",
       "      <td>1673.70</td>\n",
       "    </tr>\n",
       "    <tr>\n",
       "      <td>...</td>\n",
       "      <td>...</td>\n",
       "      <td>...</td>\n",
       "      <td>...</td>\n",
       "      <td>...</td>\n",
       "    </tr>\n",
       "    <tr>\n",
       "      <td>2019-02-01</td>\n",
       "      <td>9011.87</td>\n",
       "      <td>8996.36</td>\n",
       "      <td>9012.72</td>\n",
       "      <td>8927.19</td>\n",
       "    </tr>\n",
       "    <tr>\n",
       "      <td>2019-03-01</td>\n",
       "      <td>9431.83</td>\n",
       "      <td>9412.02</td>\n",
       "      <td>9456.04</td>\n",
       "      <td>9401.56</td>\n",
       "    </tr>\n",
       "    <tr>\n",
       "      <td>2019-04-01</td>\n",
       "      <td>9513.12</td>\n",
       "      <td>9538.11</td>\n",
       "      <td>9554.73</td>\n",
       "      <td>9495.64</td>\n",
       "    </tr>\n",
       "    <tr>\n",
       "      <td>2019-07-01</td>\n",
       "      <td>9990.94</td>\n",
       "      <td>9970.00</td>\n",
       "      <td>10022.89</td>\n",
       "      <td>9955.50</td>\n",
       "    </tr>\n",
       "    <tr>\n",
       "      <td>2019-10-01</td>\n",
       "      <td>10101.53</td>\n",
       "      <td>9952.50</td>\n",
       "      <td>10124.22</td>\n",
       "      <td>9928.66</td>\n",
       "    </tr>\n",
       "  </tbody>\n",
       "</table>\n",
       "<p>193 rows × 4 columns</p>\n",
       "</div>"
      ],
      "text/plain": [
       "                Open    Close      High      Low\n",
       "1989-02-01   1490.20  1482.30   1491.70  1479.20\n",
       "1989-03-01   1451.40  1460.80   1469.80      NaN\n",
       "1989-06-01   1518.90  1539.30   1539.30  1518.90\n",
       "1989-09-01   1880.10  1876.90   1888.70  1865.60\n",
       "1989-11-01   1697.20  1686.00   1715.50  1673.70\n",
       "...              ...      ...       ...      ...\n",
       "2019-02-01   9011.87  8996.36   9012.72  8927.19\n",
       "2019-03-01   9431.83  9412.02   9456.04  9401.56\n",
       "2019-04-01   9513.12  9538.11   9554.73  9495.64\n",
       "2019-07-01   9990.94  9970.00  10022.89  9955.50\n",
       "2019-10-01  10101.53  9952.50  10124.22  9928.66\n",
       "\n",
       "[193 rows x 4 columns]"
      ]
     },
     "execution_count": 30,
     "metadata": {},
     "output_type": "execute_result"
    }
   ],
   "source": [
    "df[df.index.day == 1]\n"
   ]
  },
  {
   "cell_type": "code",
   "execution_count": 32,
   "metadata": {},
   "outputs": [
    {
     "data": {
      "text/plain": [
       "array([False, False, False, ..., False, False, False])"
      ]
     },
     "execution_count": 32,
     "metadata": {},
     "output_type": "execute_result"
    }
   ],
   "source": [
    "df.index.day ==1"
   ]
  },
  {
   "cell_type": "code",
   "execution_count": null,
   "metadata": {},
   "outputs": [],
   "source": []
  },
  {
   "cell_type": "markdown",
   "metadata": {},
   "source": [
    "Hier nochmals eine Liste einiger Properties, nach denen wir filtern können:"
   ]
  },
  {
   "cell_type": "markdown",
   "metadata": {},
   "source": [
    "| Property | Description |\n",
    "|----------|------------|\n",
    "| **`.year`** | - The year of the datetime |\n",
    "| **`.month`** | - The month of the datetime |\n",
    "| **`.day`** | - The days of the datetime |\n",
    "| **`.dayofyear`** | - The ordinal day of year |\n",
    "| **`.weekofyear`** | - The week ordinal of the year |\n",
    "| **`.week`** | - The week ordinal of the year |\n",
    "| **`.dayofweek`** | - The number of the day of the week with Monday=0, Sunday=6 |\n",
    "| **`.weekday`** | - The number of the day of the week with Monday=0, Sunday=6 |\n",
    "| **`.weekday_name`** | - The name of the day in a week (ex: Friday) |\n",
    "| **`.quarter`** | - Quarter of the date: Jan-Mar = 1, Apr-Jun = 2, etc. |\n",
    "| **`.days_in_month`** | - The number of days in the month of the datetime |\n",
    "| **`.is_month_start`** | - Logical indicating if first day of month (defined by frequency) |\n",
    "| **`.is_month_end`** | - Logical indicating if last day of month (defined by frequency) |\n",
    "| **`.is_quarter_start`** | - Logical indicating if first day of quarter (defined by frequency) |\n",
    "| **`.is_quarter_end`** | - Logical indicating if last day of quarter (defined by frequency) |\n",
    "| **`.is_year_start`** | - Logical indicating if first day of year (defined by frequency) |\n",
    "| **`.is_year_end`** | - Logical indicating if last day of year (defined by frequency) |\n",
    "| **`.is_leap_year`** | - Logical indicating if the date belongs to a leap year |"
   ]
  },
  {
   "cell_type": "markdown",
   "metadata": {
    "collapsed": true
   },
   "source": [
    "**Beispiel:** Alle Tage im April, egal welchen Jahres"
   ]
  },
  {
   "cell_type": "code",
   "execution_count": null,
   "metadata": {},
   "outputs": [],
   "source": [
    "df[df.index.month == 4].head()"
   ]
  },
  {
   "cell_type": "markdown",
   "metadata": {
    "collapsed": true
   },
   "source": [
    "**Beispiel:** Alle Montage (die Woche startet mit dem Tag 0!)"
   ]
  },
  {
   "cell_type": "code",
   "execution_count": null,
   "metadata": {
    "scrolled": true
   },
   "outputs": [],
   "source": [
    "df[df.index.dayofweek == 0].head()"
   ]
  },
  {
   "cell_type": "markdown",
   "metadata": {},
   "source": [
    "Wir können das auch ohne weiteres plotten"
   ]
  },
  {
   "cell_type": "code",
   "execution_count": 33,
   "metadata": {},
   "outputs": [
    {
     "data": {
      "text/plain": [
       "<matplotlib.axes._subplots.AxesSubplot at 0x11b8a7490>"
      ]
     },
     "execution_count": 33,
     "metadata": {},
     "output_type": "execute_result"
    },
    {
     "data": {
      "image/png": "[encoded data removed]",
      "text/plain": [
       "<Figure size 576x288 with 1 Axes>"
      ]
     },
     "metadata": {
      "needs_background": "light"
     },
     "output_type": "display_data"
    }
   ],
   "source": [
    "df[df.index.dayofweek == 0]['Close'].plot(figsize=(8,4))"
   ]
  },
  {
   "cell_type": "markdown",
   "metadata": {},
   "source": [
    "**Quiz:** Alle Freitage anzeigen"
   ]
  },
  {
   "cell_type": "code",
   "execution_count": 38,
   "metadata": {},
   "outputs": [
    {
     "data": {
      "text/html": [
       "<div>\n",
       "<style scoped>\n",
       "    .dataframe tbody tr th:only-of-type {\n",
       "        vertical-align: middle;\n",
       "    }\n",
       "\n",
       "    .dataframe tbody tr th {\n",
       "        vertical-align: top;\n",
       "    }\n",
       "\n",
       "    .dataframe thead th {\n",
       "        text-align: right;\n",
       "    }\n",
       "</style>\n",
       "<table border=\"1\" class=\"dataframe\">\n",
       "  <thead>\n",
       "    <tr style=\"text-align: right;\">\n",
       "      <th></th>\n",
       "      <th>Open</th>\n",
       "      <th>Close</th>\n",
       "      <th>High</th>\n",
       "      <th>Low</th>\n",
       "    </tr>\n",
       "  </thead>\n",
       "  <tbody>\n",
       "    <tr>\n",
       "      <td>1989-01-06</td>\n",
       "      <td>1487.40</td>\n",
       "      <td>1487.30</td>\n",
       "      <td>1491.70</td>\n",
       "      <td>1483.40</td>\n",
       "    </tr>\n",
       "    <tr>\n",
       "      <td>1989-01-13</td>\n",
       "      <td>1500.50</td>\n",
       "      <td>1505.10</td>\n",
       "      <td>1511.10</td>\n",
       "      <td>1500.30</td>\n",
       "    </tr>\n",
       "    <tr>\n",
       "      <td>1989-01-20</td>\n",
       "      <td>1480.70</td>\n",
       "      <td>1476.50</td>\n",
       "      <td>1481.30</td>\n",
       "      <td>1472.00</td>\n",
       "    </tr>\n",
       "    <tr>\n",
       "      <td>1989-01-27</td>\n",
       "      <td>1500.40</td>\n",
       "      <td>1499.80</td>\n",
       "      <td>1502.30</td>\n",
       "      <td>1497.90</td>\n",
       "    </tr>\n",
       "    <tr>\n",
       "      <td>1989-02-03</td>\n",
       "      <td>1473.80</td>\n",
       "      <td>1479.60</td>\n",
       "      <td>1479.60</td>\n",
       "      <td>1470.20</td>\n",
       "    </tr>\n",
       "    <tr>\n",
       "      <td>...</td>\n",
       "      <td>...</td>\n",
       "      <td>...</td>\n",
       "      <td>...</td>\n",
       "      <td>...</td>\n",
       "    </tr>\n",
       "    <tr>\n",
       "      <td>2019-09-13</td>\n",
       "      <td>10130.45</td>\n",
       "      <td>10047.34</td>\n",
       "      <td>10131.13</td>\n",
       "      <td>10033.33</td>\n",
       "    </tr>\n",
       "    <tr>\n",
       "      <td>2019-09-20</td>\n",
       "      <td>10114.18</td>\n",
       "      <td>10056.83</td>\n",
       "      <td>10114.18</td>\n",
       "      <td>10056.10</td>\n",
       "    </tr>\n",
       "    <tr>\n",
       "      <td>2019-09-27</td>\n",
       "      <td>10055.55</td>\n",
       "      <td>10037.81</td>\n",
       "      <td>10071.46</td>\n",
       "      <td>10020.44</td>\n",
       "    </tr>\n",
       "    <tr>\n",
       "      <td>2019-10-04</td>\n",
       "      <td>9793.38</td>\n",
       "      <td>9827.72</td>\n",
       "      <td>9842.20</td>\n",
       "      <td>9749.48</td>\n",
       "    </tr>\n",
       "    <tr>\n",
       "      <td>2019-10-11</td>\n",
       "      <td>9913.37</td>\n",
       "      <td>10017.39</td>\n",
       "      <td>10027.87</td>\n",
       "      <td>9906.83</td>\n",
       "    </tr>\n",
       "  </tbody>\n",
       "</table>\n",
       "<p>1540 rows × 4 columns</p>\n",
       "</div>"
      ],
      "text/plain": [
       "                Open     Close      High       Low\n",
       "1989-01-06   1487.40   1487.30   1491.70   1483.40\n",
       "1989-01-13   1500.50   1505.10   1511.10   1500.30\n",
       "1989-01-20   1480.70   1476.50   1481.30   1472.00\n",
       "1989-01-27   1500.40   1499.80   1502.30   1497.90\n",
       "1989-02-03   1473.80   1479.60   1479.60   1470.20\n",
       "...              ...       ...       ...       ...\n",
       "2019-09-13  10130.45  10047.34  10131.13  10033.33\n",
       "2019-09-20  10114.18  10056.83  10114.18  10056.10\n",
       "2019-09-27  10055.55  10037.81  10071.46  10020.44\n",
       "2019-10-04   9793.38   9827.72   9842.20   9749.48\n",
       "2019-10-11   9913.37  10017.39  10027.87   9906.83\n",
       "\n",
       "[1540 rows x 4 columns]"
      ]
     },
     "execution_count": 38,
     "metadata": {},
     "output_type": "execute_result"
    }
   ],
   "source": [
    "df[df.index.dayofweek == 4]"
   ]
  },
  {
   "cell_type": "markdown",
   "metadata": {},
   "source": [
    "Plotten Sie die Schlusskurse an diesen Tagen"
   ]
  },
  {
   "cell_type": "code",
   "execution_count": 39,
   "metadata": {},
   "outputs": [
    {
     "data": {
      "text/plain": [
       "<matplotlib.axes._subplots.AxesSubplot at 0x11ab09490>"
      ]
     },
     "execution_count": 39,
     "metadata": {},
     "output_type": "execute_result"
    },
    {
     "data": {
      "image/png": "[encoded data removed]",
      "text/plain": [
       "<Figure size 432x288 with 1 Axes>"
      ]
     },
     "metadata": {
      "needs_background": "light"
     },
     "output_type": "display_data"
    }
   ],
   "source": [
    "#Antwort\n",
    "df[df.index.dayofweek == 4]['Close'].plot()"
   ]
  },
  {
   "cell_type": "markdown",
   "metadata": {},
   "source": [
    "**Quiz:** Alle Dienstage von 2006 bis 2009"
   ]
  },
  {
   "cell_type": "code",
   "execution_count": null,
   "metadata": {},
   "outputs": [],
   "source": [
    "df[df.index.dayofweek == 4]"
   ]
  },
  {
   "cell_type": "markdown",
   "metadata": {},
   "source": [
    "Plotten Sie die Eröffnungskurse an diesen Tagen"
   ]
  },
  {
   "cell_type": "code",
   "execution_count": 48,
   "metadata": {},
   "outputs": [
    {
     "data": {
      "text/html": [
       "<div>\n",
       "<style scoped>\n",
       "    .dataframe tbody tr th:only-of-type {\n",
       "        vertical-align: middle;\n",
       "    }\n",
       "\n",
       "    .dataframe tbody tr th {\n",
       "        vertical-align: top;\n",
       "    }\n",
       "\n",
       "    .dataframe thead th {\n",
       "        text-align: right;\n",
       "    }\n",
       "</style>\n",
       "<table border=\"1\" class=\"dataframe\">\n",
       "  <thead>\n",
       "    <tr style=\"text-align: right;\">\n",
       "      <th></th>\n",
       "      <th>Open</th>\n",
       "      <th>Close</th>\n",
       "      <th>High</th>\n",
       "      <th>Low</th>\n",
       "    </tr>\n",
       "  </thead>\n",
       "  <tbody>\n",
       "    <tr>\n",
       "      <td>2009-01-06</td>\n",
       "      <td>5778.76</td>\n",
       "      <td>5799.31</td>\n",
       "      <td>5881.47</td>\n",
       "      <td>5731.32</td>\n",
       "    </tr>\n",
       "    <tr>\n",
       "      <td>2009-01-13</td>\n",
       "      <td>5568.36</td>\n",
       "      <td>5534.33</td>\n",
       "      <td>5568.36</td>\n",
       "      <td>5452.02</td>\n",
       "    </tr>\n",
       "    <tr>\n",
       "      <td>2009-01-20</td>\n",
       "      <td>5413.28</td>\n",
       "      <td>5321.00</td>\n",
       "      <td>5430.39</td>\n",
       "      <td>5313.99</td>\n",
       "    </tr>\n",
       "    <tr>\n",
       "      <td>2009-01-27</td>\n",
       "      <td>5440.84</td>\n",
       "      <td>5348.91</td>\n",
       "      <td>5442.38</td>\n",
       "      <td>5291.15</td>\n",
       "    </tr>\n",
       "    <tr>\n",
       "      <td>2009-02-03</td>\n",
       "      <td>5201.26</td>\n",
       "      <td>5217.61</td>\n",
       "      <td>5246.38</td>\n",
       "      <td>5142.26</td>\n",
       "    </tr>\n",
       "    <tr>\n",
       "      <td>...</td>\n",
       "      <td>...</td>\n",
       "      <td>...</td>\n",
       "      <td>...</td>\n",
       "      <td>...</td>\n",
       "    </tr>\n",
       "    <tr>\n",
       "      <td>2011-11-29</td>\n",
       "      <td>5511.98</td>\n",
       "      <td>5531.24</td>\n",
       "      <td>5552.45</td>\n",
       "      <td>5485.40</td>\n",
       "    </tr>\n",
       "    <tr>\n",
       "      <td>2011-12-06</td>\n",
       "      <td>5704.08</td>\n",
       "      <td>5767.93</td>\n",
       "      <td>5790.00</td>\n",
       "      <td>5703.94</td>\n",
       "    </tr>\n",
       "    <tr>\n",
       "      <td>2011-12-13</td>\n",
       "      <td>5757.73</td>\n",
       "      <td>5759.72</td>\n",
       "      <td>5779.07</td>\n",
       "      <td>5724.86</td>\n",
       "    </tr>\n",
       "    <tr>\n",
       "      <td>2011-12-20</td>\n",
       "      <td>5754.37</td>\n",
       "      <td>5804.31</td>\n",
       "      <td>5805.50</td>\n",
       "      <td>5736.66</td>\n",
       "    </tr>\n",
       "    <tr>\n",
       "      <td>2011-12-27</td>\n",
       "      <td>5917.01</td>\n",
       "      <td>5886.91</td>\n",
       "      <td>5917.01</td>\n",
       "      <td>5867.67</td>\n",
       "    </tr>\n",
       "  </tbody>\n",
       "</table>\n",
       "<p>156 rows × 4 columns</p>\n",
       "</div>"
      ],
      "text/plain": [
       "               Open    Close     High      Low\n",
       "2009-01-06  5778.76  5799.31  5881.47  5731.32\n",
       "2009-01-13  5568.36  5534.33  5568.36  5452.02\n",
       "2009-01-20  5413.28  5321.00  5430.39  5313.99\n",
       "2009-01-27  5440.84  5348.91  5442.38  5291.15\n",
       "2009-02-03  5201.26  5217.61  5246.38  5142.26\n",
       "...             ...      ...      ...      ...\n",
       "2011-11-29  5511.98  5531.24  5552.45  5485.40\n",
       "2011-12-06  5704.08  5767.93  5790.00  5703.94\n",
       "2011-12-13  5757.73  5759.72  5779.07  5724.86\n",
       "2011-12-20  5754.37  5804.31  5805.50  5736.66\n",
       "2011-12-27  5917.01  5886.91  5917.01  5867.67\n",
       "\n",
       "[156 rows x 4 columns]"
      ]
     },
     "execution_count": 48,
     "metadata": {},
     "output_type": "execute_result"
    }
   ],
   "source": [
    "#Antwort\n",
    "df[df.index.dayofweek == 1]['2009':'2011']\n"
   ]
  },
  {
   "cell_type": "code",
   "execution_count": 55,
   "metadata": {},
   "outputs": [
    {
     "data": {
      "text/plain": [
       "<matplotlib.axes._subplots.AxesSubplot at 0x11b0d3a50>"
      ]
     },
     "execution_count": 55,
     "metadata": {},
     "output_type": "execute_result"
    },
    {
     "data": {
      "image/png": "[encoded data removed]",
      "text/plain": [
       "<Figure size 432x288 with 1 Axes>"
      ]
     },
     "metadata": {
      "needs_background": "light"
     },
     "output_type": "display_data"
    }
   ],
   "source": [
    "df[df.index.dayofweek == 1]['2009':'2011']['Low'].plot()"
   ]
  },
  {
   "cell_type": "markdown",
   "metadata": {},
   "source": [
    "## 3. Resampling"
   ]
  },
  {
   "cell_type": "markdown",
   "metadata": {
    "collapsed": true
   },
   "source": [
    "Die dritte Technik, die wir kennenlernen, heisst resampling. Wir fassen dabei bestimmte Zeitperioden zusammen. Was wir uns dabei überlegen müssen, ist:\n",
    "- Welche Zeitperiode uns interessiert\n",
    "- Welche Zusammenfassungs-Metrik wir bilden wollen\n",
    "- (und allenfalls: welche Spalte uns interessiert)"
   ]
  },
  {
   "cell_type": "markdown",
   "metadata": {},
   "source": [
    "**Beispiel:** Der Jahresdurchschnitt der SMI-Kurse. Das heisst also:\n",
    "- Zeitperiode: jährlich\n",
    "- Metrik: Durchschnitt\n",
    "- Spalten: keine spezielle Auswahl"
   ]
  },
  {
   "cell_type": "code",
   "execution_count": 58,
   "metadata": {},
   "outputs": [
    {
     "data": {
      "text/html": [
       "<div>\n",
       "<style scoped>\n",
       "    .dataframe tbody tr th:only-of-type {\n",
       "        vertical-align: middle;\n",
       "    }\n",
       "\n",
       "    .dataframe tbody tr th {\n",
       "        vertical-align: top;\n",
       "    }\n",
       "\n",
       "    .dataframe thead th {\n",
       "        text-align: right;\n",
       "    }\n",
       "</style>\n",
       "<table border=\"1\" class=\"dataframe\">\n",
       "  <thead>\n",
       "    <tr style=\"text-align: right;\">\n",
       "      <th></th>\n",
       "      <th>Open</th>\n",
       "      <th>Close</th>\n",
       "      <th>High</th>\n",
       "      <th>Low</th>\n",
       "    </tr>\n",
       "  </thead>\n",
       "  <tbody>\n",
       "    <tr>\n",
       "      <td>1989-12-31</td>\n",
       "      <td>1653.765587</td>\n",
       "      <td>1654.872874</td>\n",
       "      <td>1670.093004</td>\n",
       "      <td>1643.906639</td>\n",
       "    </tr>\n",
       "    <tr>\n",
       "      <td>1990-12-31</td>\n",
       "      <td>1616.343145</td>\n",
       "      <td>1614.733065</td>\n",
       "      <td>1625.970161</td>\n",
       "      <td>1604.979757</td>\n",
       "    </tr>\n",
       "    <tr>\n",
       "      <td>1991-12-31</td>\n",
       "      <td>1639.309677</td>\n",
       "      <td>1640.383871</td>\n",
       "      <td>1650.802823</td>\n",
       "      <td>1631.158300</td>\n",
       "    </tr>\n",
       "    <tr>\n",
       "      <td>1992-12-31</td>\n",
       "      <td>1853.182937</td>\n",
       "      <td>1854.954365</td>\n",
       "      <td>1876.682400</td>\n",
       "      <td>1844.190079</td>\n",
       "    </tr>\n",
       "    <tr>\n",
       "      <td>1993-12-31</td>\n",
       "      <td>2376.807087</td>\n",
       "      <td>2379.872835</td>\n",
       "      <td>2392.026378</td>\n",
       "      <td>2365.780709</td>\n",
       "    </tr>\n",
       "  </tbody>\n",
       "</table>\n",
       "</div>"
      ],
      "text/plain": [
       "                   Open        Close         High          Low\n",
       "1989-12-31  1653.765587  1654.872874  1670.093004  1643.906639\n",
       "1990-12-31  1616.343145  1614.733065  1625.970161  1604.979757\n",
       "1991-12-31  1639.309677  1640.383871  1650.802823  1631.158300\n",
       "1992-12-31  1853.182937  1854.954365  1876.682400  1844.190079\n",
       "1993-12-31  2376.807087  2379.872835  2392.026378  2365.780709"
      ]
     },
     "execution_count": 58,
     "metadata": {},
     "output_type": "execute_result"
    }
   ],
   "source": [
    "df.resample('A').mean().head() #A steht für anually"
   ]
  },
  {
   "cell_type": "markdown",
   "metadata": {},
   "source": [
    "Für einen Plot können wir zB eine Spalte speziell auswählen:"
   ]
  },
  {
   "cell_type": "code",
   "execution_count": 59,
   "metadata": {},
   "outputs": [
    {
     "data": {
      "text/plain": [
       "<matplotlib.axes._subplots.AxesSubplot at 0x11e0a4f90>"
      ]
     },
     "execution_count": 59,
     "metadata": {},
     "output_type": "execute_result"
    },
    {
     "data": {
      "image/png": "[encoded data removed]",
      "text/plain": [
       "<Figure size 576x288 with 1 Axes>"
      ]
     },
     "metadata": {
      "needs_background": "light"
     },
     "output_type": "display_data"
    }
   ],
   "source": [
    "df.resample('A').mean()['Close'].plot(figsize=(8,4))"
   ]
  },
  {
   "cell_type": "markdown",
   "metadata": {},
   "source": [
    "Hier eine Liste von manchen Zeitperioden, nach denen wir Resamplen können.\n",
    "(Quelle/volle Liste: http://stackoverflow.com/a/17001474)"
   ]
  },
  {
   "cell_type": "markdown",
   "metadata": {},
   "source": [
    "| Code | Meaning |\n",
    "|---------|-----------|\n",
    "| B       | business day frequency |\n",
    "| D       | calendar day frequency |\n",
    "| W       | weekly frequency |\n",
    "| M       | month end frequency |\n",
    "| BM      | business month end frequency |\n",
    "| MS      | month start frequency |\n",
    "| BMS     | business month start frequency |\n",
    "| Q       | quarter end frequency |\n",
    "| BQ      | business quarter endfrequency |\n",
    "| QS      | quarter start frequency |\n",
    "| BQS     | business quarter start frequency |\n",
    "| A       | year end frequency |\n",
    "| BA      | business year end frequency |\n",
    "| AS      | year start frequency |\n",
    "| BAS     | business year start frequency |"
   ]
  },
  {
   "cell_type": "markdown",
   "metadata": {
    "collapsed": true
   },
   "source": [
    "**Beispiel:** Monatliche Mittelwerte"
   ]
  },
  {
   "cell_type": "code",
   "execution_count": 60,
   "metadata": {},
   "outputs": [
    {
     "data": {
      "text/html": [
       "<div>\n",
       "<style scoped>\n",
       "    .dataframe tbody tr th:only-of-type {\n",
       "        vertical-align: middle;\n",
       "    }\n",
       "\n",
       "    .dataframe tbody tr th {\n",
       "        vertical-align: top;\n",
       "    }\n",
       "\n",
       "    .dataframe thead th {\n",
       "        text-align: right;\n",
       "    }\n",
       "</style>\n",
       "<table border=\"1\" class=\"dataframe\">\n",
       "  <thead>\n",
       "    <tr style=\"text-align: right;\">\n",
       "      <th></th>\n",
       "      <th>Open</th>\n",
       "      <th>Close</th>\n",
       "      <th>High</th>\n",
       "      <th>Low</th>\n",
       "    </tr>\n",
       "  </thead>\n",
       "  <tbody>\n",
       "    <tr>\n",
       "      <td>1989-01-31</td>\n",
       "      <td>1487.571429</td>\n",
       "      <td>1489.909524</td>\n",
       "      <td>1494.080952</td>\n",
       "      <td>1482.542857</td>\n",
       "    </tr>\n",
       "    <tr>\n",
       "      <td>1989-02-28</td>\n",
       "      <td>1481.065000</td>\n",
       "      <td>1479.310000</td>\n",
       "      <td>1485.300000</td>\n",
       "      <td>1473.055000</td>\n",
       "    </tr>\n",
       "    <tr>\n",
       "      <td>1989-03-31</td>\n",
       "      <td>1500.280952</td>\n",
       "      <td>1503.723810</td>\n",
       "      <td>1508.552381</td>\n",
       "      <td>1498.270000</td>\n",
       "    </tr>\n",
       "    <tr>\n",
       "      <td>1989-04-30</td>\n",
       "      <td>1562.710526</td>\n",
       "      <td>1563.384211</td>\n",
       "      <td>1575.244444</td>\n",
       "      <td>1554.373684</td>\n",
       "    </tr>\n",
       "    <tr>\n",
       "      <td>1989-05-31</td>\n",
       "      <td>1526.463158</td>\n",
       "      <td>1524.157895</td>\n",
       "      <td>1529.977778</td>\n",
       "      <td>1518.105556</td>\n",
       "    </tr>\n",
       "  </tbody>\n",
       "</table>\n",
       "</div>"
      ],
      "text/plain": [
       "                   Open        Close         High          Low\n",
       "1989-01-31  1487.571429  1489.909524  1494.080952  1482.542857\n",
       "1989-02-28  1481.065000  1479.310000  1485.300000  1473.055000\n",
       "1989-03-31  1500.280952  1503.723810  1508.552381  1498.270000\n",
       "1989-04-30  1562.710526  1563.384211  1575.244444  1554.373684\n",
       "1989-05-31  1526.463158  1524.157895  1529.977778  1518.105556"
      ]
     },
     "execution_count": 60,
     "metadata": {},
     "output_type": "execute_result"
    }
   ],
   "source": [
    "df.resample('M').mean().head()"
   ]
  },
  {
   "cell_type": "markdown",
   "metadata": {},
   "source": [
    "**Beispiel:** Monatliche Mittelwerte, aber mit dem Monats-Startdatum statt mit dem Enddatum"
   ]
  },
  {
   "cell_type": "code",
   "execution_count": 61,
   "metadata": {},
   "outputs": [
    {
     "data": {
      "text/html": [
       "<div>\n",
       "<style scoped>\n",
       "    .dataframe tbody tr th:only-of-type {\n",
       "        vertical-align: middle;\n",
       "    }\n",
       "\n",
       "    .dataframe tbody tr th {\n",
       "        vertical-align: top;\n",
       "    }\n",
       "\n",
       "    .dataframe thead th {\n",
       "        text-align: right;\n",
       "    }\n",
       "</style>\n",
       "<table border=\"1\" class=\"dataframe\">\n",
       "  <thead>\n",
       "    <tr style=\"text-align: right;\">\n",
       "      <th></th>\n",
       "      <th>Open</th>\n",
       "      <th>Close</th>\n",
       "      <th>High</th>\n",
       "      <th>Low</th>\n",
       "    </tr>\n",
       "  </thead>\n",
       "  <tbody>\n",
       "    <tr>\n",
       "      <td>1989-01-01</td>\n",
       "      <td>1487.571429</td>\n",
       "      <td>1489.909524</td>\n",
       "      <td>1494.080952</td>\n",
       "      <td>1482.542857</td>\n",
       "    </tr>\n",
       "    <tr>\n",
       "      <td>1989-02-01</td>\n",
       "      <td>1481.065000</td>\n",
       "      <td>1479.310000</td>\n",
       "      <td>1485.300000</td>\n",
       "      <td>1473.055000</td>\n",
       "    </tr>\n",
       "    <tr>\n",
       "      <td>1989-03-01</td>\n",
       "      <td>1500.280952</td>\n",
       "      <td>1503.723810</td>\n",
       "      <td>1508.552381</td>\n",
       "      <td>1498.270000</td>\n",
       "    </tr>\n",
       "    <tr>\n",
       "      <td>1989-04-01</td>\n",
       "      <td>1562.710526</td>\n",
       "      <td>1563.384211</td>\n",
       "      <td>1575.244444</td>\n",
       "      <td>1554.373684</td>\n",
       "    </tr>\n",
       "    <tr>\n",
       "      <td>1989-05-01</td>\n",
       "      <td>1526.463158</td>\n",
       "      <td>1524.157895</td>\n",
       "      <td>1529.977778</td>\n",
       "      <td>1518.105556</td>\n",
       "    </tr>\n",
       "  </tbody>\n",
       "</table>\n",
       "</div>"
      ],
      "text/plain": [
       "                   Open        Close         High          Low\n",
       "1989-01-01  1487.571429  1489.909524  1494.080952  1482.542857\n",
       "1989-02-01  1481.065000  1479.310000  1485.300000  1473.055000\n",
       "1989-03-01  1500.280952  1503.723810  1508.552381  1498.270000\n",
       "1989-04-01  1562.710526  1563.384211  1575.244444  1554.373684\n",
       "1989-05-01  1526.463158  1524.157895  1529.977778  1518.105556"
      ]
     },
     "execution_count": 61,
     "metadata": {},
     "output_type": "execute_result"
    }
   ],
   "source": [
    "df.resample('MS').mean().head()"
   ]
  },
  {
   "cell_type": "markdown",
   "metadata": {
    "collapsed": true
   },
   "source": [
    "**Beispiel:** Monatliche Anzahl"
   ]
  },
  {
   "cell_type": "code",
   "execution_count": 62,
   "metadata": {},
   "outputs": [
    {
     "data": {
      "text/html": [
       "<div>\n",
       "<style scoped>\n",
       "    .dataframe tbody tr th:only-of-type {\n",
       "        vertical-align: middle;\n",
       "    }\n",
       "\n",
       "    .dataframe tbody tr th {\n",
       "        vertical-align: top;\n",
       "    }\n",
       "\n",
       "    .dataframe thead th {\n",
       "        text-align: right;\n",
       "    }\n",
       "</style>\n",
       "<table border=\"1\" class=\"dataframe\">\n",
       "  <thead>\n",
       "    <tr style=\"text-align: right;\">\n",
       "      <th></th>\n",
       "      <th>Open</th>\n",
       "      <th>Close</th>\n",
       "      <th>High</th>\n",
       "      <th>Low</th>\n",
       "    </tr>\n",
       "  </thead>\n",
       "  <tbody>\n",
       "    <tr>\n",
       "      <td>1989-01-01</td>\n",
       "      <td>21</td>\n",
       "      <td>21</td>\n",
       "      <td>21</td>\n",
       "      <td>21</td>\n",
       "    </tr>\n",
       "    <tr>\n",
       "      <td>1989-02-01</td>\n",
       "      <td>20</td>\n",
       "      <td>20</td>\n",
       "      <td>20</td>\n",
       "      <td>20</td>\n",
       "    </tr>\n",
       "    <tr>\n",
       "      <td>1989-03-01</td>\n",
       "      <td>21</td>\n",
       "      <td>21</td>\n",
       "      <td>21</td>\n",
       "      <td>20</td>\n",
       "    </tr>\n",
       "    <tr>\n",
       "      <td>1989-04-01</td>\n",
       "      <td>19</td>\n",
       "      <td>19</td>\n",
       "      <td>18</td>\n",
       "      <td>19</td>\n",
       "    </tr>\n",
       "    <tr>\n",
       "      <td>1989-05-01</td>\n",
       "      <td>19</td>\n",
       "      <td>19</td>\n",
       "      <td>18</td>\n",
       "      <td>18</td>\n",
       "    </tr>\n",
       "  </tbody>\n",
       "</table>\n",
       "</div>"
      ],
      "text/plain": [
       "            Open  Close  High  Low\n",
       "1989-01-01    21     21    21   21\n",
       "1989-02-01    20     20    20   20\n",
       "1989-03-01    21     21    21   20\n",
       "1989-04-01    19     19    18   19\n",
       "1989-05-01    19     19    18   18"
      ]
     },
     "execution_count": 62,
     "metadata": {},
     "output_type": "execute_result"
    }
   ],
   "source": [
    "df.resample('MS').count().head()"
   ]
  },
  {
   "cell_type": "markdown",
   "metadata": {
    "collapsed": true
   },
   "source": [
    "**Beispiel:** Monatlicher Letztwert"
   ]
  },
  {
   "cell_type": "code",
   "execution_count": 63,
   "metadata": {},
   "outputs": [
    {
     "data": {
      "text/html": [
       "<div>\n",
       "<style scoped>\n",
       "    .dataframe tbody tr th:only-of-type {\n",
       "        vertical-align: middle;\n",
       "    }\n",
       "\n",
       "    .dataframe tbody tr th {\n",
       "        vertical-align: top;\n",
       "    }\n",
       "\n",
       "    .dataframe thead th {\n",
       "        text-align: right;\n",
       "    }\n",
       "</style>\n",
       "<table border=\"1\" class=\"dataframe\">\n",
       "  <thead>\n",
       "    <tr style=\"text-align: right;\">\n",
       "      <th></th>\n",
       "      <th>Open</th>\n",
       "      <th>Close</th>\n",
       "      <th>High</th>\n",
       "      <th>Low</th>\n",
       "    </tr>\n",
       "  </thead>\n",
       "  <tbody>\n",
       "    <tr>\n",
       "      <td>1989-01-01</td>\n",
       "      <td>1498.0</td>\n",
       "      <td>1490.5</td>\n",
       "      <td>1498.6</td>\n",
       "      <td>1484.9</td>\n",
       "    </tr>\n",
       "    <tr>\n",
       "      <td>1989-02-01</td>\n",
       "      <td>1434.0</td>\n",
       "      <td>1450.1</td>\n",
       "      <td>1451.5</td>\n",
       "      <td>1432.9</td>\n",
       "    </tr>\n",
       "    <tr>\n",
       "      <td>1989-03-01</td>\n",
       "      <td>1519.8</td>\n",
       "      <td>1527.7</td>\n",
       "      <td>1527.7</td>\n",
       "      <td>1519.8</td>\n",
       "    </tr>\n",
       "    <tr>\n",
       "      <td>1989-04-01</td>\n",
       "      <td>1553.6</td>\n",
       "      <td>1576.9</td>\n",
       "      <td>1578.0</td>\n",
       "      <td>1553.6</td>\n",
       "    </tr>\n",
       "    <tr>\n",
       "      <td>1989-05-01</td>\n",
       "      <td>1517.4</td>\n",
       "      <td>1519.8</td>\n",
       "      <td>1523.5</td>\n",
       "      <td>1516.9</td>\n",
       "    </tr>\n",
       "  </tbody>\n",
       "</table>\n",
       "</div>"
      ],
      "text/plain": [
       "              Open   Close    High     Low\n",
       "1989-01-01  1498.0  1490.5  1498.6  1484.9\n",
       "1989-02-01  1434.0  1450.1  1451.5  1432.9\n",
       "1989-03-01  1519.8  1527.7  1527.7  1519.8\n",
       "1989-04-01  1553.6  1576.9  1578.0  1553.6\n",
       "1989-05-01  1517.4  1519.8  1523.5  1516.9"
      ]
     },
     "execution_count": 63,
     "metadata": {},
     "output_type": "execute_result"
    }
   ],
   "source": [
    "df.resample('MS').last().head()"
   ]
  },
  {
   "cell_type": "markdown",
   "metadata": {
    "collapsed": true
   },
   "source": [
    "**Beispiel:** Wir können das Intervall \"Jahr\" auch nur in Fünferschritten abfragen"
   ]
  },
  {
   "cell_type": "code",
   "execution_count": 64,
   "metadata": {},
   "outputs": [
    {
     "data": {
      "text/html": [
       "<div>\n",
       "<style scoped>\n",
       "    .dataframe tbody tr th:only-of-type {\n",
       "        vertical-align: middle;\n",
       "    }\n",
       "\n",
       "    .dataframe tbody tr th {\n",
       "        vertical-align: top;\n",
       "    }\n",
       "\n",
       "    .dataframe thead th {\n",
       "        text-align: right;\n",
       "    }\n",
       "</style>\n",
       "<table border=\"1\" class=\"dataframe\">\n",
       "  <thead>\n",
       "    <tr style=\"text-align: right;\">\n",
       "      <th></th>\n",
       "      <th>Open</th>\n",
       "      <th>Close</th>\n",
       "      <th>High</th>\n",
       "      <th>Low</th>\n",
       "    </tr>\n",
       "  </thead>\n",
       "  <tbody>\n",
       "    <tr>\n",
       "      <td>1989-01-01</td>\n",
       "      <td>1830.739071</td>\n",
       "      <td>1831.832506</td>\n",
       "      <td>1846.514562</td>\n",
       "      <td>1822.040129</td>\n",
       "    </tr>\n",
       "    <tr>\n",
       "      <td>1994-01-01</td>\n",
       "      <td>4297.814992</td>\n",
       "      <td>4300.122648</td>\n",
       "      <td>4331.420494</td>\n",
       "      <td>4267.496093</td>\n",
       "    </tr>\n",
       "    <tr>\n",
       "      <td>1999-01-01</td>\n",
       "      <td>6471.825935</td>\n",
       "      <td>6468.076420</td>\n",
       "      <td>6517.650605</td>\n",
       "      <td>6418.592848</td>\n",
       "    </tr>\n",
       "    <tr>\n",
       "      <td>2004-01-01</td>\n",
       "      <td>7207.172143</td>\n",
       "      <td>7205.677746</td>\n",
       "      <td>7248.102595</td>\n",
       "      <td>7161.147746</td>\n",
       "    </tr>\n",
       "    <tr>\n",
       "      <td>2009-01-01</td>\n",
       "      <td>6467.187258</td>\n",
       "      <td>6466.926733</td>\n",
       "      <td>6504.002361</td>\n",
       "      <td>6427.817472</td>\n",
       "    </tr>\n",
       "    <tr>\n",
       "      <td>2014-01-01</td>\n",
       "      <td>8674.300694</td>\n",
       "      <td>8673.198118</td>\n",
       "      <td>8715.325159</td>\n",
       "      <td>8629.045215</td>\n",
       "    </tr>\n",
       "    <tr>\n",
       "      <td>2019-01-01</td>\n",
       "      <td>9581.299337</td>\n",
       "      <td>9588.782755</td>\n",
       "      <td>9629.745204</td>\n",
       "      <td>9539.959286</td>\n",
       "    </tr>\n",
       "  </tbody>\n",
       "</table>\n",
       "</div>"
      ],
      "text/plain": [
       "                   Open        Close         High          Low\n",
       "1989-01-01  1830.739071  1831.832506  1846.514562  1822.040129\n",
       "1994-01-01  4297.814992  4300.122648  4331.420494  4267.496093\n",
       "1999-01-01  6471.825935  6468.076420  6517.650605  6418.592848\n",
       "2004-01-01  7207.172143  7205.677746  7248.102595  7161.147746\n",
       "2009-01-01  6467.187258  6466.926733  6504.002361  6427.817472\n",
       "2014-01-01  8674.300694  8673.198118  8715.325159  8629.045215\n",
       "2019-01-01  9581.299337  9588.782755  9629.745204  9539.959286"
      ]
     },
     "execution_count": 64,
     "metadata": {},
     "output_type": "execute_result"
    }
   ],
   "source": [
    "df.resample('5AS').mean()"
   ]
  },
  {
   "cell_type": "markdown",
   "metadata": {
    "collapsed": true
   },
   "source": [
    "**Quiz:** Quartalsweise Minima (mit Startdatum als Index) - Liste aller Kurse"
   ]
  },
  {
   "cell_type": "code",
   "execution_count": 74,
   "metadata": {},
   "outputs": [
    {
     "data": {
      "text/html": [
       "<div>\n",
       "<style scoped>\n",
       "    .dataframe tbody tr th:only-of-type {\n",
       "        vertical-align: middle;\n",
       "    }\n",
       "\n",
       "    .dataframe tbody tr th {\n",
       "        vertical-align: top;\n",
       "    }\n",
       "\n",
       "    .dataframe thead th {\n",
       "        text-align: right;\n",
       "    }\n",
       "</style>\n",
       "<table border=\"1\" class=\"dataframe\">\n",
       "  <thead>\n",
       "    <tr style=\"text-align: right;\">\n",
       "      <th></th>\n",
       "      <th>Open</th>\n",
       "      <th>Close</th>\n",
       "      <th>High</th>\n",
       "      <th>Low</th>\n",
       "    </tr>\n",
       "  </thead>\n",
       "  <tbody>\n",
       "    <tr>\n",
       "      <td>1989-01-01</td>\n",
       "      <td>1434.00</td>\n",
       "      <td>1433.60</td>\n",
       "      <td>1451.50</td>\n",
       "      <td>1427.60</td>\n",
       "    </tr>\n",
       "    <tr>\n",
       "      <td>1989-04-01</td>\n",
       "      <td>1493.50</td>\n",
       "      <td>1494.20</td>\n",
       "      <td>1499.20</td>\n",
       "      <td>1477.90</td>\n",
       "    </tr>\n",
       "    <tr>\n",
       "      <td>1989-07-01</td>\n",
       "      <td>1641.20</td>\n",
       "      <td>1653.10</td>\n",
       "      <td>1653.10</td>\n",
       "      <td>1606.90</td>\n",
       "    </tr>\n",
       "    <tr>\n",
       "      <td>1989-10-01</td>\n",
       "      <td>1626.20</td>\n",
       "      <td>1622.90</td>\n",
       "      <td>1656.30</td>\n",
       "      <td>1614.70</td>\n",
       "    </tr>\n",
       "    <tr>\n",
       "      <td>1990-01-01</td>\n",
       "      <td>1620.80</td>\n",
       "      <td>1620.20</td>\n",
       "      <td>1621.90</td>\n",
       "      <td>1600.30</td>\n",
       "    </tr>\n",
       "    <tr>\n",
       "      <td>...</td>\n",
       "      <td>...</td>\n",
       "      <td>...</td>\n",
       "      <td>...</td>\n",
       "      <td>...</td>\n",
       "    </tr>\n",
       "    <tr>\n",
       "      <td>2018-10-01</td>\n",
       "      <td>8282.01</td>\n",
       "      <td>8195.64</td>\n",
       "      <td>8448.22</td>\n",
       "      <td>8138.56</td>\n",
       "    </tr>\n",
       "    <tr>\n",
       "      <td>2019-01-01</td>\n",
       "      <td>8391.90</td>\n",
       "      <td>8466.01</td>\n",
       "      <td>8503.07</td>\n",
       "      <td>8388.97</td>\n",
       "    </tr>\n",
       "    <tr>\n",
       "      <td>2019-04-01</td>\n",
       "      <td>9413.69</td>\n",
       "      <td>9363.18</td>\n",
       "      <td>9429.41</td>\n",
       "      <td>9319.99</td>\n",
       "    </tr>\n",
       "    <tr>\n",
       "      <td>2019-07-01</td>\n",
       "      <td>9549.93</td>\n",
       "      <td>9533.98</td>\n",
       "      <td>9650.66</td>\n",
       "      <td>9464.41</td>\n",
       "    </tr>\n",
       "    <tr>\n",
       "      <td>2019-10-01</td>\n",
       "      <td>9762.49</td>\n",
       "      <td>9757.28</td>\n",
       "      <td>9796.50</td>\n",
       "      <td>9682.36</td>\n",
       "    </tr>\n",
       "  </tbody>\n",
       "</table>\n",
       "<p>124 rows × 4 columns</p>\n",
       "</div>"
      ],
      "text/plain": [
       "               Open    Close     High      Low\n",
       "1989-01-01  1434.00  1433.60  1451.50  1427.60\n",
       "1989-04-01  1493.50  1494.20  1499.20  1477.90\n",
       "1989-07-01  1641.20  1653.10  1653.10  1606.90\n",
       "1989-10-01  1626.20  1622.90  1656.30  1614.70\n",
       "1990-01-01  1620.80  1620.20  1621.90  1600.30\n",
       "...             ...      ...      ...      ...\n",
       "2018-10-01  8282.01  8195.64  8448.22  8138.56\n",
       "2019-01-01  8391.90  8466.01  8503.07  8388.97\n",
       "2019-04-01  9413.69  9363.18  9429.41  9319.99\n",
       "2019-07-01  9549.93  9533.98  9650.66  9464.41\n",
       "2019-10-01  9762.49  9757.28  9796.50  9682.36\n",
       "\n",
       "[124 rows x 4 columns]"
      ]
     },
     "execution_count": 74,
     "metadata": {},
     "output_type": "execute_result"
    }
   ],
   "source": [
    "#Antwort\n",
    "df.resample('QS').min()"
   ]
  },
  {
   "cell_type": "markdown",
   "metadata": {},
   "source": [
    "**Quiz:** Wöchentlicher Median aller Schlusskurse im Jahr 2017 - Plot"
   ]
  },
  {
   "cell_type": "code",
   "execution_count": 76,
   "metadata": {},
   "outputs": [
    {
     "data": {
      "text/plain": [
       "<matplotlib.axes._subplots.AxesSubplot at 0x11b155490>"
      ]
     },
     "execution_count": 76,
     "metadata": {},
     "output_type": "execute_result"
    },
    {
     "data": {
      "image/png": "[encoded data removed]",
      "text/plain": [
       "<Figure size 432x288 with 1 Axes>"
      ]
     },
     "metadata": {
      "needs_background": "light"
     },
     "output_type": "display_data"
    }
   ],
   "source": [
    "# MEHRERE LINIEN PLOTTEN: {}!!!!\n",
    "df.resample('W').median()[{'Close', 'Open'}]['2017'].plot()"
   ]
  },
  {
   "cell_type": "code",
   "execution_count": null,
   "metadata": {},
   "outputs": [],
   "source": []
  },
  {
   "cell_type": "code",
   "execution_count": null,
   "metadata": {},
   "outputs": [],
   "source": []
  },
  {
   "cell_type": "markdown",
   "metadata": {},
   "source": [
    "## 4. Grouping"
   ]
  },
  {
   "cell_type": "markdown",
   "metadata": {},
   "source": [
    "Die vierte Technik, die wir kennenlernen, kennen wir eigentlich bereits: Groupby.\n",
    "\n",
    "Hier geht es um zyklische Analysen, also zB Zusammenfassungen davon, was jeweils im Januar (egal welchen Jahres) passiert ist.\n",
    "\n",
    "Was wir uns wiederum überlegen müssen, ist:\n",
    "- Welcher Zeitintervall interessiert uns\n",
    "- Welche Metrik wollen wir anwenden\n",
    "- (und auf welche Spalte wollen wir das einschränken)"
   ]
  },
  {
   "cell_type": "markdown",
   "metadata": {},
   "source": [
    "Technisch gesehen gruppieren wir die Daten eigentlich immer nach bestimmten, repetitiven Werten, die wir dem Index entnehmen:"
   ]
  },
  {
   "cell_type": "code",
   "execution_count": 77,
   "metadata": {},
   "outputs": [
    {
     "data": {
      "text/plain": [
       "Int64Index([ 1,  1,  1,  1,  1,  1,  1,  1,  1,  1,\n",
       "            ...\n",
       "             9, 10, 10, 10, 10, 10, 10, 10, 10, 10],\n",
       "           dtype='int64', length=7728)"
      ]
     },
     "execution_count": 77,
     "metadata": {},
     "output_type": "execute_result"
    }
   ],
   "source": [
    "df.index.month"
   ]
  },
  {
   "cell_type": "markdown",
   "metadata": {},
   "source": [
    "Wir gruppieren die Daten also zB nach den Zahlen 1, 2, 3, .... 12, wenn wir nach Monat gruppieren"
   ]
  },
  {
   "cell_type": "code",
   "execution_count": 78,
   "metadata": {},
   "outputs": [
    {
     "data": {
      "text/html": [
       "<div>\n",
       "<style scoped>\n",
       "    .dataframe tbody tr th:only-of-type {\n",
       "        vertical-align: middle;\n",
       "    }\n",
       "\n",
       "    .dataframe tbody tr th {\n",
       "        vertical-align: top;\n",
       "    }\n",
       "\n",
       "    .dataframe thead th {\n",
       "        text-align: right;\n",
       "    }\n",
       "</style>\n",
       "<table border=\"1\" class=\"dataframe\">\n",
       "  <thead>\n",
       "    <tr style=\"text-align: right;\">\n",
       "      <th></th>\n",
       "      <th>Open</th>\n",
       "      <th>Close</th>\n",
       "      <th>High</th>\n",
       "      <th>Low</th>\n",
       "    </tr>\n",
       "  </thead>\n",
       "  <tbody>\n",
       "    <tr>\n",
       "      <td>1</td>\n",
       "      <td>5837.536361</td>\n",
       "      <td>5834.075583</td>\n",
       "      <td>5873.204883</td>\n",
       "      <td>5795.766267</td>\n",
       "    </tr>\n",
       "    <tr>\n",
       "      <td>2</td>\n",
       "      <td>5846.193600</td>\n",
       "      <td>5845.648128</td>\n",
       "      <td>5878.911808</td>\n",
       "      <td>5818.413766</td>\n",
       "    </tr>\n",
       "    <tr>\n",
       "      <td>3</td>\n",
       "      <td>5850.941533</td>\n",
       "      <td>5852.209866</td>\n",
       "      <td>5890.581979</td>\n",
       "      <td>5821.550492</td>\n",
       "    </tr>\n",
       "    <tr>\n",
       "      <td>4</td>\n",
       "      <td>5972.040803</td>\n",
       "      <td>5974.235738</td>\n",
       "      <td>6012.398276</td>\n",
       "      <td>5937.347016</td>\n",
       "    </tr>\n",
       "    <tr>\n",
       "      <td>5</td>\n",
       "      <td>6029.115169</td>\n",
       "      <td>6028.122673</td>\n",
       "      <td>6068.485339</td>\n",
       "      <td>6000.744258</td>\n",
       "    </tr>\n",
       "    <tr>\n",
       "      <td>6</td>\n",
       "      <td>5951.408164</td>\n",
       "      <td>5950.402114</td>\n",
       "      <td>5985.801728</td>\n",
       "      <td>5915.746404</td>\n",
       "    </tr>\n",
       "    <tr>\n",
       "      <td>7</td>\n",
       "      <td>6000.552872</td>\n",
       "      <td>6000.994534</td>\n",
       "      <td>6042.048321</td>\n",
       "      <td>5976.888377</td>\n",
       "    </tr>\n",
       "    <tr>\n",
       "      <td>8</td>\n",
       "      <td>5977.230538</td>\n",
       "      <td>5975.005919</td>\n",
       "      <td>6017.155531</td>\n",
       "      <td>5940.580269</td>\n",
       "    </tr>\n",
       "    <tr>\n",
       "      <td>9</td>\n",
       "      <td>5965.958055</td>\n",
       "      <td>5963.151505</td>\n",
       "      <td>6002.440274</td>\n",
       "      <td>5924.133328</td>\n",
       "    </tr>\n",
       "    <tr>\n",
       "      <td>10</td>\n",
       "      <td>5848.840950</td>\n",
       "      <td>5850.741973</td>\n",
       "      <td>5889.300059</td>\n",
       "      <td>5806.974792</td>\n",
       "    </tr>\n",
       "    <tr>\n",
       "      <td>11</td>\n",
       "      <td>5886.228274</td>\n",
       "      <td>5887.280109</td>\n",
       "      <td>5927.985312</td>\n",
       "      <td>5851.332286</td>\n",
       "    </tr>\n",
       "    <tr>\n",
       "      <td>12</td>\n",
       "      <td>5929.044111</td>\n",
       "      <td>5929.281434</td>\n",
       "      <td>5978.309203</td>\n",
       "      <td>5910.739393</td>\n",
       "    </tr>\n",
       "  </tbody>\n",
       "</table>\n",
       "</div>"
      ],
      "text/plain": [
       "           Open        Close         High          Low\n",
       "1   5837.536361  5834.075583  5873.204883  5795.766267\n",
       "2   5846.193600  5845.648128  5878.911808  5818.413766\n",
       "3   5850.941533  5852.209866  5890.581979  5821.550492\n",
       "4   5972.040803  5974.235738  6012.398276  5937.347016\n",
       "5   6029.115169  6028.122673  6068.485339  6000.744258\n",
       "6   5951.408164  5950.402114  5985.801728  5915.746404\n",
       "7   6000.552872  6000.994534  6042.048321  5976.888377\n",
       "8   5977.230538  5975.005919  6017.155531  5940.580269\n",
       "9   5965.958055  5963.151505  6002.440274  5924.133328\n",
       "10  5848.840950  5850.741973  5889.300059  5806.974792\n",
       "11  5886.228274  5887.280109  5927.985312  5851.332286\n",
       "12  5929.044111  5929.281434  5978.309203  5910.739393"
      ]
     },
     "execution_count": 78,
     "metadata": {},
     "output_type": "execute_result"
    }
   ],
   "source": [
    "df.groupby(df.index.month).mean()"
   ]
  },
  {
   "cell_type": "markdown",
   "metadata": {},
   "source": [
    "Wir können die gruppierte Auswertung wiederum plotten, wobei wir hier keine Line- sondern Barcharts verwenden sollten!\n",
    "\n",
    "(das Ergebnis sieht jetzt nicht so spektakulär aus, aber das ändern wir später noch!)"
   ]
  },
  {
   "cell_type": "code",
   "execution_count": 79,
   "metadata": {},
   "outputs": [
    {
     "data": {
      "text/plain": [
       "<matplotlib.axes._subplots.AxesSubplot at 0x11b2a6f10>"
      ]
     },
     "execution_count": 79,
     "metadata": {},
     "output_type": "execute_result"
    },
    {
     "data": {
      "image/png": "[encoded data removed]",
      "text/plain": [
       "<Figure size 576x288 with 1 Axes>"
      ]
     },
     "metadata": {
      "needs_background": "light"
     },
     "output_type": "display_data"
    }
   ],
   "source": [
    "df.groupby(df.index.month)['Close'].mean().plot(figsize=(8,4), kind='bar')"
   ]
  },
  {
   "cell_type": "markdown",
   "metadata": {
    "collapsed": true
   },
   "source": [
    "**Beispiel:** Was war der höchste Börsenkurs, der je an einem Montag, Dienstag, ... Freitag erzielt wurde? Liste"
   ]
  },
  {
   "cell_type": "code",
   "execution_count": 80,
   "metadata": {},
   "outputs": [
    {
     "data": {
      "text/plain": [
       "0    10109.29\n",
       "1    10124.22\n",
       "2    10098.93\n",
       "3    10140.93\n",
       "4    10131.13\n",
       "Name: High, dtype: float64"
      ]
     },
     "execution_count": 80,
     "metadata": {},
     "output_type": "execute_result"
    }
   ],
   "source": [
    "df.groupby(df.index.dayofweek)['High'].max()"
   ]
  },
  {
   "cell_type": "code",
   "execution_count": 88,
   "metadata": {},
   "outputs": [
    {
     "data": {
      "text/plain": [
       "<matplotlib.axes._subplots.AxesSubplot at 0x11b5b8cd0>"
      ]
     },
     "execution_count": 88,
     "metadata": {},
     "output_type": "execute_result"
    },
    {
     "data": {
      "image/png": "[encoded data removed]",
      "text/plain": [
       "<Figure size 432x288 with 1 Axes>"
      ]
     },
     "metadata": {
      "needs_background": "light"
     },
     "output_type": "display_data"
    }
   ],
   "source": [
    "df.groupby(df.index.weekofyear)['Close'].mean().plot()  #hier nur die obersten Werte gezeigt..!! Achtung"
   ]
  },
  {
   "cell_type": "code",
   "execution_count": 87,
   "metadata": {},
   "outputs": [
    {
     "data": {
      "text/plain": [
       "<matplotlib.axes._subplots.AxesSubplot at 0x11e7fc6d0>"
      ]
     },
     "execution_count": 87,
     "metadata": {},
     "output_type": "execute_result"
    },
    {
     "data": {
      "image/png": "[encoded data removed]",
      "text/plain": [
       "<Figure size 432x288 with 1 Axes>"
      ]
     },
     "metadata": {
      "needs_background": "light"
     },
     "output_type": "display_data"
    }
   ],
   "source": [
    "df.groupby(df.index.weekofyear)['Close'].mean().plot(kind='bar')"
   ]
  },
  {
   "cell_type": "code",
   "execution_count": null,
   "metadata": {},
   "outputs": [],
   "source": []
  },
  {
   "cell_type": "markdown",
   "metadata": {},
   "source": [
    "**Quiz:** Ein Jahr hat 52 Wochen. Gibt es ein typisches Muster, wie sich die mittleren Schlusskurse entwickeln? Plot"
   ]
  },
  {
   "cell_type": "code",
   "execution_count": null,
   "metadata": {},
   "outputs": [],
   "source": []
  },
  {
   "cell_type": "code",
   "execution_count": null,
   "metadata": {},
   "outputs": [],
   "source": []
  },
  {
   "cell_type": "code",
   "execution_count": null,
   "metadata": {},
   "outputs": [],
   "source": []
  },
  {
   "cell_type": "markdown",
   "metadata": {},
   "source": [
    "## 6. Percent change"
   ]
  },
  {
   "cell_type": "markdown",
   "metadata": {
    "collapsed": true
   },
   "source": [
    "Die Fragen, die wir soeben gestellt haben, werden einiges lustiger zu beantworten, wenn wir nicht die absoluten Kurse vergleichen (zB je nach Monat), sondern die relativen Veränderungen.\n",
    "\n",
    "Dafür ist `pct_change()` da: Eine Funktion, die man auf das ganze Dataframe anwenden kann, um die täglichen, prozentualen Veränderungen auszurechen.\n",
    "\n",
    "Oder man kann `pct_change()` auch auf Daten anwenden, die man bereits resamplet hat!"
   ]
  },
  {
   "cell_type": "markdown",
   "metadata": {},
   "source": [
    "**Beispiel:** Wie verändert sich die Börse typischerweise über die Jahresmonate hinweg?\n",
    "\n",
    "Wir starten dazu mit den monatlichen Mittelwerten für den ganzen Zeitraum, die wir mittels `resample()` bereits einmal ermittelt haben:"
   ]
  },
  {
   "cell_type": "code",
   "execution_count": 108,
   "metadata": {},
   "outputs": [
    {
     "data": {
      "text/html": [
       "<div>\n",
       "<style scoped>\n",
       "    .dataframe tbody tr th:only-of-type {\n",
       "        vertical-align: middle;\n",
       "    }\n",
       "\n",
       "    .dataframe tbody tr th {\n",
       "        vertical-align: top;\n",
       "    }\n",
       "\n",
       "    .dataframe thead th {\n",
       "        text-align: right;\n",
       "    }\n",
       "</style>\n",
       "<table border=\"1\" class=\"dataframe\">\n",
       "  <thead>\n",
       "    <tr style=\"text-align: right;\">\n",
       "      <th></th>\n",
       "      <th>Open</th>\n",
       "      <th>Close</th>\n",
       "      <th>High</th>\n",
       "      <th>Low</th>\n",
       "    </tr>\n",
       "  </thead>\n",
       "  <tbody>\n",
       "    <tr>\n",
       "      <td>1989-01-01</td>\n",
       "      <td>1487.571429</td>\n",
       "      <td>1489.909524</td>\n",
       "      <td>1494.080952</td>\n",
       "      <td>1482.542857</td>\n",
       "    </tr>\n",
       "    <tr>\n",
       "      <td>1989-02-01</td>\n",
       "      <td>1481.065000</td>\n",
       "      <td>1479.310000</td>\n",
       "      <td>1485.300000</td>\n",
       "      <td>1473.055000</td>\n",
       "    </tr>\n",
       "    <tr>\n",
       "      <td>1989-03-01</td>\n",
       "      <td>1500.280952</td>\n",
       "      <td>1503.723810</td>\n",
       "      <td>1508.552381</td>\n",
       "      <td>1498.270000</td>\n",
       "    </tr>\n",
       "    <tr>\n",
       "      <td>1989-04-01</td>\n",
       "      <td>1562.710526</td>\n",
       "      <td>1563.384211</td>\n",
       "      <td>1575.244444</td>\n",
       "      <td>1554.373684</td>\n",
       "    </tr>\n",
       "    <tr>\n",
       "      <td>1989-05-01</td>\n",
       "      <td>1526.463158</td>\n",
       "      <td>1524.157895</td>\n",
       "      <td>1529.977778</td>\n",
       "      <td>1518.105556</td>\n",
       "    </tr>\n",
       "  </tbody>\n",
       "</table>\n",
       "</div>"
      ],
      "text/plain": [
       "                   Open        Close         High          Low\n",
       "1989-01-01  1487.571429  1489.909524  1494.080952  1482.542857\n",
       "1989-02-01  1481.065000  1479.310000  1485.300000  1473.055000\n",
       "1989-03-01  1500.280952  1503.723810  1508.552381  1498.270000\n",
       "1989-04-01  1562.710526  1563.384211  1575.244444  1554.373684\n",
       "1989-05-01  1526.463158  1524.157895  1529.977778  1518.105556"
      ]
     },
     "execution_count": 108,
     "metadata": {},
     "output_type": "execute_result"
    }
   ],
   "source": [
    "df.resample('MS').mean().head()"
   ]
  },
  {
   "cell_type": "markdown",
   "metadata": {},
   "source": [
    "Nun berechnen wir die monatlichen Veränderungsraten (warum ist die erste Spalte = NaN?)"
   ]
  },
  {
   "cell_type": "code",
   "execution_count": 90,
   "metadata": {},
   "outputs": [],
   "source": [
    "df_mth_chg = df.resample('MS').mean().pct_change()"
   ]
  },
  {
   "cell_type": "code",
   "execution_count": 91,
   "metadata": {},
   "outputs": [
    {
     "data": {
      "text/html": [
       "<div>\n",
       "<style scoped>\n",
       "    .dataframe tbody tr th:only-of-type {\n",
       "        vertical-align: middle;\n",
       "    }\n",
       "\n",
       "    .dataframe tbody tr th {\n",
       "        vertical-align: top;\n",
       "    }\n",
       "\n",
       "    .dataframe thead th {\n",
       "        text-align: right;\n",
       "    }\n",
       "</style>\n",
       "<table border=\"1\" class=\"dataframe\">\n",
       "  <thead>\n",
       "    <tr style=\"text-align: right;\">\n",
       "      <th></th>\n",
       "      <th>Open</th>\n",
       "      <th>Close</th>\n",
       "      <th>High</th>\n",
       "      <th>Low</th>\n",
       "    </tr>\n",
       "  </thead>\n",
       "  <tbody>\n",
       "    <tr>\n",
       "      <td>1989-01-01</td>\n",
       "      <td>NaN</td>\n",
       "      <td>NaN</td>\n",
       "      <td>NaN</td>\n",
       "      <td>NaN</td>\n",
       "    </tr>\n",
       "    <tr>\n",
       "      <td>1989-02-01</td>\n",
       "      <td>-0.004374</td>\n",
       "      <td>-0.007114</td>\n",
       "      <td>-0.005877</td>\n",
       "      <td>-0.006400</td>\n",
       "    </tr>\n",
       "    <tr>\n",
       "      <td>1989-03-01</td>\n",
       "      <td>0.012974</td>\n",
       "      <td>0.016504</td>\n",
       "      <td>0.015655</td>\n",
       "      <td>0.017117</td>\n",
       "    </tr>\n",
       "    <tr>\n",
       "      <td>1989-04-01</td>\n",
       "      <td>0.041612</td>\n",
       "      <td>0.039675</td>\n",
       "      <td>0.044209</td>\n",
       "      <td>0.037446</td>\n",
       "    </tr>\n",
       "    <tr>\n",
       "      <td>1989-05-01</td>\n",
       "      <td>-0.023195</td>\n",
       "      <td>-0.025091</td>\n",
       "      <td>-0.028736</td>\n",
       "      <td>-0.023333</td>\n",
       "    </tr>\n",
       "  </tbody>\n",
       "</table>\n",
       "</div>"
      ],
      "text/plain": [
       "                Open     Close      High       Low\n",
       "1989-01-01       NaN       NaN       NaN       NaN\n",
       "1989-02-01 -0.004374 -0.007114 -0.005877 -0.006400\n",
       "1989-03-01  0.012974  0.016504  0.015655  0.017117\n",
       "1989-04-01  0.041612  0.039675  0.044209  0.037446\n",
       "1989-05-01 -0.023195 -0.025091 -0.028736 -0.023333"
      ]
     },
     "execution_count": 91,
     "metadata": {},
     "output_type": "execute_result"
    }
   ],
   "source": [
    "df_mth_chg.head()"
   ]
  },
  {
   "cell_type": "markdown",
   "metadata": {},
   "source": [
    "Letzter Schritt: Wir gruppieren die monatlichen Veränderungsraten - nach Monaten. Und mitteln."
   ]
  },
  {
   "cell_type": "code",
   "execution_count": 106,
   "metadata": {},
   "outputs": [
    {
     "data": {
      "text/html": [
       "<div>\n",
       "<style scoped>\n",
       "    .dataframe tbody tr th:only-of-type {\n",
       "        vertical-align: middle;\n",
       "    }\n",
       "\n",
       "    .dataframe tbody tr th {\n",
       "        vertical-align: top;\n",
       "    }\n",
       "\n",
       "    .dataframe thead th {\n",
       "        text-align: right;\n",
       "    }\n",
       "</style>\n",
       "<table border=\"1\" class=\"dataframe\">\n",
       "  <thead>\n",
       "    <tr style=\"text-align: right;\">\n",
       "      <th></th>\n",
       "      <th>Open</th>\n",
       "      <th>Close</th>\n",
       "      <th>High</th>\n",
       "      <th>Low</th>\n",
       "    </tr>\n",
       "  </thead>\n",
       "  <tbody>\n",
       "    <tr>\n",
       "      <td>1</td>\n",
       "      <td>0.012584</td>\n",
       "      <td>0.011878</td>\n",
       "      <td>0.012806</td>\n",
       "      <td>0.010997</td>\n",
       "    </tr>\n",
       "    <tr>\n",
       "      <td>2</td>\n",
       "      <td>0.004526</td>\n",
       "      <td>0.004885</td>\n",
       "      <td>0.004039</td>\n",
       "      <td>0.005649</td>\n",
       "    </tr>\n",
       "    <tr>\n",
       "      <td>3</td>\n",
       "      <td>0.002229</td>\n",
       "      <td>0.002583</td>\n",
       "      <td>0.005312</td>\n",
       "      <td>0.001958</td>\n",
       "    </tr>\n",
       "    <tr>\n",
       "      <td>4</td>\n",
       "      <td>0.017146</td>\n",
       "      <td>0.017173</td>\n",
       "      <td>0.014161</td>\n",
       "      <td>0.017640</td>\n",
       "    </tr>\n",
       "    <tr>\n",
       "      <td>5</td>\n",
       "      <td>0.011739</td>\n",
       "      <td>0.011522</td>\n",
       "      <td>0.011662</td>\n",
       "      <td>0.011782</td>\n",
       "    </tr>\n",
       "    <tr>\n",
       "      <td>6</td>\n",
       "      <td>0.000725</td>\n",
       "      <td>0.000564</td>\n",
       "      <td>0.000913</td>\n",
       "      <td>0.000691</td>\n",
       "    </tr>\n",
       "    <tr>\n",
       "      <td>7</td>\n",
       "      <td>0.005609</td>\n",
       "      <td>0.005728</td>\n",
       "      <td>0.005683</td>\n",
       "      <td>0.005469</td>\n",
       "    </tr>\n",
       "    <tr>\n",
       "      <td>8</td>\n",
       "      <td>-0.001843</td>\n",
       "      <td>-0.002302</td>\n",
       "      <td>0.000072</td>\n",
       "      <td>-0.003316</td>\n",
       "    </tr>\n",
       "    <tr>\n",
       "      <td>9</td>\n",
       "      <td>-0.004981</td>\n",
       "      <td>-0.005132</td>\n",
       "      <td>-0.006620</td>\n",
       "      <td>-0.004612</td>\n",
       "    </tr>\n",
       "    <tr>\n",
       "      <td>10</td>\n",
       "      <td>-0.002533</td>\n",
       "      <td>-0.001606</td>\n",
       "      <td>-0.001695</td>\n",
       "      <td>-0.002402</td>\n",
       "    </tr>\n",
       "    <tr>\n",
       "      <td>11</td>\n",
       "      <td>0.015731</td>\n",
       "      <td>0.015556</td>\n",
       "      <td>0.014597</td>\n",
       "      <td>0.017089</td>\n",
       "    </tr>\n",
       "    <tr>\n",
       "      <td>12</td>\n",
       "      <td>0.011038</td>\n",
       "      <td>0.011041</td>\n",
       "      <td>0.010922</td>\n",
       "      <td>0.011504</td>\n",
       "    </tr>\n",
       "  </tbody>\n",
       "</table>\n",
       "</div>"
      ],
      "text/plain": [
       "        Open     Close      High       Low\n",
       "1   0.012584  0.011878  0.012806  0.010997\n",
       "2   0.004526  0.004885  0.004039  0.005649\n",
       "3   0.002229  0.002583  0.005312  0.001958\n",
       "4   0.017146  0.017173  0.014161  0.017640\n",
       "5   0.011739  0.011522  0.011662  0.011782\n",
       "6   0.000725  0.000564  0.000913  0.000691\n",
       "7   0.005609  0.005728  0.005683  0.005469\n",
       "8  -0.001843 -0.002302  0.000072 -0.003316\n",
       "9  -0.004981 -0.005132 -0.006620 -0.004612\n",
       "10 -0.002533 -0.001606 -0.001695 -0.002402\n",
       "11  0.015731  0.015556  0.014597  0.017089\n",
       "12  0.011038  0.011041  0.010922  0.011504"
      ]
     },
     "execution_count": 106,
     "metadata": {},
     "output_type": "execute_result"
    }
   ],
   "source": [
    "df_mth_chg.groupby(df_mth_chg.index.month).mean()"
   ]
  },
  {
   "cell_type": "markdown",
   "metadata": {},
   "source": [
    "Im Plot der Schlusskurse sieht das dann so aus:"
   ]
  },
  {
   "cell_type": "code",
   "execution_count": 104,
   "metadata": {},
   "outputs": [
    {
     "data": {
      "text/plain": [
       "<matplotlib.axes._subplots.AxesSubplot at 0x11f013510>"
      ]
     },
     "execution_count": 104,
     "metadata": {},
     "output_type": "execute_result"
    },
    {
     "data": {
      "image/png": "[encoded data removed]",
      "text/plain": [
       "<Figure size 576x288 with 1 Axes>"
      ]
     },
     "metadata": {
      "needs_background": "light"
     },
     "output_type": "display_data"
    }
   ],
   "source": [
    "df_mth_chg.groupby(df_mth_chg.index.month)['Close'].mean().plot(figsize=(8,4), kind='bar')"
   ]
  },
  {
   "cell_type": "markdown",
   "metadata": {},
   "source": [
    "\"Sell in May and go away\", lautet eine Börsenweisheit. Stimmt sie?"
   ]
  },
  {
   "cell_type": "code",
   "execution_count": null,
   "metadata": {},
   "outputs": [],
   "source": []
  },
  {
   "cell_type": "code",
   "execution_count": null,
   "metadata": {},
   "outputs": [],
   "source": []
  },
  {
   "cell_type": "code",
   "execution_count": null,
   "metadata": {},
   "outputs": [],
   "source": []
  },
  {
   "cell_type": "code",
   "execution_count": null,
   "metadata": {},
   "outputs": [],
   "source": []
  },
  {
   "cell_type": "markdown",
   "metadata": {},
   "source": [
    "## 6. Rolling"
   ]
  },
  {
   "cell_type": "markdown",
   "metadata": {},
   "source": [
    "Die sechste Technik, wie wir die Daten modifizieren können, ist: Rollen.\n",
    "\n",
    "Wir schauen diese Technik nicht genauer an. Es geht darum:\n",
    "- über ein bestimmtes Zeitfenster (zB 10 Tage)\n",
    "- eine bestimmte Metrik anzuwenden\n",
    "- (auf eine Spalte, falls wir wollen)\n",
    "\n",
    "Hier wäre ein Anwendungsbeispiel: der gleitende (\"rollende\") Zehn-Tages-Durchschnitt der Börsenkurse. Wir müssen jeweils angeben, wie das Zeitfenster positioniert werden soll (zentriert oder nicht).\n",
    "\n",
    "Mehr Infos: https://pandas.pydata.org/pandas-docs/stable/generated/pandas.DataFrame.rolling.html"
   ]
  },
  {
   "cell_type": "code",
   "execution_count": 109,
   "metadata": {},
   "outputs": [
    {
     "data": {
      "text/html": [
       "<div>\n",
       "<style scoped>\n",
       "    .dataframe tbody tr th:only-of-type {\n",
       "        vertical-align: middle;\n",
       "    }\n",
       "\n",
       "    .dataframe tbody tr th {\n",
       "        vertical-align: top;\n",
       "    }\n",
       "\n",
       "    .dataframe thead th {\n",
       "        text-align: right;\n",
       "    }\n",
       "</style>\n",
       "<table border=\"1\" class=\"dataframe\">\n",
       "  <thead>\n",
       "    <tr style=\"text-align: right;\">\n",
       "      <th></th>\n",
       "      <th>Open</th>\n",
       "      <th>Close</th>\n",
       "      <th>High</th>\n",
       "      <th>Low</th>\n",
       "    </tr>\n",
       "  </thead>\n",
       "  <tbody>\n",
       "    <tr>\n",
       "      <td>1989-01-03</td>\n",
       "      <td>NaN</td>\n",
       "      <td>NaN</td>\n",
       "      <td>NaN</td>\n",
       "      <td>NaN</td>\n",
       "    </tr>\n",
       "    <tr>\n",
       "      <td>1989-01-04</td>\n",
       "      <td>NaN</td>\n",
       "      <td>NaN</td>\n",
       "      <td>NaN</td>\n",
       "      <td>NaN</td>\n",
       "    </tr>\n",
       "    <tr>\n",
       "      <td>1989-01-05</td>\n",
       "      <td>NaN</td>\n",
       "      <td>NaN</td>\n",
       "      <td>NaN</td>\n",
       "      <td>NaN</td>\n",
       "    </tr>\n",
       "    <tr>\n",
       "      <td>1989-01-06</td>\n",
       "      <td>NaN</td>\n",
       "      <td>NaN</td>\n",
       "      <td>NaN</td>\n",
       "      <td>NaN</td>\n",
       "    </tr>\n",
       "    <tr>\n",
       "      <td>1989-01-09</td>\n",
       "      <td>NaN</td>\n",
       "      <td>NaN</td>\n",
       "      <td>NaN</td>\n",
       "      <td>NaN</td>\n",
       "    </tr>\n",
       "    <tr>\n",
       "      <td>1989-01-10</td>\n",
       "      <td>1482.96</td>\n",
       "      <td>1489.60</td>\n",
       "      <td>1492.46</td>\n",
       "      <td>1480.44</td>\n",
       "    </tr>\n",
       "    <tr>\n",
       "      <td>1989-01-11</td>\n",
       "      <td>1489.88</td>\n",
       "      <td>1491.63</td>\n",
       "      <td>1496.37</td>\n",
       "      <td>1485.08</td>\n",
       "    </tr>\n",
       "    <tr>\n",
       "      <td>1989-01-12</td>\n",
       "      <td>1491.98</td>\n",
       "      <td>1493.08</td>\n",
       "      <td>1497.91</td>\n",
       "      <td>1486.29</td>\n",
       "    </tr>\n",
       "    <tr>\n",
       "      <td>1989-01-13</td>\n",
       "      <td>1493.14</td>\n",
       "      <td>1492.38</td>\n",
       "      <td>1498.07</td>\n",
       "      <td>1486.83</td>\n",
       "    </tr>\n",
       "    <tr>\n",
       "      <td>1989-01-16</td>\n",
       "      <td>1492.47</td>\n",
       "      <td>1491.30</td>\n",
       "      <td>1497.03</td>\n",
       "      <td>1485.69</td>\n",
       "    </tr>\n",
       "    <tr>\n",
       "      <td>1989-01-17</td>\n",
       "      <td>1491.36</td>\n",
       "      <td>1490.15</td>\n",
       "      <td>1495.08</td>\n",
       "      <td>1484.30</td>\n",
       "    </tr>\n",
       "    <tr>\n",
       "      <td>1989-01-18</td>\n",
       "      <td>1490.27</td>\n",
       "      <td>1489.94</td>\n",
       "      <td>1494.73</td>\n",
       "      <td>1483.95</td>\n",
       "    </tr>\n",
       "    <tr>\n",
       "      <td>1989-01-19</td>\n",
       "      <td>1490.16</td>\n",
       "      <td>1491.31</td>\n",
       "      <td>1496.31</td>\n",
       "      <td>1484.49</td>\n",
       "    </tr>\n",
       "    <tr>\n",
       "      <td>1989-01-20</td>\n",
       "      <td>1491.50</td>\n",
       "      <td>1491.39</td>\n",
       "      <td>1496.57</td>\n",
       "      <td>1485.36</td>\n",
       "    </tr>\n",
       "    <tr>\n",
       "      <td>1989-01-23</td>\n",
       "      <td>1491.49</td>\n",
       "      <td>1490.86</td>\n",
       "      <td>1495.69</td>\n",
       "      <td>1485.12</td>\n",
       "    </tr>\n",
       "    <tr>\n",
       "      <td>1989-01-24</td>\n",
       "      <td>1491.14</td>\n",
       "      <td>1490.16</td>\n",
       "      <td>1495.25</td>\n",
       "      <td>1484.41</td>\n",
       "    </tr>\n",
       "    <tr>\n",
       "      <td>1989-01-25</td>\n",
       "      <td>1490.44</td>\n",
       "      <td>1490.56</td>\n",
       "      <td>1494.58</td>\n",
       "      <td>1484.68</td>\n",
       "    </tr>\n",
       "    <tr>\n",
       "      <td>1989-01-26</td>\n",
       "      <td>1490.77</td>\n",
       "      <td>1490.22</td>\n",
       "      <td>1495.06</td>\n",
       "      <td>1484.82</td>\n",
       "    </tr>\n",
       "    <tr>\n",
       "      <td>1989-01-27</td>\n",
       "      <td>1490.40</td>\n",
       "      <td>1489.52</td>\n",
       "      <td>1494.25</td>\n",
       "      <td>1483.55</td>\n",
       "    </tr>\n",
       "    <tr>\n",
       "      <td>1989-01-30</td>\n",
       "      <td>1489.71</td>\n",
       "      <td>1489.83</td>\n",
       "      <td>1494.08</td>\n",
       "      <td>1483.37</td>\n",
       "    </tr>\n",
       "  </tbody>\n",
       "</table>\n",
       "</div>"
      ],
      "text/plain": [
       "               Open    Close     High      Low\n",
       "1989-01-03      NaN      NaN      NaN      NaN\n",
       "1989-01-04      NaN      NaN      NaN      NaN\n",
       "1989-01-05      NaN      NaN      NaN      NaN\n",
       "1989-01-06      NaN      NaN      NaN      NaN\n",
       "1989-01-09      NaN      NaN      NaN      NaN\n",
       "1989-01-10  1482.96  1489.60  1492.46  1480.44\n",
       "1989-01-11  1489.88  1491.63  1496.37  1485.08\n",
       "1989-01-12  1491.98  1493.08  1497.91  1486.29\n",
       "1989-01-13  1493.14  1492.38  1498.07  1486.83\n",
       "1989-01-16  1492.47  1491.30  1497.03  1485.69\n",
       "1989-01-17  1491.36  1490.15  1495.08  1484.30\n",
       "1989-01-18  1490.27  1489.94  1494.73  1483.95\n",
       "1989-01-19  1490.16  1491.31  1496.31  1484.49\n",
       "1989-01-20  1491.50  1491.39  1496.57  1485.36\n",
       "1989-01-23  1491.49  1490.86  1495.69  1485.12\n",
       "1989-01-24  1491.14  1490.16  1495.25  1484.41\n",
       "1989-01-25  1490.44  1490.56  1494.58  1484.68\n",
       "1989-01-26  1490.77  1490.22  1495.06  1484.82\n",
       "1989-01-27  1490.40  1489.52  1494.25  1483.55\n",
       "1989-01-30  1489.71  1489.83  1494.08  1483.37"
      ]
     },
     "execution_count": 109,
     "metadata": {},
     "output_type": "execute_result"
    }
   ],
   "source": [
    "df.rolling(10, center=True).mean().head(20)"
   ]
  },
  {
   "cell_type": "code",
   "execution_count": null,
   "metadata": {},
   "outputs": [],
   "source": []
  },
  {
   "cell_type": "code",
   "execution_count": null,
   "metadata": {},
   "outputs": [],
   "source": []
  },
  {
   "cell_type": "markdown",
   "metadata": {},
   "source": [
    "# Plotting Level 3"
   ]
  },
  {
   "cell_type": "markdown",
   "metadata": {
    "collapsed": true
   },
   "source": [
    "Hier lernen wir:\n",
    "- Einen Befehl, der ein paar Codezeilen spart: `agg()`\n",
    "- Erstmals eine Funktion aus Matplotlib direkt anzusteuern: `fill_between()`"
   ]
  },
  {
   "cell_type": "markdown",
   "metadata": {},
   "source": [
    "**Aggregate**"
   ]
  },
  {
   "cell_type": "markdown",
   "metadata": {
    "collapsed": true
   },
   "source": [
    "Wir haben bereits kennengelernt, wie wir mehrere Linien auf einen Plot zeichnen können.\n",
    "\n",
    "In diesem Fall geht das eigentlich ganz einfach: Wir schreiben einfach alle `plot()`-Befehle in die Zelle.\n",
    "\n",
    "Zum Beispiel: Die monatlichen Maximal-, Minimal- und Durchschnittskurse (seit 2014)."
   ]
  },
  {
   "cell_type": "code",
   "execution_count": 110,
   "metadata": {},
   "outputs": [
    {
     "data": {
      "text/plain": [
       "<matplotlib.axes._subplots.AxesSubplot at 0x11f0a2ed0>"
      ]
     },
     "execution_count": 110,
     "metadata": {},
     "output_type": "execute_result"
    },
    {
     "data": {
      "image/png": "[encoded data removed]",
      "text/plain": [
       "<Figure size 576x288 with 1 Axes>"
      ]
     },
     "metadata": {
      "needs_background": "light"
     },
     "output_type": "display_data"
    }
   ],
   "source": [
    "df['2014':].resample('MS').min()['Close'].plot(figsize=(8,4))\n",
    "df['2014':].resample('MS').max()['Close'].plot()\n",
    "df['2014':].resample('MS').mean()['Close'].plot()"
   ]
  },
  {
   "cell_type": "markdown",
   "metadata": {},
   "source": [
    "Wir können die drei Metriken `min()`, `max()` und `mean()` aber auch in einen Befehl packen:"
   ]
  },
  {
   "cell_type": "code",
   "execution_count": 112,
   "metadata": {},
   "outputs": [
    {
     "data": {
      "text/plain": [
       "<matplotlib.axes._subplots.AxesSubplot at 0x11f2c9150>"
      ]
     },
     "execution_count": 112,
     "metadata": {},
     "output_type": "execute_result"
    },
    {
     "data": {
      "image/png": "[encoded data removed]",
      "text/plain": [
       "<Figure size 576x288 with 1 Axes>"
      ]
     },
     "metadata": {
      "needs_background": "light"
     },
     "output_type": "display_data"
    }
   ],
   "source": [
    "df['2014':].resample('MS').agg(['min', 'max', 'mean'])['Open'].plot(figsize=(8,4))"
   ]
  },
  {
   "cell_type": "markdown",
   "metadata": {},
   "source": [
    "Ohne Plot sehen wir, was dahinter steht:"
   ]
  },
  {
   "cell_type": "code",
   "execution_count": 113,
   "metadata": {},
   "outputs": [
    {
     "data": {
      "text/html": [
       "<div>\n",
       "<style scoped>\n",
       "    .dataframe tbody tr th:only-of-type {\n",
       "        vertical-align: middle;\n",
       "    }\n",
       "\n",
       "    .dataframe tbody tr th {\n",
       "        vertical-align: top;\n",
       "    }\n",
       "\n",
       "    .dataframe thead th {\n",
       "        text-align: right;\n",
       "    }\n",
       "</style>\n",
       "<table border=\"1\" class=\"dataframe\">\n",
       "  <thead>\n",
       "    <tr style=\"text-align: right;\">\n",
       "      <th></th>\n",
       "      <th>min</th>\n",
       "      <th>max</th>\n",
       "      <th>mean</th>\n",
       "    </tr>\n",
       "  </thead>\n",
       "  <tbody>\n",
       "    <tr>\n",
       "      <td>2014-01-01</td>\n",
       "      <td>8132.16</td>\n",
       "      <td>8486.37</td>\n",
       "      <td>8329.420476</td>\n",
       "    </tr>\n",
       "    <tr>\n",
       "      <td>2014-02-01</td>\n",
       "      <td>8092.53</td>\n",
       "      <td>8532.99</td>\n",
       "      <td>8363.602500</td>\n",
       "    </tr>\n",
       "    <tr>\n",
       "      <td>2014-03-01</td>\n",
       "      <td>8114.02</td>\n",
       "      <td>8484.21</td>\n",
       "      <td>8312.969048</td>\n",
       "    </tr>\n",
       "    <tr>\n",
       "      <td>2014-04-01</td>\n",
       "      <td>8280.53</td>\n",
       "      <td>8521.63</td>\n",
       "      <td>8411.250000</td>\n",
       "    </tr>\n",
       "    <tr>\n",
       "      <td>2014-05-01</td>\n",
       "      <td>8395.77</td>\n",
       "      <td>8712.35</td>\n",
       "      <td>8590.655500</td>\n",
       "    </tr>\n",
       "  </tbody>\n",
       "</table>\n",
       "</div>"
      ],
      "text/plain": [
       "                min      max         mean\n",
       "2014-01-01  8132.16  8486.37  8329.420476\n",
       "2014-02-01  8092.53  8532.99  8363.602500\n",
       "2014-03-01  8114.02  8484.21  8312.969048\n",
       "2014-04-01  8280.53  8521.63  8411.250000\n",
       "2014-05-01  8395.77  8712.35  8590.655500"
      ]
     },
     "execution_count": 113,
     "metadata": {},
     "output_type": "execute_result"
    }
   ],
   "source": [
    "df['2014':].resample('MS').agg(['min', 'max', 'mean'])['Close'].head()"
   ]
  },
  {
   "cell_type": "markdown",
   "metadata": {},
   "source": [
    "**Fill Between**"
   ]
  },
  {
   "cell_type": "markdown",
   "metadata": {},
   "source": [
    "Bislang haben wir Plots stets mit der `plot()`-Funktion erstellt. Diese Funktion ist von verschiedenen Pandas-Objekttypen wie Series oder Dataframes her aufrufbar.\n",
    "\n",
    "Die Matplotlib-Bibliothek bietet aber auch von sich aus Plotting-Funktionen an. Sie gehen zT weiter und erlauben uns mehr Möglichkeiten, Plots zu gestalten.\n",
    "\n",
    "Um sie zu benutzen, müssen wir sie aber importieren. Konvention: als `plt`"
   ]
  },
  {
   "cell_type": "code",
   "execution_count": 114,
   "metadata": {},
   "outputs": [],
   "source": [
    "#Brauchen wir zum plotten\n",
    "import matplotlib.pyplot as plt"
   ]
  },
  {
   "cell_type": "markdown",
   "metadata": {},
   "source": [
    "Eine Funktion, die wir aufrufen können, heisst: `fill_between()`. Sie benötigt drei Inputs:\n",
    "- Eine Liste von x-Werten\n",
    "- Eine Liste von y-Maximalwerten\n",
    "- Eine Liste von y-Minimalwerten"
   ]
  },
  {
   "cell_type": "markdown",
   "metadata": {},
   "source": [
    "Wir stellen diese Werte mal zusammen: Es sind dieselben wie bereits in der vorherigen Grafik."
   ]
  },
  {
   "cell_type": "code",
   "execution_count": 115,
   "metadata": {},
   "outputs": [],
   "source": [
    "x_values = df['2014':].resample('MS')['Close'].mean().index\n",
    "y_mins = df['2014':].resample('MS')['Close'].min()\n",
    "y_maxes = df['2014':].resample('MS')['Close'].max()"
   ]
  },
  {
   "cell_type": "code",
   "execution_count": 116,
   "metadata": {},
   "outputs": [
    {
     "data": {
      "text/plain": [
       "2014-01-01    8132.16\n",
       "2014-02-01    8092.53\n",
       "2014-03-01    8114.02\n",
       "2014-04-01    8280.53\n",
       "2014-05-01    8395.77\n",
       "               ...   \n",
       "2019-06-01    9597.71\n",
       "2019-07-01    9762.98\n",
       "2019-08-01    9533.98\n",
       "2019-09-01    9852.70\n",
       "2019-10-01    9757.28\n",
       "Freq: MS, Name: Close, Length: 70, dtype: float64"
      ]
     },
     "execution_count": 116,
     "metadata": {},
     "output_type": "execute_result"
    }
   ],
   "source": [
    "y_mins"
   ]
  },
  {
   "cell_type": "markdown",
   "metadata": {},
   "source": [
    "Dann füllen wir die Werte in die Funktion ein:"
   ]
  },
  {
   "cell_type": "code",
   "execution_count": null,
   "metadata": {},
   "outputs": [],
   "source": [
    "plt.fill_between(x_values, y_mins, y_maxes, alpha=0.5)"
   ]
  },
  {
   "cell_type": "markdown",
   "metadata": {},
   "source": [
    "Wenn wir möchten, können wir zusätzlich noch die mittleren Werte dazuzeichnen:"
   ]
  },
  {
   "cell_type": "code",
   "execution_count": 117,
   "metadata": {},
   "outputs": [
    {
     "data": {
      "text/plain": [
       "<matplotlib.collections.PolyCollection at 0x11f4eda90>"
      ]
     },
     "execution_count": 117,
     "metadata": {},
     "output_type": "execute_result"
    },
    {
     "data": {
      "image/png": "[encoded data removed]",
      "text/plain": [
       "<Figure size 576x288 with 1 Axes>"
      ]
     },
     "metadata": {
      "needs_background": "light"
     },
     "output_type": "display_data"
    }
   ],
   "source": [
    "df['2014':].resample('MS').mean()['Close'].plot(figsize=(8,4))\n",
    "plt.fill_between(x_values, y_mins, y_maxes, alpha=0.5)"
   ]
  },
  {
   "cell_type": "code",
   "execution_count": null,
   "metadata": {},
   "outputs": [],
   "source": []
  },
  {
   "cell_type": "markdown",
   "metadata": {},
   "source": [
    "# Übung"
   ]
  },
  {
   "cell_type": "markdown",
   "metadata": {},
   "source": [
    "Wir waren bisher fast immer an den täglichen Schlusskursen interessiert. Nun schauen wir uns mal die täglichen Schwankungen an.\n",
    "\n",
    "Wir bilden eine neue Spalte: Range = Differenz zwischen Tageshoch und -tief, in Prozent, gemessen am Schlusskurs."
   ]
  },
  {
   "cell_type": "code",
   "execution_count": null,
   "metadata": {},
   "outputs": [],
   "source": []
  },
  {
   "cell_type": "code",
   "execution_count": null,
   "metadata": {},
   "outputs": [],
   "source": [
    "df.head(5)"
   ]
  },
  {
   "cell_type": "code",
   "execution_count": null,
   "metadata": {},
   "outputs": [],
   "source": []
  },
  {
   "cell_type": "markdown",
   "metadata": {},
   "source": [
    "### Beginner"
   ]
  },
  {
   "cell_type": "markdown",
   "metadata": {},
   "source": [
    "Ein paar Fragen zum Aufwärmen.\n",
    "\n",
    "Erstellen Sie einen einfachen Plot mit den täglichen Schwankungswerten, für den gesamten Zeitraum."
   ]
  },
  {
   "cell_type": "code",
   "execution_count": 122,
   "metadata": {},
   "outputs": [
    {
     "data": {
      "text/plain": [
       "<matplotlib.axes._subplots.AxesSubplot at 0x120133090>"
      ]
     },
     "execution_count": 122,
     "metadata": {},
     "output_type": "execute_result"
    },
    {
     "data": {
      "image/png": "[encoded data removed]",
      "text/plain": [
       "<Figure size 432x288 with 1 Axes>"
      ]
     },
     "metadata": {
      "needs_background": "light"
     },
     "output_type": "display_data"
    }
   ],
   "source": [
    "df['Range'] = (df['High'] - df['Low']) / df['Close'] * 100\n",
    "df['Range'].plot()"
   ]
  },
  {
   "cell_type": "markdown",
   "metadata": {},
   "source": [
    "Sieht das in Ordnung aus? Wählen Sie einen besseren Zeitraum, zB ab 1994:"
   ]
  },
  {
   "cell_type": "code",
   "execution_count": 123,
   "metadata": {},
   "outputs": [
    {
     "data": {
      "text/plain": [
       "<matplotlib.axes._subplots.AxesSubplot at 0x120491810>"
      ]
     },
     "execution_count": 123,
     "metadata": {},
     "output_type": "execute_result"
    },
    {
     "data": {
      "image/png": "[encoded data removed]",
      "text/plain": [
       "<Figure size 432x288 with 1 Axes>"
      ]
     },
     "metadata": {
      "needs_background": "light"
     },
     "output_type": "display_data"
    }
   ],
   "source": [
    "df['Range']['1994':].plot()"
   ]
  },
  {
   "cell_type": "markdown",
   "metadata": {},
   "source": [
    "Was sehen Sie auf dem Bild? Gab es Phasen, in denen die Schwankungen grösser waren?"
   ]
  },
  {
   "cell_type": "code",
   "execution_count": null,
   "metadata": {},
   "outputs": [],
   "source": [
    "# Antwort als Text\n",
    "# "
   ]
  },
  {
   "cell_type": "markdown",
   "metadata": {},
   "source": [
    "Stellen Sie denselben Chart dar, aber mit Schwankungen im Wochenmittel."
   ]
  },
  {
   "cell_type": "code",
   "execution_count": 126,
   "metadata": {},
   "outputs": [
    {
     "data": {
      "text/plain": [
       "<matplotlib.axes._subplots.AxesSubplot at 0x120623050>"
      ]
     },
     "execution_count": 126,
     "metadata": {},
     "output_type": "execute_result"
    },
    {
     "data": {
      "image/png": "[encoded data removed]",
      "text/plain": [
       "<Figure size 432x288 with 1 Axes>"
      ]
     },
     "metadata": {
      "needs_background": "light"
     },
     "output_type": "display_data"
    }
   ],
   "source": [
    "df['Range']['1994':].resample('W').mean().head().plot()"
   ]
  },
  {
   "cell_type": "markdown",
   "metadata": {},
   "source": [
    "... und im Monatsmittel ..."
   ]
  },
  {
   "cell_type": "code",
   "execution_count": 127,
   "metadata": {},
   "outputs": [
    {
     "data": {
      "text/plain": [
       "<matplotlib.axes._subplots.AxesSubplot at 0x1206f2510>"
      ]
     },
     "execution_count": 127,
     "metadata": {},
     "output_type": "execute_result"
    },
    {
     "data": {
      "image/png": "[encoded data removed]",
      "text/plain": [
       "<Figure size 432x288 with 1 Axes>"
      ]
     },
     "metadata": {
      "needs_background": "light"
     },
     "output_type": "display_data"
    }
   ],
   "source": [
    "df['Range']['1994':].resample('MS').mean().head().plot()"
   ]
  },
  {
   "cell_type": "markdown",
   "metadata": {},
   "source": [
    "... und im Quartalssmittel."
   ]
  },
  {
   "cell_type": "code",
   "execution_count": 128,
   "metadata": {},
   "outputs": [
    {
     "data": {
      "text/plain": [
       "<matplotlib.axes._subplots.AxesSubplot at 0x120b5d250>"
      ]
     },
     "execution_count": 128,
     "metadata": {},
     "output_type": "execute_result"
    },
    {
     "data": {
      "image/png": "[encoded data removed]",
      "text/plain": [
       "<Figure size 432x288 with 1 Axes>"
      ]
     },
     "metadata": {
      "needs_background": "light"
     },
     "output_type": "display_data"
    }
   ],
   "source": [
    "df['Range']['1994':].resample('Q').mean().head().plot()"
   ]
  },
  {
   "cell_type": "markdown",
   "metadata": {},
   "source": [
    "Welcher der vorherigen Charts sagt am meisten aus? Warum?"
   ]
  },
  {
   "cell_type": "code",
   "execution_count": null,
   "metadata": {},
   "outputs": [],
   "source": [
    "# Antwort in Worten\n",
    "# "
   ]
  },
  {
   "cell_type": "markdown",
   "metadata": {},
   "source": [
    "Plotten Sie die Tagesschwankung an allen Freitagen (immer noch ab 1994)."
   ]
  },
  {
   "cell_type": "code",
   "execution_count": 143,
   "metadata": {},
   "outputs": [
    {
     "data": {
      "text/plain": [
       "1.2828726655567384"
      ]
     },
     "execution_count": 143,
     "metadata": {},
     "output_type": "execute_result"
    }
   ],
   "source": [
    "df[df.index.dayofweek == 4]['1994':]['Range'].mean()"
   ]
  },
  {
   "cell_type": "code",
   "execution_count": 146,
   "metadata": {
    "scrolled": true
   },
   "outputs": [
    {
     "ename": "IndexError",
     "evalue": "Item wrong length 7728 instead of 6479.",
     "output_type": "error",
     "traceback": [
      "\u001b[0;31m---------------------------------------------------------------------------\u001b[0m",
      "\u001b[0;31mIndexError\u001b[0m                                Traceback (most recent call last)",
      "\u001b[0;32m<ipython-input-146-c22bcf110d55>\u001b[0m in \u001b[0;36m<module>\u001b[0;34m\u001b[0m\n\u001b[0;32m----> 1\u001b[0;31m \u001b[0mdf\u001b[0m\u001b[0;34m[\u001b[0m\u001b[0;34m'Range'\u001b[0m\u001b[0;34m]\u001b[0m\u001b[0;34m[\u001b[0m\u001b[0;34m'1994'\u001b[0m\u001b[0;34m:\u001b[0m\u001b[0;34m]\u001b[0m\u001b[0;34m[\u001b[0m\u001b[0mdf\u001b[0m\u001b[0;34m.\u001b[0m\u001b[0mindex\u001b[0m\u001b[0;34m.\u001b[0m\u001b[0mweekday\u001b[0m \u001b[0;34m==\u001b[0m \u001b[0;36m4\u001b[0m\u001b[0;34m]\u001b[0m\u001b[0;34m.\u001b[0m\u001b[0mmean\u001b[0m\u001b[0;34m(\u001b[0m\u001b[0;34m)\u001b[0m\u001b[0;34m.\u001b[0m\u001b[0mhead\u001b[0m\u001b[0;34m(\u001b[0m\u001b[0;34m)\u001b[0m\u001b[0;34m.\u001b[0m\u001b[0mplot\u001b[0m\u001b[0;34m(\u001b[0m\u001b[0;34m)\u001b[0m\u001b[0;34m\u001b[0m\u001b[0;34m\u001b[0m\u001b[0m\n\u001b[0m",
      "\u001b[0;32m~/.virtualenvs/erstesVE/lib/python3.7/site-packages/pandas/core/series.py\u001b[0m in \u001b[0;36m__getitem__\u001b[0;34m(self, key)\u001b[0m\n\u001b[1;32m   1106\u001b[0m \u001b[0;34m\u001b[0m\u001b[0m\n\u001b[1;32m   1107\u001b[0m         \u001b[0;32mif\u001b[0m \u001b[0mcom\u001b[0m\u001b[0;34m.\u001b[0m\u001b[0mis_bool_indexer\u001b[0m\u001b[0;34m(\u001b[0m\u001b[0mkey\u001b[0m\u001b[0;34m)\u001b[0m\u001b[0;34m:\u001b[0m\u001b[0;34m\u001b[0m\u001b[0;34m\u001b[0m\u001b[0m\n\u001b[0;32m-> 1108\u001b[0;31m             \u001b[0mkey\u001b[0m \u001b[0;34m=\u001b[0m \u001b[0mcheck_bool_indexer\u001b[0m\u001b[0;34m(\u001b[0m\u001b[0mself\u001b[0m\u001b[0;34m.\u001b[0m\u001b[0mindex\u001b[0m\u001b[0;34m,\u001b[0m \u001b[0mkey\u001b[0m\u001b[0;34m)\u001b[0m\u001b[0;34m\u001b[0m\u001b[0;34m\u001b[0m\u001b[0m\n\u001b[0m\u001b[1;32m   1109\u001b[0m \u001b[0;34m\u001b[0m\u001b[0m\n\u001b[1;32m   1110\u001b[0m         \u001b[0;32mreturn\u001b[0m \u001b[0mself\u001b[0m\u001b[0;34m.\u001b[0m\u001b[0m_get_with\u001b[0m\u001b[0;34m(\u001b[0m\u001b[0mkey\u001b[0m\u001b[0;34m)\u001b[0m\u001b[0;34m\u001b[0m\u001b[0;34m\u001b[0m\u001b[0m\n",
      "\u001b[0;32m~/.virtualenvs/erstesVE/lib/python3.7/site-packages/pandas/core/indexing.py\u001b[0m in \u001b[0;36mcheck_bool_indexer\u001b[0;34m(index, key)\u001b[0m\n\u001b[1;32m   2422\u001b[0m         \u001b[0;32mif\u001b[0m \u001b[0mlen\u001b[0m\u001b[0;34m(\u001b[0m\u001b[0mresult\u001b[0m\u001b[0;34m)\u001b[0m \u001b[0;34m!=\u001b[0m \u001b[0mlen\u001b[0m\u001b[0;34m(\u001b[0m\u001b[0mindex\u001b[0m\u001b[0;34m)\u001b[0m\u001b[0;34m:\u001b[0m\u001b[0;34m\u001b[0m\u001b[0;34m\u001b[0m\u001b[0m\n\u001b[1;32m   2423\u001b[0m             raise IndexError(\n\u001b[0;32m-> 2424\u001b[0;31m                 \u001b[0;34m\"Item wrong length {} instead of {}.\"\u001b[0m\u001b[0;34m.\u001b[0m\u001b[0mformat\u001b[0m\u001b[0;34m(\u001b[0m\u001b[0mlen\u001b[0m\u001b[0;34m(\u001b[0m\u001b[0mresult\u001b[0m\u001b[0;34m)\u001b[0m\u001b[0;34m,\u001b[0m \u001b[0mlen\u001b[0m\u001b[0;34m(\u001b[0m\u001b[0mindex\u001b[0m\u001b[0;34m)\u001b[0m\u001b[0;34m)\u001b[0m\u001b[0;34m\u001b[0m\u001b[0;34m\u001b[0m\u001b[0m\n\u001b[0m\u001b[1;32m   2425\u001b[0m             )\n\u001b[1;32m   2426\u001b[0m \u001b[0;34m\u001b[0m\u001b[0m\n",
      "\u001b[0;31mIndexError\u001b[0m: Item wrong length 7728 instead of 6479."
     ]
    }
   ],
   "source": [
    "df['Range']['1994':][df.index.weekday == 4].mean().head().plot()\n"
   ]
  },
  {
   "cell_type": "markdown",
   "metadata": {},
   "source": [
    "Vergleichen Sie diesen Chart mit dem Chart der Wochen-Durchschnittswerte. Welchen würden Sie verwenden? Warum?"
   ]
  },
  {
   "cell_type": "code",
   "execution_count": null,
   "metadata": {},
   "outputs": [],
   "source": [
    "# Antwort in Worten\n",
    "# "
   ]
  },
  {
   "cell_type": "markdown",
   "metadata": {},
   "source": [
    "### Advanced"
   ]
  },
  {
   "cell_type": "markdown",
   "metadata": {},
   "source": [
    "Unterscheiden sich die Schwankungen je nach Monat? Plot, Daten ab 1994."
   ]
  },
  {
   "cell_type": "code",
   "execution_count": 147,
   "metadata": {},
   "outputs": [
    {
     "data": {
      "text/plain": [
       "<matplotlib.axes._subplots.AxesSubplot at 0x120f85210>"
      ]
     },
     "execution_count": 147,
     "metadata": {},
     "output_type": "execute_result"
    },
    {
     "data": {
      "image/png": "[encoded data removed]",
      "text/plain": [
       "<Figure size 432x288 with 1 Axes>"
      ]
     },
     "metadata": {
      "needs_background": "light"
     },
     "output_type": "display_data"
    }
   ],
   "source": [
    "df['Range'] = (df['High'] - df['Low']) / df['Close'] * 100"
   ]
  },
  {
   "cell_type": "code",
   "execution_count": null,
   "metadata": {},
   "outputs": [],
   "source": [
    "# Antwort in Worten\n",
    "# "
   ]
  },
  {
   "cell_type": "markdown",
   "metadata": {},
   "source": [
    "Steht die Höhe der Schwankungen in Zusammenhang mit dem Kursstand? Scatterplot, mit sehr kleinen Punkten."
   ]
  },
  {
   "cell_type": "code",
   "execution_count": 152,
   "metadata": {},
   "outputs": [
    {
     "ename": "AttributeError",
     "evalue": "'Series' object has no attribute 'plt'",
     "output_type": "error",
     "traceback": [
      "\u001b[0;31m---------------------------------------------------------------------------\u001b[0m",
      "\u001b[0;31mAttributeError\u001b[0m                            Traceback (most recent call last)",
      "\u001b[0;32m<ipython-input-152-cccb55343f7c>\u001b[0m in \u001b[0;36m<module>\u001b[0;34m\u001b[0m\n\u001b[0;32m----> 1\u001b[0;31m \u001b[0mdf\u001b[0m\u001b[0;34m[\u001b[0m\u001b[0;34m'Range'\u001b[0m\u001b[0;34m]\u001b[0m\u001b[0;34m[\u001b[0m\u001b[0;34m'1994'\u001b[0m\u001b[0;34m:\u001b[0m\u001b[0;34m]\u001b[0m\u001b[0;34m.\u001b[0m\u001b[0mplt\u001b[0m\u001b[0;34m.\u001b[0m\u001b[0mscatter\u001b[0m\u001b[0;34m(\u001b[0m\u001b[0mx\u001b[0m\u001b[0;34m,\u001b[0m \u001b[0my\u001b[0m\u001b[0;34m,\u001b[0m \u001b[0ms\u001b[0m\u001b[0;34m=\u001b[0m\u001b[0marea\u001b[0m\u001b[0;34m,\u001b[0m \u001b[0mc\u001b[0m\u001b[0;34m=\u001b[0m\u001b[0mcolors\u001b[0m\u001b[0;34m,\u001b[0m \u001b[0malpha\u001b[0m\u001b[0;34m=\u001b[0m\u001b[0;36m0.5\u001b[0m\u001b[0;34m)\u001b[0m\u001b[0;34m\u001b[0m\u001b[0;34m\u001b[0m\u001b[0m\n\u001b[0m\u001b[1;32m      2\u001b[0m \u001b[0;34m\u001b[0m\u001b[0m\n\u001b[1;32m      3\u001b[0m \u001b[0;34m\u001b[0m\u001b[0m\n",
      "\u001b[0;32m~/.virtualenvs/erstesVE/lib/python3.7/site-packages/pandas/core/generic.py\u001b[0m in \u001b[0;36m__getattr__\u001b[0;34m(self, name)\u001b[0m\n\u001b[1;32m   5177\u001b[0m             \u001b[0;32mif\u001b[0m \u001b[0mself\u001b[0m\u001b[0;34m.\u001b[0m\u001b[0m_info_axis\u001b[0m\u001b[0;34m.\u001b[0m\u001b[0m_can_hold_identifiers_and_holds_name\u001b[0m\u001b[0;34m(\u001b[0m\u001b[0mname\u001b[0m\u001b[0;34m)\u001b[0m\u001b[0;34m:\u001b[0m\u001b[0;34m\u001b[0m\u001b[0;34m\u001b[0m\u001b[0m\n\u001b[1;32m   5178\u001b[0m                 \u001b[0;32mreturn\u001b[0m \u001b[0mself\u001b[0m\u001b[0;34m[\u001b[0m\u001b[0mname\u001b[0m\u001b[0;34m]\u001b[0m\u001b[0;34m\u001b[0m\u001b[0;34m\u001b[0m\u001b[0m\n\u001b[0;32m-> 5179\u001b[0;31m             \u001b[0;32mreturn\u001b[0m \u001b[0mobject\u001b[0m\u001b[0;34m.\u001b[0m\u001b[0m__getattribute__\u001b[0m\u001b[0;34m(\u001b[0m\u001b[0mself\u001b[0m\u001b[0;34m,\u001b[0m \u001b[0mname\u001b[0m\u001b[0;34m)\u001b[0m\u001b[0;34m\u001b[0m\u001b[0;34m\u001b[0m\u001b[0m\n\u001b[0m\u001b[1;32m   5180\u001b[0m \u001b[0;34m\u001b[0m\u001b[0m\n\u001b[1;32m   5181\u001b[0m     \u001b[0;32mdef\u001b[0m \u001b[0m__setattr__\u001b[0m\u001b[0;34m(\u001b[0m\u001b[0mself\u001b[0m\u001b[0;34m,\u001b[0m \u001b[0mname\u001b[0m\u001b[0;34m,\u001b[0m \u001b[0mvalue\u001b[0m\u001b[0;34m)\u001b[0m\u001b[0;34m:\u001b[0m\u001b[0;34m\u001b[0m\u001b[0;34m\u001b[0m\u001b[0m\n",
      "\u001b[0;31mAttributeError\u001b[0m: 'Series' object has no attribute 'plt'"
     ]
    }
   ],
   "source": [
    "df['Range']['1994':].plt.scatter(x, y, s=area, c=colors, alpha=0.5)\n",
    "\n",
    "\n"
   ]
  },
  {
   "cell_type": "code",
   "execution_count": null,
   "metadata": {},
   "outputs": [],
   "source": [
    "# Antwort in Worten\n",
    "# "
   ]
  },
  {
   "cell_type": "markdown",
   "metadata": {},
   "source": [
    "Erstellen Sie eine Rangliste der zehn Tage, an denen es die grössten Schwankungen gab. (ab 1994)"
   ]
  },
  {
   "cell_type": "code",
   "execution_count": null,
   "metadata": {},
   "outputs": [],
   "source": []
  },
  {
   "cell_type": "markdown",
   "metadata": {},
   "source": [
    "Dieselbe Rangliste, aber mit den Top 100. Plotten Sie diese auf einem Punkte-Diagramm:\n",
    "- x: Zeitachse\n",
    "- y: Höhe des Kurses.\n",
    "\n",
    "Tipp: Attribute `linestyle=`, `marker=`, `markersize=` verwenden.\n",
    "- Siehe https://stackoverflow.com/questions/8409095/matplotlib-set-markers-for-individual-points-on-a-line"
   ]
  },
  {
   "cell_type": "code",
   "execution_count": null,
   "metadata": {},
   "outputs": [],
   "source": []
  },
  {
   "cell_type": "markdown",
   "metadata": {},
   "source": [
    "Ihr Eindruck dieses Charts?"
   ]
  },
  {
   "cell_type": "code",
   "execution_count": null,
   "metadata": {},
   "outputs": [],
   "source": [
    "# Antwort in Worten\n",
    "# "
   ]
  },
  {
   "cell_type": "code",
   "execution_count": null,
   "metadata": {},
   "outputs": [],
   "source": []
  },
  {
   "cell_type": "markdown",
   "metadata": {},
   "source": [
    "### Pro"
   ]
  },
  {
   "cell_type": "markdown",
   "metadata": {},
   "source": [
    "Kreieren Sie drei Zeitreihen:\n",
    "- Monatliche Serie von Datumsangaben: 1994-01-01, 1994-02-01, etc.\n",
    "- Monatliches Schwankungsmaximum seit 1994\n",
    "- Monatliches Schwankungsminimum seit 1994"
   ]
  },
  {
   "cell_type": "code",
   "execution_count": null,
   "metadata": {},
   "outputs": [],
   "source": []
  },
  {
   "cell_type": "markdown",
   "metadata": {},
   "source": [
    "Zeichnen Sie einen Fill-Between-Chart mit den drei Zeitreihen"
   ]
  },
  {
   "cell_type": "code",
   "execution_count": null,
   "metadata": {},
   "outputs": [],
   "source": []
  },
  {
   "cell_type": "markdown",
   "metadata": {},
   "source": [
    "Zeichnen Sie zusätzlich auf dem Chart eine Linie mit den monatlichen Schwankungs-Mittelwerten ein."
   ]
  },
  {
   "cell_type": "code",
   "execution_count": null,
   "metadata": {},
   "outputs": [],
   "source": []
  },
  {
   "cell_type": "code",
   "execution_count": null,
   "metadata": {},
   "outputs": [],
   "source": []
  },
  {
   "cell_type": "code",
   "execution_count": null,
   "metadata": {},
   "outputs": [],
   "source": []
  }
 ],
 "metadata": {
  "kernelspec": {
   "display_name": "Python 3",
   "language": "python",
   "name": "python3"
  },
  "language_info": {
   "codemirror_mode": {
    "name": "ipython",
    "version": 3
   },
   "file_extension": ".py",
   "mimetype": "text/x-python",
   "name": "python",
   "nbconvert_exporter": "python",
   "pygments_lexer": "ipython3",
   "version": "3.7.4"
  }
 },
 "nbformat": 4,
 "nbformat_minor": 2
}
