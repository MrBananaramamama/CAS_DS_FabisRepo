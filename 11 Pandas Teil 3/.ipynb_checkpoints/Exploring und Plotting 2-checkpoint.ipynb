{
 "cells": [
  {
   "cell_type": "markdown",
   "metadata": {},
   "source": [
    "# Exploring und Plotting 2"
   ]
  },
  {
   "cell_type": "markdown",
   "metadata": {},
   "source": [
    "**Inhalt:** Selbständige Übung in Gruppen\n",
    "\n",
    "**Nötige Skills:** Time Series\n",
    "\n",
    "**Lernziele:**\n",
    "- Selbständig Daten explorieren und Storyideen testen"
   ]
  },
  {
   "cell_type": "markdown",
   "metadata": {},
   "source": [
    "# Das Beispiel"
   ]
  },
  {
   "cell_type": "markdown",
   "metadata": {},
   "source": [
    "Börsenkurse aller Bluechips-Firmen an der Schweizer Börse.\n",
    "\n",
    "Korpus: https://www.six-group.com/exchanges/shares/explorer/swiss_blue_chips/closings_de.html\n",
    "\n",
    "Die Daten stammen von dieser Quelle: https://finance.yahoo.com/ und wurden zu einem File kompiliert.\n",
    "\n",
    "Kompilierungsfile: `dataprojects/Boersenkurse/Börsenkurse kompilieren.ipnyb`\n",
    "\n",
    "Kompilierte Daten: `dataprojects/Boersenkurse/smi_members.csv`"
   ]
  },
  {
   "cell_type": "markdown",
   "metadata": {},
   "source": [
    "## Vorbereitung"
   ]
  },
  {
   "cell_type": "markdown",
   "metadata": {},
   "source": [
    "Entscheiden Sie selbst, welche Libraries Sie brauchen!"
   ]
  },
  {
   "cell_type": "code",
   "execution_count": 1,
   "metadata": {},
   "outputs": [],
   "source": [
    "import pandas as pd\n",
    "import numpy as np\n",
    "%matplotlib inline"
   ]
  },
  {
   "cell_type": "code",
   "execution_count": 2,
   "metadata": {},
   "outputs": [],
   "source": [
    "df = pd.read_csv('dataprojects/Boersenkurse/smi_members.csv', index_col=0)"
   ]
  },
  {
   "cell_type": "code",
   "execution_count": 3,
   "metadata": {},
   "outputs": [
    {
     "data": {
      "text/html": [
       "<div>\n",
       "<style scoped>\n",
       "    .dataframe tbody tr th:only-of-type {\n",
       "        vertical-align: middle;\n",
       "    }\n",
       "\n",
       "    .dataframe tbody tr th {\n",
       "        vertical-align: top;\n",
       "    }\n",
       "\n",
       "    .dataframe thead th {\n",
       "        text-align: right;\n",
       "    }\n",
       "</style>\n",
       "<table border=\"1\" class=\"dataframe\">\n",
       "  <thead>\n",
       "    <tr style=\"text-align: right;\">\n",
       "      <th></th>\n",
       "      <th>ABB LTD</th>\n",
       "      <th>ADECCO</th>\n",
       "      <th>ALCON</th>\n",
       "      <th>AMS</th>\n",
       "      <th>CLARIANT</th>\n",
       "      <th>CS GROUP</th>\n",
       "      <th>GEBERIT</th>\n",
       "      <th>GIVAUDAN</th>\n",
       "      <th>JULIUS BAER</th>\n",
       "      <th>KUEHNE+NAGEL INT</th>\n",
       "      <th>...</th>\n",
       "      <th>SIKA</th>\n",
       "      <th>SONOVA</th>\n",
       "      <th>SWATCH GROUP</th>\n",
       "      <th>SWISS LIFE HOLDING</th>\n",
       "      <th>SWISS RE</th>\n",
       "      <th>SWISSCOM</th>\n",
       "      <th>TEMENOS</th>\n",
       "      <th>UBS GROUP</th>\n",
       "      <th>VIFOR</th>\n",
       "      <th>ZURICH INSURANCE</th>\n",
       "    </tr>\n",
       "  </thead>\n",
       "  <tbody>\n",
       "    <tr>\n",
       "      <td>2014-10-13</td>\n",
       "      <td>19.65</td>\n",
       "      <td>60.400002</td>\n",
       "      <td>NaN</td>\n",
       "      <td>NaN</td>\n",
       "      <td>15.54</td>\n",
       "      <td>23.689699</td>\n",
       "      <td>289.799988</td>\n",
       "      <td>1461.0</td>\n",
       "      <td>39.500000</td>\n",
       "      <td>117.300003</td>\n",
       "      <td>...</td>\n",
       "      <td>51.849998</td>\n",
       "      <td>143.899994</td>\n",
       "      <td>436.100006</td>\n",
       "      <td>211.899994</td>\n",
       "      <td>73.650002</td>\n",
       "      <td>531.5</td>\n",
       "      <td>32.000000</td>\n",
       "      <td>15.30</td>\n",
       "      <td>74.449997</td>\n",
       "      <td>279.000000</td>\n",
       "    </tr>\n",
       "    <tr>\n",
       "      <td>2014-10-14</td>\n",
       "      <td>19.76</td>\n",
       "      <td>60.700001</td>\n",
       "      <td>NaN</td>\n",
       "      <td>NaN</td>\n",
       "      <td>15.58</td>\n",
       "      <td>23.689699</td>\n",
       "      <td>294.399994</td>\n",
       "      <td>1478.0</td>\n",
       "      <td>39.770000</td>\n",
       "      <td>118.400002</td>\n",
       "      <td>...</td>\n",
       "      <td>52.716702</td>\n",
       "      <td>138.399994</td>\n",
       "      <td>435.299988</td>\n",
       "      <td>211.100006</td>\n",
       "      <td>73.050003</td>\n",
       "      <td>530.0</td>\n",
       "      <td>32.500000</td>\n",
       "      <td>15.33</td>\n",
       "      <td>75.000000</td>\n",
       "      <td>277.600006</td>\n",
       "    </tr>\n",
       "    <tr>\n",
       "      <td>2014-10-15</td>\n",
       "      <td>19.16</td>\n",
       "      <td>58.849998</td>\n",
       "      <td>NaN</td>\n",
       "      <td>NaN</td>\n",
       "      <td>15.16</td>\n",
       "      <td>22.817499</td>\n",
       "      <td>288.000000</td>\n",
       "      <td>1458.0</td>\n",
       "      <td>37.459999</td>\n",
       "      <td>115.900002</td>\n",
       "      <td>...</td>\n",
       "      <td>51.799999</td>\n",
       "      <td>134.600006</td>\n",
       "      <td>429.500000</td>\n",
       "      <td>205.699997</td>\n",
       "      <td>72.050003</td>\n",
       "      <td>515.5</td>\n",
       "      <td>32.200001</td>\n",
       "      <td>14.73</td>\n",
       "      <td>73.900002</td>\n",
       "      <td>270.399994</td>\n",
       "    </tr>\n",
       "    <tr>\n",
       "      <td>2014-10-16</td>\n",
       "      <td>19.26</td>\n",
       "      <td>59.500000</td>\n",
       "      <td>NaN</td>\n",
       "      <td>NaN</td>\n",
       "      <td>15.06</td>\n",
       "      <td>22.292299</td>\n",
       "      <td>288.000000</td>\n",
       "      <td>1466.0</td>\n",
       "      <td>37.509998</td>\n",
       "      <td>117.099998</td>\n",
       "      <td>...</td>\n",
       "      <td>51.783298</td>\n",
       "      <td>133.699997</td>\n",
       "      <td>431.500000</td>\n",
       "      <td>200.500000</td>\n",
       "      <td>71.050003</td>\n",
       "      <td>507.5</td>\n",
       "      <td>31.650000</td>\n",
       "      <td>14.50</td>\n",
       "      <td>72.849998</td>\n",
       "      <td>265.899994</td>\n",
       "    </tr>\n",
       "    <tr>\n",
       "      <td>2014-10-17</td>\n",
       "      <td>19.40</td>\n",
       "      <td>60.950001</td>\n",
       "      <td>NaN</td>\n",
       "      <td>NaN</td>\n",
       "      <td>15.38</td>\n",
       "      <td>22.751900</td>\n",
       "      <td>297.200012</td>\n",
       "      <td>1494.0</td>\n",
       "      <td>39.119999</td>\n",
       "      <td>117.500000</td>\n",
       "      <td>...</td>\n",
       "      <td>53.333302</td>\n",
       "      <td>138.399994</td>\n",
       "      <td>438.500000</td>\n",
       "      <td>208.500000</td>\n",
       "      <td>71.699997</td>\n",
       "      <td>515.5</td>\n",
       "      <td>32.500000</td>\n",
       "      <td>15.05</td>\n",
       "      <td>75.849998</td>\n",
       "      <td>271.899994</td>\n",
       "    </tr>\n",
       "  </tbody>\n",
       "</table>\n",
       "<p>5 rows × 30 columns</p>\n",
       "</div>"
      ],
      "text/plain": [
       "            ABB LTD     ADECCO  ALCON  AMS  CLARIANT   CS GROUP     GEBERIT  \\\n",
       "2014-10-13    19.65  60.400002    NaN  NaN     15.54  23.689699  289.799988   \n",
       "2014-10-14    19.76  60.700001    NaN  NaN     15.58  23.689699  294.399994   \n",
       "2014-10-15    19.16  58.849998    NaN  NaN     15.16  22.817499  288.000000   \n",
       "2014-10-16    19.26  59.500000    NaN  NaN     15.06  22.292299  288.000000   \n",
       "2014-10-17    19.40  60.950001    NaN  NaN     15.38  22.751900  297.200012   \n",
       "\n",
       "            GIVAUDAN  JULIUS BAER  KUEHNE+NAGEL INT  ...       SIKA  \\\n",
       "2014-10-13    1461.0    39.500000        117.300003  ...  51.849998   \n",
       "2014-10-14    1478.0    39.770000        118.400002  ...  52.716702   \n",
       "2014-10-15    1458.0    37.459999        115.900002  ...  51.799999   \n",
       "2014-10-16    1466.0    37.509998        117.099998  ...  51.783298   \n",
       "2014-10-17    1494.0    39.119999        117.500000  ...  53.333302   \n",
       "\n",
       "                SONOVA  SWATCH GROUP  SWISS LIFE HOLDING   SWISS RE  SWISSCOM  \\\n",
       "2014-10-13  143.899994    436.100006          211.899994  73.650002     531.5   \n",
       "2014-10-14  138.399994    435.299988          211.100006  73.050003     530.0   \n",
       "2014-10-15  134.600006    429.500000          205.699997  72.050003     515.5   \n",
       "2014-10-16  133.699997    431.500000          200.500000  71.050003     507.5   \n",
       "2014-10-17  138.399994    438.500000          208.500000  71.699997     515.5   \n",
       "\n",
       "              TEMENOS  UBS GROUP      VIFOR  ZURICH INSURANCE  \n",
       "2014-10-13  32.000000      15.30  74.449997        279.000000  \n",
       "2014-10-14  32.500000      15.33  75.000000        277.600006  \n",
       "2014-10-15  32.200001      14.73  73.900002        270.399994  \n",
       "2014-10-16  31.650000      14.50  72.849998        265.899994  \n",
       "2014-10-17  32.500000      15.05  75.849998        271.899994  \n",
       "\n",
       "[5 rows x 30 columns]"
      ]
     },
     "execution_count": 3,
     "metadata": {},
     "output_type": "execute_result"
    }
   ],
   "source": [
    "df.head()"
   ]
  },
  {
   "cell_type": "markdown",
   "metadata": {},
   "source": [
    "## Datenfile laden"
   ]
  },
  {
   "cell_type": "markdown",
   "metadata": {},
   "source": [
    "Wie ist die Datei strukturiert? Was müssen wir beim Laden beachten?\n",
    "\n",
    "Tipp: `index_col=0` verwenden."
   ]
  },
  {
   "cell_type": "code",
   "execution_count": 4,
   "metadata": {},
   "outputs": [],
   "source": [
    "index_col=0"
   ]
  },
  {
   "cell_type": "code",
   "execution_count": 83,
   "metadata": {},
   "outputs": [
    {
     "data": {
      "text/plain": [
       "DatetimeIndex(['2014-10-13', '2014-10-14', '2014-10-15', '2014-10-16',\n",
       "               '2014-10-17', '2014-10-20', '2014-10-21', '2014-10-22',\n",
       "               '2014-10-23', '2014-10-24',\n",
       "               ...\n",
       "               '2019-09-30', '2019-10-01', '2019-10-02', '2019-10-03',\n",
       "               '2019-10-04', '2019-10-07', '2019-10-08', '2019-10-09',\n",
       "               '2019-10-10', '2019-10-11'],\n",
       "              dtype='datetime64[ns]', length=1255, freq=None)"
      ]
     },
     "execution_count": 83,
     "metadata": {},
     "output_type": "execute_result"
    }
   ],
   "source": [
    "df.index"
   ]
  },
  {
   "cell_type": "code",
   "execution_count": 5,
   "metadata": {},
   "outputs": [],
   "source": [
    "df.index = pd.to_datetime(df.index)"
   ]
  },
  {
   "cell_type": "code",
   "execution_count": null,
   "metadata": {},
   "outputs": [],
   "source": []
  },
  {
   "cell_type": "code",
   "execution_count": null,
   "metadata": {},
   "outputs": [],
   "source": []
  },
  {
   "cell_type": "markdown",
   "metadata": {},
   "source": [
    "## Daten checken"
   ]
  },
  {
   "cell_type": "markdown",
   "metadata": {},
   "source": [
    "**Länge, Spalten, Integrität**"
   ]
  },
  {
   "cell_type": "code",
   "execution_count": 14,
   "metadata": {},
   "outputs": [],
   "source": [
    "df_new = df['2019-04-06':][['ALCON', 'AMS', 'LOGITECH']]"
   ]
  },
  {
   "cell_type": "code",
   "execution_count": 15,
   "metadata": {},
   "outputs": [
    {
     "data": {
      "text/html": [
       "<div>\n",
       "<style scoped>\n",
       "    .dataframe tbody tr th:only-of-type {\n",
       "        vertical-align: middle;\n",
       "    }\n",
       "\n",
       "    .dataframe tbody tr th {\n",
       "        vertical-align: top;\n",
       "    }\n",
       "\n",
       "    .dataframe thead th {\n",
       "        text-align: right;\n",
       "    }\n",
       "</style>\n",
       "<table border=\"1\" class=\"dataframe\">\n",
       "  <thead>\n",
       "    <tr style=\"text-align: right;\">\n",
       "      <th></th>\n",
       "      <th>ALCON</th>\n",
       "      <th>AMS</th>\n",
       "      <th>LOGITECH</th>\n",
       "    </tr>\n",
       "  </thead>\n",
       "  <tbody>\n",
       "    <tr>\n",
       "      <td>2019-04-08</td>\n",
       "      <td>NaN</td>\n",
       "      <td>31.639999</td>\n",
       "      <td>40.430000</td>\n",
       "    </tr>\n",
       "    <tr>\n",
       "      <td>2019-04-09</td>\n",
       "      <td>NaN</td>\n",
       "      <td>32.279999</td>\n",
       "      <td>40.360001</td>\n",
       "    </tr>\n",
       "    <tr>\n",
       "      <td>2019-04-10</td>\n",
       "      <td>NaN</td>\n",
       "      <td>31.660000</td>\n",
       "      <td>40.959999</td>\n",
       "    </tr>\n",
       "    <tr>\n",
       "      <td>2019-04-11</td>\n",
       "      <td>NaN</td>\n",
       "      <td>31.700001</td>\n",
       "      <td>40.869999</td>\n",
       "    </tr>\n",
       "    <tr>\n",
       "      <td>2019-04-12</td>\n",
       "      <td>NaN</td>\n",
       "      <td>32.700001</td>\n",
       "      <td>41.240002</td>\n",
       "    </tr>\n",
       "    <tr>\n",
       "      <td>...</td>\n",
       "      <td>...</td>\n",
       "      <td>...</td>\n",
       "      <td>...</td>\n",
       "    </tr>\n",
       "    <tr>\n",
       "      <td>2019-10-07</td>\n",
       "      <td>56.840000</td>\n",
       "      <td>44.369999</td>\n",
       "      <td>40.779999</td>\n",
       "    </tr>\n",
       "    <tr>\n",
       "      <td>2019-10-08</td>\n",
       "      <td>56.020000</td>\n",
       "      <td>42.029999</td>\n",
       "      <td>40.070000</td>\n",
       "    </tr>\n",
       "    <tr>\n",
       "      <td>2019-10-09</td>\n",
       "      <td>55.790001</td>\n",
       "      <td>42.549999</td>\n",
       "      <td>39.990002</td>\n",
       "    </tr>\n",
       "    <tr>\n",
       "      <td>2019-10-10</td>\n",
       "      <td>56.060001</td>\n",
       "      <td>42.970001</td>\n",
       "      <td>40.430000</td>\n",
       "    </tr>\n",
       "    <tr>\n",
       "      <td>2019-10-11</td>\n",
       "      <td>56.200001</td>\n",
       "      <td>44.259998</td>\n",
       "      <td>41.299999</td>\n",
       "    </tr>\n",
       "  </tbody>\n",
       "</table>\n",
       "<p>129 rows × 3 columns</p>\n",
       "</div>"
      ],
      "text/plain": [
       "                ALCON        AMS   LOGITECH\n",
       "2019-04-08        NaN  31.639999  40.430000\n",
       "2019-04-09        NaN  32.279999  40.360001\n",
       "2019-04-10        NaN  31.660000  40.959999\n",
       "2019-04-11        NaN  31.700001  40.869999\n",
       "2019-04-12        NaN  32.700001  41.240002\n",
       "...               ...        ...        ...\n",
       "2019-10-07  56.840000  44.369999  40.779999\n",
       "2019-10-08  56.020000  42.029999  40.070000\n",
       "2019-10-09  55.790001  42.549999  39.990002\n",
       "2019-10-10  56.060001  42.970001  40.430000\n",
       "2019-10-11  56.200001  44.259998  41.299999\n",
       "\n",
       "[129 rows x 3 columns]"
      ]
     },
     "execution_count": 15,
     "metadata": {},
     "output_type": "execute_result"
    }
   ],
   "source": [
    "df_new\n"
   ]
  },
  {
   "cell_type": "code",
   "execution_count": 16,
   "metadata": {},
   "outputs": [
    {
     "data": {
      "text/plain": [
       "ALCON       float64\n",
       "AMS         float64\n",
       "LOGITECH    float64\n",
       "dtype: object"
      ]
     },
     "execution_count": 16,
     "metadata": {},
     "output_type": "execute_result"
    }
   ],
   "source": [
    "df_new.dtypes\n",
    "    "
   ]
  },
  {
   "cell_type": "code",
   "execution_count": 9,
   "metadata": {},
   "outputs": [],
   "source": [
    "df.sort_index(inplace=True)"
   ]
  },
  {
   "cell_type": "code",
   "execution_count": 10,
   "metadata": {},
   "outputs": [
    {
     "data": {
      "text/plain": [
       "<matplotlib.axes._subplots.AxesSubplot at 0x10c18d090>"
      ]
     },
     "execution_count": 10,
     "metadata": {},
     "output_type": "execute_result"
    },
    {
     "data": {
      "image/png": "[encoded data removed]",
      "text/plain": [
       "<Figure size 432x288 with 1 Axes>"
      ]
     },
     "metadata": {
      "needs_background": "light"
     },
     "output_type": "display_data"
    }
   ],
   "source": [
    "df_new.plot()"
   ]
  },
  {
   "cell_type": "code",
   "execution_count": 11,
   "metadata": {},
   "outputs": [
    {
     "data": {
      "text/plain": [
       "<matplotlib.axes._subplots.AxesSubplot at 0x118a9bbd0>"
      ]
     },
     "execution_count": 11,
     "metadata": {},
     "output_type": "execute_result"
    },
    {
     "data": {
      "image/png": "[encoded data removed]",
      "text/plain": [
       "<Figure size 432x288 with 1 Axes>"
      ]
     },
     "metadata": {
      "needs_background": "light"
     },
     "output_type": "display_data"
    }
   ],
   "source": [
    "df_new.pct_change().plot()"
   ]
  },
  {
   "cell_type": "code",
   "execution_count": 37,
   "metadata": {},
   "outputs": [
    {
     "data": {
      "text/plain": [
       "<matplotlib.axes._subplots.AxesSubplot at 0x1191d8090>"
      ]
     },
     "execution_count": 37,
     "metadata": {},
     "output_type": "execute_result"
    },
    {
     "data": {
      "image/png": "[encoded data removed]",
      "text/plain": [
       "<Figure size 432x288 with 1 Axes>"
      ]
     },
     "metadata": {
      "needs_background": "light"
     },
     "output_type": "display_data"
    }
   ],
   "source": [
    "(df_new.resample('A').last()/df_new.resample('A').first()*100-100).plot(kind='barh')"
   ]
  },
  {
   "cell_type": "code",
   "execution_count": 38,
   "metadata": {
    "scrolled": true
   },
   "outputs": [
    {
     "data": {
      "text/html": [
       "<div>\n",
       "<style scoped>\n",
       "    .dataframe tbody tr th:only-of-type {\n",
       "        vertical-align: middle;\n",
       "    }\n",
       "\n",
       "    .dataframe tbody tr th {\n",
       "        vertical-align: top;\n",
       "    }\n",
       "\n",
       "    .dataframe thead th {\n",
       "        text-align: right;\n",
       "    }\n",
       "</style>\n",
       "<table border=\"1\" class=\"dataframe\">\n",
       "  <thead>\n",
       "    <tr style=\"text-align: right;\">\n",
       "      <th></th>\n",
       "      <th>ALCON</th>\n",
       "      <th>AMS</th>\n",
       "      <th>LOGITECH</th>\n",
       "    </tr>\n",
       "  </thead>\n",
       "  <tbody>\n",
       "    <tr>\n",
       "      <td>2019-12-31</td>\n",
       "      <td>2.033404</td>\n",
       "      <td>39.886218</td>\n",
       "      <td>2.151865</td>\n",
       "    </tr>\n",
       "  </tbody>\n",
       "</table>\n",
       "</div>"
      ],
      "text/plain": [
       "               ALCON        AMS  LOGITECH\n",
       "2019-12-31  2.033404  39.886218  2.151865"
      ]
     },
     "execution_count": 38,
     "metadata": {},
     "output_type": "execute_result"
    }
   ],
   "source": [
    "(df_new.resample('A').last()/df_new.resample('A').first()*100-100)"
   ]
  },
  {
   "cell_type": "code",
   "execution_count": 41,
   "metadata": {},
   "outputs": [
    {
     "ename": "TypeError",
     "evalue": "last() missing 1 required positional argument: 'offset'",
     "output_type": "error",
     "traceback": [
      "\u001b[0;31m---------------------------------------------------------------------------\u001b[0m",
      "\u001b[0;31mTypeError\u001b[0m                                 Traceback (most recent call last)",
      "\u001b[0;32m<ipython-input-41-b6a5e04c9dce>\u001b[0m in \u001b[0;36m<module>\u001b[0;34m\u001b[0m\n\u001b[0;32m----> 1\u001b[0;31m \u001b[0;34m(\u001b[0m\u001b[0mdf\u001b[0m\u001b[0;34m.\u001b[0m\u001b[0mlast\u001b[0m\u001b[0;34m(\u001b[0m\u001b[0;34m)\u001b[0m\u001b[0;34m/\u001b[0m\u001b[0mdf\u001b[0m\u001b[0;34m.\u001b[0m\u001b[0mfirst\u001b[0m\u001b[0;34m(\u001b[0m\u001b[0;34m)\u001b[0m\u001b[0;34m*\u001b[0m\u001b[0;36m100\u001b[0m\u001b[0;34m-\u001b[0m\u001b[0;36m100\u001b[0m\u001b[0;34m)\u001b[0m\u001b[0;34m\u001b[0m\u001b[0;34m\u001b[0m\u001b[0m\n\u001b[0m",
      "\u001b[0;31mTypeError\u001b[0m: last() missing 1 required positional argument: 'offset'"
     ]
    }
   ],
   "source": [
    "(df.last()/df.first()*100-100)"
   ]
  },
  {
   "cell_type": "code",
   "execution_count": 61,
   "metadata": {},
   "outputs": [
    {
     "data": {
      "text/plain": [
       "ABB LTD                69.139634\n",
       "ADECCO                 91.919183\n",
       "ALCON                  14.124907\n",
       "AMS                    76.675107\n",
       "CLARIANT              112.744381\n",
       "CS GROUP              181.335765\n",
       "GEBERIT                67.847220\n",
       "GIVAUDAN               94.787380\n",
       "JULIUS BAER            90.887571\n",
       "KUEHNE+NAGEL INT       56.341669\n",
       "LAFARGEHOLCIM         113.908100\n",
       "LOGITECH               17.117606\n",
       "LONZA                 323.846710\n",
       "NESTLE                 74.691345\n",
       "NOVARTIS               53.088269\n",
       "PARTNERS GROUP        258.751104\n",
       "RICHEMONT              85.084107\n",
       "ROCHE                  41.839196\n",
       "SCHINDLER             103.153529\n",
       "SGS                    65.375154\n",
       "SIKA                  270.147321\n",
       "SONOVA                110.233387\n",
       "SWATCH GROUP          100.765818\n",
       "SWISS LIFE HOLDING    147.331668\n",
       "SWISS RE               46.727650\n",
       "SWISSCOM               36.840875\n",
       "TEMENOS               586.704117\n",
       "UBS GROUP             126.358149\n",
       "VIFOR                 166.759784\n",
       "ZURICH INSURANCE       98.367341\n",
       "dtype: float64"
      ]
     },
     "execution_count": 61,
     "metadata": {},
     "output_type": "execute_result"
    }
   ],
   "source": [
    "(df.max()/df.min()*100-100)"
   ]
  },
  {
   "cell_type": "code",
   "execution_count": 62,
   "metadata": {},
   "outputs": [
    {
     "data": {
      "text/plain": [
       "ABB LTD                 27.129999\n",
       "ADECCO                  83.599998\n",
       "ALCON                   62.860001\n",
       "AMS                     55.900002\n",
       "CLARIANT                29.379999\n",
       "CS GROUP                26.915899\n",
       "GEBERIT                483.399994\n",
       "GIVAUDAN              2840.000000\n",
       "JULIUS BAER             64.519997\n",
       "KUEHNE+NAGEL INT       181.199997\n",
       "LAFARGEHOLCIM           72.857101\n",
       "LOGITECH                42.419998\n",
       "LONZA                  361.000000\n",
       "NESTLE                 113.199997\n",
       "NOVARTIS                92.699997\n",
       "PARTNERS GROUP         815.799988\n",
       "RICHEMONT               99.019997\n",
       "ROCHE                  294.600006\n",
       "SCHINDLER              244.800003\n",
       "SGS                   2689.000000\n",
       "SIKA                   167.800003\n",
       "SONOVA                 234.199997\n",
       "SWATCH GROUP           498.100006\n",
       "SWISS LIFE HOLDING     495.899994\n",
       "SWISS RE               104.250000\n",
       "SWISSCOM               586.500000\n",
       "TEMENOS                183.350006\n",
       "UBS GROUP               22.500000\n",
       "VIFOR                  191.000000\n",
       "ZURICH INSURANCE       388.799988\n",
       "dtype: float64"
      ]
     },
     "execution_count": 62,
     "metadata": {},
     "output_type": "execute_result"
    }
   ],
   "source": [
    "df.max()"
   ]
  },
  {
   "cell_type": "code",
   "execution_count": 59,
   "metadata": {},
   "outputs": [
    {
     "data": {
      "text/plain": [
       "<matplotlib.axes._subplots.AxesSubplot at 0x11a078910>"
      ]
     },
     "execution_count": 59,
     "metadata": {},
     "output_type": "execute_result"
    },
    {
     "data": {
      "image/png": "[encoded data removed]",
      "text/plain": [
       "<Figure size 360x720 with 1 Axes>"
      ]
     },
     "metadata": {
      "needs_background": "light"
     },
     "output_type": "display_data"
    }
   ],
   "source": [
    "(df.max()/df.min()*100-100).plot(kind='barh', figsize=(5,10))"
   ]
  },
  {
   "cell_type": "code",
   "execution_count": 82,
   "metadata": {},
   "outputs": [
    {
     "data": {
      "text/plain": [
       "<matplotlib.axes._subplots.AxesSubplot at 0x11aa3fa10>"
      ]
     },
     "execution_count": 82,
     "metadata": {},
     "output_type": "execute_result"
    },
    {
     "data": {
      "image/png": "[encoded data removed]",
      "text/plain": [
       "<Figure size 720x360 with 1 Axes>"
      ]
     },
     "metadata": {
      "needs_background": "light"
     },
     "output_type": "display_data"
    }
   ],
   "source": [
    "(df.iloc[-1]/df.iloc[0]*100-100).plot(kind='bar', figsize=(10,5))"
   ]
  },
  {
   "cell_type": "markdown",
   "metadata": {},
   "source": [
    "## Explorieren"
   ]
  },
  {
   "cell_type": "markdown",
   "metadata": {},
   "source": [
    "Ihr Ziel ist, aus den Börsendaten eine einfache Story zu generieren.\n",
    "\n",
    "Überlegen Sie sich dazu:\n",
    "- Was sind mögliche interessante Fragen?\n",
    "- Welche Auswertungen sind nötig, um die Fragen zu beanworten?\n",
    "- Wie stellen Sie die Resultate mittels Grafiken dar?\n",
    "\n",
    "Arbeiten Sie in Gruppen, um ein Ergebnis zu erarbeiten!"
   ]
  },
  {
   "cell_type": "code",
   "execution_count": 92,
   "metadata": {},
   "outputs": [
    {
     "data": {
      "text/plain": [
       "ABB LTD              2016-01-20\n",
       "ADECCO               2019-01-03\n",
       "ALCON                2019-04-15\n",
       "AMS                  2019-04-08\n",
       "CLARIANT             2015-01-22\n",
       "CS GROUP             2016-07-06\n",
       "GEBERIT              2014-10-15\n",
       "GIVAUDAN             2014-10-15\n",
       "JULIUS BAER          2018-12-27\n",
       "KUEHNE+NAGEL INT     2014-10-15\n",
       "LAFARGEHOLCIM        2016-02-11\n",
       "LOGITECH             2019-06-03\n",
       "LONZA                2015-01-16\n",
       "NESTLE               2015-01-16\n",
       "NOVARTIS             2016-04-01\n",
       "PARTNERS GROUP       2015-01-22\n",
       "RICHEMONT            2016-06-27\n",
       "ROCHE                2018-06-08\n",
       "SCHINDLER            2014-10-15\n",
       "SGS                  2015-08-24\n",
       "SIKA                 2015-01-21\n",
       "SONOVA               2016-02-11\n",
       "SWATCH GROUP         2016-08-02\n",
       "SWISS LIFE HOLDING   2014-10-16\n",
       "SWISS RE             2014-10-16\n",
       "SWISSCOM             2018-10-08\n",
       "TEMENOS              2015-01-22\n",
       "UBS GROUP            2019-08-14\n",
       "VIFOR                2015-01-23\n",
       "ZURICH INSURANCE     2016-04-07\n",
       "dtype: datetime64[ns]"
      ]
     },
     "execution_count": 92,
     "metadata": {},
     "output_type": "execute_result"
    }
   ],
   "source": [
    "\n",
    "df.idxmin()"
   ]
  },
  {
   "cell_type": "code",
   "execution_count": 93,
   "metadata": {},
   "outputs": [],
   "source": [
    "df_tem = df['TEMENOS']"
   ]
  },
  {
   "cell_type": "code",
   "execution_count": 95,
   "metadata": {},
   "outputs": [
    {
     "data": {
      "text/plain": [
       "Timestamp('2019-05-28 00:00:00')"
      ]
     },
     "execution_count": 95,
     "metadata": {},
     "output_type": "execute_result"
    }
   ],
   "source": [
    "df_tem.idxmin()\n",
    "df_tem.idxmax()"
   ]
  },
  {
   "cell_type": "code",
   "execution_count": null,
   "metadata": {},
   "outputs": [],
   "source": []
  },
  {
   "cell_type": "code",
   "execution_count": null,
   "metadata": {},
   "outputs": [],
   "source": []
  },
  {
   "cell_type": "code",
   "execution_count": null,
   "metadata": {},
   "outputs": [],
   "source": []
  },
  {
   "cell_type": "code",
   "execution_count": null,
   "metadata": {},
   "outputs": [],
   "source": []
  },
  {
   "cell_type": "code",
   "execution_count": null,
   "metadata": {},
   "outputs": [],
   "source": []
  },
  {
   "cell_type": "code",
   "execution_count": null,
   "metadata": {},
   "outputs": [],
   "source": []
  },
  {
   "cell_type": "code",
   "execution_count": null,
   "metadata": {},
   "outputs": [],
   "source": []
  },
  {
   "cell_type": "code",
   "execution_count": null,
   "metadata": {},
   "outputs": [],
   "source": []
  },
  {
   "cell_type": "code",
   "execution_count": null,
   "metadata": {},
   "outputs": [],
   "source": []
  },
  {
   "cell_type": "code",
   "execution_count": null,
   "metadata": {},
   "outputs": [],
   "source": []
  },
  {
   "cell_type": "code",
   "execution_count": null,
   "metadata": {},
   "outputs": [],
   "source": []
  },
  {
   "cell_type": "code",
   "execution_count": null,
   "metadata": {},
   "outputs": [],
   "source": []
  },
  {
   "cell_type": "code",
   "execution_count": null,
   "metadata": {},
   "outputs": [],
   "source": []
  },
  {
   "cell_type": "code",
   "execution_count": null,
   "metadata": {},
   "outputs": [],
   "source": []
  },
  {
   "cell_type": "code",
   "execution_count": null,
   "metadata": {},
   "outputs": [],
   "source": []
  },
  {
   "cell_type": "code",
   "execution_count": null,
   "metadata": {},
   "outputs": [],
   "source": []
  },
  {
   "cell_type": "markdown",
   "metadata": {},
   "source": [
    "## Die Story\n",
    "Wählen Sie eine ihrer Fragen aus, die Sie bearbeitet haben.\n",
    "- Drei bis vier Sätze, welche die Story zusammenfassen\n",
    "- eine oder mehrere Grafiken, die das Ergebnis illustrieren"
   ]
  },
  {
   "cell_type": "code",
   "execution_count": null,
   "metadata": {},
   "outputs": [],
   "source": []
  },
  {
   "cell_type": "code",
   "execution_count": null,
   "metadata": {},
   "outputs": [],
   "source": []
  },
  {
   "cell_type": "code",
   "execution_count": null,
   "metadata": {},
   "outputs": [],
   "source": []
  },
  {
   "cell_type": "code",
   "execution_count": null,
   "metadata": {},
   "outputs": [],
   "source": []
  },
  {
   "cell_type": "code",
   "execution_count": null,
   "metadata": {},
   "outputs": [],
   "source": []
  },
  {
   "cell_type": "code",
   "execution_count": null,
   "metadata": {},
   "outputs": [],
   "source": []
  },
  {
   "cell_type": "code",
   "execution_count": null,
   "metadata": {},
   "outputs": [],
   "source": []
  },
  {
   "cell_type": "code",
   "execution_count": null,
   "metadata": {},
   "outputs": [],
   "source": []
  }
 ],
 "metadata": {
  "kernelspec": {
   "display_name": "Python 3",
   "language": "python",
   "name": "python3"
  },
  "language_info": {
   "codemirror_mode": {
    "name": "ipython",
    "version": 3
   },
   "file_extension": ".py",
   "mimetype": "text/x-python",
   "name": "python",
   "nbconvert_exporter": "python",
   "pygments_lexer": "ipython3",
   "version": "3.7.4"
  }
 },
 "nbformat": 4,
 "nbformat_minor": 2
}
