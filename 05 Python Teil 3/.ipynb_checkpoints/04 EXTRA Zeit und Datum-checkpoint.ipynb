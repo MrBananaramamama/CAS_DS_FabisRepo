{
 "cells": [
  {
   "cell_type": "markdown",
   "metadata": {},
   "source": [
    "# Zeit und Datum"
   ]
  },
  {
   "cell_type": "markdown",
   "metadata": {},
   "source": [
    "Das Modul **datetime** stellt Zeit- und Datumsfunktionen bereit."
   ]
  },
  {
   "cell_type": "markdown",
   "metadata": {},
   "source": [
    "#### Modul einbinden"
   ]
  },
  {
   "cell_type": "code",
   "execution_count": 5,
   "metadata": {
    "scrolled": true
   },
   "outputs": [
    {
     "name": "stdout",
     "output_type": "stream",
     "text": [
      "Requirement already satisfied: datetime in /Users/fabianvonallmen/.virtualenvs/erstesVE/lib/python3.7/site-packages (4.3)\r\n",
      "Requirement already satisfied: pytz in /Users/fabianvonallmen/.virtualenvs/erstesVE/lib/python3.7/site-packages (from datetime) (2019.2)\r\n",
      "Requirement already satisfied: zope.interface in /Users/fabianvonallmen/.virtualenvs/erstesVE/lib/python3.7/site-packages (from datetime) (4.6.0)\r\n",
      "Requirement already satisfied: setuptools in /Users/fabianvonallmen/.virtualenvs/erstesVE/lib/python3.7/site-packages (from zope.interface->datetime) (41.2.0)\r\n"
     ]
    }
   ],
   "source": [
    "!pip install datetime #so kann man via python was neues installieren, mit dem ! wie im terminal \n",
    "import datetime"
   ]
  },
  {
   "cell_type": "code",
   "execution_count": 9,
   "metadata": {
    "scrolled": true
   },
   "outputs": [
    {
     "name": "stdout",
     "output_type": "stream",
     "text": [
      "2019-09-20 14:25:56.993837\n"
     ]
    }
   ],
   "source": [
    "from datetime import datetime, timedelta\n",
    "now = datetime.now()\n",
    "print(now)"
   ]
  },
  {
   "cell_type": "code",
   "execution_count": 77,
   "metadata": {},
   "outputs": [
    {
     "name": "stdout",
     "output_type": "stream",
     "text": [
      "20.09.19 - 14:56\n"
     ]
    }
   ],
   "source": [
    "# zeit jetzt vereinfachen fürs printen\n",
    "\n",
    "datum = datetime.now()\n",
    "\n",
    "jetzt = (datum.strftime('%d.%m.%y - %H:%M'))\n",
    "\n",
    "print(jetzt)"
   ]
  },
  {
   "cell_type": "markdown",
   "metadata": {},
   "source": [
    "## Zeit addieren"
   ]
  },
  {
   "cell_type": "code",
   "execution_count": 36,
   "metadata": {
    "collapsed": true
   },
   "outputs": [],
   "source": [
    "from datetime import datetime, timedelta"
   ]
  },
  {
   "cell_type": "code",
   "execution_count": 59,
   "metadata": {},
   "outputs": [
    {
     "name": "stdout",
     "output_type": "stream",
     "text": [
      "2019-09-20 14:48:26.570795\n",
      "2019-10-10 18:51:27.570795\n"
     ]
    }
   ],
   "source": [
    "now = datetime.now()\n",
    "\n",
    "print(now)\n",
    "print(now + timedelta(days = 20, hours = 4, minutes = 3, seconds = 1))"
   ]
  },
  {
   "cell_type": "markdown",
   "metadata": {},
   "source": [
    "## Nur Teile des Datums verwenden"
   ]
  },
  {
   "cell_type": "code",
   "execution_count": 18,
   "metadata": {},
   "outputs": [
    {
     "name": "stdout",
     "output_type": "stream",
     "text": [
      "2017-08-20 20:00:00\n",
      "2017\n",
      "6\n"
     ]
    }
   ],
   "source": [
    "day = datetime(2017, 8, 20, 20, 0, 0)\n",
    "\n",
    "print(day)\n",
    "print(day.year)\n",
    "print(day.weekday())"
   ]
  },
  {
   "cell_type": "markdown",
   "metadata": {},
   "source": [
    "## Zeit und Datum anlegen"
   ]
  },
  {
   "cell_type": "code",
   "execution_count": 21,
   "metadata": {},
   "outputs": [],
   "source": [
    "from datetime import date, time"
   ]
  },
  {
   "cell_type": "code",
   "execution_count": 36,
   "metadata": {},
   "outputs": [
    {
     "name": "stdout",
     "output_type": "stream",
     "text": [
      "2017-08-20\n",
      "20:01:04\n"
     ]
    }
   ],
   "source": [
    "d = date(2017, 8, 20)\n",
    "print(d)\n",
    "\n",
    "t = time(20, 1, 4)\n",
    "print(t)"
   ]
  },
  {
   "cell_type": "code",
   "execution_count": null,
   "metadata": {},
   "outputs": [],
   "source": [
    "print(jetzt)"
   ]
  },
  {
   "cell_type": "markdown",
   "metadata": {},
   "source": [
    "## Zeit in Strings parsen"
   ]
  },
  {
   "cell_type": "code",
   "execution_count": null,
   "metadata": {},
   "outputs": [],
   "source": [
    "d = date"
   ]
  },
  {
   "cell_type": "code",
   "execution_count": 54,
   "metadata": {},
   "outputs": [
    {
     "data": {
      "text/plain": [
       "datetime.datetime(1997, 6, 23, 11, 33)"
      ]
     },
     "execution_count": 54,
     "metadata": {},
     "output_type": "execute_result"
    }
   ],
   "source": [
    "datetime_then = datetime.strptime('11:33 - 23.06.97', '%H:%M - %d.%m.%y')\n",
    "datetime_then"
   ]
  },
  {
   "cell_type": "code",
   "execution_count": 58,
   "metadata": {},
   "outputs": [
    {
     "data": {
      "text/plain": [
       "datetime.datetime(1997, 6, 23, 11, 33)"
      ]
     },
     "execution_count": 58,
     "metadata": {},
     "output_type": "execute_result"
    }
   ],
   "source": [
    "datetime_then = datetime.strptime('11:33 - 23.06.97', '%H:%M - %d.%m.%y')\n",
    "datetime_then"
   ]
  },
  {
   "cell_type": "code",
   "execution_count": 52,
   "metadata": {},
   "outputs": [
    {
     "data": {
      "text/plain": [
       "datetime.datetime(2005, 6, 1, 11, 33)"
      ]
     },
     "execution_count": 52,
     "metadata": {},
     "output_type": "execute_result"
    }
   ],
   "source": [
    "from datetime import datetime\n",
    "datetime_object = datetime.strptime('Jun 1 2005  11:33', '%b %d %Y %H:%M')\n",
    "datetime_object"
   ]
  },
  {
   "cell_type": "code",
   "execution_count": null,
   "metadata": {},
   "outputs": [],
   "source": []
  },
  {
   "cell_type": "markdown",
   "metadata": {},
   "source": [
    "#### Weitere Infos:\n",
    "https://docs.python.org/3/library/datetime.html"
   ]
  },
  {
   "cell_type": "markdown",
   "metadata": {},
   "source": [
    "## Datumswerte ausgeben\n",
    "\n",
    "- Es ist sehr praktisch, wie du Datumswerte korrekt ausgeben kannst.\n",
    "\n",
    "Dokumentation: https://docs.python.org/3/library/datetime.html#strftime-strptime-behavior"
   ]
  },
  {
   "cell_type": "code",
   "execution_count": 8,
   "metadata": {},
   "outputs": [],
   "source": [
    "from datetime import datetime\n",
    "\n",
    "now = datetime.now()"
   ]
  },
  {
   "cell_type": "code",
   "execution_count": 9,
   "metadata": {
    "scrolled": true
   },
   "outputs": [
    {
     "name": "stdout",
     "output_type": "stream",
     "text": [
      "2018-09-09 14:17:47.389554\n"
     ]
    }
   ],
   "source": [
    "print(now)"
   ]
  },
  {
   "cell_type": "code",
   "execution_count": 10,
   "metadata": {},
   "outputs": [
    {
     "name": "stdout",
     "output_type": "stream",
     "text": [
      "09.09.2018\n",
      "2018-09-09\n",
      "20180909\n"
     ]
    }
   ],
   "source": [
    "print(now.strftime(\"%d.%m.%Y\"))\n",
    "print(now.strftime(\"%Y-%m-%d\"))\n",
    "print(now.strftime(\"%Y%m%d\"))"
   ]
  }
 ],
 "metadata": {
  "kernelspec": {
   "display_name": "Python 3",
   "language": "python",
   "name": "python3"
  },
  "language_info": {
   "codemirror_mode": {
    "name": "ipython",
    "version": 3
   },
   "file_extension": ".py",
   "mimetype": "text/x-python",
   "name": "python",
   "nbconvert_exporter": "python",
   "pygments_lexer": "ipython3",
   "version": "3.7.4"
  }
 },
 "nbformat": 4,
 "nbformat_minor": 2
}
