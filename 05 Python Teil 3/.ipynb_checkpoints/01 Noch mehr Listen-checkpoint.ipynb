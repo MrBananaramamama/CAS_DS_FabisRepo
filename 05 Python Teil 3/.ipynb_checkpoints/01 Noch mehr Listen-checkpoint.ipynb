{
 "cells": [
  {
   "cell_type": "markdown",
   "metadata": {},
   "source": [
    "# Listen - Was wissen wir noch?"
   ]
  },
  {
   "cell_type": "markdown",
   "metadata": {},
   "source": [
    "## Listen\n",
    "\n",
    "Wiederholung: Listen ermöglichen es dir, direkt mehrere Einträge auf einmal zu speichern. Hier z. B. erfassen wir eine Liste von 4 Studierenden. "
   ]
  },
  {
   "cell_type": "code",
   "execution_count": 3,
   "metadata": {},
   "outputs": [
    {
     "name": "stdout",
     "output_type": "stream",
     "text": [
      "Franziska\n",
      "['Max', 'Monika', 'Erik']\n"
     ]
    }
   ],
   "source": [
    "students = [\"Max\", \"Monika\", \"Erik\", \"Franziska\"]\n",
    "\n",
    "last_student = students.pop()\n",
    "print(last_student)\n",
    "print(students)"
   ]
  },
  {
   "cell_type": "markdown",
   "metadata": {},
   "source": [
    "### Listen Operatoren"
   ]
  },
  {
   "cell_type": "markdown",
   "metadata": {},
   "source": [
    "Über den `+` - Operator kannst du 2 Listen miteinander verknüpfen!"
   ]
  },
  {
   "cell_type": "code",
   "execution_count": 1,
   "metadata": {},
   "outputs": [
    {
     "name": "stdout",
     "output_type": "stream",
     "text": [
      "['Max', 'Monika', 'Erik', 'Franziska', 'ABCDEF']\n"
     ]
    }
   ],
   "source": [
    "students = [\"Max\", \"Monika\", \"Erik\", \"Franziska\"] + [\"ABCDEF\"]\n",
    "print(students)"
   ]
  },
  {
   "cell_type": "code",
   "execution_count": 13,
   "metadata": {},
   "outputs": [
    {
     "name": "stdout",
     "output_type": "stream",
     "text": [
      "['max', 'moritz', 'klajflk', 'gakljk', 'kjlkjklj', 'kljlkjl', 'fritz', 'franzi']\n"
     ]
    }
   ],
   "source": [
    "studenten = [\"max\", 'moritz'] + ['klajflk'] + ['gakljk', 'kjlkjklj']\n",
    "mehr_studenten = ['kljlkjl', 'fritz', 'franzi']\n",
    "alle_studenten = studenten + mehr_studenten\n",
    "studenten.append(\"maxilein\")\n",
    "print(alle_studenten)\n",
    "\n"
   ]
  },
  {
   "cell_type": "markdown",
   "metadata": {},
   "source": [
    "### Elemente an Stelle x aus Listen löschen"
   ]
  },
  {
   "cell_type": "markdown",
   "metadata": {},
   "source": [
    "Der `del` - Befehl entfernt einen Eintrag aus einer Liste. Hierbei wird ein Element mit einem bestimmten Index (hier: 4. Element, weil das 4. Element wird über `[3]` angesprochen, weil ja bei 0 angefangen wird zu zählen)"
   ]
  },
  {
   "cell_type": "code",
   "execution_count": 9,
   "metadata": {},
   "outputs": [
    {
     "name": "stdout",
     "output_type": "stream",
     "text": [
      "['Max', 'Monika', 'Erik', 'ABCDEF']\n"
     ]
    }
   ],
   "source": [
    "students = [\"Max\", \"Monika\", \"Erik\", \"Franziska\", \"ABCDEF\"]\n",
    "del students[3]\n",
    "print(students)"
   ]
  },
  {
   "cell_type": "code",
   "execution_count": 12,
   "metadata": {},
   "outputs": [
    {
     "name": "stdout",
     "output_type": "stream",
     "text": [
      "['max', 'moritz', 'maxilein']\n"
     ]
    }
   ],
   "source": [
    "del studenten[2]\n",
    "print(studenten)"
   ]
  },
  {
   "cell_type": "markdown",
   "metadata": {},
   "source": [
    "### Bestimte Elemente aus der Liste löschen"
   ]
  },
  {
   "cell_type": "markdown",
   "metadata": {},
   "source": [
    "Der `.remove()` - Befehl entfernt einen Eintrag nach Wert. Sprich, hier wird dann der Eintrag \"Monika\" aus der Liste entfernt."
   ]
  },
  {
   "cell_type": "code",
   "execution_count": 12,
   "metadata": {
    "collapsed": true
   },
   "outputs": [],
   "source": [
    "students = [\"Max\", \"Monika\", \"Erik\", \"Franziska\", \"ABCDEF\"]\n",
    "students.remove(\"Monika\")\n",
    "print(students)"
   ]
  },
  {
   "cell_type": "code",
   "execution_count": 14,
   "metadata": {},
   "outputs": [
    {
     "name": "stdout",
     "output_type": "stream",
     "text": [
      "['kljlkjl', 'franzi']\n"
     ]
    }
   ],
   "source": [
    "mehr_studenten.remove('fritz')\n",
    "print(mehr_studenten)"
   ]
  },
  {
   "cell_type": "markdown",
   "metadata": {},
   "source": [
    "## List Comprehensions\n",
    "\n",
    "Mit Hilfe von List Comprehensions kannst du recht einfach eine Liste in eine andere Liste umwandeln. Wir multiplizieren jedes element mit sich selbst. "
   ]
  },
  {
   "cell_type": "code",
   "execution_count": 4,
   "metadata": {},
   "outputs": [
    {
     "name": "stdout",
     "output_type": "stream",
     "text": [
      "[1, 2, 3, 4, 5, 6, 7, 8]\n",
      "[1, 4, 9, 16, 25, 36, 49, 64]\n"
     ]
    }
   ],
   "source": [
    "xs = [1, 2, 3, 4, 5, 6, 7, 8]\n",
    "\n",
    "# Klassisch\n",
    "ys = []\n",
    "for x in xs:\n",
    "    ys.append(x * x)\n",
    "\n",
    "# Als list comprehension\n",
    "ys = [x * x for x in xs]\n",
    "\n",
    "print(xs)\n",
    "print(ys)"
   ]
  },
  {
   "cell_type": "markdown",
   "metadata": {},
   "source": [
    "## Übung \n",
    "Zählt wie viele Buchstaben jeder Name hat als List comprehension."
   ]
  },
  {
   "cell_type": "code",
   "execution_count": 23,
   "metadata": {
    "scrolled": true
   },
   "outputs": [
    {
     "name": "stdout",
     "output_type": "stream",
     "text": [
      "[3, 6, 4, 9]\n"
     ]
    }
   ],
   "source": [
    "students = [\"Max\", \"Monika\", \"Erik\", \"Franziska\"]\n",
    "\n",
    "# Klassisch:\n",
    "lengths = []\n",
    "for student in students:\n",
    "    lengths.append(len(student))\n",
    "\n",
    "print(lengths)"
   ]
  },
  {
   "cell_type": "code",
   "execution_count": 19,
   "metadata": {},
   "outputs": [
    {
     "name": "stdout",
     "output_type": "stream",
     "text": [
      "[3, 6, 4, 9]\n"
     ]
    }
   ],
   "source": [
    "# ich will von jedem student die länge bestimmen\n",
    "\n",
    "lengths = [len(student) for student in students]\n",
    "\n",
    "print(lengths)"
   ]
  },
  {
   "cell_type": "code",
   "execution_count": 25,
   "metadata": {},
   "outputs": [
    {
     "name": "stdout",
     "output_type": "stream",
     "text": [
      "[]\n"
     ]
    }
   ],
   "source": [
    "schreiner = ['mani', 'nahasapimapetilan']\n",
    "schreinerei = []\n",
    "\n",
    "laenge = [len(schreiner) for schreiner in schreinerei]\n",
    "\n",
    "print(laenge)"
   ]
  },
  {
   "cell_type": "markdown",
   "metadata": {},
   "source": [
    "## Listen verschachteln\n",
    "\n",
    "In Python ist es erlaubt, Listen ineinander zu verschachteln. Das erlaubt uns z. B. eine Matrix zu modellieren:"
   ]
  },
  {
   "cell_type": "code",
   "execution_count": 27,
   "metadata": {},
   "outputs": [],
   "source": [
    "liste = [\n",
    "    [\"Berlin\", \"München\", \"Köln\"],\n",
    "    [\"Budapest\", \"Pécs\", \"Sopron\"]\n",
    "]"
   ]
  },
  {
   "cell_type": "code",
   "execution_count": 32,
   "metadata": {},
   "outputs": [
    {
     "data": {
      "text/plain": [
       "'ü'"
      ]
     },
     "execution_count": 32,
     "metadata": {},
     "output_type": "execute_result"
    }
   ],
   "source": [
    "liste[0][1][1]"
   ]
  },
  {
   "cell_type": "markdown",
   "metadata": {},
   "source": [
    "## Übung\n",
    "- Wem schreibt Max briefe?\n",
    "- Geht die Liste durch und prüft wann Max sich an erster Position findet. \n",
    "- Speichert dann die Position an zweiter stelle in Briefpartner."
   ]
  },
  {
   "cell_type": "code",
   "execution_count": 71,
   "metadata": {},
   "outputs": [
    {
     "name": "stdout",
     "output_type": "stream",
     "text": [
      "['Susi', 'Franz', 'Lila']\n",
      "3\n"
     ]
    }
   ],
   "source": [
    "briefpartner_von_max = []\n",
    "\n",
    "liste = [\n",
    "    [\"Max\", \"Susi\"],\n",
    "    [\"Susi\", \"Julia\"],\n",
    "    [\"Julia\", \"Franz\"],\n",
    "    [\"Max\", \"Franz\"],\n",
    "    [\"Franz\", \"Julia\"],\n",
    "    [\"Max\", \"Lila\"]\n",
    "]\n",
    "\n",
    "\n",
    "\n",
    "\n",
    "for briefpartner in liste:\n",
    "    if briefpartner[0] == 'Max':\n",
    "        briefpartner_von_max.append(briefpartner[1])\n",
    "        \n",
    "print(briefpartner_von_max)\n",
    "print(len(briefpartner_von_max))\n",
    "\n",
    "\n",
    "\n",
    "#for ... dein code hier"
   ]
  },
  {
   "cell_type": "code",
   "execution_count": 72,
   "metadata": {},
   "outputs": [],
   "source": [
    "#alternative lösung\n",
    "\n",
    "for brief in liste:\n",
    "    if brief[0] == 'Max':\n",
    "        briefpartner_von_max.append(brief[1])\n"
   ]
  },
  {
   "cell_type": "markdown",
   "metadata": {},
   "source": [
    "## Listen sortieren\n",
    "\n",
    "Oft hast du das Problem, dass du z. B. eine Liste sortieren möchtest. Python stellt hier bereits eine fertige Funktion zur Verfügung. Du kannst mit Python deine Stundenten beliebig sortieren.\n"
   ]
  },
  {
   "cell_type": "code",
   "execution_count": 1,
   "metadata": {},
   "outputs": [
    {
     "name": "stdout",
     "output_type": "stream",
     "text": [
      "['Erik', 'Franziska', 'Max', 'Monika']\n"
     ]
    }
   ],
   "source": [
    "l = [\"Max\", \"Monika\", \"Erik\", \"Franziska\"]\n",
    "l.sort()\n",
    "print(l)"
   ]
  },
  {
   "cell_type": "code",
   "execution_count": 2,
   "metadata": {},
   "outputs": [
    {
     "name": "stdout",
     "output_type": "stream",
     "text": [
      "['Monika', 'Max', 'Franziska', 'Erik']\n"
     ]
    }
   ],
   "source": [
    "l = [\"Max\", \"Monika\", \"Erik\", \"Franziska\"]\n",
    "l.sort(reverse=True)\n",
    "print(l)"
   ]
  },
  {
   "cell_type": "markdown",
   "metadata": {},
   "source": [
    "#### Eine eigene Funktion übergeben"
   ]
  },
  {
   "cell_type": "code",
   "execution_count": 75,
   "metadata": {},
   "outputs": [
    {
     "data": {
      "text/plain": [
       "4"
      ]
     },
     "execution_count": 75,
     "metadata": {},
     "output_type": "execute_result"
    }
   ],
   "source": [
    "def get_leght(item):\n",
    "    return len(item)\n",
    "get_leght('fabi')"
   ]
  },
  {
   "cell_type": "code",
   "execution_count": 106,
   "metadata": {},
   "outputs": [
    {
     "name": "stdout",
     "output_type": "stream",
     "text": [
      "['Max', 'Monika', 'Erik', 'Franziska']\n"
     ]
    }
   ],
   "source": [
    "l = [\"Max\", \"Monika\", \"Erik\", \"Franziska\"]\n",
    "\n",
    "def get_length(item):\n",
    "    return len(item[-1])\n",
    "\n",
    "l.sort(key=get_length) \n",
    "print(l)"
   ]
  },
  {
   "cell_type": "markdown",
   "metadata": {},
   "source": [
    "## Übung \n",
    "Sortiert die Namen so dass sie nicht nach Anfangsbuchstabe, sondern nach Endbuchstabe sortiert sind."
   ]
  },
  {
   "cell_type": "code",
   "execution_count": 107,
   "metadata": {},
   "outputs": [
    {
     "name": "stdout",
     "output_type": "stream",
     "text": [
      "['Monika', 'Franziska', 'Erik', 'Max']\n"
     ]
    }
   ],
   "source": [
    "# definiere funktion get_last_letter ('item' ist wichtig, da sonst nix rein kommt was error macht.\n",
    "\n",
    "\n",
    "\n",
    "l = [\"Max\", \"Monika\", \"Erik\", \"Franziska\"]\n",
    "\n",
    "def get_last_letter(item):   # definiere funktion get_last_letter ('item' ist wichtig, da sonst nix rein kommt was error macht.\n",
    "    return item[-1] # -1 ist definition für letzten buchstaben\n",
    "\n",
    "l.sort(key=get_last_letter) #key= lambda funktion \n",
    "print(l)\n",
    "\n",
    "\n",
    "   \n",
    "\n",
    "\n",
    "\n",
    "\n"
   ]
  },
  {
   "cell_type": "code",
   "execution_count": 89,
   "metadata": {},
   "outputs": [
    {
     "name": "stdout",
     "output_type": "stream",
     "text": [
      "['Max', 'Monika', 'Erik', 'Franziska']\n"
     ]
    }
   ],
   "source": [
    "print(l)"
   ]
  },
  {
   "cell_type": "code",
   "execution_count": 108,
   "metadata": {},
   "outputs": [
    {
     "name": "stdout",
     "output_type": "stream",
     "text": [
      "['Monika', 'Franziska', 'Erik', 'Max']\n"
     ]
    }
   ],
   "source": [
    "l.sort(key=get_last_letter)\n",
    "print(l)\n"
   ]
  },
  {
   "cell_type": "code",
   "execution_count": null,
   "metadata": {},
   "outputs": [],
   "source": []
  }
 ],
 "metadata": {
  "kernelspec": {
   "display_name": "Python 3",
   "language": "python",
   "name": "python3"
  },
  "language_info": {
   "codemirror_mode": {
    "name": "ipython",
    "version": 3
   },
   "file_extension": ".py",
   "mimetype": "text/x-python",
   "name": "python",
   "nbconvert_exporter": "python",
   "pygments_lexer": "ipython3",
   "version": "3.7.4"
  }
 },
 "nbformat": 4,
 "nbformat_minor": 2
}
