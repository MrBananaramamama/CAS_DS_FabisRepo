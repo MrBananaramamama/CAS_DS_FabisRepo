{
 "cells": [
  {
   "cell_type": "markdown",
   "metadata": {},
   "source": [
    "# Regular Expressions \n",
    "Ermöglicht mit sog. \"regulären Ausdrücken\" sehr flexibel, Strings zu durchsuchen."
   ]
  },
  {
   "cell_type": "markdown",
   "metadata": {},
   "source": [
    "#### Modul einbinden"
   ]
  },
  {
   "cell_type": "code",
   "execution_count": 1,
   "metadata": {},
   "outputs": [],
   "source": [
    "import re"
   ]
  },
  {
   "cell_type": "markdown",
   "metadata": {},
   "source": [
    "### Findall"
   ]
  },
  {
   "cell_type": "code",
   "execution_count": 5,
   "metadata": {},
   "outputs": [
    {
     "data": {
      "text/plain": [
       "['30', '4', '2']"
      ]
     },
     "execution_count": 5,
     "metadata": {},
     "output_type": "execute_result"
    }
   ],
   "source": [
    "sentence = \"Habe 30 Hunde, die jeweils 4 Liter Wasser brauchen und 2 kg Nahrung.\"\n",
    "re.findall(\"[0-9]+\", sentence) \n",
    "# alle zahlen von 0 bis 9, die wenigsten ein mal vorkommen, wende es an auf satz 'sentence'\n",
    "# + steht hier für mindestens einmal, ist in der syntax der re regular expressions.\n",
    "#ist alles in text-form, so kann man die zahlen sichtbar machen, suchen. \n",
    "\n",
    "\n",
    "\n"
   ]
  },
  {
   "cell_type": "markdown",
   "metadata": {},
   "source": [
    "### Suche nach Zahlen"
   ]
  },
  {
   "cell_type": "code",
   "execution_count": 8,
   "metadata": {},
   "outputs": [
    {
     "data": {
      "text/plain": [
       "<re.Match object; span=(9, 11), match='30'>"
      ]
     },
     "execution_count": 8,
     "metadata": {},
     "output_type": "execute_result"
    }
   ],
   "source": [
    "sentence = \"Ich habe 30 Hunde, die jeweils 4 Liter Wasser brauchen und 2 kg Nahrung.\"\n",
    "re.search(\"[0-9]+\", sentence)\n",
    "\n"
   ]
  },
  {
   "cell_type": "code",
   "execution_count": 20,
   "metadata": {},
   "outputs": [
    {
     "data": {
      "text/plain": [
       "'30'"
      ]
     },
     "execution_count": 20,
     "metadata": {},
     "output_type": "execute_result"
    }
   ],
   "source": [
    "sentence = \"Ich habe 30 Hunde, die jeweils 4 Liter Wasser brauchen und 2 kg Nahrung.\"\n",
    "re.search(\"[0-9]+\", sentence)[0]\n",
    "\n"
   ]
  },
  {
   "cell_type": "markdown",
   "metadata": {},
   "source": [
    "### Suche nach Zahlen []"
   ]
  },
  {
   "cell_type": "code",
   "execution_count": 16,
   "metadata": {},
   "outputs": [
    {
     "name": "stdout",
     "output_type": "stream",
     "text": [
      "<re.Match object; span=(6, 10), match='1234'>\n",
      "<re.Match object; span=(10, 13), match='123'>\n"
     ]
    }
   ],
   "source": [
    "print(re.search(\"[0123456789]+\", \"Hallo 1234 Hallo\"))\n",
    "print(re.search(\"[0-9]+\", \"Hallooooo 123 Hallo\"))"
   ]
  },
  {
   "cell_type": "markdown",
   "metadata": {},
   "source": [
    "### Suche nach Wörtern"
   ]
  },
  {
   "cell_type": "code",
   "execution_count": 34,
   "metadata": {},
   "outputs": [
    {
     "data": {
      "text/plain": [
       "<_sre.SRE_Match object; span=(6, 9), match='der'>"
      ]
     },
     "execution_count": 34,
     "metadata": {},
     "output_type": "execute_result"
    }
   ],
   "source": [
    "re.search(\"der?\", \"Hallo der Hallo\")"
   ]
  },
  {
   "cell_type": "markdown",
   "metadata": {},
   "source": [
    "### Suche nach Wörtern *"
   ]
  },
  {
   "cell_type": "code",
   "execution_count": 35,
   "metadata": {},
   "outputs": [
    {
     "name": "stdout",
     "output_type": "stream",
     "text": [
      "<re.Match object; span=(6, 8), match='de'>\n",
      "<re.Match object; span=(6, 9), match='der'>\n",
      "<re.Match object; span=(6, 15), match='derrrrrrr'>\n"
     ]
    }
   ],
   "source": [
    "print(re.search(\"der*\", \"Hallo de der Hallo\"))\n",
    "print(re.search(\"der*\", \"Hallo der Hallo\"))\n",
    "print(re.search(\"der*\", \"Hallo derrrrrrro Hallo\"))"
   ]
  },
  {
   "cell_type": "markdown",
   "metadata": {},
   "source": [
    "### Suche nach Wörtern +"
   ]
  },
  {
   "cell_type": "code",
   "execution_count": 37,
   "metadata": {
    "scrolled": true
   },
   "outputs": [
    {
     "name": "stdout",
     "output_type": "stream",
     "text": [
      "None\n",
      "<_sre.SRE_Match object; span=(6, 9), match='der'>\n",
      "<_sre.SRE_Match object; span=(6, 16), match='derrrrrrrr'>\n"
     ]
    }
   ],
   "source": [
    "print(re.search(\"der+\", \"Hallo de Hallo\"))\n",
    "print(re.search(\"der+\", \"Hallo der Hallo\"))\n",
    "print(re.search(\"der+\", \"Hallo derrrrrrrr Hallo\"))"
   ]
  },
  {
   "cell_type": "code",
   "execution_count": 51,
   "metadata": {},
   "outputs": [
    {
     "name": "stdout",
     "output_type": "stream",
     "text": [
      "<re.Match object; span=(171, 173), match='de'>\n"
     ]
    }
   ],
   "source": [
    "text = ('''Wenn sich Kassenpersonal die Finger abschleckt, um besser ein Plasticksäckli greifen zu können, muss man sich keine Sorgen um eine Krankheitsübertragung machen.\n",
    "\n",
    "Eklig finden es trotzdem viele: 23 Prozent der über 6700 Umfragteilnehmer. Weitere 18 Prozent finden es zwar eklig, haben aber keine Angst vor Krankheiten.\n",
    "\n",
    "Bakterien seien überall und das störe sie überhaupt nicht: Dieser Meinung sind 41 Prozent. Und 17 Prozent finden, man könne sich ja danach kurz die Hände waschen. Einige weisen das Kassenpersonal darauf hin, wenn sie so etwas sehen, nämlich ein Prozent.\n",
    "\n",
    "Fast 700 Kommentare sind eingegangen, auch dort lassen sich die verschiedensten Meinungen finden. Eine Auswahl findest du in der Bildstrecke oben.''')\n",
    "\n",
    "print(re.search(\"der*\", text))\n",
    "\n",
    "\n",
    "\n"
   ]
  },
  {
   "cell_type": "code",
   "execution_count": 67,
   "metadata": {
    "scrolled": false
   },
   "outputs": [
    {
     "data": {
      "text/plain": [
       "2"
      ]
     },
     "execution_count": 67,
     "metadata": {},
     "output_type": "execute_result"
    }
   ],
   "source": [
    "text = ('''Wenn sich Kassenpersonal die Finger abschleckt, um besser ein Plasticksäckli greifen zu können, muss man sich keine Sorgen um eine Krankheitsübertragung machen.\n",
    "\n",
    "Eklig finden es trotzdem viele: 23 Prozent der über 6700 Umfragteilnehmer. Weitere 18 Prozent finden es zwar eklig, haben aber keine Angst vor Krankheiten.\n",
    "\n",
    "Bakterien seien überall und das störe sie überhaupt nicht: Dieser Meinung sind 41 Prozent. Und 17 Prozent finden, man könne sich ja danach kurz die Hände waschen. Einige weisen das Kassenpersonal darauf hin, wenn sie so etwas sehen, nämlich ein Prozent.\n",
    "\n",
    "Fast 700 Kommentare sind eingegangen, auch dort lassen sich die verschiedensten Meinungen finden. Eine Auswahl findest du in der Bildstrecke oben.''')\n",
    "\n",
    "zusammen = re.findall('der', text)\n",
    "\n",
    "len(zusammen)"
   ]
  },
  {
   "cell_type": "code",
   "execution_count": 70,
   "metadata": {},
   "outputs": [
    {
     "data": {
      "text/plain": [
       "2"
      ]
     },
     "execution_count": 70,
     "metadata": {},
     "output_type": "execute_result"
    }
   ],
   "source": [
    "len(re.findall('der', text.lower()))\n",
    "# vereinfacht mit .lower drin alles kleingeschrieben.\n"
   ]
  },
  {
   "cell_type": "markdown",
   "metadata": {},
   "source": [
    "#### Weitere Infos:\n",
    "\n",
    "- https://docs.python.org/3.6/library/re.html\n",
    "- http://rubular.com"
   ]
  },
  {
   "cell_type": "markdown",
   "metadata": {},
   "source": [
    "## Übung\n",
    "\n",
    "- Kopiert einen Text aus 20 min. \n",
    "- Wie oft kommt dort das Wort \"der\" vor?"
   ]
  },
  {
   "cell_type": "code",
   "execution_count": 1,
   "metadata": {},
   "outputs": [],
   "source": [
    "# siehe oben!\n",
    "# die pro lösung:"
   ]
  },
  {
   "cell_type": "code",
   "execution_count": 72,
   "metadata": {},
   "outputs": [
    {
     "name": "stdout",
     "output_type": "stream",
     "text": [
      "Wort 'sich' |  Anzahl 4 \n",
      "Wort 'die' |  Anzahl 3 \n",
      "Wort 'Prozent' |  Anzahl 3 \n",
      "Wort 'Kassenpersonal' |  Anzahl 2 \n",
      "Wort 'um' |  Anzahl 2 \n",
      "Wort 'ein' |  Anzahl 2 \n",
      "Wort 'man' |  Anzahl 2 \n",
      "Wort 'keine' |  Anzahl 2 \n",
      "Wort 'finden' |  Anzahl 2 \n",
      "Wort 'es' |  Anzahl 2 \n",
      "Wort 'der' |  Anzahl 2 \n",
      "Wort 'das' |  Anzahl 2 \n",
      "Wort 'sie' |  Anzahl 2 \n",
      "Wort 'sind' |  Anzahl 2 \n",
      "Wort 'Prozent.' |  Anzahl 2 \n",
      "Wort 'Wenn' |  Anzahl 1 \n",
      "Wort 'Finger' |  Anzahl 1 \n",
      "Wort 'abschleckt,' |  Anzahl 1 \n",
      "Wort 'besser' |  Anzahl 1 \n",
      "Wort 'Plasticksäckli' |  Anzahl 1 \n",
      "Wort 'greifen' |  Anzahl 1 \n",
      "Wort 'zu' |  Anzahl 1 \n",
      "Wort 'können,' |  Anzahl 1 \n",
      "Wort 'muss' |  Anzahl 1 \n",
      "Wort 'Sorgen' |  Anzahl 1 \n",
      "Wort 'eine' |  Anzahl 1 \n",
      "Wort 'Krankheitsübertragung' |  Anzahl 1 \n",
      "Wort 'machen.' |  Anzahl 1 \n",
      "Wort 'Eklig' |  Anzahl 1 \n",
      "Wort 'trotzdem' |  Anzahl 1 \n",
      "Wort 'viele:' |  Anzahl 1 \n",
      "Wort '23' |  Anzahl 1 \n",
      "Wort 'über' |  Anzahl 1 \n",
      "Wort '6700' |  Anzahl 1 \n",
      "Wort 'Umfragteilnehmer.' |  Anzahl 1 \n",
      "Wort 'Weitere' |  Anzahl 1 \n",
      "Wort '18' |  Anzahl 1 \n",
      "Wort 'zwar' |  Anzahl 1 \n",
      "Wort 'eklig,' |  Anzahl 1 \n",
      "Wort 'haben' |  Anzahl 1 \n",
      "Wort 'aber' |  Anzahl 1 \n",
      "Wort 'Angst' |  Anzahl 1 \n",
      "Wort 'vor' |  Anzahl 1 \n",
      "Wort 'Krankheiten.' |  Anzahl 1 \n",
      "Wort 'Bakterien' |  Anzahl 1 \n",
      "Wort 'seien' |  Anzahl 1 \n",
      "Wort 'überall' |  Anzahl 1 \n",
      "Wort 'und' |  Anzahl 1 \n",
      "Wort 'störe' |  Anzahl 1 \n",
      "Wort 'überhaupt' |  Anzahl 1 \n",
      "Wort 'nicht:' |  Anzahl 1 \n",
      "Wort 'Dieser' |  Anzahl 1 \n",
      "Wort 'Meinung' |  Anzahl 1 \n",
      "Wort '41' |  Anzahl 1 \n",
      "Wort 'Und' |  Anzahl 1 \n",
      "Wort '17' |  Anzahl 1 \n",
      "Wort 'finden,' |  Anzahl 1 \n",
      "Wort 'könne' |  Anzahl 1 \n",
      "Wort 'ja' |  Anzahl 1 \n",
      "Wort 'danach' |  Anzahl 1 \n",
      "Wort 'kurz' |  Anzahl 1 \n",
      "Wort 'Hände' |  Anzahl 1 \n",
      "Wort 'waschen.' |  Anzahl 1 \n",
      "Wort 'Einige' |  Anzahl 1 \n",
      "Wort 'weisen' |  Anzahl 1 \n",
      "Wort 'darauf' |  Anzahl 1 \n",
      "Wort 'hin,' |  Anzahl 1 \n",
      "Wort 'wenn' |  Anzahl 1 \n",
      "Wort 'so' |  Anzahl 1 \n",
      "Wort 'etwas' |  Anzahl 1 \n",
      "Wort 'sehen,' |  Anzahl 1 \n",
      "Wort 'nämlich' |  Anzahl 1 \n",
      "Wort 'Fast' |  Anzahl 1 \n",
      "Wort '700' |  Anzahl 1 \n",
      "Wort 'Kommentare' |  Anzahl 1 \n",
      "Wort 'eingegangen,' |  Anzahl 1 \n",
      "Wort 'auch' |  Anzahl 1 \n",
      "Wort 'dort' |  Anzahl 1 \n",
      "Wort 'lassen' |  Anzahl 1 \n",
      "Wort 'verschiedensten' |  Anzahl 1 \n",
      "Wort 'Meinungen' |  Anzahl 1 \n",
      "Wort 'finden.' |  Anzahl 1 \n",
      "Wort 'Eine' |  Anzahl 1 \n",
      "Wort 'Auswahl' |  Anzahl 1 \n",
      "Wort 'findest' |  Anzahl 1 \n",
      "Wort 'du' |  Anzahl 1 \n",
      "Wort 'in' |  Anzahl 1 \n",
      "Wort 'Bildstrecke' |  Anzahl 1 \n",
      "Wort 'oben.' |  Anzahl 1 \n"
     ]
    }
   ],
   "source": [
    "mydict = {}\n",
    "for word in text.split():\n",
    "    if word in mydict:\n",
    "        mydict[word] = mydict[word] +1\n",
    "    else:\n",
    "        mydict[word] = 1\n",
    "def mysort(item):\n",
    "    return item[1]\n",
    "for key,value in sorted(mydict.items(), key=mysort, reverse=True):\n",
    "    print(\"Wort '%s' |  Anzahl %s \"  % (key,value))"
   ]
  },
  {
   "cell_type": "code",
   "execution_count": 73,
   "metadata": {},
   "outputs": [
    {
     "name": "stdout",
     "output_type": "stream",
     "text": [
      "The Zen of Python, by Tim Peters\n",
      "\n",
      "Beautiful is better than ugly.\n",
      "Explicit is better than implicit.\n",
      "Simple is better than complex.\n",
      "Complex is better than complicated.\n",
      "Flat is better than nested.\n",
      "Sparse is better than dense.\n",
      "Readability counts.\n",
      "Special cases aren't special enough to break the rules.\n",
      "Although practicality beats purity.\n",
      "Errors should never pass silently.\n",
      "Unless explicitly silenced.\n",
      "In the face of ambiguity, refuse the temptation to guess.\n",
      "There should be one-- and preferably only one --obvious way to do it.\n",
      "Although that way may not be obvious at first unless you're Dutch.\n",
      "Now is better than never.\n",
      "Although never is often better than *right* now.\n",
      "If the implementation is hard to explain, it's a bad idea.\n",
      "If the implementation is easy to explain, it may be a good idea.\n",
      "Namespaces are one honking great idea -- let's do more of those!\n"
     ]
    }
   ],
   "source": [
    "import this"
   ]
  },
  {
   "cell_type": "code",
   "execution_count": 76,
   "metadata": {},
   "outputs": [],
   "source": []
  },
  {
   "cell_type": "code",
   "execution_count": null,
   "metadata": {},
   "outputs": [],
   "source": []
  }
 ],
 "metadata": {
  "kernelspec": {
   "display_name": "Python 3",
   "language": "python",
   "name": "python3"
  },
  "language_info": {
   "codemirror_mode": {
    "name": "ipython",
    "version": 3
   },
   "file_extension": ".py",
   "mimetype": "text/x-python",
   "name": "python",
   "nbconvert_exporter": "python",
   "pygments_lexer": "ipython3",
   "version": "3.7.4"
  }
 },
 "nbformat": 4,
 "nbformat_minor": 2
}
