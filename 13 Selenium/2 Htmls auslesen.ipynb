{
 "cells": [
  {
   "cell_type": "markdown",
   "metadata": {},
   "source": [
    "## Imports"
   ]
  },
  {
   "cell_type": "code",
   "execution_count": 1,
   "metadata": {},
   "outputs": [],
   "source": [
    "from bs4 import BeautifulSoup\n",
    "import pandas as pd\n",
    "import time\n",
    "import os\n",
    "import re\n",
    "from tqdm import tqdm"
   ]
  },
  {
   "cell_type": "markdown",
   "metadata": {},
   "source": [
    "Liste aller HTMLs"
   ]
  },
  {
   "cell_type": "code",
   "execution_count": 14,
   "metadata": {},
   "outputs": [],
   "source": [
    "lst = sorted(os.listdir('pages'))"
   ]
  },
  {
   "cell_type": "code",
   "execution_count": 15,
   "metadata": {},
   "outputs": [
    {
     "data": {
      "text/plain": [
       "36"
      ]
     },
     "execution_count": 15,
     "metadata": {},
     "output_type": "execute_result"
    }
   ],
   "source": [
    "len(lst)"
   ]
  },
  {
   "cell_type": "code",
   "execution_count": 16,
   "metadata": {},
   "outputs": [
    {
     "data": {
      "text/plain": [
       "'page.htm'"
      ]
     },
     "execution_count": 16,
     "metadata": {},
     "output_type": "execute_result"
    }
   ],
   "source": [
    "lst[0]"
   ]
  },
  {
   "cell_type": "code",
   "execution_count": 17,
   "metadata": {},
   "outputs": [
    {
     "data": {
      "text/plain": [
       "['page.htm',\n",
       " 'page0.htm',\n",
       " 'page1.htm',\n",
       " 'page10.htm',\n",
       " 'page11.htm',\n",
       " 'page12.htm',\n",
       " 'page13.htm',\n",
       " 'page14.htm',\n",
       " 'page15.htm',\n",
       " 'page16.htm',\n",
       " 'page17.htm',\n",
       " 'page18.htm',\n",
       " 'page19.htm',\n",
       " 'page2.htm',\n",
       " 'page20.htm',\n",
       " 'page21.htm',\n",
       " 'page22.htm',\n",
       " 'page23.htm',\n",
       " 'page24.htm',\n",
       " 'page25.htm',\n",
       " 'page26.htm',\n",
       " 'page27.htm',\n",
       " 'page28.htm',\n",
       " 'page29.htm',\n",
       " 'page3.htm',\n",
       " 'page30.htm',\n",
       " 'page31.htm',\n",
       " 'page32.htm',\n",
       " 'page33.htm',\n",
       " 'page34.htm',\n",
       " 'page4.htm',\n",
       " 'page5.htm',\n",
       " 'page6.htm',\n",
       " 'page7.htm',\n",
       " 'page8.htm',\n",
       " 'page9.htm']"
      ]
     },
     "execution_count": 17,
     "metadata": {},
     "output_type": "execute_result"
    }
   ],
   "source": [
    "lst"
   ]
  },
  {
   "cell_type": "code",
   "execution_count": 22,
   "metadata": {},
   "outputs": [
    {
     "data": {
      "text/plain": [
       "'<html class=\"js flexbox flexboxlegacy canvas canvastext webgl no-touch geolocation postmessage websqldatabase indexeddb hashchange history draganddrop websockets rgba hsla multiplebgs backgroundsize borderimage borderradius boxshadow textshadow opacity cssanimations csscolumns cssgradients cssreflections csstransforms csstransforms3d csstransitions fontface generatedcontent video audio localstorage sessionstorage webworkers applicationcache svg inlinesvg smil svgclippaths ng-scope Chrome-77\" ng-app=\"zefixWebApp\"><!--<![endif]--><head><style type=\"text/css\">[uib-typeahead-popup].dropdown-menu{display:block;}</style><style type=\"text/css\">.uib-time input{width:50px;}</style><style type=\"text/css\">[uib-tooltip-popup].tooltip.top-left > .tooltip-arrow,[uib-tooltip-popup].tooltip.top-right > .tooltip-arrow,[uib-tooltip-popup].tooltip.bottom-left > .tooltip-arrow,[uib-tooltip-popup].tooltip.bottom-right > .tooltip-arrow,[uib-tooltip-popup].tooltip.left-top > .tooltip-arrow,[uib-tooltip-popup].tooltip.left-bottom > .tooltip-arrow,[uib-tooltip-popup].tooltip.right-top > .tooltip-arrow,[uib-tooltip-popup].tooltip.right-bottom > .tooltip-arrow,[uib-tooltip-html-popup].tooltip.top-left > .tooltip-arrow,[uib-tooltip-html-popup].tooltip.top-right > .tooltip-arrow,[uib-tooltip-html-popup].tooltip.bottom-left > .tooltip-arrow,[uib-tooltip-html-popup].tooltip.bottom-right > .tooltip-arrow,[uib-tooltip-html-popup].tooltip.left-top > .tooltip-arrow,[uib-tooltip-html-popup].tooltip.left-bottom > .tooltip-arrow,[uib-tooltip-html-popup].tooltip.right-top > .tooltip-arrow,[uib-tooltip-html-popup].tooltip.right-bottom > .tooltip-arrow,[uib-tooltip-template-popup].tooltip.top-left > .tooltip-arrow,[uib-tooltip-template-popup].tooltip.top-right > .tooltip-arrow,[uib-tooltip-template-popup].tooltip.bottom-left > .tooltip-arrow,[uib-tooltip-template-popup].tooltip.bottom-right > .tooltip-arrow,[uib-tooltip-template-popup].tooltip.left-top > .tooltip-arrow,[uib-tooltip-template-popup].tooltip.left-bottom > .tooltip-arrow,[uib-tooltip-template-popup].tooltip.right-top > .tooltip-arrow,[uib-tooltip-template-popup].tooltip.right-bottom > .tooltip-arrow,[uib-popover-popup].popover.top-left > .arrow,[uib-popover-popup].popover.top-right > .arrow,[uib-popover-popup].popover.bottom-left > .arrow,[uib-popover-popup].popover.bottom-right > .arrow,[uib-popover-popup].popover.left-top > .arrow,[uib-popover-popup].popover.left-bottom > .arrow,[uib-popover-popup].popover.right-top > .arrow,[uib-popover-popup].popover.right-bottom > .arrow,[uib-popover-html-popup].popover.top-left > .arrow,[uib-popover-html-popup].popover.top-right > .arrow,[uib-popover-html-popup].popover.bottom-left > .arrow,[uib-popover-html-popup].popover.bottom-right > .arrow,[uib-popover-html-popup].popover.left-top > .arrow,[uib-popover-html-popup].popover.left-bottom > .arrow,[uib-popover-html-popup].popover.right-top > .arrow,[uib-popover-html-popup].popover.right-bottom > .arrow,[uib-popover-template-popup].popover.top-left > .arrow,[uib-popover-template-popup].popover.top-right > .arrow,[uib-popover-template-popup].popover.bottom-left > .arrow,[uib-popover-template-popup].popover.bottom-right > .arrow,[uib-popover-template-popup].popover.left-top > .arrow,[uib-popover-template-popup].popover.left-bottom > .arrow,[uib-popover-template-popup].popover.right-top > .arrow,[uib-popover-template-popup].popover.right-bottom > .arrow{top:auto;bottom:auto;left:auto;right:auto;margin:0;}[uib-popover-popup].popover,[uib-popover-html-popup].popover,[uib-popover-template-popup].popover{display:block !important;}</style><style type=\"text/css\">.uib-datepicker-popup.dropdown-menu{display:block;float:none;margin:0;}.uib-button-bar{padding:10px 9px 2px;}</style><style type=\"text/css\">.uib-position-measure{display:block !important;visibility:hidden !important;position:absolute !important;top:-9999px !important;left:-9999px !important;}.uib-position-scrollbar-measure{position:absolute !important;top:-9999px !important;width:50px !important;height:50px !important;overflow:scroll !important;}.uib-position-body-scrollbar-measure{overflow:scroll !important;}</style><style type=\"text/css\">.uib-datepicker .uib-title{width:100%;}.uib-day button,.uib-month button,.uib-year button{min-width:100%;}.uib-left,.uib-right{width:100%}</style><style type=\"text/css\">.ng-animate.item:not(.left):not(.right){-webkit-transition:0s ease-in-out left;transition:0s ease-in-out left}</style><style type=\"text/css\">@charset \"UTF-8\";[ng\\\\:cloak],[ng-cloak],[data-ng-cloak],[x-ng-cloak],.ng-cloak,.x-ng-cloak,.ng-hide:not(.ng-hide-animate){display:none !important;}ng\\\\:form{display:block;}.ng-animate-shim{visibility:hidden;}.ng-anchor{position:absolute;}</style>\\n    <meta charset=\"utf-8\">\\n    <meta http-equiv=\"x-ua-compatible\" content=\"ie=edge\">\\n    <base href=\"/\">\\n    <title>Zefix - Central Business Name Index - Search business name</title>\\n    <meta name=\"description\" content=\"\">\\n    <meta name=\"apple-mobile-web-app-title\" content=\"Zefix\">\\n    <meta name=\"application-name\" content=\"Zefix\">\\n    <meta name=\"viewport\" content=\"width=device-width\">\\n\\n    <meta name=\"viewport\" content=\"width=device-width, initial-scale=1.0, maximum-scale=1.0, user-scalable=no\">\\n    <meta name=\"apple-mobile-web-app-capable\" content=\"yes\">\\n    <meta name=\"apple-mobile-web-app-status-bar-style\" content=\"black-translucent\">\\n\\n    <meta name=\"HandheldFriendly\" content=\"true\">\\n\\n    <link href=\"/xml/opensearch.xml\" rel=\"search\" title=\"Zefix Search\" type=\"application/opensearchdescription+xml\">\\n\\n    <script type=\"text/javascript\" async=\"\" defer=\"\" src=\"https://analytics.zefixapp.ch/piwik/piwik.js\"></script><script type=\"application/ld+json\">\\n{\\n   \"@context\": \"http://schema.org\",\\n   \"@type\": \"WebSite\",\\n   \"url\": \"https://www.zefix.ch/\",\\n   \"potentialAction\": {\\n     \"@type\": \"SearchAction\",\\n     \"target\": \"https://www.zefix.ch/global/search/entity/list?name={search_term_string}&searchType=exact\",\\n     \"query-input\": \"required name=search_term_string\"\\n   }\\n}\\n    </script>\\n\\n    <link rel=\"manifest\" href=\"/manifest.json\">\\n\\n    <link rel=\"shortcut icon\" href=\"favicon.ico\">\\n    <link rel=\"apple-touch-icon\" sizes=\"57x57\" href=\"assets/ico/apple-touch-icon-57x57.png\">\\n    <link rel=\"apple-touch-icon\" sizes=\"114x114\" href=\"assets/ico/apple-touch-icon-114x114.png\">\\n    <link rel=\"apple-touch-icon\" sizes=\"72x72\" href=\"assets/ico/apple-touch-icon-72x72.png\">\\n    <link rel=\"apple-touch-icon\" sizes=\"144x144\" href=\"assets/ico/apple-touch-icon-144x144.png\">\\n    <link rel=\"apple-touch-icon\" sizes=\"60x60\" href=\"assets/ico/apple-touch-icon-60x60.png\">\\n    <link rel=\"apple-touch-icon\" sizes=\"120x120\" href=\"assets/ico/apple-touch-icon-120x120.png\">\\n    <link rel=\"apple-touch-icon\" sizes=\"76x76\" href=\"assets/ico/apple-touch-icon-76x76.png\">\\n    <link rel=\"icon\" type=\"image/png\" href=\"assets/ico/favicon-96x96.png\" sizes=\"96x96\">\\n    <link rel=\"icon\" type=\"image/png\" href=\"assets/ico/favicon-16x16.png\" sizes=\"16x16\">\\n    <link rel=\"icon\" type=\"image/png\" href=\"assets/ico/favicon-32x32.png\" sizes=\"32x32\">\\n    <meta name=\"msapplication-TileColor\" content=\"#ffffff\">\\n    <meta name=\"msapplication-TileImage\" content=\"assets/ico/mstile-144x144.png\">\\n    <meta name=\"msapplication-config\" content=\"assets/ico/browserconfig.xml\">\\n\\n\\n    <meta name=\"theme-color\" content=\"#DC0018\">\\n    <meta name=\"msapplication-navbutton-color\" content=\"#DC0018\">\\n    <meta name=\"apple-mobile-web-app-status-bar-style\" content=\"#DC0018\">\\n\\n    <!-- Place favicon.ico and apple-touch-icon.png in the root directory -->\\n    <link rel=\"stylesheet\" href=\"app/vendor.d1255d17.css\">\\n    <link rel=\"stylesheet\" href=\"app/app.cf39c3d9.css\">\\n  </head>\\n  <body>\\n    <!--[if lt IE 7]>\\n      <p class=\"browserupgrade\">You are using an <strong>outdated</strong> browser. Please <a href=\"http://browsehappy.com/\">upgrade your browser</a> to improve your experience.</p>\\n    <![endif]-->\\n\\n    <!-- Add your site or application content here -->\\n\\n    <!-- uiView: --><div class=\"zefix-app ng-scope\" ui-view=\"\"><div id=\"top\" ng-class=\"{container: !app.layout.fluid, \\'container-fluid\\': app.layout.fluid, \\'two-column-layout\\': app.layout.twoCol, \\'one-column-layout\\': !app.layout.twoCol}\" class=\"container-main ng-scope container one-column-layout\"><header><div class=\"zefix-page-header hidden-xs hidden-print\"><div class=\"header-content\"><section class=\"nav-services language-selection clearfix\"><h2 class=\"sr-only\">Language selection</h2><nav class=\"settings\"><h2 class=\"sr-only\">Service Navigation</h2><ul><li ng-click=\"app.layout.showSettings=true\"><span ng-class=\"app.layout.showSettings ? \\'active\\' : \\'\\'\" class=\"app-setting-btn glyphicon glyphicon-cog pull-right\"></span></li></ul><!-- ngIf: app.layout.showSettings --></nav><nav class=\"nav-lang\"><ul><!-- ngRepeat: language in app.languages --><li ng-repeat=\"language in app.languages\" class=\"ng-scope\"><a ng-class=\"{active: isActiveLanguage(language)}\" ng-click=\"changeLanguage(language)\" class=\"ng-binding\">DE</a></li><!-- end ngRepeat: language in app.languages --><li ng-repeat=\"language in app.languages\" class=\"ng-scope\"><a ng-class=\"{active: isActiveLanguage(language)}\" ng-click=\"changeLanguage(language)\" class=\"ng-binding\">FR</a></li><!-- end ngRepeat: language in app.languages --><li ng-repeat=\"language in app.languages\" class=\"ng-scope\"><a ng-class=\"{active: isActiveLanguage(language)}\" ng-click=\"changeLanguage(language)\" class=\"ng-binding\">IT</a></li><!-- end ngRepeat: language in app.languages --><li ng-repeat=\"language in app.languages\" class=\"ng-scope\"><a ng-class=\"{active: isActiveLanguage(language)}\" ng-click=\"changeLanguage(language)\" class=\"ng-binding active\">EN</a></li><!-- end ngRepeat: language in app.languages --></ul></nav></section></div><div><div class=\"header-title\"><h2 class=\"ng-binding\">Zefix – Central Business Name Index</h2></div><a ui-sref=\"search.welcome({type: \\'entity\\'})\" href=\"/en/search/entity/welcome\"><img src=\"assets/images/logo-CH.svg\" alt=\"The Federal Authorities of the Swiss Confederation, www.admin.ch\" onerror=\"this.onerror=null; this.src=\\'images/logo-CH.png\\'\"></a></div></div></header><navbar><div ng-controller=\"NavbarController\" role=\"navigation\" class=\"navbar nav-main yamm hidden-print ng-scope\"><section class=\"nav-mobile\"><div class=\"table-row\"><div class=\"table-cell\"><a ng-click=\"back()\" class=\"nav-mobile-menu\"><span class=\"icon icon--arrow-left\"></span></a></div><div class=\"nav-mobile-header\"><div class=\"table-row\"><span class=\"nav-mobile-logo\"><a ui-sref=\"search.welcome({type: \\'entity\\'})\" href=\"/en/search/entity/welcome\"><img src=\"assets/images/swiss.svg\" onerror=\"this.onerror=null; this.src=\\'img/swiss.png\\'\" alt=\"Confederatio Helvetica\"></a></span><h1><a ui-sref=\"search.welcome({type: \\'entity\\'})\" href=\"/en/search/entity/welcome\">Zefix Suche</a></h1></div></div><div class=\"table-cell dropdown\"><a href=\"#\" data-toggle=\"dropdown\" aria-haspopup=\"true\" aria-expanded=\"false\" ng-click=\"mobileMenu.mobileMenuExpanded = !mobileMenu.mobileMenuExpanded\" class=\"nav-mobile-menu dropdown-toggle\"><span class=\"icon icon--menu\"></span></a><div role=\"menu\" ng-show=\"mobileMenu.mobileMenuExpanded\" class=\"zefix-mobile-menu-dropdown dropdown-menu ng-hide\"><div><nav class=\"nav-page-list\"><ul role=\"menu\"><!-- ngRepeat: link in nav.menu --><li ng-repeat=\"link in nav.menu\" role=\"presentation\" ng-class=\"{ \\'hidden-xs\\': link.hideOnMobile, active: isActive(link) }\" class=\"ng-scope active\"><!--a( role=\"menuitem\" ui-sref=\"{{getSref(link)}}\" ng-click=\"mobileMenu.mobileMenuExpanded = false\") {{ link.translationKey | translate }}--><!-- ngIf: link.href --><!-- ngIf: !link.href --><a ng-if=\"!link.href\" ui-sref=\"search.welcome({&quot;type&quot;:&quot;entity&quot;})\" ng-click=\"mobileMenu.mobileMenuExpanded = !mobileMenu.mobileMenuExpanded\" class=\"ng-binding ng-scope\" href=\"/en/search/entity/welcome\">Search of a business name</a><!-- end ngIf: !link.href --></li><!-- end ngRepeat: link in nav.menu --><li ng-repeat=\"link in nav.menu\" role=\"presentation\" ng-class=\"{ \\'hidden-xs\\': link.hideOnMobile, active: isActive(link) }\" class=\"ng-scope\"><!--a( role=\"menuitem\" ui-sref=\"{{getSref(link)}}\" ng-click=\"mobileMenu.mobileMenuExpanded = false\") {{ link.translationKey | translate }}--><!-- ngIf: link.href --><!-- ngIf: !link.href --><a ng-if=\"!link.href\" ui-sref=\"search.welcome({&quot;type&quot;:&quot;shab&quot;})\" ng-click=\"mobileMenu.mobileMenuExpanded = !mobileMenu.mobileMenuExpanded\" class=\"ng-binding ng-scope\" href=\"/en/search/shab/welcome\">SOGC search</a><!-- end ngIf: !link.href --></li><!-- end ngRepeat: link in nav.menu --><li ng-repeat=\"link in nav.menu\" role=\"presentation\" ng-class=\"{ \\'hidden-xs\\': link.hideOnMobile, active: isActive(link) }\" class=\"ng-scope\"><!--a( role=\"menuitem\" ui-sref=\"{{getSref(link)}}\" ng-click=\"mobileMenu.mobileMenuExpanded = false\") {{ link.translationKey | translate }}--><!-- ngIf: link.href --><!-- ngIf: !link.href --><a ng-if=\"!link.href\" ui-sref=\"hra({})\" ng-click=\"mobileMenu.mobileMenuExpanded = !mobileMenu.mobileMenuExpanded\" class=\"ng-binding ng-scope\" href=\"/en/hra\">Registries of commerce</a><!-- end ngIf: !link.href --></li><!-- end ngRepeat: link in nav.menu --><li ng-repeat=\"link in nav.menu\" role=\"presentation\" ng-class=\"{ \\'hidden-xs\\': link.hideOnMobile, active: isActive(link) }\" class=\"ng-scope hidden-xs\"><!--a( role=\"menuitem\" ui-sref=\"{{getSref(link)}}\" ng-click=\"mobileMenu.mobileMenuExpanded = false\") {{ link.translationKey | translate }}--><!-- ngIf: link.href --><!-- ngIf: !link.href --><a ng-if=\"!link.href\" ui-sref=\"localities({})\" ng-click=\"mobileMenu.mobileMenuExpanded = !mobileMenu.mobileMenuExpanded\" class=\"ng-binding ng-scope\" href=\"/en/localities\">Localities</a><!-- end ngIf: !link.href --></li><!-- end ngRepeat: link in nav.menu --><li ng-repeat=\"link in nav.menu\" role=\"presentation\" ng-class=\"{ \\'hidden-xs\\': link.hideOnMobile, active: isActive(link) }\" class=\"ng-scope\"><!--a( role=\"menuitem\" ui-sref=\"{{getSref(link)}}\" ng-click=\"mobileMenu.mobileMenuExpanded = false\") {{ link.translationKey | translate }}--><!-- ngIf: link.href --><a ng-if=\"link.href\" ng-href=\"https://ehra.fenceit.ch/\" ng-attr-target=\"{{link.target}}\" class=\"ng-binding ng-scope\" href=\"https://ehra.fenceit.ch/\" target=\"_blank\">Publications FRC</a><!-- end ngIf: link.href --><!-- ngIf: !link.href --></li><!-- end ngRepeat: link in nav.menu --><li ng-repeat=\"link in nav.menu\" role=\"presentation\" ng-class=\"{ \\'hidden-xs\\': link.hideOnMobile, active: isActive(link) }\" class=\"ng-scope\"><!--a( role=\"menuitem\" ui-sref=\"{{getSref(link)}}\" ng-click=\"mobileMenu.mobileMenuExpanded = false\") {{ link.translationKey | translate }}--><!-- ngIf: link.href --><!-- ngIf: !link.href --><a ng-if=\"!link.href\" ui-sref=\"contact({})\" ng-click=\"mobileMenu.mobileMenuExpanded = !mobileMenu.mobileMenuExpanded\" class=\"ng-binding ng-scope\" href=\"/en/contact\">Contact</a><!-- end ngIf: !link.href --></li><!-- end ngRepeat: link in nav.menu --><li></li><li class=\"langguage-selection-mobile\"><h4 class=\"ng-binding\">selection of language</h4><ul><li><a ui-sref=\".({ language:\\'de\\' })\" class=\"ng-binding\" href=\"/de\">german</a></li><li><a ui-sref=\".({ language:\\'fr\\' })\" class=\"ng-binding\" href=\"/fr\">french</a></li><li><a ui-sref=\".({ language:\\'it\\' })\" class=\"ng-binding\" href=\"/it\">italian</a></li><li><a ui-sref=\".({ language:\\'en\\' })\" class=\"ng-binding\" href=\"/en\">english</a></li></ul></li></ul><a class=\"yamm-close-bottom\"></a></nav></div></div></div><!--.table-cell.dropdowna.nav-mobile-menu(href=\"#\" ng-click=\"app.layout.toggleMobileState()\")\\n  span.icon.icon--search\\n--></div></section><ul role=\"navigation\" class=\"nav navbar-nav\"><!-- ngRepeat: link in nav.menu --><li ng-repeat=\"link in nav.menu\" ng-class=\"isActive(link) ? \\'active\\' : \\'\\'\" class=\"dropdown yam-fw ng-scope active\"><!-- ngIf: link.href --><!-- ngIf: !link.href --><a ng-if=\"!link.href\" ui-sref=\"search.welcome({&quot;type&quot;:&quot;entity&quot;})\" class=\"ng-binding ng-scope\" href=\"/en/search/entity/welcome\">Search of a business name</a><!-- end ngIf: !link.href --></li><!-- end ngRepeat: link in nav.menu --><li ng-repeat=\"link in nav.menu\" ng-class=\"isActive(link) ? \\'active\\' : \\'\\'\" class=\"dropdown yam-fw ng-scope\"><!-- ngIf: link.href --><!-- ngIf: !link.href --><a ng-if=\"!link.href\" ui-sref=\"search.welcome({&quot;type&quot;:&quot;shab&quot;})\" class=\"ng-binding ng-scope\" href=\"/en/search/shab/welcome\">SOGC search</a><!-- end ngIf: !link.href --></li><!-- end ngRepeat: link in nav.menu --><li ng-repeat=\"link in nav.menu\" ng-class=\"isActive(link) ? \\'active\\' : \\'\\'\" class=\"dropdown yam-fw ng-scope\"><!-- ngIf: link.href --><!-- ngIf: !link.href --><a ng-if=\"!link.href\" ui-sref=\"hra({})\" class=\"ng-binding ng-scope\" href=\"/en/hra\">Registries of commerce</a><!-- end ngIf: !link.href --></li><!-- end ngRepeat: link in nav.menu --><li ng-repeat=\"link in nav.menu\" ng-class=\"isActive(link) ? \\'active\\' : \\'\\'\" class=\"dropdown yam-fw ng-scope\"><!-- ngIf: link.href --><!-- ngIf: !link.href --><a ng-if=\"!link.href\" ui-sref=\"localities({})\" class=\"ng-binding ng-scope\" href=\"/en/localities\">Localities</a><!-- end ngIf: !link.href --></li><!-- end ngRepeat: link in nav.menu --><li ng-repeat=\"link in nav.menu\" ng-class=\"isActive(link) ? \\'active\\' : \\'\\'\" class=\"dropdown yam-fw ng-scope\"><!-- ngIf: link.href --><a ng-if=\"link.href\" ng-href=\"https://ehra.fenceit.ch/\" ng-attr-target=\"{{link.target}}\" class=\"ng-binding ng-scope\" href=\"https://ehra.fenceit.ch/\" target=\"_blank\">Publications FRC</a><!-- end ngIf: link.href --><!-- ngIf: !link.href --></li><!-- end ngRepeat: link in nav.menu --><li ng-repeat=\"link in nav.menu\" ng-class=\"isActive(link) ? \\'active\\' : \\'\\'\" class=\"dropdown yam-fw ng-scope\"><!-- ngIf: link.href --><!-- ngIf: !link.href --><a ng-if=\"!link.href\" ui-sref=\"contact({})\" class=\"ng-binding ng-scope\" href=\"/en/contact\">Contact</a><!-- end ngIf: !link.href --></li><!-- end ngRepeat: link in nav.menu --></ul></div></navbar><div ng-class=\"{container: !app.layout.fluid, \\'container-fluid\\': app.layout.fluid}\" class=\"container-content container\"><!-- uiView: --><div ui-view=\"\" keep-scroll-pos=\"keep-scroll-pos\" class=\"ng-scope\"><div class=\"content-wrapper ng-scope\"><div id=\"form-container\" ng-class=\"{&quot;col-md-4&quot;: app.layout.twoCol, &quot;col-lg-3&quot;: app.layout.twoCol, &quot;col-md-12&quot;: !app.layout.twoCol}\" ng-hide=\"!app.layout.areTabsVisible()\" class=\"col-md-12\"><!-- uiView: tabs --><div ui-view=\"tabs\" ng-hide=\"$searchCtrl.hideForm()\" class=\"hidden-print ng-scope\"><form name=\"zefixForm\" ng-submit=\"$searchCtrl.search()\" ng-class=\"app.layout.advancedSearch ? \\'advanced-search\\':\\'simple-search\\'\" class=\"ng-pristine ng-valid ng-scope simple-search\"><div ng-class=\"{container: !app.layout.twoCol, \\'\\': app.layout.twoCol}\" class=\"container\"><div class=\"row\"><div ng-class=\"!app.layout.twoCol ? \\'col-md-6 col-md-offset-3\\':\\'\\'\" class=\"form-column col-md-6 col-md-offset-3\"><div form-field=\"name\" template=\"form-fields/name.html\" action=\"search\" class=\"form-field ng-isolate-scope\"><fieldset ng-class=\"formfield[searchType] &amp;&amp; (formfield.basic || app.advancedSearch) ? \\'\\' : \\'hidden\\'\"><legend class=\"hidden-legend ng-binding\">business name or UID</legend><label class=\"control-label ng-binding\">business name or UID</label><span ng-show=\"loadingEntityNames\" class=\"pull-right ng-hide\"><span class=\"glyphicon glyphicon-refresh icon--spin\"></span></span><div class=\"name-field-input-wrapper\"><span ng-show=\"formfield.value\" ng-click=\"formfield.value = \\'\\'\" class=\"clear-search-icon glyphicon glyphicon-remove pull-right\"></span><input id=\"firm-name-fomfield\" type=\"search\" ng-model=\"formfield.value\" uib-typeahead=\"suggestion for suggestion in refreshEntityNameOptions()\" typeahead-loading=\"loadingEntityNames\" typeahead-show-hint=\"false\" typeahead-min-length=\"3\" typeahead-no-result=\"\\'kein treffer\\'\" typeahead-wait-ms=\"300\" typeahead-on-select=\"selectEntityNameOption($item, this)\" typeahead-focus-first=\"false\" typeahead-is-open=\"entityNameFocus\" ng-keypress=\"onKeypress($event, this)\" ng-blur=\"onBlur($event, this)\" ng-focus=\"onFocus($event, this)\" autofocus=\"\" autocomplete=\"off\" class=\"form-control ng-pristine ng-valid ng-not-empty ng-touched\" aria-autocomplete=\"list\" aria-expanded=\"false\" aria-owns=\"typeahead-203-1583\"><ul class=\"dropdown-menu ng-isolate-scope ng-hide\" ng-show=\"isOpen() &amp;&amp; !moveInProgress\" ng-style=\"{top: position().top+\\'px\\', left: position().left+\\'px\\'}\" role=\"listbox\" aria-hidden=\"true\" uib-typeahead-popup=\"\" id=\"typeahead-203-1583\" matches=\"matches\" active=\"activeIdx\" select=\"select(activeIdx, evt)\" move-in-progress=\"moveInProgress\" query=\"query\" position=\"position\" assign-is-open=\"assignIsOpen(isOpen)\" debounce=\"debounceUpdate\">\\n    <!-- ngRepeat: match in matches track by $index -->\\n</ul></div></fieldset></div><!-- ngIf: !app.layout.advancedSearch --><div ng-if=\"!app.layout.advancedSearch\" form-field=\"searchType\" template=\"form-fields/searchType.html\" class=\"form-field checkbox-field col-xs-12 ng-scope ng-isolate-scope\"><fieldset ng-class=\"formfield[searchType] &amp;&amp; (formfield.basic || app.advancedSearch) ? \\'\\' : \\'hidden\\'\"><legend class=\"hidden-legend ng-binding\">exact search</legend><div class=\"checkbox checkbox--left\"><label uib-tooltip=\"Activated: Begins exactly with the given search parameters. Not activated: The search parameters can appear as single terms anywhere in the business name. For searching for business names which include a character string please use the wildcard * (ex. *mi\" tooltip-placement=\"auto bottom\"><input type=\"checkbox\" ng-model=\"formfield.value\" ng-true-value=\"\\'exact\\'\" ng-false-value=\"\\'\\'\" class=\"ng-pristine ng-untouched ng-valid ng-not-empty\"><span class=\"ng-binding\">exact search</span></label></div></fieldset></div><!-- end ngIf: !app.layout.advancedSearch --><div form-field=\"publicationDate\" template=\"form-fields/date.html\" ng-class=\"app.layout.twoCol ? \\'col-xs-12\\':\\'col-xs-6\\'\" class=\"form-field ng-isolate-scope col-xs-6\"><fieldset ng-class=\"formfield[searchType] &amp;&amp; (formfield.basic || app.advancedSearch) ? \\'\\' : \\'hidden\\'\" class=\"hidden\"><legend class=\"hidden-legend ng-binding\">date of publication since</legend><label class=\"control-label ng-binding\">date of publication since</label><div><input pikaday=\"pikadayDate\" ng-model=\"formfield.value\" min-date=\"minDate\" max-date=\"maxDate\" class=\"ng-pristine ng-untouched ng-valid ng-isolate-scope form-control ng-empty\"></div></fieldset></div><div form-field=\"publicationDateEnd\" template=\"form-fields/date.html\" ng-class=\"app.layout.twoCol ? \\'col-xs-12\\':\\'col-xs-6\\'\" class=\"form-field ng-isolate-scope col-xs-6\"><fieldset ng-class=\"formfield[searchType] &amp;&amp; (formfield.basic || app.advancedSearch) ? \\'\\' : \\'hidden\\'\" class=\"hidden\"><legend class=\"hidden-legend ng-binding\">date of publication until</legend><label class=\"control-label ng-binding\">date of publication until</label><div><input pikaday=\"pikadayDate\" ng-model=\"formfield.value\" min-date=\"minDate\" max-date=\"maxDate\" class=\"ng-pristine ng-untouched ng-valid ng-isolate-scope form-control ng-empty\"></div></fieldset></div><div form-field=\"publicationNumber\" template=\"form-fields/number.html\" ng-class=\"app.layout.twoCol ? \\'col-xs-12\\':\\'col-xs-6\\'\" class=\"form-field ng-isolate-scope col-xs-6\"><fieldset ng-class=\"formfield[searchType] &amp;&amp; (formfield.basic || app.advancedSearch) ? \\'\\' : \\'hidden\\'\" class=\"hidden\"><legend class=\"hidden-legend ng-binding\">publication number</legend><label class=\"control-label ng-binding\">publication number</label><input type=\"number\" ng-model=\"formfield.value\" class=\"form-control ng-pristine ng-untouched ng-valid ng-empty\"></fieldset></div><div form-field=\"registryOffices\" template=\"form-fields/select-single.html\" ng-class=\"app.layout.twoCol ? \\'col-xs-12\\':\\'col-xs-6\\'\" class=\"form-field ng-isolate-scope col-xs-6\"><fieldset ng-class=\"formfield[searchType] &amp;&amp; (formfield.basic || app.advancedSearch) ? \\'\\' : \\'hidden\\'\" class=\"hidden\"><legend class=\"hidden-legend ng-binding\">canton</legend><label class=\"control-label ng-binding\">canton</label><div class=\"ui-select-container ui-select-bootstrap dropdown ng-empty ng-valid\" ng-class=\"{open: $select.open}\" ng-model=\"formfield.value\" ng-init=\"formfield.select = $select.select\" search-enabled=\"!app.isMobile\" skip-focusser=\"app.isMobile\"><div class=\"ui-select-match ng-scope\" ng-hide=\"$select.open &amp;&amp; $select.searchEnabled\" ng-disabled=\"$select.disabled\" ng-class=\"{\\'btn-default-focus\\':$select.focus}\" allow-clear=\"true\"><span tabindex=\"-1\" class=\"btn btn-default form-control ui-select-toggle\" aria-label=\"Select box activate\" ng-disabled=\"$select.disabled\" ng-click=\"$select.activate()\" style=\"outline: 0;\"><span ng-show=\"$select.isEmpty()\" class=\"ui-select-placeholder text-muted ng-binding\"></span> <span ng-hide=\"$select.isEmpty()\" class=\"ui-select-match-text pull-left ng-hide\" ng-class=\"{\\'ui-select-allow-clear\\': $select.allowClear &amp;&amp; !$select.isEmpty()}\" ng-transclude=\"\"><div ng-bind-html=\"$select.selected[formfield.optionKey] || formfield.optionFn($select.selected) | trust\" class=\"ui-select-match-text ng-binding ng-scope\">NO VAL</div></span> <i class=\"caret pull-right\" ng-click=\"$select.toggle($event)\"></i> <a ng-show=\"$select.allowClear &amp;&amp; !$select.isEmpty() &amp;&amp; ($select.disabled !== true)\" aria-label=\"Select box clear\" style=\"margin-right: 10px\" ng-click=\"$select.clear($event)\" class=\"btn btn-xs btn-link pull-right ng-hide\"><i class=\"glyphicon glyphicon-remove\" aria-hidden=\"true\"></i></a></span></div><span ng-show=\"$select.open &amp;&amp; $select.refreshing &amp;&amp; $select.spinnerEnabled\" class=\"ui-select-refreshing glyphicon glyphicon-refresh ui-select-spin ng-hide\"></span> <input type=\"search\" autocomplete=\"off\" tabindex=\"-1\" aria-expanded=\"true\" aria-label=\"Select box\" aria-owns=\"ui-select-choices-4\" class=\"form-control ui-select-search ng-pristine ng-untouched ng-valid ng-empty ng-hide\" ng-class=\"{ \\'ui-select-search-hidden\\' : !$select.searchEnabled }\" placeholder=\"\" ng-model=\"$select.search\" ng-show=\"$select.open\"><ul class=\"ui-select-choices ui-select-choices-content ui-select-dropdown dropdown-menu ng-scope ng-hide\" ng-show=\"$select.open &amp;&amp; $select.items.length > 0\" repeat=\"item.id as item in formfield.options | filter: $select.search track by $index\" refresh-delay=\"300\" refresh=\"refreshSuggestions($select)\" group-by=\"groupBy\"><!-- ngRepeat: $group in $select.groups track by $group.name --><li class=\"ui-select-choices-group ng-scope\" id=\"ui-select-choices-4\" ng-repeat=\"$group in $select.groups track by $group.name\"><div class=\"divider ng-hide\" ng-show=\"$select.isGrouped &amp;&amp; $index > 0\"></div><div ng-show=\"$select.isGrouped\" class=\"ui-select-choices-group-label dropdown-header ng-binding\" ng-bind=\"$group.name\"></div><!-- ngRepeat: item in $group.items track by $index --><!-- ngIf: $select.open --><!-- end ngRepeat: item in $group.items track by $index --><!-- ngIf: $select.open --><!-- end ngRepeat: item in $group.items track by $index --><!-- ngIf: $select.open --><!-- end ngRepeat: item in $group.items track by $index --><!-- ngIf: $select.open --><!-- end ngRepeat: item in $group.items track by $index --><!-- ngIf: $select.open --><!-- end ngRepeat: item in $group.items track by $index --><!-- ngIf: $select.open --><!-- end ngRepeat: item in $group.items track by $index --><!-- ngIf: $select.open --><!-- end ngRepeat: item in $group.items track by $index --><!-- ngIf: $select.open --><!-- end ngRepeat: item in $group.items track by $index --><!-- ngIf: $select.open --><!-- end ngRepeat: item in $group.items track by $index --><!-- ngIf: $select.open --><!-- end ngRepeat: item in $group.items track by $index --><!-- ngIf: $select.open --><!-- end ngRepeat: item in $group.items track by $index --><!-- ngIf: $select.open --><!-- end ngRepeat: item in $group.items track by $index --><!-- ngIf: $select.open --><!-- end ngRepeat: item in $group.items track by $index --><!-- ngIf: $select.open --><!-- end ngRepeat: item in $group.items track by $index --><!-- ngIf: $select.open --><!-- end ngRepeat: item in $group.items track by $index --><!-- ngIf: $select.open --><!-- end ngRepeat: item in $group.items track by $index --><!-- ngIf: $select.open --><!-- end ngRepeat: item in $group.items track by $index --><!-- ngIf: $select.open --><!-- end ngRepeat: item in $group.items track by $index --><!-- ngIf: $select.open --><!-- end ngRepeat: item in $group.items track by $index --><!-- ngIf: $select.open --><!-- end ngRepeat: item in $group.items track by $index --><!-- ngIf: $select.open --><!-- end ngRepeat: item in $group.items track by $index --><!-- ngIf: $select.open --><!-- end ngRepeat: item in $group.items track by $index --><!-- ngIf: $select.open --><!-- end ngRepeat: item in $group.items track by $index --><!-- ngIf: $select.open --><!-- end ngRepeat: item in $group.items track by $index --><!-- ngIf: $select.open --><!-- end ngRepeat: item in $group.items track by $index --><!-- ngIf: $select.open --><!-- end ngRepeat: item in $group.items track by $index --><!-- ngIf: $select.open --><!-- end ngRepeat: item in $group.items track by $index --><!-- ngIf: $select.open --><!-- end ngRepeat: item in $group.items track by $index --></li><!-- end ngRepeat: $group in $select.groups track by $group.name --></ul><div class=\"ui-select-no-choice\"></div><ui-select-single></ui-select-single><input ng-disabled=\"$select.disabled\" class=\"ui-select-focusser ui-select-offscreen ng-scope\" type=\"text\" id=\"focusser-4\" aria-label=\"Select box focus\" aria-haspopup=\"true\" role=\"button\"></div></fieldset></div><div form-field=\"legalSeats\" template=\"form-fields/legal-seats.html\" ng-class=\"app.layout.twoCol ? \\'col-xs-12\\':\\'col-xs-6\\'\" class=\"form-field ng-isolate-scope col-xs-6\"><fieldset ng-class=\"formfield[searchType] &amp;&amp; (formfield.basic || app.advancedSearch) ? \\'\\' : \\'hidden\\'\" class=\"legal-seats hidden\"><legend class=\"hidden-legend ng-binding\">seat</legend><label class=\"control-label ng-binding\">seat</label><div class=\"ui-select-container ui-select-bootstrap dropdown ng-empty ng-valid\" ng-class=\"{open: $select.open}\" ng-model=\"formfield.value\" ng-init=\"formfield.select = $select.select\"><div class=\"ui-select-match ng-scope\" ng-hide=\"$select.open &amp;&amp; $select.searchEnabled\" ng-disabled=\"$select.disabled\" ng-class=\"{\\'btn-default-focus\\':$select.focus}\" placeholder=\" \" allow-clear=\"true\"><span tabindex=\"-1\" class=\"btn btn-default form-control ui-select-toggle\" aria-label=\"Select box activate\" ng-disabled=\"$select.disabled\" ng-click=\"$select.activate()\" style=\"outline: 0;\"><span ng-show=\"$select.isEmpty()\" class=\"ui-select-placeholder text-muted ng-binding\"> </span> <span ng-hide=\"$select.isEmpty()\" class=\"ui-select-match-text pull-left ng-hide\" ng-class=\"{\\'ui-select-allow-clear\\': $select.allowClear &amp;&amp; !$select.isEmpty()}\" ng-transclude=\"\"><span ng-bind=\"$select.selected.name\" class=\"ng-binding ng-scope\"></span></span> <i class=\"caret pull-right\" ng-click=\"$select.toggle($event)\"></i> <a ng-show=\"$select.allowClear &amp;&amp; !$select.isEmpty() &amp;&amp; ($select.disabled !== true)\" aria-label=\"Select box clear\" style=\"margin-right: 10px\" ng-click=\"$select.clear($event)\" class=\"btn btn-xs btn-link pull-right ng-hide\"><i class=\"glyphicon glyphicon-remove\" aria-hidden=\"true\"></i></a></span></div><span ng-show=\"$select.open &amp;&amp; $select.refreshing &amp;&amp; $select.spinnerEnabled\" class=\"ui-select-refreshing glyphicon glyphicon-refresh ui-select-spin ng-hide\"></span> <input type=\"search\" autocomplete=\"off\" tabindex=\"-1\" aria-expanded=\"true\" aria-label=\"Select box\" aria-owns=\"ui-select-choices-5\" class=\"form-control ui-select-search ng-pristine ng-untouched ng-valid ng-empty ng-hide\" ng-class=\"{ \\'ui-select-search-hidden\\' : !$select.searchEnabled }\" placeholder=\" \" ng-model=\"$select.search\" ng-show=\"$select.open\"><ul class=\"ui-select-choices ui-select-choices-content ui-select-dropdown dropdown-menu ng-scope ng-hide hidden\" ng-show=\"$select.open &amp;&amp; $select.items.length > 0\" repeat=\"item.name as item in suggestions track by item.name\" refresh-delay=\"300\" refresh=\"refreshLegalSeatOptions($select)\" ng-class=\"{hidden: suggestions.length === 0}\"><li class=\"ui-select-choices-group\" id=\"ui-select-choices-5\"><div class=\"divider ng-hide\" ng-show=\"$select.isGrouped &amp;&amp; $index > 0\"></div><div ng-show=\"$select.isGrouped\" class=\"ui-select-choices-group-label dropdown-header ng-binding ng-hide\" ng-bind=\"$group.name\"></div><!-- ngRepeat: item in $select.items track by item.name --></li></ul><div class=\"ui-select-no-choice\"></div><ui-select-single></ui-select-single><input ng-disabled=\"$select.disabled\" class=\"ui-select-focusser ui-select-offscreen ng-scope\" type=\"text\" id=\"focusser-5\" aria-label=\"Select box focus\" aria-haspopup=\"true\" role=\"button\"></div></fieldset></div><div form-field=\"legalForms\" template=\"form-fields/select-single.html\" ng-class=\"app.layout.twoCol ? \\'col-xs-12\\':\\'col-xs-6\\'\" class=\"form-field ng-isolate-scope col-xs-6\"><fieldset ng-class=\"formfield[searchType] &amp;&amp; (formfield.basic || app.advancedSearch) ? \\'\\' : \\'hidden\\'\" class=\"hidden\"><legend class=\"hidden-legend ng-binding\">legal form</legend><label class=\"control-label ng-binding\">legal form</label><div class=\"ui-select-container ui-select-bootstrap dropdown ng-empty ng-valid\" ng-class=\"{open: $select.open}\" ng-model=\"formfield.value\" ng-init=\"formfield.select = $select.select\" search-enabled=\"!app.isMobile\" skip-focusser=\"app.isMobile\"><div class=\"ui-select-match ng-scope\" ng-hide=\"$select.open &amp;&amp; $select.searchEnabled\" ng-disabled=\"$select.disabled\" ng-class=\"{\\'btn-default-focus\\':$select.focus}\" allow-clear=\"true\"><span tabindex=\"-1\" class=\"btn btn-default form-control ui-select-toggle\" aria-label=\"Select box activate\" ng-disabled=\"$select.disabled\" ng-click=\"$select.activate()\" style=\"outline: 0;\"><span ng-show=\"$select.isEmpty()\" class=\"ui-select-placeholder text-muted ng-binding\"></span> <span ng-hide=\"$select.isEmpty()\" class=\"ui-select-match-text pull-left ng-hide\" ng-class=\"{\\'ui-select-allow-clear\\': $select.allowClear &amp;&amp; !$select.isEmpty()}\" ng-transclude=\"\"><div ng-bind-html=\"$select.selected[formfield.optionKey] || formfield.optionFn($select.selected) | trust\" class=\"ui-select-match-text ng-binding ng-scope\"></div></span> <i class=\"caret pull-right\" ng-click=\"$select.toggle($event)\"></i> <a ng-show=\"$select.allowClear &amp;&amp; !$select.isEmpty() &amp;&amp; ($select.disabled !== true)\" aria-label=\"Select box clear\" style=\"margin-right: 10px\" ng-click=\"$select.clear($event)\" class=\"btn btn-xs btn-link pull-right ng-hide\"><i class=\"glyphicon glyphicon-remove\" aria-hidden=\"true\"></i></a></span></div><span ng-show=\"$select.open &amp;&amp; $select.refreshing &amp;&amp; $select.spinnerEnabled\" class=\"ui-select-refreshing glyphicon glyphicon-refresh ui-select-spin ng-hide\"></span> <input type=\"search\" autocomplete=\"off\" tabindex=\"-1\" aria-expanded=\"true\" aria-label=\"Select box\" aria-owns=\"ui-select-choices-6\" class=\"form-control ui-select-search ng-pristine ng-untouched ng-valid ng-empty ng-hide\" ng-class=\"{ \\'ui-select-search-hidden\\' : !$select.searchEnabled }\" placeholder=\"\" ng-model=\"$select.search\" ng-show=\"$select.open\"><ul class=\"ui-select-choices ui-select-choices-content ui-select-dropdown dropdown-menu ng-scope ng-hide\" ng-show=\"$select.open &amp;&amp; $select.items.length > 0\" repeat=\"item.id as item in formfield.options | filter: $select.search track by $index\" refresh-delay=\"300\" refresh=\"refreshSuggestions($select)\" group-by=\"groupBy\"><!-- ngRepeat: $group in $select.groups track by $group.name --><li class=\"ui-select-choices-group ng-scope\" id=\"ui-select-choices-6\" ng-repeat=\"$group in $select.groups track by $group.name\"><div class=\"divider ng-hide\" ng-show=\"$select.isGrouped &amp;&amp; $index > 0\"></div><div ng-show=\"$select.isGrouped\" class=\"ui-select-choices-group-label dropdown-header ng-binding\" ng-bind=\"$group.name\"></div><!-- ngRepeat: item in $group.items track by $index --><!-- ngIf: $select.open --><!-- end ngRepeat: item in $group.items track by $index --><!-- ngIf: $select.open --><!-- end ngRepeat: item in $group.items track by $index --><!-- ngIf: $select.open --><!-- end ngRepeat: item in $group.items track by $index --><!-- ngIf: $select.open --><!-- end ngRepeat: item in $group.items track by $index --><!-- ngIf: $select.open --><!-- end ngRepeat: item in $group.items track by $index --><!-- ngIf: $select.open --><!-- end ngRepeat: item in $group.items track by $index --><!-- ngIf: $select.open --><!-- end ngRepeat: item in $group.items track by $index --><!-- ngIf: $select.open --><!-- end ngRepeat: item in $group.items track by $index --><!-- ngIf: $select.open --><!-- end ngRepeat: item in $group.items track by $index --><!-- ngIf: $select.open --><!-- end ngRepeat: item in $group.items track by $index --><!-- ngIf: $select.open --><!-- end ngRepeat: item in $group.items track by $index --><!-- ngIf: $select.open --><!-- end ngRepeat: item in $group.items track by $index --><!-- ngIf: $select.open --><!-- end ngRepeat: item in $group.items track by $index --><!-- ngIf: $select.open --><!-- end ngRepeat: item in $group.items track by $index --><!-- ngIf: $select.open --><!-- end ngRepeat: item in $group.items track by $index --><!-- ngIf: $select.open --><!-- end ngRepeat: item in $group.items track by $index --><!-- ngIf: $select.open --><!-- end ngRepeat: item in $group.items track by $index --><!-- ngIf: $select.open --><!-- end ngRepeat: item in $group.items track by $index --></li><!-- end ngRepeat: $group in $select.groups track by $group.name --></ul><div class=\"ui-select-no-choice\"></div><ui-select-single></ui-select-single><input ng-disabled=\"$select.disabled\" class=\"ui-select-focusser ui-select-offscreen ng-scope\" type=\"text\" id=\"focusser-6\" aria-label=\"Select box focus\" aria-haspopup=\"true\" role=\"button\"></div></fieldset></div><div form-field=\"mutationTypes\" template=\"form-fields/select-single.html\" ng-class=\"app.layout.twoCol ? \\'col-xs-12\\':\\'col-xs-6\\'\" class=\"form-field ng-isolate-scope col-xs-6\"><fieldset ng-class=\"formfield[searchType] &amp;&amp; (formfield.basic || app.advancedSearch) ? \\'\\' : \\'hidden\\'\" class=\"hidden\"><legend class=\"hidden-legend ng-binding\">type of mutation</legend><label class=\"control-label ng-binding\">type of mutation</label><div class=\"ui-select-container ui-select-bootstrap dropdown ng-empty ng-valid\" ng-class=\"{open: $select.open}\" ng-model=\"formfield.value\" ng-init=\"formfield.select = $select.select\" search-enabled=\"!app.isMobile\" skip-focusser=\"app.isMobile\"><div class=\"ui-select-match ng-scope\" ng-hide=\"$select.open &amp;&amp; $select.searchEnabled\" ng-disabled=\"$select.disabled\" ng-class=\"{\\'btn-default-focus\\':$select.focus}\" allow-clear=\"true\"><span tabindex=\"-1\" class=\"btn btn-default form-control ui-select-toggle\" aria-label=\"Select box activate\" ng-disabled=\"$select.disabled\" ng-click=\"$select.activate()\" style=\"outline: 0;\"><span ng-show=\"$select.isEmpty()\" class=\"ui-select-placeholder text-muted ng-binding\"></span> <span ng-hide=\"$select.isEmpty()\" class=\"ui-select-match-text pull-left ng-hide\" ng-class=\"{\\'ui-select-allow-clear\\': $select.allowClear &amp;&amp; !$select.isEmpty()}\" ng-transclude=\"\"><div ng-bind-html=\"$select.selected[formfield.optionKey] || formfield.optionFn($select.selected) | trust\" class=\"ui-select-match-text ng-binding ng-scope\"></div></span> <i class=\"caret pull-right\" ng-click=\"$select.toggle($event)\"></i> <a ng-show=\"$select.allowClear &amp;&amp; !$select.isEmpty() &amp;&amp; ($select.disabled !== true)\" aria-label=\"Select box clear\" style=\"margin-right: 10px\" ng-click=\"$select.clear($event)\" class=\"btn btn-xs btn-link pull-right ng-hide\"><i class=\"glyphicon glyphicon-remove\" aria-hidden=\"true\"></i></a></span></div><span ng-show=\"$select.open &amp;&amp; $select.refreshing &amp;&amp; $select.spinnerEnabled\" class=\"ui-select-refreshing glyphicon glyphicon-refresh ui-select-spin ng-hide\"></span> <input type=\"search\" autocomplete=\"off\" tabindex=\"-1\" aria-expanded=\"true\" aria-label=\"Select box\" aria-owns=\"ui-select-choices-7\" class=\"form-control ui-select-search ng-pristine ng-untouched ng-valid ng-empty ng-hide\" ng-class=\"{ \\'ui-select-search-hidden\\' : !$select.searchEnabled }\" placeholder=\"\" ng-model=\"$select.search\" ng-show=\"$select.open\"><ul class=\"ui-select-choices ui-select-choices-content ui-select-dropdown dropdown-menu ng-scope ng-hide\" ng-show=\"$select.open &amp;&amp; $select.items.length > 0\" repeat=\"item.id as item in formfield.options | filter: $select.search track by $index\" refresh-delay=\"300\" refresh=\"refreshSuggestions($select)\" group-by=\"groupBy\"><!-- ngRepeat: $group in $select.groups track by $group.name --><li class=\"ui-select-choices-group ng-scope\" id=\"ui-select-choices-7\" ng-repeat=\"$group in $select.groups track by $group.name\"><div class=\"divider ng-hide\" ng-show=\"$select.isGrouped &amp;&amp; $index > 0\"></div><div ng-show=\"$select.isGrouped\" class=\"ui-select-choices-group-label dropdown-header ng-binding\" ng-bind=\"$group.name\"></div><!-- ngRepeat: item in $group.items track by $index --><!-- ngIf: $select.open --><!-- end ngRepeat: item in $group.items track by $index --><!-- ngIf: $select.open --><!-- end ngRepeat: item in $group.items track by $index --><!-- ngIf: $select.open --><!-- end ngRepeat: item in $group.items track by $index --><!-- ngIf: $select.open --><!-- end ngRepeat: item in $group.items track by $index --><!-- ngIf: $select.open --><!-- end ngRepeat: item in $group.items track by $index --><!-- ngIf: $select.open --><!-- end ngRepeat: item in $group.items track by $index --><!-- ngIf: $select.open --><!-- end ngRepeat: item in $group.items track by $index --><!-- ngIf: $select.open --><!-- end ngRepeat: item in $group.items track by $index --><!-- ngIf: $select.open --><!-- end ngRepeat: item in $group.items track by $index --><!-- ngIf: $select.open --><!-- end ngRepeat: item in $group.items track by $index --><!-- ngIf: $select.open --><!-- end ngRepeat: item in $group.items track by $index --><!-- ngIf: $select.open --><!-- end ngRepeat: item in $group.items track by $index --><!-- ngIf: $select.open --><!-- end ngRepeat: item in $group.items track by $index --><!-- ngIf: $select.open --><!-- end ngRepeat: item in $group.items track by $index --><!-- ngIf: $select.open --><!-- end ngRepeat: item in $group.items track by $index --><!-- ngIf: $select.open --><!-- end ngRepeat: item in $group.items track by $index --><!-- ngIf: $select.open --><!-- end ngRepeat: item in $group.items track by $index --></li><!-- end ngRepeat: $group in $select.groups track by $group.name --></ul><div class=\"ui-select-no-choice\"></div><ui-select-single></ui-select-single><input ng-disabled=\"$select.disabled\" class=\"ui-select-focusser ui-select-offscreen ng-scope\" type=\"text\" id=\"focusser-7\" aria-label=\"Select box focus\" aria-haspopup=\"true\" role=\"button\"></div></fieldset></div><!-- ngIf: app.layout.advancedSearch --><div form-field=\"deletedFirms\" template=\"form-fields/checkbox.html\" class=\"form-field checkbox-field col-xs-12 ng-isolate-scope\"><fieldset ng-class=\"formfield[searchType] &amp;&amp; (formfield.basic || app.advancedSearch) ? \\'\\' : \\'hidden\\'\" class=\"hidden\"><legend class=\"hidden-legend ng-binding\">include deleted entities</legend><div class=\"checkbox checkbox--left\"><label><input type=\"checkbox\" ng-model=\"formfield.value\" class=\"ng-pristine ng-untouched ng-valid ng-empty\"><span class=\"ng-binding\">include deleted entities</span></label></div></fieldset></div><div form-field=\"formerNames\" template=\"form-fields/checkbox.html\" class=\"form-field checkbox-field col-xs-12 ng-isolate-scope\"><fieldset ng-class=\"formfield[searchType] &amp;&amp; (formfield.basic || app.advancedSearch) ? \\'\\' : \\'hidden\\'\" class=\"hidden\"><legend class=\"hidden-legend ng-binding\">include former names</legend><div class=\"checkbox checkbox--left\"><label><input type=\"checkbox\" ng-model=\"formfield.value\" class=\"ng-pristine ng-untouched ng-valid ng-empty\"><span class=\"ng-binding\">include former names</span></label></div></fieldset></div><!-- ngIf: app.appConfigData.phoneticSearchAllowed --><div class=\"col-xs-12 form-control-buttons\"><a><div ng-hide=\"app.layout.advancedSearch\" ng-click=\"toggleSimpleSearch()\"><span class=\"icon icon--root\"></span><span class=\"ng-binding\">&nbsp; advanced search</span></div><div ng-show=\"app.layout.advancedSearch\" ng-click=\"toggleSimpleSearch()\" class=\"ng-hide\"><span class=\"icon icon--power\"></span><span class=\"ng-binding\">&nbsp; simple search</span></div></a><div class=\"form-control-buttons-right\"><div ng-click=\"$searchCtrl.clear()\" class=\"btn btn-secondary ng-binding\">delete</div><div ng-show=\"$searchCtrl.isSearching()\" ng-click=\"stop()\" class=\"btn btn-danger btn-styleguide-bs-override ng-binding ng-hide\">stop</div><div id=\"submit-search-btn\" ng-hide=\"$searchCtrl.isSearching()\" ng-click=\"search()\" class=\"btn btn-primary ng-binding\">search</div></div></div></div></div></div></form></div></div><!-- uiView: content --><div id=\"content\" ui-view=\"content\" ng-class=\"{ &quot;col-md-8&quot;: app.layout.twoCol, &quot;col-lg-9&quot;: app.layout.twoCol, &quot;col-md-12&quot;: !app.layout.twoCol }\" class=\"ng-scope col-md-12\"><div ng-class=\"{ \\'move-right\\': showMobileFilter.canton, \\'move-left\\': showMobileFilter.legalForm}\" class=\"zefix-result-list ng-scope\"><!-- uiView: overlay --><div ui-view=\"overlay\" class=\"firm-details-overlay ng-scope\"></div><!-- ngIf: currentState.name===\\'search.list\\' --><div ng-if=\"currentState.name===\\'search.list\\'\" class=\"ng-scope\"><zefix-notification><div class=\"zefix-notification hidden-print\"><div zefix-loading-indicator=\"\" ng-hide=\"isFirmDetailsPage()\" class=\"zefix-loading-indicator\" style=\"display: none;\"><div class=\"message message-loading alert-info hidden-print\"><div><span class=\"glyphicon glyphicon-refresh icon--spin\"></span><span class=\"ng-binding\">searching database..</span><span class=\"hidden-xs ng-binding\"> One moment please..</span><span class=\"ng-binding\"> (10.7 %)</span><a ng-click=\"cancelSearch()\" class=\"stop-search pull-right visible-xs\"><span class=\"icon icon--close icon--after\"></span></a></div><div class=\"progressbar\"><div ng-style=\"{ width: progress + \\'%\\' }\" style=\"width: 10.7393%;\"></div></div></div></div><!-- ngRepeat: message in messages track by $index --></div></zefix-notification><div ng-show=\"$listCtrl.result.list.length > 0\" class=\"hidden-xs zefix-visible-print-block\"><div ng-click=\"generatePrint()\" class=\"print-button btn btn-default btn-sm pull-right\"><span class=\"icon icon--print\"></span></div><zefix-pagination table-params=\"$listCtrl.tableParams\" collection=\"$listCtrl.result\" class=\"ng-isolate-scope\"><nav class=\"pagination-container clearfix noselect\"><div class=\"visible-sm-inline visible-md-inline visible-lg-inline\"><div ng-click=\"gotoPage(1)\" class=\"btn btn-default btn-pagination half-width\"><span class=\"icon icon--fast-backward\"></span></div><div ng-click=\"gotoPage(pagination.currentPage - 1)\" ng-disable=\"pagination.currentPage<=1\" class=\"btn btn-default btn-pagination\"><span class=\"icon icon--left\"></span></div><span class=\"ng-binding\">page</span><input id=\"input-page-nr\" type=\"number\" ng-model=\"pagination.currentPage\" ng-change=\"gotoPage(pagination.currentPage)\" class=\"ng-pristine ng-untouched ng-valid ng-not-empty\"><span class=\"ng-binding\">/ 35</span><div ng-click=\"gotoPage(pagination.currentPage + 1)\" class=\"btn btn-default btn-pagination\"><span class=\"icon icon--right\"></span></div><div ng-click=\"gotoPage(pagination.maxPage)\" class=\"btn btn-default btn-pagination half-width\"><span class=\"icon icon--fast-forward\"></span></div></div><div class=\"inline-block visible-md-inline visible-lg-inline visible-xs-block\"><span class=\"ng-binding\">hit</span><span>&nbsp;</span><span class=\"ng-binding\">1 - 10</span><span>&nbsp;</span><span class=\"ng-binding\">of</span><span>&nbsp;</span><span class=\"ng-binding\">342 (342</span><span>&nbsp;</span><span class=\"ng-binding\">total )</span></div><div class=\"pull-right hidden-xs\"><div class=\"inline-block visible-md-inline visible-lg-inline ng-binding\">results per page&nbsp;</div><div class=\"inline-block hidden-xs\"><!-- ngRepeat: num in [10,25,50,100] track by $index --><span ng-repeat=\"num in [10,25,50,100] track by $index\" ng-click=\"pagination.pageSize = num\" class=\"page-size-btn btn btn-xs btn-default ng-binding ng-scope\">10</span><!-- end ngRepeat: num in [10,25,50,100] track by $index --><span ng-repeat=\"num in [10,25,50,100] track by $index\" ng-click=\"pagination.pageSize = num\" class=\"page-size-btn btn btn-xs btn-default ng-binding ng-scope\">25</span><!-- end ngRepeat: num in [10,25,50,100] track by $index --><span ng-repeat=\"num in [10,25,50,100] track by $index\" ng-click=\"pagination.pageSize = num\" class=\"page-size-btn btn btn-xs btn-default ng-binding ng-scope\">50</span><!-- end ngRepeat: num in [10,25,50,100] track by $index --><span ng-repeat=\"num in [10,25,50,100] track by $index\" ng-click=\"pagination.pageSize = num\" class=\"page-size-btn btn btn-xs btn-default ng-binding ng-scope\">100</span><!-- end ngRepeat: num in [10,25,50,100] track by $index --></div><input id=\"input-page-size\" type=\"number\" ng-model=\"pagination.pageSize\" min=\"1\" max=\"200\" ng-change=\"savePageSizeSetting(pagination.pageSize)\" class=\"ng-pristine ng-untouched ng-valid ng-not-empty ng-valid-min ng-valid-max\"></div></nav></zefix-pagination><div class=\"zefix-search-results\"><table ng-table-dynamic=\"$listCtrl.tableParams with $listCtrl.columns\" ng-swipe-left=\"nextPage()\" ng-swipe-right=\"previousPage()\" class=\"result-table table table-bordered table-striped ng-scope ng-table\"><!-- ngInclude: templates.header --><thead ng-include=\"templates.header\" class=\"ng-scope\"><!-- ngIf: params.hasGroup() --> <tr class=\"ng-table-sort-header\"> <!-- ngRepeat: $column in $columns --><!-- ngIf: $column.show(this) --><th title=\"\" ng-repeat=\"$column in $columns\" ng-class=\"{ \\'sortable\\': $column.sortable(this), \\'sort-asc\\': params.sorting()[$column.sortable(this)]==\\'asc\\', \\'sort-desc\\': params.sorting()[$column.sortable(this)]==\\'desc\\' }\" ng-click=\"sortBy($column, $event)\" ng-if=\"$column.show(this)\" ng-init=\"template=$column.headerTemplateURL(this)\" class=\"header col-company sortable\"> <!-- ngIf: !template --><div ng-if=\"!template\" class=\"ng-table-header ng-scope\" ng-class=\"{\\'sort-indicator\\': params.settings().sortingIndicator==\\'div\\'}\"> <span ng-bind=\"$column.title(this)\" ng-class=\"{\\'sort-indicator\\': params.settings().sortingIndicator==\\'span\\'}\" class=\"ng-binding sort-indicator\">business name</span> </div><!-- end ngIf: !template --> <!-- ngIf: template --> </th><!-- end ngIf: $column.show(this) --><!-- end ngRepeat: $column in $columns --><!-- ngIf: $column.show(this) --><th title=\"\" ng-repeat=\"$column in $columns\" ng-class=\"{ \\'sortable\\': $column.sortable(this), \\'sort-asc\\': params.sorting()[$column.sortable(this)]==\\'asc\\', \\'sort-desc\\': params.sorting()[$column.sortable(this)]==\\'desc\\' }\" ng-click=\"sortBy($column, $event)\" ng-if=\"$column.show(this)\" ng-init=\"template=$column.headerTemplateURL(this)\" class=\"header col-excerpt\"> <!-- ngIf: !template --><div ng-if=\"!template\" class=\"ng-table-header ng-scope\" ng-class=\"{\\'sort-indicator\\': params.settings().sortingIndicator==\\'div\\'}\"> <span ng-bind=\"$column.title(this)\" ng-class=\"{\\'sort-indicator\\': params.settings().sortingIndicator==\\'span\\'}\" class=\"ng-binding sort-indicator\">excerpt</span> </div><!-- end ngIf: !template --> <!-- ngIf: template --> </th><!-- end ngIf: $column.show(this) --><!-- end ngRepeat: $column in $columns --><!-- ngIf: $column.show(this) --><th title=\"\" ng-repeat=\"$column in $columns\" ng-class=\"{ \\'sortable\\': $column.sortable(this), \\'sort-asc\\': params.sorting()[$column.sortable(this)]==\\'asc\\', \\'sort-desc\\': params.sorting()[$column.sortable(this)]==\\'desc\\' }\" ng-click=\"sortBy($column, $event)\" ng-if=\"$column.show(this)\" ng-init=\"template=$column.headerTemplateURL(this)\" class=\"header col-uid\"> <!-- ngIf: !template --><div ng-if=\"!template\" class=\"ng-table-header ng-scope\" ng-class=\"{\\'sort-indicator\\': params.settings().sortingIndicator==\\'div\\'}\"> <span ng-bind=\"$column.title(this)\" ng-class=\"{\\'sort-indicator\\': params.settings().sortingIndicator==\\'span\\'}\" class=\"ng-binding sort-indicator\">UID / UID register</span> </div><!-- end ngIf: !template --> <!-- ngIf: template --> </th><!-- end ngIf: $column.show(this) --><!-- end ngRepeat: $column in $columns --><!-- ngIf: $column.show(this) --><!-- end ngRepeat: $column in $columns --><!-- ngIf: $column.show(this) --><th title=\"\" ng-repeat=\"$column in $columns\" ng-class=\"{ \\'sortable\\': $column.sortable(this), \\'sort-asc\\': params.sorting()[$column.sortable(this)]==\\'asc\\', \\'sort-desc\\': params.sorting()[$column.sortable(this)]==\\'desc\\' }\" ng-click=\"sortBy($column, $event)\" ng-if=\"$column.show(this)\" ng-init=\"template=$column.headerTemplateURL(this)\" class=\"header col-legalForm\"> <!-- ngIf: !template --><div ng-if=\"!template\" class=\"ng-table-header ng-scope\" ng-class=\"{\\'sort-indicator\\': params.settings().sortingIndicator==\\'div\\'}\"> <span ng-bind=\"$column.title(this)\" ng-class=\"{\\'sort-indicator\\': params.settings().sortingIndicator==\\'span\\'}\" class=\"ng-binding sort-indicator\">legal form</span> </div><!-- end ngIf: !template --> <!-- ngIf: template --> </th><!-- end ngIf: $column.show(this) --><!-- end ngRepeat: $column in $columns --><!-- ngIf: $column.show(this) --><th title=\"\" ng-repeat=\"$column in $columns\" ng-class=\"{ \\'sortable\\': $column.sortable(this), \\'sort-asc\\': params.sorting()[$column.sortable(this)]==\\'asc\\', \\'sort-desc\\': params.sorting()[$column.sortable(this)]==\\'desc\\' }\" ng-click=\"sortBy($column, $event)\" ng-if=\"$column.show(this)\" ng-init=\"template=$column.headerTemplateURL(this)\" class=\"header col-legalSeat sortable\"> <!-- ngIf: !template --><div ng-if=\"!template\" class=\"ng-table-header ng-scope\" ng-class=\"{\\'sort-indicator\\': params.settings().sortingIndicator==\\'div\\'}\"> <span ng-bind=\"$column.title(this)\" ng-class=\"{\\'sort-indicator\\': params.settings().sortingIndicator==\\'span\\'}\" class=\"ng-binding sort-indicator\">seat</span> </div><!-- end ngIf: !template --> <!-- ngIf: template --> </th><!-- end ngIf: $column.show(this) --><!-- end ngRepeat: $column in $columns --><!-- ngIf: $column.show(this) --><th title=\"\" ng-repeat=\"$column in $columns\" ng-class=\"{ \\'sortable\\': $column.sortable(this), \\'sort-asc\\': params.sorting()[$column.sortable(this)]==\\'asc\\', \\'sort-desc\\': params.sorting()[$column.sortable(this)]==\\'desc\\' }\" ng-click=\"sortBy($column, $event)\" ng-if=\"$column.show(this)\" ng-init=\"template=$column.headerTemplateURL(this)\" class=\"header col-canton sortable\"> <!-- ngIf: !template --><div ng-if=\"!template\" class=\"ng-table-header ng-scope\" ng-class=\"{\\'sort-indicator\\': params.settings().sortingIndicator==\\'div\\'}\"> <span ng-bind=\"$column.title(this)\" ng-class=\"{\\'sort-indicator\\': params.settings().sortingIndicator==\\'span\\'}\" class=\"ng-binding sort-indicator\">canton / rc</span> </div><!-- end ngIf: !template --> <!-- ngIf: template --> </th><!-- end ngIf: $column.show(this) --><!-- end ngRepeat: $column in $columns --><!-- ngIf: $column.show(this) --><!-- end ngRepeat: $column in $columns --> </tr> <tr ng-show=\"show_filter\" class=\"ng-table-filters\"> <!-- ngRepeat: $column in $columns --><!-- ngIf: $column.show(this) --><th data-title-text=\"business name\" ng-repeat=\"$column in $columns\" ng-if=\"$column.show(this)\" class=\"filter col-company\" ng-class=\"params.settings().filterOptions.filterLayout===\\'horizontal\\' ? \\'filter-horizontal\\' : \\'\\'\"> <!-- ngRepeat: (name, filter) in $column.filter(this) --><!-- ngInclude: config.getTemplateUrl(filter) --><div ng-repeat=\"(name, filter) in $column.filter(this)\" ng-include=\"config.getTemplateUrl(filter)\" class=\"filter-cell ng-scope s12 last\" ng-class=\"[getFilterCellCss($column.filter(this), params.settings().filterOptions.filterLayout), $last ? \\'last\\' : \\'\\']\"><input type=\"text\" name=\"name\" ng-disabled=\"$filterRow.disabled\" ng-model=\"params.filter()[name]\" class=\"input-filter form-control ng-pristine ng-untouched ng-valid ng-scope ng-empty\" placeholder=\"\"> </div><!-- end ngRepeat: (name, filter) in $column.filter(this) --> </th><!-- end ngIf: $column.show(this) --><!-- end ngRepeat: $column in $columns --><!-- ngIf: $column.show(this) --><th data-title-text=\"excerpt\" ng-repeat=\"$column in $columns\" ng-if=\"$column.show(this)\" class=\"filter col-excerpt\" ng-class=\"params.settings().filterOptions.filterLayout===\\'horizontal\\' ? \\'filter-horizontal\\' : \\'\\'\"> <!-- ngRepeat: (name, filter) in $column.filter(this) --> </th><!-- end ngIf: $column.show(this) --><!-- end ngRepeat: $column in $columns --><!-- ngIf: $column.show(this) --><th data-title-text=\"UID / UID register\" ng-repeat=\"$column in $columns\" ng-if=\"$column.show(this)\" class=\"filter col-uid\" ng-class=\"params.settings().filterOptions.filterLayout===\\'horizontal\\' ? \\'filter-horizontal\\' : \\'\\'\"> <!-- ngRepeat: (name, filter) in $column.filter(this) --> </th><!-- end ngIf: $column.show(this) --><!-- end ngRepeat: $column in $columns --><!-- ngIf: $column.show(this) --><!-- end ngRepeat: $column in $columns --><!-- ngIf: $column.show(this) --><th data-title-text=\"legal form\" ng-repeat=\"$column in $columns\" ng-if=\"$column.show(this)\" class=\"filter col-legalForm\" ng-class=\"params.settings().filterOptions.filterLayout===\\'horizontal\\' ? \\'filter-horizontal\\' : \\'\\'\"> <!-- ngRepeat: (name, filter) in $column.filter(this) --><!-- ngInclude: config.getTemplateUrl(filter) --><div ng-repeat=\"(name, filter) in $column.filter(this)\" ng-include=\"config.getTemplateUrl(filter)\" class=\"filter-cell ng-scope s12 last\" ng-class=\"[getFilterCellCss($column.filter(this), params.settings().filterOptions.filterLayout), $last ? \\'last\\' : \\'\\']\"><select ng-options=\"data.id as data.title for data in $selectData\" ng-table-select-filter-ds=\"$column\" ng-disabled=\"$filterRow.disabled\" ng-model=\"params.filter()[name]\" class=\"filter filter-select form-control ng-pristine ng-untouched ng-valid ng-scope ng-empty\" name=\"legalFormId\"><option style=\"display:none\" value=\"\" class=\"\" selected=\"selected\"></option><option value=\"string:\"></option><option label=\"SP - Sole proprietorship  [147]\" value=\"number:1\">SP - Sole proprietorship  [147]</option><option label=\"GP - General Partnership  [14]\" value=\"number:2\">GP - General Partnership  [14]</option><option label=\"Ltd - Corporation  [95]\" value=\"number:3\">Ltd - Corporation  [95]</option><option label=\"LLC - Limited Liability Company  [82]\" value=\"number:4\">LLC - Limited Liability Company  [82]</option><option label=\"Found - Foundation  [1]\" value=\"number:7\">Found - Foundation  [1]</option><option label=\"Bran - Branch  [3]\" value=\"number:9\">Bran - Branch  [3]</option></select> </div><!-- end ngRepeat: (name, filter) in $column.filter(this) --> </th><!-- end ngIf: $column.show(this) --><!-- end ngRepeat: $column in $columns --><!-- ngIf: $column.show(this) --><th data-title-text=\"seat\" ng-repeat=\"$column in $columns\" ng-if=\"$column.show(this)\" class=\"filter col-legalSeat\" ng-class=\"params.settings().filterOptions.filterLayout===\\'horizontal\\' ? \\'filter-horizontal\\' : \\'\\'\"> <!-- ngRepeat: (name, filter) in $column.filter(this) --><!-- ngInclude: config.getTemplateUrl(filter) --><div ng-repeat=\"(name, filter) in $column.filter(this)\" ng-include=\"config.getTemplateUrl(filter)\" class=\"filter-cell ng-scope s12 last\" ng-class=\"[getFilterCellCss($column.filter(this), params.settings().filterOptions.filterLayout), $last ? \\'last\\' : \\'\\']\"><input type=\"text\" name=\"legalSeat\" ng-disabled=\"$filterRow.disabled\" ng-model=\"params.filter()[name]\" class=\"input-filter form-control ng-pristine ng-untouched ng-valid ng-scope ng-empty\" placeholder=\"\"> </div><!-- end ngRepeat: (name, filter) in $column.filter(this) --> </th><!-- end ngIf: $column.show(this) --><!-- end ngRepeat: $column in $columns --><!-- ngIf: $column.show(this) --><th data-title-text=\"canton / rc\" ng-repeat=\"$column in $columns\" ng-if=\"$column.show(this)\" class=\"filter col-canton\" ng-class=\"params.settings().filterOptions.filterLayout===\\'horizontal\\' ? \\'filter-horizontal\\' : \\'\\'\"> <!-- ngRepeat: (name, filter) in $column.filter(this) --><!-- ngInclude: config.getTemplateUrl(filter) --><div ng-repeat=\"(name, filter) in $column.filter(this)\" ng-include=\"config.getTemplateUrl(filter)\" class=\"filter-cell ng-scope s12 last\" ng-class=\"[getFilterCellCss($column.filter(this), params.settings().filterOptions.filterLayout), $last ? \\'last\\' : \\'\\']\"><select ng-options=\"data.id as data.title for data in $selectData\" ng-table-select-filter-ds=\"$column\" ng-disabled=\"$filterRow.disabled\" ng-model=\"params.filter()[name]\" class=\"filter filter-select form-control ng-pristine ng-untouched ng-valid ng-scope ng-empty\" name=\"registerOfficeId\"><option style=\"display:none\" value=\"\" class=\"\" selected=\"selected\"></option><option value=\"string:\"></option><option label=\"ZH - Zürich  [35]\" value=\"number:20\">ZH - Zürich  [35]</option><option label=\"BE - Bern  [86]\" value=\"number:36\">BE - Bern  [86]</option><option label=\"LU - Luzern  [31]\" value=\"number:100\">LU - Luzern  [31]</option><option label=\"UR - Uri  [3]\" value=\"number:120\">UR - Uri  [3]</option><option label=\"SZ - Schwyz  [8]\" value=\"number:130\">SZ - Schwyz  [8]</option><option label=\"NW - Nidwalden  [1]\" value=\"number:150\">NW - Nidwalden  [1]</option><option label=\"GL - Glarus  [3]\" value=\"number:160\">GL - Glarus  [3]</option><option label=\"ZG - Zug  [5]\" value=\"number:170\">ZG - Zug  [5]</option><option label=\"FR - Fribourg  [11]\" value=\"number:217\">FR - Fribourg  [11]</option><option label=\"SO - Solothurn  [13]\" value=\"number:241\">SO - Solothurn  [13]</option><option label=\"BS - Basel-Stadt  [10]\" value=\"number:270\">BS - Basel-Stadt  [10]</option><option label=\"BL - Basel-Landschaft  [7]\" value=\"number:280\">BL - Basel-Landschaft  [7]</option><option label=\"SH - Schaffhausen  [2]\" value=\"number:290\">SH - Schaffhausen  [2]</option><option label=\"AR - Appenzell A. Rh.  [7]\" value=\"number:300\">AR - Appenzell A. Rh.  [7]</option><option label=\"AI - Appenzell I. Rh.  [1]\" value=\"number:310\">AI - Appenzell I. Rh.  [1]</option><option label=\"SG - St. Gallen  [39]\" value=\"number:320\">SG - St. Gallen  [39]</option><option label=\"GR - Graubünden  [14]\" value=\"number:350\">GR - Graubünden  [14]</option><option label=\"AG - Aargau  [42]\" value=\"number:400\">AG - Aargau  [42]</option><option label=\"TG - Thurgau  [12]\" value=\"number:440\">TG - Thurgau  [12]</option><option label=\"VS - Brig (Oberwallis)  [12]\" value=\"number:600\">VS - Brig (Oberwallis)  [12]</option></select> </div><!-- end ngRepeat: (name, filter) in $column.filter(this) --> </th><!-- end ngIf: $column.show(this) --><!-- end ngRepeat: $column in $columns --><!-- ngIf: $column.show(this) --><!-- end ngRepeat: $column in $columns --> </tr> </thead><!-- TODO: colgroup fix: https://github.com/glaggia-larus/ng-table/commit/4ad2387ceb55fa7aad0cb74819e07bb1368e990f--><!--colgroupcol(ng-repeat=\"col in $columns\" ng-class=\\'getColumnClass(col)\\')--><tbody><!-- ngRepeat: row in $data --><tr ng-repeat=\"row in $data\" class=\"ng-scope\"><!-- ngRepeat: col in $columns --><!-- ngIf: col.show() --><td ng-repeat=\"col in $columns\" filter=\"$listCtrl.filters[col.name]\" ng-if=\"col.show()\" data-title-text=\"business name\" class=\"ng-scope\"><!-- ngIf: col.name === \\'company\\' --><div ng-if=\"col.name === \\'company\\'\" ng-attr-title=\"{{row.name}}\" class=\"company-name ng-scope\" title=\"Bäckerei &quot;gsund&quot; AG\"><a ui-sref=\".details({ ehraid: row.ehraid })\" ng-class=\"{ \\'strike-thru\\': row.status === \\'GELOESCHT\\'}\" ng-bind-html=\"highlight(row.name, $listCtrl.tableParams.filter(), \\'name\\')\" class=\"ng-binding\" href=\"/en/search/entity/list/firm/1167884?name=b%C3%A4ckerei&amp;searchType=exact\">Bäckerei \"gsund\" AG</a></div><!-- end ngIf: col.name === \\'company\\' --><!-- ngIf: col.name === \\'legalSeat\\' --><!-- ngIf: col.getValue --></td><!-- end ngIf: col.show() --><!-- end ngRepeat: col in $columns --><!-- ngIf: col.show() --><td ng-repeat=\"col in $columns\" filter=\"$listCtrl.filters[col.name]\" ng-if=\"col.show()\" data-title-text=\"excerpt\" class=\"ng-scope\"><!-- ngIf: col.name === \\'company\\' --><!-- ngIf: col.name === \\'legalSeat\\' --><!-- ngIf: col.getValue --><div ng-bind-html=\"col.getValue(this, row)\" ng-if=\"col.getValue\" class=\"ng-binding ng-scope\"><a href=\"https://sz.chregister.ch/cr-portal/auszug/zefix.xhtml?uid=CHE-240.641.011&amp;lang=de\" title=\"excerpt (Web)\" style=\"margin: 0em 1em;\" target=\"_blank\"><span class=\"icon icon--external\"></span></a>&nbsp;</div><!-- end ngIf: col.getValue --></td><!-- end ngIf: col.show() --><!-- end ngRepeat: col in $columns --><!-- ngIf: col.show() --><td ng-repeat=\"col in $columns\" filter=\"$listCtrl.filters[col.name]\" ng-if=\"col.show()\" data-title-text=\"UID / UID register\" class=\"ng-scope\"><!-- ngIf: col.name === \\'company\\' --><!-- ngIf: col.name === \\'legalSeat\\' --><!-- ngIf: col.getValue --><div ng-bind-html=\"col.getValue(this, row)\" ng-if=\"col.getValue\" class=\"ng-binding ng-scope\"><span class=\"no-wrap\">CHE-240.641.011<a class=\"uid-link\" href=\"https://www.uid.admin.ch/Detail.aspx?uid_id=CHE240641011\" target=\"_blank\"><span class=\"icon icon--external icon--after\"></span></a></span></div><!-- end ngIf: col.getValue --></td><!-- end ngIf: col.show() --><!-- end ngRepeat: col in $columns --><!-- ngIf: col.show() --><!-- end ngRepeat: col in $columns --><!-- ngIf: col.show() --><td ng-repeat=\"col in $columns\" filter=\"$listCtrl.filters[col.name]\" ng-if=\"col.show()\" data-title-text=\"legal form\" class=\"ng-scope\"><!-- ngIf: col.name === \\'company\\' --><!-- ngIf: col.name === \\'legalSeat\\' --><!-- ngIf: col.getValue --><div ng-bind-html=\"col.getValue(this, row)\" ng-if=\"col.getValue\" class=\"ng-binding ng-scope\"><span title=\"Corporation\">Ltd</span></div><!-- end ngIf: col.getValue --></td><!-- end ngIf: col.show() --><!-- end ngRepeat: col in $columns --><!-- ngIf: col.show() --><td ng-repeat=\"col in $columns\" filter=\"$listCtrl.filters[col.name]\" ng-if=\"col.show()\" data-title-text=\"seat\" class=\"ng-scope\"><!-- ngIf: col.name === \\'company\\' --><!-- ngIf: col.name === \\'legalSeat\\' --><div ng-if=\"col.name === \\'legalSeat\\'\" class=\"company-seat ng-scope\"><span ng-bind-html=\"highlight(row.legalSeat, $listCtrl.tableParams.filter(), \\'legalSeat\\')\" class=\"ng-binding\">Feusisberg</span></div><!-- end ngIf: col.name === \\'legalSeat\\' --><!-- ngIf: col.getValue --></td><!-- end ngIf: col.show() --><!-- end ngRepeat: col in $columns --><!-- ngIf: col.show() --><td ng-repeat=\"col in $columns\" filter=\"$listCtrl.filters[col.name]\" ng-if=\"col.show()\" data-title-text=\"canton / rc\" class=\"ng-scope\"><!-- ngIf: col.name === \\'company\\' --><!-- ngIf: col.name === \\'legalSeat\\' --><!-- ngIf: col.getValue --><div ng-bind-html=\"col.getValue(this, row)\" ng-if=\"col.getValue\" class=\"ng-binding ng-scope\"><a title=\"Handelsregisteramt des Kantons Schwyz\" href=\"https://www.sz.ch/kanton/wirtschaft/handelsregister/handelsregister-schwyz.html/72-210-94-1916-1890\" target=\"_blank\">SZ - Schwyz</a></div><!-- end ngIf: col.getValue --></td><!-- end ngIf: col.show() --><!-- end ngRepeat: col in $columns --><!-- ngIf: col.show() --><!-- end ngRepeat: col in $columns --></tr><!-- end ngRepeat: row in $data --><tr ng-repeat=\"row in $data\" class=\"ng-scope\"><!-- ngRepeat: col in $columns --><!-- ngIf: col.show() --><td ng-repeat=\"col in $columns\" filter=\"$listCtrl.filters[col.name]\" ng-if=\"col.show()\" data-title-text=\"business name\" class=\"ng-scope\"><!-- ngIf: col.name === \\'company\\' --><div ng-if=\"col.name === \\'company\\'\" ng-attr-title=\"{{row.name}}\" class=\"company-name ng-scope\" title=\"Bäckerei &amp; Catering M Janicijevic\"><a ui-sref=\".details({ ehraid: row.ehraid })\" ng-class=\"{ \\'strike-thru\\': row.status === \\'GELOESCHT\\'}\" ng-bind-html=\"highlight(row.name, $listCtrl.tableParams.filter(), \\'name\\')\" class=\"ng-binding\" href=\"/en/search/entity/list/firm/963213?name=b%C3%A4ckerei&amp;searchType=exact\">Bäckerei &amp; Catering M Janicijevic</a></div><!-- end ngIf: col.name === \\'company\\' --><!-- ngIf: col.name === \\'legalSeat\\' --><!-- ngIf: col.getValue --></td><!-- end ngIf: col.show() --><!-- end ngRepeat: col in $columns --><!-- ngIf: col.show() --><td ng-repeat=\"col in $columns\" filter=\"$listCtrl.filters[col.name]\" ng-if=\"col.show()\" data-title-text=\"excerpt\" class=\"ng-scope\"><!-- ngIf: col.name === \\'company\\' --><!-- ngIf: col.name === \\'legalSeat\\' --><!-- ngIf: col.getValue --><div ng-bind-html=\"col.getValue(this, row)\" ng-if=\"col.getValue\" class=\"ng-binding ng-scope\"><a href=\"https://zh.chregister.ch/cr-portal/auszug/zefix.xhtml?uid=CHE-114.960.579&amp;lang=de\" title=\"excerpt (Web)\" style=\"margin: 0em 1em;\" target=\"_blank\"><span class=\"icon icon--external\"></span></a>&nbsp;</div><!-- end ngIf: col.getValue --></td><!-- end ngIf: col.show() --><!-- end ngRepeat: col in $columns --><!-- ngIf: col.show() --><td ng-repeat=\"col in $columns\" filter=\"$listCtrl.filters[col.name]\" ng-if=\"col.show()\" data-title-text=\"UID / UID register\" class=\"ng-scope\"><!-- ngIf: col.name === \\'company\\' --><!-- ngIf: col.name === \\'legalSeat\\' --><!-- ngIf: col.getValue --><div ng-bind-html=\"col.getValue(this, row)\" ng-if=\"col.getValue\" class=\"ng-binding ng-scope\"><span class=\"no-wrap\">CHE-114.960.579<a class=\"uid-link\" href=\"https://www.uid.admin.ch/Detail.aspx?uid_id=CHE114960579\" target=\"_blank\"><span class=\"icon icon--external icon--after\"></span></a></span></div><!-- end ngIf: col.getValue --></td><!-- end ngIf: col.show() --><!-- end ngRepeat: col in $columns --><!-- ngIf: col.show() --><!-- end ngRepeat: col in $columns --><!-- ngIf: col.show() --><td ng-repeat=\"col in $columns\" filter=\"$listCtrl.filters[col.name]\" ng-if=\"col.show()\" data-title-text=\"legal form\" class=\"ng-scope\"><!-- ngIf: col.name === \\'company\\' --><!-- ngIf: col.name === \\'legalSeat\\' --><!-- ngIf: col.getValue --><div ng-bind-html=\"col.getValue(this, row)\" ng-if=\"col.getValue\" class=\"ng-binding ng-scope\"><span title=\"Sole proprietorship\">SP</span></div><!-- end ngIf: col.getValue --></td><!-- end ngIf: col.show() --><!-- end ngRepeat: col in $columns --><!-- ngIf: col.show() --><td ng-repeat=\"col in $columns\" filter=\"$listCtrl.filters[col.name]\" ng-if=\"col.show()\" data-title-text=\"seat\" class=\"ng-scope\"><!-- ngIf: col.name === \\'company\\' --><!-- ngIf: col.name === \\'legalSeat\\' --><div ng-if=\"col.name === \\'legalSeat\\'\" class=\"company-seat ng-scope\"><span ng-bind-html=\"highlight(row.legalSeat, $listCtrl.tableParams.filter(), \\'legalSeat\\')\" class=\"ng-binding\">Zürich</span></div><!-- end ngIf: col.name === \\'legalSeat\\' --><!-- ngIf: col.getValue --></td><!-- end ngIf: col.show() --><!-- end ngRepeat: col in $columns --><!-- ngIf: col.show() --><td ng-repeat=\"col in $columns\" filter=\"$listCtrl.filters[col.name]\" ng-if=\"col.show()\" data-title-text=\"canton / rc\" class=\"ng-scope\"><!-- ngIf: col.name === \\'company\\' --><!-- ngIf: col.name === \\'legalSeat\\' --><!-- ngIf: col.getValue --><div ng-bind-html=\"col.getValue(this, row)\" ng-if=\"col.getValue\" class=\"ng-binding ng-scope\"><a title=\"Handelsregisteramt des Kantons Zürich\" href=\"https://hra.zh.ch/\" target=\"_blank\">ZH - Zürich</a></div><!-- end ngIf: col.getValue --></td><!-- end ngIf: col.show() --><!-- end ngRepeat: col in $columns --><!-- ngIf: col.show() --><!-- end ngRepeat: col in $columns --></tr><!-- end ngRepeat: row in $data --><tr ng-repeat=\"row in $data\" class=\"ng-scope\"><!-- ngRepeat: col in $columns --><!-- ngIf: col.show() --><td ng-repeat=\"col in $columns\" filter=\"$listCtrl.filters[col.name]\" ng-if=\"col.show()\" data-title-text=\"business name\" class=\"ng-scope\"><!-- ngIf: col.name === \\'company\\' --><div ng-if=\"col.name === \\'company\\'\" ng-attr-title=\"{{row.name}}\" class=\"company-name ng-scope\" title=\"Bäckerei &amp; Konditorei, Biner &amp; Co.\"><a ui-sref=\".details({ ehraid: row.ehraid })\" ng-class=\"{ \\'strike-thru\\': row.status === \\'GELOESCHT\\'}\" ng-bind-html=\"highlight(row.name, $listCtrl.tableParams.filter(), \\'name\\')\" class=\"ng-binding\" href=\"/en/search/entity/list/firm/752847?name=b%C3%A4ckerei&amp;searchType=exact\">Bäckerei &amp; Konditorei, Biner &amp; Co.</a></div><!-- end ngIf: col.name === \\'company\\' --><!-- ngIf: col.name === \\'legalSeat\\' --><!-- ngIf: col.getValue --></td><!-- end ngIf: col.show() --><!-- end ngRepeat: col in $columns --><!-- ngIf: col.show() --><td ng-repeat=\"col in $columns\" filter=\"$listCtrl.filters[col.name]\" ng-if=\"col.show()\" data-title-text=\"excerpt\" class=\"ng-scope\"><!-- ngIf: col.name === \\'company\\' --><!-- ngIf: col.name === \\'legalSeat\\' --><!-- ngIf: col.getValue --><div ng-bind-html=\"col.getValue(this, row)\" ng-if=\"col.getValue\" class=\"ng-binding ng-scope\"><a href=\"https://vo.chregister.ch/cr-portal/auszug/zefix.xhtml?uid=CHE-102.073.772&amp;lang=de\" title=\"excerpt (Web)\" style=\"margin: 0em 1em;\" target=\"_blank\"><span class=\"icon icon--external\"></span></a>&nbsp;</div><!-- end ngIf: col.getValue --></td><!-- end ngIf: col.show() --><!-- end ngRepeat: col in $columns --><!-- ngIf: col.show() --><td ng-repeat=\"col in $columns\" filter=\"$listCtrl.filters[col.name]\" ng-if=\"col.show()\" data-title-text=\"UID / UID register\" class=\"ng-scope\"><!-- ngIf: col.name === \\'company\\' --><!-- ngIf: col.name === \\'legalSeat\\' --><!-- ngIf: col.getValue --><div ng-bind-html=\"col.getValue(this, row)\" ng-if=\"col.getValue\" class=\"ng-binding ng-scope\"><span class=\"no-wrap\">CHE-102.073.772<a class=\"uid-link\" href=\"https://www.uid.admin.ch/Detail.aspx?uid_id=CHE102073772\" target=\"_blank\"><span class=\"icon icon--external icon--after\"></span></a></span></div><!-- end ngIf: col.getValue --></td><!-- end ngIf: col.show() --><!-- end ngRepeat: col in $columns --><!-- ngIf: col.show() --><!-- end ngRepeat: col in $columns --><!-- ngIf: col.show() --><td ng-repeat=\"col in $columns\" filter=\"$listCtrl.filters[col.name]\" ng-if=\"col.show()\" data-title-text=\"legal form\" class=\"ng-scope\"><!-- ngIf: col.name === \\'company\\' --><!-- ngIf: col.name === \\'legalSeat\\' --><!-- ngIf: col.getValue --><div ng-bind-html=\"col.getValue(this, row)\" ng-if=\"col.getValue\" class=\"ng-binding ng-scope\"><span title=\"General Partnership\">GP</span></div><!-- end ngIf: col.getValue --></td><!-- end ngIf: col.show() --><!-- end ngRepeat: col in $columns --><!-- ngIf: col.show() --><td ng-repeat=\"col in $columns\" filter=\"$listCtrl.filters[col.name]\" ng-if=\"col.show()\" data-title-text=\"seat\" class=\"ng-scope\"><!-- ngIf: col.name === \\'company\\' --><!-- ngIf: col.name === \\'legalSeat\\' --><div ng-if=\"col.name === \\'legalSeat\\'\" class=\"company-seat ng-scope\"><span ng-bind-html=\"highlight(row.legalSeat, $listCtrl.tableParams.filter(), \\'legalSeat\\')\" class=\"ng-binding\">Zermatt</span></div><!-- end ngIf: col.name === \\'legalSeat\\' --><!-- ngIf: col.getValue --></td><!-- end ngIf: col.show() --><!-- end ngRepeat: col in $columns --><!-- ngIf: col.show() --><td ng-repeat=\"col in $columns\" filter=\"$listCtrl.filters[col.name]\" ng-if=\"col.show()\" data-title-text=\"canton / rc\" class=\"ng-scope\"><!-- ngIf: col.name === \\'company\\' --><!-- ngIf: col.name === \\'legalSeat\\' --><!-- ngIf: col.getValue --><div ng-bind-html=\"col.getValue(this, row)\" ng-if=\"col.getValue\" class=\"ng-binding ng-scope\"><a title=\"Handelsregisteramt Oberwallis\" href=\"https://www.vs.ch/de/web/ext-rc/\" target=\"_blank\">VS - Brig (Oberwallis)</a></div><!-- end ngIf: col.getValue --></td><!-- end ngIf: col.show() --><!-- end ngRepeat: col in $columns --><!-- ngIf: col.show() --><!-- end ngRepeat: col in $columns --></tr><!-- end ngRepeat: row in $data --><tr ng-repeat=\"row in $data\" class=\"ng-scope\"><!-- ngRepeat: col in $columns --><!-- ngIf: col.show() --><td ng-repeat=\"col in $columns\" filter=\"$listCtrl.filters[col.name]\" ng-if=\"col.show()\" data-title-text=\"business name\" class=\"ng-scope\"><!-- ngIf: col.name === \\'company\\' --><div ng-if=\"col.name === \\'company\\'\" ng-attr-title=\"{{row.name}}\" class=\"company-name ng-scope\" title=\"Bäckerei + Party-Service Sandra Bircher\"><a ui-sref=\".details({ ehraid: row.ehraid })\" ng-class=\"{ \\'strike-thru\\': row.status === \\'GELOESCHT\\'}\" ng-bind-html=\"highlight(row.name, $listCtrl.tableParams.filter(), \\'name\\')\" class=\"ng-binding\" href=\"/en/search/entity/list/firm/991050?name=b%C3%A4ckerei&amp;searchType=exact\">Bäckerei + Party-Service Sandra Bircher</a></div><!-- end ngIf: col.name === \\'company\\' --><!-- ngIf: col.name === \\'legalSeat\\' --><!-- ngIf: col.getValue --></td><!-- end ngIf: col.show() --><!-- end ngRepeat: col in $columns --><!-- ngIf: col.show() --><td ng-repeat=\"col in $columns\" filter=\"$listCtrl.filters[col.name]\" ng-if=\"col.show()\" data-title-text=\"excerpt\" class=\"ng-scope\"><!-- ngIf: col.name === \\'company\\' --><!-- ngIf: col.name === \\'legalSeat\\' --><!-- ngIf: col.getValue --><div ng-bind-html=\"col.getValue(this, row)\" ng-if=\"col.getValue\" class=\"ng-binding ng-scope\"><a href=\"https://ag.chregister.ch/cr-portal/auszug/zefix.xhtml?uid=CHE-115.910.495&amp;lang=de\" title=\"excerpt (Web)\" style=\"margin: 0em 1em;\" target=\"_blank\"><span class=\"icon icon--external\"></span></a>&nbsp;</div><!-- end ngIf: col.getValue --></td><!-- end ngIf: col.show() --><!-- end ngRepeat: col in $columns --><!-- ngIf: col.show() --><td ng-repeat=\"col in $columns\" filter=\"$listCtrl.filters[col.name]\" ng-if=\"col.show()\" data-title-text=\"UID / UID register\" class=\"ng-scope\"><!-- ngIf: col.name === \\'company\\' --><!-- ngIf: col.name === \\'legalSeat\\' --><!-- ngIf: col.getValue --><div ng-bind-html=\"col.getValue(this, row)\" ng-if=\"col.getValue\" class=\"ng-binding ng-scope\"><span class=\"no-wrap\">CHE-115.910.495<a class=\"uid-link\" href=\"https://www.uid.admin.ch/Detail.aspx?uid_id=CHE115910495\" target=\"_blank\"><span class=\"icon icon--external icon--after\"></span></a></span></div><!-- end ngIf: col.getValue --></td><!-- end ngIf: col.show() --><!-- end ngRepeat: col in $columns --><!-- ngIf: col.show() --><!-- end ngRepeat: col in $columns --><!-- ngIf: col.show() --><td ng-repeat=\"col in $columns\" filter=\"$listCtrl.filters[col.name]\" ng-if=\"col.show()\" data-title-text=\"legal form\" class=\"ng-scope\"><!-- ngIf: col.name === \\'company\\' --><!-- ngIf: col.name === \\'legalSeat\\' --><!-- ngIf: col.getValue --><div ng-bind-html=\"col.getValue(this, row)\" ng-if=\"col.getValue\" class=\"ng-binding ng-scope\"><span title=\"Sole proprietorship\">SP</span></div><!-- end ngIf: col.getValue --></td><!-- end ngIf: col.show() --><!-- end ngRepeat: col in $columns --><!-- ngIf: col.show() --><td ng-repeat=\"col in $columns\" filter=\"$listCtrl.filters[col.name]\" ng-if=\"col.show()\" data-title-text=\"seat\" class=\"ng-scope\"><!-- ngIf: col.name === \\'company\\' --><!-- ngIf: col.name === \\'legalSeat\\' --><div ng-if=\"col.name === \\'legalSeat\\'\" class=\"company-seat ng-scope\"><span ng-bind-html=\"highlight(row.legalSeat, $listCtrl.tableParams.filter(), \\'legalSeat\\')\" class=\"ng-binding\">Wölflinswil</span></div><!-- end ngIf: col.name === \\'legalSeat\\' --><!-- ngIf: col.getValue --></td><!-- end ngIf: col.show() --><!-- end ngRepeat: col in $columns --><!-- ngIf: col.show() --><td ng-repeat=\"col in $columns\" filter=\"$listCtrl.filters[col.name]\" ng-if=\"col.show()\" data-title-text=\"canton / rc\" class=\"ng-scope\"><!-- ngIf: col.name === \\'company\\' --><!-- ngIf: col.name === \\'legalSeat\\' --><!-- ngIf: col.getValue --><div ng-bind-html=\"col.getValue(this, row)\" ng-if=\"col.getValue\" class=\"ng-binding ng-scope\"><a title=\"Handelsregisteramt des Kantons Aargau\" href=\"http://www.ag.ch/handelsregisteramt/\" target=\"_blank\">AG - Aargau</a></div><!-- end ngIf: col.getValue --></td><!-- end ngIf: col.show() --><!-- end ngRepeat: col in $columns --><!-- ngIf: col.show() --><!-- end ngRepeat: col in $columns --></tr><!-- end ngRepeat: row in $data --><tr ng-repeat=\"row in $data\" class=\"ng-scope\"><!-- ngRepeat: col in $columns --><!-- ngIf: col.show() --><td ng-repeat=\"col in $columns\" filter=\"$listCtrl.filters[col.name]\" ng-if=\"col.show()\" data-title-text=\"business name\" class=\"ng-scope\"><!-- ngIf: col.name === \\'company\\' --><div ng-if=\"col.name === \\'company\\'\" ng-attr-title=\"{{row.name}}\" class=\"company-name ng-scope\" title=\"Bäckerei - Konditorei - Café Gut\"><a ui-sref=\".details({ ehraid: row.ehraid })\" ng-class=\"{ \\'strike-thru\\': row.status === \\'GELOESCHT\\'}\" ng-bind-html=\"highlight(row.name, $listCtrl.tableParams.filter(), \\'name\\')\" class=\"ng-binding\" href=\"/en/search/entity/list/firm/770662?name=b%C3%A4ckerei&amp;searchType=exact\">Bäckerei - Konditorei - Café Gut</a></div><!-- end ngIf: col.name === \\'company\\' --><!-- ngIf: col.name === \\'legalSeat\\' --><!-- ngIf: col.getValue --></td><!-- end ngIf: col.show() --><!-- end ngRepeat: col in $columns --><!-- ngIf: col.show() --><td ng-repeat=\"col in $columns\" filter=\"$listCtrl.filters[col.name]\" ng-if=\"col.show()\" data-title-text=\"excerpt\" class=\"ng-scope\"><!-- ngIf: col.name === \\'company\\' --><!-- ngIf: col.name === \\'legalSeat\\' --><!-- ngIf: col.getValue --><div ng-bind-html=\"col.getValue(this, row)\" ng-if=\"col.getValue\" class=\"ng-binding ng-scope\"><a href=\"https://lu.chregister.ch/cr-portal/auszug/zefix.xhtml?uid=CHE-112.034.070&amp;lang=de\" title=\"excerpt (Web)\" style=\"margin: 0em 1em;\" target=\"_blank\"><span class=\"icon icon--external\"></span></a>&nbsp;</div><!-- end ngIf: col.getValue --></td><!-- end ngIf: col.show() --><!-- end ngRepeat: col in $columns --><!-- ngIf: col.show() --><td ng-repeat=\"col in $columns\" filter=\"$listCtrl.filters[col.name]\" ng-if=\"col.show()\" data-title-text=\"UID / UID register\" class=\"ng-scope\"><!-- ngIf: col.name === \\'company\\' --><!-- ngIf: col.name === \\'legalSeat\\' --><!-- ngIf: col.getValue --><div ng-bind-html=\"col.getValue(this, row)\" ng-if=\"col.getValue\" class=\"ng-binding ng-scope\"><span class=\"no-wrap\">CHE-112.034.070<a class=\"uid-link\" href=\"https://www.uid.admin.ch/Detail.aspx?uid_id=CHE112034070\" target=\"_blank\"><span class=\"icon icon--external icon--after\"></span></a></span></div><!-- end ngIf: col.getValue --></td><!-- end ngIf: col.show() --><!-- end ngRepeat: col in $columns --><!-- ngIf: col.show() --><!-- end ngRepeat: col in $columns --><!-- ngIf: col.show() --><td ng-repeat=\"col in $columns\" filter=\"$listCtrl.filters[col.name]\" ng-if=\"col.show()\" data-title-text=\"legal form\" class=\"ng-scope\"><!-- ngIf: col.name === \\'company\\' --><!-- ngIf: col.name === \\'legalSeat\\' --><!-- ngIf: col.getValue --><div ng-bind-html=\"col.getValue(this, row)\" ng-if=\"col.getValue\" class=\"ng-binding ng-scope\"><span title=\"Sole proprietorship\">SP</span></div><!-- end ngIf: col.getValue --></td><!-- end ngIf: col.show() --><!-- end ngRepeat: col in $columns --><!-- ngIf: col.show() --><td ng-repeat=\"col in $columns\" filter=\"$listCtrl.filters[col.name]\" ng-if=\"col.show()\" data-title-text=\"seat\" class=\"ng-scope\"><!-- ngIf: col.name === \\'company\\' --><!-- ngIf: col.name === \\'legalSeat\\' --><div ng-if=\"col.name === \\'legalSeat\\'\" class=\"company-seat ng-scope\"><span ng-bind-html=\"highlight(row.legalSeat, $listCtrl.tableParams.filter(), \\'legalSeat\\')\" class=\"ng-binding\">Willisau</span></div><!-- end ngIf: col.name === \\'legalSeat\\' --><!-- ngIf: col.getValue --></td><!-- end ngIf: col.show() --><!-- end ngRepeat: col in $columns --><!-- ngIf: col.show() --><td ng-repeat=\"col in $columns\" filter=\"$listCtrl.filters[col.name]\" ng-if=\"col.show()\" data-title-text=\"canton / rc\" class=\"ng-scope\"><!-- ngIf: col.name === \\'company\\' --><!-- ngIf: col.name === \\'legalSeat\\' --><!-- ngIf: col.getValue --><div ng-bind-html=\"col.getValue(this, row)\" ng-if=\"col.getValue\" class=\"ng-binding ng-scope\"><a title=\"Handelsregisteramt des Kantons Luzern\" href=\"http://www.handelsregister.lu.ch/\" target=\"_blank\">LU - Luzern</a></div><!-- end ngIf: col.getValue --></td><!-- end ngIf: col.show() --><!-- end ngRepeat: col in $columns --><!-- ngIf: col.show() --><!-- end ngRepeat: col in $columns --></tr><!-- end ngRepeat: row in $data --><tr ng-repeat=\"row in $data\" class=\"ng-scope\"><!-- ngRepeat: col in $columns --><!-- ngIf: col.show() --><td ng-repeat=\"col in $columns\" filter=\"$listCtrl.filters[col.name]\" ng-if=\"col.show()\" data-title-text=\"business name\" class=\"ng-scope\"><!-- ngIf: col.name === \\'company\\' --><div ng-if=\"col.name === \\'company\\'\" ng-attr-title=\"{{row.name}}\" class=\"company-name ng-scope\" title=\"Bäckerei - Konditorei - Lebensmittel Leuenberger\"><a ui-sref=\".details({ ehraid: row.ehraid })\" ng-class=\"{ \\'strike-thru\\': row.status === \\'GELOESCHT\\'}\" ng-bind-html=\"highlight(row.name, $listCtrl.tableParams.filter(), \\'name\\')\" class=\"ng-binding\" href=\"/en/search/entity/list/firm/748504?name=b%C3%A4ckerei&amp;searchType=exact\">Bäckerei - Konditorei - Lebensmittel Leuenberger</a></div><!-- end ngIf: col.name === \\'company\\' --><!-- ngIf: col.name === \\'legalSeat\\' --><!-- ngIf: col.getValue --></td><!-- end ngIf: col.show() --><!-- end ngRepeat: col in $columns --><!-- ngIf: col.show() --><td ng-repeat=\"col in $columns\" filter=\"$listCtrl.filters[col.name]\" ng-if=\"col.show()\" data-title-text=\"excerpt\" class=\"ng-scope\"><!-- ngIf: col.name === \\'company\\' --><!-- ngIf: col.name === \\'legalSeat\\' --><!-- ngIf: col.getValue --><div ng-bind-html=\"col.getValue(this, row)\" ng-if=\"col.getValue\" class=\"ng-binding ng-scope\"><a href=\"https://so.chregister.ch/cr-portal/auszug/zefix.xhtml?uid=CHE-107.195.164&amp;lang=de\" title=\"excerpt (Web)\" style=\"margin: 0em 1em;\" target=\"_blank\"><span class=\"icon icon--external\"></span></a>&nbsp;</div><!-- end ngIf: col.getValue --></td><!-- end ngIf: col.show() --><!-- end ngRepeat: col in $columns --><!-- ngIf: col.show() --><td ng-repeat=\"col in $columns\" filter=\"$listCtrl.filters[col.name]\" ng-if=\"col.show()\" data-title-text=\"UID / UID register\" class=\"ng-scope\"><!-- ngIf: col.name === \\'company\\' --><!-- ngIf: col.name === \\'legalSeat\\' --><!-- ngIf: col.getValue --><div ng-bind-html=\"col.getValue(this, row)\" ng-if=\"col.getValue\" class=\"ng-binding ng-scope\"><span class=\"no-wrap\">CHE-107.195.164<a class=\"uid-link\" href=\"https://www.uid.admin.ch/Detail.aspx?uid_id=CHE107195164\" target=\"_blank\"><span class=\"icon icon--external icon--after\"></span></a></span></div><!-- end ngIf: col.getValue --></td><!-- end ngIf: col.show() --><!-- end ngRepeat: col in $columns --><!-- ngIf: col.show() --><!-- end ngRepeat: col in $columns --><!-- ngIf: col.show() --><td ng-repeat=\"col in $columns\" filter=\"$listCtrl.filters[col.name]\" ng-if=\"col.show()\" data-title-text=\"legal form\" class=\"ng-scope\"><!-- ngIf: col.name === \\'company\\' --><!-- ngIf: col.name === \\'legalSeat\\' --><!-- ngIf: col.getValue --><div ng-bind-html=\"col.getValue(this, row)\" ng-if=\"col.getValue\" class=\"ng-binding ng-scope\"><span title=\"Sole proprietorship\">SP</span></div><!-- end ngIf: col.getValue --></td><!-- end ngIf: col.show() --><!-- end ngRepeat: col in $columns --><!-- ngIf: col.show() --><td ng-repeat=\"col in $columns\" filter=\"$listCtrl.filters[col.name]\" ng-if=\"col.show()\" data-title-text=\"seat\" class=\"ng-scope\"><!-- ngIf: col.name === \\'company\\' --><!-- ngIf: col.name === \\'legalSeat\\' --><div ng-if=\"col.name === \\'legalSeat\\'\" class=\"company-seat ng-scope\"><span ng-bind-html=\"highlight(row.legalSeat, $listCtrl.tableParams.filter(), \\'legalSeat\\')\" class=\"ng-binding\">Erlinsbach (SO)</span></div><!-- end ngIf: col.name === \\'legalSeat\\' --><!-- ngIf: col.getValue --></td><!-- end ngIf: col.show() --><!-- end ngRepeat: col in $columns --><!-- ngIf: col.show() --><td ng-repeat=\"col in $columns\" filter=\"$listCtrl.filters[col.name]\" ng-if=\"col.show()\" data-title-text=\"canton / rc\" class=\"ng-scope\"><!-- ngIf: col.name === \\'company\\' --><!-- ngIf: col.name === \\'legalSeat\\' --><!-- ngIf: col.getValue --><div ng-bind-html=\"col.getValue(this, row)\" ng-if=\"col.getValue\" class=\"ng-binding ng-scope\"><a title=\"Handelsregisteramt des Kantons Solothurn\" href=\"http://www.so.ch/verwaltung/finanzdepartement/kantonales-handelsregister/\" target=\"_blank\">SO - Solothurn</a></div><!-- end ngIf: col.getValue --></td><!-- end ngIf: col.show() --><!-- end ngRepeat: col in $columns --><!-- ngIf: col.show() --><!-- end ngRepeat: col in $columns --></tr><!-- end ngRepeat: row in $data --><tr ng-repeat=\"row in $data\" class=\"ng-scope\"><!-- ngRepeat: col in $columns --><!-- ngIf: col.show() --><td ng-repeat=\"col in $columns\" filter=\"$listCtrl.filters[col.name]\" ng-if=\"col.show()\" data-title-text=\"business name\" class=\"ng-scope\"><!-- ngIf: col.name === \\'company\\' --><div ng-if=\"col.name === \\'company\\'\" ng-attr-title=\"{{row.name}}\" class=\"company-name ng-scope\" title=\"Bäckerei - Konditorei - Lebensmittel Oester\"><a ui-sref=\".details({ ehraid: row.ehraid })\" ng-class=\"{ \\'strike-thru\\': row.status === \\'GELOESCHT\\'}\" ng-bind-html=\"highlight(row.name, $listCtrl.tableParams.filter(), \\'name\\')\" class=\"ng-binding\" href=\"/en/search/entity/list/firm/623772?name=b%C3%A4ckerei&amp;searchType=exact\">Bäckerei - Konditorei - Lebensmittel Oester</a></div><!-- end ngIf: col.name === \\'company\\' --><!-- ngIf: col.name === \\'legalSeat\\' --><!-- ngIf: col.getValue --></td><!-- end ngIf: col.show() --><!-- end ngRepeat: col in $columns --><!-- ngIf: col.show() --><td ng-repeat=\"col in $columns\" filter=\"$listCtrl.filters[col.name]\" ng-if=\"col.show()\" data-title-text=\"excerpt\" class=\"ng-scope\"><!-- ngIf: col.name === \\'company\\' --><!-- ngIf: col.name === \\'legalSeat\\' --><!-- ngIf: col.getValue --><div ng-bind-html=\"col.getValue(this, row)\" ng-if=\"col.getValue\" class=\"ng-binding ng-scope\"><a href=\"https://be.chregister.ch/cr-portal/auszug/zefix.xhtml?uid=CHE-109.306.718&amp;lang=de\" title=\"excerpt (Web)\" style=\"margin: 0em 1em;\" target=\"_blank\"><span class=\"icon icon--external\"></span></a>&nbsp;</div><!-- end ngIf: col.getValue --></td><!-- end ngIf: col.show() --><!-- end ngRepeat: col in $columns --><!-- ngIf: col.show() --><td ng-repeat=\"col in $columns\" filter=\"$listCtrl.filters[col.name]\" ng-if=\"col.show()\" data-title-text=\"UID / UID register\" class=\"ng-scope\"><!-- ngIf: col.name === \\'company\\' --><!-- ngIf: col.name === \\'legalSeat\\' --><!-- ngIf: col.getValue --><div ng-bind-html=\"col.getValue(this, row)\" ng-if=\"col.getValue\" class=\"ng-binding ng-scope\"><span class=\"no-wrap\">CHE-109.306.718<a class=\"uid-link\" href=\"https://www.uid.admin.ch/Detail.aspx?uid_id=CHE109306718\" target=\"_blank\"><span class=\"icon icon--external icon--after\"></span></a></span></div><!-- end ngIf: col.getValue --></td><!-- end ngIf: col.show() --><!-- end ngRepeat: col in $columns --><!-- ngIf: col.show() --><!-- end ngRepeat: col in $columns --><!-- ngIf: col.show() --><td ng-repeat=\"col in $columns\" filter=\"$listCtrl.filters[col.name]\" ng-if=\"col.show()\" data-title-text=\"legal form\" class=\"ng-scope\"><!-- ngIf: col.name === \\'company\\' --><!-- ngIf: col.name === \\'legalSeat\\' --><!-- ngIf: col.getValue --><div ng-bind-html=\"col.getValue(this, row)\" ng-if=\"col.getValue\" class=\"ng-binding ng-scope\"><span title=\"Sole proprietorship\">SP</span></div><!-- end ngIf: col.getValue --></td><!-- end ngIf: col.show() --><!-- end ngRepeat: col in $columns --><!-- ngIf: col.show() --><td ng-repeat=\"col in $columns\" filter=\"$listCtrl.filters[col.name]\" ng-if=\"col.show()\" data-title-text=\"seat\" class=\"ng-scope\"><!-- ngIf: col.name === \\'company\\' --><!-- ngIf: col.name === \\'legalSeat\\' --><div ng-if=\"col.name === \\'legalSeat\\'\" class=\"company-seat ng-scope\"><span ng-bind-html=\"highlight(row.legalSeat, $listCtrl.tableParams.filter(), \\'legalSeat\\')\" class=\"ng-binding\">Adelboden</span></div><!-- end ngIf: col.name === \\'legalSeat\\' --><!-- ngIf: col.getValue --></td><!-- end ngIf: col.show() --><!-- end ngRepeat: col in $columns --><!-- ngIf: col.show() --><td ng-repeat=\"col in $columns\" filter=\"$listCtrl.filters[col.name]\" ng-if=\"col.show()\" data-title-text=\"canton / rc\" class=\"ng-scope\"><!-- ngIf: col.name === \\'company\\' --><!-- ngIf: col.name === \\'legalSeat\\' --><!-- ngIf: col.getValue --><div ng-bind-html=\"col.getValue(this, row)\" ng-if=\"col.getValue\" class=\"ng-binding ng-scope\"><a title=\"Handelsregisteramt des Kantons Bern\" href=\"http://www.hrabe.ch/\" target=\"_blank\">BE - Bern</a></div><!-- end ngIf: col.getValue --></td><!-- end ngIf: col.show() --><!-- end ngRepeat: col in $columns --><!-- ngIf: col.show() --><!-- end ngRepeat: col in $columns --></tr><!-- end ngRepeat: row in $data --><tr ng-repeat=\"row in $data\" class=\"ng-scope\"><!-- ngRepeat: col in $columns --><!-- ngIf: col.show() --><td ng-repeat=\"col in $columns\" filter=\"$listCtrl.filters[col.name]\" ng-if=\"col.show()\" data-title-text=\"business name\" class=\"ng-scope\"><!-- ngIf: col.name === \\'company\\' --><div ng-if=\"col.name === \\'company\\'\" ng-attr-title=\"{{row.name}}\" class=\"company-name ng-scope\" title=\"Bäckerei - Konditorei Adula, Georg Schmid und Josefin Burri\"><a ui-sref=\".details({ ehraid: row.ehraid })\" ng-class=\"{ \\'strike-thru\\': row.status === \\'GELOESCHT\\'}\" ng-bind-html=\"highlight(row.name, $listCtrl.tableParams.filter(), \\'name\\')\" class=\"ng-binding\" href=\"/en/search/entity/list/firm/1056466?name=b%C3%A4ckerei&amp;searchType=exact\">Bäckerei - Konditorei Adula, Georg Schmid und Josefin Burri</a></div><!-- end ngIf: col.name === \\'company\\' --><!-- ngIf: col.name === \\'legalSeat\\' --><!-- ngIf: col.getValue --></td><!-- end ngIf: col.show() --><!-- end ngRepeat: col in $columns --><!-- ngIf: col.show() --><td ng-repeat=\"col in $columns\" filter=\"$listCtrl.filters[col.name]\" ng-if=\"col.show()\" data-title-text=\"excerpt\" class=\"ng-scope\"><!-- ngIf: col.name === \\'company\\' --><!-- ngIf: col.name === \\'legalSeat\\' --><!-- ngIf: col.getValue --><div ng-bind-html=\"col.getValue(this, row)\" ng-if=\"col.getValue\" class=\"ng-binding ng-scope\"><a href=\"https://gr.chregister.ch/cr-portal/auszug/zefix.xhtml?uid=CHE-438.593.065&amp;lang=de\" title=\"excerpt (Web)\" style=\"margin: 0em 1em;\" target=\"_blank\"><span class=\"icon icon--external\"></span></a>&nbsp;</div><!-- end ngIf: col.getValue --></td><!-- end ngIf: col.show() --><!-- end ngRepeat: col in $columns --><!-- ngIf: col.show() --><td ng-repeat=\"col in $columns\" filter=\"$listCtrl.filters[col.name]\" ng-if=\"col.show()\" data-title-text=\"UID / UID register\" class=\"ng-scope\"><!-- ngIf: col.name === \\'company\\' --><!-- ngIf: col.name === \\'legalSeat\\' --><!-- ngIf: col.getValue --><div ng-bind-html=\"col.getValue(this, row)\" ng-if=\"col.getValue\" class=\"ng-binding ng-scope\"><span class=\"no-wrap\">CHE-438.593.065<a class=\"uid-link\" href=\"https://www.uid.admin.ch/Detail.aspx?uid_id=CHE438593065\" target=\"_blank\"><span class=\"icon icon--external icon--after\"></span></a></span></div><!-- end ngIf: col.getValue --></td><!-- end ngIf: col.show() --><!-- end ngRepeat: col in $columns --><!-- ngIf: col.show() --><!-- end ngRepeat: col in $columns --><!-- ngIf: col.show() --><td ng-repeat=\"col in $columns\" filter=\"$listCtrl.filters[col.name]\" ng-if=\"col.show()\" data-title-text=\"legal form\" class=\"ng-scope\"><!-- ngIf: col.name === \\'company\\' --><!-- ngIf: col.name === \\'legalSeat\\' --><!-- ngIf: col.getValue --><div ng-bind-html=\"col.getValue(this, row)\" ng-if=\"col.getValue\" class=\"ng-binding ng-scope\"><span title=\"General Partnership\">GP</span></div><!-- end ngIf: col.getValue --></td><!-- end ngIf: col.show() --><!-- end ngRepeat: col in $columns --><!-- ngIf: col.show() --><td ng-repeat=\"col in $columns\" filter=\"$listCtrl.filters[col.name]\" ng-if=\"col.show()\" data-title-text=\"seat\" class=\"ng-scope\"><!-- ngIf: col.name === \\'company\\' --><!-- ngIf: col.name === \\'legalSeat\\' --><div ng-if=\"col.name === \\'legalSeat\\'\" class=\"company-seat ng-scope\"><span ng-bind-html=\"highlight(row.legalSeat, $listCtrl.tableParams.filter(), \\'legalSeat\\')\" class=\"ng-binding\">Tujetsch</span></div><!-- end ngIf: col.name === \\'legalSeat\\' --><!-- ngIf: col.getValue --></td><!-- end ngIf: col.show() --><!-- end ngRepeat: col in $columns --><!-- ngIf: col.show() --><td ng-repeat=\"col in $columns\" filter=\"$listCtrl.filters[col.name]\" ng-if=\"col.show()\" data-title-text=\"canton / rc\" class=\"ng-scope\"><!-- ngIf: col.name === \\'company\\' --><!-- ngIf: col.name === \\'legalSeat\\' --><!-- ngIf: col.getValue --><div ng-bind-html=\"col.getValue(this, row)\" ng-if=\"col.getValue\" class=\"ng-binding ng-scope\"><a title=\"Handelsregisteramt des Kantons Graubünden\" href=\"http://www.gr.ch/DE/institutionen/verwaltung/dvs/giha/ueberuns/Seiten/home.aspx\" target=\"_blank\">GR - Graubünden</a></div><!-- end ngIf: col.getValue --></td><!-- end ngIf: col.show() --><!-- end ngRepeat: col in $columns --><!-- ngIf: col.show() --><!-- end ngRepeat: col in $columns --></tr><!-- end ngRepeat: row in $data --><tr ng-repeat=\"row in $data\" class=\"ng-scope\"><!-- ngRepeat: col in $columns --><!-- ngIf: col.show() --><td ng-repeat=\"col in $columns\" filter=\"$listCtrl.filters[col.name]\" ng-if=\"col.show()\" data-title-text=\"business name\" class=\"ng-scope\"><!-- ngIf: col.name === \\'company\\' --><div ng-if=\"col.name === \\'company\\'\" ng-attr-title=\"{{row.name}}\" class=\"company-name ng-scope\" title=\"Bäckerei - Konditorei D. Pfister\"><a ui-sref=\".details({ ehraid: row.ehraid })\" ng-class=\"{ \\'strike-thru\\': row.status === \\'GELOESCHT\\'}\" ng-bind-html=\"highlight(row.name, $listCtrl.tableParams.filter(), \\'name\\')\" class=\"ng-binding\" href=\"/en/search/entity/list/firm/999069?name=b%C3%A4ckerei&amp;searchType=exact\">Bäckerei - Konditorei D. Pfister</a></div><!-- end ngIf: col.name === \\'company\\' --><!-- ngIf: col.name === \\'legalSeat\\' --><!-- ngIf: col.getValue --></td><!-- end ngIf: col.show() --><!-- end ngRepeat: col in $columns --><!-- ngIf: col.show() --><td ng-repeat=\"col in $columns\" filter=\"$listCtrl.filters[col.name]\" ng-if=\"col.show()\" data-title-text=\"excerpt\" class=\"ng-scope\"><!-- ngIf: col.name === \\'company\\' --><!-- ngIf: col.name === \\'legalSeat\\' --><!-- ngIf: col.getValue --><div ng-bind-html=\"col.getValue(this, row)\" ng-if=\"col.getValue\" class=\"ng-binding ng-scope\"><a href=\"https://be.chregister.ch/cr-portal/auszug/zefix.xhtml?uid=CHE-116.198.463&amp;lang=de\" title=\"excerpt (Web)\" style=\"margin: 0em 1em;\" target=\"_blank\"><span class=\"icon icon--external\"></span></a>&nbsp;</div><!-- end ngIf: col.getValue --></td><!-- end ngIf: col.show() --><!-- end ngRepeat: col in $columns --><!-- ngIf: col.show() --><td ng-repeat=\"col in $columns\" filter=\"$listCtrl.filters[col.name]\" ng-if=\"col.show()\" data-title-text=\"UID / UID register\" class=\"ng-scope\"><!-- ngIf: col.name === \\'company\\' --><!-- ngIf: col.name === \\'legalSeat\\' --><!-- ngIf: col.getValue --><div ng-bind-html=\"col.getValue(this, row)\" ng-if=\"col.getValue\" class=\"ng-binding ng-scope\"><span class=\"no-wrap\">CHE-116.198.463<a class=\"uid-link\" href=\"https://www.uid.admin.ch/Detail.aspx?uid_id=CHE116198463\" target=\"_blank\"><span class=\"icon icon--external icon--after\"></span></a></span></div><!-- end ngIf: col.getValue --></td><!-- end ngIf: col.show() --><!-- end ngRepeat: col in $columns --><!-- ngIf: col.show() --><!-- end ngRepeat: col in $columns --><!-- ngIf: col.show() --><td ng-repeat=\"col in $columns\" filter=\"$listCtrl.filters[col.name]\" ng-if=\"col.show()\" data-title-text=\"legal form\" class=\"ng-scope\"><!-- ngIf: col.name === \\'company\\' --><!-- ngIf: col.name === \\'legalSeat\\' --><!-- ngIf: col.getValue --><div ng-bind-html=\"col.getValue(this, row)\" ng-if=\"col.getValue\" class=\"ng-binding ng-scope\"><span title=\"Sole proprietorship\">SP</span></div><!-- end ngIf: col.getValue --></td><!-- end ngIf: col.show() --><!-- end ngRepeat: col in $columns --><!-- ngIf: col.show() --><td ng-repeat=\"col in $columns\" filter=\"$listCtrl.filters[col.name]\" ng-if=\"col.show()\" data-title-text=\"seat\" class=\"ng-scope\"><!-- ngIf: col.name === \\'company\\' --><!-- ngIf: col.name === \\'legalSeat\\' --><div ng-if=\"col.name === \\'legalSeat\\'\" class=\"company-seat ng-scope\"><span ng-bind-html=\"highlight(row.legalSeat, $listCtrl.tableParams.filter(), \\'legalSeat\\')\" class=\"ng-binding\">Uetendorf</span></div><!-- end ngIf: col.name === \\'legalSeat\\' --><!-- ngIf: col.getValue --></td><!-- end ngIf: col.show() --><!-- end ngRepeat: col in $columns --><!-- ngIf: col.show() --><td ng-repeat=\"col in $columns\" filter=\"$listCtrl.filters[col.name]\" ng-if=\"col.show()\" data-title-text=\"canton / rc\" class=\"ng-scope\"><!-- ngIf: col.name === \\'company\\' --><!-- ngIf: col.name === \\'legalSeat\\' --><!-- ngIf: col.getValue --><div ng-bind-html=\"col.getValue(this, row)\" ng-if=\"col.getValue\" class=\"ng-binding ng-scope\"><a title=\"Handelsregisteramt des Kantons Bern\" href=\"http://www.hrabe.ch/\" target=\"_blank\">BE - Bern</a></div><!-- end ngIf: col.getValue --></td><!-- end ngIf: col.show() --><!-- end ngRepeat: col in $columns --><!-- ngIf: col.show() --><!-- end ngRepeat: col in $columns --></tr><!-- end ngRepeat: row in $data --><tr ng-repeat=\"row in $data\" class=\"ng-scope\"><!-- ngRepeat: col in $columns --><!-- ngIf: col.show() --><td ng-repeat=\"col in $columns\" filter=\"$listCtrl.filters[col.name]\" ng-if=\"col.show()\" data-title-text=\"business name\" class=\"ng-scope\"><!-- ngIf: col.name === \\'company\\' --><div ng-if=\"col.name === \\'company\\'\" ng-attr-title=\"{{row.name}}\" class=\"company-name ng-scope\" title=\"Bäckerei - Konditorei Eichenberger AG\"><a ui-sref=\".details({ ehraid: row.ehraid })\" ng-class=\"{ \\'strike-thru\\': row.status === \\'GELOESCHT\\'}\" ng-bind-html=\"highlight(row.name, $listCtrl.tableParams.filter(), \\'name\\')\" class=\"ng-binding\" href=\"/en/search/entity/list/firm/1263740?name=b%C3%A4ckerei&amp;searchType=exact\">Bäckerei - Konditorei Eichenberger AG</a></div><!-- end ngIf: col.name === \\'company\\' --><!-- ngIf: col.name === \\'legalSeat\\' --><!-- ngIf: col.getValue --></td><!-- end ngIf: col.show() --><!-- end ngRepeat: col in $columns --><!-- ngIf: col.show() --><td ng-repeat=\"col in $columns\" filter=\"$listCtrl.filters[col.name]\" ng-if=\"col.show()\" data-title-text=\"excerpt\" class=\"ng-scope\"><!-- ngIf: col.name === \\'company\\' --><!-- ngIf: col.name === \\'legalSeat\\' --><!-- ngIf: col.getValue --><div ng-bind-html=\"col.getValue(this, row)\" ng-if=\"col.getValue\" class=\"ng-binding ng-scope\"><a href=\"https://be.chregister.ch/cr-portal/auszug/zefix.xhtml?uid=CHE-313.666.724&amp;lang=de\" title=\"excerpt (Web)\" style=\"margin: 0em 1em;\" target=\"_blank\"><span class=\"icon icon--external\"></span></a>&nbsp;</div><!-- end ngIf: col.getValue --></td><!-- end ngIf: col.show() --><!-- end ngRepeat: col in $columns --><!-- ngIf: col.show() --><td ng-repeat=\"col in $columns\" filter=\"$listCtrl.filters[col.name]\" ng-if=\"col.show()\" data-title-text=\"UID / UID register\" class=\"ng-scope\"><!-- ngIf: col.name === \\'company\\' --><!-- ngIf: col.name === \\'legalSeat\\' --><!-- ngIf: col.getValue --><div ng-bind-html=\"col.getValue(this, row)\" ng-if=\"col.getValue\" class=\"ng-binding ng-scope\"><span class=\"no-wrap\">CHE-313.666.724<a class=\"uid-link\" href=\"https://www.uid.admin.ch/Detail.aspx?uid_id=CHE313666724\" target=\"_blank\"><span class=\"icon icon--external icon--after\"></span></a></span></div><!-- end ngIf: col.getValue --></td><!-- end ngIf: col.show() --><!-- end ngRepeat: col in $columns --><!-- ngIf: col.show() --><!-- end ngRepeat: col in $columns --><!-- ngIf: col.show() --><td ng-repeat=\"col in $columns\" filter=\"$listCtrl.filters[col.name]\" ng-if=\"col.show()\" data-title-text=\"legal form\" class=\"ng-scope\"><!-- ngIf: col.name === \\'company\\' --><!-- ngIf: col.name === \\'legalSeat\\' --><!-- ngIf: col.getValue --><div ng-bind-html=\"col.getValue(this, row)\" ng-if=\"col.getValue\" class=\"ng-binding ng-scope\"><span title=\"Corporation\">Ltd</span></div><!-- end ngIf: col.getValue --></td><!-- end ngIf: col.show() --><!-- end ngRepeat: col in $columns --><!-- ngIf: col.show() --><td ng-repeat=\"col in $columns\" filter=\"$listCtrl.filters[col.name]\" ng-if=\"col.show()\" data-title-text=\"seat\" class=\"ng-scope\"><!-- ngIf: col.name === \\'company\\' --><!-- ngIf: col.name === \\'legalSeat\\' --><div ng-if=\"col.name === \\'legalSeat\\'\" class=\"company-seat ng-scope\"><span ng-bind-html=\"highlight(row.legalSeat, $listCtrl.tableParams.filter(), \\'legalSeat\\')\" class=\"ng-binding\">Langnau im Emmental</span></div><!-- end ngIf: col.name === \\'legalSeat\\' --><!-- ngIf: col.getValue --></td><!-- end ngIf: col.show() --><!-- end ngRepeat: col in $columns --><!-- ngIf: col.show() --><td ng-repeat=\"col in $columns\" filter=\"$listCtrl.filters[col.name]\" ng-if=\"col.show()\" data-title-text=\"canton / rc\" class=\"ng-scope\"><!-- ngIf: col.name === \\'company\\' --><!-- ngIf: col.name === \\'legalSeat\\' --><!-- ngIf: col.getValue --><div ng-bind-html=\"col.getValue(this, row)\" ng-if=\"col.getValue\" class=\"ng-binding ng-scope\"><a title=\"Handelsregisteramt des Kantons Bern\" href=\"http://www.hrabe.ch/\" target=\"_blank\">BE - Bern</a></div><!-- end ngIf: col.getValue --></td><!-- end ngIf: col.show() --><!-- end ngRepeat: col in $columns --><!-- ngIf: col.show() --><!-- end ngRepeat: col in $columns --></tr><!-- end ngRepeat: row in $data --></tbody></table><div ng-table-pagination=\"params\" template-url=\"templates.pagination\" class=\"ng-scope ng-isolate-scope\"><!-- ngInclude: templateUrl --><div ng-include=\"templateUrl\" class=\"ng-scope\"><!-- ngIf: params.data.length --><div class=\"ng-table-pager ng-scope\" ng-if=\"params.data.length\"> <!-- ngIf: params.settings().counts.length --> <!-- ngIf: pages.length --><ul ng-if=\"pages.length\" class=\"pagination ng-table-pagination ng-scope\"> <!-- ngRepeat: page in pages --><li ng-class=\"{\\'disabled\\': !page.active &amp;&amp; !page.current, \\'active\\': page.current}\" ng-repeat=\"page in pages\" ng-switch=\"page.type\" class=\"ng-scope disabled\"> <!-- ngSwitchWhen: prev --><a ng-switch-when=\"prev\" ng-click=\"params.page(page.number)\" href=\"\" class=\"ng-scope\">«</a><!-- end ngSwitchWhen: --> <!-- ngSwitchWhen: first --> <!-- ngSwitchWhen: page --> <!-- ngSwitchWhen: more --> <!-- ngSwitchWhen: last --> <!-- ngSwitchWhen: next --> </li><!-- end ngRepeat: page in pages --><li ng-class=\"{\\'disabled\\': !page.active &amp;&amp; !page.current, \\'active\\': page.current}\" ng-repeat=\"page in pages\" ng-switch=\"page.type\" class=\"ng-scope active\"> <!-- ngSwitchWhen: prev --> <!-- ngSwitchWhen: first --><a ng-switch-when=\"first\" ng-click=\"params.page(page.number)\" href=\"\" class=\"ng-scope\"><span ng-bind=\"page.number\" class=\"ng-binding\">1</span></a><!-- end ngSwitchWhen: --> <!-- ngSwitchWhen: page --> <!-- ngSwitchWhen: more --> <!-- ngSwitchWhen: last --> <!-- ngSwitchWhen: next --> </li><!-- end ngRepeat: page in pages --><li ng-class=\"{\\'disabled\\': !page.active &amp;&amp; !page.current, \\'active\\': page.current}\" ng-repeat=\"page in pages\" ng-switch=\"page.type\" class=\"ng-scope\"> <!-- ngSwitchWhen: prev --> <!-- ngSwitchWhen: first --> <!-- ngSwitchWhen: page --><a ng-switch-when=\"page\" ng-click=\"params.page(page.number)\" href=\"\" class=\"ng-scope\"><span ng-bind=\"page.number\" class=\"ng-binding\">2</span></a><!-- end ngSwitchWhen: --> <!-- ngSwitchWhen: more --> <!-- ngSwitchWhen: last --> <!-- ngSwitchWhen: next --> </li><!-- end ngRepeat: page in pages --><li ng-class=\"{\\'disabled\\': !page.active &amp;&amp; !page.current, \\'active\\': page.current}\" ng-repeat=\"page in pages\" ng-switch=\"page.type\" class=\"ng-scope\"> <!-- ngSwitchWhen: prev --> <!-- ngSwitchWhen: first --> <!-- ngSwitchWhen: page --><a ng-switch-when=\"page\" ng-click=\"params.page(page.number)\" href=\"\" class=\"ng-scope\"><span ng-bind=\"page.number\" class=\"ng-binding\">3</span></a><!-- end ngSwitchWhen: --> <!-- ngSwitchWhen: more --> <!-- ngSwitchWhen: last --> <!-- ngSwitchWhen: next --> </li><!-- end ngRepeat: page in pages --><li ng-class=\"{\\'disabled\\': !page.active &amp;&amp; !page.current, \\'active\\': page.current}\" ng-repeat=\"page in pages\" ng-switch=\"page.type\" class=\"ng-scope\"> <!-- ngSwitchWhen: prev --> <!-- ngSwitchWhen: first --> <!-- ngSwitchWhen: page --><a ng-switch-when=\"page\" ng-click=\"params.page(page.number)\" href=\"\" class=\"ng-scope\"><span ng-bind=\"page.number\" class=\"ng-binding\">4</span></a><!-- end ngSwitchWhen: --> <!-- ngSwitchWhen: more --> <!-- ngSwitchWhen: last --> <!-- ngSwitchWhen: next --> </li><!-- end ngRepeat: page in pages --><li ng-class=\"{\\'disabled\\': !page.active &amp;&amp; !page.current, \\'active\\': page.current}\" ng-repeat=\"page in pages\" ng-switch=\"page.type\" class=\"ng-scope\"> <!-- ngSwitchWhen: prev --> <!-- ngSwitchWhen: first --> <!-- ngSwitchWhen: page --><a ng-switch-when=\"page\" ng-click=\"params.page(page.number)\" href=\"\" class=\"ng-scope\"><span ng-bind=\"page.number\" class=\"ng-binding\">5</span></a><!-- end ngSwitchWhen: --> <!-- ngSwitchWhen: more --> <!-- ngSwitchWhen: last --> <!-- ngSwitchWhen: next --> </li><!-- end ngRepeat: page in pages --><li ng-class=\"{\\'disabled\\': !page.active &amp;&amp; !page.current, \\'active\\': page.current}\" ng-repeat=\"page in pages\" ng-switch=\"page.type\" class=\"ng-scope\"> <!-- ngSwitchWhen: prev --> <!-- ngSwitchWhen: first --> <!-- ngSwitchWhen: page --><a ng-switch-when=\"page\" ng-click=\"params.page(page.number)\" href=\"\" class=\"ng-scope\"><span ng-bind=\"page.number\" class=\"ng-binding\">6</span></a><!-- end ngSwitchWhen: --> <!-- ngSwitchWhen: more --> <!-- ngSwitchWhen: last --> <!-- ngSwitchWhen: next --> </li><!-- end ngRepeat: page in pages --><li ng-class=\"{\\'disabled\\': !page.active &amp;&amp; !page.current, \\'active\\': page.current}\" ng-repeat=\"page in pages\" ng-switch=\"page.type\" class=\"ng-scope\"> <!-- ngSwitchWhen: prev --> <!-- ngSwitchWhen: first --> <!-- ngSwitchWhen: page --><a ng-switch-when=\"page\" ng-click=\"params.page(page.number)\" href=\"\" class=\"ng-scope\"><span ng-bind=\"page.number\" class=\"ng-binding\">7</span></a><!-- end ngSwitchWhen: --> <!-- ngSwitchWhen: more --> <!-- ngSwitchWhen: last --> <!-- ngSwitchWhen: next --> </li><!-- end ngRepeat: page in pages --><li ng-class=\"{\\'disabled\\': !page.active &amp;&amp; !page.current, \\'active\\': page.current}\" ng-repeat=\"page in pages\" ng-switch=\"page.type\" class=\"ng-scope disabled\"> <!-- ngSwitchWhen: prev --> <!-- ngSwitchWhen: first --> <!-- ngSwitchWhen: page --> <!-- ngSwitchWhen: more --><a ng-switch-when=\"more\" ng-click=\"params.page(page.number)\" href=\"\" class=\"ng-scope\">…</a><!-- end ngSwitchWhen: --> <!-- ngSwitchWhen: last --> <!-- ngSwitchWhen: next --> </li><!-- end ngRepeat: page in pages --><li ng-class=\"{\\'disabled\\': !page.active &amp;&amp; !page.current, \\'active\\': page.current}\" ng-repeat=\"page in pages\" ng-switch=\"page.type\" class=\"ng-scope\"> <!-- ngSwitchWhen: prev --> <!-- ngSwitchWhen: first --> <!-- ngSwitchWhen: page --> <!-- ngSwitchWhen: more --> <!-- ngSwitchWhen: last --><a ng-switch-when=\"last\" ng-click=\"params.page(page.number)\" href=\"\" class=\"ng-scope\"><span ng-bind=\"page.number\" class=\"ng-binding\">35</span></a><!-- end ngSwitchWhen: --> <!-- ngSwitchWhen: next --> </li><!-- end ngRepeat: page in pages --><li ng-class=\"{\\'disabled\\': !page.active &amp;&amp; !page.current, \\'active\\': page.current}\" ng-repeat=\"page in pages\" ng-switch=\"page.type\" class=\"ng-scope\"> <!-- ngSwitchWhen: prev --> <!-- ngSwitchWhen: first --> <!-- ngSwitchWhen: page --> <!-- ngSwitchWhen: more --> <!-- ngSwitchWhen: last --> <!-- ngSwitchWhen: next --><a ng-switch-when=\"next\" ng-click=\"params.page(page.number)\" href=\"\" class=\"ng-scope\">»</a><!-- end ngSwitchWhen: --> </li><!-- end ngRepeat: page in pages --> </ul><!-- end ngIf: pages.length --> </div><!-- end ngIf: params.data.length --> </div></div></div><div class=\"bottom-pagination\"><zefix-pagination ng-show=\"pageSize() > 10\" table-params=\"$listCtrl.tableParams\" collection=\"$listCtrl.result\" class=\"ng-isolate-scope ng-hide\"><nav class=\"pagination-container clearfix noselect\"><div class=\"visible-sm-inline visible-md-inline visible-lg-inline\"><div ng-click=\"gotoPage(1)\" class=\"btn btn-default btn-pagination half-width\"><span class=\"icon icon--fast-backward\"></span></div><div ng-click=\"gotoPage(pagination.currentPage - 1)\" ng-disable=\"pagination.currentPage<=1\" class=\"btn btn-default btn-pagination\"><span class=\"icon icon--left\"></span></div><span class=\"ng-binding\">page</span><input id=\"input-page-nr\" type=\"number\" ng-model=\"pagination.currentPage\" ng-change=\"gotoPage(pagination.currentPage)\" class=\"ng-pristine ng-untouched ng-valid ng-not-empty\"><span class=\"ng-binding\">/ 35</span><div ng-click=\"gotoPage(pagination.currentPage + 1)\" class=\"btn btn-default btn-pagination\"><span class=\"icon icon--right\"></span></div><div ng-click=\"gotoPage(pagination.maxPage)\" class=\"btn btn-default btn-pagination half-width\"><span class=\"icon icon--fast-forward\"></span></div></div><div class=\"inline-block visible-md-inline visible-lg-inline visible-xs-block\"><span class=\"ng-binding\">hit</span><span>&nbsp;</span><span class=\"ng-binding\">1 - 10</span><span>&nbsp;</span><span class=\"ng-binding\">of</span><span>&nbsp;</span><span class=\"ng-binding\">342 (342</span><span>&nbsp;</span><span class=\"ng-binding\">total )</span></div><div class=\"pull-right hidden-xs\"><div class=\"inline-block visible-md-inline visible-lg-inline ng-binding\">results per page&nbsp;</div><div class=\"inline-block hidden-xs\"><!-- ngRepeat: num in [10,25,50,100] track by $index --><span ng-repeat=\"num in [10,25,50,100] track by $index\" ng-click=\"pagination.pageSize = num\" class=\"page-size-btn btn btn-xs btn-default ng-binding ng-scope\">10</span><!-- end ngRepeat: num in [10,25,50,100] track by $index --><span ng-repeat=\"num in [10,25,50,100] track by $index\" ng-click=\"pagination.pageSize = num\" class=\"page-size-btn btn btn-xs btn-default ng-binding ng-scope\">25</span><!-- end ngRepeat: num in [10,25,50,100] track by $index --><span ng-repeat=\"num in [10,25,50,100] track by $index\" ng-click=\"pagination.pageSize = num\" class=\"page-size-btn btn btn-xs btn-default ng-binding ng-scope\">50</span><!-- end ngRepeat: num in [10,25,50,100] track by $index --><span ng-repeat=\"num in [10,25,50,100] track by $index\" ng-click=\"pagination.pageSize = num\" class=\"page-size-btn btn btn-xs btn-default ng-binding ng-scope\">100</span><!-- end ngRepeat: num in [10,25,50,100] track by $index --></div><input id=\"input-page-size\" type=\"number\" ng-model=\"pagination.pageSize\" min=\"1\" max=\"200\" ng-change=\"savePageSizeSetting(pagination.pageSize)\" class=\"ng-pristine ng-untouched ng-valid ng-not-empty ng-valid-min ng-valid-max\"></div></nav></zefix-pagination></div><div class=\"another-disclaimer\"><p ng-bind-html=\"$translate.instant(\\'another.disclaimer\\')\" class=\"ng-binding\">The data provided electronically by the internet database Zefix is not legally valid. You can obtain a confirmed information if a business name already exists by <a href=\"https://www.regix.ch\">REGIX</a>.</p></div></div><div ng-show=\"$listCtrl.result.list.length > 0\" ng-swipe-right=\"app.layout.isIOS ? null : (showMobileFilter.canton = true)\" ng-swipe-left=\"app.layout.isIOS ? null : (showMobileFilter.legalForm = true)\" class=\"visible-xs hidden-print\"><div class=\"zefix-mobile-filter-buttons\"><div ng-click=\"showMobileFilter.canton = !showMobileFilter.canton\" class=\"canton btn btn-default ng-binding\">canton / rc<!-- ngIf: mobileFilterData.canton --></div><div ng-click=\"showMobileFilter.legalForm = !showMobileFilter.legalForm\" class=\"legalform btn btn-default ng-binding\">legal form<!-- ngIf: mobileFilterData.legalForm --></div></div><div class=\"zefix-search-results\"><h1 class=\"ng-binding\">342 hit</h1><!-- ngRepeat: company in $listCtrl.result.list | filter: zefixCantonFilter | filter: zefixLegalformFilter | limitTo: pagination.mobilePageSize as filteredList --><div ng-repeat=\"company in $listCtrl.result.list | filter: zefixCantonFilter | filter: zefixLegalformFilter | limitTo: pagination.mobilePageSize as filteredList\" class=\"company-card ng-scope\"><h4 ng-class=\"{ \\'strike-thru\\': company.status === \\'GELOESCHT\\'}\"><a ui-sref=\".details({ ehraid: company.ehraid })\" class=\"ng-binding\" href=\"/en/search/entity/list/firm/1167884?name=b%C3%A4ckerei&amp;searchType=exact\">Bäckerei \"gsund\" AG</a></h4><div><strong class=\"ng-binding\">Corporation</strong><strong class=\"pull-right ng-binding\">Feusisberg&nbsp;<span class=\"ng-binding\">[SZ]</span></strong><span></span></div><div class=\"top-right-corner\"><img ng-src=\"assets/images/flags/SZ.png\" height=\"22\" src=\"assets/images/flags/SZ.png\"></div></div><!-- end ngRepeat: company in $listCtrl.result.list | filter: zefixCantonFilter | filter: zefixLegalformFilter | limitTo: pagination.mobilePageSize as filteredList --><div ng-repeat=\"company in $listCtrl.result.list | filter: zefixCantonFilter | filter: zefixLegalformFilter | limitTo: pagination.mobilePageSize as filteredList\" class=\"company-card ng-scope\"><h4 ng-class=\"{ \\'strike-thru\\': company.status === \\'GELOESCHT\\'}\"><a ui-sref=\".details({ ehraid: company.ehraid })\" class=\"ng-binding\" href=\"/en/search/entity/list/firm/963213?name=b%C3%A4ckerei&amp;searchType=exact\">Bäckerei &amp; Catering M Janicijevic</a></h4><div><strong class=\"ng-binding\">Sole proprietorship</strong><strong class=\"pull-right ng-binding\">Zürich&nbsp;<span class=\"ng-binding\">[ZH]</span></strong><span></span></div><div class=\"top-right-corner\"><img ng-src=\"assets/images/flags/ZH.png\" height=\"22\" src=\"assets/images/flags/ZH.png\"></div></div><!-- end ngRepeat: company in $listCtrl.result.list | filter: zefixCantonFilter | filter: zefixLegalformFilter | limitTo: pagination.mobilePageSize as filteredList --><div ng-repeat=\"company in $listCtrl.result.list | filter: zefixCantonFilter | filter: zefixLegalformFilter | limitTo: pagination.mobilePageSize as filteredList\" class=\"company-card ng-scope\"><h4 ng-class=\"{ \\'strike-thru\\': company.status === \\'GELOESCHT\\'}\"><a ui-sref=\".details({ ehraid: company.ehraid })\" class=\"ng-binding\" href=\"/en/search/entity/list/firm/752847?name=b%C3%A4ckerei&amp;searchType=exact\">Bäckerei &amp; Konditorei, Biner &amp; Co.</a></h4><div><strong class=\"ng-binding\">General Partnership</strong><strong class=\"pull-right ng-binding\">Zermatt&nbsp;<span class=\"ng-binding\">[VS]</span></strong><span></span></div><div class=\"top-right-corner\"><img ng-src=\"assets/images/flags/VS.png\" height=\"22\" src=\"assets/images/flags/VS.png\"></div></div><!-- end ngRepeat: company in $listCtrl.result.list | filter: zefixCantonFilter | filter: zefixLegalformFilter | limitTo: pagination.mobilePageSize as filteredList --><div ng-repeat=\"company in $listCtrl.result.list | filter: zefixCantonFilter | filter: zefixLegalformFilter | limitTo: pagination.mobilePageSize as filteredList\" class=\"company-card ng-scope\"><h4 ng-class=\"{ \\'strike-thru\\': company.status === \\'GELOESCHT\\'}\"><a ui-sref=\".details({ ehraid: company.ehraid })\" class=\"ng-binding\" href=\"/en/search/entity/list/firm/991050?name=b%C3%A4ckerei&amp;searchType=exact\">Bäckerei + Party-Service Sandra Bircher</a></h4><div><strong class=\"ng-binding\">Sole proprietorship</strong><strong class=\"pull-right ng-binding\">Wölflinswil&nbsp;<span class=\"ng-binding\">[AG]</span></strong><span></span></div><div class=\"top-right-corner\"><img ng-src=\"assets/images/flags/AG.png\" height=\"22\" src=\"assets/images/flags/AG.png\"></div></div><!-- end ngRepeat: company in $listCtrl.result.list | filter: zefixCantonFilter | filter: zefixLegalformFilter | limitTo: pagination.mobilePageSize as filteredList --><div ng-repeat=\"company in $listCtrl.result.list | filter: zefixCantonFilter | filter: zefixLegalformFilter | limitTo: pagination.mobilePageSize as filteredList\" class=\"company-card ng-scope\"><h4 ng-class=\"{ \\'strike-thru\\': company.status === \\'GELOESCHT\\'}\"><a ui-sref=\".details({ ehraid: company.ehraid })\" class=\"ng-binding\" href=\"/en/search/entity/list/firm/770662?name=b%C3%A4ckerei&amp;searchType=exact\">Bäckerei - Konditorei - Café Gut</a></h4><div><strong class=\"ng-binding\">Sole proprietorship</strong><strong class=\"pull-right ng-binding\">Willisau&nbsp;<span class=\"ng-binding\">[LU]</span></strong><span></span></div><div class=\"top-right-corner\"><img ng-src=\"assets/images/flags/LU.png\" height=\"22\" src=\"assets/images/flags/LU.png\"></div></div><!-- end ngRepeat: company in $listCtrl.result.list | filter: zefixCantonFilter | filter: zefixLegalformFilter | limitTo: pagination.mobilePageSize as filteredList --><div ng-repeat=\"company in $listCtrl.result.list | filter: zefixCantonFilter | filter: zefixLegalformFilter | limitTo: pagination.mobilePageSize as filteredList\" class=\"company-card ng-scope\"><h4 ng-class=\"{ \\'strike-thru\\': company.status === \\'GELOESCHT\\'}\"><a ui-sref=\".details({ ehraid: company.ehraid })\" class=\"ng-binding\" href=\"/en/search/entity/list/firm/748504?name=b%C3%A4ckerei&amp;searchType=exact\">Bäckerei - Konditorei - Lebensmittel Leuenberger</a></h4><div><strong class=\"ng-binding\">Sole proprietorship</strong><strong class=\"pull-right ng-binding\">Erlinsbach (SO)&nbsp;<span class=\"ng-binding\">[SO]</span></strong><span></span></div><div class=\"top-right-corner\"><img ng-src=\"assets/images/flags/SO.png\" height=\"22\" src=\"assets/images/flags/SO.png\"></div></div><!-- end ngRepeat: company in $listCtrl.result.list | filter: zefixCantonFilter | filter: zefixLegalformFilter | limitTo: pagination.mobilePageSize as filteredList --><div ng-repeat=\"company in $listCtrl.result.list | filter: zefixCantonFilter | filter: zefixLegalformFilter | limitTo: pagination.mobilePageSize as filteredList\" class=\"company-card ng-scope\"><h4 ng-class=\"{ \\'strike-thru\\': company.status === \\'GELOESCHT\\'}\"><a ui-sref=\".details({ ehraid: company.ehraid })\" class=\"ng-binding\" href=\"/en/search/entity/list/firm/623772?name=b%C3%A4ckerei&amp;searchType=exact\">Bäckerei - Konditorei - Lebensmittel Oester</a></h4><div><strong class=\"ng-binding\">Sole proprietorship</strong><strong class=\"pull-right ng-binding\">Adelboden&nbsp;<span class=\"ng-binding\">[BE]</span></strong><span></span></div><div class=\"top-right-corner\"><img ng-src=\"assets/images/flags/BE.png\" height=\"22\" src=\"assets/images/flags/BE.png\"></div></div><!-- end ngRepeat: company in $listCtrl.result.list | filter: zefixCantonFilter | filter: zefixLegalformFilter | limitTo: pagination.mobilePageSize as filteredList --><div ng-repeat=\"company in $listCtrl.result.list | filter: zefixCantonFilter | filter: zefixLegalformFilter | limitTo: pagination.mobilePageSize as filteredList\" class=\"company-card ng-scope\"><h4 ng-class=\"{ \\'strike-thru\\': company.status === \\'GELOESCHT\\'}\"><a ui-sref=\".details({ ehraid: company.ehraid })\" class=\"ng-binding\" href=\"/en/search/entity/list/firm/1056466?name=b%C3%A4ckerei&amp;searchType=exact\">Bäckerei - Konditorei Adula, Georg Schmid und Josefin Burri</a></h4><div><strong class=\"ng-binding\">General Partnership</strong><strong class=\"pull-right ng-binding\">Tujetsch&nbsp;<span class=\"ng-binding\">[GR]</span></strong><span></span></div><div class=\"top-right-corner\"><img ng-src=\"assets/images/flags/GR.png\" height=\"22\" src=\"assets/images/flags/GR.png\"></div></div><!-- end ngRepeat: company in $listCtrl.result.list | filter: zefixCantonFilter | filter: zefixLegalformFilter | limitTo: pagination.mobilePageSize as filteredList --><div ng-repeat=\"company in $listCtrl.result.list | filter: zefixCantonFilter | filter: zefixLegalformFilter | limitTo: pagination.mobilePageSize as filteredList\" class=\"company-card ng-scope\"><h4 ng-class=\"{ \\'strike-thru\\': company.status === \\'GELOESCHT\\'}\"><a ui-sref=\".details({ ehraid: company.ehraid })\" class=\"ng-binding\" href=\"/en/search/entity/list/firm/999069?name=b%C3%A4ckerei&amp;searchType=exact\">Bäckerei - Konditorei D. Pfister</a></h4><div><strong class=\"ng-binding\">Sole proprietorship</strong><strong class=\"pull-right ng-binding\">Uetendorf&nbsp;<span class=\"ng-binding\">[BE]</span></strong><span></span></div><div class=\"top-right-corner\"><img ng-src=\"assets/images/flags/BE.png\" height=\"22\" src=\"assets/images/flags/BE.png\"></div></div><!-- end ngRepeat: company in $listCtrl.result.list | filter: zefixCantonFilter | filter: zefixLegalformFilter | limitTo: pagination.mobilePageSize as filteredList --><div ng-repeat=\"company in $listCtrl.result.list | filter: zefixCantonFilter | filter: zefixLegalformFilter | limitTo: pagination.mobilePageSize as filteredList\" class=\"company-card ng-scope\"><h4 ng-class=\"{ \\'strike-thru\\': company.status === \\'GELOESCHT\\'}\"><a ui-sref=\".details({ ehraid: company.ehraid })\" class=\"ng-binding\" href=\"/en/search/entity/list/firm/1263740?name=b%C3%A4ckerei&amp;searchType=exact\">Bäckerei - Konditorei Eichenberger AG</a></h4><div><strong class=\"ng-binding\">Corporation</strong><strong class=\"pull-right ng-binding\">Langnau im Emmental&nbsp;<span class=\"ng-binding\">[BE]</span></strong><span></span></div><div class=\"top-right-corner\"><img ng-src=\"assets/images/flags/BE.png\" height=\"22\" src=\"assets/images/flags/BE.png\"></div></div><!-- end ngRepeat: company in $listCtrl.result.list | filter: zefixCantonFilter | filter: zefixLegalformFilter | limitTo: pagination.mobilePageSize as filteredList --><div ng-repeat=\"company in $listCtrl.result.list | filter: zefixCantonFilter | filter: zefixLegalformFilter | limitTo: pagination.mobilePageSize as filteredList\" class=\"company-card ng-scope\"><h4 ng-class=\"{ \\'strike-thru\\': company.status === \\'GELOESCHT\\'}\"><a ui-sref=\".details({ ehraid: company.ehraid })\" class=\"ng-binding\" href=\"/en/search/entity/list/firm/958928?name=b%C3%A4ckerei&amp;searchType=exact\">BÄCKEREI - KONDITOREI FÄSSLER</a></h4><div><strong class=\"ng-binding\">Sole proprietorship</strong><strong class=\"pull-right ng-binding\">Rüte&nbsp;<span class=\"ng-binding\">[AI]</span></strong><span></span></div><div class=\"top-right-corner\"><img ng-src=\"assets/images/flags/AI.png\" height=\"22\" src=\"assets/images/flags/AI.png\"></div></div><!-- end ngRepeat: company in $listCtrl.result.list | filter: zefixCantonFilter | filter: zefixLegalformFilter | limitTo: pagination.mobilePageSize as filteredList --><div ng-repeat=\"company in $listCtrl.result.list | filter: zefixCantonFilter | filter: zefixLegalformFilter | limitTo: pagination.mobilePageSize as filteredList\" class=\"company-card ng-scope\"><h4 ng-class=\"{ \\'strike-thru\\': company.status === \\'GELOESCHT\\'}\"><a ui-sref=\".details({ ehraid: company.ehraid })\" class=\"ng-binding\" href=\"/en/search/entity/list/firm/665315?name=b%C3%A4ckerei&amp;searchType=exact\">Bäckerei - Konditorei Furter, Nachfolger Mario Monaco-Oesch</a></h4><div><strong class=\"ng-binding\">Sole proprietorship</strong><strong class=\"pull-right ng-binding\">Aarau&nbsp;<span class=\"ng-binding\">[AG]</span></strong><span></span></div><div class=\"top-right-corner\"><img ng-src=\"assets/images/flags/AG.png\" height=\"22\" src=\"assets/images/flags/AG.png\"></div></div><!-- end ngRepeat: company in $listCtrl.result.list | filter: zefixCantonFilter | filter: zefixLegalformFilter | limitTo: pagination.mobilePageSize as filteredList --><div ng-repeat=\"company in $listCtrl.result.list | filter: zefixCantonFilter | filter: zefixLegalformFilter | limitTo: pagination.mobilePageSize as filteredList\" class=\"company-card ng-scope\"><h4 ng-class=\"{ \\'strike-thru\\': company.status === \\'GELOESCHT\\'}\"><a ui-sref=\".details({ ehraid: company.ehraid })\" class=\"ng-binding\" href=\"/en/search/entity/list/firm/947999?name=b%C3%A4ckerei&amp;searchType=exact\">Bäckerei - Konditorei Gübeli</a></h4><div><strong class=\"ng-binding\">Sole proprietorship</strong><strong class=\"pull-right ng-binding\">St. Stephan&nbsp;<span class=\"ng-binding\">[BE]</span></strong><span></span></div><div class=\"top-right-corner\"><img ng-src=\"assets/images/flags/BE.png\" height=\"22\" src=\"assets/images/flags/BE.png\"></div></div><!-- end ngRepeat: company in $listCtrl.result.list | filter: zefixCantonFilter | filter: zefixLegalformFilter | limitTo: pagination.mobilePageSize as filteredList --><div ng-repeat=\"company in $listCtrl.result.list | filter: zefixCantonFilter | filter: zefixLegalformFilter | limitTo: pagination.mobilePageSize as filteredList\" class=\"company-card ng-scope\"><h4 ng-class=\"{ \\'strike-thru\\': company.status === \\'GELOESCHT\\'}\"><a ui-sref=\".details({ ehraid: company.ehraid })\" class=\"ng-binding\" href=\"/en/search/entity/list/firm/578071?name=b%C3%A4ckerei&amp;searchType=exact\">Bäckerei - Konditorei Hermann</a></h4><div><strong class=\"ng-binding\">Sole proprietorship</strong><strong class=\"pull-right ng-binding\">Muhen&nbsp;<span class=\"ng-binding\">[AG]</span></strong><span></span></div><div class=\"top-right-corner\"><img ng-src=\"assets/images/flags/AG.png\" height=\"22\" src=\"assets/images/flags/AG.png\"></div></div><!-- end ngRepeat: company in $listCtrl.result.list | filter: zefixCantonFilter | filter: zefixLegalformFilter | limitTo: pagination.mobilePageSize as filteredList --><div ng-repeat=\"company in $listCtrl.result.list | filter: zefixCantonFilter | filter: zefixLegalformFilter | limitTo: pagination.mobilePageSize as filteredList\" class=\"company-card ng-scope\"><h4 ng-class=\"{ \\'strike-thru\\': company.status === \\'GELOESCHT\\'}\"><a ui-sref=\".details({ ehraid: company.ehraid })\" class=\"ng-binding\" href=\"/en/search/entity/list/firm/837841?name=b%C3%A4ckerei&amp;searchType=exact\">Bäckerei - Konditorei Jean-Pierre Grindat</a></h4><div><strong class=\"ng-binding\">Sole proprietorship</strong><strong class=\"pull-right ng-binding\">Orpund&nbsp;<span class=\"ng-binding\">[BE]</span></strong><span></span></div><div class=\"top-right-corner\"><img ng-src=\"assets/images/flags/BE.png\" height=\"22\" src=\"assets/images/flags/BE.png\"></div></div><!-- end ngRepeat: company in $listCtrl.result.list | filter: zefixCantonFilter | filter: zefixLegalformFilter | limitTo: pagination.mobilePageSize as filteredList --><div ng-repeat=\"company in $listCtrl.result.list | filter: zefixCantonFilter | filter: zefixLegalformFilter | limitTo: pagination.mobilePageSize as filteredList\" class=\"company-card ng-scope\"><h4 ng-class=\"{ \\'strike-thru\\': company.status === \\'GELOESCHT\\'}\"><a ui-sref=\".details({ ehraid: company.ehraid })\" class=\"ng-binding\" href=\"/en/search/entity/list/firm/613286?name=b%C3%A4ckerei&amp;searchType=exact\">Bäckerei - Konditorei Leuenberger</a></h4><div><strong class=\"ng-binding\">Sole proprietorship</strong><strong class=\"pull-right ng-binding\">Zollikofen&nbsp;<span class=\"ng-binding\">[BE]</span></strong><span></span></div><div class=\"top-right-corner\"><img ng-src=\"assets/images/flags/BE.png\" height=\"22\" src=\"assets/images/flags/BE.png\"></div></div><!-- end ngRepeat: company in $listCtrl.result.list | filter: zefixCantonFilter | filter: zefixLegalformFilter | limitTo: pagination.mobilePageSize as filteredList --><div ng-repeat=\"company in $listCtrl.result.list | filter: zefixCantonFilter | filter: zefixLegalformFilter | limitTo: pagination.mobilePageSize as filteredList\" class=\"company-card ng-scope\"><h4 ng-class=\"{ \\'strike-thru\\': company.status === \\'GELOESCHT\\'}\"><a ui-sref=\".details({ ehraid: company.ehraid })\" class=\"ng-binding\" href=\"/en/search/entity/list/firm/1272422?name=b%C3%A4ckerei&amp;searchType=exact\">Bäckerei - Konditorei Maier GmbH</a></h4><div><strong class=\"ng-binding\">Limited Liability Company</strong><strong class=\"pull-right ng-binding\">Böttstein&nbsp;<span class=\"ng-binding\">[AG]</span></strong><span></span></div><div class=\"top-right-corner\"><img ng-src=\"assets/images/flags/AG.png\" height=\"22\" src=\"assets/images/flags/AG.png\"></div></div><!-- end ngRepeat: company in $listCtrl.result.list | filter: zefixCantonFilter | filter: zefixLegalformFilter | limitTo: pagination.mobilePageSize as filteredList --><div ng-repeat=\"company in $listCtrl.result.list | filter: zefixCantonFilter | filter: zefixLegalformFilter | limitTo: pagination.mobilePageSize as filteredList\" class=\"company-card ng-scope\"><h4 ng-class=\"{ \\'strike-thru\\': company.status === \\'GELOESCHT\\'}\"><a ui-sref=\".details({ ehraid: company.ehraid })\" class=\"ng-binding\" href=\"/en/search/entity/list/firm/609954?name=b%C3%A4ckerei&amp;searchType=exact\">Bäckerei - Konditorei Märchy GmbH</a></h4><div><strong class=\"ng-binding\">Limited Liability Company</strong><strong class=\"pull-right ng-binding\">Glarus Nord&nbsp;<span class=\"ng-binding\">[GL]</span></strong><span></span></div><div class=\"top-right-corner\"><img ng-src=\"assets/images/flags/GL.png\" height=\"22\" src=\"assets/images/flags/GL.png\"></div></div><!-- end ngRepeat: company in $listCtrl.result.list | filter: zefixCantonFilter | filter: zefixLegalformFilter | limitTo: pagination.mobilePageSize as filteredList --><div ng-repeat=\"company in $listCtrl.result.list | filter: zefixCantonFilter | filter: zefixLegalformFilter | limitTo: pagination.mobilePageSize as filteredList\" class=\"company-card ng-scope\"><h4 ng-class=\"{ \\'strike-thru\\': company.status === \\'GELOESCHT\\'}\"><a ui-sref=\".details({ ehraid: company.ehraid })\" class=\"ng-binding\" href=\"/en/search/entity/list/firm/1219646?name=b%C3%A4ckerei&amp;searchType=exact\">Bäckerei - Konditorei Not Clalüna</a></h4><div><strong class=\"ng-binding\">Sole proprietorship</strong><strong class=\"pull-right ng-binding\">Scuol&nbsp;<span class=\"ng-binding\">[GR]</span></strong><span></span></div><div class=\"top-right-corner\"><img ng-src=\"assets/images/flags/GR.png\" height=\"22\" src=\"assets/images/flags/GR.png\"></div></div><!-- end ngRepeat: company in $listCtrl.result.list | filter: zefixCantonFilter | filter: zefixLegalformFilter | limitTo: pagination.mobilePageSize as filteredList --><div ng-repeat=\"company in $listCtrl.result.list | filter: zefixCantonFilter | filter: zefixLegalformFilter | limitTo: pagination.mobilePageSize as filteredList\" class=\"company-card ng-scope\"><h4 ng-class=\"{ \\'strike-thru\\': company.status === \\'GELOESCHT\\'}\"><a ui-sref=\".details({ ehraid: company.ehraid })\" class=\"ng-binding\" href=\"/en/search/entity/list/firm/801320?name=b%C3%A4ckerei&amp;searchType=exact\">Bäckerei - Konditorei Unternährer &amp; Co</a></h4><div><strong class=\"ng-binding\">General Partnership</strong><strong class=\"pull-right ng-binding\">Kappel (SO)&nbsp;<span class=\"ng-binding\">[SO]</span></strong><span></span></div><div class=\"top-right-corner\"><img ng-src=\"assets/images/flags/SO.png\" height=\"22\" src=\"assets/images/flags/SO.png\"></div></div><!-- end ngRepeat: company in $listCtrl.result.list | filter: zefixCantonFilter | filter: zefixLegalformFilter | limitTo: pagination.mobilePageSize as filteredList --><div ng-class=\"isAtBottom ? \\'growing-text\\': \\'\\'\" class=\"centered\"><a ng-show=\"filteredList.length >= pagination.mobilePageSize\" ng-click=\"showMoreResults()\" class=\"\"><span>mehr anzeigen</span><br><span class=\"glyphicon glyphicon-chevron-down\"></span></a></div></div></div><div ng-class=\"showMobileFilter.canton ? \\'visible\\' : \\'hidden\\'\" ng-swipe-left=\"showMobileFilter.canton = false\" class=\"visible-xs hidden-print mobile-canton-filter-menu hidden\"><div class=\"title\"><h3 class=\"ng-binding\">canton / rc</h3></div><div ng-class=\"{ unfiltered: !mobileFilterData.canton }\" class=\"mobile-canton-filter unfiltered\"><!-- ngRepeat: canton in filterOptions.cantons --><div ng-repeat=\"canton in filterOptions.cantons\" ng-click=\"mobileFilterSelect(\\'canton\\', canton.canton)\" ng-class=\"{selected: (mobileFilterData.canton === canton.canton)}\" class=\"filter-item ng-scope\"><span class=\"ng-binding\">&nbsp;ZH - Zürich  [35]</span><img ng-src=\"assets/images/flags/ZH.png\" height=\"20\" class=\"pull-right\" src=\"assets/images/flags/ZH.png\"></div><!-- end ngRepeat: canton in filterOptions.cantons --><div ng-repeat=\"canton in filterOptions.cantons\" ng-click=\"mobileFilterSelect(\\'canton\\', canton.canton)\" ng-class=\"{selected: (mobileFilterData.canton === canton.canton)}\" class=\"filter-item ng-scope\"><span class=\"ng-binding\">&nbsp;BE - Bern  [86]</span><img ng-src=\"assets/images/flags/BE.png\" height=\"20\" class=\"pull-right\" src=\"assets/images/flags/BE.png\"></div><!-- end ngRepeat: canton in filterOptions.cantons --><div ng-repeat=\"canton in filterOptions.cantons\" ng-click=\"mobileFilterSelect(\\'canton\\', canton.canton)\" ng-class=\"{selected: (mobileFilterData.canton === canton.canton)}\" class=\"filter-item ng-scope\"><span class=\"ng-binding\">&nbsp;LU - Luzern  [31]</span><img ng-src=\"assets/images/flags/LU.png\" height=\"20\" class=\"pull-right\" src=\"assets/images/flags/LU.png\"></div><!-- end ngRepeat: canton in filterOptions.cantons --><div ng-repeat=\"canton in filterOptions.cantons\" ng-click=\"mobileFilterSelect(\\'canton\\', canton.canton)\" ng-class=\"{selected: (mobileFilterData.canton === canton.canton)}\" class=\"filter-item ng-scope\"><span class=\"ng-binding\">&nbsp;UR - Uri  [3]</span><img ng-src=\"assets/images/flags/UR.png\" height=\"20\" class=\"pull-right\" src=\"assets/images/flags/UR.png\"></div><!-- end ngRepeat: canton in filterOptions.cantons --><div ng-repeat=\"canton in filterOptions.cantons\" ng-click=\"mobileFilterSelect(\\'canton\\', canton.canton)\" ng-class=\"{selected: (mobileFilterData.canton === canton.canton)}\" class=\"filter-item ng-scope\"><span class=\"ng-binding\">&nbsp;SZ - Schwyz  [8]</span><img ng-src=\"assets/images/flags/SZ.png\" height=\"20\" class=\"pull-right\" src=\"assets/images/flags/SZ.png\"></div><!-- end ngRepeat: canton in filterOptions.cantons --><div ng-repeat=\"canton in filterOptions.cantons\" ng-click=\"mobileFilterSelect(\\'canton\\', canton.canton)\" ng-class=\"{selected: (mobileFilterData.canton === canton.canton)}\" class=\"filter-item ng-scope\"><span class=\"ng-binding\">&nbsp;NW - Nidwalden  [1]</span><img ng-src=\"assets/images/flags/NW.png\" height=\"20\" class=\"pull-right\" src=\"assets/images/flags/NW.png\"></div><!-- end ngRepeat: canton in filterOptions.cantons --><div ng-repeat=\"canton in filterOptions.cantons\" ng-click=\"mobileFilterSelect(\\'canton\\', canton.canton)\" ng-class=\"{selected: (mobileFilterData.canton === canton.canton)}\" class=\"filter-item ng-scope\"><span class=\"ng-binding\">&nbsp;GL - Glarus  [3]</span><img ng-src=\"assets/images/flags/GL.png\" height=\"20\" class=\"pull-right\" src=\"assets/images/flags/GL.png\"></div><!-- end ngRepeat: canton in filterOptions.cantons --><div ng-repeat=\"canton in filterOptions.cantons\" ng-click=\"mobileFilterSelect(\\'canton\\', canton.canton)\" ng-class=\"{selected: (mobileFilterData.canton === canton.canton)}\" class=\"filter-item ng-scope\"><span class=\"ng-binding\">&nbsp;ZG - Zug  [5]</span><img ng-src=\"assets/images/flags/ZG.png\" height=\"20\" class=\"pull-right\" src=\"assets/images/flags/ZG.png\"></div><!-- end ngRepeat: canton in filterOptions.cantons --><div ng-repeat=\"canton in filterOptions.cantons\" ng-click=\"mobileFilterSelect(\\'canton\\', canton.canton)\" ng-class=\"{selected: (mobileFilterData.canton === canton.canton)}\" class=\"filter-item ng-scope\"><span class=\"ng-binding\">&nbsp;FR - Fribourg  [11]</span><img ng-src=\"assets/images/flags/FR.png\" height=\"20\" class=\"pull-right\" src=\"assets/images/flags/FR.png\"></div><!-- end ngRepeat: canton in filterOptions.cantons --><div ng-repeat=\"canton in filterOptions.cantons\" ng-click=\"mobileFilterSelect(\\'canton\\', canton.canton)\" ng-class=\"{selected: (mobileFilterData.canton === canton.canton)}\" class=\"filter-item ng-scope\"><span class=\"ng-binding\">&nbsp;SO - Solothurn  [13]</span><img ng-src=\"assets/images/flags/SO.png\" height=\"20\" class=\"pull-right\" src=\"assets/images/flags/SO.png\"></div><!-- end ngRepeat: canton in filterOptions.cantons --><div ng-repeat=\"canton in filterOptions.cantons\" ng-click=\"mobileFilterSelect(\\'canton\\', canton.canton)\" ng-class=\"{selected: (mobileFilterData.canton === canton.canton)}\" class=\"filter-item ng-scope\"><span class=\"ng-binding\">&nbsp;BS - Basel-Stadt  [10]</span><img ng-src=\"assets/images/flags/BS.png\" height=\"20\" class=\"pull-right\" src=\"assets/images/flags/BS.png\"></div><!-- end ngRepeat: canton in filterOptions.cantons --><div ng-repeat=\"canton in filterOptions.cantons\" ng-click=\"mobileFilterSelect(\\'canton\\', canton.canton)\" ng-class=\"{selected: (mobileFilterData.canton === canton.canton)}\" class=\"filter-item ng-scope\"><span class=\"ng-binding\">&nbsp;BL - Basel-Landschaft  [7]</span><img ng-src=\"assets/images/flags/BL.png\" height=\"20\" class=\"pull-right\" src=\"assets/images/flags/BL.png\"></div><!-- end ngRepeat: canton in filterOptions.cantons --><div ng-repeat=\"canton in filterOptions.cantons\" ng-click=\"mobileFilterSelect(\\'canton\\', canton.canton)\" ng-class=\"{selected: (mobileFilterData.canton === canton.canton)}\" class=\"filter-item ng-scope\"><span class=\"ng-binding\">&nbsp;SH - Schaffhausen  [2]</span><img ng-src=\"assets/images/flags/SH.png\" height=\"20\" class=\"pull-right\" src=\"assets/images/flags/SH.png\"></div><!-- end ngRepeat: canton in filterOptions.cantons --><div ng-repeat=\"canton in filterOptions.cantons\" ng-click=\"mobileFilterSelect(\\'canton\\', canton.canton)\" ng-class=\"{selected: (mobileFilterData.canton === canton.canton)}\" class=\"filter-item ng-scope\"><span class=\"ng-binding\">&nbsp;AR - Appenzell A. Rh.  [7]</span><img ng-src=\"assets/images/flags/AR.png\" height=\"20\" class=\"pull-right\" src=\"assets/images/flags/AR.png\"></div><!-- end ngRepeat: canton in filterOptions.cantons --><div ng-repeat=\"canton in filterOptions.cantons\" ng-click=\"mobileFilterSelect(\\'canton\\', canton.canton)\" ng-class=\"{selected: (mobileFilterData.canton === canton.canton)}\" class=\"filter-item ng-scope\"><span class=\"ng-binding\">&nbsp;AI - Appenzell I. Rh.  [1]</span><img ng-src=\"assets/images/flags/AI.png\" height=\"20\" class=\"pull-right\" src=\"assets/images/flags/AI.png\"></div><!-- end ngRepeat: canton in filterOptions.cantons --><div ng-repeat=\"canton in filterOptions.cantons\" ng-click=\"mobileFilterSelect(\\'canton\\', canton.canton)\" ng-class=\"{selected: (mobileFilterData.canton === canton.canton)}\" class=\"filter-item ng-scope\"><span class=\"ng-binding\">&nbsp;SG - St. Gallen  [39]</span><img ng-src=\"assets/images/flags/SG.png\" height=\"20\" class=\"pull-right\" src=\"assets/images/flags/SG.png\"></div><!-- end ngRepeat: canton in filterOptions.cantons --><div ng-repeat=\"canton in filterOptions.cantons\" ng-click=\"mobileFilterSelect(\\'canton\\', canton.canton)\" ng-class=\"{selected: (mobileFilterData.canton === canton.canton)}\" class=\"filter-item ng-scope\"><span class=\"ng-binding\">&nbsp;GR - Graubünden  [14]</span><img ng-src=\"assets/images/flags/GR.png\" height=\"20\" class=\"pull-right\" src=\"assets/images/flags/GR.png\"></div><!-- end ngRepeat: canton in filterOptions.cantons --><div ng-repeat=\"canton in filterOptions.cantons\" ng-click=\"mobileFilterSelect(\\'canton\\', canton.canton)\" ng-class=\"{selected: (mobileFilterData.canton === canton.canton)}\" class=\"filter-item ng-scope\"><span class=\"ng-binding\">&nbsp;AG - Aargau  [42]</span><img ng-src=\"assets/images/flags/AG.png\" height=\"20\" class=\"pull-right\" src=\"assets/images/flags/AG.png\"></div><!-- end ngRepeat: canton in filterOptions.cantons --><div ng-repeat=\"canton in filterOptions.cantons\" ng-click=\"mobileFilterSelect(\\'canton\\', canton.canton)\" ng-class=\"{selected: (mobileFilterData.canton === canton.canton)}\" class=\"filter-item ng-scope\"><span class=\"ng-binding\">&nbsp;TG - Thurgau  [12]</span><img ng-src=\"assets/images/flags/TG.png\" height=\"20\" class=\"pull-right\" src=\"assets/images/flags/TG.png\"></div><!-- end ngRepeat: canton in filterOptions.cantons --><div ng-repeat=\"canton in filterOptions.cantons\" ng-click=\"mobileFilterSelect(\\'canton\\', canton.canton)\" ng-class=\"{selected: (mobileFilterData.canton === canton.canton)}\" class=\"filter-item ng-scope\"><span class=\"ng-binding\">&nbsp;VS - Brig (Oberwallis)  [12]</span><img ng-src=\"assets/images/flags/VS.png\" height=\"20\" class=\"pull-right\" src=\"assets/images/flags/VS.png\"></div><!-- end ngRepeat: canton in filterOptions.cantons --></div></div><div ng-class=\"showMobileFilter.legalForm ? \\'visible\\' : \\'hidden\\'\" ng-swipe-right=\"showMobileFilter.legalForm = false\" class=\"visible-xs hidden-print mobile-legalform-filter-menu hidden\"><div class=\"title\"><h3 class=\"ng-binding\">legal form</h3></div><div ng-class=\"{ unfiltered: !mobileFilterData.legalForm }\" class=\"mobile-legalform-filter unfiltered\"><!-- ngRepeat: legalForm in filterOptions.legalForms --><div ng-repeat=\"legalForm in filterOptions.legalForms\" ng-click=\"mobileFilterSelect(\\'legalForm\\', legalForm.id)\" ng-class=\"{selected: (mobileFilterData.legalForm === legalForm.id)}\" class=\"filter-item ng-scope\"><span class=\"ng-binding\">&nbsp;SP - Sole proprietorship  [147]</span></div><!-- end ngRepeat: legalForm in filterOptions.legalForms --><div ng-repeat=\"legalForm in filterOptions.legalForms\" ng-click=\"mobileFilterSelect(\\'legalForm\\', legalForm.id)\" ng-class=\"{selected: (mobileFilterData.legalForm === legalForm.id)}\" class=\"filter-item ng-scope\"><span class=\"ng-binding\">&nbsp;GP - General Partnership  [14]</span></div><!-- end ngRepeat: legalForm in filterOptions.legalForms --><div ng-repeat=\"legalForm in filterOptions.legalForms\" ng-click=\"mobileFilterSelect(\\'legalForm\\', legalForm.id)\" ng-class=\"{selected: (mobileFilterData.legalForm === legalForm.id)}\" class=\"filter-item ng-scope\"><span class=\"ng-binding\">&nbsp;Ltd - Corporation  [95]</span></div><!-- end ngRepeat: legalForm in filterOptions.legalForms --><div ng-repeat=\"legalForm in filterOptions.legalForms\" ng-click=\"mobileFilterSelect(\\'legalForm\\', legalForm.id)\" ng-class=\"{selected: (mobileFilterData.legalForm === legalForm.id)}\" class=\"filter-item ng-scope\"><span class=\"ng-binding\">&nbsp;LLC - Limited Liability Company  [82]</span></div><!-- end ngRepeat: legalForm in filterOptions.legalForms --><div ng-repeat=\"legalForm in filterOptions.legalForms\" ng-click=\"mobileFilterSelect(\\'legalForm\\', legalForm.id)\" ng-class=\"{selected: (mobileFilterData.legalForm === legalForm.id)}\" class=\"filter-item ng-scope\"><span class=\"ng-binding\">&nbsp;Found - Foundation  [1]</span></div><!-- end ngRepeat: legalForm in filterOptions.legalForms --><div ng-repeat=\"legalForm in filterOptions.legalForms\" ng-click=\"mobileFilterSelect(\\'legalForm\\', legalForm.id)\" ng-class=\"{selected: (mobileFilterData.legalForm === legalForm.id)}\" class=\"filter-item ng-scope\"><span class=\"ng-binding\">&nbsp;Bran - Branch  [3]</span></div><!-- end ngRepeat: legalForm in filterOptions.legalForms --></div></div></div><!-- end ngIf: currentState.name===\\'search.list\\' --></div></div></div></div></div><footer class=\"footer\"><div id=\"footer\" class=\"hidden-print\"><div class=\"sitemap\"><div class=\"container\"><div class=\"row\"><div ng-controller=\"NavbarController as Navbar\" class=\"col-xs-6 ng-scope\"><div class=\"row\"><h3 class=\"col-xs-12\">Zefix</h3><ul class=\"list-unstyled\"><!-- ngRepeat: link in Navbar.menu --><li ng-repeat=\"link in Navbar.menu\" ng-click=\"scrollToTop()\" class=\"col-sm-12 col-md-6 ng-scope\"><!--a(ui-sref=\"{{getSref(item)}}\" tabindex=\"0\") {{ item.translationKey | translate }}--><!-- ngIf: link.href --><!-- ngIf: !link.href --><a ng-if=\"!link.href\" ui-sref=\"search.welcome({&quot;type&quot;:&quot;entity&quot;})\" class=\"ng-binding ng-scope\" href=\"/en/search/entity/welcome\">Search of a business name</a><!-- end ngIf: !link.href --></li><!-- end ngRepeat: link in Navbar.menu --><li ng-repeat=\"link in Navbar.menu\" ng-click=\"scrollToTop()\" class=\"col-sm-12 col-md-6 ng-scope\"><!--a(ui-sref=\"{{getSref(item)}}\" tabindex=\"0\") {{ item.translationKey | translate }}--><!-- ngIf: link.href --><!-- ngIf: !link.href --><a ng-if=\"!link.href\" ui-sref=\"search.welcome({&quot;type&quot;:&quot;shab&quot;})\" class=\"ng-binding ng-scope\" href=\"/en/search/shab/welcome\">SOGC search</a><!-- end ngIf: !link.href --></li><!-- end ngRepeat: link in Navbar.menu --><li ng-repeat=\"link in Navbar.menu\" ng-click=\"scrollToTop()\" class=\"col-sm-12 col-md-6 ng-scope\"><!--a(ui-sref=\"{{getSref(item)}}\" tabindex=\"0\") {{ item.translationKey | translate }}--><!-- ngIf: link.href --><!-- ngIf: !link.href --><a ng-if=\"!link.href\" ui-sref=\"hra({})\" class=\"ng-binding ng-scope\" href=\"/en/hra\">Registries of commerce</a><!-- end ngIf: !link.href --></li><!-- end ngRepeat: link in Navbar.menu --><li ng-repeat=\"link in Navbar.menu\" ng-click=\"scrollToTop()\" class=\"col-sm-12 col-md-6 ng-scope\"><!--a(ui-sref=\"{{getSref(item)}}\" tabindex=\"0\") {{ item.translationKey | translate }}--><!-- ngIf: link.href --><!-- ngIf: !link.href --><a ng-if=\"!link.href\" ui-sref=\"localities({})\" class=\"ng-binding ng-scope\" href=\"/en/localities\">Localities</a><!-- end ngIf: !link.href --></li><!-- end ngRepeat: link in Navbar.menu --><li ng-repeat=\"link in Navbar.menu\" ng-click=\"scrollToTop()\" class=\"col-sm-12 col-md-6 ng-scope\"><!--a(ui-sref=\"{{getSref(item)}}\" tabindex=\"0\") {{ item.translationKey | translate }}--><!-- ngIf: link.href --><a ng-if=\"link.href\" ng-href=\"https://ehra.fenceit.ch/\" ng-attr-target=\"{{link.target}}\" class=\"ng-binding ng-scope\" href=\"https://ehra.fenceit.ch/\" target=\"_blank\">Publications FRC</a><!-- end ngIf: link.href --><!-- ngIf: !link.href --></li><!-- end ngRepeat: link in Navbar.menu --><li ng-repeat=\"link in Navbar.menu\" ng-click=\"scrollToTop()\" class=\"col-sm-12 col-md-6 ng-scope\"><!--a(ui-sref=\"{{getSref(item)}}\" tabindex=\"0\") {{ item.translationKey | translate }}--><!-- ngIf: link.href --><!-- ngIf: !link.href --><a ng-if=\"!link.href\" ui-sref=\"contact({})\" class=\"ng-binding ng-scope\" href=\"/en/contact\">Contact</a><!-- end ngIf: !link.href --></li><!-- end ngRepeat: link in Navbar.menu --></ul></div></div><div ng-controller=\"LinksController as LinkCtrl\" class=\"col-xs-6 ng-scope\"><div class=\"row\"><h3 class=\"col-xs-12\">Links</h3><ul class=\"list-unstyled\"><!-- ngRepeat: link in LinkCtrl.links --><li ng-repeat=\"link in LinkCtrl.links\" ng-click=\"scrollToTop()\" class=\"col-sm-12 col-md-6 ng-scope\"><div><!-- ngIf: link.title --><a ng-if=\"link.title\" ng-href=\"https://www.regix.ch/\" ng-attr-target=\"{{link.target}}\" tabindex=\"0\" class=\"ng-binding ng-scope\" href=\"https://www.regix.ch/\" target=\"_blank\">Regix</a><!-- end ngIf: link.title --><!-- ngIf: !link.title --></div></li><!-- end ngRepeat: link in LinkCtrl.links --><li ng-repeat=\"link in LinkCtrl.links\" ng-click=\"scrollToTop()\" class=\"col-sm-12 col-md-6 ng-scope\"><div><!-- ngIf: link.title --><a ng-if=\"link.title\" ng-href=\"https://www.easygov.swiss/\" ng-attr-target=\"{{link.target}}\" tabindex=\"0\" class=\"ng-binding ng-scope\" href=\"https://www.easygov.swiss/\" target=\"_blank\">EasyGov</a><!-- end ngIf: link.title --><!-- ngIf: !link.title --></div></li><!-- end ngRepeat: link in LinkCtrl.links --><li ng-repeat=\"link in LinkCtrl.links\" ng-click=\"scrollToTop()\" class=\"col-sm-12 col-md-6 ng-scope\"><div><!-- ngIf: link.title --><a ng-if=\"link.title\" ng-href=\"https://www.uid.admin.ch/Search.aspx\" ng-attr-target=\"{{link.target}}\" tabindex=\"0\" class=\"ng-binding ng-scope\" href=\"https://www.uid.admin.ch/Search.aspx\" target=\"_blank\">UID-Register</a><!-- end ngIf: link.title --><!-- ngIf: !link.title --></div></li><!-- end ngRepeat: link in LinkCtrl.links --><li ng-repeat=\"link in LinkCtrl.links\" ng-click=\"scrollToTop()\" class=\"col-sm-12 col-md-6 ng-scope\"><div><!-- ngIf: link.title --><a ng-if=\"link.title\" ng-href=\"https://www.e-service.admin.ch/juspace/app/home\" ng-attr-target=\"{{link.target}}\" tabindex=\"0\" class=\"ng-binding ng-scope\" href=\"https://www.e-service.admin.ch/juspace/app/home\" target=\"_blank\">Juspace</a><!-- end ngIf: link.title --><!-- ngIf: !link.title --></div></li><!-- end ngRepeat: link in LinkCtrl.links --><li ng-repeat=\"link in LinkCtrl.links\" ng-click=\"scrollToTop()\" class=\"col-sm-12 col-md-6 ng-scope\"><div><!-- ngIf: link.title --><a ng-if=\"link.title\" ng-href=\"https://www.bj.admin.ch/bj/de/home/wirtschaft/handelsregister/rechtsgrundlagen.html\" ng-attr-target=\"{{link.target}}\" tabindex=\"0\" class=\"ng-binding ng-scope\" href=\"https://www.bj.admin.ch/bj/de/home/wirtschaft/handelsregister/rechtsgrundlagen.html\" target=\"_blank\">Legal basis</a><!-- end ngIf: link.title --><!-- ngIf: !link.title --></div></li><!-- end ngRepeat: link in LinkCtrl.links --><li ng-repeat=\"link in LinkCtrl.links\" ng-click=\"scrollToTop()\" class=\"col-sm-12 col-md-6 ng-scope\"><div><!-- ngIf: link.title --><a ng-if=\"link.title\" ng-href=\"https://www.kmu.admin.ch/kmu/de/home.html/\" ng-attr-target=\"{{link.target}}\" tabindex=\"0\" class=\"ng-binding ng-scope\" href=\"https://www.kmu.admin.ch/kmu/de/home.html/\" target=\"_blank\">SME-Portal</a><!-- end ngIf: link.title --><!-- ngIf: !link.title --></div></li><!-- end ngRepeat: link in LinkCtrl.links --><li ng-repeat=\"link in LinkCtrl.links\" ng-click=\"scrollToTop()\" class=\"col-sm-12 col-md-6 ng-scope\"><div><!-- ngIf: link.title --><a ng-if=\"link.title\" ng-href=\"https://www.ige.ch/de/juristische-infos/rechtsgebiete/marken/geschuetzte-abkuerzungen.html\" ng-attr-target=\"{{link.target}}\" tabindex=\"0\" class=\"ng-binding ng-scope\" href=\"https://www.ige.ch/de/juristische-infos/rechtsgebiete/marken/geschuetzte-abkuerzungen.html\" target=\"_blank\">Protected abbreviations</a><!-- end ngIf: link.title --><!-- ngIf: !link.title --></div></li><!-- end ngRepeat: link in LinkCtrl.links --><li ng-repeat=\"link in LinkCtrl.links\" ng-click=\"scrollToTop()\" class=\"col-sm-12 col-md-6 ng-scope\"><div><!-- ngIf: link.title --><a ng-if=\"link.title\" ng-href=\"https://www.swissreg.ch/\" ng-attr-target=\"{{link.target}}\" tabindex=\"0\" class=\"ng-binding ng-scope\" href=\"https://www.swissreg.ch/\" target=\"_blank\">Swissreg</a><!-- end ngIf: link.title --><!-- ngIf: !link.title --></div></li><!-- end ngRepeat: link in LinkCtrl.links --><li ng-repeat=\"link in LinkCtrl.links\" ng-click=\"scrollToTop()\" class=\"col-sm-12 col-md-6 ng-scope\"><div><!-- ngIf: link.title --><a ng-if=\"link.title\" ng-href=\"https://www.bj.admin.ch/bj/de/home.html\" ng-attr-target=\"{{link.target}}\" tabindex=\"0\" class=\"ng-binding ng-scope\" href=\"https://www.bj.admin.ch/bj/de/home.html\" target=\"_blank\">Federal Office of Justice (FOJ)</a><!-- end ngIf: link.title --><!-- ngIf: !link.title --></div></li><!-- end ngRepeat: link in LinkCtrl.links --><li ng-repeat=\"link in LinkCtrl.links\" ng-click=\"scrollToTop()\" class=\"col-sm-12 col-md-6 ng-scope\"><div><!-- ngIf: link.title --><a ng-if=\"link.title\" ng-href=\"https://www.bj.admin.ch/bj/de/home/wirtschaft/handelsregister.html\" ng-attr-target=\"{{link.target}}\" tabindex=\"0\" class=\"ng-binding ng-scope\" href=\"https://www.bj.admin.ch/bj/de/home/wirtschaft/handelsregister.html\" target=\"_blank\">Register of commerce</a><!-- end ngIf: link.title --><!-- ngIf: !link.title --></div></li><!-- end ngRepeat: link in LinkCtrl.links --><li ng-repeat=\"link in LinkCtrl.links\" ng-click=\"scrollToTop()\" class=\"col-sm-12 col-md-6 ng-scope\"><div><!-- ngIf: link.title --><a ng-if=\"link.title\" ng-href=\"http://www.ejpd.admin.ch/content/ejpd/de/home.html\" ng-attr-target=\"{{link.target}}\" tabindex=\"0\" class=\"ng-binding ng-scope\" href=\"http://www.ejpd.admin.ch/content/ejpd/de/home.html\" target=\"_blank\">Federal Departement of Justice and Police (FDJP)</a><!-- end ngIf: link.title --><!-- ngIf: !link.title --></div></li><!-- end ngRepeat: link in LinkCtrl.links --><li ng-repeat=\"link in LinkCtrl.links\" ng-click=\"scrollToTop()\" class=\"col-sm-12 col-md-6 ng-scope\"><div><!-- ngIf: link.title --><a ng-if=\"link.title\" ng-href=\"https://www.shab.ch/\" ng-attr-target=\"{{link.target}}\" tabindex=\"0\" class=\"ng-binding ng-scope\" href=\"https://www.shab.ch/\" target=\"_blank\">SOGC</a><!-- end ngIf: link.title --><!-- ngIf: !link.title --></div></li><!-- end ngRepeat: link in LinkCtrl.links --><li ng-repeat=\"link in LinkCtrl.links\" ng-click=\"scrollToTop()\" class=\"col-sm-12 col-md-6 ng-scope\"><div><!-- ngIf: link.title --><!-- ngIf: !link.title --><span ng-if=\"!link.title\" class=\"ng-scope\">&nbsp;</span><!-- end ngIf: !link.title --></div></li><!-- end ngRepeat: link in LinkCtrl.links --><li ng-repeat=\"link in LinkCtrl.links\" ng-click=\"scrollToTop()\" class=\"col-sm-12 col-md-6 ng-scope\"><div><!-- ngIf: link.title --><a ng-if=\"link.title\" ng-href=\"https://www.admin.ch/gov/de/start/rechtliches.html\" ng-attr-target=\"{{link.target}}\" tabindex=\"0\" class=\"ng-binding ng-scope\" href=\"https://www.admin.ch/gov/de/start/rechtliches.html\" target=\"_blank\">Terms and conditions</a><!-- end ngIf: link.title --><!-- ngIf: !link.title --></div></li><!-- end ngRepeat: link in LinkCtrl.links --></ul></div></div></div></div></div><div class=\"container\"><address><span class=\"hidden-xs ng-binding\">Federal Departement of Justice and Police (FDJP) - Federal Office of Justice (FOJ)</span></address><a ng-click=\"scrollToTop()\" ng-hide=\"isTopOfPage\" class=\"btn btn-scroll-to-top ng-hide\"><span class=\"glyphicon glyphicon-chevron-up\"></span></a></div></div></footer></div></div>\\n<!--       // <script src=\"bower_components/swiss-styleguide/build/js/vendors.min.js\"></script>\\n      // <script src=\"bower_components/swiss-styleguide/build/js/main.js\"></script> -->\\n      <script src=\"https://cdnjs.cloudflare.com/ajax/libs/modernizr/2.8.3/modernizr.js\"></script>\\n\\n    <!--[if lt IE 9]>\\n    <script src=\"bower_components/es5-shim/es5-shim.js\"></script>\\n    <script src=\"bower_components/json3/lib/json3.min.js\"></script>\\n    <![endif]-->\\n    <script src=\"app/vendor.1c5a75e3.js\"></script>\\n    <script src=\"app/app.4894125d.js\"></script>\\n  \\n\\n<div class=\"pika-single admin-theme is-hidden is-bound\" style=\"position: static; left: auto; top: auto;\"></div><div class=\"pika-single admin-theme is-hidden is-bound\" style=\"position: static; left: auto; top: auto;\"></div></body></html>'"
      ]
     },
     "execution_count": 22,
     "metadata": {},
     "output_type": "execute_result"
    }
   ],
   "source": [
    "file = open('pages/' + lst[0], 'r')\n",
    "file.read()\n"
   ]
  },
  {
   "cell_type": "code",
   "execution_count": 39,
   "metadata": {},
   "outputs": [],
   "source": [
    "h = BeautifulSoup(text, 'html.parser')\n",
    "zeilen= h.find_all('tr', {'class': 'ng-scope'})"
   ]
  },
  {
   "cell_type": "code",
   "execution_count": 90,
   "metadata": {},
   "outputs": [
    {
     "data": {
      "text/plain": [
       "'Bäckerei zur Kettenbrücke M. Leutwiler'"
      ]
     },
     "execution_count": 90,
     "metadata": {},
     "output_type": "execute_result"
    }
   ],
   "source": [
    "#entscheidend, wo die [] gesetzt werden!\n",
    "\n",
    "zeilen[1].find_all('div')[0].text\n",
    "name = zeilen[0].find_all('div')[0].text\n",
    "name"
   ]
  },
  {
   "cell_type": "code",
   "execution_count": 92,
   "metadata": {},
   "outputs": [
    {
     "data": {
      "text/plain": [
       "'https://ag.chregister.ch/cr-portal/auszug/zefix.xhtml?uid=CHE-107.083.298&lang=de'"
      ]
     },
     "execution_count": 92,
     "metadata": {},
     "output_type": "execute_result"
    }
   ],
   "source": [
    "zeilen[0].find('div').find_next('div').find('a')['href']"
   ]
  },
  {
   "cell_type": "code",
   "execution_count": 108,
   "metadata": {},
   "outputs": [],
   "source": [
    "name = zeilen[0].find_all('div')[0].text\n",
    "uid = zeilen[0].find_all('div')[2].text\n",
    "sitz = zeilen[0].find_all('div')[4].text\n",
    "kanton = zeilen[0].find_all('div')[5].text\n",
    "url = zeilen[0].find('div').find_next('div').find('a')['href']"
   ]
  },
  {
   "cell_type": "code",
   "execution_count": 116,
   "metadata": {},
   "outputs": [
    {
     "data": {
      "text/plain": [
       "{'name': 'Bäckerei zur Kettenbrücke M. Leutwiler',\n",
       " 'uid': 'CHE-107.083.298',\n",
       " 'sitz': 'Aarau',\n",
       " 'kanton': 'AG - Aargau',\n",
       " 'url': 'https://ag.chregister.ch/cr-portal/auszug/zefix.xhtml?uid=CHE-107.083.298&lang=de'}"
      ]
     },
     "execution_count": 116,
     "metadata": {},
     "output_type": "execute_result"
    }
   ],
   "source": [
    "mini_dict = {'name': name,\n",
    "            'uid': uid, \n",
    "             'sitz': sitz, \n",
    "             'kanton': kanton, \n",
    "             'url': url}\n",
    "\n",
    "mini_dict"
   ]
  },
  {
   "cell_type": "code",
   "execution_count": 117,
   "metadata": {},
   "outputs": [],
   "source": [
    "blist = []\n",
    "\n",
    "for zeile in zeilen:\n",
    "    name = zeilen[0].find_all('div')[0].text\n",
    "    uid = zeilen[0].find_all('div')[2].text\n",
    "    sitz = zeilen[0].find_all('div')[4].text\n",
    "    kanton = zeilen[0].find_all('div')[5].text\n",
    "    url = zeilen[0].find('div').find_next('div').find('a')['href']\n",
    "    \n",
    "    blist.append(mini_dict)"
   ]
  },
  {
   "cell_type": "code",
   "execution_count": 143,
   "metadata": {},
   "outputs": [],
   "source": [
    "def extractbakeries(elem):\n",
    "    zeilen = elem.find_all('tr', {'class': 'ng-scope'})\n",
    "    blist = []\n",
    "    for zeile in zeilen:\n",
    "        name = zeilen[0].find_all('div')[0].text\n",
    "        uid = zeilen[0].find_all('div')[2].text\n",
    "        sitz = zeilen[0].find_all('div')[4].text\n",
    "        kanton = zeilen[0].find_all('div')[5].text\n",
    "        url = zeilen[0].find('div').find_next('div').find('a')['href']\n",
    "        \n",
    "        mini_dict = {'name': name,\n",
    "            'uid': uid, \n",
    "             'sitz': sitz, \n",
    "             'kanton': kanton, \n",
    "             'url': url}\n",
    "        \n",
    "        blist.append(mini_dict)\n",
    "        \n",
    "        return blist\n",
    "    "
   ]
  },
  {
   "cell_type": "code",
   "execution_count": 144,
   "metadata": {},
   "outputs": [],
   "source": [
    "final_list = []\n",
    "\n",
    "for filename in lst:\n",
    "    file = open ('pages/' + filename, 'r')\n",
    "    text = file.read()\n",
    "    h = BeautifulSoup(text, 'html.parser')\n",
    "    \n",
    "    final_list = final_list + extractbakeries(h)"
   ]
  },
  {
   "cell_type": "code",
   "execution_count": 145,
   "metadata": {},
   "outputs": [
    {
     "data": {
      "text/plain": [
       "[{'name': 'Bäckerei \"gsund\" AG',\n",
       "  'uid': 'CHE-240.641.011',\n",
       "  'sitz': 'Feusisberg',\n",
       "  'kanton': 'SZ - Schwyz',\n",
       "  'url': 'https://sz.chregister.ch/cr-portal/auszug/zefix.xhtml?uid=CHE-240.641.011&lang=de'},\n",
       " {'name': 'BÄCKEREI - KONDITOREI FÄSSLER',\n",
       "  'uid': 'CHE-115.132.898',\n",
       "  'sitz': 'Rüte',\n",
       "  'kanton': 'AI - Appenzell I. Rh.',\n",
       "  'url': 'https://ai.chregister.ch/cr-portal/auszug/zefix.xhtml?uid=CHE-115.132.898&lang=de'},\n",
       " {'name': 'Bäckerei / Konditorei Ganz',\n",
       "  'uid': 'CHE-204.892.391',\n",
       "  'sitz': 'Langenthal',\n",
       "  'kanton': 'BE - Bern',\n",
       "  'url': 'https://be.chregister.ch/cr-portal/auszug/zefix.xhtml?uid=CHE-204.892.391&lang=de'},\n",
       " {'name': 'Bäckerei Konditorei Hackebeil',\n",
       "  'uid': 'CHE-107.965.011',\n",
       "  'sitz': 'Arbon',\n",
       "  'kanton': 'TG - Thurgau',\n",
       "  'url': 'https://tg.chregister.ch/cr-portal/auszug/zefix.xhtml?uid=CHE-107.965.011&lang=de'},\n",
       " {'name': 'Bäckerei Konditorei Singaraja Sivaji Philip Manohara',\n",
       "  'uid': 'CHE-109.987.130',\n",
       "  'sitz': 'Basel',\n",
       "  'kanton': 'BS - Basel-Stadt',\n",
       "  'url': 'https://bs.chregister.ch/cr-portal/auszug/zefix.xhtml?uid=CHE-109.987.130&lang=de'},\n",
       " {'name': 'Bäckerei La Panetteria GmbH',\n",
       "  'uid': 'CHE-421.307.156',\n",
       "  'sitz': 'St. Gallen',\n",
       "  'kanton': 'SG - St. Gallen',\n",
       "  'url': 'https://sg.chregister.ch/cr-portal/auszug/zefix.xhtml?uid=CHE-421.307.156&lang=de'},\n",
       " {'name': 'Bäckerei Mödinger GmbH',\n",
       "  'uid': 'CHE-113.157.019',\n",
       "  'sitz': 'Bern',\n",
       "  'kanton': 'BE - Bern',\n",
       "  'url': 'https://be.chregister.ch/cr-portal/auszug/zefix.xhtml?uid=CHE-113.157.019&lang=de'},\n",
       " {'name': 'Bäckerei Nussbaumer AG',\n",
       "  'uid': 'CHE-106.013.220',\n",
       "  'sitz': 'Cham',\n",
       "  'kanton': 'ZG - Zug',\n",
       "  'url': 'https://zg.chregister.ch/cr-portal/auszug/zefix.xhtml?uid=CHE-106.013.220&lang=de'},\n",
       " {'name': 'Bäckerei Röösli',\n",
       "  'uid': 'CHE-470.329.565',\n",
       "  'sitz': 'Oberentfelden',\n",
       "  'kanton': 'AG - Aargau',\n",
       "  'url': 'https://ag.chregister.ch/cr-portal/auszug/zefix.xhtml?uid=CHE-470.329.565&lang=de'},\n",
       " {'name': 'Bäckerei Speck',\n",
       "  'uid': 'CHE-113.973.800',\n",
       "  'sitz': 'Oberkulm',\n",
       "  'kanton': 'AG - Aargau',\n",
       "  'url': 'https://ag.chregister.ch/cr-portal/auszug/zefix.xhtml?uid=CHE-113.973.800&lang=de'},\n",
       " {'name': 'Bäckerei Tea-Room Burg AG',\n",
       "  'uid': 'CHE-232.936.792',\n",
       "  'sitz': 'Rechthalten',\n",
       "  'kanton': 'FR - Fribourg',\n",
       "  'url': 'https://adm.appls.fr.ch/hrcmatic/hrcintapp/externalCompanyReport.action?companyOfrcId13=CH-217-3563298-9&ofrcLanguage=4'},\n",
       " {'name': 'Bäckerei zur Kettenbrücke M. Leutwiler',\n",
       "  'uid': 'CHE-107.083.298',\n",
       "  'sitz': 'Aarau',\n",
       "  'kanton': 'AG - Aargau',\n",
       "  'url': 'https://ag.chregister.ch/cr-portal/auszug/zefix.xhtml?uid=CHE-107.083.298&lang=de'},\n",
       " {'name': 'Bäckerei-Café Willy Egli AG',\n",
       "  'uid': 'CHE-112.806.720',\n",
       "  'sitz': 'Thun',\n",
       "  'kanton': 'BE - Bern',\n",
       "  'url': 'https://be.chregister.ch/cr-portal/auszug/zefix.xhtml?uid=CHE-112.806.720&lang=de'},\n",
       " {'name': 'Bäckerei Andreas Fend-Müller',\n",
       "  'uid': 'CHE-107.221.985',\n",
       "  'sitz': 'Saanen',\n",
       "  'kanton': 'BE - Bern',\n",
       "  'url': 'https://be.chregister.ch/cr-portal/auszug/zefix.xhtml?uid=CHE-107.221.985&lang=de'},\n",
       " {'name': 'Bäckerei-Confiserie-Café Kuhnen GmbH',\n",
       "  'uid': 'CHE-107.208.476',\n",
       "  'sitz': 'Lenk',\n",
       "  'kanton': 'BE - Bern',\n",
       "  'url': 'https://be.chregister.ch/cr-portal/auszug/zefix.xhtml?uid=CHE-107.208.476&lang=de'},\n",
       " {'name': 'Bäckerei-Konditorei Bieri Alfred',\n",
       "  'uid': 'CHE-105.986.692',\n",
       "  'sitz': 'Erlenbach im Simmental',\n",
       "  'kanton': 'BE - Bern',\n",
       "  'url': 'https://be.chregister.ch/cr-portal/auszug/zefix.xhtml?uid=CHE-105.986.692&lang=de'},\n",
       " {'name': 'Bäckerei-Konditorei Ch. + I. Muralt',\n",
       "  'uid': 'CHE-105.751.657',\n",
       "  'sitz': 'Ostermundigen',\n",
       "  'kanton': 'BE - Bern',\n",
       "  'url': 'https://be.chregister.ch/cr-portal/auszug/zefix.xhtml?uid=CHE-105.751.657&lang=de'},\n",
       " {'name': 'Bäckerei-Konditorei Fuchs',\n",
       "  'uid': 'CHE-107.291.997',\n",
       "  'sitz': 'Diepoldsau',\n",
       "  'kanton': 'SG - St. Gallen',\n",
       "  'url': 'https://sg.chregister.ch/cr-portal/auszug/zefix.xhtml?uid=CHE-107.291.997&lang=de'},\n",
       " {'name': 'Bäckerei-Konditorei Hirt',\n",
       "  'uid': 'CHE-108.035.907',\n",
       "  'sitz': 'Bözberg',\n",
       "  'kanton': 'AG - Aargau',\n",
       "  'url': 'https://ag.chregister.ch/cr-portal/auszug/zefix.xhtml?uid=CHE-108.035.907&lang=de'},\n",
       " {'name': 'Bäckerei-Konditorei Karl Wüthrich, Café Cat',\n",
       "  'uid': 'CHE-108.763.757',\n",
       "  'sitz': 'Köniz',\n",
       "  'kanton': 'BE - Bern',\n",
       "  'url': 'https://be.chregister.ch/cr-portal/auszug/zefix.xhtml?uid=CHE-108.763.757&lang=de'},\n",
       " {'name': 'Bäckerei-Konditorei Merz AG',\n",
       "  'uid': 'CHE-106.505.983',\n",
       "  'sitz': 'Luzern',\n",
       "  'kanton': 'LU - Luzern',\n",
       "  'url': 'https://lu.chregister.ch/cr-portal/auszug/zefix.xhtml?uid=CHE-106.505.983&lang=de'},\n",
       " {'name': 'Bäckerei-Konditorei Peter Müller',\n",
       "  'uid': 'CHE-107.242.705',\n",
       "  'sitz': 'Luzern',\n",
       "  'kanton': 'LU - Luzern',\n",
       "  'url': 'https://lu.chregister.ch/cr-portal/auszug/zefix.xhtml?uid=CHE-107.242.705&lang=de'},\n",
       " {'name': 'Bäckerei-Konditorei Schiess AG',\n",
       "  'uid': 'CHE-283.796.656',\n",
       "  'sitz': 'Sulgen',\n",
       "  'kanton': 'TG - Thurgau',\n",
       "  'url': 'https://tg.chregister.ch/cr-portal/auszug/zefix.xhtml?uid=CHE-283.796.656&lang=de'},\n",
       " {'name': 'Bäckerei-Konditorei Stocker AG',\n",
       "  'uid': 'CHE-108.094.442',\n",
       "  'sitz': 'Sursee',\n",
       "  'kanton': 'LU - Luzern',\n",
       "  'url': 'https://lu.chregister.ch/cr-portal/auszug/zefix.xhtml?uid=CHE-108.094.442&lang=de'},\n",
       " {'name': 'Bäckerei Bohnenblust AG',\n",
       "  'uid': 'CHE-472.136.586',\n",
       "  'sitz': 'Bern',\n",
       "  'kanton': 'BE - Bern',\n",
       "  'url': 'https://be.chregister.ch/cr-portal/auszug/zefix.xhtml?uid=CHE-472.136.586&lang=de'},\n",
       " {'name': 'Bäckerei-Konditorei Waeber GmbH',\n",
       "  'uid': 'CHE-112.831.847',\n",
       "  'sitz': 'Fribourg',\n",
       "  'kanton': 'FR - Fribourg',\n",
       "  'url': 'https://adm.appls.fr.ch/hrcmatic/hrcintapp/externalCompanyReport.action?companyOfrcId13=CH-217-3535242-1&ofrcLanguage=4'},\n",
       " {'name': 'Bäckerei-Konditorei-Café Moos Fabienne GmbH',\n",
       "  'uid': 'CHE-209.788.536',\n",
       "  'sitz': 'Luzern',\n",
       "  'kanton': 'LU - Luzern',\n",
       "  'url': 'https://lu.chregister.ch/cr-portal/auszug/zefix.xhtml?uid=CHE-209.788.536&lang=de'},\n",
       " {'name': 'Bäckerei-Konditorei-Confiserie von Rotz GmbH',\n",
       "  'uid': 'CHE-100.362.082',\n",
       "  'sitz': 'Cham',\n",
       "  'kanton': 'ZG - Zug',\n",
       "  'url': 'https://zg.chregister.ch/cr-portal/auszug/zefix.xhtml?uid=CHE-100.362.082&lang=de'},\n",
       " {'name': \"Bäckerei/Konditorei Muri's Produkte, Williner Moritz\",\n",
       "  'uid': 'CHE-143.726.755',\n",
       "  'sitz': 'Grächen',\n",
       "  'kanton': 'VS - Brig (Oberwallis)',\n",
       "  'url': 'https://vo.chregister.ch/cr-portal/auszug/zefix.xhtml?uid=CHE-143.726.755&lang=de'},\n",
       " {'name': \"Bäckerei/Konditorei Muri's Produkte, Williner Moritz\",\n",
       "  'uid': 'CHE-143.726.755',\n",
       "  'sitz': 'Grächen',\n",
       "  'kanton': 'VS - Brig (Oberwallis)',\n",
       "  'url': 'https://vo.chregister.ch/cr-portal/auszug/zefix.xhtml?uid=CHE-143.726.755&lang=de'},\n",
       " {'name': 'Bäckerei Christen AG',\n",
       "  'uid': 'CHE-102.764.971',\n",
       "  'sitz': 'Sempach',\n",
       "  'kanton': 'LU - Luzern',\n",
       "  'url': 'https://lu.chregister.ch/cr-portal/auszug/zefix.xhtml?uid=CHE-102.764.971&lang=de'},\n",
       " {'name': 'Bäckerei DUO GmbH',\n",
       "  'uid': 'CHE-418.409.916',\n",
       "  'sitz': 'Zuchwil',\n",
       "  'kanton': 'SO - Solothurn',\n",
       "  'url': 'https://so.chregister.ch/cr-portal/auszug/zefix.xhtml?uid=CHE-418.409.916&lang=de'},\n",
       " {'name': 'Bäckerei Göbel',\n",
       "  'uid': 'CHE-262.284.540',\n",
       "  'sitz': 'Thun',\n",
       "  'kanton': 'BE - Bern',\n",
       "  'url': 'https://be.chregister.ch/cr-portal/auszug/zefix.xhtml?uid=CHE-262.284.540&lang=de'},\n",
       " {'name': 'Bäckerei Hauser GmbH',\n",
       "  'uid': 'CHE-430.717.145',\n",
       "  'sitz': 'Muntelier',\n",
       "  'kanton': 'FR - Fribourg',\n",
       "  'url': 'https://adm.appls.fr.ch/hrcmatic/hrcintapp/externalCompanyReport.action?companyOfrcId13=CH-217-3558418-5&ofrcLanguage=4'},\n",
       " {'name': 'Bäckerei Kaffee Spontan GmbH',\n",
       "  'uid': 'CHE-234.076.108',\n",
       "  'sitz': 'Mühleberg',\n",
       "  'kanton': 'BE - Bern',\n",
       "  'url': 'https://be.chregister.ch/cr-portal/auszug/zefix.xhtml?uid=CHE-234.076.108&lang=de'},\n",
       " {'name': 'Bäckerei Konditorei Café Meier',\n",
       "  'uid': 'CHE-193.500.199',\n",
       "  'sitz': 'Basel',\n",
       "  'kanton': 'BS - Basel-Stadt',\n",
       "  'url': 'https://bs.chregister.ch/cr-portal/auszug/zefix.xhtml?uid=CHE-193.500.199&lang=de'}]"
      ]
     },
     "execution_count": 145,
     "metadata": {},
     "output_type": "execute_result"
    }
   ],
   "source": [
    "final_list"
   ]
  },
  {
   "cell_type": "code",
   "execution_count": 146,
   "metadata": {},
   "outputs": [
    {
     "data": {
      "text/html": [
       "<div>\n",
       "<style scoped>\n",
       "    .dataframe tbody tr th:only-of-type {\n",
       "        vertical-align: middle;\n",
       "    }\n",
       "\n",
       "    .dataframe tbody tr th {\n",
       "        vertical-align: top;\n",
       "    }\n",
       "\n",
       "    .dataframe thead th {\n",
       "        text-align: right;\n",
       "    }\n",
       "</style>\n",
       "<table border=\"1\" class=\"dataframe\">\n",
       "  <thead>\n",
       "    <tr style=\"text-align: right;\">\n",
       "      <th></th>\n",
       "      <th>name</th>\n",
       "      <th>uid</th>\n",
       "      <th>sitz</th>\n",
       "      <th>kanton</th>\n",
       "      <th>url</th>\n",
       "    </tr>\n",
       "  </thead>\n",
       "  <tbody>\n",
       "    <tr>\n",
       "      <td>0</td>\n",
       "      <td>Bäckerei \"gsund\" AG</td>\n",
       "      <td>CHE-240.641.011</td>\n",
       "      <td>Feusisberg</td>\n",
       "      <td>SZ - Schwyz</td>\n",
       "      <td>https://sz.chregister.ch/cr-portal/auszug/zefi...</td>\n",
       "    </tr>\n",
       "    <tr>\n",
       "      <td>1</td>\n",
       "      <td>BÄCKEREI - KONDITOREI FÄSSLER</td>\n",
       "      <td>CHE-115.132.898</td>\n",
       "      <td>Rüte</td>\n",
       "      <td>AI - Appenzell I. Rh.</td>\n",
       "      <td>https://ai.chregister.ch/cr-portal/auszug/zefi...</td>\n",
       "    </tr>\n",
       "    <tr>\n",
       "      <td>2</td>\n",
       "      <td>Bäckerei / Konditorei Ganz</td>\n",
       "      <td>CHE-204.892.391</td>\n",
       "      <td>Langenthal</td>\n",
       "      <td>BE - Bern</td>\n",
       "      <td>https://be.chregister.ch/cr-portal/auszug/zefi...</td>\n",
       "    </tr>\n",
       "    <tr>\n",
       "      <td>3</td>\n",
       "      <td>Bäckerei Konditorei Hackebeil</td>\n",
       "      <td>CHE-107.965.011</td>\n",
       "      <td>Arbon</td>\n",
       "      <td>TG - Thurgau</td>\n",
       "      <td>https://tg.chregister.ch/cr-portal/auszug/zefi...</td>\n",
       "    </tr>\n",
       "    <tr>\n",
       "      <td>4</td>\n",
       "      <td>Bäckerei Konditorei Singaraja Sivaji Philip Ma...</td>\n",
       "      <td>CHE-109.987.130</td>\n",
       "      <td>Basel</td>\n",
       "      <td>BS - Basel-Stadt</td>\n",
       "      <td>https://bs.chregister.ch/cr-portal/auszug/zefi...</td>\n",
       "    </tr>\n",
       "    <tr>\n",
       "      <td>5</td>\n",
       "      <td>Bäckerei La Panetteria GmbH</td>\n",
       "      <td>CHE-421.307.156</td>\n",
       "      <td>St. Gallen</td>\n",
       "      <td>SG - St. Gallen</td>\n",
       "      <td>https://sg.chregister.ch/cr-portal/auszug/zefi...</td>\n",
       "    </tr>\n",
       "    <tr>\n",
       "      <td>6</td>\n",
       "      <td>Bäckerei Mödinger GmbH</td>\n",
       "      <td>CHE-113.157.019</td>\n",
       "      <td>Bern</td>\n",
       "      <td>BE - Bern</td>\n",
       "      <td>https://be.chregister.ch/cr-portal/auszug/zefi...</td>\n",
       "    </tr>\n",
       "    <tr>\n",
       "      <td>7</td>\n",
       "      <td>Bäckerei Nussbaumer AG</td>\n",
       "      <td>CHE-106.013.220</td>\n",
       "      <td>Cham</td>\n",
       "      <td>ZG - Zug</td>\n",
       "      <td>https://zg.chregister.ch/cr-portal/auszug/zefi...</td>\n",
       "    </tr>\n",
       "    <tr>\n",
       "      <td>8</td>\n",
       "      <td>Bäckerei Röösli</td>\n",
       "      <td>CHE-470.329.565</td>\n",
       "      <td>Oberentfelden</td>\n",
       "      <td>AG - Aargau</td>\n",
       "      <td>https://ag.chregister.ch/cr-portal/auszug/zefi...</td>\n",
       "    </tr>\n",
       "    <tr>\n",
       "      <td>9</td>\n",
       "      <td>Bäckerei Speck</td>\n",
       "      <td>CHE-113.973.800</td>\n",
       "      <td>Oberkulm</td>\n",
       "      <td>AG - Aargau</td>\n",
       "      <td>https://ag.chregister.ch/cr-portal/auszug/zefi...</td>\n",
       "    </tr>\n",
       "    <tr>\n",
       "      <td>10</td>\n",
       "      <td>Bäckerei Tea-Room Burg AG</td>\n",
       "      <td>CHE-232.936.792</td>\n",
       "      <td>Rechthalten</td>\n",
       "      <td>FR - Fribourg</td>\n",
       "      <td>https://adm.appls.fr.ch/hrcmatic/hrcintapp/ext...</td>\n",
       "    </tr>\n",
       "    <tr>\n",
       "      <td>11</td>\n",
       "      <td>Bäckerei zur Kettenbrücke M. Leutwiler</td>\n",
       "      <td>CHE-107.083.298</td>\n",
       "      <td>Aarau</td>\n",
       "      <td>AG - Aargau</td>\n",
       "      <td>https://ag.chregister.ch/cr-portal/auszug/zefi...</td>\n",
       "    </tr>\n",
       "    <tr>\n",
       "      <td>12</td>\n",
       "      <td>Bäckerei-Café Willy Egli AG</td>\n",
       "      <td>CHE-112.806.720</td>\n",
       "      <td>Thun</td>\n",
       "      <td>BE - Bern</td>\n",
       "      <td>https://be.chregister.ch/cr-portal/auszug/zefi...</td>\n",
       "    </tr>\n",
       "    <tr>\n",
       "      <td>13</td>\n",
       "      <td>Bäckerei Andreas Fend-Müller</td>\n",
       "      <td>CHE-107.221.985</td>\n",
       "      <td>Saanen</td>\n",
       "      <td>BE - Bern</td>\n",
       "      <td>https://be.chregister.ch/cr-portal/auszug/zefi...</td>\n",
       "    </tr>\n",
       "    <tr>\n",
       "      <td>14</td>\n",
       "      <td>Bäckerei-Confiserie-Café Kuhnen GmbH</td>\n",
       "      <td>CHE-107.208.476</td>\n",
       "      <td>Lenk</td>\n",
       "      <td>BE - Bern</td>\n",
       "      <td>https://be.chregister.ch/cr-portal/auszug/zefi...</td>\n",
       "    </tr>\n",
       "    <tr>\n",
       "      <td>15</td>\n",
       "      <td>Bäckerei-Konditorei Bieri Alfred</td>\n",
       "      <td>CHE-105.986.692</td>\n",
       "      <td>Erlenbach im Simmental</td>\n",
       "      <td>BE - Bern</td>\n",
       "      <td>https://be.chregister.ch/cr-portal/auszug/zefi...</td>\n",
       "    </tr>\n",
       "    <tr>\n",
       "      <td>16</td>\n",
       "      <td>Bäckerei-Konditorei Ch. + I. Muralt</td>\n",
       "      <td>CHE-105.751.657</td>\n",
       "      <td>Ostermundigen</td>\n",
       "      <td>BE - Bern</td>\n",
       "      <td>https://be.chregister.ch/cr-portal/auszug/zefi...</td>\n",
       "    </tr>\n",
       "    <tr>\n",
       "      <td>17</td>\n",
       "      <td>Bäckerei-Konditorei Fuchs</td>\n",
       "      <td>CHE-107.291.997</td>\n",
       "      <td>Diepoldsau</td>\n",
       "      <td>SG - St. Gallen</td>\n",
       "      <td>https://sg.chregister.ch/cr-portal/auszug/zefi...</td>\n",
       "    </tr>\n",
       "    <tr>\n",
       "      <td>18</td>\n",
       "      <td>Bäckerei-Konditorei Hirt</td>\n",
       "      <td>CHE-108.035.907</td>\n",
       "      <td>Bözberg</td>\n",
       "      <td>AG - Aargau</td>\n",
       "      <td>https://ag.chregister.ch/cr-portal/auszug/zefi...</td>\n",
       "    </tr>\n",
       "    <tr>\n",
       "      <td>19</td>\n",
       "      <td>Bäckerei-Konditorei Karl Wüthrich, Café Cat</td>\n",
       "      <td>CHE-108.763.757</td>\n",
       "      <td>Köniz</td>\n",
       "      <td>BE - Bern</td>\n",
       "      <td>https://be.chregister.ch/cr-portal/auszug/zefi...</td>\n",
       "    </tr>\n",
       "    <tr>\n",
       "      <td>20</td>\n",
       "      <td>Bäckerei-Konditorei Merz AG</td>\n",
       "      <td>CHE-106.505.983</td>\n",
       "      <td>Luzern</td>\n",
       "      <td>LU - Luzern</td>\n",
       "      <td>https://lu.chregister.ch/cr-portal/auszug/zefi...</td>\n",
       "    </tr>\n",
       "    <tr>\n",
       "      <td>21</td>\n",
       "      <td>Bäckerei-Konditorei Peter Müller</td>\n",
       "      <td>CHE-107.242.705</td>\n",
       "      <td>Luzern</td>\n",
       "      <td>LU - Luzern</td>\n",
       "      <td>https://lu.chregister.ch/cr-portal/auszug/zefi...</td>\n",
       "    </tr>\n",
       "    <tr>\n",
       "      <td>22</td>\n",
       "      <td>Bäckerei-Konditorei Schiess AG</td>\n",
       "      <td>CHE-283.796.656</td>\n",
       "      <td>Sulgen</td>\n",
       "      <td>TG - Thurgau</td>\n",
       "      <td>https://tg.chregister.ch/cr-portal/auszug/zefi...</td>\n",
       "    </tr>\n",
       "    <tr>\n",
       "      <td>23</td>\n",
       "      <td>Bäckerei-Konditorei Stocker AG</td>\n",
       "      <td>CHE-108.094.442</td>\n",
       "      <td>Sursee</td>\n",
       "      <td>LU - Luzern</td>\n",
       "      <td>https://lu.chregister.ch/cr-portal/auszug/zefi...</td>\n",
       "    </tr>\n",
       "    <tr>\n",
       "      <td>24</td>\n",
       "      <td>Bäckerei Bohnenblust AG</td>\n",
       "      <td>CHE-472.136.586</td>\n",
       "      <td>Bern</td>\n",
       "      <td>BE - Bern</td>\n",
       "      <td>https://be.chregister.ch/cr-portal/auszug/zefi...</td>\n",
       "    </tr>\n",
       "    <tr>\n",
       "      <td>25</td>\n",
       "      <td>Bäckerei-Konditorei Waeber GmbH</td>\n",
       "      <td>CHE-112.831.847</td>\n",
       "      <td>Fribourg</td>\n",
       "      <td>FR - Fribourg</td>\n",
       "      <td>https://adm.appls.fr.ch/hrcmatic/hrcintapp/ext...</td>\n",
       "    </tr>\n",
       "    <tr>\n",
       "      <td>26</td>\n",
       "      <td>Bäckerei-Konditorei-Café Moos Fabienne GmbH</td>\n",
       "      <td>CHE-209.788.536</td>\n",
       "      <td>Luzern</td>\n",
       "      <td>LU - Luzern</td>\n",
       "      <td>https://lu.chregister.ch/cr-portal/auszug/zefi...</td>\n",
       "    </tr>\n",
       "    <tr>\n",
       "      <td>27</td>\n",
       "      <td>Bäckerei-Konditorei-Confiserie von Rotz GmbH</td>\n",
       "      <td>CHE-100.362.082</td>\n",
       "      <td>Cham</td>\n",
       "      <td>ZG - Zug</td>\n",
       "      <td>https://zg.chregister.ch/cr-portal/auszug/zefi...</td>\n",
       "    </tr>\n",
       "    <tr>\n",
       "      <td>28</td>\n",
       "      <td>Bäckerei/Konditorei Muri's Produkte, Williner ...</td>\n",
       "      <td>CHE-143.726.755</td>\n",
       "      <td>Grächen</td>\n",
       "      <td>VS - Brig (Oberwallis)</td>\n",
       "      <td>https://vo.chregister.ch/cr-portal/auszug/zefi...</td>\n",
       "    </tr>\n",
       "    <tr>\n",
       "      <td>29</td>\n",
       "      <td>Bäckerei/Konditorei Muri's Produkte, Williner ...</td>\n",
       "      <td>CHE-143.726.755</td>\n",
       "      <td>Grächen</td>\n",
       "      <td>VS - Brig (Oberwallis)</td>\n",
       "      <td>https://vo.chregister.ch/cr-portal/auszug/zefi...</td>\n",
       "    </tr>\n",
       "    <tr>\n",
       "      <td>30</td>\n",
       "      <td>Bäckerei Christen AG</td>\n",
       "      <td>CHE-102.764.971</td>\n",
       "      <td>Sempach</td>\n",
       "      <td>LU - Luzern</td>\n",
       "      <td>https://lu.chregister.ch/cr-portal/auszug/zefi...</td>\n",
       "    </tr>\n",
       "    <tr>\n",
       "      <td>31</td>\n",
       "      <td>Bäckerei DUO GmbH</td>\n",
       "      <td>CHE-418.409.916</td>\n",
       "      <td>Zuchwil</td>\n",
       "      <td>SO - Solothurn</td>\n",
       "      <td>https://so.chregister.ch/cr-portal/auszug/zefi...</td>\n",
       "    </tr>\n",
       "    <tr>\n",
       "      <td>32</td>\n",
       "      <td>Bäckerei Göbel</td>\n",
       "      <td>CHE-262.284.540</td>\n",
       "      <td>Thun</td>\n",
       "      <td>BE - Bern</td>\n",
       "      <td>https://be.chregister.ch/cr-portal/auszug/zefi...</td>\n",
       "    </tr>\n",
       "    <tr>\n",
       "      <td>33</td>\n",
       "      <td>Bäckerei Hauser GmbH</td>\n",
       "      <td>CHE-430.717.145</td>\n",
       "      <td>Muntelier</td>\n",
       "      <td>FR - Fribourg</td>\n",
       "      <td>https://adm.appls.fr.ch/hrcmatic/hrcintapp/ext...</td>\n",
       "    </tr>\n",
       "    <tr>\n",
       "      <td>34</td>\n",
       "      <td>Bäckerei Kaffee Spontan GmbH</td>\n",
       "      <td>CHE-234.076.108</td>\n",
       "      <td>Mühleberg</td>\n",
       "      <td>BE - Bern</td>\n",
       "      <td>https://be.chregister.ch/cr-portal/auszug/zefi...</td>\n",
       "    </tr>\n",
       "    <tr>\n",
       "      <td>35</td>\n",
       "      <td>Bäckerei Konditorei Café Meier</td>\n",
       "      <td>CHE-193.500.199</td>\n",
       "      <td>Basel</td>\n",
       "      <td>BS - Basel-Stadt</td>\n",
       "      <td>https://bs.chregister.ch/cr-portal/auszug/zefi...</td>\n",
       "    </tr>\n",
       "  </tbody>\n",
       "</table>\n",
       "</div>"
      ],
      "text/plain": [
       "                                                 name              uid  \\\n",
       "0                                 Bäckerei \"gsund\" AG  CHE-240.641.011   \n",
       "1                       BÄCKEREI - KONDITOREI FÄSSLER  CHE-115.132.898   \n",
       "2                          Bäckerei / Konditorei Ganz  CHE-204.892.391   \n",
       "3                       Bäckerei Konditorei Hackebeil  CHE-107.965.011   \n",
       "4   Bäckerei Konditorei Singaraja Sivaji Philip Ma...  CHE-109.987.130   \n",
       "5                         Bäckerei La Panetteria GmbH  CHE-421.307.156   \n",
       "6                              Bäckerei Mödinger GmbH  CHE-113.157.019   \n",
       "7                              Bäckerei Nussbaumer AG  CHE-106.013.220   \n",
       "8                                     Bäckerei Röösli  CHE-470.329.565   \n",
       "9                                      Bäckerei Speck  CHE-113.973.800   \n",
       "10                          Bäckerei Tea-Room Burg AG  CHE-232.936.792   \n",
       "11             Bäckerei zur Kettenbrücke M. Leutwiler  CHE-107.083.298   \n",
       "12                        Bäckerei-Café Willy Egli AG  CHE-112.806.720   \n",
       "13                       Bäckerei Andreas Fend-Müller  CHE-107.221.985   \n",
       "14               Bäckerei-Confiserie-Café Kuhnen GmbH  CHE-107.208.476   \n",
       "15                   Bäckerei-Konditorei Bieri Alfred  CHE-105.986.692   \n",
       "16                Bäckerei-Konditorei Ch. + I. Muralt  CHE-105.751.657   \n",
       "17                          Bäckerei-Konditorei Fuchs  CHE-107.291.997   \n",
       "18                           Bäckerei-Konditorei Hirt  CHE-108.035.907   \n",
       "19        Bäckerei-Konditorei Karl Wüthrich, Café Cat  CHE-108.763.757   \n",
       "20                        Bäckerei-Konditorei Merz AG  CHE-106.505.983   \n",
       "21                   Bäckerei-Konditorei Peter Müller  CHE-107.242.705   \n",
       "22                     Bäckerei-Konditorei Schiess AG  CHE-283.796.656   \n",
       "23                     Bäckerei-Konditorei Stocker AG  CHE-108.094.442   \n",
       "24                            Bäckerei Bohnenblust AG  CHE-472.136.586   \n",
       "25                    Bäckerei-Konditorei Waeber GmbH  CHE-112.831.847   \n",
       "26        Bäckerei-Konditorei-Café Moos Fabienne GmbH  CHE-209.788.536   \n",
       "27       Bäckerei-Konditorei-Confiserie von Rotz GmbH  CHE-100.362.082   \n",
       "28  Bäckerei/Konditorei Muri's Produkte, Williner ...  CHE-143.726.755   \n",
       "29  Bäckerei/Konditorei Muri's Produkte, Williner ...  CHE-143.726.755   \n",
       "30                               Bäckerei Christen AG  CHE-102.764.971   \n",
       "31                                  Bäckerei DUO GmbH  CHE-418.409.916   \n",
       "32                                     Bäckerei Göbel  CHE-262.284.540   \n",
       "33                               Bäckerei Hauser GmbH  CHE-430.717.145   \n",
       "34                       Bäckerei Kaffee Spontan GmbH  CHE-234.076.108   \n",
       "35                     Bäckerei Konditorei Café Meier  CHE-193.500.199   \n",
       "\n",
       "                      sitz                  kanton  \\\n",
       "0               Feusisberg             SZ - Schwyz   \n",
       "1                     Rüte   AI - Appenzell I. Rh.   \n",
       "2               Langenthal               BE - Bern   \n",
       "3                    Arbon            TG - Thurgau   \n",
       "4                    Basel        BS - Basel-Stadt   \n",
       "5               St. Gallen         SG - St. Gallen   \n",
       "6                     Bern               BE - Bern   \n",
       "7                     Cham                ZG - Zug   \n",
       "8            Oberentfelden             AG - Aargau   \n",
       "9                 Oberkulm             AG - Aargau   \n",
       "10             Rechthalten           FR - Fribourg   \n",
       "11                   Aarau             AG - Aargau   \n",
       "12                    Thun               BE - Bern   \n",
       "13                  Saanen               BE - Bern   \n",
       "14                    Lenk               BE - Bern   \n",
       "15  Erlenbach im Simmental               BE - Bern   \n",
       "16           Ostermundigen               BE - Bern   \n",
       "17              Diepoldsau         SG - St. Gallen   \n",
       "18                 Bözberg             AG - Aargau   \n",
       "19                   Köniz               BE - Bern   \n",
       "20                  Luzern             LU - Luzern   \n",
       "21                  Luzern             LU - Luzern   \n",
       "22                  Sulgen            TG - Thurgau   \n",
       "23                  Sursee             LU - Luzern   \n",
       "24                    Bern               BE - Bern   \n",
       "25                Fribourg           FR - Fribourg   \n",
       "26                  Luzern             LU - Luzern   \n",
       "27                    Cham                ZG - Zug   \n",
       "28                 Grächen  VS - Brig (Oberwallis)   \n",
       "29                 Grächen  VS - Brig (Oberwallis)   \n",
       "30                 Sempach             LU - Luzern   \n",
       "31                 Zuchwil          SO - Solothurn   \n",
       "32                    Thun               BE - Bern   \n",
       "33               Muntelier           FR - Fribourg   \n",
       "34               Mühleberg               BE - Bern   \n",
       "35                   Basel        BS - Basel-Stadt   \n",
       "\n",
       "                                                  url  \n",
       "0   https://sz.chregister.ch/cr-portal/auszug/zefi...  \n",
       "1   https://ai.chregister.ch/cr-portal/auszug/zefi...  \n",
       "2   https://be.chregister.ch/cr-portal/auszug/zefi...  \n",
       "3   https://tg.chregister.ch/cr-portal/auszug/zefi...  \n",
       "4   https://bs.chregister.ch/cr-portal/auszug/zefi...  \n",
       "5   https://sg.chregister.ch/cr-portal/auszug/zefi...  \n",
       "6   https://be.chregister.ch/cr-portal/auszug/zefi...  \n",
       "7   https://zg.chregister.ch/cr-portal/auszug/zefi...  \n",
       "8   https://ag.chregister.ch/cr-portal/auszug/zefi...  \n",
       "9   https://ag.chregister.ch/cr-portal/auszug/zefi...  \n",
       "10  https://adm.appls.fr.ch/hrcmatic/hrcintapp/ext...  \n",
       "11  https://ag.chregister.ch/cr-portal/auszug/zefi...  \n",
       "12  https://be.chregister.ch/cr-portal/auszug/zefi...  \n",
       "13  https://be.chregister.ch/cr-portal/auszug/zefi...  \n",
       "14  https://be.chregister.ch/cr-portal/auszug/zefi...  \n",
       "15  https://be.chregister.ch/cr-portal/auszug/zefi...  \n",
       "16  https://be.chregister.ch/cr-portal/auszug/zefi...  \n",
       "17  https://sg.chregister.ch/cr-portal/auszug/zefi...  \n",
       "18  https://ag.chregister.ch/cr-portal/auszug/zefi...  \n",
       "19  https://be.chregister.ch/cr-portal/auszug/zefi...  \n",
       "20  https://lu.chregister.ch/cr-portal/auszug/zefi...  \n",
       "21  https://lu.chregister.ch/cr-portal/auszug/zefi...  \n",
       "22  https://tg.chregister.ch/cr-portal/auszug/zefi...  \n",
       "23  https://lu.chregister.ch/cr-portal/auszug/zefi...  \n",
       "24  https://be.chregister.ch/cr-portal/auszug/zefi...  \n",
       "25  https://adm.appls.fr.ch/hrcmatic/hrcintapp/ext...  \n",
       "26  https://lu.chregister.ch/cr-portal/auszug/zefi...  \n",
       "27  https://zg.chregister.ch/cr-portal/auszug/zefi...  \n",
       "28  https://vo.chregister.ch/cr-portal/auszug/zefi...  \n",
       "29  https://vo.chregister.ch/cr-portal/auszug/zefi...  \n",
       "30  https://lu.chregister.ch/cr-portal/auszug/zefi...  \n",
       "31  https://so.chregister.ch/cr-portal/auszug/zefi...  \n",
       "32  https://be.chregister.ch/cr-portal/auszug/zefi...  \n",
       "33  https://adm.appls.fr.ch/hrcmatic/hrcintapp/ext...  \n",
       "34  https://be.chregister.ch/cr-portal/auszug/zefi...  \n",
       "35  https://bs.chregister.ch/cr-portal/auszug/zefi...  "
      ]
     },
     "execution_count": 146,
     "metadata": {},
     "output_type": "execute_result"
    }
   ],
   "source": [
    "pd.DataFrame(final_list)"
   ]
  },
  {
   "cell_type": "code",
   "execution_count": null,
   "metadata": {},
   "outputs": [],
   "source": []
  },
  {
   "cell_type": "code",
   "execution_count": null,
   "metadata": {},
   "outputs": [],
   "source": []
  },
  {
   "cell_type": "markdown",
   "metadata": {},
   "source": [
    "Seiten einlesen, hier zuerst mit einer Seite"
   ]
  },
  {
   "cell_type": "code",
   "execution_count": 3,
   "metadata": {},
   "outputs": [],
   "source": [
    "file = open('pages/' + lst[0], 'r')\n",
    "text = file.read()\n",
    "h = BeautifulSoup(text, 'html.parser')"
   ]
  },
  {
   "cell_type": "code",
   "execution_count": null,
   "metadata": {},
   "outputs": [],
   "source": []
  },
  {
   "cell_type": "markdown",
   "metadata": {},
   "source": [
    "Alle Elemente, die uns interessieren"
   ]
  },
  {
   "cell_type": "code",
   "execution_count": null,
   "metadata": {},
   "outputs": [],
   "source": []
  },
  {
   "cell_type": "code",
   "execution_count": null,
   "metadata": {},
   "outputs": [],
   "source": []
  },
  {
   "cell_type": "code",
   "execution_count": null,
   "metadata": {},
   "outputs": [],
   "source": []
  },
  {
   "cell_type": "code",
   "execution_count": null,
   "metadata": {},
   "outputs": [],
   "source": []
  },
  {
   "cell_type": "markdown",
   "metadata": {},
   "source": [
    "Alle Elemente"
   ]
  },
  {
   "cell_type": "code",
   "execution_count": 17,
   "metadata": {},
   "outputs": [
    {
     "data": {
      "text/plain": [
       "'Bäckerei zur Kettenbrücke M. Leutwiler'"
      ]
     },
     "execution_count": 17,
     "metadata": {},
     "output_type": "execute_result"
    }
   ],
   "source": [
    "h.find_all('tr', {'class':'ng-scope'})[0].find('div')['title']"
   ]
  },
  {
   "cell_type": "code",
   "execution_count": 22,
   "metadata": {},
   "outputs": [
    {
     "data": {
      "text/plain": [
       "'https://ag.chregister.ch/cr-portal/auszug/zefix.xhtml?uid=CHE-107.083.298&lang=de'"
      ]
     },
     "execution_count": 22,
     "metadata": {},
     "output_type": "execute_result"
    }
   ],
   "source": [
    "h.find_all('tr', {'class':'ng-scope'})[0].find_next('div').find_next('div').find('a')['href']"
   ]
  },
  {
   "cell_type": "code",
   "execution_count": 35,
   "metadata": {},
   "outputs": [
    {
     "data": {
      "text/plain": [
       "'Aarau'"
      ]
     },
     "execution_count": 35,
     "metadata": {},
     "output_type": "execute_result"
    }
   ],
   "source": [
    "h.find_all('tr', {'class':'ng-scope'})[0].find_next('div') \\\n",
    "    .find_next('div').find_next('div').find_next('div').find_next('div').text"
   ]
  },
  {
   "cell_type": "code",
   "execution_count": 37,
   "metadata": {},
   "outputs": [
    {
     "data": {
      "text/plain": [
       "'AG - Aargau'"
      ]
     },
     "execution_count": 37,
     "metadata": {},
     "output_type": "execute_result"
    }
   ],
   "source": [
    "h.find_all('tr', {'class':'ng-scope'})[0].find_next('div') \\\n",
    "    .find_next('div').find_next('div').find_next('div') \\\n",
    "    .find_next('div').find_next('div').text"
   ]
  },
  {
   "cell_type": "markdown",
   "metadata": {},
   "source": [
    "Und jetzt alles in einen For_loop packen"
   ]
  },
  {
   "cell_type": "code",
   "execution_count": 128,
   "metadata": {},
   "outputs": [],
   "source": [
    "soup_lst = h.find_all('tr', {'class':'ng-scope'})"
   ]
  },
  {
   "cell_type": "code",
   "execution_count": 129,
   "metadata": {},
   "outputs": [],
   "source": [
    "bäck_lst = []\n",
    "\n",
    "for bäck in soup_lst:\n",
    "    \n",
    "    name = bäck.find('div')['title']\n",
    "    url = bäck.find_next('div').find_next('div').find('a')['href']\n",
    "    gem = bäck.find_next('div') \\\n",
    "        .find_next('div').find_next('div').find_next('div').find_next('div').text\n",
    "    kt = bäck.find_next('div') \\\n",
    "        .find_next('div').find_next('div').find_next('div') \\\n",
    "        .find_next('div').find_next('div').text\n",
    "    \n",
    "    minidict = {'Bäckerei': name,\n",
    "                'URL': url,\n",
    "                'Gemeinde': gem,\n",
    "                'Kanton': kt}\n",
    "    \n",
    "    bäck_lst.append(minidict)"
   ]
  },
  {
   "cell_type": "markdown",
   "metadata": {},
   "source": [
    "Jetzt machen wir daraus eine Funktion"
   ]
  },
  {
   "cell_type": "code",
   "execution_count": 130,
   "metadata": {},
   "outputs": [],
   "source": [
    "def get_bäcks(html_code):\n",
    "    \n",
    "    soup_lst = html_code.find_all('tr', {'class':'ng-scope'})\n",
    "    \n",
    "    bäck_lst = []\n",
    "    for bäck in soup_lst:\n",
    "    \n",
    "        name = bäck.find('div')['title']\n",
    "        url = bäck.find_next('div').find_next('div').find('a')['href']\n",
    "        gem = bäck.find_next('div') \\\n",
    "            .find_next('div').find_next('div').find_next('div').find_next('div').text\n",
    "        kt = bäck.find_next('div') \\\n",
    "            .find_next('div').find_next('div').find_next('div') \\\n",
    "            .find_next('div').find_next('div').text\n",
    "    \n",
    "        minidict = {'Bäckerei': name,\n",
    "                'URL': url,\n",
    "                'Gemeinde': gem,\n",
    "                'Kanton': kt}\n",
    "    \n",
    "        bäck_lst.append(minidict)\n",
    "    \n",
    "    return bäck_lst"
   ]
  },
  {
   "cell_type": "code",
   "execution_count": 46,
   "metadata": {},
   "outputs": [],
   "source": [
    "file = open('pages/' + lst[0], 'r')\n",
    "text = file.read()\n",
    "h = BeautifulSoup(text, 'html.parser')"
   ]
  },
  {
   "cell_type": "code",
   "execution_count": 47,
   "metadata": {},
   "outputs": [
    {
     "data": {
      "text/plain": [
       "[{'Bäckerei': 'Bäckerei zur Kettenbrücke M. Leutwiler',\n",
       "  'URL': 'https://ag.chregister.ch/cr-portal/auszug/zefix.xhtml?uid=CHE-107.083.298&lang=de',\n",
       "  'Gemeinde': 'Aarau',\n",
       "  'Kanton': 'AG - Aargau'},\n",
       " {'Bäckerei': 'Bäckerei, Konditorei Fahrni',\n",
       "  'URL': 'https://be.chregister.ch/cr-portal/auszug/zefix.xhtml?uid=CHE-107.180.240&lang=de',\n",
       "  'Gemeinde': 'Dotzigen',\n",
       "  'Kanton': 'BE - Bern'},\n",
       " {'Bäckerei': 'Bäckerei, Konditorei Winter, Ilic Milovan',\n",
       "  'URL': 'https://zh.chregister.ch/cr-portal/auszug/zefix.xhtml?uid=CHE-189.036.773&lang=de',\n",
       "  'Gemeinde': 'Adliswil',\n",
       "  'Kanton': 'ZH - Zürich'},\n",
       " {'Bäckerei': 'Bäckerei, Konditorei, Café \"Zum Steinenen Trauben\" Walz',\n",
       "  'URL': 'https://sh.chregister.ch/cr-portal/auszug/zefix.xhtml?uid=CHE-106.833.950&lang=de',\n",
       "  'Gemeinde': 'Stein am Rhein',\n",
       "  'Kanton': 'SH - Schaffhausen'},\n",
       " {'Bäckerei': 'Bäckerei, Konditorei, Confiserie Mock',\n",
       "  'URL': 'https://bs.chregister.ch/cr-portal/auszug/zefix.xhtml?uid=CHE-110.597.445&lang=de',\n",
       "  'Gemeinde': 'Basel',\n",
       "  'Kanton': 'BS - Basel-Stadt'},\n",
       " {'Bäckerei': 'Bäckerei, Konditorei, Lebensmittel E. Fahrni',\n",
       "  'URL': 'https://be.chregister.ch/cr-portal/auszug/zefix.xhtml?uid=CHE-105.384.814&lang=de',\n",
       "  'Gemeinde': 'Sigriswil',\n",
       "  'Kanton': 'BE - Bern'},\n",
       " {'Bäckerei': 'Bäckerei, Tea-Room und Garni Imseng',\n",
       "  'URL': 'https://vo.chregister.ch/cr-portal/auszug/zefix.xhtml?uid=CHE-106.986.387&lang=de',\n",
       "  'Gemeinde': 'Saas-Fee',\n",
       "  'Kanton': 'VS - Brig (Oberwallis)'},\n",
       " {'Bäckerei': 'Bäckerei-Café Betschart',\n",
       "  'URL': 'https://zh.chregister.ch/cr-portal/auszug/zefix.xhtml?uid=CHE-115.764.041&lang=de',\n",
       "  'Gemeinde': 'Bonstetten',\n",
       "  'Kanton': 'ZH - Zürich'},\n",
       " {'Bäckerei': 'Bäckerei-Café Kohler AG',\n",
       "  'URL': 'https://ag.chregister.ch/cr-portal/auszug/zefix.xhtml?uid=CHE-214.578.660&lang=de',\n",
       "  'Gemeinde': 'Hunzenschwil',\n",
       "  'Kanton': 'AG - Aargau'},\n",
       " {'Bäckerei': 'Bäckerei-Café Meyer AG',\n",
       "  'URL': 'https://lu.chregister.ch/cr-portal/auszug/zefix.xhtml?uid=CHE-112.409.371&lang=de',\n",
       "  'Gemeinde': 'Hitzkirch',\n",
       "  'Kanton': 'LU - Luzern'}]"
      ]
     },
     "execution_count": 47,
     "metadata": {},
     "output_type": "execute_result"
    }
   ],
   "source": [
    "get_bäcks(h)"
   ]
  },
  {
   "cell_type": "markdown",
   "metadata": {},
   "source": [
    "Und jetzt wenden wir das auf alle html files an"
   ]
  },
  {
   "cell_type": "code",
   "execution_count": 131,
   "metadata": {
    "scrolled": true
   },
   "outputs": [
    {
     "name": "stderr",
     "output_type": "stream",
     "text": [
      "100%|██████████| 36/36 [00:02<00:00, 13.22it/s]\n"
     ]
    }
   ],
   "source": [
    "full_bäck_lst = []\n",
    "for html_file in tqdm(lst):\n",
    "    \n",
    "    file = open('pages/' + html_file, 'r')\n",
    "    text = file.read()\n",
    "    h = BeautifulSoup(text, 'html.parser')\n",
    "    \n",
    "    full_bäck_lst = full_bäck_lst + get_bäcks(h)"
   ]
  },
  {
   "cell_type": "code",
   "execution_count": 132,
   "metadata": {},
   "outputs": [
    {
     "data": {
      "text/html": [
       "<div>\n",
       "<style scoped>\n",
       "    .dataframe tbody tr th:only-of-type {\n",
       "        vertical-align: middle;\n",
       "    }\n",
       "\n",
       "    .dataframe tbody tr th {\n",
       "        vertical-align: top;\n",
       "    }\n",
       "\n",
       "    .dataframe thead th {\n",
       "        text-align: right;\n",
       "    }\n",
       "</style>\n",
       "<table border=\"1\" class=\"dataframe\">\n",
       "  <thead>\n",
       "    <tr style=\"text-align: right;\">\n",
       "      <th></th>\n",
       "      <th>Bäckerei</th>\n",
       "      <th>URL</th>\n",
       "      <th>Gemeinde</th>\n",
       "      <th>Kanton</th>\n",
       "    </tr>\n",
       "  </thead>\n",
       "  <tbody>\n",
       "    <tr>\n",
       "      <td>0</td>\n",
       "      <td>Bäckerei \"gsund\" AG</td>\n",
       "      <td>https://sz.chregister.ch/cr-portal/auszug/zefi...</td>\n",
       "      <td>Feusisberg</td>\n",
       "      <td>SZ - Schwyz</td>\n",
       "    </tr>\n",
       "    <tr>\n",
       "      <td>1</td>\n",
       "      <td>Bäckerei &amp; Catering M Janicijevic</td>\n",
       "      <td>https://zh.chregister.ch/cr-portal/auszug/zefi...</td>\n",
       "      <td>Zürich</td>\n",
       "      <td>ZH - Zürich</td>\n",
       "    </tr>\n",
       "    <tr>\n",
       "      <td>2</td>\n",
       "      <td>Bäckerei &amp; Konditorei, Biner &amp; Co.</td>\n",
       "      <td>https://vo.chregister.ch/cr-portal/auszug/zefi...</td>\n",
       "      <td>Zermatt</td>\n",
       "      <td>VS - Brig (Oberwallis)</td>\n",
       "    </tr>\n",
       "    <tr>\n",
       "      <td>3</td>\n",
       "      <td>Bäckerei + Party-Service Sandra Bircher</td>\n",
       "      <td>https://ag.chregister.ch/cr-portal/auszug/zefi...</td>\n",
       "      <td>Wölflinswil</td>\n",
       "      <td>AG - Aargau</td>\n",
       "    </tr>\n",
       "    <tr>\n",
       "      <td>4</td>\n",
       "      <td>Bäckerei - Konditorei - Café Gut</td>\n",
       "      <td>https://lu.chregister.ch/cr-portal/auszug/zefi...</td>\n",
       "      <td>Willisau</td>\n",
       "      <td>LU - Luzern</td>\n",
       "    </tr>\n",
       "    <tr>\n",
       "      <td>...</td>\n",
       "      <td>...</td>\n",
       "      <td>...</td>\n",
       "      <td>...</td>\n",
       "      <td>...</td>\n",
       "    </tr>\n",
       "    <tr>\n",
       "      <td>339</td>\n",
       "      <td>Bäckerei Konditorei Fahrni, Nachfolger Heinz G...</td>\n",
       "      <td>https://be.chregister.ch/cr-portal/auszug/zefi...</td>\n",
       "      <td>Thun</td>\n",
       "      <td>BE - Bern</td>\n",
       "    </tr>\n",
       "    <tr>\n",
       "      <td>340</td>\n",
       "      <td>Bäckerei Konditorei Gabriel AG</td>\n",
       "      <td>https://gr.chregister.ch/cr-portal/auszug/zefi...</td>\n",
       "      <td>Breil/Brigels</td>\n",
       "      <td>GR - Graubünden</td>\n",
       "    </tr>\n",
       "    <tr>\n",
       "      <td>341</td>\n",
       "      <td>Bäckerei Konditorei Graber</td>\n",
       "      <td>https://be.chregister.ch/cr-portal/auszug/zefi...</td>\n",
       "      <td>Aeschi bei Spiez</td>\n",
       "      <td>BE - Bern</td>\n",
       "    </tr>\n",
       "    <tr>\n",
       "      <td>342</td>\n",
       "      <td>Bäckerei Konditorei Grossenbacher AG</td>\n",
       "      <td>https://be.chregister.ch/cr-portal/auszug/zefi...</td>\n",
       "      <td>Jegenstorf</td>\n",
       "      <td>BE - Bern</td>\n",
       "    </tr>\n",
       "    <tr>\n",
       "      <td>343</td>\n",
       "      <td>Bäckerei Konditorei Gut</td>\n",
       "      <td>https://zh.chregister.ch/cr-portal/auszug/zefi...</td>\n",
       "      <td>Marthalen</td>\n",
       "      <td>ZH - Zürich</td>\n",
       "    </tr>\n",
       "  </tbody>\n",
       "</table>\n",
       "<p>344 rows × 4 columns</p>\n",
       "</div>"
      ],
      "text/plain": [
       "                                              Bäckerei  \\\n",
       "0                                  Bäckerei \"gsund\" AG   \n",
       "1                    Bäckerei & Catering M Janicijevic   \n",
       "2                   Bäckerei & Konditorei, Biner & Co.   \n",
       "3              Bäckerei + Party-Service Sandra Bircher   \n",
       "4                     Bäckerei - Konditorei - Café Gut   \n",
       "..                                                 ...   \n",
       "339  Bäckerei Konditorei Fahrni, Nachfolger Heinz G...   \n",
       "340                     Bäckerei Konditorei Gabriel AG   \n",
       "341                         Bäckerei Konditorei Graber   \n",
       "342               Bäckerei Konditorei Grossenbacher AG   \n",
       "343                            Bäckerei Konditorei Gut   \n",
       "\n",
       "                                                   URL          Gemeinde  \\\n",
       "0    https://sz.chregister.ch/cr-portal/auszug/zefi...        Feusisberg   \n",
       "1    https://zh.chregister.ch/cr-portal/auszug/zefi...            Zürich   \n",
       "2    https://vo.chregister.ch/cr-portal/auszug/zefi...           Zermatt   \n",
       "3    https://ag.chregister.ch/cr-portal/auszug/zefi...       Wölflinswil   \n",
       "4    https://lu.chregister.ch/cr-portal/auszug/zefi...          Willisau   \n",
       "..                                                 ...               ...   \n",
       "339  https://be.chregister.ch/cr-portal/auszug/zefi...              Thun   \n",
       "340  https://gr.chregister.ch/cr-portal/auszug/zefi...     Breil/Brigels   \n",
       "341  https://be.chregister.ch/cr-portal/auszug/zefi...  Aeschi bei Spiez   \n",
       "342  https://be.chregister.ch/cr-portal/auszug/zefi...        Jegenstorf   \n",
       "343  https://zh.chregister.ch/cr-portal/auszug/zefi...         Marthalen   \n",
       "\n",
       "                     Kanton  \n",
       "0               SZ - Schwyz  \n",
       "1               ZH - Zürich  \n",
       "2    VS - Brig (Oberwallis)  \n",
       "3               AG - Aargau  \n",
       "4               LU - Luzern  \n",
       "..                      ...  \n",
       "339               BE - Bern  \n",
       "340         GR - Graubünden  \n",
       "341               BE - Bern  \n",
       "342               BE - Bern  \n",
       "343             ZH - Zürich  \n",
       "\n",
       "[344 rows x 4 columns]"
      ]
     },
     "execution_count": 132,
     "metadata": {},
     "output_type": "execute_result"
    }
   ],
   "source": [
    "pd.DataFrame(full_bäck_lst)"
   ]
  },
  {
   "cell_type": "code",
   "execution_count": null,
   "metadata": {},
   "outputs": [],
   "source": []
  },
  {
   "cell_type": "markdown",
   "metadata": {},
   "source": [
    "Einlesen in die Liste und abspeichern"
   ]
  },
  {
   "cell_type": "code",
   "execution_count": 133,
   "metadata": {},
   "outputs": [],
   "source": [
    "df = pd.DataFrame(full_bäck_lst)\n",
    "df.to_csv('bäckereien_list.csv')"
   ]
  },
  {
   "cell_type": "code",
   "execution_count": 134,
   "metadata": {},
   "outputs": [
    {
     "data": {
      "text/plain": [
       "BE - Bern                 86\n",
       "AG - Aargau               43\n",
       "SG - St. Gallen           39\n",
       "ZH - Zürich               35\n",
       "LU - Luzern               31\n",
       "GR - Graubünden           14\n",
       "VS - Brig (Oberwallis)    13\n",
       "SO - Solothurn            13\n",
       "TG - Thurgau              12\n",
       "FR - Fribourg             11\n",
       "BS - Basel-Stadt          10\n",
       "SZ - Schwyz                8\n",
       "BL - Basel-Landschaft      7\n",
       "AR - Appenzell A. Rh.      7\n",
       "ZG - Zug                   5\n",
       "GL - Glarus                3\n",
       "UR - Uri                   3\n",
       "SH - Schaffhausen          2\n",
       "NW - Nidwalden             1\n",
       "AI - Appenzell I. Rh.      1\n",
       "Name: Kanton, dtype: int64"
      ]
     },
     "execution_count": 134,
     "metadata": {},
     "output_type": "execute_result"
    }
   ],
   "source": [
    "df['Kanton'].value_counts()"
   ]
  },
  {
   "cell_type": "code",
   "execution_count": 140,
   "metadata": {},
   "outputs": [
    {
     "data": {
      "text/plain": [
       "Zürich         9\n",
       "Basel          9\n",
       "Thun           5\n",
       "Bern           5\n",
       "Luzern         5\n",
       "              ..\n",
       "Scuol          1\n",
       "Ueberstorf     1\n",
       "Schübelbach    1\n",
       "Rüthi (SG)     1\n",
       "St. Stephan    1\n",
       "Name: Gemeinde, Length: 269, dtype: int64"
      ]
     },
     "execution_count": 140,
     "metadata": {},
     "output_type": "execute_result"
    }
   ],
   "source": [
    "df['Gemeinde'].value_counts()"
   ]
  },
  {
   "cell_type": "code",
   "execution_count": null,
   "metadata": {},
   "outputs": [],
   "source": []
  }
 ],
 "metadata": {
  "kernelspec": {
   "display_name": "Python 3",
   "language": "python",
   "name": "python3"
  },
  "language_info": {
   "codemirror_mode": {
    "name": "ipython",
    "version": 3
   },
   "file_extension": ".py",
   "mimetype": "text/x-python",
   "name": "python",
   "nbconvert_exporter": "python",
   "pygments_lexer": "ipython3",
   "version": "3.7.4"
  }
 },
 "nbformat": 4,
 "nbformat_minor": 2
}
