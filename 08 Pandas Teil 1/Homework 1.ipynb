{
 "cells": [
  {
   "cell_type": "markdown",
   "metadata": {},
   "source": [
    "# Homework 1"
   ]
  },
  {
   "cell_type": "markdown",
   "metadata": {},
   "source": [
    "**Inhalt:** Datensets explorieren, filtern, Felder erstellen\n",
    "\n",
    "**Nötige Skills:** Erste Schritte mit Pandas\n",
    "\n",
    "**Lernziele:**\n",
    "- Review und Übung"
   ]
  },
  {
   "cell_type": "markdown",
   "metadata": {},
   "source": [
    "# Das Beispiel"
   ]
  },
  {
   "cell_type": "markdown",
   "metadata": {},
   "source": [
    "Fussballstadien\n",
    "\n",
    "Quelle/Beschreibung: http://opisthokonta.net/?cat=34\n",
    "\n",
    "Laden Sie das File von hier herunter: http://opisthokonta.net/wp-content/uploads/2015/03/stadiums_20150302.csv\n",
    "\n",
    "Speichern Sie das Datenfile an einem geeigneten Ort.\n",
    "\n",
    "(zum Beispiel in einem Unterordner `dataprojects/stadiums`)"
   ]
  },
  {
   "cell_type": "markdown",
   "metadata": {},
   "source": [
    "## Vorbereitung"
   ]
  },
  {
   "cell_type": "markdown",
   "metadata": {},
   "source": [
    "Importieren Sie die benötigten Libraries und stellen Sie die richtigen Settings für Matplotlib ein."
   ]
  },
  {
   "cell_type": "code",
   "execution_count": 14,
   "metadata": {},
   "outputs": [],
   "source": [
    "import requests\n",
    "import pandas as pd\n",
    "%matplotlib inline"
   ]
  },
  {
   "cell_type": "code",
   "execution_count": 27,
   "metadata": {},
   "outputs": [
    {
     "data": {
      "text/html": [
       "<div>\n",
       "<style scoped>\n",
       "    .dataframe tbody tr th:only-of-type {\n",
       "        vertical-align: middle;\n",
       "    }\n",
       "\n",
       "    .dataframe tbody tr th {\n",
       "        vertical-align: top;\n",
       "    }\n",
       "\n",
       "    .dataframe thead th {\n",
       "        text-align: right;\n",
       "    }\n",
       "</style>\n",
       "<table border=\"1\" class=\"dataframe\">\n",
       "  <thead>\n",
       "    <tr style=\"text-align: right;\">\n",
       "      <th></th>\n",
       "      <th>Team</th>\n",
       "      <th>FDCOUK</th>\n",
       "      <th>City</th>\n",
       "      <th>Stadium</th>\n",
       "      <th>Capacity</th>\n",
       "      <th>Latitude</th>\n",
       "      <th>Longitude</th>\n",
       "      <th>Country</th>\n",
       "    </tr>\n",
       "  </thead>\n",
       "  <tbody>\n",
       "    <tr>\n",
       "      <td>0</td>\n",
       "      <td>Arsenal</td>\n",
       "      <td>Arsenal</td>\n",
       "      <td>London</td>\n",
       "      <td>Emirates Stadium</td>\n",
       "      <td>60361</td>\n",
       "      <td>51.555000</td>\n",
       "      <td>-0.108611</td>\n",
       "      <td>England</td>\n",
       "    </tr>\n",
       "    <tr>\n",
       "      <td>1</td>\n",
       "      <td>Aston Villa</td>\n",
       "      <td>Aston Villa</td>\n",
       "      <td>Birmingham</td>\n",
       "      <td>Villa Park</td>\n",
       "      <td>42785</td>\n",
       "      <td>52.509167</td>\n",
       "      <td>-1.884722</td>\n",
       "      <td>England</td>\n",
       "    </tr>\n",
       "    <tr>\n",
       "      <td>2</td>\n",
       "      <td>Blackburn Rovers</td>\n",
       "      <td>Blackburn</td>\n",
       "      <td>Blackburn</td>\n",
       "      <td>Ewood Park</td>\n",
       "      <td>31154</td>\n",
       "      <td>53.728611</td>\n",
       "      <td>-2.489167</td>\n",
       "      <td>England</td>\n",
       "    </tr>\n",
       "    <tr>\n",
       "      <td>3</td>\n",
       "      <td>Bolton Wanderers</td>\n",
       "      <td>Bolton</td>\n",
       "      <td>Bolton</td>\n",
       "      <td>Reebok Stadium</td>\n",
       "      <td>28100</td>\n",
       "      <td>53.580556</td>\n",
       "      <td>-2.535556</td>\n",
       "      <td>England</td>\n",
       "    </tr>\n",
       "    <tr>\n",
       "      <td>4</td>\n",
       "      <td>Chelsea</td>\n",
       "      <td>Chelsea</td>\n",
       "      <td>London</td>\n",
       "      <td>Stamford Bridge</td>\n",
       "      <td>42449</td>\n",
       "      <td>51.481667</td>\n",
       "      <td>-0.191111</td>\n",
       "      <td>England</td>\n",
       "    </tr>\n",
       "    <tr>\n",
       "      <td>...</td>\n",
       "      <td>...</td>\n",
       "      <td>...</td>\n",
       "      <td>...</td>\n",
       "      <td>...</td>\n",
       "      <td>...</td>\n",
       "      <td>...</td>\n",
       "      <td>...</td>\n",
       "      <td>...</td>\n",
       "    </tr>\n",
       "    <tr>\n",
       "      <td>159</td>\n",
       "      <td>Colchester United</td>\n",
       "      <td>Colchester</td>\n",
       "      <td>Colchester</td>\n",
       "      <td>Colchester Community Stadium</td>\n",
       "      <td>10105</td>\n",
       "      <td>51.923394</td>\n",
       "      <td>0.897703</td>\n",
       "      <td>England</td>\n",
       "    </tr>\n",
       "    <tr>\n",
       "      <td>160</td>\n",
       "      <td>Scunthorpe United</td>\n",
       "      <td>Scunthorpe</td>\n",
       "      <td>Scunthorpe</td>\n",
       "      <td>Glanford Park</td>\n",
       "      <td>9088</td>\n",
       "      <td>53.586725</td>\n",
       "      <td>-0.695266</td>\n",
       "      <td>England</td>\n",
       "    </tr>\n",
       "    <tr>\n",
       "      <td>161</td>\n",
       "      <td>A.F.C. Bournemouth</td>\n",
       "      <td>Bournemouth</td>\n",
       "      <td>Bournemouth</td>\n",
       "      <td>Goldsands Stadium</td>\n",
       "      <td>12000</td>\n",
       "      <td>50.735277</td>\n",
       "      <td>-1.838330</td>\n",
       "      <td>England</td>\n",
       "    </tr>\n",
       "    <tr>\n",
       "      <td>162</td>\n",
       "      <td>Yeovil Town</td>\n",
       "      <td>Yeovil</td>\n",
       "      <td>Yeovil</td>\n",
       "      <td>Huish Park</td>\n",
       "      <td>9565</td>\n",
       "      <td>50.950270</td>\n",
       "      <td>-2.674880</td>\n",
       "      <td>England</td>\n",
       "    </tr>\n",
       "    <tr>\n",
       "      <td>163</td>\n",
       "      <td>Brentford</td>\n",
       "      <td>Brentford</td>\n",
       "      <td>London</td>\n",
       "      <td>Griffin Park</td>\n",
       "      <td>12763</td>\n",
       "      <td>51.488183</td>\n",
       "      <td>-0.302639</td>\n",
       "      <td>England</td>\n",
       "    </tr>\n",
       "  </tbody>\n",
       "</table>\n",
       "<p>164 rows × 8 columns</p>\n",
       "</div>"
      ],
      "text/plain": [
       "                   Team       FDCOUK         City  \\\n",
       "0              Arsenal       Arsenal      London    \n",
       "1          Aston Villa   Aston Villa  Birmingham    \n",
       "2     Blackburn Rovers     Blackburn   Blackburn    \n",
       "3     Bolton Wanderers        Bolton      Bolton    \n",
       "4              Chelsea       Chelsea      London    \n",
       "..                  ...          ...          ...   \n",
       "159   Colchester United   Colchester   Colchester   \n",
       "160   Scunthorpe United   Scunthorpe   Scunthorpe   \n",
       "161  A.F.C. Bournemouth  Bournemouth  Bournemouth   \n",
       "162         Yeovil Town       Yeovil       Yeovil   \n",
       "163           Brentford    Brentford      London    \n",
       "\n",
       "                          Stadium  Capacity   Latitude  Longitude  Country  \n",
       "0               Emirates Stadium      60361  51.555000  -0.108611  England  \n",
       "1                     Villa Park      42785  52.509167  -1.884722  England  \n",
       "2                     Ewood Park      31154  53.728611  -2.489167  England  \n",
       "3                 Reebok Stadium      28100  53.580556  -2.535556  England  \n",
       "4                Stamford Bridge      42449  51.481667  -0.191111  England  \n",
       "..                            ...       ...        ...        ...      ...  \n",
       "159  Colchester Community Stadium     10105  51.923394   0.897703  England  \n",
       "160                 Glanford Park      9088  53.586725  -0.695266  England  \n",
       "161             Goldsands Stadium     12000  50.735277  -1.838330  England  \n",
       "162                    Huish Park      9565  50.950270  -2.674880  England  \n",
       "163                  Griffin Park     12763  51.488183  -0.302639  England  \n",
       "\n",
       "[164 rows x 8 columns]"
      ]
     },
     "execution_count": 27,
     "metadata": {},
     "output_type": "execute_result"
    }
   ],
   "source": [
    "df = pd.read_csv('dataprojects/stadiums_20150302.csv')\n",
    "    \n",
    "df"
   ]
  },
  {
   "cell_type": "markdown",
   "metadata": {},
   "source": [
    "## Daten laden"
   ]
  },
  {
   "cell_type": "markdown",
   "metadata": {},
   "source": [
    "Öffnen Sie das Datenfile in Pandas"
   ]
  },
  {
   "cell_type": "code",
   "execution_count": null,
   "metadata": {
    "collapsed": true
   },
   "outputs": [],
   "source": []
  },
  {
   "cell_type": "markdown",
   "metadata": {},
   "source": [
    "Untersuchen Sie die Struktur der Daten: Länge, Datenfelder, erste Zeilen"
   ]
  },
  {
   "cell_type": "code",
   "execution_count": 36,
   "metadata": {},
   "outputs": [
    {
     "data": {
      "text/plain": [
       "pandas.core.frame.DataFrame"
      ]
     },
     "execution_count": 36,
     "metadata": {},
     "output_type": "execute_result"
    }
   ],
   "source": [
    "type(df)"
   ]
  },
  {
   "cell_type": "code",
   "execution_count": 40,
   "metadata": {},
   "outputs": [
    {
     "data": {
      "text/plain": [
       "Team          object\n",
       "FDCOUK        object\n",
       "City          object\n",
       "Stadium       object\n",
       "Capacity       int64\n",
       "Latitude     float64\n",
       "Longitude    float64\n",
       "Country       object\n",
       "dtype: object"
      ]
     },
     "execution_count": 40,
     "metadata": {},
     "output_type": "execute_result"
    }
   ],
   "source": [
    "df.dtypes\n"
   ]
  },
  {
   "cell_type": "code",
   "execution_count": 21,
   "metadata": {},
   "outputs": [
    {
     "data": {
      "text/plain": [
       "164"
      ]
     },
     "execution_count": 21,
     "metadata": {},
     "output_type": "execute_result"
    }
   ],
   "source": [
    "len(df)"
   ]
  },
  {
   "cell_type": "code",
   "execution_count": 22,
   "metadata": {},
   "outputs": [
    {
     "data": {
      "text/html": [
       "<div>\n",
       "<style scoped>\n",
       "    .dataframe tbody tr th:only-of-type {\n",
       "        vertical-align: middle;\n",
       "    }\n",
       "\n",
       "    .dataframe tbody tr th {\n",
       "        vertical-align: top;\n",
       "    }\n",
       "\n",
       "    .dataframe thead th {\n",
       "        text-align: right;\n",
       "    }\n",
       "</style>\n",
       "<table border=\"1\" class=\"dataframe\">\n",
       "  <thead>\n",
       "    <tr style=\"text-align: right;\">\n",
       "      <th></th>\n",
       "      <th>Team</th>\n",
       "      <th>FDCOUK</th>\n",
       "      <th>City</th>\n",
       "      <th>Stadium</th>\n",
       "      <th>Capacity</th>\n",
       "      <th>Latitude</th>\n",
       "      <th>Longitude</th>\n",
       "      <th>Country</th>\n",
       "    </tr>\n",
       "  </thead>\n",
       "  <tbody>\n",
       "    <tr>\n",
       "      <td>0</td>\n",
       "      <td>Arsenal</td>\n",
       "      <td>Arsenal</td>\n",
       "      <td>London</td>\n",
       "      <td>Emirates Stadium</td>\n",
       "      <td>60361</td>\n",
       "      <td>51.555000</td>\n",
       "      <td>-0.108611</td>\n",
       "      <td>England</td>\n",
       "    </tr>\n",
       "    <tr>\n",
       "      <td>1</td>\n",
       "      <td>Aston Villa</td>\n",
       "      <td>Aston Villa</td>\n",
       "      <td>Birmingham</td>\n",
       "      <td>Villa Park</td>\n",
       "      <td>42785</td>\n",
       "      <td>52.509167</td>\n",
       "      <td>-1.884722</td>\n",
       "      <td>England</td>\n",
       "    </tr>\n",
       "    <tr>\n",
       "      <td>2</td>\n",
       "      <td>Blackburn Rovers</td>\n",
       "      <td>Blackburn</td>\n",
       "      <td>Blackburn</td>\n",
       "      <td>Ewood Park</td>\n",
       "      <td>31154</td>\n",
       "      <td>53.728611</td>\n",
       "      <td>-2.489167</td>\n",
       "      <td>England</td>\n",
       "    </tr>\n",
       "    <tr>\n",
       "      <td>3</td>\n",
       "      <td>Bolton Wanderers</td>\n",
       "      <td>Bolton</td>\n",
       "      <td>Bolton</td>\n",
       "      <td>Reebok Stadium</td>\n",
       "      <td>28100</td>\n",
       "      <td>53.580556</td>\n",
       "      <td>-2.535556</td>\n",
       "      <td>England</td>\n",
       "    </tr>\n",
       "    <tr>\n",
       "      <td>4</td>\n",
       "      <td>Chelsea</td>\n",
       "      <td>Chelsea</td>\n",
       "      <td>London</td>\n",
       "      <td>Stamford Bridge</td>\n",
       "      <td>42449</td>\n",
       "      <td>51.481667</td>\n",
       "      <td>-0.191111</td>\n",
       "      <td>England</td>\n",
       "    </tr>\n",
       "  </tbody>\n",
       "</table>\n",
       "</div>"
      ],
      "text/plain": [
       "                Team       FDCOUK         City            Stadium  Capacity  \\\n",
       "0           Arsenal       Arsenal      London   Emirates Stadium      60361   \n",
       "1       Aston Villa   Aston Villa  Birmingham         Villa Park      42785   \n",
       "2  Blackburn Rovers     Blackburn   Blackburn         Ewood Park      31154   \n",
       "3  Bolton Wanderers        Bolton      Bolton     Reebok Stadium      28100   \n",
       "4           Chelsea       Chelsea      London    Stamford Bridge      42449   \n",
       "\n",
       "    Latitude  Longitude  Country  \n",
       "0  51.555000  -0.108611  England  \n",
       "1  52.509167  -1.884722  England  \n",
       "2  53.728611  -2.489167  England  \n",
       "3  53.580556  -2.535556  England  \n",
       "4  51.481667  -0.191111  England  "
      ]
     },
     "execution_count": 22,
     "metadata": {},
     "output_type": "execute_result"
    }
   ],
   "source": [
    "df.head(5)"
   ]
  },
  {
   "cell_type": "markdown",
   "metadata": {},
   "source": [
    "Sind die Daten vollständig?"
   ]
  },
  {
   "cell_type": "code",
   "execution_count": null,
   "metadata": {
    "collapsed": true
   },
   "outputs": [],
   "source": []
  },
  {
   "cell_type": "markdown",
   "metadata": {},
   "source": [
    "## Einfache Auswertungen"
   ]
  },
  {
   "cell_type": "markdown",
   "metadata": {},
   "source": [
    "Welche Länder sind in der Datenbank vertreten?"
   ]
  },
  {
   "cell_type": "code",
   "execution_count": 29,
   "metadata": {},
   "outputs": [
    {
     "data": {
      "text/plain": [
       "array(['England', 'Scotland', 'Germany', 'Spain', 'France'], dtype=object)"
      ]
     },
     "execution_count": 29,
     "metadata": {},
     "output_type": "execute_result"
    }
   ],
   "source": [
    "df['Country'].unique()\n",
    "\n"
   ]
  },
  {
   "cell_type": "markdown",
   "metadata": {},
   "source": [
    "Wie viele Stadien sind pro Land in der Datenbank?"
   ]
  },
  {
   "cell_type": "code",
   "execution_count": 31,
   "metadata": {},
   "outputs": [
    {
     "data": {
      "text/plain": [
       "England     72\n",
       "France      26\n",
       "Spain       25\n",
       "Germany     23\n",
       "Scotland    18\n",
       "Name: Country, dtype: int64"
      ]
     },
     "execution_count": 31,
     "metadata": {},
     "output_type": "execute_result"
    }
   ],
   "source": [
    "df['Country'].value_counts()"
   ]
  },
  {
   "cell_type": "markdown",
   "metadata": {},
   "source": [
    "In welchen fünf Städten stehen am meisten Fussballstadien?"
   ]
  },
  {
   "cell_type": "code",
   "execution_count": 33,
   "metadata": {},
   "outputs": [
    {
     "data": {
      "text/plain": [
       "London       9\n",
       "Madrid       3\n",
       "Glasgow      3\n",
       "Seville      2\n",
       "Sheffield    2\n",
       "Name: City, dtype: int64"
      ]
     },
     "execution_count": 33,
     "metadata": {},
     "output_type": "execute_result"
    }
   ],
   "source": [
    "df['City'].value_counts().head(5)"
   ]
  },
  {
   "cell_type": "markdown",
   "metadata": {},
   "source": [
    "Wie viele Stadien stehen östlich von Greenwich (also dem Null-Meridian)?"
   ]
  },
  {
   "cell_type": "code",
   "execution_count": 34,
   "metadata": {},
   "outputs": [
    {
     "data": {
      "text/plain": [
       "52"
      ]
     },
     "execution_count": 34,
     "metadata": {},
     "output_type": "execute_result"
    }
   ],
   "source": [
    "len(df[df['Longitude'] > 0])"
   ]
  },
  {
   "cell_type": "markdown",
   "metadata": {},
   "source": [
    "## Ranglisten"
   ]
  },
  {
   "cell_type": "markdown",
   "metadata": {},
   "source": [
    "Welche zehn Clubs haben die grössten Stadien?"
   ]
  },
  {
   "cell_type": "code",
   "execution_count": 42,
   "metadata": {},
   "outputs": [
    {
     "data": {
      "text/html": [
       "<div>\n",
       "<style scoped>\n",
       "    .dataframe tbody tr th:only-of-type {\n",
       "        vertical-align: middle;\n",
       "    }\n",
       "\n",
       "    .dataframe tbody tr th {\n",
       "        vertical-align: top;\n",
       "    }\n",
       "\n",
       "    .dataframe thead th {\n",
       "        text-align: right;\n",
       "    }\n",
       "</style>\n",
       "<table border=\"1\" class=\"dataframe\">\n",
       "  <thead>\n",
       "    <tr style=\"text-align: right;\">\n",
       "      <th></th>\n",
       "      <th>Team</th>\n",
       "      <th>FDCOUK</th>\n",
       "      <th>City</th>\n",
       "      <th>Stadium</th>\n",
       "      <th>Capacity</th>\n",
       "      <th>Latitude</th>\n",
       "      <th>Longitude</th>\n",
       "      <th>Country</th>\n",
       "    </tr>\n",
       "  </thead>\n",
       "  <tbody>\n",
       "    <tr>\n",
       "      <td>88</td>\n",
       "      <td>Barcelona</td>\n",
       "      <td>Barcelona</td>\n",
       "      <td>Barcelona</td>\n",
       "      <td>Camp Nou</td>\n",
       "      <td>99354</td>\n",
       "      <td>41.380870</td>\n",
       "      <td>2.122802</td>\n",
       "      <td>Spain</td>\n",
       "    </tr>\n",
       "    <tr>\n",
       "      <td>99</td>\n",
       "      <td>Real Madrid</td>\n",
       "      <td>Real Madrid</td>\n",
       "      <td>Madrid</td>\n",
       "      <td>Santiago Bernabéu</td>\n",
       "      <td>85454</td>\n",
       "      <td>40.453060</td>\n",
       "      <td>-3.688350</td>\n",
       "      <td>Spain</td>\n",
       "    </tr>\n",
       "    <tr>\n",
       "      <td>65</td>\n",
       "      <td>Borussia Dortmund</td>\n",
       "      <td>Dortmund</td>\n",
       "      <td>Dortmund</td>\n",
       "      <td>Signal Iduna Park</td>\n",
       "      <td>80645</td>\n",
       "      <td>51.492569</td>\n",
       "      <td>7.451842</td>\n",
       "      <td>Germany</td>\n",
       "    </tr>\n",
       "    <tr>\n",
       "      <td>9</td>\n",
       "      <td>Manchester United</td>\n",
       "      <td>Man United</td>\n",
       "      <td>Stretford</td>\n",
       "      <td>Old Trafford</td>\n",
       "      <td>75811</td>\n",
       "      <td>53.463056</td>\n",
       "      <td>-2.291389</td>\n",
       "      <td>England</td>\n",
       "    </tr>\n",
       "    <tr>\n",
       "      <td>72</td>\n",
       "      <td>Hertha BSC</td>\n",
       "      <td>Hertha</td>\n",
       "      <td>Berlin</td>\n",
       "      <td>Olympiastadion</td>\n",
       "      <td>74244</td>\n",
       "      <td>52.514722</td>\n",
       "      <td>13.239444</td>\n",
       "      <td>Germany</td>\n",
       "    </tr>\n",
       "    <tr>\n",
       "      <td>64</td>\n",
       "      <td>Bayern Munich</td>\n",
       "      <td>Bayern Munich</td>\n",
       "      <td>Munich</td>\n",
       "      <td>Allianz Arena</td>\n",
       "      <td>71000</td>\n",
       "      <td>48.218775</td>\n",
       "      <td>11.624753</td>\n",
       "      <td>Germany</td>\n",
       "    </tr>\n",
       "    <tr>\n",
       "      <td>76</td>\n",
       "      <td>Schalke 04</td>\n",
       "      <td>Schalke 04</td>\n",
       "      <td>Gelsenkirchen</td>\n",
       "      <td>Veltins-Arena</td>\n",
       "      <td>61673</td>\n",
       "      <td>51.554503</td>\n",
       "      <td>7.067589</td>\n",
       "      <td>Germany</td>\n",
       "    </tr>\n",
       "    <tr>\n",
       "      <td>46</td>\n",
       "      <td>Celtic</td>\n",
       "      <td>Celtic</td>\n",
       "      <td>Glasgow</td>\n",
       "      <td>Celtic Park</td>\n",
       "      <td>60832</td>\n",
       "      <td>55.849711</td>\n",
       "      <td>-4.205589</td>\n",
       "      <td>Scotland</td>\n",
       "    </tr>\n",
       "    <tr>\n",
       "      <td>77</td>\n",
       "      <td>VfB Stuttgart</td>\n",
       "      <td>Stuttgart</td>\n",
       "      <td>Stuttgart</td>\n",
       "      <td>Mercedes-Benz Arena</td>\n",
       "      <td>60441</td>\n",
       "      <td>48.792269</td>\n",
       "      <td>9.232031</td>\n",
       "      <td>Germany</td>\n",
       "    </tr>\n",
       "    <tr>\n",
       "      <td>0</td>\n",
       "      <td>Arsenal</td>\n",
       "      <td>Arsenal</td>\n",
       "      <td>London</td>\n",
       "      <td>Emirates Stadium</td>\n",
       "      <td>60361</td>\n",
       "      <td>51.555000</td>\n",
       "      <td>-0.108611</td>\n",
       "      <td>England</td>\n",
       "    </tr>\n",
       "  </tbody>\n",
       "</table>\n",
       "</div>"
      ],
      "text/plain": [
       "                  Team         FDCOUK            City               Stadium  \\\n",
       "88          Barcelona       Barcelona      Barcelona              Camp Nou    \n",
       "99        Real Madrid     Real Madrid         Madrid     Santiago Bernabéu    \n",
       "65  Borussia Dortmund        Dortmund       Dortmund     Signal Iduna Park    \n",
       "9   Manchester United      Man United      Stretford          Old Trafford    \n",
       "72         Hertha BSC          Hertha         Berlin        Olympiastadion    \n",
       "64      Bayern Munich   Bayern Munich         Munich         Allianz Arena    \n",
       "76         Schalke 04      Schalke 04  Gelsenkirchen         Veltins-Arena    \n",
       "46             Celtic          Celtic         Glasgow          Celtic Park    \n",
       "77      VfB Stuttgart       Stuttgart      Stuttgart   Mercedes-Benz Arena    \n",
       "0             Arsenal         Arsenal         London      Emirates Stadium    \n",
       "\n",
       "    Capacity   Latitude  Longitude   Country  \n",
       "88     99354  41.380870   2.122802     Spain  \n",
       "99     85454  40.453060  -3.688350     Spain  \n",
       "65     80645  51.492569   7.451842   Germany  \n",
       "9      75811  53.463056  -2.291389   England  \n",
       "72     74244  52.514722  13.239444   Germany  \n",
       "64     71000  48.218775  11.624753   Germany  \n",
       "76     61673  51.554503   7.067589   Germany  \n",
       "46     60832  55.849711  -4.205589  Scotland  \n",
       "77     60441  48.792269   9.232031   Germany  \n",
       "0      60361  51.555000  -0.108611   England  "
      ]
     },
     "execution_count": 42,
     "metadata": {},
     "output_type": "execute_result"
    }
   ],
   "source": [
    "df.sort_values('Capacity', ascending = False).head(10)"
   ]
  },
  {
   "cell_type": "markdown",
   "metadata": {},
   "source": [
    "Erstellen Sie eine neue Spalte (\"Bezeichnung\"), die den Teamnamen und das Stadion enthält (z.B. \"Barcelona: Camp Nou\")\n",
    "\n",
    "Hint: Man kann Serien mit Text-Content genauso wie Serien mit Zahlen-Content addieren."
   ]
  },
  {
   "cell_type": "code",
   "execution_count": null,
   "metadata": {
    "collapsed": true
   },
   "outputs": [],
   "source": []
  },
  {
   "cell_type": "markdown",
   "metadata": {},
   "source": [
    "Speichern Sie die zehn Clubs mit den grössten Stadien in einem separaten Dataframe."
   ]
  },
  {
   "cell_type": "code",
   "execution_count": null,
   "metadata": {
    "collapsed": true
   },
   "outputs": [],
   "source": []
  },
  {
   "cell_type": "markdown",
   "metadata": {},
   "source": [
    "Erstellen Sie einen horizontalen Barchart mit der Stadion-Bezeichnung und der Kapazität."
   ]
  },
  {
   "cell_type": "code",
   "execution_count": null,
   "metadata": {
    "collapsed": true
   },
   "outputs": [],
   "source": []
  },
  {
   "cell_type": "markdown",
   "metadata": {},
   "source": [
    "## Gruppierte Auswertung"
   ]
  },
  {
   "cell_type": "markdown",
   "metadata": {},
   "source": [
    "Ordnen Sie die Länder nach der Durchschnittsgrösse der Stadien."
   ]
  },
  {
   "cell_type": "code",
   "execution_count": null,
   "metadata": {
    "collapsed": true
   },
   "outputs": [],
   "source": []
  },
  {
   "cell_type": "markdown",
   "metadata": {},
   "source": [
    "Welches sind die grössten drei Stadien östlich des Null-Meridians?"
   ]
  },
  {
   "cell_type": "code",
   "execution_count": null,
   "metadata": {
    "collapsed": true
   },
   "outputs": [],
   "source": []
  },
  {
   "cell_type": "markdown",
   "metadata": {},
   "source": [
    "Welches sind die grössten drei Stadien westlich des Null-Meridians?"
   ]
  },
  {
   "cell_type": "code",
   "execution_count": null,
   "metadata": {
    "collapsed": true
   },
   "outputs": [],
   "source": []
  },
  {
   "cell_type": "markdown",
   "metadata": {},
   "source": [
    "Erstellen Sie ein Dataframe, das ausschliesslich die Stadien in London und Madrid enthält."
   ]
  },
  {
   "cell_type": "code",
   "execution_count": null,
   "metadata": {
    "collapsed": true
   },
   "outputs": [],
   "source": []
  },
  {
   "cell_type": "markdown",
   "metadata": {},
   "source": [
    "Bei den Städten hat es zT Leerschläge drin. Führen Sie folgenden Code aus, um sie zu entfernen:"
   ]
  },
  {
   "cell_type": "code",
   "execution_count": null,
   "metadata": {
    "collapsed": true
   },
   "outputs": [],
   "source": []
  },
  {
   "cell_type": "markdown",
   "metadata": {},
   "source": [
    "Erstellen Sie ein Dataframe, das nur die Stadien aus Madrid und Glasgow enthält."
   ]
  },
  {
   "cell_type": "code",
   "execution_count": null,
   "metadata": {
    "collapsed": true
   },
   "outputs": [],
   "source": []
  },
  {
   "cell_type": "markdown",
   "metadata": {},
   "source": [
    "Vergleichen Sie die Stadien der beiden Städe anhand des Medianwerts."
   ]
  },
  {
   "cell_type": "code",
   "execution_count": null,
   "metadata": {
    "collapsed": true
   },
   "outputs": [],
   "source": []
  },
  {
   "cell_type": "markdown",
   "metadata": {},
   "source": [
    "## Ein Histogramm"
   ]
  },
  {
   "cell_type": "markdown",
   "metadata": {},
   "source": [
    "Wie ist die Verteilung der Stadiongrösse? Zeichnen Sie ein Histogramm mit genügend feiner Aufgliederung."
   ]
  },
  {
   "cell_type": "code",
   "execution_count": null,
   "metadata": {
    "collapsed": true
   },
   "outputs": [],
   "source": []
  },
  {
   "cell_type": "markdown",
   "metadata": {},
   "source": [
    "## Ein hübscher Scatterplot"
   ]
  },
  {
   "cell_type": "markdown",
   "metadata": {},
   "source": [
    "Man würde das normalerweise anders machen, aber da wir hier schon die Koordinaten haben..."
   ]
  },
  {
   "cell_type": "markdown",
   "metadata": {},
   "source": [
    "- Definieren Sie einen Parameter \"area\" für die Punktegrösse, der sich an der Kapazität orientiert."
   ]
  },
  {
   "cell_type": "code",
   "execution_count": null,
   "metadata": {
    "collapsed": true
   },
   "outputs": [],
   "source": []
  },
  {
   "cell_type": "markdown",
   "metadata": {},
   "source": [
    "- Und plotten sie die Stadien auf einer \"Landkarte\" (Longitude auf der x-Achse, Latitude auf der y-Achse)"
   ]
  },
  {
   "cell_type": "code",
   "execution_count": null,
   "metadata": {
    "collapsed": true
   },
   "outputs": [],
   "source": []
  },
  {
   "cell_type": "code",
   "execution_count": null,
   "metadata": {
    "collapsed": true
   },
   "outputs": [],
   "source": []
  },
  {
   "cell_type": "code",
   "execution_count": null,
   "metadata": {
    "collapsed": true
   },
   "outputs": [],
   "source": []
  },
  {
   "cell_type": "code",
   "execution_count": null,
   "metadata": {
    "collapsed": true
   },
   "outputs": [],
   "source": []
  },
  {
   "cell_type": "code",
   "execution_count": null,
   "metadata": {
    "collapsed": true
   },
   "outputs": [],
   "source": []
  },
  {
   "cell_type": "code",
   "execution_count": null,
   "metadata": {
    "collapsed": true
   },
   "outputs": [],
   "source": []
  }
 ],
 "metadata": {
  "kernelspec": {
   "display_name": "Python 3",
   "language": "python",
   "name": "python3"
  },
  "language_info": {
   "codemirror_mode": {
    "name": "ipython",
    "version": 3
   },
   "file_extension": ".py",
   "mimetype": "text/x-python",
   "name": "python",
   "nbconvert_exporter": "python",
   "pygments_lexer": "ipython3",
   "version": "3.7.4"
  }
 },
 "nbformat": 4,
 "nbformat_minor": 2
}
