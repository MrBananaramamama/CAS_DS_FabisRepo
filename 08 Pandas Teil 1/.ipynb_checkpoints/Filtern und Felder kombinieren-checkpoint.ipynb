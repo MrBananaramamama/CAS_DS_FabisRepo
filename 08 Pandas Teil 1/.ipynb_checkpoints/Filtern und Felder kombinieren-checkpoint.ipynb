{
 "cells": [
  {
   "cell_type": "markdown",
   "metadata": {},
   "source": [
    "# Filtern und Felder kombinieren"
   ]
  },
  {
   "cell_type": "markdown",
   "metadata": {},
   "source": [
    "**Inhalt:** Die Nadel im Heuhaufen finden\n",
    "\n",
    "**Nötige Skills:** Erste Schritte mit Pandas\n",
    "\n",
    "**Lernziele:**\n",
    "- Einträge im Datenset finden, basierend auf Kriterien\n",
    "- Nan kennenlernen\n",
    "- Neue Datenfelder generieren\n",
    "- Plotting Level 1"
   ]
  },
  {
   "cell_type": "markdown",
   "metadata": {},
   "source": [
    "# Das Beispiel"
   ]
  },
  {
   "cell_type": "markdown",
   "metadata": {},
   "source": [
    "Die besten NBA-Basketball-Spieler aller Zeiten.\n",
    "\n",
    "Quelle/Beschreibung: https://stats.nba.com/alltime-leaders/\n",
    "\n",
    "Die Daten haben wir manuell kopiert und an diesem Ort hier abgelegt: `dataprojects/nba-players`"
   ]
  },
  {
   "cell_type": "markdown",
   "metadata": {},
   "source": [
    "## Vorbereitung"
   ]
  },
  {
   "cell_type": "code",
   "execution_count": 1,
   "metadata": {},
   "outputs": [],
   "source": [
    "import pandas as pd"
   ]
  },
  {
   "cell_type": "code",
   "execution_count": 3,
   "metadata": {},
   "outputs": [],
   "source": [
    "%matplotlib inline"
   ]
  },
  {
   "cell_type": "markdown",
   "metadata": {},
   "source": [
    "## Datenfile laden"
   ]
  },
  {
   "cell_type": "markdown",
   "metadata": {},
   "source": [
    "Wo ist die Datei?"
   ]
  },
  {
   "cell_type": "code",
   "execution_count": 4,
   "metadata": {},
   "outputs": [],
   "source": [
    "path = 'dataprojects/nba-players/alltime.xlsx'"
   ]
  },
  {
   "cell_type": "markdown",
   "metadata": {},
   "source": [
    "Für den Import von Excel-Dateien nutzen wir die Funktion `read_excel()`"
   ]
  },
  {
   "cell_type": "code",
   "execution_count": 5,
   "metadata": {},
   "outputs": [],
   "source": [
    "df = pd.read_excel(path)"
   ]
  },
  {
   "cell_type": "markdown",
   "metadata": {},
   "source": [
    "## Überblick verschaffen"
   ]
  },
  {
   "cell_type": "markdown",
   "metadata": {},
   "source": [
    "Wie immer zu Beginn, checken wir die Struktur und Länge des Datensets ab"
   ]
  },
  {
   "cell_type": "markdown",
   "metadata": {},
   "source": [
    "- erste drei Reihen"
   ]
  },
  {
   "cell_type": "code",
   "execution_count": 6,
   "metadata": {},
   "outputs": [
    {
     "data": {
      "text/html": [
       "<div>\n",
       "<style scoped>\n",
       "    .dataframe tbody tr th:only-of-type {\n",
       "        vertical-align: middle;\n",
       "    }\n",
       "\n",
       "    .dataframe tbody tr th {\n",
       "        vertical-align: top;\n",
       "    }\n",
       "\n",
       "    .dataframe thead th {\n",
       "        text-align: right;\n",
       "    }\n",
       "</style>\n",
       "<table border=\"1\" class=\"dataframe\">\n",
       "  <thead>\n",
       "    <tr style=\"text-align: right;\">\n",
       "      <th></th>\n",
       "      <th>#</th>\n",
       "      <th>Player</th>\n",
       "      <th>GP</th>\n",
       "      <th>MIN</th>\n",
       "      <th>PTS</th>\n",
       "      <th>FGM</th>\n",
       "      <th>FGA</th>\n",
       "      <th>FG%</th>\n",
       "      <th>3PM</th>\n",
       "      <th>3PA</th>\n",
       "      <th>...</th>\n",
       "      <th>FT%</th>\n",
       "      <th>OREB</th>\n",
       "      <th>DREB</th>\n",
       "      <th>REB</th>\n",
       "      <th>AST</th>\n",
       "      <th>STL</th>\n",
       "      <th>BLK</th>\n",
       "      <th>TOV</th>\n",
       "      <th>eFG%</th>\n",
       "      <th>TS%</th>\n",
       "    </tr>\n",
       "  </thead>\n",
       "  <tbody>\n",
       "    <tr>\n",
       "      <td>0</td>\n",
       "      <td>1</td>\n",
       "      <td>Kareem Abdul-Jabbar</td>\n",
       "      <td>1560</td>\n",
       "      <td>57446</td>\n",
       "      <td>38387</td>\n",
       "      <td>15837</td>\n",
       "      <td>28307</td>\n",
       "      <td>55.9</td>\n",
       "      <td>1</td>\n",
       "      <td>18</td>\n",
       "      <td>...</td>\n",
       "      <td>72.1</td>\n",
       "      <td>2975</td>\n",
       "      <td>9394</td>\n",
       "      <td>17440</td>\n",
       "      <td>5660</td>\n",
       "      <td>1160</td>\n",
       "      <td>3189</td>\n",
       "      <td>2527</td>\n",
       "      <td>55.9</td>\n",
       "      <td>59.2</td>\n",
       "    </tr>\n",
       "    <tr>\n",
       "      <td>1</td>\n",
       "      <td>2</td>\n",
       "      <td>Karl Malone</td>\n",
       "      <td>1476</td>\n",
       "      <td>54852</td>\n",
       "      <td>36928</td>\n",
       "      <td>13528</td>\n",
       "      <td>26210</td>\n",
       "      <td>51.6</td>\n",
       "      <td>85</td>\n",
       "      <td>310</td>\n",
       "      <td>...</td>\n",
       "      <td>74.2</td>\n",
       "      <td>3562</td>\n",
       "      <td>11406</td>\n",
       "      <td>14968</td>\n",
       "      <td>5248</td>\n",
       "      <td>2085</td>\n",
       "      <td>1145</td>\n",
       "      <td>4524</td>\n",
       "      <td>51.8</td>\n",
       "      <td>57.7</td>\n",
       "    </tr>\n",
       "    <tr>\n",
       "      <td>2</td>\n",
       "      <td>3</td>\n",
       "      <td>Kobe Bryant</td>\n",
       "      <td>1346</td>\n",
       "      <td>48643</td>\n",
       "      <td>33643</td>\n",
       "      <td>11719</td>\n",
       "      <td>26200</td>\n",
       "      <td>44.7</td>\n",
       "      <td>1827</td>\n",
       "      <td>5546</td>\n",
       "      <td>...</td>\n",
       "      <td>83.7</td>\n",
       "      <td>1499</td>\n",
       "      <td>5548</td>\n",
       "      <td>7047</td>\n",
       "      <td>6306</td>\n",
       "      <td>1944</td>\n",
       "      <td>640</td>\n",
       "      <td>4010</td>\n",
       "      <td>48.2</td>\n",
       "      <td>55.0</td>\n",
       "    </tr>\n",
       "  </tbody>\n",
       "</table>\n",
       "<p>3 rows × 23 columns</p>\n",
       "</div>"
      ],
      "text/plain": [
       "   #               Player    GP    MIN    PTS    FGM    FGA   FG%   3PM   3PA  \\\n",
       "0  1  Kareem Abdul-Jabbar  1560  57446  38387  15837  28307  55.9     1    18   \n",
       "1  2          Karl Malone  1476  54852  36928  13528  26210  51.6    85   310   \n",
       "2  3          Kobe Bryant  1346  48643  33643  11719  26200  44.7  1827  5546   \n",
       "\n",
       "   ...   FT%  OREB   DREB    REB   AST   STL   BLK   TOV  eFG%   TS%  \n",
       "0  ...  72.1  2975   9394  17440  5660  1160  3189  2527  55.9  59.2  \n",
       "1  ...  74.2  3562  11406  14968  5248  2085  1145  4524  51.8  57.7  \n",
       "2  ...  83.7  1499   5548   7047  6306  1944   640  4010  48.2  55.0  \n",
       "\n",
       "[3 rows x 23 columns]"
      ]
     },
     "execution_count": 6,
     "metadata": {},
     "output_type": "execute_result"
    }
   ],
   "source": [
    "df.head(3)"
   ]
  },
  {
   "cell_type": "markdown",
   "metadata": {},
   "source": [
    "- Anzahl der Zeilen und Spalten"
   ]
  },
  {
   "cell_type": "code",
   "execution_count": 7,
   "metadata": {},
   "outputs": [
    {
     "data": {
      "text/plain": [
       "(1238, 23)"
      ]
     },
     "execution_count": 7,
     "metadata": {},
     "output_type": "execute_result"
    }
   ],
   "source": [
    "df.shape"
   ]
  },
  {
   "cell_type": "markdown",
   "metadata": {},
   "source": [
    "- Spaltennamen und Datentypen"
   ]
  },
  {
   "cell_type": "code",
   "execution_count": 8,
   "metadata": {},
   "outputs": [
    {
     "data": {
      "text/plain": [
       "#           int64\n",
       "Player     object\n",
       "GP          int64\n",
       "MIN         int64\n",
       "PTS         int64\n",
       "FGM         int64\n",
       "FGA         int64\n",
       "FG%       float64\n",
       "3PM        object\n",
       "3PA        object\n",
       "3P%        object\n",
       "FTM         int64\n",
       "FTA         int64\n",
       "FT%       float64\n",
       "OREB       object\n",
       "DREB       object\n",
       "REB         int64\n",
       "AST         int64\n",
       "STL        object\n",
       "BLK        object\n",
       "TOV        object\n",
       "eFG%      float64\n",
       "TS%       float64\n",
       "dtype: object"
      ]
     },
     "execution_count": 8,
     "metadata": {},
     "output_type": "execute_result"
    }
   ],
   "source": [
    "df.dtypes"
   ]
  },
  {
   "cell_type": "markdown",
   "metadata": {},
   "source": [
    "## Wer ist der beste Basketballspieler aller Zeiten?"
   ]
  },
  {
   "cell_type": "markdown",
   "metadata": {},
   "source": [
    "Diese Leitfrage wird uns durch dieses Notebook begleiten.\n",
    "\n",
    "Für die NBA ist offensichtlich klar: Es ist **Kareem Abdul-Jabbar**.\n",
    "\n",
    "Das zeigt sich, wenn wir nochmals die obersten drei Zeilen anzeigen:"
   ]
  },
  {
   "cell_type": "code",
   "execution_count": 9,
   "metadata": {},
   "outputs": [
    {
     "data": {
      "text/html": [
       "<div>\n",
       "<style scoped>\n",
       "    .dataframe tbody tr th:only-of-type {\n",
       "        vertical-align: middle;\n",
       "    }\n",
       "\n",
       "    .dataframe tbody tr th {\n",
       "        vertical-align: top;\n",
       "    }\n",
       "\n",
       "    .dataframe thead th {\n",
       "        text-align: right;\n",
       "    }\n",
       "</style>\n",
       "<table border=\"1\" class=\"dataframe\">\n",
       "  <thead>\n",
       "    <tr style=\"text-align: right;\">\n",
       "      <th></th>\n",
       "      <th>#</th>\n",
       "      <th>Player</th>\n",
       "      <th>GP</th>\n",
       "      <th>MIN</th>\n",
       "      <th>PTS</th>\n",
       "      <th>FGM</th>\n",
       "      <th>FGA</th>\n",
       "      <th>FG%</th>\n",
       "      <th>3PM</th>\n",
       "      <th>3PA</th>\n",
       "      <th>...</th>\n",
       "      <th>FT%</th>\n",
       "      <th>OREB</th>\n",
       "      <th>DREB</th>\n",
       "      <th>REB</th>\n",
       "      <th>AST</th>\n",
       "      <th>STL</th>\n",
       "      <th>BLK</th>\n",
       "      <th>TOV</th>\n",
       "      <th>eFG%</th>\n",
       "      <th>TS%</th>\n",
       "    </tr>\n",
       "  </thead>\n",
       "  <tbody>\n",
       "    <tr>\n",
       "      <td>0</td>\n",
       "      <td>1</td>\n",
       "      <td>Kareem Abdul-Jabbar</td>\n",
       "      <td>1560</td>\n",
       "      <td>57446</td>\n",
       "      <td>38387</td>\n",
       "      <td>15837</td>\n",
       "      <td>28307</td>\n",
       "      <td>55.9</td>\n",
       "      <td>1</td>\n",
       "      <td>18</td>\n",
       "      <td>...</td>\n",
       "      <td>72.1</td>\n",
       "      <td>2975</td>\n",
       "      <td>9394</td>\n",
       "      <td>17440</td>\n",
       "      <td>5660</td>\n",
       "      <td>1160</td>\n",
       "      <td>3189</td>\n",
       "      <td>2527</td>\n",
       "      <td>55.9</td>\n",
       "      <td>59.2</td>\n",
       "    </tr>\n",
       "    <tr>\n",
       "      <td>1</td>\n",
       "      <td>2</td>\n",
       "      <td>Karl Malone</td>\n",
       "      <td>1476</td>\n",
       "      <td>54852</td>\n",
       "      <td>36928</td>\n",
       "      <td>13528</td>\n",
       "      <td>26210</td>\n",
       "      <td>51.6</td>\n",
       "      <td>85</td>\n",
       "      <td>310</td>\n",
       "      <td>...</td>\n",
       "      <td>74.2</td>\n",
       "      <td>3562</td>\n",
       "      <td>11406</td>\n",
       "      <td>14968</td>\n",
       "      <td>5248</td>\n",
       "      <td>2085</td>\n",
       "      <td>1145</td>\n",
       "      <td>4524</td>\n",
       "      <td>51.8</td>\n",
       "      <td>57.7</td>\n",
       "    </tr>\n",
       "    <tr>\n",
       "      <td>2</td>\n",
       "      <td>3</td>\n",
       "      <td>Kobe Bryant</td>\n",
       "      <td>1346</td>\n",
       "      <td>48643</td>\n",
       "      <td>33643</td>\n",
       "      <td>11719</td>\n",
       "      <td>26200</td>\n",
       "      <td>44.7</td>\n",
       "      <td>1827</td>\n",
       "      <td>5546</td>\n",
       "      <td>...</td>\n",
       "      <td>83.7</td>\n",
       "      <td>1499</td>\n",
       "      <td>5548</td>\n",
       "      <td>7047</td>\n",
       "      <td>6306</td>\n",
       "      <td>1944</td>\n",
       "      <td>640</td>\n",
       "      <td>4010</td>\n",
       "      <td>48.2</td>\n",
       "      <td>55.0</td>\n",
       "    </tr>\n",
       "  </tbody>\n",
       "</table>\n",
       "<p>3 rows × 23 columns</p>\n",
       "</div>"
      ],
      "text/plain": [
       "   #               Player    GP    MIN    PTS    FGM    FGA   FG%   3PM   3PA  \\\n",
       "0  1  Kareem Abdul-Jabbar  1560  57446  38387  15837  28307  55.9     1    18   \n",
       "1  2          Karl Malone  1476  54852  36928  13528  26210  51.6    85   310   \n",
       "2  3          Kobe Bryant  1346  48643  33643  11719  26200  44.7  1827  5546   \n",
       "\n",
       "   ...   FT%  OREB   DREB    REB   AST   STL   BLK   TOV  eFG%   TS%  \n",
       "0  ...  72.1  2975   9394  17440  5660  1160  3189  2527  55.9  59.2  \n",
       "1  ...  74.2  3562  11406  14968  5248  2085  1145  4524  51.8  57.7  \n",
       "2  ...  83.7  1499   5548   7047  6306  1944   640  4010  48.2  55.0  \n",
       "\n",
       "[3 rows x 23 columns]"
      ]
     },
     "execution_count": 9,
     "metadata": {},
     "output_type": "execute_result"
    }
   ],
   "source": [
    "df.head(3)"
   ]
  },
  {
   "cell_type": "markdown",
   "metadata": {},
   "source": [
    "Doch: basierend auf welcher Metrik kommt die NBA zu diesem Schluss?\n",
    "    \n",
    "Gibt es auch noch andere Varianten, diese Rangliste zu erstellen?\n",
    "\n",
    "Und vor allem: Wo zur Hölle ist **Michael Jordan**??"
   ]
  },
  {
   "cell_type": "markdown",
   "metadata": {},
   "source": [
    "## Einträge filtern"
   ]
  },
  {
   "cell_type": "markdown",
   "metadata": {},
   "source": [
    "### Die erste Suche"
   ]
  },
  {
   "cell_type": "markdown",
   "metadata": {},
   "source": [
    "Die Syntax, mit dem man in Pandas einzelne Einträge aus dem Datenset herausfiltert, funktioniert, wie nicht anders zu erwarten, mit eckigen Klammern."
   ]
  },
  {
   "cell_type": "code",
   "execution_count": 10,
   "metadata": {},
   "outputs": [
    {
     "data": {
      "text/html": [
       "<div>\n",
       "<style scoped>\n",
       "    .dataframe tbody tr th:only-of-type {\n",
       "        vertical-align: middle;\n",
       "    }\n",
       "\n",
       "    .dataframe tbody tr th {\n",
       "        vertical-align: top;\n",
       "    }\n",
       "\n",
       "    .dataframe thead th {\n",
       "        text-align: right;\n",
       "    }\n",
       "</style>\n",
       "<table border=\"1\" class=\"dataframe\">\n",
       "  <thead>\n",
       "    <tr style=\"text-align: right;\">\n",
       "      <th></th>\n",
       "      <th>#</th>\n",
       "      <th>Player</th>\n",
       "      <th>GP</th>\n",
       "      <th>MIN</th>\n",
       "      <th>PTS</th>\n",
       "      <th>FGM</th>\n",
       "      <th>FGA</th>\n",
       "      <th>FG%</th>\n",
       "      <th>3PM</th>\n",
       "      <th>3PA</th>\n",
       "      <th>...</th>\n",
       "      <th>FT%</th>\n",
       "      <th>OREB</th>\n",
       "      <th>DREB</th>\n",
       "      <th>REB</th>\n",
       "      <th>AST</th>\n",
       "      <th>STL</th>\n",
       "      <th>BLK</th>\n",
       "      <th>TOV</th>\n",
       "      <th>eFG%</th>\n",
       "      <th>TS%</th>\n",
       "    </tr>\n",
       "  </thead>\n",
       "  <tbody>\n",
       "    <tr>\n",
       "      <td>3</td>\n",
       "      <td>4</td>\n",
       "      <td>Michael Jordan</td>\n",
       "      <td>1072</td>\n",
       "      <td>41010</td>\n",
       "      <td>32292</td>\n",
       "      <td>12192</td>\n",
       "      <td>24537</td>\n",
       "      <td>49.7</td>\n",
       "      <td>581</td>\n",
       "      <td>1778</td>\n",
       "      <td>...</td>\n",
       "      <td>83.5</td>\n",
       "      <td>1668</td>\n",
       "      <td>5004</td>\n",
       "      <td>6672</td>\n",
       "      <td>5633</td>\n",
       "      <td>2514</td>\n",
       "      <td>893</td>\n",
       "      <td>2924</td>\n",
       "      <td>50.9</td>\n",
       "      <td>56.9</td>\n",
       "    </tr>\n",
       "  </tbody>\n",
       "</table>\n",
       "<p>1 rows × 23 columns</p>\n",
       "</div>"
      ],
      "text/plain": [
       "   #          Player    GP    MIN    PTS    FGM    FGA   FG%  3PM   3PA  ...  \\\n",
       "3  4  Michael Jordan  1072  41010  32292  12192  24537  49.7  581  1778  ...   \n",
       "\n",
       "    FT%  OREB  DREB   REB   AST   STL  BLK   TOV  eFG%   TS%  \n",
       "3  83.5  1668  5004  6672  5633  2514  893  2924  50.9  56.9  \n",
       "\n",
       "[1 rows x 23 columns]"
      ]
     },
     "execution_count": 10,
     "metadata": {},
     "output_type": "execute_result"
    }
   ],
   "source": [
    "df[df['Player'] == 'Michael Jordan']"
   ]
  },
  {
   "cell_type": "markdown",
   "metadata": {},
   "source": [
    "Michael Jordan steht also auf Rang vier der ewigen Bestenliste der NBA (der Rang ist in der ersten Spalte mit dem Titel \"`#`\" angegeben)"
   ]
  },
  {
   "cell_type": "markdown",
   "metadata": {},
   "source": [
    "Schauen wir uns diesen Code etwas genauer an. Zuerst den inneren Teil:"
   ]
  },
  {
   "cell_type": "code",
   "execution_count": 11,
   "metadata": {},
   "outputs": [
    {
     "data": {
      "text/plain": [
       "0       False\n",
       "1       False\n",
       "2       False\n",
       "3        True\n",
       "4       False\n",
       "        ...  \n",
       "1233    False\n",
       "1234    False\n",
       "1235    False\n",
       "1236    False\n",
       "1237    False\n",
       "Name: Player, Length: 1238, dtype: bool"
      ]
     },
     "execution_count": 11,
     "metadata": {},
     "output_type": "execute_result"
    }
   ],
   "source": [
    "df['Player'] == 'Michael Jordan'"
   ]
  },
  {
   "cell_type": "markdown",
   "metadata": {},
   "source": [
    "Was ist das für ein Datentyp?"
   ]
  },
  {
   "cell_type": "code",
   "execution_count": 14,
   "metadata": {},
   "outputs": [
    {
     "data": {
      "text/plain": [
       "pandas.core.series.Series"
      ]
     },
     "execution_count": 14,
     "metadata": {},
     "output_type": "execute_result"
    }
   ],
   "source": [
    "type(df['Player'] == 'Michael Jordan')"
   ]
  },
  {
   "cell_type": "markdown",
   "metadata": {},
   "source": [
    "Speichern wir nun diese Serie in einer separaten Variable ab ..."
   ]
  },
  {
   "cell_type": "code",
   "execution_count": 15,
   "metadata": {},
   "outputs": [],
   "source": [
    "jordan = df['Player'] == 'Michael Jordan'"
   ]
  },
  {
   "cell_type": "markdown",
   "metadata": {},
   "source": [
    "... und setzen wir diese Variable nochmals in den äusseren Ausdruck ein:"
   ]
  },
  {
   "cell_type": "code",
   "execution_count": 16,
   "metadata": {},
   "outputs": [
    {
     "data": {
      "text/html": [
       "<div>\n",
       "<style scoped>\n",
       "    .dataframe tbody tr th:only-of-type {\n",
       "        vertical-align: middle;\n",
       "    }\n",
       "\n",
       "    .dataframe tbody tr th {\n",
       "        vertical-align: top;\n",
       "    }\n",
       "\n",
       "    .dataframe thead th {\n",
       "        text-align: right;\n",
       "    }\n",
       "</style>\n",
       "<table border=\"1\" class=\"dataframe\">\n",
       "  <thead>\n",
       "    <tr style=\"text-align: right;\">\n",
       "      <th></th>\n",
       "      <th>#</th>\n",
       "      <th>Player</th>\n",
       "      <th>GP</th>\n",
       "      <th>MIN</th>\n",
       "      <th>PTS</th>\n",
       "      <th>FGM</th>\n",
       "      <th>FGA</th>\n",
       "      <th>FG%</th>\n",
       "      <th>3PM</th>\n",
       "      <th>3PA</th>\n",
       "      <th>...</th>\n",
       "      <th>FT%</th>\n",
       "      <th>OREB</th>\n",
       "      <th>DREB</th>\n",
       "      <th>REB</th>\n",
       "      <th>AST</th>\n",
       "      <th>STL</th>\n",
       "      <th>BLK</th>\n",
       "      <th>TOV</th>\n",
       "      <th>eFG%</th>\n",
       "      <th>TS%</th>\n",
       "    </tr>\n",
       "  </thead>\n",
       "  <tbody>\n",
       "    <tr>\n",
       "      <td>3</td>\n",
       "      <td>4</td>\n",
       "      <td>Michael Jordan</td>\n",
       "      <td>1072</td>\n",
       "      <td>41010</td>\n",
       "      <td>32292</td>\n",
       "      <td>12192</td>\n",
       "      <td>24537</td>\n",
       "      <td>49.7</td>\n",
       "      <td>581</td>\n",
       "      <td>1778</td>\n",
       "      <td>...</td>\n",
       "      <td>83.5</td>\n",
       "      <td>1668</td>\n",
       "      <td>5004</td>\n",
       "      <td>6672</td>\n",
       "      <td>5633</td>\n",
       "      <td>2514</td>\n",
       "      <td>893</td>\n",
       "      <td>2924</td>\n",
       "      <td>50.9</td>\n",
       "      <td>56.9</td>\n",
       "    </tr>\n",
       "  </tbody>\n",
       "</table>\n",
       "<p>1 rows × 23 columns</p>\n",
       "</div>"
      ],
      "text/plain": [
       "   #          Player    GP    MIN    PTS    FGM    FGA   FG%  3PM   3PA  ...  \\\n",
       "3  4  Michael Jordan  1072  41010  32292  12192  24537  49.7  581  1778  ...   \n",
       "\n",
       "    FT%  OREB  DREB   REB   AST   STL  BLK   TOV  eFG%   TS%  \n",
       "3  83.5  1668  5004  6672  5633  2514  893  2924  50.9  56.9  \n",
       "\n",
       "[1 rows x 23 columns]"
      ]
     },
     "execution_count": 16,
     "metadata": {},
     "output_type": "execute_result"
    }
   ],
   "source": [
    "df[jordan]"
   ]
  },
  {
   "cell_type": "markdown",
   "metadata": {},
   "source": [
    "Fassen wir zusammen:\n",
    "- Wir picken uns zuerst eine Serie heraus: `df['Player']`\n",
    "- Dann testen wir jedes Element der Serie mit einem Vergleichsoperator `df['Player'] == 'Michael Jordan'`\n",
    "- Es entsteht dabei eine neue Serie mit True/False-Einträgen (boolean)\n",
    "- Nun \"filtern\" wir das dataframe mit dieser True/False-Serie: `df[..`(False-False-True-False)`...]`"
   ]
  },
  {
   "cell_type": "markdown",
   "metadata": {},
   "source": [
    "### Filtern mit Vergleichsoperatoren"
   ]
  },
  {
   "cell_type": "markdown",
   "metadata": {},
   "source": [
    "Es gibt diverse Vergleichsoperatoren:\n",
    "- `==` gleich\n",
    "- `<` kleiner als\n",
    "- `<=` kleiner gleich\n",
    "- `>` grösser als\n",
    "- `>=` grösser gleich\n",
    "- `!=` nicht gleich"
   ]
  },
  {
   "cell_type": "markdown",
   "metadata": {},
   "source": [
    "**Beispiel:** Alle Spieler, die mehr als 1500 Spiele absolviert haben"
   ]
  },
  {
   "cell_type": "code",
   "execution_count": 21,
   "metadata": {},
   "outputs": [
    {
     "data": {
      "text/html": [
       "<div>\n",
       "<style scoped>\n",
       "    .dataframe tbody tr th:only-of-type {\n",
       "        vertical-align: middle;\n",
       "    }\n",
       "\n",
       "    .dataframe tbody tr th {\n",
       "        vertical-align: top;\n",
       "    }\n",
       "\n",
       "    .dataframe thead th {\n",
       "        text-align: right;\n",
       "    }\n",
       "</style>\n",
       "<table border=\"1\" class=\"dataframe\">\n",
       "  <thead>\n",
       "    <tr style=\"text-align: right;\">\n",
       "      <th></th>\n",
       "      <th>#</th>\n",
       "      <th>Player</th>\n",
       "      <th>GP</th>\n",
       "      <th>MIN</th>\n",
       "      <th>PTS</th>\n",
       "      <th>FGM</th>\n",
       "      <th>FGA</th>\n",
       "      <th>FG%</th>\n",
       "      <th>3PM</th>\n",
       "      <th>3PA</th>\n",
       "      <th>...</th>\n",
       "      <th>FT%</th>\n",
       "      <th>OREB</th>\n",
       "      <th>DREB</th>\n",
       "      <th>REB</th>\n",
       "      <th>AST</th>\n",
       "      <th>STL</th>\n",
       "      <th>BLK</th>\n",
       "      <th>TOV</th>\n",
       "      <th>eFG%</th>\n",
       "      <th>TS%</th>\n",
       "    </tr>\n",
       "  </thead>\n",
       "  <tbody>\n",
       "    <tr>\n",
       "      <td>0</td>\n",
       "      <td>1</td>\n",
       "      <td>Kareem Abdul-Jabbar</td>\n",
       "      <td>1560</td>\n",
       "      <td>57446</td>\n",
       "      <td>38387</td>\n",
       "      <td>15837</td>\n",
       "      <td>28307</td>\n",
       "      <td>55.9</td>\n",
       "      <td>1</td>\n",
       "      <td>18</td>\n",
       "      <td>...</td>\n",
       "      <td>72.1</td>\n",
       "      <td>2975</td>\n",
       "      <td>9394</td>\n",
       "      <td>17440</td>\n",
       "      <td>5660</td>\n",
       "      <td>1160</td>\n",
       "      <td>3189</td>\n",
       "      <td>2527</td>\n",
       "      <td>55.9</td>\n",
       "      <td>59.2</td>\n",
       "    </tr>\n",
       "    <tr>\n",
       "      <td>1</td>\n",
       "      <td>2</td>\n",
       "      <td>Karl Malone</td>\n",
       "      <td>1476</td>\n",
       "      <td>54852</td>\n",
       "      <td>36928</td>\n",
       "      <td>13528</td>\n",
       "      <td>26210</td>\n",
       "      <td>51.6</td>\n",
       "      <td>85</td>\n",
       "      <td>310</td>\n",
       "      <td>...</td>\n",
       "      <td>74.2</td>\n",
       "      <td>3562</td>\n",
       "      <td>11406</td>\n",
       "      <td>14968</td>\n",
       "      <td>5248</td>\n",
       "      <td>2085</td>\n",
       "      <td>1145</td>\n",
       "      <td>4524</td>\n",
       "      <td>51.8</td>\n",
       "      <td>57.7</td>\n",
       "    </tr>\n",
       "    <tr>\n",
       "      <td>5</td>\n",
       "      <td>6</td>\n",
       "      <td>Dirk Nowitzki</td>\n",
       "      <td>1471</td>\n",
       "      <td>50572</td>\n",
       "      <td>31187</td>\n",
       "      <td>11034</td>\n",
       "      <td>23358</td>\n",
       "      <td>47.2</td>\n",
       "      <td>1918</td>\n",
       "      <td>5005</td>\n",
       "      <td>...</td>\n",
       "      <td>87.9</td>\n",
       "      <td>1463</td>\n",
       "      <td>9868</td>\n",
       "      <td>11331</td>\n",
       "      <td>3616</td>\n",
       "      <td>1201</td>\n",
       "      <td>1263</td>\n",
       "      <td>2476</td>\n",
       "      <td>51.3</td>\n",
       "      <td>57.8</td>\n",
       "    </tr>\n",
       "    <tr>\n",
       "      <td>16</td>\n",
       "      <td>17</td>\n",
       "      <td>Kevin Garnett</td>\n",
       "      <td>1462</td>\n",
       "      <td>50412</td>\n",
       "      <td>26071</td>\n",
       "      <td>10505</td>\n",
       "      <td>21142</td>\n",
       "      <td>49.7</td>\n",
       "      <td>174</td>\n",
       "      <td>632</td>\n",
       "      <td>...</td>\n",
       "      <td>78.9</td>\n",
       "      <td>3209</td>\n",
       "      <td>11453</td>\n",
       "      <td>14662</td>\n",
       "      <td>5445</td>\n",
       "      <td>1859</td>\n",
       "      <td>2037</td>\n",
       "      <td>3179</td>\n",
       "      <td>50.1</td>\n",
       "      <td>54.6</td>\n",
       "    </tr>\n",
       "    <tr>\n",
       "      <td>21</td>\n",
       "      <td>22</td>\n",
       "      <td>Vince Carter</td>\n",
       "      <td>1405</td>\n",
       "      <td>44164</td>\n",
       "      <td>24868</td>\n",
       "      <td>8990</td>\n",
       "      <td>20567</td>\n",
       "      <td>43.7</td>\n",
       "      <td>2106</td>\n",
       "      <td>5650</td>\n",
       "      <td>...</td>\n",
       "      <td>79.9</td>\n",
       "      <td>1609</td>\n",
       "      <td>4679</td>\n",
       "      <td>6288</td>\n",
       "      <td>4579</td>\n",
       "      <td>1463</td>\n",
       "      <td>836</td>\n",
       "      <td>2509</td>\n",
       "      <td>48.8</td>\n",
       "      <td>53.6</td>\n",
       "    </tr>\n",
       "    <tr>\n",
       "      <td>26</td>\n",
       "      <td>27</td>\n",
       "      <td>Robert Parish</td>\n",
       "      <td>1611</td>\n",
       "      <td>45704</td>\n",
       "      <td>23334</td>\n",
       "      <td>9614</td>\n",
       "      <td>17914</td>\n",
       "      <td>53.7</td>\n",
       "      <td>0</td>\n",
       "      <td>6</td>\n",
       "      <td>...</td>\n",
       "      <td>72.1</td>\n",
       "      <td>4598</td>\n",
       "      <td>10117</td>\n",
       "      <td>14715</td>\n",
       "      <td>2180</td>\n",
       "      <td>1219</td>\n",
       "      <td>2361</td>\n",
       "      <td>3183</td>\n",
       "      <td>53.7</td>\n",
       "      <td>57.1</td>\n",
       "    </tr>\n",
       "    <tr>\n",
       "      <td>44</td>\n",
       "      <td>45</td>\n",
       "      <td>John Stockton</td>\n",
       "      <td>1504</td>\n",
       "      <td>47766</td>\n",
       "      <td>19711</td>\n",
       "      <td>7039</td>\n",
       "      <td>13658</td>\n",
       "      <td>51.5</td>\n",
       "      <td>845</td>\n",
       "      <td>2202</td>\n",
       "      <td>...</td>\n",
       "      <td>82.6</td>\n",
       "      <td>966</td>\n",
       "      <td>3085</td>\n",
       "      <td>4051</td>\n",
       "      <td>15806</td>\n",
       "      <td>3265</td>\n",
       "      <td>315</td>\n",
       "      <td>4244</td>\n",
       "      <td>54.6</td>\n",
       "      <td>60.8</td>\n",
       "    </tr>\n",
       "    <tr>\n",
       "      <td>57</td>\n",
       "      <td>58</td>\n",
       "      <td>Jason Terry</td>\n",
       "      <td>1410</td>\n",
       "      <td>42034</td>\n",
       "      <td>18881</td>\n",
       "      <td>6914</td>\n",
       "      <td>15585</td>\n",
       "      <td>44.4</td>\n",
       "      <td>2282</td>\n",
       "      <td>6010</td>\n",
       "      <td>...</td>\n",
       "      <td>84.5</td>\n",
       "      <td>502</td>\n",
       "      <td>2772</td>\n",
       "      <td>3274</td>\n",
       "      <td>5415</td>\n",
       "      <td>1603</td>\n",
       "      <td>275</td>\n",
       "      <td>2415</td>\n",
       "      <td>51.7</td>\n",
       "      <td>55.4</td>\n",
       "    </tr>\n",
       "    <tr>\n",
       "      <td>86</td>\n",
       "      <td>87</td>\n",
       "      <td>Kevin Willis</td>\n",
       "      <td>1424</td>\n",
       "      <td>38360</td>\n",
       "      <td>17253</td>\n",
       "      <td>7095</td>\n",
       "      <td>14572</td>\n",
       "      <td>48.7</td>\n",
       "      <td>40</td>\n",
       "      <td>190</td>\n",
       "      <td>...</td>\n",
       "      <td>71.3</td>\n",
       "      <td>4132</td>\n",
       "      <td>7769</td>\n",
       "      <td>11901</td>\n",
       "      <td>1328</td>\n",
       "      <td>958</td>\n",
       "      <td>751</td>\n",
       "      <td>2520</td>\n",
       "      <td>48.8</td>\n",
       "      <td>52.5</td>\n",
       "    </tr>\n",
       "  </tbody>\n",
       "</table>\n",
       "<p>9 rows × 23 columns</p>\n",
       "</div>"
      ],
      "text/plain": [
       "     #               Player    GP    MIN    PTS    FGM    FGA   FG%   3PM  \\\n",
       "0    1  Kareem Abdul-Jabbar  1560  57446  38387  15837  28307  55.9     1   \n",
       "1    2          Karl Malone  1476  54852  36928  13528  26210  51.6    85   \n",
       "5    6        Dirk Nowitzki  1471  50572  31187  11034  23358  47.2  1918   \n",
       "16  17        Kevin Garnett  1462  50412  26071  10505  21142  49.7   174   \n",
       "21  22         Vince Carter  1405  44164  24868   8990  20567  43.7  2106   \n",
       "26  27        Robert Parish  1611  45704  23334   9614  17914  53.7     0   \n",
       "44  45        John Stockton  1504  47766  19711   7039  13658  51.5   845   \n",
       "57  58          Jason Terry  1410  42034  18881   6914  15585  44.4  2282   \n",
       "86  87         Kevin Willis  1424  38360  17253   7095  14572  48.7    40   \n",
       "\n",
       "     3PA  ...   FT%  OREB   DREB    REB    AST   STL   BLK   TOV  eFG%   TS%  \n",
       "0     18  ...  72.1  2975   9394  17440   5660  1160  3189  2527  55.9  59.2  \n",
       "1    310  ...  74.2  3562  11406  14968   5248  2085  1145  4524  51.8  57.7  \n",
       "5   5005  ...  87.9  1463   9868  11331   3616  1201  1263  2476  51.3  57.8  \n",
       "16   632  ...  78.9  3209  11453  14662   5445  1859  2037  3179  50.1  54.6  \n",
       "21  5650  ...  79.9  1609   4679   6288   4579  1463   836  2509  48.8  53.6  \n",
       "26     6  ...  72.1  4598  10117  14715   2180  1219  2361  3183  53.7  57.1  \n",
       "44  2202  ...  82.6   966   3085   4051  15806  3265   315  4244  54.6  60.8  \n",
       "57  6010  ...  84.5   502   2772   3274   5415  1603   275  2415  51.7  55.4  \n",
       "86   190  ...  71.3  4132   7769  11901   1328   958   751  2520  48.8  52.5  \n",
       "\n",
       "[9 rows x 23 columns]"
      ]
     },
     "execution_count": 21,
     "metadata": {},
     "output_type": "execute_result"
    }
   ],
   "source": [
    "df[df['GP'] > 1400]"
   ]
  },
  {
   "cell_type": "markdown",
   "metadata": {},
   "source": [
    "**Beispiel:**: Alle Spieler, die mehr als 30'000 Punkte gesammelt haben"
   ]
  },
  {
   "cell_type": "code",
   "execution_count": null,
   "metadata": {},
   "outputs": [],
   "source": [
    "df[df['PTS'] > 30000]"
   ]
  },
  {
   "cell_type": "markdown",
   "metadata": {},
   "source": [
    "(Hier wäre also das Kriterium, auf dem die NBA-Rangliste basiert!)"
   ]
  },
  {
   "cell_type": "markdown",
   "metadata": {},
   "source": [
    "### Logische Operatoren"
   ]
  },
  {
   "cell_type": "markdown",
   "metadata": {},
   "source": [
    "Und es gibt diverse logische Operatoren:\n",
    "- `&` logisches UND\n",
    "- `|` logisches ODER\n",
    "- `~` logisches NICHT\n",
    "\n",
    "Beim kombinieren, beachte die Klammern!"
   ]
  },
  {
   "cell_type": "markdown",
   "metadata": {},
   "source": [
    "**Beispiel**: Alle Spieler, die entweder Michael Jordan heissen oder mehr als 1500 Spiele absolviert haben"
   ]
  },
  {
   "cell_type": "code",
   "execution_count": 22,
   "metadata": {},
   "outputs": [
    {
     "data": {
      "text/html": [
       "<div>\n",
       "<style scoped>\n",
       "    .dataframe tbody tr th:only-of-type {\n",
       "        vertical-align: middle;\n",
       "    }\n",
       "\n",
       "    .dataframe tbody tr th {\n",
       "        vertical-align: top;\n",
       "    }\n",
       "\n",
       "    .dataframe thead th {\n",
       "        text-align: right;\n",
       "    }\n",
       "</style>\n",
       "<table border=\"1\" class=\"dataframe\">\n",
       "  <thead>\n",
       "    <tr style=\"text-align: right;\">\n",
       "      <th></th>\n",
       "      <th>#</th>\n",
       "      <th>Player</th>\n",
       "      <th>GP</th>\n",
       "      <th>MIN</th>\n",
       "      <th>PTS</th>\n",
       "      <th>FGM</th>\n",
       "      <th>FGA</th>\n",
       "      <th>FG%</th>\n",
       "      <th>3PM</th>\n",
       "      <th>3PA</th>\n",
       "      <th>...</th>\n",
       "      <th>FT%</th>\n",
       "      <th>OREB</th>\n",
       "      <th>DREB</th>\n",
       "      <th>REB</th>\n",
       "      <th>AST</th>\n",
       "      <th>STL</th>\n",
       "      <th>BLK</th>\n",
       "      <th>TOV</th>\n",
       "      <th>eFG%</th>\n",
       "      <th>TS%</th>\n",
       "    </tr>\n",
       "  </thead>\n",
       "  <tbody>\n",
       "    <tr>\n",
       "      <td>0</td>\n",
       "      <td>1</td>\n",
       "      <td>Kareem Abdul-Jabbar</td>\n",
       "      <td>1560</td>\n",
       "      <td>57446</td>\n",
       "      <td>38387</td>\n",
       "      <td>15837</td>\n",
       "      <td>28307</td>\n",
       "      <td>55.9</td>\n",
       "      <td>1</td>\n",
       "      <td>18</td>\n",
       "      <td>...</td>\n",
       "      <td>72.1</td>\n",
       "      <td>2975</td>\n",
       "      <td>9394</td>\n",
       "      <td>17440</td>\n",
       "      <td>5660</td>\n",
       "      <td>1160</td>\n",
       "      <td>3189</td>\n",
       "      <td>2527</td>\n",
       "      <td>55.9</td>\n",
       "      <td>59.2</td>\n",
       "    </tr>\n",
       "    <tr>\n",
       "      <td>3</td>\n",
       "      <td>4</td>\n",
       "      <td>Michael Jordan</td>\n",
       "      <td>1072</td>\n",
       "      <td>41010</td>\n",
       "      <td>32292</td>\n",
       "      <td>12192</td>\n",
       "      <td>24537</td>\n",
       "      <td>49.7</td>\n",
       "      <td>581</td>\n",
       "      <td>1778</td>\n",
       "      <td>...</td>\n",
       "      <td>83.5</td>\n",
       "      <td>1668</td>\n",
       "      <td>5004</td>\n",
       "      <td>6672</td>\n",
       "      <td>5633</td>\n",
       "      <td>2514</td>\n",
       "      <td>893</td>\n",
       "      <td>2924</td>\n",
       "      <td>50.9</td>\n",
       "      <td>56.9</td>\n",
       "    </tr>\n",
       "    <tr>\n",
       "      <td>26</td>\n",
       "      <td>27</td>\n",
       "      <td>Robert Parish</td>\n",
       "      <td>1611</td>\n",
       "      <td>45704</td>\n",
       "      <td>23334</td>\n",
       "      <td>9614</td>\n",
       "      <td>17914</td>\n",
       "      <td>53.7</td>\n",
       "      <td>0</td>\n",
       "      <td>6</td>\n",
       "      <td>...</td>\n",
       "      <td>72.1</td>\n",
       "      <td>4598</td>\n",
       "      <td>10117</td>\n",
       "      <td>14715</td>\n",
       "      <td>2180</td>\n",
       "      <td>1219</td>\n",
       "      <td>2361</td>\n",
       "      <td>3183</td>\n",
       "      <td>53.7</td>\n",
       "      <td>57.1</td>\n",
       "    </tr>\n",
       "    <tr>\n",
       "      <td>44</td>\n",
       "      <td>45</td>\n",
       "      <td>John Stockton</td>\n",
       "      <td>1504</td>\n",
       "      <td>47766</td>\n",
       "      <td>19711</td>\n",
       "      <td>7039</td>\n",
       "      <td>13658</td>\n",
       "      <td>51.5</td>\n",
       "      <td>845</td>\n",
       "      <td>2202</td>\n",
       "      <td>...</td>\n",
       "      <td>82.6</td>\n",
       "      <td>966</td>\n",
       "      <td>3085</td>\n",
       "      <td>4051</td>\n",
       "      <td>15806</td>\n",
       "      <td>3265</td>\n",
       "      <td>315</td>\n",
       "      <td>4244</td>\n",
       "      <td>54.6</td>\n",
       "      <td>60.8</td>\n",
       "    </tr>\n",
       "  </tbody>\n",
       "</table>\n",
       "<p>4 rows × 23 columns</p>\n",
       "</div>"
      ],
      "text/plain": [
       "     #               Player    GP    MIN    PTS    FGM    FGA   FG%  3PM  \\\n",
       "0    1  Kareem Abdul-Jabbar  1560  57446  38387  15837  28307  55.9    1   \n",
       "3    4       Michael Jordan  1072  41010  32292  12192  24537  49.7  581   \n",
       "26  27        Robert Parish  1611  45704  23334   9614  17914  53.7    0   \n",
       "44  45        John Stockton  1504  47766  19711   7039  13658  51.5  845   \n",
       "\n",
       "     3PA  ...   FT%  OREB   DREB    REB    AST   STL   BLK   TOV  eFG%   TS%  \n",
       "0     18  ...  72.1  2975   9394  17440   5660  1160  3189  2527  55.9  59.2  \n",
       "3   1778  ...  83.5  1668   5004   6672   5633  2514   893  2924  50.9  56.9  \n",
       "26     6  ...  72.1  4598  10117  14715   2180  1219  2361  3183  53.7  57.1  \n",
       "44  2202  ...  82.6   966   3085   4051  15806  3265   315  4244  54.6  60.8  \n",
       "\n",
       "[4 rows x 23 columns]"
      ]
     },
     "execution_count": 22,
     "metadata": {},
     "output_type": "execute_result"
    }
   ],
   "source": [
    "df[(df['Player'] == 'Michael Jordan') | (df['GP'] > 1500)]"
   ]
  },
  {
   "cell_type": "markdown",
   "metadata": {},
   "source": [
    "**Beispiel**: Alle Spieler, die nicht Michael Jordan heissen und nicht weniger als 30'000 Punkte gesammelt haben"
   ]
  },
  {
   "cell_type": "code",
   "execution_count": 23,
   "metadata": {},
   "outputs": [
    {
     "data": {
      "text/html": [
       "<div>\n",
       "<style scoped>\n",
       "    .dataframe tbody tr th:only-of-type {\n",
       "        vertical-align: middle;\n",
       "    }\n",
       "\n",
       "    .dataframe tbody tr th {\n",
       "        vertical-align: top;\n",
       "    }\n",
       "\n",
       "    .dataframe thead th {\n",
       "        text-align: right;\n",
       "    }\n",
       "</style>\n",
       "<table border=\"1\" class=\"dataframe\">\n",
       "  <thead>\n",
       "    <tr style=\"text-align: right;\">\n",
       "      <th></th>\n",
       "      <th>#</th>\n",
       "      <th>Player</th>\n",
       "      <th>GP</th>\n",
       "      <th>MIN</th>\n",
       "      <th>PTS</th>\n",
       "      <th>FGM</th>\n",
       "      <th>FGA</th>\n",
       "      <th>FG%</th>\n",
       "      <th>3PM</th>\n",
       "      <th>3PA</th>\n",
       "      <th>...</th>\n",
       "      <th>FT%</th>\n",
       "      <th>OREB</th>\n",
       "      <th>DREB</th>\n",
       "      <th>REB</th>\n",
       "      <th>AST</th>\n",
       "      <th>STL</th>\n",
       "      <th>BLK</th>\n",
       "      <th>TOV</th>\n",
       "      <th>eFG%</th>\n",
       "      <th>TS%</th>\n",
       "    </tr>\n",
       "  </thead>\n",
       "  <tbody>\n",
       "    <tr>\n",
       "      <td>0</td>\n",
       "      <td>1</td>\n",
       "      <td>Kareem Abdul-Jabbar</td>\n",
       "      <td>1560</td>\n",
       "      <td>57446</td>\n",
       "      <td>38387</td>\n",
       "      <td>15837</td>\n",
       "      <td>28307</td>\n",
       "      <td>55.9</td>\n",
       "      <td>1</td>\n",
       "      <td>18</td>\n",
       "      <td>...</td>\n",
       "      <td>72.1</td>\n",
       "      <td>2975</td>\n",
       "      <td>9394</td>\n",
       "      <td>17440</td>\n",
       "      <td>5660</td>\n",
       "      <td>1160</td>\n",
       "      <td>3189</td>\n",
       "      <td>2527</td>\n",
       "      <td>55.9</td>\n",
       "      <td>59.2</td>\n",
       "    </tr>\n",
       "    <tr>\n",
       "      <td>1</td>\n",
       "      <td>2</td>\n",
       "      <td>Karl Malone</td>\n",
       "      <td>1476</td>\n",
       "      <td>54852</td>\n",
       "      <td>36928</td>\n",
       "      <td>13528</td>\n",
       "      <td>26210</td>\n",
       "      <td>51.6</td>\n",
       "      <td>85</td>\n",
       "      <td>310</td>\n",
       "      <td>...</td>\n",
       "      <td>74.2</td>\n",
       "      <td>3562</td>\n",
       "      <td>11406</td>\n",
       "      <td>14968</td>\n",
       "      <td>5248</td>\n",
       "      <td>2085</td>\n",
       "      <td>1145</td>\n",
       "      <td>4524</td>\n",
       "      <td>51.8</td>\n",
       "      <td>57.7</td>\n",
       "    </tr>\n",
       "    <tr>\n",
       "      <td>2</td>\n",
       "      <td>3</td>\n",
       "      <td>Kobe Bryant</td>\n",
       "      <td>1346</td>\n",
       "      <td>48643</td>\n",
       "      <td>33643</td>\n",
       "      <td>11719</td>\n",
       "      <td>26200</td>\n",
       "      <td>44.7</td>\n",
       "      <td>1827</td>\n",
       "      <td>5546</td>\n",
       "      <td>...</td>\n",
       "      <td>83.7</td>\n",
       "      <td>1499</td>\n",
       "      <td>5548</td>\n",
       "      <td>7047</td>\n",
       "      <td>6306</td>\n",
       "      <td>1944</td>\n",
       "      <td>640</td>\n",
       "      <td>4010</td>\n",
       "      <td>48.2</td>\n",
       "      <td>55.0</td>\n",
       "    </tr>\n",
       "    <tr>\n",
       "      <td>4</td>\n",
       "      <td>5</td>\n",
       "      <td>Wilt Chamberlain</td>\n",
       "      <td>1045</td>\n",
       "      <td>47859</td>\n",
       "      <td>31419</td>\n",
       "      <td>12681</td>\n",
       "      <td>23497</td>\n",
       "      <td>54.0</td>\n",
       "      <td>-</td>\n",
       "      <td>-</td>\n",
       "      <td>...</td>\n",
       "      <td>51.1</td>\n",
       "      <td>-</td>\n",
       "      <td>-</td>\n",
       "      <td>23924</td>\n",
       "      <td>4643</td>\n",
       "      <td>-</td>\n",
       "      <td>-</td>\n",
       "      <td>-</td>\n",
       "      <td>54.0</td>\n",
       "      <td>54.7</td>\n",
       "    </tr>\n",
       "    <tr>\n",
       "      <td>5</td>\n",
       "      <td>6</td>\n",
       "      <td>Dirk Nowitzki</td>\n",
       "      <td>1471</td>\n",
       "      <td>50572</td>\n",
       "      <td>31187</td>\n",
       "      <td>11034</td>\n",
       "      <td>23358</td>\n",
       "      <td>47.2</td>\n",
       "      <td>1918</td>\n",
       "      <td>5005</td>\n",
       "      <td>...</td>\n",
       "      <td>87.9</td>\n",
       "      <td>1463</td>\n",
       "      <td>9868</td>\n",
       "      <td>11331</td>\n",
       "      <td>3616</td>\n",
       "      <td>1201</td>\n",
       "      <td>1263</td>\n",
       "      <td>2476</td>\n",
       "      <td>51.3</td>\n",
       "      <td>57.8</td>\n",
       "    </tr>\n",
       "    <tr>\n",
       "      <td>6</td>\n",
       "      <td>7</td>\n",
       "      <td>LeBron James</td>\n",
       "      <td>1143</td>\n",
       "      <td>44297</td>\n",
       "      <td>31038</td>\n",
       "      <td>11280</td>\n",
       "      <td>22383</td>\n",
       "      <td>50.4</td>\n",
       "      <td>1616</td>\n",
       "      <td>4701</td>\n",
       "      <td>...</td>\n",
       "      <td>73.9</td>\n",
       "      <td>1386</td>\n",
       "      <td>7029</td>\n",
       "      <td>8415</td>\n",
       "      <td>8208</td>\n",
       "      <td>1865</td>\n",
       "      <td>888</td>\n",
       "      <td>3966</td>\n",
       "      <td>54.0</td>\n",
       "      <td>58.6</td>\n",
       "    </tr>\n",
       "  </tbody>\n",
       "</table>\n",
       "<p>6 rows × 23 columns</p>\n",
       "</div>"
      ],
      "text/plain": [
       "   #               Player    GP    MIN    PTS    FGM    FGA   FG%   3PM   3PA  \\\n",
       "0  1  Kareem Abdul-Jabbar  1560  57446  38387  15837  28307  55.9     1    18   \n",
       "1  2          Karl Malone  1476  54852  36928  13528  26210  51.6    85   310   \n",
       "2  3          Kobe Bryant  1346  48643  33643  11719  26200  44.7  1827  5546   \n",
       "4  5     Wilt Chamberlain  1045  47859  31419  12681  23497  54.0     -     -   \n",
       "5  6        Dirk Nowitzki  1471  50572  31187  11034  23358  47.2  1918  5005   \n",
       "6  7         LeBron James  1143  44297  31038  11280  22383  50.4  1616  4701   \n",
       "\n",
       "   ...   FT%  OREB   DREB    REB   AST   STL   BLK   TOV  eFG%   TS%  \n",
       "0  ...  72.1  2975   9394  17440  5660  1160  3189  2527  55.9  59.2  \n",
       "1  ...  74.2  3562  11406  14968  5248  2085  1145  4524  51.8  57.7  \n",
       "2  ...  83.7  1499   5548   7047  6306  1944   640  4010  48.2  55.0  \n",
       "4  ...  51.1     -      -  23924  4643     -     -     -  54.0  54.7  \n",
       "5  ...  87.9  1463   9868  11331  3616  1201  1263  2476  51.3  57.8  \n",
       "6  ...  73.9  1386   7029   8415  8208  1865   888  3966  54.0  58.6  \n",
       "\n",
       "[6 rows x 23 columns]"
      ]
     },
     "execution_count": 23,
     "metadata": {},
     "output_type": "execute_result"
    }
   ],
   "source": [
    "df[~(df['Player'] == 'Michael Jordan') & ~(df['PTS'] < 30000)]"
   ]
  },
  {
   "cell_type": "markdown",
   "metadata": {},
   "source": [
    "**Quiz**: Finden Sie alle Spieler mit einer Wurfquote (FG%) von über 60 Prozent"
   ]
  },
  {
   "cell_type": "code",
   "execution_count": 28,
   "metadata": {},
   "outputs": [
    {
     "data": {
      "text/html": [
       "<div>\n",
       "<style scoped>\n",
       "    .dataframe tbody tr th:only-of-type {\n",
       "        vertical-align: middle;\n",
       "    }\n",
       "\n",
       "    .dataframe tbody tr th {\n",
       "        vertical-align: top;\n",
       "    }\n",
       "\n",
       "    .dataframe thead th {\n",
       "        text-align: right;\n",
       "    }\n",
       "</style>\n",
       "<table border=\"1\" class=\"dataframe\">\n",
       "  <thead>\n",
       "    <tr style=\"text-align: right;\">\n",
       "      <th></th>\n",
       "      <th>#</th>\n",
       "      <th>Player</th>\n",
       "      <th>GP</th>\n",
       "      <th>MIN</th>\n",
       "      <th>PTS</th>\n",
       "      <th>FGM</th>\n",
       "      <th>FGA</th>\n",
       "      <th>FG%</th>\n",
       "      <th>3PM</th>\n",
       "      <th>3PA</th>\n",
       "      <th>...</th>\n",
       "      <th>FT%</th>\n",
       "      <th>OREB</th>\n",
       "      <th>DREB</th>\n",
       "      <th>REB</th>\n",
       "      <th>AST</th>\n",
       "      <th>STL</th>\n",
       "      <th>BLK</th>\n",
       "      <th>TOV</th>\n",
       "      <th>eFG%</th>\n",
       "      <th>TS%</th>\n",
       "    </tr>\n",
       "  </thead>\n",
       "  <tbody>\n",
       "    <tr>\n",
       "      <td>583</td>\n",
       "      <td>584</td>\n",
       "      <td>DeAndre Jordan</td>\n",
       "      <td>750</td>\n",
       "      <td>21044</td>\n",
       "      <td>7078</td>\n",
       "      <td>2860</td>\n",
       "      <td>4252</td>\n",
       "      <td>67.3</td>\n",
       "      <td>1</td>\n",
       "      <td>11</td>\n",
       "      <td>...</td>\n",
       "      <td>44.6</td>\n",
       "      <td>2435</td>\n",
       "      <td>5553</td>\n",
       "      <td>7988</td>\n",
       "      <td>557</td>\n",
       "      <td>448</td>\n",
       "      <td>1277</td>\n",
       "      <td>982</td>\n",
       "      <td>67.3</td>\n",
       "      <td>63.3</td>\n",
       "    </tr>\n",
       "    <tr>\n",
       "      <td>1122</td>\n",
       "      <td>1123</td>\n",
       "      <td>Brandan Wright</td>\n",
       "      <td>428</td>\n",
       "      <td>6949</td>\n",
       "      <td>2976</td>\n",
       "      <td>1271</td>\n",
       "      <td>2095</td>\n",
       "      <td>60.7</td>\n",
       "      <td>0</td>\n",
       "      <td>12</td>\n",
       "      <td>...</td>\n",
       "      <td>67.4</td>\n",
       "      <td>586</td>\n",
       "      <td>974</td>\n",
       "      <td>1560</td>\n",
       "      <td>199</td>\n",
       "      <td>198</td>\n",
       "      <td>425</td>\n",
       "      <td>202</td>\n",
       "      <td>60.7</td>\n",
       "      <td>62.6</td>\n",
       "    </tr>\n",
       "  </tbody>\n",
       "</table>\n",
       "<p>2 rows × 23 columns</p>\n",
       "</div>"
      ],
      "text/plain": [
       "         #          Player   GP    MIN   PTS   FGM   FGA   FG% 3PM 3PA  ...  \\\n",
       "583    584  DeAndre Jordan  750  21044  7078  2860  4252  67.3   1  11  ...   \n",
       "1122  1123  Brandan Wright  428   6949  2976  1271  2095  60.7   0  12  ...   \n",
       "\n",
       "       FT%  OREB  DREB   REB  AST  STL   BLK  TOV  eFG%   TS%  \n",
       "583   44.6  2435  5553  7988  557  448  1277  982  67.3  63.3  \n",
       "1122  67.4   586   974  1560  199  198   425  202  60.7  62.6  \n",
       "\n",
       "[2 rows x 23 columns]"
      ]
     },
     "execution_count": 28,
     "metadata": {},
     "output_type": "execute_result"
    }
   ],
   "source": [
    "#Antwort\n",
    "df[df['FG%'] >= 60]"
   ]
  },
  {
   "cell_type": "markdown",
   "metadata": {},
   "source": [
    "**Quiz:** Finden Sie alle Spieler, die mehr als 10'000 Rebounds (REB) und mehr als 5000 Assists (AST) gesammelt haben"
   ]
  },
  {
   "cell_type": "code",
   "execution_count": 35,
   "metadata": {},
   "outputs": [
    {
     "data": {
      "text/html": [
       "<div>\n",
       "<style scoped>\n",
       "    .dataframe tbody tr th:only-of-type {\n",
       "        vertical-align: middle;\n",
       "    }\n",
       "\n",
       "    .dataframe tbody tr th {\n",
       "        vertical-align: top;\n",
       "    }\n",
       "\n",
       "    .dataframe thead th {\n",
       "        text-align: right;\n",
       "    }\n",
       "</style>\n",
       "<table border=\"1\" class=\"dataframe\">\n",
       "  <thead>\n",
       "    <tr style=\"text-align: right;\">\n",
       "      <th></th>\n",
       "      <th>#</th>\n",
       "      <th>Player</th>\n",
       "      <th>GP</th>\n",
       "      <th>MIN</th>\n",
       "      <th>PTS</th>\n",
       "      <th>FGM</th>\n",
       "      <th>FGA</th>\n",
       "      <th>FG%</th>\n",
       "      <th>3PM</th>\n",
       "      <th>3PA</th>\n",
       "      <th>...</th>\n",
       "      <th>FT%</th>\n",
       "      <th>OREB</th>\n",
       "      <th>DREB</th>\n",
       "      <th>REB</th>\n",
       "      <th>AST</th>\n",
       "      <th>STL</th>\n",
       "      <th>BLK</th>\n",
       "      <th>TOV</th>\n",
       "      <th>eFG%</th>\n",
       "      <th>TS%</th>\n",
       "    </tr>\n",
       "  </thead>\n",
       "  <tbody>\n",
       "    <tr>\n",
       "      <td>0</td>\n",
       "      <td>1</td>\n",
       "      <td>Kareem Abdul-Jabbar</td>\n",
       "      <td>1560</td>\n",
       "      <td>57446</td>\n",
       "      <td>38387</td>\n",
       "      <td>15837</td>\n",
       "      <td>28307</td>\n",
       "      <td>55.9</td>\n",
       "      <td>1</td>\n",
       "      <td>18</td>\n",
       "      <td>...</td>\n",
       "      <td>72.1</td>\n",
       "      <td>2975</td>\n",
       "      <td>9394</td>\n",
       "      <td>17440</td>\n",
       "      <td>5660</td>\n",
       "      <td>1160</td>\n",
       "      <td>3189</td>\n",
       "      <td>2527</td>\n",
       "      <td>55.9</td>\n",
       "      <td>59.2</td>\n",
       "    </tr>\n",
       "    <tr>\n",
       "      <td>1</td>\n",
       "      <td>2</td>\n",
       "      <td>Karl Malone</td>\n",
       "      <td>1476</td>\n",
       "      <td>54852</td>\n",
       "      <td>36928</td>\n",
       "      <td>13528</td>\n",
       "      <td>26210</td>\n",
       "      <td>51.6</td>\n",
       "      <td>85</td>\n",
       "      <td>310</td>\n",
       "      <td>...</td>\n",
       "      <td>74.2</td>\n",
       "      <td>3562</td>\n",
       "      <td>11406</td>\n",
       "      <td>14968</td>\n",
       "      <td>5248</td>\n",
       "      <td>2085</td>\n",
       "      <td>1145</td>\n",
       "      <td>4524</td>\n",
       "      <td>51.8</td>\n",
       "      <td>57.7</td>\n",
       "    </tr>\n",
       "    <tr>\n",
       "      <td>16</td>\n",
       "      <td>17</td>\n",
       "      <td>Kevin Garnett</td>\n",
       "      <td>1462</td>\n",
       "      <td>50412</td>\n",
       "      <td>26071</td>\n",
       "      <td>10505</td>\n",
       "      <td>21142</td>\n",
       "      <td>49.7</td>\n",
       "      <td>174</td>\n",
       "      <td>632</td>\n",
       "      <td>...</td>\n",
       "      <td>78.9</td>\n",
       "      <td>3209</td>\n",
       "      <td>11453</td>\n",
       "      <td>14662</td>\n",
       "      <td>5445</td>\n",
       "      <td>1859</td>\n",
       "      <td>2037</td>\n",
       "      <td>3179</td>\n",
       "      <td>50.1</td>\n",
       "      <td>54.6</td>\n",
       "    </tr>\n",
       "  </tbody>\n",
       "</table>\n",
       "<p>3 rows × 23 columns</p>\n",
       "</div>"
      ],
      "text/plain": [
       "     #               Player    GP    MIN    PTS    FGM    FGA   FG%  3PM  3PA  \\\n",
       "0    1  Kareem Abdul-Jabbar  1560  57446  38387  15837  28307  55.9    1   18   \n",
       "1    2          Karl Malone  1476  54852  36928  13528  26210  51.6   85  310   \n",
       "16  17        Kevin Garnett  1462  50412  26071  10505  21142  49.7  174  632   \n",
       "\n",
       "    ...   FT%  OREB   DREB    REB   AST   STL   BLK   TOV  eFG%   TS%  \n",
       "0   ...  72.1  2975   9394  17440  5660  1160  3189  2527  55.9  59.2  \n",
       "1   ...  74.2  3562  11406  14968  5248  2085  1145  4524  51.8  57.7  \n",
       "16  ...  78.9  3209  11453  14662  5445  1859  2037  3179  50.1  54.6  \n",
       "\n",
       "[3 rows x 23 columns]"
      ]
     },
     "execution_count": 35,
     "metadata": {},
     "output_type": "execute_result"
    }
   ],
   "source": [
    "#Antwort\n",
    "df[(df['REB'] >= 10000) & (df['AST'] >= 5000)]"
   ]
  },
  {
   "cell_type": "markdown",
   "metadata": {},
   "source": [
    "**Quiz:** Finden Sie alle Spieler, die weniger als 1000 Turnovers (Ballverluste, TOV) auf ihrem Konto haben und eine Dreipunktewurfquote (3P%) über 50 Prozent."
   ]
  },
  {
   "cell_type": "code",
   "execution_count": 37,
   "metadata": {
    "scrolled": true
   },
   "outputs": [
    {
     "ename": "TypeError",
     "evalue": "'>=' not supported between instances of 'str' and 'int'",
     "output_type": "error",
     "traceback": [
      "\u001b[0;31m---------------------------------------------------------------------------\u001b[0m",
      "\u001b[0;31mTypeError\u001b[0m                                 Traceback (most recent call last)",
      "\u001b[0;32m<ipython-input-37-a667a10cb134>\u001b[0m in \u001b[0;36m<module>\u001b[0;34m\u001b[0m\n\u001b[1;32m      1\u001b[0m \u001b[0;31m#Antwort\u001b[0m\u001b[0;34m\u001b[0m\u001b[0;34m\u001b[0m\u001b[0;34m\u001b[0m\u001b[0m\n\u001b[0;32m----> 2\u001b[0;31m \u001b[0mdf\u001b[0m\u001b[0;34m[\u001b[0m\u001b[0;34m(\u001b[0m\u001b[0mdf\u001b[0m\u001b[0;34m[\u001b[0m\u001b[0;34m'TOV'\u001b[0m\u001b[0;34m]\u001b[0m \u001b[0;34m>=\u001b[0m \u001b[0;36m1000\u001b[0m\u001b[0;34m)\u001b[0m \u001b[0;34m&\u001b[0m \u001b[0;34m(\u001b[0m\u001b[0mdf\u001b[0m\u001b[0;34m[\u001b[0m\u001b[0;34m'3P%'\u001b[0m\u001b[0;34m]\u001b[0m \u001b[0;34m>\u001b[0m \u001b[0;36m50\u001b[0m\u001b[0;34m)\u001b[0m\u001b[0;34m]\u001b[0m\u001b[0;34m\u001b[0m\u001b[0;34m\u001b[0m\u001b[0m\n\u001b[0m",
      "\u001b[0;32m~/.virtualenvs/erstesVE/lib/python3.7/site-packages/pandas/core/ops/__init__.py\u001b[0m in \u001b[0;36mwrapper\u001b[0;34m(self, other, axis)\u001b[0m\n\u001b[1;32m   1227\u001b[0m \u001b[0;34m\u001b[0m\u001b[0m\n\u001b[1;32m   1228\u001b[0m             \u001b[0;32mwith\u001b[0m \u001b[0mnp\u001b[0m\u001b[0;34m.\u001b[0m\u001b[0merrstate\u001b[0m\u001b[0;34m(\u001b[0m\u001b[0mall\u001b[0m\u001b[0;34m=\u001b[0m\u001b[0;34m\"ignore\"\u001b[0m\u001b[0;34m)\u001b[0m\u001b[0;34m:\u001b[0m\u001b[0;34m\u001b[0m\u001b[0;34m\u001b[0m\u001b[0m\n\u001b[0;32m-> 1229\u001b[0;31m                 \u001b[0mres\u001b[0m \u001b[0;34m=\u001b[0m \u001b[0mna_op\u001b[0m\u001b[0;34m(\u001b[0m\u001b[0mvalues\u001b[0m\u001b[0;34m,\u001b[0m \u001b[0mother\u001b[0m\u001b[0;34m)\u001b[0m\u001b[0;34m\u001b[0m\u001b[0;34m\u001b[0m\u001b[0m\n\u001b[0m\u001b[1;32m   1230\u001b[0m             \u001b[0;32mif\u001b[0m \u001b[0mis_scalar\u001b[0m\u001b[0;34m(\u001b[0m\u001b[0mres\u001b[0m\u001b[0;34m)\u001b[0m\u001b[0;34m:\u001b[0m\u001b[0;34m\u001b[0m\u001b[0;34m\u001b[0m\u001b[0m\n\u001b[1;32m   1231\u001b[0m                 raise TypeError(\n",
      "\u001b[0;32m~/.virtualenvs/erstesVE/lib/python3.7/site-packages/pandas/core/ops/__init__.py\u001b[0m in \u001b[0;36mna_op\u001b[0;34m(x, y)\u001b[0m\n\u001b[1;32m   1089\u001b[0m \u001b[0;34m\u001b[0m\u001b[0m\n\u001b[1;32m   1090\u001b[0m         \u001b[0;32mif\u001b[0m \u001b[0mis_object_dtype\u001b[0m\u001b[0;34m(\u001b[0m\u001b[0mx\u001b[0m\u001b[0;34m.\u001b[0m\u001b[0mdtype\u001b[0m\u001b[0;34m)\u001b[0m\u001b[0;34m:\u001b[0m\u001b[0;34m\u001b[0m\u001b[0;34m\u001b[0m\u001b[0m\n\u001b[0;32m-> 1091\u001b[0;31m             \u001b[0mresult\u001b[0m \u001b[0;34m=\u001b[0m \u001b[0m_comp_method_OBJECT_ARRAY\u001b[0m\u001b[0;34m(\u001b[0m\u001b[0mop\u001b[0m\u001b[0;34m,\u001b[0m \u001b[0mx\u001b[0m\u001b[0;34m,\u001b[0m \u001b[0my\u001b[0m\u001b[0;34m)\u001b[0m\u001b[0;34m\u001b[0m\u001b[0;34m\u001b[0m\u001b[0m\n\u001b[0m\u001b[1;32m   1092\u001b[0m \u001b[0;34m\u001b[0m\u001b[0m\n\u001b[1;32m   1093\u001b[0m         \u001b[0;32melif\u001b[0m \u001b[0mis_datetimelike_v_numeric\u001b[0m\u001b[0;34m(\u001b[0m\u001b[0mx\u001b[0m\u001b[0;34m,\u001b[0m \u001b[0my\u001b[0m\u001b[0;34m)\u001b[0m\u001b[0;34m:\u001b[0m\u001b[0;34m\u001b[0m\u001b[0;34m\u001b[0m\u001b[0m\n",
      "\u001b[0;32m~/.virtualenvs/erstesVE/lib/python3.7/site-packages/pandas/core/ops/__init__.py\u001b[0m in \u001b[0;36m_comp_method_OBJECT_ARRAY\u001b[0;34m(op, x, y)\u001b[0m\n\u001b[1;32m   1067\u001b[0m         \u001b[0mresult\u001b[0m \u001b[0;34m=\u001b[0m \u001b[0mlibops\u001b[0m\u001b[0;34m.\u001b[0m\u001b[0mvec_compare\u001b[0m\u001b[0;34m(\u001b[0m\u001b[0mx\u001b[0m\u001b[0;34m,\u001b[0m \u001b[0my\u001b[0m\u001b[0;34m,\u001b[0m \u001b[0mop\u001b[0m\u001b[0;34m)\u001b[0m\u001b[0;34m\u001b[0m\u001b[0;34m\u001b[0m\u001b[0m\n\u001b[1;32m   1068\u001b[0m     \u001b[0;32melse\u001b[0m\u001b[0;34m:\u001b[0m\u001b[0;34m\u001b[0m\u001b[0;34m\u001b[0m\u001b[0m\n\u001b[0;32m-> 1069\u001b[0;31m         \u001b[0mresult\u001b[0m \u001b[0;34m=\u001b[0m \u001b[0mlibops\u001b[0m\u001b[0;34m.\u001b[0m\u001b[0mscalar_compare\u001b[0m\u001b[0;34m(\u001b[0m\u001b[0mx\u001b[0m\u001b[0;34m,\u001b[0m \u001b[0my\u001b[0m\u001b[0;34m,\u001b[0m \u001b[0mop\u001b[0m\u001b[0;34m)\u001b[0m\u001b[0;34m\u001b[0m\u001b[0;34m\u001b[0m\u001b[0m\n\u001b[0m\u001b[1;32m   1070\u001b[0m     \u001b[0;32mreturn\u001b[0m \u001b[0mresult\u001b[0m\u001b[0;34m\u001b[0m\u001b[0;34m\u001b[0m\u001b[0m\n\u001b[1;32m   1071\u001b[0m \u001b[0;34m\u001b[0m\u001b[0m\n",
      "\u001b[0;32mpandas/_libs/ops.pyx\u001b[0m in \u001b[0;36mpandas._libs.ops.scalar_compare\u001b[0;34m()\u001b[0m\n",
      "\u001b[0;31mTypeError\u001b[0m: '>=' not supported between instances of 'str' and 'int'"
     ]
    }
   ],
   "source": [
    "#Antwort\n",
    "df[(df['TOV'] >= 1000) & (df['3P%'] > 50)]"
   ]
  },
  {
   "cell_type": "markdown",
   "metadata": {},
   "source": [
    "**Oops!**\n",
    "\n",
    "Was ging hier schief??"
   ]
  },
  {
   "cell_type": "markdown",
   "metadata": {},
   "source": [
    "Pandas sagt: `TypeError`. Was kann das heissen?\n",
    "\n",
    "Checken wir nochmals die Datentypen."
   ]
  },
  {
   "cell_type": "code",
   "execution_count": 39,
   "metadata": {},
   "outputs": [
    {
     "data": {
      "text/plain": [
       "#           int64\n",
       "Player     object\n",
       "GP          int64\n",
       "MIN         int64\n",
       "PTS         int64\n",
       "FGM         int64\n",
       "FGA         int64\n",
       "FG%       float64\n",
       "3PM        object\n",
       "3PA        object\n",
       "3P%        object\n",
       "FTM         int64\n",
       "FTA         int64\n",
       "FT%       float64\n",
       "OREB       object\n",
       "DREB       object\n",
       "REB         int64\n",
       "AST         int64\n",
       "STL        object\n",
       "BLK        object\n",
       "TOV        object\n",
       "eFG%      float64\n",
       "TS%       float64\n",
       "dtype: object"
      ]
     },
     "execution_count": 39,
     "metadata": {},
     "output_type": "execute_result"
    }
   ],
   "source": [
    "df.dtypes"
   ]
  },
  {
   "cell_type": "markdown",
   "metadata": {},
   "source": [
    "Offensichtlich wurden einige Spalten als `object` und nicht als `int64` oder `float64` erfasst.\n",
    "\n",
    "Zum Beispiel eben die Spalte TOV. Schauen wir sie nochmals genauer an."
   ]
  },
  {
   "cell_type": "code",
   "execution_count": 40,
   "metadata": {},
   "outputs": [
    {
     "data": {
      "text/plain": [
       "0       2527\n",
       "1       4524\n",
       "2       4010\n",
       "3       2924\n",
       "4          -\n",
       "        ... \n",
       "1233     231\n",
       "1234     227\n",
       "1235     250\n",
       "1236     206\n",
       "1237     273\n",
       "Name: TOV, Length: 1238, dtype: object"
      ]
     },
     "execution_count": 40,
     "metadata": {},
     "output_type": "execute_result"
    }
   ],
   "source": [
    "df['TOV']"
   ]
  },
  {
   "cell_type": "markdown",
   "metadata": {},
   "source": [
    "Einige Spieler haben bei TOV keine Zahlen drin, sondern fehlende Werte: -\n",
    "\n",
    "Wir müssen das korrigieren."
   ]
  },
  {
   "cell_type": "markdown",
   "metadata": {},
   "source": [
    "## Introducing: nan"
   ]
  },
  {
   "cell_type": "markdown",
   "metadata": {},
   "source": [
    "Pandas hat für fehlende Werte kein Sonderzeichen, sondern einen speziellen Datentyp: nan (not a number)"
   ]
  },
  {
   "cell_type": "markdown",
   "metadata": {},
   "source": [
    "Wir müssen irgendwie dafür sorgen, dass die Bindestriche in dieser Tabelle durch nan's ersetzt werden.\n",
    "\n",
    "Nur so werden wir die Kalkulationen für die betreffenden Felder ausführen können."
   ]
  },
  {
   "cell_type": "markdown",
   "metadata": {},
   "source": [
    "Es gibt diverse Tricks, um Daten zu putzen und fehlende Werte als nan zu klassifizieren.\n",
    "\n",
    "Der einfachste: Die Daten einfach nochmal neu öffnen, mit einer speziellen Zusatzangabe: `na_values`"
   ]
  },
  {
   "cell_type": "code",
   "execution_count": 41,
   "metadata": {},
   "outputs": [],
   "source": [
    "df = pd.read_excel(path, na_values='-')"
   ]
  },
  {
   "cell_type": "markdown",
   "metadata": {},
   "source": [
    "Et voilà: Hier sind unsere Datentypen"
   ]
  },
  {
   "cell_type": "code",
   "execution_count": 42,
   "metadata": {},
   "outputs": [
    {
     "data": {
      "text/plain": [
       "#           int64\n",
       "Player     object\n",
       "GP          int64\n",
       "MIN         int64\n",
       "PTS         int64\n",
       "FGM         int64\n",
       "FGA         int64\n",
       "FG%       float64\n",
       "3PM       float64\n",
       "3PA       float64\n",
       "3P%       float64\n",
       "FTM         int64\n",
       "FTA         int64\n",
       "FT%       float64\n",
       "OREB      float64\n",
       "DREB      float64\n",
       "REB         int64\n",
       "AST         int64\n",
       "STL       float64\n",
       "BLK       float64\n",
       "TOV       float64\n",
       "eFG%      float64\n",
       "TS%       float64\n",
       "dtype: object"
      ]
     },
     "execution_count": 42,
     "metadata": {},
     "output_type": "execute_result"
    }
   ],
   "source": [
    "df.dtypes"
   ]
  },
  {
   "cell_type": "markdown",
   "metadata": {},
   "source": [
    "Und hier unsere Spieler mit weniger als 1000 Turnovers und Dreipunktewurfquote über 50 Prozent."
   ]
  },
  {
   "cell_type": "code",
   "execution_count": 47,
   "metadata": {},
   "outputs": [
    {
     "data": {
      "text/html": [
       "<div>\n",
       "<style scoped>\n",
       "    .dataframe tbody tr th:only-of-type {\n",
       "        vertical-align: middle;\n",
       "    }\n",
       "\n",
       "    .dataframe tbody tr th {\n",
       "        vertical-align: top;\n",
       "    }\n",
       "\n",
       "    .dataframe thead th {\n",
       "        text-align: right;\n",
       "    }\n",
       "</style>\n",
       "<table border=\"1\" class=\"dataframe\">\n",
       "  <thead>\n",
       "    <tr style=\"text-align: right;\">\n",
       "      <th></th>\n",
       "      <th>#</th>\n",
       "      <th>Player</th>\n",
       "      <th>GP</th>\n",
       "      <th>MIN</th>\n",
       "      <th>PTS</th>\n",
       "      <th>FGM</th>\n",
       "      <th>FGA</th>\n",
       "      <th>FG%</th>\n",
       "      <th>3PM</th>\n",
       "      <th>3PA</th>\n",
       "      <th>...</th>\n",
       "      <th>FT%</th>\n",
       "      <th>OREB</th>\n",
       "      <th>DREB</th>\n",
       "      <th>REB</th>\n",
       "      <th>AST</th>\n",
       "      <th>STL</th>\n",
       "      <th>BLK</th>\n",
       "      <th>TOV</th>\n",
       "      <th>eFG%</th>\n",
       "      <th>TS%</th>\n",
       "    </tr>\n",
       "  </thead>\n",
       "  <tbody>\n",
       "    <tr>\n",
       "      <td>111</td>\n",
       "      <td>112</td>\n",
       "      <td>Pete Maravich</td>\n",
       "      <td>658</td>\n",
       "      <td>24316</td>\n",
       "      <td>15948</td>\n",
       "      <td>6187</td>\n",
       "      <td>14025</td>\n",
       "      <td>44.1</td>\n",
       "      <td>10.0</td>\n",
       "      <td>15.0</td>\n",
       "      <td>...</td>\n",
       "      <td>82.0</td>\n",
       "      <td>426.0</td>\n",
       "      <td>1421.0</td>\n",
       "      <td>2747</td>\n",
       "      <td>3563</td>\n",
       "      <td>587.0</td>\n",
       "      <td>108.0</td>\n",
       "      <td>530.0</td>\n",
       "      <td>44.1</td>\n",
       "      <td>50.0</td>\n",
       "    </tr>\n",
       "  </tbody>\n",
       "</table>\n",
       "<p>1 rows × 23 columns</p>\n",
       "</div>"
      ],
      "text/plain": [
       "       #         Player   GP    MIN    PTS   FGM    FGA   FG%   3PM   3PA  \\\n",
       "111  112  Pete Maravich  658  24316  15948  6187  14025  44.1  10.0  15.0   \n",
       "\n",
       "     ...   FT%   OREB    DREB   REB   AST    STL    BLK    TOV  eFG%   TS%  \n",
       "111  ...  82.0  426.0  1421.0  2747  3563  587.0  108.0  530.0  44.1  50.0  \n",
       "\n",
       "[1 rows x 23 columns]"
      ]
     },
     "execution_count": 47,
     "metadata": {},
     "output_type": "execute_result"
    }
   ],
   "source": [
    "df[(df['TOV'] < 1000) & (df['3P%'] > 50)]"
   ]
  },
  {
   "cell_type": "markdown",
   "metadata": {},
   "source": [
    "Wow, **Pete Maravich** ist der einzige Spieler, der das geschafft hat! Er ist der beste Spieler der NBA aller Zeiten!!"
   ]
  },
  {
   "cell_type": "markdown",
   "metadata": {},
   "source": [
    "Hier ein Video von Pete Maravich: https://www.youtube.com/watch?v=cL74uXq5l2o\n",
    "\n",
    "... allerdings hat Pete Maravich auch nur in 658 Spielen gespielt, deutlich weniger als Kareem Abdul-Jabbar mit seinen 1560 Spielen."
   ]
  },
  {
   "cell_type": "markdown",
   "metadata": {},
   "source": [
    "Wie wäre es also mit einem neuen Kriterium: Ballverluste pro Spiel? Wer schneidet hier besser ab, Maravich oder Abdul-Jabbar?"
   ]
  },
  {
   "cell_type": "markdown",
   "metadata": {},
   "source": [
    "## Neue Spalten erstellen"
   ]
  },
  {
   "cell_type": "markdown",
   "metadata": {},
   "source": [
    "Bislang haben wir unsere Vergleiche mit bestehenden Spalten angestellt. Nun müssen wir eine neue Spalte erstellen."
   ]
  },
  {
   "cell_type": "markdown",
   "metadata": {},
   "source": [
    "Wir nennen sie \"TOV%\" und sagen Pandas, dafür die Anzahl der Ballverluste durch die Anzahl der Spiele zu dividieren."
   ]
  },
  {
   "cell_type": "code",
   "execution_count": 48,
   "metadata": {},
   "outputs": [],
   "source": [
    "df['TOV%'] = df['TOV'] / df['GP']"
   ]
  },
  {
   "cell_type": "markdown",
   "metadata": {},
   "source": [
    "Schaun wir mal, wer nun besser abschneidet: Pete Maravich oder Kareem Abdul-Jabbar?"
   ]
  },
  {
   "cell_type": "code",
   "execution_count": 49,
   "metadata": {},
   "outputs": [
    {
     "data": {
      "text/html": [
       "<div>\n",
       "<style scoped>\n",
       "    .dataframe tbody tr th:only-of-type {\n",
       "        vertical-align: middle;\n",
       "    }\n",
       "\n",
       "    .dataframe tbody tr th {\n",
       "        vertical-align: top;\n",
       "    }\n",
       "\n",
       "    .dataframe thead th {\n",
       "        text-align: right;\n",
       "    }\n",
       "</style>\n",
       "<table border=\"1\" class=\"dataframe\">\n",
       "  <thead>\n",
       "    <tr style=\"text-align: right;\">\n",
       "      <th></th>\n",
       "      <th>#</th>\n",
       "      <th>Player</th>\n",
       "      <th>GP</th>\n",
       "      <th>MIN</th>\n",
       "      <th>PTS</th>\n",
       "      <th>FGM</th>\n",
       "      <th>FGA</th>\n",
       "      <th>FG%</th>\n",
       "      <th>3PM</th>\n",
       "      <th>3PA</th>\n",
       "      <th>...</th>\n",
       "      <th>OREB</th>\n",
       "      <th>DREB</th>\n",
       "      <th>REB</th>\n",
       "      <th>AST</th>\n",
       "      <th>STL</th>\n",
       "      <th>BLK</th>\n",
       "      <th>TOV</th>\n",
       "      <th>eFG%</th>\n",
       "      <th>TS%</th>\n",
       "      <th>TOV%</th>\n",
       "    </tr>\n",
       "  </thead>\n",
       "  <tbody>\n",
       "    <tr>\n",
       "      <td>0</td>\n",
       "      <td>1</td>\n",
       "      <td>Kareem Abdul-Jabbar</td>\n",
       "      <td>1560</td>\n",
       "      <td>57446</td>\n",
       "      <td>38387</td>\n",
       "      <td>15837</td>\n",
       "      <td>28307</td>\n",
       "      <td>55.9</td>\n",
       "      <td>1.0</td>\n",
       "      <td>18.0</td>\n",
       "      <td>...</td>\n",
       "      <td>2975.0</td>\n",
       "      <td>9394.0</td>\n",
       "      <td>17440</td>\n",
       "      <td>5660</td>\n",
       "      <td>1160.0</td>\n",
       "      <td>3189.0</td>\n",
       "      <td>2527.0</td>\n",
       "      <td>55.9</td>\n",
       "      <td>59.2</td>\n",
       "      <td>1.619872</td>\n",
       "    </tr>\n",
       "    <tr>\n",
       "      <td>111</td>\n",
       "      <td>112</td>\n",
       "      <td>Pete Maravich</td>\n",
       "      <td>658</td>\n",
       "      <td>24316</td>\n",
       "      <td>15948</td>\n",
       "      <td>6187</td>\n",
       "      <td>14025</td>\n",
       "      <td>44.1</td>\n",
       "      <td>10.0</td>\n",
       "      <td>15.0</td>\n",
       "      <td>...</td>\n",
       "      <td>426.0</td>\n",
       "      <td>1421.0</td>\n",
       "      <td>2747</td>\n",
       "      <td>3563</td>\n",
       "      <td>587.0</td>\n",
       "      <td>108.0</td>\n",
       "      <td>530.0</td>\n",
       "      <td>44.1</td>\n",
       "      <td>50.0</td>\n",
       "      <td>0.805471</td>\n",
       "    </tr>\n",
       "  </tbody>\n",
       "</table>\n",
       "<p>2 rows × 24 columns</p>\n",
       "</div>"
      ],
      "text/plain": [
       "       #               Player    GP    MIN    PTS    FGM    FGA   FG%   3PM  \\\n",
       "0      1  Kareem Abdul-Jabbar  1560  57446  38387  15837  28307  55.9   1.0   \n",
       "111  112        Pete Maravich   658  24316  15948   6187  14025  44.1  10.0   \n",
       "\n",
       "      3PA  ...    OREB    DREB    REB   AST     STL     BLK     TOV  eFG%  \\\n",
       "0    18.0  ...  2975.0  9394.0  17440  5660  1160.0  3189.0  2527.0  55.9   \n",
       "111  15.0  ...   426.0  1421.0   2747  3563   587.0   108.0   530.0  44.1   \n",
       "\n",
       "      TS%      TOV%  \n",
       "0    59.2  1.619872  \n",
       "111  50.0  0.805471  \n",
       "\n",
       "[2 rows x 24 columns]"
      ]
     },
     "execution_count": 49,
     "metadata": {},
     "output_type": "execute_result"
    }
   ],
   "source": [
    "df[(df['Player'] == 'Pete Maravich') | (df['Player'] == 'Kareem Abdul-Jabbar')]"
   ]
  },
  {
   "cell_type": "markdown",
   "metadata": {},
   "source": [
    "Wir können die üblichen mathematischen Operatoren verwenden, um auf diese Weise Spalten zu erzeugen:\n",
    "- `+`, `-`, `*`, `/`, `**`, `%`, `//` (die komplette Liste der Operatoren: https://www.tutorialspoint.com/python/python_basic_operators.htm)"
   ]
  },
  {
   "cell_type": "markdown",
   "metadata": {},
   "source": [
    "**Quiz:** Erstellen Sie eine neue Spalte (\"TOT\") mit dem Total der Rebounds, Assists, Steals und Blocks, die ein Spieler in seiner Karriere gesammelt hat."
   ]
  },
  {
   "cell_type": "code",
   "execution_count": 50,
   "metadata": {},
   "outputs": [],
   "source": [
    "#Antwort\n",
    "df['TOT'] = df['REB'] + df['AST'] + df['STL'] + df['BLK']"
   ]
  },
  {
   "cell_type": "markdown",
   "metadata": {},
   "source": [
    "**Quiz:** Welche zehn Spieler haben die grössten Tot-Werte aller Zeiten?"
   ]
  },
  {
   "cell_type": "code",
   "execution_count": 52,
   "metadata": {},
   "outputs": [
    {
     "data": {
      "text/plain": [
       "0    27449.0\n",
       "1    23446.0\n",
       "2    15937.0\n",
       "3    15712.0\n",
       "4        NaN\n",
       "Name: TOT, dtype: float64"
      ]
     },
     "execution_count": 52,
     "metadata": {},
     "output_type": "execute_result"
    }
   ],
   "source": [
    "#Antwort\n",
    "df['TOT'].head()"
   ]
  },
  {
   "cell_type": "code",
   "execution_count": 60,
   "metadata": {},
   "outputs": [
    {
     "data": {
      "text/html": [
       "<div>\n",
       "<style scoped>\n",
       "    .dataframe tbody tr th:only-of-type {\n",
       "        vertical-align: middle;\n",
       "    }\n",
       "\n",
       "    .dataframe tbody tr th {\n",
       "        vertical-align: top;\n",
       "    }\n",
       "\n",
       "    .dataframe thead th {\n",
       "        text-align: right;\n",
       "    }\n",
       "</style>\n",
       "<table border=\"1\" class=\"dataframe\">\n",
       "  <thead>\n",
       "    <tr style=\"text-align: right;\">\n",
       "      <th></th>\n",
       "      <th>#</th>\n",
       "      <th>Player</th>\n",
       "      <th>GP</th>\n",
       "      <th>MIN</th>\n",
       "      <th>PTS</th>\n",
       "      <th>FGM</th>\n",
       "      <th>FGA</th>\n",
       "      <th>FG%</th>\n",
       "      <th>3PM</th>\n",
       "      <th>3PA</th>\n",
       "      <th>...</th>\n",
       "      <th>DREB</th>\n",
       "      <th>REB</th>\n",
       "      <th>AST</th>\n",
       "      <th>STL</th>\n",
       "      <th>BLK</th>\n",
       "      <th>TOV</th>\n",
       "      <th>eFG%</th>\n",
       "      <th>TS%</th>\n",
       "      <th>TOV%</th>\n",
       "      <th>TOT</th>\n",
       "    </tr>\n",
       "  </thead>\n",
       "  <tbody>\n",
       "    <tr>\n",
       "      <td>0</td>\n",
       "      <td>1</td>\n",
       "      <td>Kareem Abdul-Jabbar</td>\n",
       "      <td>1560</td>\n",
       "      <td>57446</td>\n",
       "      <td>38387</td>\n",
       "      <td>15837</td>\n",
       "      <td>28307</td>\n",
       "      <td>55.9</td>\n",
       "      <td>1.0</td>\n",
       "      <td>18.0</td>\n",
       "      <td>...</td>\n",
       "      <td>9394.0</td>\n",
       "      <td>17440</td>\n",
       "      <td>5660</td>\n",
       "      <td>1160.0</td>\n",
       "      <td>3189.0</td>\n",
       "      <td>2527.0</td>\n",
       "      <td>55.9</td>\n",
       "      <td>59.2</td>\n",
       "      <td>1.619872</td>\n",
       "      <td>27449.0</td>\n",
       "    </tr>\n",
       "    <tr>\n",
       "      <td>16</td>\n",
       "      <td>17</td>\n",
       "      <td>Kevin Garnett</td>\n",
       "      <td>1462</td>\n",
       "      <td>50412</td>\n",
       "      <td>26071</td>\n",
       "      <td>10505</td>\n",
       "      <td>21142</td>\n",
       "      <td>49.7</td>\n",
       "      <td>174.0</td>\n",
       "      <td>632.0</td>\n",
       "      <td>...</td>\n",
       "      <td>11453.0</td>\n",
       "      <td>14662</td>\n",
       "      <td>5445</td>\n",
       "      <td>1859.0</td>\n",
       "      <td>2037.0</td>\n",
       "      <td>3179.0</td>\n",
       "      <td>50.1</td>\n",
       "      <td>54.6</td>\n",
       "      <td>2.174419</td>\n",
       "      <td>24003.0</td>\n",
       "    </tr>\n",
       "    <tr>\n",
       "      <td>80</td>\n",
       "      <td>81</td>\n",
       "      <td>Jason Kidd</td>\n",
       "      <td>1391</td>\n",
       "      <td>50116</td>\n",
       "      <td>17529</td>\n",
       "      <td>6219</td>\n",
       "      <td>15557</td>\n",
       "      <td>40.0</td>\n",
       "      <td>1988.0</td>\n",
       "      <td>5701.0</td>\n",
       "      <td>...</td>\n",
       "      <td>6957.0</td>\n",
       "      <td>8725</td>\n",
       "      <td>12091</td>\n",
       "      <td>2684.0</td>\n",
       "      <td>450.0</td>\n",
       "      <td>4003.0</td>\n",
       "      <td>46.4</td>\n",
       "      <td>50.7</td>\n",
       "      <td>2.877786</td>\n",
       "      <td>23950.0</td>\n",
       "    </tr>\n",
       "    <tr>\n",
       "      <td>1</td>\n",
       "      <td>2</td>\n",
       "      <td>Karl Malone</td>\n",
       "      <td>1476</td>\n",
       "      <td>54852</td>\n",
       "      <td>36928</td>\n",
       "      <td>13528</td>\n",
       "      <td>26210</td>\n",
       "      <td>51.6</td>\n",
       "      <td>85.0</td>\n",
       "      <td>310.0</td>\n",
       "      <td>...</td>\n",
       "      <td>11406.0</td>\n",
       "      <td>14968</td>\n",
       "      <td>5248</td>\n",
       "      <td>2085.0</td>\n",
       "      <td>1145.0</td>\n",
       "      <td>4524.0</td>\n",
       "      <td>51.8</td>\n",
       "      <td>57.7</td>\n",
       "      <td>3.065041</td>\n",
       "      <td>23446.0</td>\n",
       "    </tr>\n",
       "    <tr>\n",
       "      <td>44</td>\n",
       "      <td>45</td>\n",
       "      <td>John Stockton</td>\n",
       "      <td>1504</td>\n",
       "      <td>47766</td>\n",
       "      <td>19711</td>\n",
       "      <td>7039</td>\n",
       "      <td>13658</td>\n",
       "      <td>51.5</td>\n",
       "      <td>845.0</td>\n",
       "      <td>2202.0</td>\n",
       "      <td>...</td>\n",
       "      <td>3085.0</td>\n",
       "      <td>4051</td>\n",
       "      <td>15806</td>\n",
       "      <td>3265.0</td>\n",
       "      <td>315.0</td>\n",
       "      <td>4244.0</td>\n",
       "      <td>54.6</td>\n",
       "      <td>60.8</td>\n",
       "      <td>2.821809</td>\n",
       "      <td>23437.0</td>\n",
       "    </tr>\n",
       "    <tr>\n",
       "      <td>...</td>\n",
       "      <td>...</td>\n",
       "      <td>...</td>\n",
       "      <td>...</td>\n",
       "      <td>...</td>\n",
       "      <td>...</td>\n",
       "      <td>...</td>\n",
       "      <td>...</td>\n",
       "      <td>...</td>\n",
       "      <td>...</td>\n",
       "      <td>...</td>\n",
       "      <td>...</td>\n",
       "      <td>...</td>\n",
       "      <td>...</td>\n",
       "      <td>...</td>\n",
       "      <td>...</td>\n",
       "      <td>...</td>\n",
       "      <td>...</td>\n",
       "      <td>...</td>\n",
       "      <td>...</td>\n",
       "      <td>...</td>\n",
       "      <td>...</td>\n",
       "    </tr>\n",
       "    <tr>\n",
       "      <td>1150</td>\n",
       "      <td>1151</td>\n",
       "      <td>Chuck Cooper</td>\n",
       "      <td>409</td>\n",
       "      <td>7964</td>\n",
       "      <td>2725</td>\n",
       "      <td>933</td>\n",
       "      <td>2750</td>\n",
       "      <td>33.9</td>\n",
       "      <td>NaN</td>\n",
       "      <td>NaN</td>\n",
       "      <td>...</td>\n",
       "      <td>NaN</td>\n",
       "      <td>2431</td>\n",
       "      <td>734</td>\n",
       "      <td>NaN</td>\n",
       "      <td>NaN</td>\n",
       "      <td>NaN</td>\n",
       "      <td>33.9</td>\n",
       "      <td>41.8</td>\n",
       "      <td>NaN</td>\n",
       "      <td>NaN</td>\n",
       "    </tr>\n",
       "    <tr>\n",
       "      <td>1156</td>\n",
       "      <td>1157</td>\n",
       "      <td>Hub Reed</td>\n",
       "      <td>479</td>\n",
       "      <td>7870</td>\n",
       "      <td>2618</td>\n",
       "      <td>1081</td>\n",
       "      <td>2481</td>\n",
       "      <td>43.6</td>\n",
       "      <td>NaN</td>\n",
       "      <td>NaN</td>\n",
       "      <td>...</td>\n",
       "      <td>NaN</td>\n",
       "      <td>2449</td>\n",
       "      <td>367</td>\n",
       "      <td>NaN</td>\n",
       "      <td>NaN</td>\n",
       "      <td>NaN</td>\n",
       "      <td>43.6</td>\n",
       "      <td>47.5</td>\n",
       "      <td>NaN</td>\n",
       "      <td>NaN</td>\n",
       "    </tr>\n",
       "    <tr>\n",
       "      <td>1179</td>\n",
       "      <td>1180</td>\n",
       "      <td>John Mahnken</td>\n",
       "      <td>414</td>\n",
       "      <td>1352</td>\n",
       "      <td>2388</td>\n",
       "      <td>966</td>\n",
       "      <td>3557</td>\n",
       "      <td>27.2</td>\n",
       "      <td>NaN</td>\n",
       "      <td>NaN</td>\n",
       "      <td>...</td>\n",
       "      <td>NaN</td>\n",
       "      <td>533</td>\n",
       "      <td>539</td>\n",
       "      <td>NaN</td>\n",
       "      <td>NaN</td>\n",
       "      <td>NaN</td>\n",
       "      <td>27.2</td>\n",
       "      <td>30.9</td>\n",
       "      <td>NaN</td>\n",
       "      <td>NaN</td>\n",
       "    </tr>\n",
       "    <tr>\n",
       "      <td>1197</td>\n",
       "      <td>1198</td>\n",
       "      <td>George Wilson</td>\n",
       "      <td>410</td>\n",
       "      <td>5768</td>\n",
       "      <td>2216</td>\n",
       "      <td>841</td>\n",
       "      <td>2261</td>\n",
       "      <td>37.2</td>\n",
       "      <td>NaN</td>\n",
       "      <td>NaN</td>\n",
       "      <td>...</td>\n",
       "      <td>NaN</td>\n",
       "      <td>2144</td>\n",
       "      <td>307</td>\n",
       "      <td>NaN</td>\n",
       "      <td>NaN</td>\n",
       "      <td>NaN</td>\n",
       "      <td>37.2</td>\n",
       "      <td>42.5</td>\n",
       "      <td>NaN</td>\n",
       "      <td>NaN</td>\n",
       "    </tr>\n",
       "    <tr>\n",
       "      <td>1205</td>\n",
       "      <td>1206</td>\n",
       "      <td>Lew Hitch</td>\n",
       "      <td>414</td>\n",
       "      <td>8364</td>\n",
       "      <td>2075</td>\n",
       "      <td>759</td>\n",
       "      <td>2021</td>\n",
       "      <td>37.6</td>\n",
       "      <td>NaN</td>\n",
       "      <td>NaN</td>\n",
       "      <td>...</td>\n",
       "      <td>NaN</td>\n",
       "      <td>2183</td>\n",
       "      <td>499</td>\n",
       "      <td>NaN</td>\n",
       "      <td>NaN</td>\n",
       "      <td>NaN</td>\n",
       "      <td>37.6</td>\n",
       "      <td>43.5</td>\n",
       "      <td>NaN</td>\n",
       "      <td>NaN</td>\n",
       "    </tr>\n",
       "  </tbody>\n",
       "</table>\n",
       "<p>1238 rows × 25 columns</p>\n",
       "</div>"
      ],
      "text/plain": [
       "         #               Player    GP    MIN    PTS    FGM    FGA   FG%  \\\n",
       "0        1  Kareem Abdul-Jabbar  1560  57446  38387  15837  28307  55.9   \n",
       "16      17        Kevin Garnett  1462  50412  26071  10505  21142  49.7   \n",
       "80      81           Jason Kidd  1391  50116  17529   6219  15557  40.0   \n",
       "1        2          Karl Malone  1476  54852  36928  13528  26210  51.6   \n",
       "44      45        John Stockton  1504  47766  19711   7039  13658  51.5   \n",
       "...    ...                  ...   ...    ...    ...    ...    ...   ...   \n",
       "1150  1151         Chuck Cooper   409   7964   2725    933   2750  33.9   \n",
       "1156  1157             Hub Reed   479   7870   2618   1081   2481  43.6   \n",
       "1179  1180         John Mahnken   414   1352   2388    966   3557  27.2   \n",
       "1197  1198        George Wilson   410   5768   2216    841   2261  37.2   \n",
       "1205  1206            Lew Hitch   414   8364   2075    759   2021  37.6   \n",
       "\n",
       "         3PM     3PA  ...     DREB    REB    AST     STL     BLK     TOV  \\\n",
       "0        1.0    18.0  ...   9394.0  17440   5660  1160.0  3189.0  2527.0   \n",
       "16     174.0   632.0  ...  11453.0  14662   5445  1859.0  2037.0  3179.0   \n",
       "80    1988.0  5701.0  ...   6957.0   8725  12091  2684.0   450.0  4003.0   \n",
       "1       85.0   310.0  ...  11406.0  14968   5248  2085.0  1145.0  4524.0   \n",
       "44     845.0  2202.0  ...   3085.0   4051  15806  3265.0   315.0  4244.0   \n",
       "...      ...     ...  ...      ...    ...    ...     ...     ...     ...   \n",
       "1150     NaN     NaN  ...      NaN   2431    734     NaN     NaN     NaN   \n",
       "1156     NaN     NaN  ...      NaN   2449    367     NaN     NaN     NaN   \n",
       "1179     NaN     NaN  ...      NaN    533    539     NaN     NaN     NaN   \n",
       "1197     NaN     NaN  ...      NaN   2144    307     NaN     NaN     NaN   \n",
       "1205     NaN     NaN  ...      NaN   2183    499     NaN     NaN     NaN   \n",
       "\n",
       "      eFG%   TS%      TOV%      TOT  \n",
       "0     55.9  59.2  1.619872  27449.0  \n",
       "16    50.1  54.6  2.174419  24003.0  \n",
       "80    46.4  50.7  2.877786  23950.0  \n",
       "1     51.8  57.7  3.065041  23446.0  \n",
       "44    54.6  60.8  2.821809  23437.0  \n",
       "...    ...   ...       ...      ...  \n",
       "1150  33.9  41.8       NaN      NaN  \n",
       "1156  43.6  47.5       NaN      NaN  \n",
       "1179  27.2  30.9       NaN      NaN  \n",
       "1197  37.2  42.5       NaN      NaN  \n",
       "1205  37.6  43.5       NaN      NaN  \n",
       "\n",
       "[1238 rows x 25 columns]"
      ]
     },
     "execution_count": 60,
     "metadata": {},
     "output_type": "execute_result"
    }
   ],
   "source": [
    "df.sort_values('TOT', ascending = False)"
   ]
  },
  {
   "cell_type": "markdown",
   "metadata": {},
   "source": [
    "## Sortieren nach bestimmten Kriterien"
   ]
  },
  {
   "cell_type": "markdown",
   "metadata": {},
   "source": [
    "Wir haben die Funktion `sort_values()` bereits kennengelernt beim Sortieren von einfachen Serien.\n",
    "\n",
    "Nun benutzen wir sie, um ganze Dataframes zu sortieren. Dabei müssen wir jeweils angeben, nach welchen Spalten wir sortieren wollen und in welcher Richtung wir die Einträge anzeigen lassen."
   ]
  },
  {
   "cell_type": "markdown",
   "metadata": {},
   "source": [
    "**Beispiel:** Sortieren nach der Anzahl Ballverluste pro Spiel, mit der tiefsten Quote zuerst (wir zeigen nur die ersten 10 Einträge an)"
   ]
  },
  {
   "cell_type": "code",
   "execution_count": null,
   "metadata": {},
   "outputs": [],
   "source": [
    "df.sort_values('TOV%').head(10)"
   ]
  },
  {
   "cell_type": "markdown",
   "metadata": {},
   "source": [
    "**Beispiel:** Sortieren nach der Wurfquote pro Spiel, mit der höchsten Quote zuerst (wir zeigen nur die ersten 10 Einträge an)"
   ]
  },
  {
   "cell_type": "code",
   "execution_count": null,
   "metadata": {},
   "outputs": [],
   "source": [
    "df.sort_values('FG%', ascending=False).head(10)"
   ]
  },
  {
   "cell_type": "markdown",
   "metadata": {},
   "source": [
    "Etwas nervig: Auch wenn wir nach einzelnen Kriterien sortieren, zeigt Pandas immer die ganze Tabelle an."
   ]
  },
  {
   "cell_type": "markdown",
   "metadata": {},
   "source": [
    "## Einzelne Spalten anzeigen"
   ]
  },
  {
   "cell_type": "markdown",
   "metadata": {},
   "source": [
    "Wir können dem entgegenwirken, indem wir nur einzelne Spalten aus dem Dataframe selektieren.\n",
    "\n",
    "Dazu geben wir eine Liste der Felder an, die wir anzeigen wollen."
   ]
  },
  {
   "cell_type": "markdown",
   "metadata": {},
   "source": [
    "**Beispiel:** Die fünf besten Spieler der Geschichte: Name, Punkte, Wurfquote, Ballverlustquote"
   ]
  },
  {
   "cell_type": "markdown",
   "metadata": {},
   "source": [
    "Zuerst die Liste..."
   ]
  },
  {
   "cell_type": "code",
   "execution_count": 61,
   "metadata": {},
   "outputs": [],
   "source": [
    "felderliste = ['Player', 'PTS', 'FG%', 'TOV%']"
   ]
  },
  {
   "cell_type": "markdown",
   "metadata": {},
   "source": [
    "... dann die Abfrage"
   ]
  },
  {
   "cell_type": "code",
   "execution_count": 62,
   "metadata": {},
   "outputs": [
    {
     "data": {
      "text/html": [
       "<div>\n",
       "<style scoped>\n",
       "    .dataframe tbody tr th:only-of-type {\n",
       "        vertical-align: middle;\n",
       "    }\n",
       "\n",
       "    .dataframe tbody tr th {\n",
       "        vertical-align: top;\n",
       "    }\n",
       "\n",
       "    .dataframe thead th {\n",
       "        text-align: right;\n",
       "    }\n",
       "</style>\n",
       "<table border=\"1\" class=\"dataframe\">\n",
       "  <thead>\n",
       "    <tr style=\"text-align: right;\">\n",
       "      <th></th>\n",
       "      <th>Player</th>\n",
       "      <th>PTS</th>\n",
       "      <th>FG%</th>\n",
       "      <th>TOV%</th>\n",
       "    </tr>\n",
       "  </thead>\n",
       "  <tbody>\n",
       "    <tr>\n",
       "      <td>0</td>\n",
       "      <td>Kareem Abdul-Jabbar</td>\n",
       "      <td>38387</td>\n",
       "      <td>55.9</td>\n",
       "      <td>1.619872</td>\n",
       "    </tr>\n",
       "    <tr>\n",
       "      <td>1</td>\n",
       "      <td>Karl Malone</td>\n",
       "      <td>36928</td>\n",
       "      <td>51.6</td>\n",
       "      <td>3.065041</td>\n",
       "    </tr>\n",
       "    <tr>\n",
       "      <td>2</td>\n",
       "      <td>Kobe Bryant</td>\n",
       "      <td>33643</td>\n",
       "      <td>44.7</td>\n",
       "      <td>2.979198</td>\n",
       "    </tr>\n",
       "    <tr>\n",
       "      <td>3</td>\n",
       "      <td>Michael Jordan</td>\n",
       "      <td>32292</td>\n",
       "      <td>49.7</td>\n",
       "      <td>2.727612</td>\n",
       "    </tr>\n",
       "    <tr>\n",
       "      <td>4</td>\n",
       "      <td>Wilt Chamberlain</td>\n",
       "      <td>31419</td>\n",
       "      <td>54.0</td>\n",
       "      <td>NaN</td>\n",
       "    </tr>\n",
       "  </tbody>\n",
       "</table>\n",
       "</div>"
      ],
      "text/plain": [
       "                Player    PTS   FG%      TOV%\n",
       "0  Kareem Abdul-Jabbar  38387  55.9  1.619872\n",
       "1          Karl Malone  36928  51.6  3.065041\n",
       "2          Kobe Bryant  33643  44.7  2.979198\n",
       "3       Michael Jordan  32292  49.7  2.727612\n",
       "4     Wilt Chamberlain  31419  54.0       NaN"
      ]
     },
     "execution_count": 62,
     "metadata": {},
     "output_type": "execute_result"
    }
   ],
   "source": [
    "df[felderliste].head(5)"
   ]
  },
  {
   "cell_type": "markdown",
   "metadata": {},
   "source": [
    "Oder beides in einem Schritt:"
   ]
  },
  {
   "cell_type": "code",
   "execution_count": null,
   "metadata": {},
   "outputs": [],
   "source": [
    "df[['Player', 'PTS', 'FG%', 'TOV]].head(5) \n",
    "#hier ist eine liste in der eckigen klammer, darum 2x eckige klammer"
   ]
  },
  {
   "cell_type": "markdown",
   "metadata": {},
   "source": [
    "Wir haben nun alle Zutaten beisammen, um unsere eigentliche Frage zu beantworten:"
   ]
  },
  {
   "cell_type": "markdown",
   "metadata": {},
   "source": [
    "## Wer ist der beste Basketballer aller Zeiten?"
   ]
  },
  {
   "cell_type": "markdown",
   "metadata": {},
   "source": [
    "Natürlich erstellen wir dazu unsere eigene Kennzahl, anhand derer wir die Rangliste erstellen!"
   ]
  },
  {
   "cell_type": "markdown",
   "metadata": {},
   "source": [
    "**TODO:** Erfinden Sie eine eigene Kennzahl, basierend auf einer Kombination von bestehenden Statistiken (Wurfquote, Rebounds, etc.). Speichern Sie die Kennzahl in einer neuen Spalte namens \"KEN\" ab. Sortieren Sie die Spieler nach dieser Kennzahl und zeigen Sie die Top 10 in einer Tabelle mit den folgenden Spalten an: Name, KEN. Speichern Sie diese Tabelle in einem neuen Dataframe namens \"Top10\" ab."
   ]
  },
  {
   "cell_type": "code",
   "execution_count": 78,
   "metadata": {},
   "outputs": [],
   "source": [
    "# df['KEN'] erstellen\n",
    "df['KEN'] = df['BLK'] / df['GP']"
   ]
  },
  {
   "cell_type": "code",
   "execution_count": 80,
   "metadata": {},
   "outputs": [
    {
     "data": {
      "text/html": [
       "<div>\n",
       "<style scoped>\n",
       "    .dataframe tbody tr th:only-of-type {\n",
       "        vertical-align: middle;\n",
       "    }\n",
       "\n",
       "    .dataframe tbody tr th {\n",
       "        vertical-align: top;\n",
       "    }\n",
       "\n",
       "    .dataframe thead th {\n",
       "        text-align: right;\n",
       "    }\n",
       "</style>\n",
       "<table border=\"1\" class=\"dataframe\">\n",
       "  <thead>\n",
       "    <tr style=\"text-align: right;\">\n",
       "      <th></th>\n",
       "      <th>#</th>\n",
       "      <th>Player</th>\n",
       "      <th>GP</th>\n",
       "      <th>MIN</th>\n",
       "      <th>PTS</th>\n",
       "      <th>FGM</th>\n",
       "      <th>FGA</th>\n",
       "      <th>FG%</th>\n",
       "      <th>3PM</th>\n",
       "      <th>3PA</th>\n",
       "      <th>...</th>\n",
       "      <th>REB</th>\n",
       "      <th>AST</th>\n",
       "      <th>STL</th>\n",
       "      <th>BLK</th>\n",
       "      <th>TOV</th>\n",
       "      <th>eFG%</th>\n",
       "      <th>TS%</th>\n",
       "      <th>TOV%</th>\n",
       "      <th>TOT</th>\n",
       "      <th>KEN</th>\n",
       "    </tr>\n",
       "  </thead>\n",
       "  <tbody>\n",
       "    <tr>\n",
       "      <td>794</td>\n",
       "      <td>795</td>\n",
       "      <td>Mark Eaton</td>\n",
       "      <td>875</td>\n",
       "      <td>25169</td>\n",
       "      <td>5216</td>\n",
       "      <td>2072</td>\n",
       "      <td>4526</td>\n",
       "      <td>45.8</td>\n",
       "      <td>0.0</td>\n",
       "      <td>2.0</td>\n",
       "      <td>...</td>\n",
       "      <td>6939</td>\n",
       "      <td>840</td>\n",
       "      <td>368.0</td>\n",
       "      <td>3064.0</td>\n",
       "      <td>1293.0</td>\n",
       "      <td>45.8</td>\n",
       "      <td>49.6</td>\n",
       "      <td>1.477714</td>\n",
       "      <td>11211.0</td>\n",
       "      <td>3.501714</td>\n",
       "    </tr>\n",
       "    <tr>\n",
       "      <td>1225</td>\n",
       "      <td>1226</td>\n",
       "      <td>Manute Bol</td>\n",
       "      <td>624</td>\n",
       "      <td>11698</td>\n",
       "      <td>1599</td>\n",
       "      <td>665</td>\n",
       "      <td>1635</td>\n",
       "      <td>40.7</td>\n",
       "      <td>43.0</td>\n",
       "      <td>205.0</td>\n",
       "      <td>...</td>\n",
       "      <td>2647</td>\n",
       "      <td>171</td>\n",
       "      <td>126.0</td>\n",
       "      <td>2086.0</td>\n",
       "      <td>451.0</td>\n",
       "      <td>42.0</td>\n",
       "      <td>44.1</td>\n",
       "      <td>0.722756</td>\n",
       "      <td>5030.0</td>\n",
       "      <td>3.342949</td>\n",
       "    </tr>\n",
       "    <tr>\n",
       "      <td>10</td>\n",
       "      <td>11</td>\n",
       "      <td>Hakeem Olajuwon</td>\n",
       "      <td>1238</td>\n",
       "      <td>44218</td>\n",
       "      <td>26946</td>\n",
       "      <td>10749</td>\n",
       "      <td>20991</td>\n",
       "      <td>51.2</td>\n",
       "      <td>25.0</td>\n",
       "      <td>124.0</td>\n",
       "      <td>...</td>\n",
       "      <td>13748</td>\n",
       "      <td>3058</td>\n",
       "      <td>2162.0</td>\n",
       "      <td>3830.0</td>\n",
       "      <td>3667.0</td>\n",
       "      <td>51.3</td>\n",
       "      <td>55.3</td>\n",
       "      <td>2.962036</td>\n",
       "      <td>22798.0</td>\n",
       "      <td>3.093700</td>\n",
       "    </tr>\n",
       "    <tr>\n",
       "      <td>37</td>\n",
       "      <td>38</td>\n",
       "      <td>David Robinson</td>\n",
       "      <td>987</td>\n",
       "      <td>34273</td>\n",
       "      <td>20790</td>\n",
       "      <td>7365</td>\n",
       "      <td>14221</td>\n",
       "      <td>51.8</td>\n",
       "      <td>25.0</td>\n",
       "      <td>100.0</td>\n",
       "      <td>...</td>\n",
       "      <td>10497</td>\n",
       "      <td>2441</td>\n",
       "      <td>1388.0</td>\n",
       "      <td>2954.0</td>\n",
       "      <td>2417.0</td>\n",
       "      <td>51.9</td>\n",
       "      <td>58.3</td>\n",
       "      <td>2.448835</td>\n",
       "      <td>17280.0</td>\n",
       "      <td>2.992908</td>\n",
       "    </tr>\n",
       "    <tr>\n",
       "      <td>157</td>\n",
       "      <td>158</td>\n",
       "      <td>Alonzo Mourning</td>\n",
       "      <td>838</td>\n",
       "      <td>25977</td>\n",
       "      <td>14311</td>\n",
       "      <td>5116</td>\n",
       "      <td>9701</td>\n",
       "      <td>52.7</td>\n",
       "      <td>22.0</td>\n",
       "      <td>89.0</td>\n",
       "      <td>...</td>\n",
       "      <td>7137</td>\n",
       "      <td>946</td>\n",
       "      <td>414.0</td>\n",
       "      <td>2356.0</td>\n",
       "      <td>2209.0</td>\n",
       "      <td>52.9</td>\n",
       "      <td>58.3</td>\n",
       "      <td>2.636038</td>\n",
       "      <td>10853.0</td>\n",
       "      <td>2.811456</td>\n",
       "    </tr>\n",
       "    <tr>\n",
       "      <td>260</td>\n",
       "      <td>261</td>\n",
       "      <td>Dikembe Mutombo</td>\n",
       "      <td>1196</td>\n",
       "      <td>36795</td>\n",
       "      <td>11729</td>\n",
       "      <td>4169</td>\n",
       "      <td>8045</td>\n",
       "      <td>51.8</td>\n",
       "      <td>0.0</td>\n",
       "      <td>2.0</td>\n",
       "      <td>...</td>\n",
       "      <td>12359</td>\n",
       "      <td>1240</td>\n",
       "      <td>494.0</td>\n",
       "      <td>3289.0</td>\n",
       "      <td>2173.0</td>\n",
       "      <td>51.8</td>\n",
       "      <td>57.3</td>\n",
       "      <td>1.816890</td>\n",
       "      <td>17382.0</td>\n",
       "      <td>2.750000</td>\n",
       "    </tr>\n",
       "    <tr>\n",
       "      <td>617</td>\n",
       "      <td>618</td>\n",
       "      <td>Shawn Bradley</td>\n",
       "      <td>832</td>\n",
       "      <td>19531</td>\n",
       "      <td>6752</td>\n",
       "      <td>2713</td>\n",
       "      <td>5935</td>\n",
       "      <td>45.7</td>\n",
       "      <td>4.0</td>\n",
       "      <td>39.0</td>\n",
       "      <td>...</td>\n",
       "      <td>5268</td>\n",
       "      <td>573</td>\n",
       "      <td>532.0</td>\n",
       "      <td>2119.0</td>\n",
       "      <td>1059.0</td>\n",
       "      <td>45.7</td>\n",
       "      <td>50.0</td>\n",
       "      <td>1.272837</td>\n",
       "      <td>8492.0</td>\n",
       "      <td>2.546875</td>\n",
       "    </tr>\n",
       "    <tr>\n",
       "      <td>22</td>\n",
       "      <td>23</td>\n",
       "      <td>Patrick Ewing</td>\n",
       "      <td>1183</td>\n",
       "      <td>40594</td>\n",
       "      <td>24815</td>\n",
       "      <td>9702</td>\n",
       "      <td>19241</td>\n",
       "      <td>50.4</td>\n",
       "      <td>19.0</td>\n",
       "      <td>125.0</td>\n",
       "      <td>...</td>\n",
       "      <td>11607</td>\n",
       "      <td>2215</td>\n",
       "      <td>1136.0</td>\n",
       "      <td>2894.0</td>\n",
       "      <td>3537.0</td>\n",
       "      <td>50.5</td>\n",
       "      <td>55.3</td>\n",
       "      <td>2.989856</td>\n",
       "      <td>17852.0</td>\n",
       "      <td>2.446323</td>\n",
       "    </tr>\n",
       "    <tr>\n",
       "      <td>714</td>\n",
       "      <td>715</td>\n",
       "      <td>Theo Ratliff</td>\n",
       "      <td>810</td>\n",
       "      <td>20500</td>\n",
       "      <td>5809</td>\n",
       "      <td>2207</td>\n",
       "      <td>4451</td>\n",
       "      <td>49.6</td>\n",
       "      <td>0.0</td>\n",
       "      <td>2.0</td>\n",
       "      <td>...</td>\n",
       "      <td>4596</td>\n",
       "      <td>465</td>\n",
       "      <td>393.0</td>\n",
       "      <td>1968.0</td>\n",
       "      <td>1001.0</td>\n",
       "      <td>49.6</td>\n",
       "      <td>54.6</td>\n",
       "      <td>1.235802</td>\n",
       "      <td>7422.0</td>\n",
       "      <td>2.429630</td>\n",
       "    </tr>\n",
       "    <tr>\n",
       "      <td>381</td>\n",
       "      <td>382</td>\n",
       "      <td>Anthony Davis</td>\n",
       "      <td>410</td>\n",
       "      <td>14258</td>\n",
       "      <td>9607</td>\n",
       "      <td>3623</td>\n",
       "      <td>7004</td>\n",
       "      <td>51.7</td>\n",
       "      <td>133.0</td>\n",
       "      <td>431.0</td>\n",
       "      <td>...</td>\n",
       "      <td>4234</td>\n",
       "      <td>764</td>\n",
       "      <td>551.0</td>\n",
       "      <td>986.0</td>\n",
       "      <td>757.0</td>\n",
       "      <td>52.7</td>\n",
       "      <td>58.3</td>\n",
       "      <td>1.846341</td>\n",
       "      <td>6535.0</td>\n",
       "      <td>2.404878</td>\n",
       "    </tr>\n",
       "  </tbody>\n",
       "</table>\n",
       "<p>10 rows × 26 columns</p>\n",
       "</div>"
      ],
      "text/plain": [
       "         #           Player    GP    MIN    PTS    FGM    FGA   FG%    3PM  \\\n",
       "794    795       Mark Eaton   875  25169   5216   2072   4526  45.8    0.0   \n",
       "1225  1226       Manute Bol   624  11698   1599    665   1635  40.7   43.0   \n",
       "10      11  Hakeem Olajuwon  1238  44218  26946  10749  20991  51.2   25.0   \n",
       "37      38   David Robinson   987  34273  20790   7365  14221  51.8   25.0   \n",
       "157    158  Alonzo Mourning   838  25977  14311   5116   9701  52.7   22.0   \n",
       "260    261  Dikembe Mutombo  1196  36795  11729   4169   8045  51.8    0.0   \n",
       "617    618    Shawn Bradley   832  19531   6752   2713   5935  45.7    4.0   \n",
       "22      23    Patrick Ewing  1183  40594  24815   9702  19241  50.4   19.0   \n",
       "714    715     Theo Ratliff   810  20500   5809   2207   4451  49.6    0.0   \n",
       "381    382    Anthony Davis   410  14258   9607   3623   7004  51.7  133.0   \n",
       "\n",
       "        3PA  ...    REB   AST     STL     BLK     TOV  eFG%   TS%      TOV%  \\\n",
       "794     2.0  ...   6939   840   368.0  3064.0  1293.0  45.8  49.6  1.477714   \n",
       "1225  205.0  ...   2647   171   126.0  2086.0   451.0  42.0  44.1  0.722756   \n",
       "10    124.0  ...  13748  3058  2162.0  3830.0  3667.0  51.3  55.3  2.962036   \n",
       "37    100.0  ...  10497  2441  1388.0  2954.0  2417.0  51.9  58.3  2.448835   \n",
       "157    89.0  ...   7137   946   414.0  2356.0  2209.0  52.9  58.3  2.636038   \n",
       "260     2.0  ...  12359  1240   494.0  3289.0  2173.0  51.8  57.3  1.816890   \n",
       "617    39.0  ...   5268   573   532.0  2119.0  1059.0  45.7  50.0  1.272837   \n",
       "22    125.0  ...  11607  2215  1136.0  2894.0  3537.0  50.5  55.3  2.989856   \n",
       "714     2.0  ...   4596   465   393.0  1968.0  1001.0  49.6  54.6  1.235802   \n",
       "381   431.0  ...   4234   764   551.0   986.0   757.0  52.7  58.3  1.846341   \n",
       "\n",
       "          TOT       KEN  \n",
       "794   11211.0  3.501714  \n",
       "1225   5030.0  3.342949  \n",
       "10    22798.0  3.093700  \n",
       "37    17280.0  2.992908  \n",
       "157   10853.0  2.811456  \n",
       "260   17382.0  2.750000  \n",
       "617    8492.0  2.546875  \n",
       "22    17852.0  2.446323  \n",
       "714    7422.0  2.429630  \n",
       "381    6535.0  2.404878  \n",
       "\n",
       "[10 rows x 26 columns]"
      ]
     },
     "execution_count": 80,
     "metadata": {},
     "output_type": "execute_result"
    }
   ],
   "source": [
    "# df nach 'KEN' sortieren, Top 10\n",
    "df.sort_values('KEN', ascending=False).head(10)"
   ]
  },
  {
   "cell_type": "code",
   "execution_count": 79,
   "metadata": {},
   "outputs": [
    {
     "data": {
      "text/html": [
       "<div>\n",
       "<style scoped>\n",
       "    .dataframe tbody tr th:only-of-type {\n",
       "        vertical-align: middle;\n",
       "    }\n",
       "\n",
       "    .dataframe tbody tr th {\n",
       "        vertical-align: top;\n",
       "    }\n",
       "\n",
       "    .dataframe thead th {\n",
       "        text-align: right;\n",
       "    }\n",
       "</style>\n",
       "<table border=\"1\" class=\"dataframe\">\n",
       "  <thead>\n",
       "    <tr style=\"text-align: right;\">\n",
       "      <th></th>\n",
       "      <th>Player</th>\n",
       "      <th>KEN</th>\n",
       "    </tr>\n",
       "  </thead>\n",
       "  <tbody>\n",
       "    <tr>\n",
       "      <td>794</td>\n",
       "      <td>Mark Eaton</td>\n",
       "      <td>3.501714</td>\n",
       "    </tr>\n",
       "  </tbody>\n",
       "</table>\n",
       "</div>"
      ],
      "text/plain": [
       "         Player       KEN\n",
       "794  Mark Eaton  3.501714"
      ]
     },
     "execution_count": 79,
     "metadata": {},
     "output_type": "execute_result"
    }
   ],
   "source": [
    "# Liste in neuem dataframe 'Top10' \n",
    "df.sort_values('KEN', ascending = False)[['Player', 'KEN']].head(10)\n",
    "                                                                "
   ]
  },
  {
   "cell_type": "markdown",
   "metadata": {},
   "source": [
    "**Und:** Wer ist der beste NBA-Spieler aller Zeiten?"
   ]
  },
  {
   "cell_type": "code",
   "execution_count": 81,
   "metadata": {},
   "outputs": [],
   "source": [
    "#Antwort\n",
    "top10 = df.sort_values('KEN', ascending = False)[['Player', 'KEN']].head(10)"
   ]
  },
  {
   "cell_type": "markdown",
   "metadata": {},
   "source": [
    "## Resultat speichern"
   ]
  },
  {
   "cell_type": "markdown",
   "metadata": {},
   "source": [
    "Um die Tabelle weiter zu verwenden, zum Beispiel für einen Graph in einem anderen Programm, können wir sie exportieren. Wir gehen dabei ähnlich vor wie beim öffnen, nur umgekehrt. Wir wählen dazu das Datenformat csv."
   ]
  },
  {
   "cell_type": "code",
   "execution_count": null,
   "metadata": {},
   "outputs": [],
   "source": [
    "path = 'dataprojects/nba-players/meine-alltimeliste.csv'"
   ]
  },
  {
   "cell_type": "markdown",
   "metadata": {},
   "source": [
    "Wichtig: Wenn wir den Index nicht mitspeichern wollen (das sind die fetten Zahlen am Rand), müssen wir das mitteilen."
   ]
  },
  {
   "cell_type": "code",
   "execution_count": 83,
   "metadata": {},
   "outputs": [],
   "source": [
    "top10.to_csv(path, index=False)"
   ]
  },
  {
   "cell_type": "markdown",
   "metadata": {},
   "source": [
    "**Check: **Hat es funktioniert?"
   ]
  },
  {
   "cell_type": "code",
   "execution_count": 84,
   "metadata": {},
   "outputs": [],
   "source": [
    "check = pd.read_csv(path)"
   ]
  },
  {
   "cell_type": "code",
   "execution_count": 85,
   "metadata": {},
   "outputs": [
    {
     "data": {
      "text/html": [
       "<div>\n",
       "<style scoped>\n",
       "    .dataframe tbody tr th:only-of-type {\n",
       "        vertical-align: middle;\n",
       "    }\n",
       "\n",
       "    .dataframe tbody tr th {\n",
       "        vertical-align: top;\n",
       "    }\n",
       "\n",
       "    .dataframe thead th {\n",
       "        text-align: right;\n",
       "    }\n",
       "</style>\n",
       "<table border=\"1\" class=\"dataframe\">\n",
       "  <thead>\n",
       "    <tr style=\"text-align: right;\">\n",
       "      <th></th>\n",
       "      <th>Player</th>\n",
       "      <th>KEN</th>\n",
       "    </tr>\n",
       "  </thead>\n",
       "  <tbody>\n",
       "    <tr>\n",
       "      <td>0</td>\n",
       "      <td>Mark Eaton</td>\n",
       "      <td>3.501714</td>\n",
       "    </tr>\n",
       "    <tr>\n",
       "      <td>1</td>\n",
       "      <td>Manute Bol</td>\n",
       "      <td>3.342949</td>\n",
       "    </tr>\n",
       "    <tr>\n",
       "      <td>2</td>\n",
       "      <td>Hakeem Olajuwon</td>\n",
       "      <td>3.093700</td>\n",
       "    </tr>\n",
       "    <tr>\n",
       "      <td>3</td>\n",
       "      <td>David Robinson</td>\n",
       "      <td>2.992908</td>\n",
       "    </tr>\n",
       "    <tr>\n",
       "      <td>4</td>\n",
       "      <td>Alonzo Mourning</td>\n",
       "      <td>2.811456</td>\n",
       "    </tr>\n",
       "    <tr>\n",
       "      <td>5</td>\n",
       "      <td>Dikembe Mutombo</td>\n",
       "      <td>2.750000</td>\n",
       "    </tr>\n",
       "    <tr>\n",
       "      <td>6</td>\n",
       "      <td>Shawn Bradley</td>\n",
       "      <td>2.546875</td>\n",
       "    </tr>\n",
       "    <tr>\n",
       "      <td>7</td>\n",
       "      <td>Patrick Ewing</td>\n",
       "      <td>2.446323</td>\n",
       "    </tr>\n",
       "    <tr>\n",
       "      <td>8</td>\n",
       "      <td>Theo Ratliff</td>\n",
       "      <td>2.429630</td>\n",
       "    </tr>\n",
       "    <tr>\n",
       "      <td>9</td>\n",
       "      <td>Anthony Davis</td>\n",
       "      <td>2.404878</td>\n",
       "    </tr>\n",
       "  </tbody>\n",
       "</table>\n",
       "</div>"
      ],
      "text/plain": [
       "            Player       KEN\n",
       "0       Mark Eaton  3.501714\n",
       "1       Manute Bol  3.342949\n",
       "2  Hakeem Olajuwon  3.093700\n",
       "3   David Robinson  2.992908\n",
       "4  Alonzo Mourning  2.811456\n",
       "5  Dikembe Mutombo  2.750000\n",
       "6    Shawn Bradley  2.546875\n",
       "7    Patrick Ewing  2.446323\n",
       "8     Theo Ratliff  2.429630\n",
       "9    Anthony Davis  2.404878"
      ]
     },
     "execution_count": 85,
     "metadata": {},
     "output_type": "execute_result"
    }
   ],
   "source": [
    "check"
   ]
  },
  {
   "cell_type": "markdown",
   "metadata": {},
   "source": [
    "## Plotting Level 2"
   ]
  },
  {
   "cell_type": "markdown",
   "metadata": {},
   "source": [
    "Es gibt nicht nur Bar- und Linecharts, sondern auch weitere Chartformate, die sich in Pandas recht praktisch generieren lassen."
   ]
  },
  {
   "cell_type": "markdown",
   "metadata": {},
   "source": [
    "### Histogramme"
   ]
  },
  {
   "cell_type": "markdown",
   "metadata": {},
   "source": [
    "Eine nette Funktion, um ein Datenset zu analysieren, sind Histogramme. Mit ihnen können wir ziemlich schnell sichtbar machen, wie die Werte in einer bestimmten Spalte verteilt sind.\n",
    "\n",
    "Pandas stellt dazu die Funktion `hist()` zur Verfügung."
   ]
  },
  {
   "cell_type": "markdown",
   "metadata": {},
   "source": [
    "**Beispiel:** Die Anzahl Punkte, die ein Spieler in seiner Karriere gesammelt hat."
   ]
  },
  {
   "cell_type": "code",
   "execution_count": 86,
   "metadata": {},
   "outputs": [
    {
     "data": {
      "text/plain": [
       "<matplotlib.axes._subplots.AxesSubplot at 0x11973d310>"
      ]
     },
     "execution_count": 86,
     "metadata": {},
     "output_type": "execute_result"
    },
    {
     "data": {
      "image/png": "[encoded data removed]",
      "text/plain": [
       "<Figure size 432x288 with 1 Axes>"
      ]
     },
     "metadata": {
      "needs_background": "light"
     },
     "output_type": "display_data"
    }
   ],
   "source": [
    "df['PTS'].hist()"
   ]
  },
  {
   "cell_type": "markdown",
   "metadata": {},
   "source": [
    "Mit dem Parameter `bins` können wir das Histogramm feingliedriger gestalten:"
   ]
  },
  {
   "cell_type": "code",
   "execution_count": 87,
   "metadata": {},
   "outputs": [
    {
     "data": {
      "text/plain": [
       "<matplotlib.axes._subplots.AxesSubplot at 0x117d688d0>"
      ]
     },
     "execution_count": 87,
     "metadata": {},
     "output_type": "execute_result"
    },
    {
     "data": {
      "image/png": "[encoded data removed]",
      "text/plain": [
       "<Figure size 432x288 with 1 Axes>"
      ]
     },
     "metadata": {
      "needs_background": "light"
     },
     "output_type": "display_data"
    }
   ],
   "source": [
    "df['PTS'].hist(bins=50)"
   ]
  },
  {
   "cell_type": "markdown",
   "metadata": {},
   "source": [
    "Man sieht: Die Verteilung der Punkte ist ziemlich linksschief. Die allermeisten Spieler haben zwischen 5000 und 15000 Punkten gesammelt. Über 25'000 sind nur die wenigsten gekommen."
   ]
  },
  {
   "cell_type": "markdown",
   "metadata": {},
   "source": [
    "**Quiz:** Plotten Sie die eigene Alltime-Kennzahl in einem Histogramm. Ist die Verteilung ähnlich?"
   ]
  },
  {
   "cell_type": "code",
   "execution_count": 89,
   "metadata": {},
   "outputs": [
    {
     "data": {
      "text/plain": [
       "<matplotlib.axes._subplots.AxesSubplot at 0x1195bb6d0>"
      ]
     },
     "execution_count": 89,
     "metadata": {},
     "output_type": "execute_result"
    },
    {
     "data": {
      "image/png": "[encoded data removed]",
      "text/plain": [
       "<Figure size 432x288 with 1 Axes>"
      ]
     },
     "metadata": {
      "needs_background": "light"
     },
     "output_type": "display_data"
    }
   ],
   "source": [
    "df['KEN'].hist(bins=50)"
   ]
  },
  {
   "cell_type": "markdown",
   "metadata": {},
   "source": [
    "### Scatterplot"
   ]
  },
  {
   "cell_type": "markdown",
   "metadata": {},
   "source": [
    "Scatterplots eignen sich für den Vergleich von zwei Spalten. Man erhält mit ihnen rasch eine Idee davon, ob die Werte in einer Spalte mit der anderen Spalte in Zusammenhang stehen."
   ]
  },
  {
   "cell_type": "markdown",
   "metadata": {},
   "source": [
    "**Beispiel:** Die Anzahl gesammelter Punkte und die Wurfquote"
   ]
  },
  {
   "cell_type": "code",
   "execution_count": 92,
   "metadata": {},
   "outputs": [
    {
     "data": {
      "text/plain": [
       "<matplotlib.axes._subplots.AxesSubplot at 0x11c31f410>"
      ]
     },
     "execution_count": 92,
     "metadata": {},
     "output_type": "execute_result"
    },
    {
     "data": {
      "image/png": "[encoded data removed]",
      "text/plain": [
       "<Figure size 432x288 with 1 Axes>"
      ]
     },
     "metadata": {
      "needs_background": "light"
     },
     "output_type": "display_data"
    }
   ],
   "source": [
    "df.plot(kind='scatter', x='PTS', y='FG%')"
   ]
  },
  {
   "cell_type": "markdown",
   "metadata": {},
   "source": [
    "Man sieht: Auch Spieler mit einer mittelguten Wurfquote haben es im Lauf ihrer Karriere zu grossen Punktesammlern gebracht."
   ]
  },
  {
   "cell_type": "markdown",
   "metadata": {},
   "source": [
    "**Quiz:** Erforschen Sie den Zusammenhang zwischen den total gesammelten Punkten und Ihrer eigenen Kennzahl in einem Scatterplot!"
   ]
  },
  {
   "cell_type": "code",
   "execution_count": 93,
   "metadata": {},
   "outputs": [
    {
     "data": {
      "text/plain": [
       "<matplotlib.axes._subplots.AxesSubplot at 0x119a18a10>"
      ]
     },
     "execution_count": 93,
     "metadata": {},
     "output_type": "execute_result"
    },
    {
     "data": {
      "image/png": "[encoded data removed]",
      "text/plain": [
       "<Figure size 432x288 with 1 Axes>"
      ]
     },
     "metadata": {
      "needs_background": "light"
     },
     "output_type": "display_data"
    }
   ],
   "source": [
    "#Plot\n",
    "df.plot(kind='scatter', x='PTS', y='KEN')"
   ]
  },
  {
   "cell_type": "markdown",
   "metadata": {
    "collapsed": true
   },
   "source": [
    "Wir können den Scatterplot auch noch schöner darstellen:\n",
    "\n",
    "- mit Punkten in unterschiedlicher Grösse, entsprechend der Anzahl Punkte, die ein Spieler gesammelt hat"
   ]
  },
  {
   "cell_type": "code",
   "execution_count": 99,
   "metadata": {},
   "outputs": [],
   "source": [
    "area = df['PTS'] / 50"
   ]
  },
  {
   "cell_type": "code",
   "execution_count": 95,
   "metadata": {},
   "outputs": [
    {
     "data": {
      "text/plain": [
       "0       76.774\n",
       "1       73.856\n",
       "2       67.286\n",
       "3       64.584\n",
       "4       62.838\n",
       "         ...  \n",
       "1233     2.144\n",
       "1234     2.128\n",
       "1235     2.028\n",
       "1236     1.950\n",
       "1237     1.432\n",
       "Name: PTS, Length: 1238, dtype: float64"
      ]
     },
     "execution_count": 95,
     "metadata": {},
     "output_type": "execute_result"
    }
   ],
   "source": [
    "area"
   ]
  },
  {
   "cell_type": "markdown",
   "metadata": {},
   "source": [
    "- und grösser. Wir untersuchen: Gibt es einen Zusammenhang zwischen KEN und der Anzahl Spiele, die ein Spieler geamcht hat?"
   ]
  },
  {
   "cell_type": "code",
   "execution_count": 105,
   "metadata": {},
   "outputs": [
    {
     "data": {
      "text/plain": [
       "<matplotlib.axes._subplots.AxesSubplot at 0x11cf34690>"
      ]
     },
     "execution_count": 105,
     "metadata": {},
     "output_type": "execute_result"
    },
    {
     "data": {
      "image/png": "[encoded data removed]",
      "text/plain": [
       "<Figure size 720x504 with 1 Axes>"
      ]
     },
     "metadata": {
      "needs_background": "light"
     },
     "output_type": "display_data"
    }
   ],
   "source": [
    "df.plot(kind='scatter', x='GP', y='KEN', s=area, alpha=0.2, figsize=(10,7)) #alpha ist farbintensität"
   ]
  },
  {
   "cell_type": "markdown",
   "metadata": {},
   "source": [
    "**Quiz:** Untersuchen Sie, wie die Wurfquote (FG%), die Freiwurfquote (FT%) und Ihre eigene Kennzahl zusammenhängen. Stellen Sie das Ergebnis in einem Scatterplot dar."
   ]
  },
  {
   "cell_type": "code",
   "execution_count": 119,
   "metadata": {},
   "outputs": [
    {
     "ename": "KeyError",
     "evalue": "\"None of [Float64Index([27.345249294449673,  66.51668122270743,  94.00968750000001,\\n               59.66226203807391,                nan, 54.973238321456854,\\n               64.87297297297297,  25.71281112737921, 37.653721869590306,\\n               33.25556182947488,\\n              ...\\n               75.74113475177305,  527.2941176470588,  167.5304347826087,\\n               40.73444444444445, 140.26363636363635,   25.8821997105644,\\n               47.33898305084746, 161.57518248175182, 202.96176470588236,\\n               87.30466321243523],\\n             dtype='float64', length=1238)] are in the [columns]\"",
     "output_type": "error",
     "traceback": [
      "\u001b[0;31m---------------------------------------------------------------------------\u001b[0m",
      "\u001b[0;31mKeyError\u001b[0m                                  Traceback (most recent call last)",
      "\u001b[0;32m<ipython-input-119-ace19904bc2e>\u001b[0m in \u001b[0;36m<module>\u001b[0;34m\u001b[0m\n\u001b[1;32m      4\u001b[0m \u001b[0mneu2\u001b[0m \u001b[0;34m=\u001b[0m \u001b[0mdf\u001b[0m\u001b[0;34m[\u001b[0m\u001b[0;34m'FT%'\u001b[0m\u001b[0;34m]\u001b[0m\u001b[0;34m/\u001b[0m\u001b[0mdf\u001b[0m\u001b[0;34m[\u001b[0m\u001b[0;34m'KEN'\u001b[0m\u001b[0;34m]\u001b[0m\u001b[0;34m\u001b[0m\u001b[0;34m\u001b[0m\u001b[0m\n\u001b[1;32m      5\u001b[0m \u001b[0;34m\u001b[0m\u001b[0m\n\u001b[0;32m----> 6\u001b[0;31m \u001b[0mdf\u001b[0m\u001b[0;34m.\u001b[0m\u001b[0mplot\u001b[0m\u001b[0;34m(\u001b[0m\u001b[0mkind\u001b[0m\u001b[0;34m=\u001b[0m\u001b[0;34m'scatter'\u001b[0m\u001b[0;34m,\u001b[0m \u001b[0mx\u001b[0m\u001b[0;34m=\u001b[0m \u001b[0mneu1\u001b[0m\u001b[0;34m,\u001b[0m \u001b[0my\u001b[0m \u001b[0;34m=\u001b[0m \u001b[0mneu2\u001b[0m \u001b[0;34m,\u001b[0m \u001b[0ms\u001b[0m\u001b[0;34m=\u001b[0m\u001b[0marea\u001b[0m\u001b[0;34m,\u001b[0m \u001b[0malpha\u001b[0m\u001b[0;34m=\u001b[0m\u001b[0;36m0.2\u001b[0m\u001b[0;34m,\u001b[0m \u001b[0mfigsize\u001b[0m\u001b[0;34m=\u001b[0m\u001b[0;34m(\u001b[0m\u001b[0;36m10\u001b[0m\u001b[0;34m,\u001b[0m\u001b[0;36m7\u001b[0m\u001b[0;34m)\u001b[0m\u001b[0;34m)\u001b[0m\u001b[0;34m\u001b[0m\u001b[0;34m\u001b[0m\u001b[0m\n\u001b[0m",
      "\u001b[0;32m~/.virtualenvs/erstesVE/lib/python3.7/site-packages/pandas/plotting/_core.py\u001b[0m in \u001b[0;36m__call__\u001b[0;34m(self, *args, **kwargs)\u001b[0m\n\u001b[1;32m    736\u001b[0m         \u001b[0;32mif\u001b[0m \u001b[0mkind\u001b[0m \u001b[0;32min\u001b[0m \u001b[0mself\u001b[0m\u001b[0;34m.\u001b[0m\u001b[0m_dataframe_kinds\u001b[0m\u001b[0;34m:\u001b[0m\u001b[0;34m\u001b[0m\u001b[0;34m\u001b[0m\u001b[0m\n\u001b[1;32m    737\u001b[0m             \u001b[0;32mif\u001b[0m \u001b[0misinstance\u001b[0m\u001b[0;34m(\u001b[0m\u001b[0mdata\u001b[0m\u001b[0;34m,\u001b[0m \u001b[0mABCDataFrame\u001b[0m\u001b[0;34m)\u001b[0m\u001b[0;34m:\u001b[0m\u001b[0;34m\u001b[0m\u001b[0;34m\u001b[0m\u001b[0m\n\u001b[0;32m--> 738\u001b[0;31m                 \u001b[0;32mreturn\u001b[0m \u001b[0mplot_backend\u001b[0m\u001b[0;34m.\u001b[0m\u001b[0mplot\u001b[0m\u001b[0;34m(\u001b[0m\u001b[0mdata\u001b[0m\u001b[0;34m,\u001b[0m \u001b[0mx\u001b[0m\u001b[0;34m=\u001b[0m\u001b[0mx\u001b[0m\u001b[0;34m,\u001b[0m \u001b[0my\u001b[0m\u001b[0;34m=\u001b[0m\u001b[0my\u001b[0m\u001b[0;34m,\u001b[0m \u001b[0mkind\u001b[0m\u001b[0;34m=\u001b[0m\u001b[0mkind\u001b[0m\u001b[0;34m,\u001b[0m \u001b[0;34m**\u001b[0m\u001b[0mkwargs\u001b[0m\u001b[0;34m)\u001b[0m\u001b[0;34m\u001b[0m\u001b[0;34m\u001b[0m\u001b[0m\n\u001b[0m\u001b[1;32m    739\u001b[0m             \u001b[0;32melse\u001b[0m\u001b[0;34m:\u001b[0m\u001b[0;34m\u001b[0m\u001b[0;34m\u001b[0m\u001b[0m\n\u001b[1;32m    740\u001b[0m                 raise ValueError(\n",
      "\u001b[0;32m~/.virtualenvs/erstesVE/lib/python3.7/site-packages/pandas/plotting/_matplotlib/__init__.py\u001b[0m in \u001b[0;36mplot\u001b[0;34m(data, kind, **kwargs)\u001b[0m\n\u001b[1;32m     59\u001b[0m                 \u001b[0max\u001b[0m \u001b[0;34m=\u001b[0m \u001b[0mplt\u001b[0m\u001b[0;34m.\u001b[0m\u001b[0mgca\u001b[0m\u001b[0;34m(\u001b[0m\u001b[0;34m)\u001b[0m\u001b[0;34m\u001b[0m\u001b[0;34m\u001b[0m\u001b[0m\n\u001b[1;32m     60\u001b[0m             \u001b[0mkwargs\u001b[0m\u001b[0;34m[\u001b[0m\u001b[0;34m\"ax\"\u001b[0m\u001b[0;34m]\u001b[0m \u001b[0;34m=\u001b[0m \u001b[0mgetattr\u001b[0m\u001b[0;34m(\u001b[0m\u001b[0max\u001b[0m\u001b[0;34m,\u001b[0m \u001b[0;34m\"left_ax\"\u001b[0m\u001b[0;34m,\u001b[0m \u001b[0max\u001b[0m\u001b[0;34m)\u001b[0m\u001b[0;34m\u001b[0m\u001b[0;34m\u001b[0m\u001b[0m\n\u001b[0;32m---> 61\u001b[0;31m     \u001b[0mplot_obj\u001b[0m \u001b[0;34m=\u001b[0m \u001b[0mPLOT_CLASSES\u001b[0m\u001b[0;34m[\u001b[0m\u001b[0mkind\u001b[0m\u001b[0;34m]\u001b[0m\u001b[0;34m(\u001b[0m\u001b[0mdata\u001b[0m\u001b[0;34m,\u001b[0m \u001b[0;34m**\u001b[0m\u001b[0mkwargs\u001b[0m\u001b[0;34m)\u001b[0m\u001b[0;34m\u001b[0m\u001b[0;34m\u001b[0m\u001b[0m\n\u001b[0m\u001b[1;32m     62\u001b[0m     \u001b[0mplot_obj\u001b[0m\u001b[0;34m.\u001b[0m\u001b[0mgenerate\u001b[0m\u001b[0;34m(\u001b[0m\u001b[0;34m)\u001b[0m\u001b[0;34m\u001b[0m\u001b[0;34m\u001b[0m\u001b[0m\n\u001b[1;32m     63\u001b[0m     \u001b[0mplot_obj\u001b[0m\u001b[0;34m.\u001b[0m\u001b[0mdraw\u001b[0m\u001b[0;34m(\u001b[0m\u001b[0;34m)\u001b[0m\u001b[0;34m\u001b[0m\u001b[0;34m\u001b[0m\u001b[0m\n",
      "\u001b[0;32m~/.virtualenvs/erstesVE/lib/python3.7/site-packages/pandas/plotting/_matplotlib/core.py\u001b[0m in \u001b[0;36m__init__\u001b[0;34m(self, data, x, y, s, c, **kwargs)\u001b[0m\n\u001b[1;32m    928\u001b[0m             \u001b[0;31m# the handling of this argument later\u001b[0m\u001b[0;34m\u001b[0m\u001b[0;34m\u001b[0m\u001b[0;34m\u001b[0m\u001b[0m\n\u001b[1;32m    929\u001b[0m             \u001b[0ms\u001b[0m \u001b[0;34m=\u001b[0m \u001b[0;36m20\u001b[0m\u001b[0;34m\u001b[0m\u001b[0;34m\u001b[0m\u001b[0m\n\u001b[0;32m--> 930\u001b[0;31m         \u001b[0msuper\u001b[0m\u001b[0;34m(\u001b[0m\u001b[0;34m)\u001b[0m\u001b[0;34m.\u001b[0m\u001b[0m__init__\u001b[0m\u001b[0;34m(\u001b[0m\u001b[0mdata\u001b[0m\u001b[0;34m,\u001b[0m \u001b[0mx\u001b[0m\u001b[0;34m,\u001b[0m \u001b[0my\u001b[0m\u001b[0;34m,\u001b[0m \u001b[0ms\u001b[0m\u001b[0;34m=\u001b[0m\u001b[0ms\u001b[0m\u001b[0;34m,\u001b[0m \u001b[0;34m**\u001b[0m\u001b[0mkwargs\u001b[0m\u001b[0;34m)\u001b[0m\u001b[0;34m\u001b[0m\u001b[0;34m\u001b[0m\u001b[0m\n\u001b[0m\u001b[1;32m    931\u001b[0m         \u001b[0;32mif\u001b[0m \u001b[0mis_integer\u001b[0m\u001b[0;34m(\u001b[0m\u001b[0mc\u001b[0m\u001b[0;34m)\u001b[0m \u001b[0;32mand\u001b[0m \u001b[0;32mnot\u001b[0m \u001b[0mself\u001b[0m\u001b[0;34m.\u001b[0m\u001b[0mdata\u001b[0m\u001b[0;34m.\u001b[0m\u001b[0mcolumns\u001b[0m\u001b[0;34m.\u001b[0m\u001b[0mholds_integer\u001b[0m\u001b[0;34m(\u001b[0m\u001b[0;34m)\u001b[0m\u001b[0;34m:\u001b[0m\u001b[0;34m\u001b[0m\u001b[0;34m\u001b[0m\u001b[0m\n\u001b[1;32m    932\u001b[0m             \u001b[0mc\u001b[0m \u001b[0;34m=\u001b[0m \u001b[0mself\u001b[0m\u001b[0;34m.\u001b[0m\u001b[0mdata\u001b[0m\u001b[0;34m.\u001b[0m\u001b[0mcolumns\u001b[0m\u001b[0;34m[\u001b[0m\u001b[0mc\u001b[0m\u001b[0;34m]\u001b[0m\u001b[0;34m\u001b[0m\u001b[0;34m\u001b[0m\u001b[0m\n",
      "\u001b[0;32m~/.virtualenvs/erstesVE/lib/python3.7/site-packages/pandas/plotting/_matplotlib/core.py\u001b[0m in \u001b[0;36m__init__\u001b[0;34m(self, data, x, y, **kwargs)\u001b[0m\n\u001b[1;32m    867\u001b[0m         \u001b[0;32mif\u001b[0m \u001b[0mis_integer\u001b[0m\u001b[0;34m(\u001b[0m\u001b[0my\u001b[0m\u001b[0;34m)\u001b[0m \u001b[0;32mand\u001b[0m \u001b[0;32mnot\u001b[0m \u001b[0mself\u001b[0m\u001b[0;34m.\u001b[0m\u001b[0mdata\u001b[0m\u001b[0;34m.\u001b[0m\u001b[0mcolumns\u001b[0m\u001b[0;34m.\u001b[0m\u001b[0mholds_integer\u001b[0m\u001b[0;34m(\u001b[0m\u001b[0;34m)\u001b[0m\u001b[0;34m:\u001b[0m\u001b[0;34m\u001b[0m\u001b[0;34m\u001b[0m\u001b[0m\n\u001b[1;32m    868\u001b[0m             \u001b[0my\u001b[0m \u001b[0;34m=\u001b[0m \u001b[0mself\u001b[0m\u001b[0;34m.\u001b[0m\u001b[0mdata\u001b[0m\u001b[0;34m.\u001b[0m\u001b[0mcolumns\u001b[0m\u001b[0;34m[\u001b[0m\u001b[0my\u001b[0m\u001b[0;34m]\u001b[0m\u001b[0;34m\u001b[0m\u001b[0;34m\u001b[0m\u001b[0m\n\u001b[0;32m--> 869\u001b[0;31m         \u001b[0;32mif\u001b[0m \u001b[0mlen\u001b[0m\u001b[0;34m(\u001b[0m\u001b[0mself\u001b[0m\u001b[0;34m.\u001b[0m\u001b[0mdata\u001b[0m\u001b[0;34m[\u001b[0m\u001b[0mx\u001b[0m\u001b[0;34m]\u001b[0m\u001b[0;34m.\u001b[0m\u001b[0m_get_numeric_data\u001b[0m\u001b[0;34m(\u001b[0m\u001b[0;34m)\u001b[0m\u001b[0;34m)\u001b[0m \u001b[0;34m==\u001b[0m \u001b[0;36m0\u001b[0m\u001b[0;34m:\u001b[0m\u001b[0;34m\u001b[0m\u001b[0;34m\u001b[0m\u001b[0m\n\u001b[0m\u001b[1;32m    870\u001b[0m             \u001b[0;32mraise\u001b[0m \u001b[0mValueError\u001b[0m\u001b[0;34m(\u001b[0m\u001b[0mself\u001b[0m\u001b[0;34m.\u001b[0m\u001b[0m_kind\u001b[0m \u001b[0;34m+\u001b[0m \u001b[0;34m\" requires x column to be numeric\"\u001b[0m\u001b[0;34m)\u001b[0m\u001b[0;34m\u001b[0m\u001b[0;34m\u001b[0m\u001b[0m\n\u001b[1;32m    871\u001b[0m         \u001b[0;32mif\u001b[0m \u001b[0mlen\u001b[0m\u001b[0;34m(\u001b[0m\u001b[0mself\u001b[0m\u001b[0;34m.\u001b[0m\u001b[0mdata\u001b[0m\u001b[0;34m[\u001b[0m\u001b[0my\u001b[0m\u001b[0;34m]\u001b[0m\u001b[0;34m.\u001b[0m\u001b[0m_get_numeric_data\u001b[0m\u001b[0;34m(\u001b[0m\u001b[0;34m)\u001b[0m\u001b[0;34m)\u001b[0m \u001b[0;34m==\u001b[0m \u001b[0;36m0\u001b[0m\u001b[0;34m:\u001b[0m\u001b[0;34m\u001b[0m\u001b[0;34m\u001b[0m\u001b[0m\n",
      "\u001b[0;32m~/.virtualenvs/erstesVE/lib/python3.7/site-packages/pandas/core/frame.py\u001b[0m in \u001b[0;36m__getitem__\u001b[0;34m(self, key)\u001b[0m\n\u001b[1;32m   2984\u001b[0m             \u001b[0;32mif\u001b[0m \u001b[0mis_iterator\u001b[0m\u001b[0;34m(\u001b[0m\u001b[0mkey\u001b[0m\u001b[0;34m)\u001b[0m\u001b[0;34m:\u001b[0m\u001b[0;34m\u001b[0m\u001b[0;34m\u001b[0m\u001b[0m\n\u001b[1;32m   2985\u001b[0m                 \u001b[0mkey\u001b[0m \u001b[0;34m=\u001b[0m \u001b[0mlist\u001b[0m\u001b[0;34m(\u001b[0m\u001b[0mkey\u001b[0m\u001b[0;34m)\u001b[0m\u001b[0;34m\u001b[0m\u001b[0;34m\u001b[0m\u001b[0m\n\u001b[0;32m-> 2986\u001b[0;31m             \u001b[0mindexer\u001b[0m \u001b[0;34m=\u001b[0m \u001b[0mself\u001b[0m\u001b[0;34m.\u001b[0m\u001b[0mloc\u001b[0m\u001b[0;34m.\u001b[0m\u001b[0m_convert_to_indexer\u001b[0m\u001b[0;34m(\u001b[0m\u001b[0mkey\u001b[0m\u001b[0;34m,\u001b[0m \u001b[0maxis\u001b[0m\u001b[0;34m=\u001b[0m\u001b[0;36m1\u001b[0m\u001b[0;34m,\u001b[0m \u001b[0mraise_missing\u001b[0m\u001b[0;34m=\u001b[0m\u001b[0;32mTrue\u001b[0m\u001b[0;34m)\u001b[0m\u001b[0;34m\u001b[0m\u001b[0;34m\u001b[0m\u001b[0m\n\u001b[0m\u001b[1;32m   2987\u001b[0m \u001b[0;34m\u001b[0m\u001b[0m\n\u001b[1;32m   2988\u001b[0m         \u001b[0;31m# take() does not accept boolean indexers\u001b[0m\u001b[0;34m\u001b[0m\u001b[0;34m\u001b[0m\u001b[0;34m\u001b[0m\u001b[0m\n",
      "\u001b[0;32m~/.virtualenvs/erstesVE/lib/python3.7/site-packages/pandas/core/indexing.py\u001b[0m in \u001b[0;36m_convert_to_indexer\u001b[0;34m(self, obj, axis, is_setter, raise_missing)\u001b[0m\n\u001b[1;32m   1283\u001b[0m                 \u001b[0;31m# When setting, missing keys are not allowed, even with .loc:\u001b[0m\u001b[0;34m\u001b[0m\u001b[0;34m\u001b[0m\u001b[0;34m\u001b[0m\u001b[0m\n\u001b[1;32m   1284\u001b[0m                 \u001b[0mkwargs\u001b[0m \u001b[0;34m=\u001b[0m \u001b[0;34m{\u001b[0m\u001b[0;34m\"raise_missing\"\u001b[0m\u001b[0;34m:\u001b[0m \u001b[0;32mTrue\u001b[0m \u001b[0;32mif\u001b[0m \u001b[0mis_setter\u001b[0m \u001b[0;32melse\u001b[0m \u001b[0mraise_missing\u001b[0m\u001b[0;34m}\u001b[0m\u001b[0;34m\u001b[0m\u001b[0;34m\u001b[0m\u001b[0m\n\u001b[0;32m-> 1285\u001b[0;31m                 \u001b[0;32mreturn\u001b[0m \u001b[0mself\u001b[0m\u001b[0;34m.\u001b[0m\u001b[0m_get_listlike_indexer\u001b[0m\u001b[0;34m(\u001b[0m\u001b[0mobj\u001b[0m\u001b[0;34m,\u001b[0m \u001b[0maxis\u001b[0m\u001b[0;34m,\u001b[0m \u001b[0;34m**\u001b[0m\u001b[0mkwargs\u001b[0m\u001b[0;34m)\u001b[0m\u001b[0;34m[\u001b[0m\u001b[0;36m1\u001b[0m\u001b[0;34m]\u001b[0m\u001b[0;34m\u001b[0m\u001b[0;34m\u001b[0m\u001b[0m\n\u001b[0m\u001b[1;32m   1286\u001b[0m         \u001b[0;32melse\u001b[0m\u001b[0;34m:\u001b[0m\u001b[0;34m\u001b[0m\u001b[0;34m\u001b[0m\u001b[0m\n\u001b[1;32m   1287\u001b[0m             \u001b[0;32mtry\u001b[0m\u001b[0;34m:\u001b[0m\u001b[0;34m\u001b[0m\u001b[0;34m\u001b[0m\u001b[0m\n",
      "\u001b[0;32m~/.virtualenvs/erstesVE/lib/python3.7/site-packages/pandas/core/indexing.py\u001b[0m in \u001b[0;36m_get_listlike_indexer\u001b[0;34m(self, key, axis, raise_missing)\u001b[0m\n\u001b[1;32m   1090\u001b[0m \u001b[0;34m\u001b[0m\u001b[0m\n\u001b[1;32m   1091\u001b[0m         self._validate_read_indexer(\n\u001b[0;32m-> 1092\u001b[0;31m             \u001b[0mkeyarr\u001b[0m\u001b[0;34m,\u001b[0m \u001b[0mindexer\u001b[0m\u001b[0;34m,\u001b[0m \u001b[0mo\u001b[0m\u001b[0;34m.\u001b[0m\u001b[0m_get_axis_number\u001b[0m\u001b[0;34m(\u001b[0m\u001b[0maxis\u001b[0m\u001b[0;34m)\u001b[0m\u001b[0;34m,\u001b[0m \u001b[0mraise_missing\u001b[0m\u001b[0;34m=\u001b[0m\u001b[0mraise_missing\u001b[0m\u001b[0;34m\u001b[0m\u001b[0;34m\u001b[0m\u001b[0m\n\u001b[0m\u001b[1;32m   1093\u001b[0m         )\n\u001b[1;32m   1094\u001b[0m         \u001b[0;32mreturn\u001b[0m \u001b[0mkeyarr\u001b[0m\u001b[0;34m,\u001b[0m \u001b[0mindexer\u001b[0m\u001b[0;34m\u001b[0m\u001b[0;34m\u001b[0m\u001b[0m\n",
      "\u001b[0;32m~/.virtualenvs/erstesVE/lib/python3.7/site-packages/pandas/core/indexing.py\u001b[0m in \u001b[0;36m_validate_read_indexer\u001b[0;34m(self, key, indexer, axis, raise_missing)\u001b[0m\n\u001b[1;32m   1175\u001b[0m                 raise KeyError(\n\u001b[1;32m   1176\u001b[0m                     \"None of [{key}] are in the [{axis}]\".format(\n\u001b[0;32m-> 1177\u001b[0;31m                         \u001b[0mkey\u001b[0m\u001b[0;34m=\u001b[0m\u001b[0mkey\u001b[0m\u001b[0;34m,\u001b[0m \u001b[0maxis\u001b[0m\u001b[0;34m=\u001b[0m\u001b[0mself\u001b[0m\u001b[0;34m.\u001b[0m\u001b[0mobj\u001b[0m\u001b[0;34m.\u001b[0m\u001b[0m_get_axis_name\u001b[0m\u001b[0;34m(\u001b[0m\u001b[0maxis\u001b[0m\u001b[0;34m)\u001b[0m\u001b[0;34m\u001b[0m\u001b[0;34m\u001b[0m\u001b[0m\n\u001b[0m\u001b[1;32m   1178\u001b[0m                     )\n\u001b[1;32m   1179\u001b[0m                 )\n",
      "\u001b[0;31mKeyError\u001b[0m: \"None of [Float64Index([27.345249294449673,  66.51668122270743,  94.00968750000001,\\n               59.66226203807391,                nan, 54.973238321456854,\\n               64.87297297297297,  25.71281112737921, 37.653721869590306,\\n               33.25556182947488,\\n              ...\\n               75.74113475177305,  527.2941176470588,  167.5304347826087,\\n               40.73444444444445, 140.26363636363635,   25.8821997105644,\\n               47.33898305084746, 161.57518248175182, 202.96176470588236,\\n               87.30466321243523],\\n             dtype='float64', length=1238)] are in the [columns]\""
     ]
    }
   ],
   "source": [
    "#Plot\n",
    "\n",
    "neu1 = df['FG%']/df['KEN']\n",
    "neu2 = df['FT%']/df['KEN']\n",
    "\n",
    "df.plot(kind='scatter', x= neu1, y = neu2 , s=area, alpha=0.2, figsize=(10,7))\n"
   ]
  },
  {
   "cell_type": "code",
   "execution_count": null,
   "metadata": {},
   "outputs": [],
   "source": []
  }
 ],
 "metadata": {
  "kernelspec": {
   "display_name": "Python 3",
   "language": "python",
   "name": "python3"
  },
  "language_info": {
   "codemirror_mode": {
    "name": "ipython",
    "version": 3
   },
   "file_extension": ".py",
   "mimetype": "text/x-python",
   "name": "python",
   "nbconvert_exporter": "python",
   "pygments_lexer": "ipython3",
   "version": "3.7.4"
  }
 },
 "nbformat": 4,
 "nbformat_minor": 2
}
