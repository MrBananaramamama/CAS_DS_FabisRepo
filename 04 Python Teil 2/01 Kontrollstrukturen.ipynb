{
 "cells": [
  {
   "cell_type": "markdown",
   "metadata": {},
   "source": [
    "# Kontrollstrukuren in Python"
   ]
  },
  {
   "cell_type": "markdown",
   "metadata": {},
   "source": [
    "### if\n",
    "Bislang haben wir nur Code gesehen, der von oben nach unten ausgeführt wird. In einer **If-Else-Struktur** werden bestimmte Abschnitte des Codes nur dann ausgeführt, wenn auch bestimmte Bedingungen erfüllt sind. Damit können wir Entscheidungen programmieren!\n",
    "\n",
    "Schauen wir uns ein Beispiel an:"
   ]
  },
  {
   "cell_type": "code",
   "execution_count": 5,
   "metadata": {},
   "outputs": [
    {
     "name": "stdout",
     "output_type": "stream",
     "text": [
      "Die Zahl n ist kleiner als 42\n",
      "Ich bin nicht mehr eingerückt!\n"
     ]
    }
   ],
   "source": [
    "n = 30\n",
    "\n",
    "if n < 42:\n",
    "    print(\"Die Zahl n ist kleiner als 42\")\n",
    "\n",
    "print(\"Ich bin nicht mehr eingerückt!\")\n"
   ]
  },
  {
   "cell_type": "code",
   "execution_count": null,
   "metadata": {},
   "outputs": [],
   "source": []
  },
  {
   "cell_type": "markdown",
   "metadata": {},
   "source": [
    "Es ist wichtig, dass der Code unterhalb der Bedingung eingerückt ist! "
   ]
  },
  {
   "cell_type": "markdown",
   "metadata": {},
   "source": [
    "### else\n",
    "Diese if-Struktur lässt sich um ein **else** erweitern, sodass auch in dem Fall, dass die Bedingung nicht zutrifft, ein bestimmter Code ausgeführt wird. Falls die if-Bedingung erfüllt ist, wird natürlich der else-Block nicht mehr ausgeführt."
   ]
  },
  {
   "cell_type": "code",
   "execution_count": 12,
   "metadata": {},
   "outputs": [
    {
     "name": "stdout",
     "output_type": "stream",
     "text": [
      "m ist kleiner als 5\n",
      "ist sowieso so\n"
     ]
    }
   ],
   "source": [
    "m = 2\n",
    "\n",
    "if m > 1:\n",
    "    print(\"m ist kleiner als 5\")\n",
    "else:\n",
    "    print(\"und das ist gut so\")\n",
    "    \n",
    "print('ist sowieso so')"
   ]
  },
  {
   "cell_type": "markdown",
   "metadata": {},
   "source": [
    "## elif - noch mehr Entscheidungen\n",
    "Wir können in einer if-else-Struktur nur zwei Fälle abfragen, nämlich, ob eine Bedingung wahr ist (True) oder nicht (False). Wenn wir ein Entscheidungsmodell programmieren wollen, in dem noch mehr Bedingungen gecheckt werden sollen, müssen wir bislang mehrere if-else-Strukturen ineinander verschachteln. "
   ]
  },
  {
   "cell_type": "code",
   "execution_count": 14,
   "metadata": {},
   "outputs": [
    {
     "name": "stdout",
     "output_type": "stream",
     "text": [
      "US-Dollar\n"
     ]
    }
   ],
   "source": [
    "currency = \"$\"\n",
    "\n",
    "if currency == \"$\":\n",
    "    print(\"US-Dollar\")\n",
    "else:\n",
    "    if currency == \"¥\":\n",
    "        print(\"Japanischer Yen\")\n",
    "    else:\n",
    "        if currency == \"€\":\n",
    "            print(\"Euro\")\n",
    "        else:\n",
    "            if currency == \"฿\":\n",
    "                print(\"Thai Baht\")\n",
    "                \n",
    "#zu komplizierte Abfrage, einfachere Lösung unten elif (kurz für else/if)"
   ]
  },
  {
   "cell_type": "markdown",
   "metadata": {},
   "source": [
    "Durch die Erweiterung um elif können wir innerhalb einer if-else-Struktur beliebig viele Bedingungen checken. \n",
    "\n",
    "elif ist die Kurzfassung von else if: Eine elif-Option deckt also den Fall ab, dass die if-Bedingung nicht erfüllt (False) ist, aber eine weitere Bedingung True ist."
   ]
  },
  {
   "cell_type": "code",
   "execution_count": 16,
   "metadata": {},
   "outputs": [
    {
     "ename": "SyntaxError",
     "evalue": "invalid syntax (<ipython-input-16-8b23374f7b47>, line 5)",
     "output_type": "error",
     "traceback": [
      "\u001b[0;36m  File \u001b[0;32m\"<ipython-input-16-8b23374f7b47>\"\u001b[0;36m, line \u001b[0;32m5\u001b[0m\n\u001b[0;31m    if currency = \"$\":\u001b[0m\n\u001b[0m                ^\u001b[0m\n\u001b[0;31mSyntaxError\u001b[0m\u001b[0;31m:\u001b[0m invalid syntax\n"
     ]
    }
   ],
   "source": [
    "# == das ist die Frage, ist a == 3? \n",
    "# beginnen muss ich mit einem if\n",
    "\n",
    "currency = \"HKD\"\n",
    "\n",
    "if currency == \"$\":\n",
    "    print(\"US-Dollar\")\n",
    "elif currency == \"¥\":\n",
    "    print(\"Japanischer Yen\")\n",
    "elif currency == \"€\":\n",
    "    print(\"Euro\")\n",
    "elif currency == \"฿\":\n",
    "    print(\"Thai Baht\")\n",
    "else:\n",
    "    print(\"Sonst\")"
   ]
  },
  {
   "cell_type": "markdown",
   "metadata": {},
   "source": [
    "## Übung"
   ]
  },
  {
   "cell_type": "markdown",
   "metadata": {},
   "source": [
    "Wir möchten in einem Online-Shop eine Rabattaktion starten, um das Geschäft anzukurbeln. \n",
    "Du sollst die Berechnung der reduzierten Preise mit einer if-elif-else-Struktur vereinfachen.\n",
    "\n",
    "Dabei ist zu beachten:\n",
    "\n",
    "* Artikel, die zwischen 0 und 20 (einschließlich) CHF kosten, werden um 20 % reduziert; \n",
    "* Artikel, die zwischen 20 (nicht einschließlich) und 50 CHF (einschließlich) kosten, werden um 40 % reduziert. \n",
    "* Alle anderen Artikel, also solche, die mehr als 50 CHF kosten, werden um 60 % reduziert.\n"
   ]
  },
  {
   "cell_type": "code",
   "execution_count": 70,
   "metadata": {},
   "outputs": [
    {
     "name": "stdout",
     "output_type": "stream",
     "text": [
      "Rabatt! Gestern: 12 Franken, heute: 9.60 Franken. 20 Prozent Rabatt.\n"
     ]
    }
   ],
   "source": [
    "price = 12\n",
    "\n",
    "\n",
    "if price <= 20:\n",
    "    print(\"Rabatt! Gestern: \" +str(price) +\" Franken, heute: \" +str(\"{0:.2f}\".format(price*0.8)) +' Franken. 20 Prozent Rabatt.')\n",
    "\n",
    "elif price <= 50:\n",
    "    print(price*0.6)\n",
    "    \n",
    "elif price >= 50:\n",
    "    print(\"Ramsch!\")\n"
   ]
  },
  {
   "cell_type": "code",
   "execution_count": 71,
   "metadata": {},
   "outputs": [
    {
     "name": "stdout",
     "output_type": "stream",
     "text": [
      "40.0\n"
     ]
    }
   ],
   "source": [
    "price = 100\n",
    "\n",
    "\n",
    "if price <= 20:\n",
    "    print(price *0.8)\n",
    "\n",
    "elif price <=50:\n",
    "    print(price*0.6)\n",
    "    \n",
    "elif price >=50:\n",
    "    print(price*0.4) \n",
    "     \n"
   ]
  },
  {
   "cell_type": "code",
   "execution_count": null,
   "metadata": {},
   "outputs": [],
   "source": []
  }
 ],
 "metadata": {
  "kernelspec": {
   "display_name": "Python 3",
   "language": "python",
   "name": "python3"
  },
  "language_info": {
   "codemirror_mode": {
    "name": "ipython",
    "version": 3
   },
   "file_extension": ".py",
   "mimetype": "text/x-python",
   "name": "python",
   "nbconvert_exporter": "python",
   "pygments_lexer": "ipython3",
   "version": "3.7.4"
  }
 },
 "nbformat": 4,
 "nbformat_minor": 2
}
