{
 "cells": [
  {
   "cell_type": "markdown",
   "metadata": {},
   "source": [
    "# Dateien\n",
    "Dateien sind sind sehr praktisch. Mit ihnen kann man neue Daten einlesen und abspeichern. Wie geht das eigentlich mit Python?"
   ]
  },
  {
   "cell_type": "markdown",
   "metadata": {},
   "source": [
    "## Eine Textdatei lesen und ihren Inhalt ausgeben"
   ]
  },
  {
   "cell_type": "code",
   "execution_count": 3,
   "metadata": {},
   "outputs": [
    {
     "name": "stdout",
     "output_type": "stream",
     "text": [
      "Max\n",
      "Monika\n",
      "Erik\n",
      "Franziska\n"
     ]
    }
   ],
   "source": [
    "# Wir öffnen die Datei lesen.txt zum Lesen (\"r\") und speichern ihren Inhalt in die Variable file\n",
    "file = open(\"lesen.txt\", \"r\")\n",
    "\n",
    "# Wir gehen alle Zeilen nacheinander durch\n",
    "# In der txt-Datei stehen für uns nicht sichtbare Zeilenumbruchszeichen, durch die jeweils das Ende einer Zeile markiert ist\n",
    "for line in file:\n",
    "    # Eine Zeile ohne Zeilenumbruch ausgeben\n",
    "    print(line.strip())\n",
    "file.close()"
   ]
  },
  {
   "cell_type": "markdown",
   "metadata": {},
   "source": [
    "## In eine Textdatei schreiben\n",
    "In eine Textdatei zu schreiben ist fast genauso einfach wie sie zu lesen:"
   ]
  },
  {
   "cell_type": "code",
   "execution_count": 2,
   "metadata": {},
   "outputs": [],
   "source": [
    "# Wir öffnen eine Datei zum Schreiben (\"w\": write)\n",
    "file = open(\"lesen.txt\", \"w\")\n",
    "\n",
    "students = [\"Max\", \"Monika\", \"Erik\", \"Franziska\"]\n",
    "\n",
    "# Wir loopen mit einer for-Schleife durch die Liste students\n",
    "for student in students:\n",
    "    # Mit der write-Methode schreiben wir den aktuellen String student und einen Zeilenumbruch in das file-Objekt\n",
    "    file.write(student + \"\\n\")\n",
    "\n",
    "# Abschließend müssen wir die Datei wieder schließen\n",
    "file.close()"
   ]
  },
  {
   "cell_type": "code",
   "execution_count": 9,
   "metadata": {},
   "outputs": [
    {
     "ename": "TypeError",
     "evalue": "write() argument must be str, not list",
     "output_type": "error",
     "traceback": [
      "\u001b[0;31m---------------------------------------------------------------------------\u001b[0m",
      "\u001b[0;31mTypeError\u001b[0m                                 Traceback (most recent call last)",
      "\u001b[0;32m<ipython-input-9-f10759721511>\u001b[0m in \u001b[0;36m<module>\u001b[0;34m\u001b[0m\n\u001b[1;32m      3\u001b[0m \u001b[0mdas_schreib_ich\u001b[0m \u001b[0;34m=\u001b[0m \u001b[0;34m[\u001b[0m\u001b[0;34m\"Mein erster Tag als Progamierer\"\u001b[0m\u001b[0;34m,\u001b[0m \u001b[0;34m\"das machts nicht einfach, heute\"\u001b[0m\u001b[0;34m]\u001b[0m\u001b[0;34m\u001b[0m\u001b[0;34m\u001b[0m\u001b[0m\n\u001b[1;32m      4\u001b[0m \u001b[0;34m\u001b[0m\u001b[0m\n\u001b[0;32m----> 5\u001b[0;31m \u001b[0mfile\u001b[0m\u001b[0;34m.\u001b[0m\u001b[0mwrite\u001b[0m\u001b[0;34m(\u001b[0m\u001b[0mdas_schreib_ich\u001b[0m\u001b[0;34m)\u001b[0m\u001b[0;34m\u001b[0m\u001b[0;34m\u001b[0m\u001b[0m\n\u001b[0m\u001b[1;32m      6\u001b[0m \u001b[0;34m\u001b[0m\u001b[0m\n\u001b[1;32m      7\u001b[0m \u001b[0mfile\u001b[0m\u001b[0;34m.\u001b[0m\u001b[0mclose\u001b[0m\u001b[0;34m(\u001b[0m\u001b[0;34m)\u001b[0m\u001b[0;34m\u001b[0m\u001b[0;34m\u001b[0m\u001b[0m\n",
      "\u001b[0;31mTypeError\u001b[0m: write() argument must be str, not list"
     ]
    }
   ],
   "source": [
    "file = open ('schreiben.txt', 'w')\n",
    "\n",
    "das_schreib_ich = [\"Mein erster Tag als Progamierer\", \"das machts nicht einfach, heute\"]\n",
    "\n",
    "file.write(das_schreib_ich)\n",
    "\n",
    "file.close()"
   ]
  },
  {
   "cell_type": "markdown",
   "metadata": {},
   "source": [
    "## Dateien öffnen mit with\n",
    "Wenn wir Dateien mit einer with-Konstruktion öffnen, dann brauchen wir sie nicht mehr explizit mit der close()-Methode schließen."
   ]
  },
  {
   "cell_type": "code",
   "execution_count": 12,
   "metadata": {},
   "outputs": [
    {
     "name": "stdout",
     "output_type": "stream",
     "text": [
      "Hallo Leute.\n",
      "Ich bin eine wunderschöne weitere Zeile.\n"
     ]
    }
   ],
   "source": [
    "with open(\"lesen.txt\", \"r\") as file:\n",
    "    for line in file:\n",
    "        print(line.strip())"
   ]
  },
  {
   "cell_type": "markdown",
   "metadata": {},
   "source": [
    "## CSV-Datei lesen\n",
    "CSV steht für comma separated values. Auch solche csv-Dateien können wir mit Python auslesen."
   ]
  },
  {
   "cell_type": "code",
   "execution_count": 20,
   "metadata": {},
   "outputs": [
    {
     "name": "stdout",
     "output_type": "stream",
     "text": [
      "Muenchen:1800000\n",
      "Berlin:3000000\n",
      "Budapest:2000000\n"
     ]
    }
   ],
   "source": [
    "with open(\"datei.csv\") as file:\n",
    "    for line in file:\n",
    "        data = line.split(\";\")\n",
    "        print(data[0] + \":\" + data[1])"
   ]
  },
  {
   "cell_type": "markdown",
   "metadata": {},
   "source": [
    "## CSV-Datei lesen (und Daten überspringen)\n",
    "\n",
    "CSV Dateien sind genauso dateien wie jede andere auch. Für sie ist es ganz z.B. ganz praktisch wenn du Zeilen überspringen kannst. "
   ]
  },
  {
   "cell_type": "code",
   "execution_count": 22,
   "metadata": {},
   "outputs": [
    {
     "name": "stdout",
     "output_type": "stream",
     "text": [
      "['Berlin', '3000000', 'BER\\n']\n"
     ]
    }
   ],
   "source": [
    "with open(\"datei.csv\") as file:\n",
    "    for line in file:\n",
    "        data = line.split(\";\")\n",
    "         \n",
    "        if int(data[1]) < 2000000:\n",
    "            continue\n",
    "        \n",
    "        if data[2] == \"BUD\":\n",
    "            continue\n",
    "        \n",
    "        print(data)"
   ]
  },
  {
   "cell_type": "code",
   "execution_count": 2,
   "metadata": {},
   "outputs": [
    {
     "name": "stdout",
     "output_type": "stream",
     "text": [
      "['Budapest', '2000000', 'BUD']\n"
     ]
    }
   ],
   "source": [
    "with open(\"datei.csv\") as file:\n",
    "    for line in file:\n",
    "        data = line.split(\";\")\n",
    "        \n",
    "        if int(data[1]) < 1:\n",
    "            continue\n",
    "        \n",
    "        if data[2] == \"BUD\":\n",
    "            print(data)\n",
    "        \n",
    "  "
   ]
  },
  {
   "cell_type": "markdown",
   "metadata": {},
   "source": [
    "## Übung\n",
    "- Zum ersten mal können wir endlich mit einem \"echten\" Datensatz arbeiten!\n",
    "- Besorgt euch die datei https://data.stadt-zuerich.ch/dataset/pd-stapo-hundenamen/resource/8bf2127d-c354-4834-8590-9666cbd6e160\n",
    "- Ihr findet sie auch im Ordner 20151001_hundenamen.csv\n",
    "- Findet heraus wie oft der Hundename \"Aaron\" zwischen 2000 - 2012 gebraucht wurde. "
   ]
  },
  {
   "cell_type": "code",
   "execution_count": 23,
   "metadata": {},
   "outputs": [
    {
     "name": "stdout",
     "output_type": "stream",
     "text": [
      "True\n"
     ]
    }
   ],
   "source": [
    "#Hinweis 1:\n",
    "n = \"1975\"\n",
    "print(int(n) < 1990)"
   ]
  },
  {
   "cell_type": "code",
   "execution_count": 24,
   "metadata": {},
   "outputs": [
    {
     "name": "stdout",
     "output_type": "stream",
     "text": [
      "1990\n",
      "1992\n"
     ]
    }
   ],
   "source": [
    "# Hinweis 2:\n",
    "jahre = [\"Year\", \"1990\", \"1992\"]\n",
    "\n",
    "for jahr in jahre:\n",
    "    if jahr == \"Year\":\n",
    "        continue\n",
    "    print(int(jahr))"
   ]
  },
  {
   "cell_type": "code",
   "execution_count": 8,
   "metadata": {
    "scrolled": true
   },
   "outputs": [
    {
     "ename": "IndentationError",
     "evalue": "expected an indented block (<ipython-input-8-4c238bd43618>, line 4)",
     "output_type": "error",
     "traceback": [
      "\u001b[0;36m  File \u001b[0;32m\"<ipython-input-8-4c238bd43618>\"\u001b[0;36m, line \u001b[0;32m4\u001b[0m\n\u001b[0;31m    data = line.split(',')\u001b[0m\n\u001b[0m       ^\u001b[0m\n\u001b[0;31mIndentationError\u001b[0m\u001b[0;31m:\u001b[0m expected an indented block\n"
     ]
    }
   ],
   "source": [
    "\n",
    "with open(\"20151001_hundenamen.csv\") as file:\n",
    "    summe = 0\n",
    "    for line in file:\n",
    "    data = line.split(',')\n",
    "        \n",
    "    if int(data[1]) is range(2000,2012)):\n",
    "            continue\n",
    "        \n",
    "    if data[0] == \"Aaron\":\n",
    "            continue           \n",
    "            summe= summe + data\n",
    "            print(data)"
   ]
  },
  {
   "cell_type": "code",
   "execution_count": 2,
   "metadata": {},
   "outputs": [
    {
     "ename": "IndentationError",
     "evalue": "expected an indented block (<ipython-input-2-2342086abc47>, line 3)",
     "output_type": "error",
     "traceback": [
      "\u001b[0;36m  File \u001b[0;32m\"<ipython-input-2-2342086abc47>\"\u001b[0;36m, line \u001b[0;32m3\u001b[0m\n\u001b[0;31m    data = file.split(',')\u001b[0m\n\u001b[0m       ^\u001b[0m\n\u001b[0;31mIndentationError\u001b[0m\u001b[0;31m:\u001b[0m expected an indented block\n"
     ]
    }
   ],
   "source": [
    "with open(\"20151001_hundenamen.csv\") as file:\n",
    "\n",
    "data = file.split(',')\n",
    "  "
   ]
  },
  {
   "cell_type": "code",
   "execution_count": 94,
   "metadata": {},
   "outputs": [
    {
     "name": "stdout",
     "output_type": "stream",
     "text": [
      "['ich bin ine', ' katze', ' jaja.']\n"
     ]
    }
   ],
   "source": [
    "text = \"ich bin ine, katze, jaja.\"\n",
    "\n",
    "data = text.split(',')\n",
    "\n",
    "print(data)"
   ]
  },
  {
   "cell_type": "code",
   "execution_count": 104,
   "metadata": {},
   "outputs": [
    {
     "ename": "SyntaxError",
     "evalue": "invalid character in identifier (<ipython-input-104-6eba78fad0e2>, line 4)",
     "output_type": "error",
     "traceback": [
      "\u001b[0;36m  File \u001b[0;32m\"<ipython-input-104-6eba78fad0e2>\"\u001b[0;36m, line \u001b[0;32m4\u001b[0m\n\u001b[0;31m    data = line.split(“,“)\u001b[0m\n\u001b[0m                      ^\u001b[0m\n\u001b[0;31mSyntaxError\u001b[0m\u001b[0;31m:\u001b[0m invalid character in identifier\n"
     ]
    }
   ],
   "source": [
    "with open(\"20151001_hundenamen.csv\") as file:\n",
    "    \n",
    "    for line in file:\n",
    "         data = line.split(“,“)\n",
    "    \n",
    "    print(file)\n",
    "   \n",
    "    "
   ]
  },
  {
   "cell_type": "code",
   "execution_count": 3,
   "metadata": {},
   "outputs": [
    {
     "name": "stdout",
     "output_type": "stream",
     "text": [
      "summe0\n",
      "zahl 0\n",
      "summe0\n",
      "zahl 1\n",
      "summe1\n",
      "zahl 2\n",
      "summe3\n",
      "zahl 3\n",
      "summe6\n",
      "zahl 4\n",
      "summe10\n",
      "zahl 5\n",
      "summe15\n",
      "zahl 6\n",
      "summe21\n",
      "zahl 7\n",
      "summe28\n",
      "zahl 8\n",
      "summe36\n",
      "zahl 9\n",
      "summe45\n",
      "zahl 10\n"
     ]
    }
   ],
   "source": [
    "summe = 0 #ist eine art behälter, dorthin kann rein addiert werden\n",
    "ganze_range = range(0,11)\n",
    "\n",
    "for zahl in ganze_range:\n",
    "    print(\"summe\" + str(summe))\n",
    "    print('zahl ' + str(zahl))\n",
    "    summe = summe + zahl\n"
   ]
  },
  {
   "cell_type": "code",
   "execution_count": 12,
   "metadata": {},
   "outputs": [],
   "source": [
    "### Euer code hier"
   ]
  },
  {
   "cell_type": "code",
   "execution_count": 22,
   "metadata": {},
   "outputs": [],
   "source": [
    "with open(\"20151001_hundenamen.csv\") as file:\n",
    "    total_dog = 0\n",
    "    if data in file:\n",
    "        new = data.split(',')\n",
    "        dogs= new[0]\n",
    "        if \"Aaron\" in dogs:\n",
    "            print(data)"
   ]
  },
  {
   "cell_type": "code",
   "execution_count": null,
   "metadata": {},
   "outputs": [],
   "source": []
  },
  {
   "cell_type": "code",
   "execution_count": null,
   "metadata": {},
   "outputs": [],
   "source": []
  },
  {
   "cell_type": "code",
   "execution_count": null,
   "metadata": {},
   "outputs": [],
   "source": []
  },
  {
   "cell_type": "code",
   "execution_count": null,
   "metadata": {},
   "outputs": [],
   "source": []
  },
  {
   "cell_type": "code",
   "execution_count": null,
   "metadata": {},
   "outputs": [],
   "source": [
    "### Datei öffnen\n",
    "with open(\"20151001_hundenamen.csv\") as file:\n",
    "   total_dog = 0\n",
    "   for line in file:\n",
    "       data = line.split(\",\")\n",
    "       ## 1. Zeile mit Header, direkt weiterspringen, um Fehler zu vermeiden mit dem int(Jahr)\n",
    "       if data[1] == \"GEBURTSJAHR_HUND\":\n",
    "           continue\n",
    "       ## Suche Aaron in den gewünschten Jahren\n",
    "       dogname = data[0]\n",
    "       ## suche in Kleinbuchstaben, um schreibfehler auszuschalten\n",
    "       if \"aaron\" in dogname.lower():\n",
    "           if int(data[1]) >= 2000 and int(data[1]) <= 2012:\n",
    "               total_dog = total_dog + 1\n",
    "           print(data[0] + \" / \" + data[1])\n",
    "   print()\n",
    "   print(\"Zwischen 2000 und 2012 wurden \" + str(total_dog) + \" Hunde auf den Namen Aaron getauft.\")"
   ]
  },
  {
   "cell_type": "code",
   "execution_count": 11,
   "metadata": {},
   "outputs": [
    {
     "ename": "SyntaxError",
     "evalue": "invalid character in identifier (<ipython-input-11-ca20d9b4858a>, line 2)",
     "output_type": "error",
     "traceback": [
      "\u001b[0;36m  File \u001b[0;32m\"<ipython-input-11-ca20d9b4858a>\"\u001b[0;36m, line \u001b[0;32m2\u001b[0m\n\u001b[0;31m    with open(“20151001_hundenamen.csv”) as file:\u001b[0m\n\u001b[0m                                 ^\u001b[0m\n\u001b[0;31mSyntaxError\u001b[0m\u001b[0;31m:\u001b[0m invalid character in identifier\n"
     ]
    }
   ],
   "source": [
    "### Datei öffnen\n",
    "with open(“20151001_hundenamen.csv”) as file:\n",
    "total_dog = 0\n",
    "   for line in file:\n",
    "    data = line.split(“,”)\n",
    "       ## 1. Zeile mit Header, direkt weiterspringen, um Fehler zu vermeiden mit dem int(Jahr)\n",
    "    if data[1] == “GEBURTSJAHR_HUND”:\n",
    "           continue\n",
    "       ## Suche Aaron in den gewünschten Jahren\n",
    "            dogname = data[0]\n",
    "       ## suche in Kleinbuchstaben, um schreibfehler auszuschalten\n",
    "    if “aaron” in dogname.lower():\n",
    "        if int(data[1]) >= 2000 and int(data[1]) <= 2012:\n",
    "               total_dog = total_dog + 1\n",
    "        print(data[0] + ” / ” + data[1])\n",
    "print(“Zwischen 2000 und 2012 wurden ” + str(total_dog) + ” Hunde auf den Namen Aaron getauft.“)"
   ]
  },
  {
   "cell_type": "code",
   "execution_count": null,
   "metadata": {},
   "outputs": [],
   "source": []
  }
 ],
 "metadata": {
  "kernelspec": {
   "display_name": "Python 3",
   "language": "python",
   "name": "python3"
  },
  "language_info": {
   "codemirror_mode": {
    "name": "ipython",
    "version": 3
   },
   "file_extension": ".py",
   "mimetype": "text/x-python",
   "name": "python",
   "nbconvert_exporter": "python",
   "pygments_lexer": "ipython3",
   "version": "3.7.4"
  }
 },
 "nbformat": 4,
 "nbformat_minor": 2
}
