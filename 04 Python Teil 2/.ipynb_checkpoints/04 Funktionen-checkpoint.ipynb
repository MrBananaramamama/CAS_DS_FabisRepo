{
 "cells": [
  {
   "cell_type": "markdown",
   "metadata": {},
   "source": [
    "# Funktionen\n",
    "Funktionen sind zusammengefasste Codeblöcke. Mittels Funktionen können wir es vermeiden, mehrmals verwendete Codeblöcke zu wiederholen. Wir definieren stattdessen einmal eine Funktion, die diese Codeblöcke enthält und brauchen an weiteren Stellen nur noch (kurz) die Funktion aufzurufen, ohne die in ihr enthaltenen Codezeilen zu kopieren."
   ]
  },
  {
   "cell_type": "markdown",
   "metadata": {},
   "source": [
    "### Eine Funktion definieren und aufrufen\n",
    "Wir haben schon einige Funktionen kennengelernt, die uns Python zur Verfügung stellt. Die Funktion, die wir bislang wohl am häufigsten verwendet haben, ist die print-Funktion:"
   ]
  },
  {
   "cell_type": "code",
   "execution_count": 1,
   "metadata": {},
   "outputs": [
    {
     "name": "stdout",
     "output_type": "stream",
     "text": [
      "HALLO WELT\n"
     ]
    }
   ],
   "source": [
    "print(\"HALLO WELT\")"
   ]
  },
  {
   "cell_type": "markdown",
   "metadata": {},
   "source": [
    "P.S. Eine Übersicht über Funktionen in Python findest du hier: https://docs.python.org/3/library/functions.html"
   ]
  },
  {
   "cell_type": "markdown",
   "metadata": {},
   "source": [
    "### Weitere Funktionen in Python"
   ]
  },
  {
   "cell_type": "markdown",
   "metadata": {},
   "source": [
    "Auch die len-Funktion für Listen kennst du schon. :-) "
   ]
  },
  {
   "cell_type": "code",
   "execution_count": 5,
   "metadata": {
    "scrolled": true
   },
   "outputs": [
    {
     "name": "stdout",
     "output_type": "stream",
     "text": [
      "2\n"
     ]
    }
   ],
   "source": [
    "print(len([\"Hallo\", \"Welt\"]))"
   ]
  },
  {
   "cell_type": "markdown",
   "metadata": {},
   "source": [
    "Du kannst die len-Funktion auch auf Strings anwenden."
   ]
  },
  {
   "cell_type": "code",
   "execution_count": 4,
   "metadata": {},
   "outputs": [
    {
     "name": "stdout",
     "output_type": "stream",
     "text": [
      "5\n"
     ]
    }
   ],
   "source": [
    "print(len(\"Hallo\"))"
   ]
  },
  {
   "cell_type": "code",
   "execution_count": 3,
   "metadata": {},
   "outputs": [],
   "source": [
    "def multi_print():\n",
    "    print(\"Hallo Welt!\")\n",
    "    print(\"Hallo Welt!\")"
   ]
  },
  {
   "cell_type": "markdown",
   "metadata": {},
   "source": [
    "Wenn wir eine eigene Funktion verwenden wollen, müssen wir sie zuerst definieren. Eine solche Funktionsdefinition hat die allgemeine Syntax:\n",
    "\n",
    "**def Funktionname():**\n",
    "<br>\n",
    "&nbsp;&nbsp;&nbsp;&nbsp;&nbsp;&nbsp; **Code**"
   ]
  },
  {
   "cell_type": "markdown",
   "metadata": {},
   "source": [
    "Um eine Funktion auszuführen, die definiert wurde, schreiben wir: **Funktionname()**"
   ]
  },
  {
   "cell_type": "code",
   "execution_count": 5,
   "metadata": {},
   "outputs": [
    {
     "name": "stdout",
     "output_type": "stream",
     "text": [
      "Hallo Welt!\n",
      "Hallo Welt!\n"
     ]
    }
   ],
   "source": [
    "multi_print()"
   ]
  },
  {
   "cell_type": "markdown",
   "metadata": {},
   "source": [
    "### Funktionen mit einem Argument\n",
    "Man kann Funktionen ein **Argument** übergeben, d. h. einen Wert, von dem der Code innerhalb der Funktion abhängt:\n",
    "\n",
    "\n",
    "**def Funktionsname(Argument):**\n",
    "<br>\n",
    "&nbsp;&nbsp;&nbsp;&nbsp;&nbsp;&nbsp; **Code, in dem mit dem spezifischen Argument gearbeitet wird**"
   ]
  },
  {
   "cell_type": "code",
   "execution_count": 6,
   "metadata": {},
   "outputs": [
    {
     "name": "stdout",
     "output_type": "stream",
     "text": [
      "HALLO\n",
      "HALLO\n",
      "WELT\n",
      "WELT\n"
     ]
    }
   ],
   "source": [
    "def multi_print2(name):\n",
    "    print(name)\n",
    "    print(name)\n",
    "    \n",
    "multi_print2(\"HALLO\")\n",
    "multi_print2(\"WELT\")"
   ]
  },
  {
   "cell_type": "markdown",
   "metadata": {},
   "source": [
    "### Funktionen mit mehreren Argumenten\n",
    "\n",
    "Eine Funktion darf auch mehrere Argumente enthalten:\n",
    "\n",
    "**def Funktionenname(Argument1, Argument2, ...):**\n",
    "<br>\n",
    "&nbsp;&nbsp;&nbsp;&nbsp;&nbsp;&nbsp; **Code, in dem mit Argument1, Argument2,... gearbeitet wird**"
   ]
  },
  {
   "cell_type": "code",
   "execution_count": 1,
   "metadata": {
    "scrolled": true
   },
   "outputs": [
    {
     "name": "stdout",
     "output_type": "stream",
     "text": [
      "Hallo!\n",
      "Hallo!\n",
      "Hallo!\n",
      "Hallo!\n",
      "Hallo!\n"
     ]
    }
   ],
   "source": [
    "def multi_print(name, count):\n",
    "    for i in range(0, count):\n",
    "        print(name)\n",
    "        \n",
    "multi_print(\"Hallo!\", 5)"
   ]
  },
  {
   "cell_type": "markdown",
   "metadata": {},
   "source": [
    "Du kannst dir einen solchen Parameter als eine zu einer Funktion gehörige Variable vorstellen. Vermeide es, einen Funktionsparameter wie eine bereits bestehende Variable zu benennen - Verwirrungsgefahr!"
   ]
  },
  {
   "cell_type": "markdown",
   "metadata": {},
   "source": [
    "### Funktionen und Gültigkeit von Variablen"
   ]
  },
  {
   "cell_type": "code",
   "execution_count": 2,
   "metadata": {},
   "outputs": [
    {
     "name": "stdout",
     "output_type": "stream",
     "text": [
      "HalloPlotti\n",
      "MARS\n"
     ]
    }
   ],
   "source": [
    "name = \"MARS\"\n",
    "planet = \"MARS\"\n",
    "\n",
    "def hallo(name):\n",
    "    print(\"Hallo\" + name)\n",
    "    \n",
    "hallo(\"Plotti\")\n",
    "\n",
    "print(name)"
   ]
  },
  {
   "cell_type": "markdown",
   "metadata": {},
   "source": [
    "Du siehst, dass der Wert der Variable _name_ keinen Einfluss auf das Argument _name_ der Funktion hat! Die Variable _name_ außerhalb der Funktion ist also eine andere Variable als die Variable _name_ innerhalb der Funktion. \n",
    "\n",
    "Daher Achtung: Das macht den Code unübersichtlich!"
   ]
  },
  {
   "cell_type": "markdown",
   "metadata": {},
   "source": [
    "## Übung\n",
    "\n",
    "Schreibe eine Funktion, die den Gesamtpreis der Produkte im Warenkorb berechnet!\n",
    "Vervollständige die Funktion list_sum(), der als Parameter eine Liste mit den Preisen übergeben wird. Die Funktion soll dann die Summe der Zahlen aus der Liste ausgeben."
   ]
  },
  {
   "cell_type": "code",
   "execution_count": 27,
   "metadata": {},
   "outputs": [],
   "source": [
    "cart_prices = [20, 3.5, 6.49, 8.99, 9.99, 14.99] "
   ]
  },
  {
   "cell_type": "code",
   "execution_count": 29,
   "metadata": {},
   "outputs": [
    {
     "ename": "SyntaxError",
     "evalue": "invalid syntax (<ipython-input-29-6e46f89efea3>, line 5)",
     "output_type": "error",
     "traceback": [
      "\u001b[0;36m  File \u001b[0;32m\"<ipython-input-29-6e46f89efea3>\"\u001b[0;36m, line \u001b[0;32m5\u001b[0m\n\u001b[0;31m    def list_sum(1):\u001b[0m\n\u001b[0m                 ^\u001b[0m\n\u001b[0;31mSyntaxError\u001b[0m\u001b[0;31m:\u001b[0m invalid syntax\n"
     ]
    }
   ],
   "source": [
    "cart_prices = [20, 3.5, 6.49, 8.99, 9.99, 14.99] \n",
    "\n",
    "summe = 0\n",
    "\n",
    "def list_sum(1):\n",
    "    for Total in cart_prices:\n",
    "        print(Total)\n",
    "        summe = summe + Total\n",
    "  \n",
    "        "
   ]
  },
  {
   "cell_type": "code",
   "execution_count": 28,
   "metadata": {},
   "outputs": [
    {
     "name": "stdout",
     "output_type": "stream",
     "text": [
      "Vielen Dank für ihren Einkauf! \n",
      "[20, 3.5, 6.49, 8.99, 9.99, 14.99]\n",
      "Das alles kostet Sie 63.96000000000001\n"
     ]
    }
   ],
   "source": [
    "def list_sum(Wert):\n",
    "    Summe = 0 \n",
    "    for Total in Wert:\n",
    "        Summe = Summe + Total\n",
    "    print(\"Vielen Dank für ihren Einkauf! \\n\" \n",
    "          + str(Wert)\n",
    "          +\"\\nDas alles kostet Sie \" +str(Summe))\n",
    "        \n",
    "\n",
    "        \n",
    "list_sum(cart_prices)"
   ]
  },
  {
   "cell_type": "markdown",
   "metadata": {},
   "source": [
    "### Funktionen in Funktionen\n",
    "Funktionen können auch ineinander geschachtelt werden:"
   ]
  },
  {
   "cell_type": "code",
   "execution_count": 59,
   "metadata": {},
   "outputs": [],
   "source": [
    "def multi_print(text,anzahl):\n",
    "    for i in range(0,anzahl):\n",
    "        print(text)\n",
    "        \n",
    "def super_begruessung(anzahl):\n",
    "    multi_print(\"Hallo!\", anzahl)\n",
    "    multi_print(\"Welt!\", anzahl)"
   ]
  },
  {
   "cell_type": "code",
   "execution_count": 60,
   "metadata": {
    "scrolled": true
   },
   "outputs": [
    {
     "name": "stdout",
     "output_type": "stream",
     "text": [
      "Hallo!\n",
      "Hallo!\n",
      "Hallo!\n",
      "Welt!\n",
      "Welt!\n",
      "Welt!\n"
     ]
    }
   ],
   "source": [
    "super_begruessung(3)"
   ]
  },
  {
   "cell_type": "markdown",
   "metadata": {},
   "source": [
    "### Einen Wert zurückgeben\n",
    "Bislang führen wir mit Funktionen einen Codeblock aus, der von Argumenten abhängen kann. Funktionen können aber auch mittels des Befehls **return** Werte zurückgeben. "
   ]
  },
  {
   "cell_type": "code",
   "execution_count": 61,
   "metadata": {
    "scrolled": true
   },
   "outputs": [
    {
     "name": "stdout",
     "output_type": "stream",
     "text": [
      "Hi!\n"
     ]
    }
   ],
   "source": [
    "def return_element(name):\n",
    "    return name + '!'\n",
    "\n",
    "print(return_element(\"Hi\"))"
   ]
  },
  {
   "cell_type": "markdown",
   "metadata": {},
   "source": [
    "Solche Funktionen mit return können wir dann wie Variablen behandeln:"
   ]
  },
  {
   "cell_type": "code",
   "execution_count": 15,
   "metadata": {},
   "outputs": [
    {
     "name": "stdout",
     "output_type": "stream",
     "text": [
      "Right!\n"
     ]
    }
   ],
   "source": [
    "def return_with_exclamation(name):\n",
    "    return name + \"!\"\n",
    "\n",
    "a = return_with_exclamation(\"Hi\")\n",
    "\n",
    "if a == \"Hi!\":\n",
    "    print(\"Right!\")\n",
    "else:\n",
    "    print(\"Wrong.\")"
   ]
  },
  {
   "cell_type": "code",
   "execution_count": 16,
   "metadata": {},
   "outputs": [
    {
     "name": "stdout",
     "output_type": "stream",
     "text": [
      "5\n"
     ]
    }
   ],
   "source": [
    "def maximum(a, b):\n",
    "    if a < b:\n",
    "        return b\n",
    "    else:\n",
    "        return a\n",
    "\n",
    "result = maximum(4, 5)\n",
    "print(result)"
   ]
  },
  {
   "cell_type": "markdown",
   "metadata": {},
   "source": [
    "## Übung\n",
    "\n",
    "In Amerika ist es üblich Trinkgeld zu geben. Du möchtest eine Funktion schreiben der du den Preis des Essens eingibst (price), die erhöhung in % (percent) und eine Tabelle erhälst die dir zeigt wieviel Trinkgeld du geben kannst. Ein Beispiel:\n",
    "tipp_generator(10,0.05) sollte ausgeben:\n",
    "* Preis des Essens: 10 dollar\n",
    "* Mit 5% Trinkgeld: 10,5 dollar\n",
    "* Mit 10% Trinkgeld: 11 dollar \n",
    "* Mit 15% Trinkgeld: 11,5 dollar\n"
   ]
  },
  {
   "cell_type": "code",
   "execution_count": null,
   "metadata": {},
   "outputs": [],
   "source": [
    "Preis =input('Preis')\n",
    "\n",
    "def tipp_generator(Preis):\n",
    "    print(\"Preis des Essens:\" +str(Preis)\n",
    "         +'\\n Mit 5% Trinkgeld:  '+ str(Preis * 1.05)\n",
    "\n",
    "\n",
    "\n",
    "print(tipp_generator(Preis))\n",
    "\n",
    "\n",
    "\n",
    "    \n",
    "# noch lösen!!\n",
    "    \n"
   ]
  },
  {
   "cell_type": "code",
   "execution_count": null,
   "metadata": {},
   "outputs": [],
   "source": [
    "#Lösung Plotti auf Slack, 19. Sept 16.04\n",
    "\n",
    "def tipp_generator(price):\n",
    "   ## prozente in Liste fix hinterlegt\n",
    "   prozente = [5,10,15,20]\n",
    "   print(\"Preis des Essens: \" + str(price))\n",
    "   for i in range(0,4):\n",
    "       print(\"Mit \" + str(prozente[i]) + \" % Trinkgeld: \" +\n",
    "       str(int(price) * (1 + prozente[i]/100)))\n",
    "## fragt den Preis ab\n",
    "price = input(\"Preis: \")\n",
    "tipp_generator(price)"
   ]
  },
  {
   "cell_type": "markdown",
   "metadata": {},
   "source": [
    "# Funktionen vs. Methoden"
   ]
  },
  {
   "cell_type": "markdown",
   "metadata": {},
   "source": [
    "### Funktionen\n",
    "Bei ihrem Aufruf stehen Funktionen \"für sich\" und das, worauf sie sich beziehen steht ggf. als Argument in den Klammern hinter ihnen:"
   ]
  },
  {
   "cell_type": "code",
   "execution_count": 36,
   "metadata": {
    "collapsed": true
   },
   "outputs": [],
   "source": [
    "liste = [1, 2, 3]"
   ]
  },
  {
   "cell_type": "code",
   "execution_count": 28,
   "metadata": {
    "scrolled": true
   },
   "outputs": [
    {
     "name": "stdout",
     "output_type": "stream",
     "text": [
      "[1, 2, 3]\n"
     ]
    }
   ],
   "source": [
    "print(liste)"
   ]
  },
  {
   "cell_type": "code",
   "execution_count": 29,
   "metadata": {},
   "outputs": [
    {
     "name": "stdout",
     "output_type": "stream",
     "text": [
      "3\n"
     ]
    }
   ],
   "source": [
    "print(len(liste))"
   ]
  },
  {
   "cell_type": "markdown",
   "metadata": {},
   "source": [
    "### Methoden\n",
    "Daneben kennen wir aber auch schon Befehle, die mit einem Punkt an Objekte angehängt werden. Eine Liste ist ein solches **Objekt**. Jedes Objekt hat Methoden, auf die wir zurückgreifen können. Diese Methoden können wir aber nicht auf ein Objekt eines anderen Typs anwenden (meistens zumindest).\n",
    "\n",
    "Schauen wir uns einige nützliche Methoden des Listen-Objektes an. Zwei kennst du ja schon gut:"
   ]
  },
  {
   "cell_type": "code",
   "execution_count": 37,
   "metadata": {},
   "outputs": [
    {
     "name": "stdout",
     "output_type": "stream",
     "text": [
      "[1, 2, 3, 4]\n"
     ]
    }
   ],
   "source": [
    "# ein Element anhängen\n",
    "liste.append(4)\n",
    "\n",
    "print(liste)"
   ]
  },
  {
   "cell_type": "code",
   "execution_count": 39,
   "metadata": {},
   "outputs": [
    {
     "data": {
      "text/plain": [
       "2"
      ]
     },
     "execution_count": 39,
     "metadata": {},
     "output_type": "execute_result"
    }
   ],
   "source": [
    "# ein Element an einem bestimmten Index entfernen\n",
    "liste.pop(2)"
   ]
  },
  {
   "cell_type": "markdown",
   "metadata": {},
   "source": [
    "# Übung"
   ]
  },
  {
   "cell_type": "markdown",
   "metadata": {},
   "source": [
    "Python objekte haben oft schon von \"Haus aus\" methoden die sehr praktisch sind. \n",
    "Finde für Listen heraus:\n",
    " - Wie kann man die Elemente einer Liste umdrehen?\n",
    " - Wie kann man rausfinden an welcher Stelle \"Max\" steht?\n",
    " - Wie kann ich \"Max\" von der Liste entfernen?\n"
   ]
  },
  {
   "cell_type": "code",
   "execution_count": 66,
   "metadata": {},
   "outputs": [],
   "source": [
    "liste = [\"Max\", \"Moritz\", \"Klara\", \"Elena\"]"
   ]
  },
  {
   "cell_type": "code",
   "execution_count": 72,
   "metadata": {},
   "outputs": [
    {
     "name": "stdout",
     "output_type": "stream",
     "text": [
      "Original List: ['Max', 'Moritz', 'Klara', 'Elena']\n",
      "Updated List: ['Elena', 'Klara', 'Moritz', 'Max']\n"
     ]
    }
   ],
   "source": [
    "print('Original List:', liste)\n",
    "liste.reverse()\n",
    "print('Updated List:', liste)"
   ]
  },
  {
   "cell_type": "code",
   "execution_count": 76,
   "metadata": {},
   "outputs": [
    {
     "data": {
      "text/plain": [
       "2"
      ]
     },
     "execution_count": 76,
     "metadata": {},
     "output_type": "execute_result"
    }
   ],
   "source": [
    "liste.index('Moritz')\n"
   ]
  },
  {
   "cell_type": "code",
   "execution_count": 80,
   "metadata": {
    "scrolled": true
   },
   "outputs": [
    {
     "ename": "ValueError",
     "evalue": "list.remove(x): x not in list",
     "output_type": "error",
     "traceback": [
      "\u001b[0;31m---------------------------------------------------------------------------\u001b[0m",
      "\u001b[0;31mValueError\u001b[0m                                Traceback (most recent call last)",
      "\u001b[0;32m<ipython-input-80-e4d1ee5051b3>\u001b[0m in \u001b[0;36m<module>\u001b[0;34m\u001b[0m\n\u001b[0;32m----> 1\u001b[0;31m \u001b[0mliste\u001b[0m\u001b[0;34m.\u001b[0m\u001b[0mremove\u001b[0m\u001b[0;34m(\u001b[0m\u001b[0;34m'Max'\u001b[0m\u001b[0;34m)\u001b[0m\u001b[0;34m\u001b[0m\u001b[0;34m\u001b[0m\u001b[0m\n\u001b[0m",
      "\u001b[0;31mValueError\u001b[0m: list.remove(x): x not in list"
     ]
    }
   ],
   "source": [
    "liste.remove('Max')"
   ]
  },
  {
   "cell_type": "code",
   "execution_count": 88,
   "metadata": {},
   "outputs": [
    {
     "name": "stdout",
     "output_type": "stream",
     "text": [
      "['Moritz', 'Klara', 'Elena']\n"
     ]
    }
   ],
   "source": [
    "print(liste)"
   ]
  },
  {
   "cell_type": "markdown",
   "metadata": {},
   "source": [
    "### Übung Extra: \n",
    "Wenn du noch Zeit hast: was für Methoden gibt es denn für Strings?\n",
    "- z.B. wie kann ich alle buchstaben a durch x ersetzen?\n",
    "- wie kann ich einen String in kleinbuchstaben verwandeln?\n",
    "- was gibt es noch?"
   ]
  },
  {
   "cell_type": "code",
   "execution_count": 91,
   "metadata": {},
   "outputs": [
    {
     "data": {
      "text/plain": [
       "'drei chinesen essen chinesisch.'"
      ]
     },
     "execution_count": 91,
     "metadata": {},
     "output_type": "execute_result"
    }
   ],
   "source": [
    "mystring = \"Drei Chinesen essen chinesisch.\"\n",
    "mystring.lower()"
   ]
  },
  {
   "cell_type": "code",
   "execution_count": 94,
   "metadata": {},
   "outputs": [
    {
     "name": "stdout",
     "output_type": "stream",
     "text": [
      "Men Auto fährt100Kilometer\n"
     ]
    }
   ],
   "source": [
    "\n",
    "print(\"Men Auto fährt\" +str(100) +\" Kilometer\")"
   ]
  },
  {
   "cell_type": "code",
   "execution_count": 99,
   "metadata": {},
   "outputs": [
    {
     "name": "stdout",
     "output_type": "stream",
     "text": [
      "Mein Auto fährt 100 kmh\n"
     ]
    }
   ],
   "source": [
    "#kann man auch ganz einfach ersetznen!!\n",
    "\n",
    "print(\"Mein Auto fährt %s kmh\" % 100)"
   ]
  },
  {
   "cell_type": "code",
   "execution_count": null,
   "metadata": {},
   "outputs": [],
   "source": []
  }
 ],
 "metadata": {
  "kernelspec": {
   "display_name": "Python 3",
   "language": "python",
   "name": "python3"
  },
  "language_info": {
   "codemirror_mode": {
    "name": "ipython",
    "version": 3
   },
   "file_extension": ".py",
   "mimetype": "text/x-python",
   "name": "python",
   "nbconvert_exporter": "python",
   "pygments_lexer": "ipython3",
   "version": "3.7.4"
  }
 },
 "nbformat": 4,
 "nbformat_minor": 2
}
