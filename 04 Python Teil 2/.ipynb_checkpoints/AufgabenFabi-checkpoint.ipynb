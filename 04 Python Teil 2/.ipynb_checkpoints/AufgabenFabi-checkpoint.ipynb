{
 "cells": [
  {
   "cell_type": "code",
   "execution_count": 235,
   "metadata": {
    "scrolled": true
   },
   "outputs": [
    {
     "ename": "IndentationError",
     "evalue": "expected an indented block (<ipython-input-235-880d9b156074>, line 7)",
     "output_type": "error",
     "traceback": [
      "\u001b[0;36m  File \u001b[0;32m\"<ipython-input-235-880d9b156074>\"\u001b[0;36m, line \u001b[0;32m7\u001b[0m\n\u001b[0;31m    total_hund = total_hund + 1\u001b[0m\n\u001b[0m             ^\u001b[0m\n\u001b[0;31mIndentationError\u001b[0m\u001b[0;31m:\u001b[0m expected an indented block\n"
     ]
    }
   ],
   "source": [
    "alle_total = 0 \n",
    "\n",
    "with open(\"20151001_hundenamen.csv\") as file:\n",
    "    for line in file:\n",
    "        line_split\n",
    "        total_hund = 0\n",
    "        if file == 'Aaron':\n",
    "        total_hund = total_hund + 1\n",
    "        print(total_hund)\n",
    "     "
   ]
  },
  {
   "cell_type": "code",
   "execution_count": null,
   "metadata": {},
   "outputs": [],
   "source": []
  },
  {
   "cell_type": "code",
   "execution_count": null,
   "metadata": {},
   "outputs": [],
   "source": []
  },
  {
   "cell_type": "code",
   "execution_count": 27,
   "metadata": {},
   "outputs": [],
   "source": [
    "with open(\"20151001_hundenamen.csv\") as file:\n",
    "    for line in file:\n",
    "        line.split(',')\n",
    "        total = 0\n",
    "        if 'aaron' == line[0]:\n",
    "            total = total + 1\n",
    "            print(line[1])\n",
    "        else:\n",
    "            continue\n",
    "            print(total)\n",
    "            "
   ]
  },
  {
   "cell_type": "code",
   "execution_count": 59,
   "metadata": {},
   "outputs": [],
   "source": [
    "with open(\"20151001_hundenamen.csv\") as file:\n",
    "    for line in file:\n",
    "        new = line.split(',')\n",
    "        dogname = new[0]\n",
    "        if dogname == 'Aaron':\n",
    "            print(dogname) \n",
    "        else:\n",
    "            continue\n",
    "            \n",
    "              "
   ]
  },
  {
   "cell_type": "code",
   "execution_count": null,
   "metadata": {},
   "outputs": [],
   "source": []
  },
  {
   "cell_type": "code",
   "execution_count": null,
   "metadata": {},
   "outputs": [],
   "source": []
  },
  {
   "cell_type": "code",
   "execution_count": null,
   "metadata": {},
   "outputs": [],
   "source": []
  },
  {
   "cell_type": "code",
   "execution_count": null,
   "metadata": {},
   "outputs": [],
   "source": []
  },
  {
   "cell_type": "code",
   "execution_count": null,
   "metadata": {},
   "outputs": [],
   "source": []
  },
  {
   "cell_type": "code",
   "execution_count": null,
   "metadata": {},
   "outputs": [],
   "source": []
  },
  {
   "cell_type": "code",
   "execution_count": null,
   "metadata": {},
   "outputs": [],
   "source": []
  },
  {
   "cell_type": "code",
   "execution_count": null,
   "metadata": {},
   "outputs": [],
   "source": []
  },
  {
   "cell_type": "code",
   "execution_count": 241,
   "metadata": {
    "scrolled": false
   },
   "outputs": [
    {
     "ename": "SyntaxError",
     "evalue": "unexpected EOF while parsing (<ipython-input-241-03135e249050>, line 2)",
     "output_type": "error",
     "traceback": [
      "\u001b[0;36m  File \u001b[0;32m\"<ipython-input-241-03135e249050>\"\u001b[0;36m, line \u001b[0;32m2\u001b[0m\n\u001b[0;31m    with open(\"20151001_hundenamen.csv\") as file:\u001b[0m\n\u001b[0m                                                 ^\u001b[0m\n\u001b[0;31mSyntaxError\u001b[0m\u001b[0;31m:\u001b[0m unexpected EOF while parsing\n"
     ]
    }
   ],
   "source": [
    "### Datei öffnen\n",
    "with open(\"20151001_hundenamen.csv\") as file:"
   ]
  },
  {
   "cell_type": "code",
   "execution_count": 297,
   "metadata": {},
   "outputs": [],
   "source": [
    "with open(\"20151001_hundenamen.csv\") as file:\n",
    "    total_dog = 0\n",
    "    for line in file:\n",
    "        data = line.split(',')\n",
    "        if data == \"Aaron\":\n",
    "            for new in data:\n",
    "            dogname\n",
    "                total_dog = total_dog + 1\n",
    "                print(total_dog)\n",
    "        \n",
    "        \n",
    "        \n",
    "        "
   ]
  },
  {
   "cell_type": "code",
   "execution_count": 276,
   "metadata": {},
   "outputs": [],
   "source": []
  },
  {
   "cell_type": "code",
   "execution_count": null,
   "metadata": {},
   "outputs": [],
   "source": []
  },
  {
   "cell_type": "code",
   "execution_count": null,
   "metadata": {},
   "outputs": [],
   "source": []
  },
  {
   "cell_type": "code",
   "execution_count": null,
   "metadata": {},
   "outputs": [],
   "source": []
  },
  {
   "cell_type": "code",
   "execution_count": null,
   "metadata": {},
   "outputs": [],
   "source": []
  },
  {
   "cell_type": "code",
   "execution_count": null,
   "metadata": {},
   "outputs": [],
   "source": []
  },
  {
   "cell_type": "code",
   "execution_count": 260,
   "metadata": {},
   "outputs": [
    {
     "ename": "IndentationError",
     "evalue": "unexpected indent (<ipython-input-260-d923608b3eb9>, line 9)",
     "output_type": "error",
     "traceback": [
      "\u001b[0;36m  File \u001b[0;32m\"<ipython-input-260-d923608b3eb9>\"\u001b[0;36m, line \u001b[0;32m9\u001b[0m\n\u001b[0;31m    print(new)\u001b[0m\n\u001b[0m    ^\u001b[0m\n\u001b[0;31mIndentationError\u001b[0m\u001b[0;31m:\u001b[0m unexpected indent\n"
     ]
    }
   ],
   "source": [
    "with open(\"20151001_hundenamen.csv\") as file:\n",
    "    total_dog = 0\n",
    "    for line in file:\n",
    "        data = line.split(\",\")\n",
    "        dogname = data[0]\n",
    "        if 'aaron' in dogname.lower():\n",
    "            for new in dogname:\n",
    "            "
   ]
  },
  {
   "cell_type": "code",
   "execution_count": 271,
   "metadata": {},
   "outputs": [
    {
     "name": "stdout",
     "output_type": "stream",
     "text": [
      "<_io.TextIOWrapper name='datei.csv' mode='r' encoding='UTF-8'>\n"
     ]
    }
   ],
   "source": [
    "with open(\"datei.csv\",) as file:\n",
    "    print(file)"
   ]
  },
  {
   "cell_type": "code",
   "execution_count": null,
   "metadata": {},
   "outputs": [],
   "source": []
  },
  {
   "cell_type": "code",
   "execution_count": null,
   "metadata": {},
   "outputs": [],
   "source": []
  },
  {
   "cell_type": "code",
   "execution_count": null,
   "metadata": {},
   "outputs": [],
   "source": []
  },
  {
   "cell_type": "code",
   "execution_count": null,
   "metadata": {},
   "outputs": [],
   "source": []
  },
  {
   "cell_type": "code",
   "execution_count": null,
   "metadata": {},
   "outputs": [],
   "source": []
  },
  {
   "cell_type": "code",
   "execution_count": null,
   "metadata": {},
   "outputs": [],
   "source": []
  },
  {
   "cell_type": "code",
   "execution_count": 267,
   "metadata": {},
   "outputs": [
    {
     "name": "stdout",
     "output_type": "stream",
     "text": [
      "\"Aaron\" / 2011\n",
      "\"Aaron\" / 2005\n",
      "\"Aaron\" / 2011\n",
      "\"Aaron\" / 2005\n",
      "\n",
      "Zwischen 2000 und 2012 wurden 4 Hunde auf den Namen Aaron getauft.\n"
     ]
    }
   ],
   "source": [
    "with open(\"20151001_hundenamen.csv\") as file:\n",
    "   total_dog = 0\n",
    "   for line in file:\n",
    "       data = line.split(\",\")\n",
    "\n",
    "       dogname = data[0]\n",
    " \n",
    "       if \"aaron\" in dogname.lower():\n",
    "           if int(data[1]) >= 2000 and int(data[1]) <= 2012:\n",
    "               total_dog = total_dog + 1\n",
    "           print(data[0] + \" / \" + data[1])\n",
    "   print()\n",
    "   print(\"Zwischen 2000 und 2012 wurden \" + str(total_dog) + \" Hunde auf den Namen Aaron getauft.\")"
   ]
  },
  {
   "cell_type": "code",
   "execution_count": 232,
   "metadata": {},
   "outputs": [
    {
     "name": "stdout",
     "output_type": "stream",
     "text": [
      "4\n"
     ]
    }
   ],
   "source": [
    "liste = ['madi', 'badi', 'madi', 'madi', 'madi']\n",
    "\n",
    "ende = 0\n",
    "\n",
    "for resultat in liste:\n",
    "    if resultat == 'madi':\n",
    "        ende = ende + 1\n",
    "print(ende)\n",
    "           "
   ]
  },
  {
   "cell_type": "code",
   "execution_count": 265,
   "metadata": {},
   "outputs": [
    {
     "ename": "IndentationError",
     "evalue": "expected an indented block (<ipython-input-265-bb2b91b64b64>, line 3)",
     "output_type": "error",
     "traceback": [
      "\u001b[0;36m  File \u001b[0;32m\"<ipython-input-265-bb2b91b64b64>\"\u001b[0;36m, line \u001b[0;32m3\u001b[0m\n\u001b[0;31m    ende = 0\u001b[0m\n\u001b[0m       ^\u001b[0m\n\u001b[0;31mIndentationError\u001b[0m\u001b[0;31m:\u001b[0m expected an indented block\n"
     ]
    }
   ],
   "source": [
    "with open(\"20151001_hundenamen.csv\") as file:\n",
    "\n",
    "ende = 0   \n",
    "\n",
    "for new in file:\n",
    "    if new == 'Aaron'\n",
    "        ende = ende + 1\n",
    "print(new)\n"
   ]
  },
  {
   "cell_type": "code",
   "execution_count": 209,
   "metadata": {},
   "outputs": [
    {
     "name": "stdout",
     "output_type": "stream",
     "text": [
      "\"whity (Osmar)\",2003,\"m\"\n",
      "\n"
     ]
    }
   ],
   "source": [
    "file = open(\"20151001_hundenamen.csv\", 'r')\n",
    "\n",
    "for resultat in file:\n",
    "    if resultat[2] == 'Aaron':\n",
    "        print(resultat)\n",
    "        \n",
    "print(resultat)\n",
    "            \n",
    "            "
   ]
  },
  {
   "cell_type": "code",
   "execution_count": null,
   "metadata": {},
   "outputs": [],
   "source": []
  },
  {
   "cell_type": "code",
   "execution_count": null,
   "metadata": {},
   "outputs": [],
   "source": []
  },
  {
   "cell_type": "code",
   "execution_count": null,
   "metadata": {},
   "outputs": [],
   "source": []
  },
  {
   "cell_type": "code",
   "execution_count": null,
   "metadata": {},
   "outputs": [],
   "source": []
  },
  {
   "cell_type": "code",
   "execution_count": null,
   "metadata": {},
   "outputs": [],
   "source": []
  },
  {
   "cell_type": "code",
   "execution_count": null,
   "metadata": {},
   "outputs": [],
   "source": []
  },
  {
   "cell_type": "code",
   "execution_count": 79,
   "metadata": {},
   "outputs": [
    {
     "name": "stdout",
     "output_type": "stream",
     "text": [
      "Preisli: 4\n",
      "Total: 4\n",
      "Trinkgeld 5% 4.4\n"
     ]
    }
   ],
   "source": [
    "Preis = input('Preisli: ')   \n",
    "\n",
    "def tg_generator(Preis):\n",
    "    print(\"Total: \" +str(Preis) \n",
    "          +\"\\nTrinkgeld 5% \" +str(int(Preis) *1.1)) #hier ganz wichtige Lektion = str(int(Preis) * xxxx)\n",
    "          \n",
    "tg_generator(Preis)\n",
    "\n"
   ]
  },
  {
   "cell_type": "code",
   "execution_count": null,
   "metadata": {},
   "outputs": [],
   "source": []
  },
  {
   "cell_type": "code",
   "execution_count": null,
   "metadata": {},
   "outputs": [],
   "source": []
  },
  {
   "cell_type": "code",
   "execution_count": null,
   "metadata": {},
   "outputs": [],
   "source": []
  },
  {
   "cell_type": "code",
   "execution_count": null,
   "metadata": {},
   "outputs": [],
   "source": []
  },
  {
   "cell_type": "code",
   "execution_count": 80,
   "metadata": {},
   "outputs": [
    {
     "name": "stdout",
     "output_type": "stream",
     "text": [
      "Preis: 4\n",
      "Preis des Essens: 4\n",
      "Mit 5 % Trinkgeld: 4.2\n",
      "Mit 10 % Trinkgeld: 4.4\n",
      "Mit 15 % Trinkgeld: 4.6\n",
      "Mit 20 % Trinkgeld: 4.8\n"
     ]
    }
   ],
   "source": [
    "#plottis lösung\n",
    "\n",
    "def tipp_generator(price):\n",
    "   ## prozente in Liste fix hinterlegt\n",
    "   prozente = [5,10,15,20]\n",
    "   print(\"Preis des Essens: \" + str(price))\n",
    "   for i in range(0,4):\n",
    "       print(\"Mit \" + str(prozente[i]) + \" % Trinkgeld: \" +\n",
    "       str(int(price) * (1 + prozente[i]/100)))\n",
    "## fragt den Preis ab\n",
    "price = input(\"Preis: \")  \n",
    "tipp_generator(price)"
   ]
  },
  {
   "cell_type": "code",
   "execution_count": 62,
   "metadata": {},
   "outputs": [
    {
     "name": "stdout",
     "output_type": "stream",
     "text": [
      "Preis: 3\n"
     ]
    },
    {
     "ename": "TypeError",
     "evalue": "can't multiply sequence by non-int of type 'float'",
     "output_type": "error",
     "traceback": [
      "\u001b[0;31m---------------------------------------------------------------------------\u001b[0m",
      "\u001b[0;31mTypeError\u001b[0m                                 Traceback (most recent call last)",
      "\u001b[0;32m<ipython-input-62-166d97be7f76>\u001b[0m in \u001b[0;36m<module>\u001b[0;34m\u001b[0m\n\u001b[1;32m      1\u001b[0m \u001b[0mPreis\u001b[0m \u001b[0;34m=\u001b[0m \u001b[0minput\u001b[0m\u001b[0;34m(\u001b[0m\u001b[0;34m'Preis: '\u001b[0m\u001b[0;34m)\u001b[0m\u001b[0;34m\u001b[0m\u001b[0;34m\u001b[0m\u001b[0m\n\u001b[0;32m----> 2\u001b[0;31m \u001b[0mprint\u001b[0m\u001b[0;34m(\u001b[0m\u001b[0;34m\"Total: \"\u001b[0m \u001b[0;34m+\u001b[0m\u001b[0mstr\u001b[0m\u001b[0;34m(\u001b[0m\u001b[0mPreis\u001b[0m\u001b[0;34m)\u001b[0m \u001b[0;34m+\u001b[0m \u001b[0;34m\"Trinkgeld \"\u001b[0m \u001b[0;34m+\u001b[0m\u001b[0;34m(\u001b[0m\u001b[0mstr\u001b[0m\u001b[0;34m(\u001b[0m\u001b[0mPreis\u001b[0m\u001b[0;34m)\u001b[0m\u001b[0;34m*\u001b[0m\u001b[0;36m1.1\u001b[0m\u001b[0;34m)\u001b[0m\u001b[0;34m)\u001b[0m\u001b[0;34m\u001b[0m\u001b[0;34m\u001b[0m\u001b[0m\n\u001b[0m",
      "\u001b[0;31mTypeError\u001b[0m: can't multiply sequence by non-int of type 'float'"
     ]
    }
   ],
   "source": [
    "Preis = input('Preis: ')\n",
    "print(\"Total: \" +str(Preis) + \"Trinkgeld \" +(str(Preis)*1.1))"
   ]
  },
  {
   "cell_type": "code",
   "execution_count": 46,
   "metadata": {},
   "outputs": [
    {
     "name": "stdout",
     "output_type": "stream",
     "text": [
      "Preis: 23\n"
     ]
    }
   ],
   "source": [
    "Preis = input('Preis: ') "
   ]
  },
  {
   "cell_type": "code",
   "execution_count": 65,
   "metadata": {},
   "outputs": [
    {
     "name": "stdout",
     "output_type": "stream",
     "text": [
      "Total: 23\n"
     ]
    }
   ],
   "source": [
    "Preis = 23\n",
    "\n",
    "print(\"Total: \" +str(Preis))"
   ]
  },
  {
   "cell_type": "code",
   "execution_count": null,
   "metadata": {},
   "outputs": [],
   "source": []
  },
  {
   "cell_type": "code",
   "execution_count": null,
   "metadata": {},
   "outputs": [],
   "source": []
  },
  {
   "cell_type": "code",
   "execution_count": null,
   "metadata": {},
   "outputs": [],
   "source": []
  }
 ],
 "metadata": {
  "kernelspec": {
   "display_name": "Python 3",
   "language": "python",
   "name": "python3"
  },
  "language_info": {
   "codemirror_mode": {
    "name": "ipython",
    "version": 3
   },
   "file_extension": ".py",
   "mimetype": "text/x-python",
   "name": "python",
   "nbconvert_exporter": "python",
   "pygments_lexer": "ipython3",
   "version": "3.7.4"
  }
 },
 "nbformat": 4,
 "nbformat_minor": 2
}
