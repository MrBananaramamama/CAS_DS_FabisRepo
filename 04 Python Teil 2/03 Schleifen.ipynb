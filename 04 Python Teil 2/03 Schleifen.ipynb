{
 "cells": [
  {
   "cell_type": "markdown",
   "metadata": {},
   "source": [
    "# Schleifen\n",
    "\n",
    "Schleifen erlauben es dir, dafür zu sorgen, dass bestimmte Teile vom Programm mehrfach ausgeführt werden. Das ist praktisch, wenn du z.B. eine Liste von Studierenden hast und dafür sorgen möchtest, dass z. B. ein print() - Befehl einmal für jeden Studierenden ausgeführt wird. \n",
    "\n",
    "Eine Schleife erlaubt dir, sowas in recht wenig Code auszudrücken!"
   ]
  },
  {
   "cell_type": "markdown",
   "metadata": {},
   "source": [
    "## Die while-Schleife\n",
    "Ein Code-Block innerhalb einer if-elif-else-Struktur wird jeweils nur einmal ausgeführt. Bei Schleifen wie der **while-Schleife** wird ein Code-Block so lange mehrmals hintereinander ausgeführt, bis eine Abbruchbedingung erfüllt ist."
   ]
  },
  {
   "cell_type": "code",
   "execution_count": 12,
   "metadata": {},
   "outputs": [
    {
     "name": "stdout",
     "output_type": "stream",
     "text": [
      "0\n",
      "2\n",
      "4\n",
      "6\n",
      "8\n",
      "10\n",
      "12\n",
      "Ende der Durchsage\n"
     ]
    }
   ],
   "source": [
    "counter = 0\n",
    "\n",
    "while counter <= 12:\n",
    "    print(counter)\n",
    "    counter = counter + 2\n",
    "    \n",
    "print(\"Ende der Durchsage\")"
   ]
  },
  {
   "cell_type": "markdown",
   "metadata": {},
   "source": [
    "Innerhalb einer Schleife **muss** sich **unbedingt** ein Zustand in jedem Schritt verändern, damit die Schleifenbedingung nicht dauerhaft erfüllt ist, und das Programm die Schleife auch wieder verlassen kann:"
   ]
  },
  {
   "cell_type": "markdown",
   "metadata": {},
   "source": [
    "## Übung \n",
    "\n",
    "Repariere die kaputte schleife."
   ]
  },
  {
   "cell_type": "code",
   "execution_count": 39,
   "metadata": {},
   "outputs": [
    {
     "name": "stdout",
     "output_type": "stream",
     "text": [
      "Moritz\n",
      "Klara\n",
      "Monika\n",
      "Max\n"
     ]
    }
   ],
   "source": [
    "students = [\"Moritz\", \"Klara\", \"Monika\", \"Max\"]\n",
    "i = 0\n",
    "\n",
    "while i < len(students):\n",
    "    print(students[i])\n",
    "    i = i +1\n",
    "\n",
    "\n"
   ]
  },
  {
   "cell_type": "markdown",
   "metadata": {},
   "source": [
    " # i = i + 1, so geht er einen Schritt weiter.. noch nicht ganz klar, aber wichtig  \n",
    "    \n",
    "# counter = counter + 1"
   ]
  },
  {
   "cell_type": "markdown",
   "metadata": {},
   "source": [
    "## Die for-Schleife\n",
    "Neben der while-Schleife, die wir schon kennen gelernt haben, gibt es noch die **for-Schleife**. Hier durchläuft eine Schleifenvariable nacheinander die Werte in einer ebenfalls anzugebenden Sequenz.\n",
    "\n",
    "Bei dieser Sequenz kann es sich z. B. um eine Liste handeln."
   ]
  },
  {
   "cell_type": "code",
   "execution_count": 3,
   "metadata": {},
   "outputs": [
    {
     "name": "stdout",
     "output_type": "stream",
     "text": [
      "5\n",
      "8\n",
      "10\n"
     ]
    }
   ],
   "source": [
    "liste = [5, 8, 10]\n",
    "for i in liste:\n",
    "    print(i)"
   ]
  },
  {
   "cell_type": "code",
   "execution_count": 52,
   "metadata": {},
   "outputs": [
    {
     "name": "stdout",
     "output_type": "stream",
     "text": [
      "25\n",
      "26\n",
      "27\n"
     ]
    }
   ],
   "source": [
    "liste2 = [25, 26, 27]\n",
    "for b in liste2:\n",
    "    print(b)"
   ]
  },
  {
   "cell_type": "code",
   "execution_count": 49,
   "metadata": {},
   "outputs": [
    {
     "name": "stdout",
     "output_type": "stream",
     "text": [
      "Max\n",
      "Moritz\n",
      "Monika\n"
     ]
    }
   ],
   "source": [
    "students = [\"Max\", \"Moritz\", \"Monika\"]\n",
    "for i in students:\n",
    "    print(i)"
   ]
  },
  {
   "cell_type": "markdown",
   "metadata": {},
   "source": [
    "Wir sehen, dass unsere Schleifenvariable i nacheinander und automatisch die Werte aus der Liste annimmt. "
   ]
  },
  {
   "cell_type": "markdown",
   "metadata": {},
   "source": [
    "### Das range-Objekt\n",
    "Als Sequenz für eine for-Schleife braucht man nicht zwangsläufig eine Liste. Häufig greift man stattdessen auf ein **range**-Objekt zurück:"
   ]
  },
  {
   "cell_type": "code",
   "execution_count": 88,
   "metadata": {},
   "outputs": [
    {
     "name": "stdout",
     "output_type": "stream",
     "text": [
      "range(0, 10)\n"
     ]
    }
   ],
   "source": [
    "print(range(0,10))"
   ]
  },
  {
   "cell_type": "code",
   "execution_count": 2,
   "metadata": {},
   "outputs": [
    {
     "name": "stdout",
     "output_type": "stream",
     "text": [
      "0\n",
      "1\n",
      "2\n",
      "3\n",
      "4\n",
      "5\n",
      "6\n",
      "7\n",
      "8\n",
      "9\n"
     ]
    }
   ],
   "source": [
    "for i in range(0, 10):\n",
    "    print(i)"
   ]
  },
  {
   "cell_type": "markdown",
   "metadata": {},
   "source": [
    "## Übung \n",
    "Summiere alle Zahlen von 1 bis 100 mit hilfe einer for schleife und eines range objektes. "
   ]
  },
  {
   "cell_type": "code",
   "execution_count": 4,
   "metadata": {},
   "outputs": [
    {
     "name": "stdout",
     "output_type": "stream",
     "text": [
      "0\n"
     ]
    }
   ],
   "source": [
    "# Hier summieren wir alle Zahlen von 1 bis 10 mithilfe einer for-Schleife und eines range-Objektes auf\n",
    "sum = 0\n",
    "# Hier muss dein Code hin...\n",
    "print(sum)"
   ]
  },
  {
   "cell_type": "code",
   "execution_count": null,
   "metadata": {},
   "outputs": [],
   "source": []
  },
  {
   "cell_type": "code",
   "execution_count": 102,
   "metadata": {},
   "outputs": [
    {
     "name": "stdout",
     "output_type": "stream",
     "text": [
      "summe0\n",
      "zahl 0\n",
      "summe0\n",
      "zahl 1\n",
      "summe1\n",
      "zahl 2\n",
      "summe3\n",
      "zahl 3\n",
      "summe6\n",
      "zahl 4\n",
      "summe10\n",
      "zahl 5\n",
      "summe15\n",
      "zahl 6\n",
      "summe21\n",
      "zahl 7\n",
      "summe28\n",
      "zahl 8\n",
      "summe36\n",
      "zahl 9\n",
      "summe45\n",
      "zahl 10\n"
     ]
    }
   ],
   "source": [
    "summe = 0 #ist eine arte behälter, dorthin kann rein addiert werden\n",
    "ganze_range = range(0,11)\n",
    "\n",
    "for zahl in ganze_range:\n",
    "    print(\"summe\" + str(summe))\n",
    "    print('zahl ' + str(zahl))\n",
    "    summe = summe + zahl\n",
    "\n",
    "    \n",
    "#hier sehr wichtig: was wird geprinted?? das ist entscheidend"
   ]
  },
  {
   "cell_type": "code",
   "execution_count": 115,
   "metadata": {},
   "outputs": [
    {
     "name": "stdout",
     "output_type": "stream",
     "text": [
      "10\n",
      "11\n",
      "12\n",
      "13\n",
      "14\n",
      "15\n",
      "16\n",
      "17\n",
      "18\n",
      "19\n"
     ]
    }
   ],
   "source": [
    "summe = range(10,20)\n",
    "for alles in summe:\n",
    "    print(alles)"
   ]
  },
  {
   "cell_type": "code",
   "execution_count": 109,
   "metadata": {
    "scrolled": true
   },
   "outputs": [
    {
     "name": "stdout",
     "output_type": "stream",
     "text": [
      "0\n",
      "10\n",
      "21\n",
      "33\n",
      "46\n",
      "60\n",
      "75\n",
      "91\n",
      "108\n",
      "126\n"
     ]
    }
   ],
   "source": [
    "summe = 0\n",
    "\n",
    "for Zahl in range(10,20):\n",
    "    print(summe)\n",
    "    summe = summe + Zahl"
   ]
  },
  {
   "cell_type": "code",
   "execution_count": 122,
   "metadata": {},
   "outputs": [
    {
     "name": "stdout",
     "output_type": "stream",
     "text": [
      "0\n",
      "0\n",
      "1\n",
      "3\n",
      "6\n",
      "10\n"
     ]
    }
   ],
   "source": [
    "Wert = 0 \n",
    "\n",
    "Radius = range(0,6)\n",
    "\n",
    "for Summe in Radius:\n",
    "    print(Wert)\n",
    "    Wert = Wert + Summe"
   ]
  },
  {
   "cell_type": "markdown",
   "metadata": {},
   "source": [
    "## Continue & Break\n",
    "\n",
    "Wir können während eines Schleifendurchlaufs den aktuellen Durchlauf vorzeitig abbrechen und unmittelbar mit dem nächsten Schleifendurchlauf fortfahren (**continue**) oder auch die gesamte Schleife abbrechen (**break**).\n"
   ]
  },
  {
   "cell_type": "markdown",
   "metadata": {},
   "source": [
    "### Continue\n",
    "Wir brauchen einfach das Wort **continue** in eine Schleife zu schreiben, wenn an einer bestimmten Stelle zum neuen Schleifendurchlauf gesprungen werden soll:"
   ]
  },
  {
   "cell_type": "code",
   "execution_count": 5,
   "metadata": {},
   "outputs": [
    {
     "name": "stdout",
     "output_type": "stream",
     "text": [
      "0\n",
      "1\n",
      "2\n",
      "4\n",
      "5\n",
      "6\n",
      "7\n",
      "8\n",
      "9\n"
     ]
    }
   ],
   "source": [
    "for i in range(0, 10):\n",
    "    if i == 3:\n",
    "        continue\n",
    "    print(i)\n",
    "    \n",
    "# 3 wird übersprungen, dann gehts weiter"
   ]
  },
  {
   "cell_type": "markdown",
   "metadata": {},
   "source": [
    "In dem obigen Beispiel wird für den Wert 3 der print()-Befehl übersprungen."
   ]
  },
  {
   "cell_type": "markdown",
   "metadata": {},
   "source": [
    "### Break\n",
    "Auch **break** schreiben wir einfach in eine Zeile, und schon wird die ganze Schleife abgebrochen, wenn das Programm diese Stelle erreicht:\n"
   ]
  },
  {
   "cell_type": "code",
   "execution_count": 4,
   "metadata": {},
   "outputs": [
    {
     "name": "stdout",
     "output_type": "stream",
     "text": [
      "0\n",
      "1\n",
      "2\n"
     ]
    }
   ],
   "source": [
    "for i in range(0, 10):\n",
    "    if i == 3:\n",
    "        break\n",
    "    print(i)\n",
    "    \n",
    "# bei 3 hörts auf. "
   ]
  },
  {
   "cell_type": "markdown",
   "metadata": {},
   "source": [
    "## Übung\n",
    "\n",
    "Schreibe eine Schleife die alle elemente einer Liste zusammenzählt und wenn die summe größer als 10 ist hält sie an, und gibt die summe aus. "
   ]
  },
  {
   "cell_type": "code",
   "execution_count": 166,
   "metadata": {},
   "outputs": [
    {
     "name": "stdout",
     "output_type": "stream",
     "text": [
      "0\n",
      "4\n",
      "10\n"
     ]
    }
   ],
   "source": [
    "summe = 0 \n",
    "\n",
    "liste = [4, 6, 7, 2, 4, 6, 7]\n",
    "\n",
    "for resultat in liste:\n",
    "    if summe >= 12:\n",
    "        break\n",
    "    print(summe)\n",
    "    summe = summe + resultat\n"
   ]
  },
  {
   "cell_type": "markdown",
   "metadata": {},
   "source": [
    "## Übung 2\n",
    "\n",
    "Wir bauen einen Trump Twitter generator. \n",
    "\n"
   ]
  },
  {
   "cell_type": "markdown",
   "metadata": {},
   "source": [
    "Wir können in Python mit der **randint()**-Funktion zufällige Zahlen generieren. Doch um auf diese Funktion zurückzugreifen, müssen wir erst das random-Modul einbinden. :-)"
   ]
  },
  {
   "cell_type": "code",
   "execution_count": 174,
   "metadata": {},
   "outputs": [],
   "source": [
    "import random"
   ]
  },
  {
   "cell_type": "markdown",
   "metadata": {},
   "source": [
    "randint liefert zufällig Ganzzahlen aus einem Intervall, das wir der Funktion mitteilen müssen. Die beiden Grenzen und alle ganzen Zahlen innerhalb des Intervalls können dabei Werte von randint sein."
   ]
  },
  {
   "cell_type": "code",
   "execution_count": 175,
   "metadata": {},
   "outputs": [
    {
     "name": "stdout",
     "output_type": "stream",
     "text": [
      "1\n"
     ]
    }
   ],
   "source": [
    "print(random.randint(0, 4))"
   ]
  },
  {
   "cell_type": "code",
   "execution_count": 152,
   "metadata": {},
   "outputs": [
    {
     "name": "stdout",
     "output_type": "stream",
     "text": [
      "3\n"
     ]
    }
   ],
   "source": [
    "print(random.randint(0, 4))"
   ]
  },
  {
   "cell_type": "markdown",
   "metadata": {},
   "source": [
    "### Listen mit den Begriffen für unsere Tweets anlegen\n",
    "\n",
    "Hier haben wir einfach mal ein paar häufig auftretende Begriffe aus den Tweets kopiert ;-)"
   ]
  },
  {
   "cell_type": "code",
   "execution_count": 153,
   "metadata": {},
   "outputs": [],
   "source": [
    "part1 = [\"Putin,\", \"Hillary,\", \"Obama\", \"Fake News,\", \"Mexico,\", \"Arnold Schwarzenegger\", \"The Democrats\"]\n",
    "part2 = [\"no talent,\", \"on the way down,\", \"really poor numbers,\", \"nasty tone,\", \"looking like a fool,\", \"bad hombre,\"]\n",
    "part3 = [\"got destroyed by my ratings.\", \"rigged the election.\", \"had a much smaller crowd.\", \"will pay for the wall.\"]\n",
    "part4 = [\"So sad\", \"Apologize\", \"So true\", \"Media won't report\", \"Big trouble\", \"Fantastic job\", \"Stay tuned\"]"
   ]
  },
  {
   "cell_type": "code",
   "execution_count": 167,
   "metadata": {
    "scrolled": false
   },
   "outputs": [
    {
     "name": "stdout",
     "output_type": "stream",
     "text": [
      "[['Putin,', 'Hillary,', 'Obama', 'Fake News,', 'Mexico,', 'Arnold Schwarzenegger', 'The Democrats'], ['no talent,', 'on the way down,', 'really poor numbers,', 'nasty tone,', 'looking like a fool,', 'bad hombre,'], ['got destroyed by my ratings.', 'rigged the election.', 'had a much smaller crowd.', 'will pay for the wall.'], ['So sad', 'Apologize', 'So true', \"Media won't report\", 'Big trouble', 'Fantastic job', 'Stay tuned']]\n"
     ]
    }
   ],
   "source": [
    "# Wir können auch Listen von Listen erstellen!\n",
    "best_words = [part1, part2, part3, part4]\n",
    "print(best_words)"
   ]
  },
  {
   "cell_type": "code",
   "execution_count": 187,
   "metadata": {
    "scrolled": false
   },
   "outputs": [
    {
     "ename": "SyntaxError",
     "evalue": "invalid syntax (<ipython-input-187-149218c12286>, line 3)",
     "output_type": "error",
     "traceback": [
      "\u001b[0;36m  File \u001b[0;32m\"<ipython-input-187-149218c12286>\"\u001b[0;36m, line \u001b[0;32m3\u001b[0m\n\u001b[0;31m    print(RNG[random.randint(0,len()])\u001b[0m\n\u001b[0m                                    ^\u001b[0m\n\u001b[0;31mSyntaxError\u001b[0m\u001b[0;31m:\u001b[0m invalid syntax\n"
     ]
    }
   ],
   "source": [
    "RNG = [\"Fabian\", \"Roman\", \"Pädi\"]\n",
    "\n",
    "print(RNG[random.randint(0,len()])\n",
    "\n",
    "# Vorstufe wäre: print(RNG[0]), also rufe den 0-te Eintrag ab.\n",
    "# random.randint ruft einfach zahl von 1 bis 4 ab. so wird der random name generator ausgelöst\n"
   ]
  },
  {
   "cell_type": "code",
   "execution_count": 202,
   "metadata": {},
   "outputs": [
    {
     "name": "stdout",
     "output_type": "stream",
     "text": [
      "Putin,\n",
      "nasty tone,\n",
      "got destroyed by my ratings.\n",
      "Apologize\n"
     ]
    }
   ],
   "source": [
    "print(part1[random.randint(0,len(part1))])\n",
    "print(part2[random.randint(0,len(part2))])\n",
    "print(part3[random.randint(0,len(part3))])\n",
    "print(part4[random.randint(0,len(part4))])\n"
   ]
  },
  {
   "cell_type": "code",
   "execution_count": 273,
   "metadata": {},
   "outputs": [
    {
     "name": "stdout",
     "output_type": "stream",
     "text": [
      "Donald J. Trump just now tweeted:\n",
      " \"Fake News, no talent, will pay for the wall. So true!\"\n"
     ]
    }
   ],
   "source": [
    "print('Donald J. Trump just now tweeted:\\n \"'\n",
    "    + (part1[random.randint(0,len(part1))]),\n",
    "      (part2[random.randint(0,len(part2))]),\n",
    "      (part3[random.randint(0,len(part3))]),\n",
    "      (part4[random.randint(0,len(part4))])\n",
    "      + '!\"'\n",
    "     )"
   ]
  },
  {
   "cell_type": "code",
   "execution_count": 272,
   "metadata": {},
   "outputs": [
    {
     "name": "stdout",
     "output_type": "stream",
     "text": [
      "2019-09-19 19:14:40.409468\n"
     ]
    }
   ],
   "source": [
    "import datetime\n",
    "\n",
    "datetime.datetime.utcnow()\n",
    "datetime.datetime(2015, 2, 18, 4, 53)\n",
    "print(datetime.datetime.utcnow())\n"
   ]
  },
  {
   "cell_type": "code",
   "execution_count": null,
   "metadata": {},
   "outputs": [],
   "source": []
  },
  {
   "cell_type": "code",
   "execution_count": null,
   "metadata": {},
   "outputs": [],
   "source": []
  },
  {
   "cell_type": "code",
   "execution_count": null,
   "metadata": {},
   "outputs": [],
   "source": []
  },
  {
   "cell_type": "code",
   "execution_count": null,
   "metadata": {},
   "outputs": [],
   "source": []
  },
  {
   "cell_type": "code",
   "execution_count": null,
   "metadata": {},
   "outputs": [],
   "source": []
  },
  {
   "cell_type": "code",
   "execution_count": null,
   "metadata": {},
   "outputs": [],
   "source": []
  },
  {
   "cell_type": "code",
   "execution_count": null,
   "metadata": {},
   "outputs": [],
   "source": []
  },
  {
   "cell_type": "code",
   "execution_count": null,
   "metadata": {},
   "outputs": [],
   "source": []
  },
  {
   "cell_type": "code",
   "execution_count": null,
   "metadata": {},
   "outputs": [],
   "source": []
  },
  {
   "cell_type": "markdown",
   "metadata": {},
   "source": [
    "### Den Tweet-Generator bauen\n",
    " \n",
    "- Nimm jeweils ein zufälliges wort von jeder part1..4 liste. \n",
    "- Füge es zu unserem satz hinzu. \n",
    "- Wenn du fertig bist gib unseren satz als string aus. \n",
    "- z.B. Hillary, nasty tone, had a much smaller crowd. Media won't report!"
   ]
  },
  {
   "cell_type": "code",
   "execution_count": 5,
   "metadata": {},
   "outputs": [],
   "source": [
    "sentence = []\n",
    "\n",
    "### Hier muss dein code hin\n",
    "\n"
   ]
  },
  {
   "cell_type": "code",
   "execution_count": null,
   "metadata": {},
   "outputs": [],
   "source": []
  },
  {
   "cell_type": "code",
   "execution_count": null,
   "metadata": {},
   "outputs": [],
   "source": []
  },
  {
   "cell_type": "code",
   "execution_count": null,
   "metadata": {},
   "outputs": [],
   "source": []
  },
  {
   "cell_type": "code",
   "execution_count": null,
   "metadata": {},
   "outputs": [],
   "source": []
  },
  {
   "cell_type": "code",
   "execution_count": null,
   "metadata": {},
   "outputs": [],
   "source": []
  },
  {
   "cell_type": "code",
   "execution_count": 275,
   "metadata": {},
   "outputs": [
    {
     "ename": "IndexError",
     "evalue": "list index out of range",
     "output_type": "error",
     "traceback": [
      "\u001b[0;31m---------------------------------------------------------------------------\u001b[0m",
      "\u001b[0;31mIndexError\u001b[0m                                Traceback (most recent call last)",
      "\u001b[0;32m<ipython-input-275-ff7d2db8c6fe>\u001b[0m in \u001b[0;36m<module>\u001b[0;34m\u001b[0m\n\u001b[1;32m      2\u001b[0m \u001b[0;34m\u001b[0m\u001b[0m\n\u001b[1;32m      3\u001b[0m \u001b[0mwort1\u001b[0m \u001b[0;34m=\u001b[0m \u001b[0mpart1\u001b[0m\u001b[0;34m[\u001b[0m\u001b[0mrandom\u001b[0m\u001b[0;34m.\u001b[0m\u001b[0mrandint\u001b[0m\u001b[0;34m(\u001b[0m\u001b[0;36m0\u001b[0m\u001b[0;34m,\u001b[0m \u001b[0mlen\u001b[0m\u001b[0;34m(\u001b[0m\u001b[0mpart1\u001b[0m\u001b[0;34m)\u001b[0m\u001b[0;34m)\u001b[0m\u001b[0;34m]\u001b[0m\u001b[0;34m\u001b[0m\u001b[0;34m\u001b[0m\u001b[0m\n\u001b[0;32m----> 4\u001b[0;31m \u001b[0mwort2\u001b[0m \u001b[0;34m=\u001b[0m \u001b[0mpart2\u001b[0m\u001b[0;34m[\u001b[0m\u001b[0mrandom\u001b[0m\u001b[0;34m.\u001b[0m\u001b[0mrandint\u001b[0m\u001b[0;34m(\u001b[0m\u001b[0;36m0\u001b[0m\u001b[0;34m,\u001b[0m \u001b[0mlen\u001b[0m\u001b[0;34m(\u001b[0m\u001b[0mpart2\u001b[0m\u001b[0;34m)\u001b[0m\u001b[0;34m)\u001b[0m\u001b[0;34m]\u001b[0m\u001b[0;34m\u001b[0m\u001b[0;34m\u001b[0m\u001b[0m\n\u001b[0m\u001b[1;32m      5\u001b[0m \u001b[0mwort3\u001b[0m \u001b[0;34m=\u001b[0m \u001b[0mpart3\u001b[0m\u001b[0;34m[\u001b[0m\u001b[0mrandom\u001b[0m\u001b[0;34m.\u001b[0m\u001b[0mrandint\u001b[0m\u001b[0;34m(\u001b[0m\u001b[0;36m0\u001b[0m\u001b[0;34m,\u001b[0m \u001b[0mlen\u001b[0m\u001b[0;34m(\u001b[0m\u001b[0mpart3\u001b[0m\u001b[0;34m)\u001b[0m\u001b[0;34m)\u001b[0m\u001b[0;34m]\u001b[0m\u001b[0;34m\u001b[0m\u001b[0;34m\u001b[0m\u001b[0m\n\u001b[1;32m      6\u001b[0m \u001b[0mwort4\u001b[0m \u001b[0;34m=\u001b[0m \u001b[0mpart4\u001b[0m\u001b[0;34m[\u001b[0m\u001b[0mrandom\u001b[0m\u001b[0;34m.\u001b[0m\u001b[0mrandint\u001b[0m\u001b[0;34m(\u001b[0m\u001b[0;36m0\u001b[0m\u001b[0;34m,\u001b[0m \u001b[0mlen\u001b[0m\u001b[0;34m(\u001b[0m\u001b[0mpart4\u001b[0m\u001b[0;34m)\u001b[0m\u001b[0;34m)\u001b[0m\u001b[0;34m]\u001b[0m\u001b[0;34m\u001b[0m\u001b[0;34m\u001b[0m\u001b[0m\n",
      "\u001b[0;31mIndexError\u001b[0m: list index out of range"
     ]
    }
   ],
   "source": [
    "#Lösung\n",
    "\n",
    "wort1 = part1[random.randint(0, len(part1))]\n",
    "wort2 = part2[random.randint(0, len(part2))]\n",
    "wort3 = part3[random.randint(0, len(part3))]\n",
    "wort4 = part4[random.randint(0, len(part4))]\n",
    "\" \".join([wort1,wort2,wort3,wort4])"
   ]
  },
  {
   "cell_type": "code",
   "execution_count": null,
   "metadata": {},
   "outputs": [],
   "source": []
  }
 ],
 "metadata": {
  "kernelspec": {
   "display_name": "Python 3",
   "language": "python",
   "name": "python3"
  },
  "language_info": {
   "codemirror_mode": {
    "name": "ipython",
    "version": 3
   },
   "file_extension": ".py",
   "mimetype": "text/x-python",
   "name": "python",
   "nbconvert_exporter": "python",
   "pygments_lexer": "ipython3",
   "version": "3.7.4"
  }
 },
 "nbformat": 4,
 "nbformat_minor": 2
}
